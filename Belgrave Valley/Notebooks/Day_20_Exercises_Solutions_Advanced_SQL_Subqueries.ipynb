{
 "cells": [
  {
   "cell_type": "markdown",
   "metadata": {
    "Collapsed": "false"
   },
   "source": [
    "<img src=\"https://user-images.strikinglycdn.com/res/hrscywv4p/image/upload/c_limit,fl_lossy,h_300,w_300,f_auto,q_auto/1266110/Logo_wzxi0f.png\" style=\"float: left; margin: 20px; height: 55px\">\n"
   ]
  },
  {
   "cell_type": "markdown",
   "metadata": {
    "Collapsed": "true"
   },
   "source": [
    "# Advanced SQL - Subqueries"
   ]
  },
  {
   "cell_type": "markdown",
   "metadata": {},
   "source": [
    "#### 1. Return the destination airport name for those flights with a cargo_rev below the average. Use the table  tutorial.flight_revenue."
   ]
  },
  {
   "cell_type": "code",
   "execution_count": null,
   "metadata": {},
   "outputs": [],
   "source": [
    "'''SELECT \n",
    "  *\n",
    "FROM \n",
    "  tutorial.flight_revenue \n",
    "WHERE\n",
    "  cargo_rev < (SELECT avg(cargo_rev) FROM tutorial.flight_revenue) ;'''"
   ]
  },
  {
   "cell_type": "markdown",
   "metadata": {},
   "source": [
    "#### 2. Let's make sure the script above is accurate, reuse it to get the percentatge of airports below the average."
   ]
  },
  {
   "cell_type": "code",
   "execution_count": null,
   "metadata": {},
   "outputs": [],
   "source": [
    "'''SELECT \n",
    "  count(id)::float/(SELECT count(*) FROM tutorial.flight_revenue)\n",
    "FROM \n",
    "  tutorial.flight_revenue \n",
    "WHERE\n",
    "  cargo_rev < (SELECT avg(cargo_rev) FROM tutorial.flight_revenue) ;  '''"
   ]
  },
  {
   "cell_type": "code",
   "execution_count": null,
   "metadata": {},
   "outputs": [],
   "source": [
    "'''SELECT \n",
    "  cast(count(id) as float)/(SELECT count(*) FROM tutorial.flight_revenue)\n",
    "FROM \n",
    "  tutorial.flight_revenue \n",
    "WHERE\n",
    "  cargo_rev < (SELECT avg(cargo_rev) FROM tutorial.flight_revenue) ; ''' "
   ]
  },
  {
   "cell_type": "markdown",
   "metadata": {},
   "source": [
    "#### 3. Which percentage of flights have a first_class_rev between 13000 and 16000. The output must be a percentage with two decimals and the % symbol. Use the table  tutorial.flight_revenue \n"
   ]
  },
  {
   "cell_type": "code",
   "execution_count": null,
   "metadata": {},
   "outputs": [],
   "source": [
    "'''SELECT \n",
    "  concat(round(cast(100*count(id)::float/(SELECT count(*) FROM tutorial.flight_revenue) as numeric),2),'%')\n",
    "FROM \n",
    "  tutorial.flight_revenue \n",
    "WHERE\n",
    "  first_class_rev BETWEEN 13000 AND 16000  ;  '''"
   ]
  },
  {
   "cell_type": "markdown",
   "metadata": {},
   "source": [
    "#### 4. How many products have been sold more than 5 times. Use the table tutorial.excel_sql_transaction_data \n"
   ]
  },
  {
   "cell_type": "code",
   "execution_count": null,
   "metadata": {},
   "outputs": [],
   "source": [
    "'''SELECT \n",
    "  count(*) \n",
    "FROM \n",
    "tutorial.excel_sql_inventory_data te \n",
    "JOIN  \n",
    "  (SELECT \n",
    "    product_id, \n",
    "    count(transaction_id) total_transactions\n",
    "  FROM \n",
    "    tutorial.excel_sql_transaction_data \n",
    "  GROUP BY \n",
    "    1 \n",
    "  HAVING \n",
    "    count(transaction_id) > 5) tt ON tt.product_id = te.product_id\n",
    "ORDER BY\n",
    "  1 desc;'''"
   ]
  },
  {
   "cell_type": "markdown",
   "metadata": {},
   "source": [
    "#### 4.1 Now answer the same question but using a WITH statement\n"
   ]
  },
  {
   "cell_type": "code",
   "execution_count": null,
   "metadata": {},
   "outputs": [],
   "source": [
    "'''WITH transactions AS  \n",
    "  (SELECT \n",
    "    product_id, \n",
    "    count(transaction_id) total_transactions\n",
    "  FROM \n",
    "    tutorial.excel_sql_transaction_data \n",
    "  GROUP BY \n",
    "    1 \n",
    "  HAVING \n",
    "    count(transaction_id) > 5)\n",
    "\n",
    "SELECT \n",
    "  count(*) \n",
    "FROM \n",
    "tutorial.excel_sql_inventory_data te \n",
    "JOIN  \n",
    "  transactions tt ON tt.product_id = te.product_id\n",
    "ORDER BY\n",
    "  1 desc'''"
   ]
  },
  {
   "cell_type": "markdown",
   "metadata": {},
   "source": [
    "#### 5 How many products have been purchased on the 3rd and 7th day of the month. You will need to use date_trunc and extract functions.\n"
   ]
  },
  {
   "cell_type": "code",
   "execution_count": null,
   "metadata": {},
   "outputs": [],
   "source": [
    "'''SELECT\n",
    "  count(*)\n",
    "FROM\n",
    "  tutorial.excel_sql_inventory_data\n",
    "WHERE\n",
    "  product_id IN (\n",
    "                  SELECT \n",
    "                    product_id \n",
    "                  FROM \n",
    "                    tutorial.excel_sql_transaction_data \n",
    "                  WHERE extract('day' from date_trunc('day',time)) IN (3,7))'''\n"
   ]
  },
  {
   "cell_type": "markdown",
   "metadata": {},
   "source": [
    "#### 6. Which region have less than 11 sale agents? Use tutorial.sales_reps and tutorial.regions. (You must use a with statement)\n"
   ]
  },
  {
   "cell_type": "code",
   "execution_count": null,
   "metadata": {},
   "outputs": [],
   "source": [
    "'''WITH performance AS \n",
    "          ( SELECT \n",
    "              region_id\n",
    "              ,count(id) sales_agents\n",
    "            FROM \n",
    "              tutorial.sales_reps\n",
    "            GROUP BY\n",
    "              1\n",
    "            HAVING \n",
    "              count(id) <= 10)\n",
    "\n",
    "SELECT \n",
    "  name\n",
    "  ,sales_agents\n",
    "FROM \n",
    "  tutorial.regions r\n",
    "JOIN\n",
    "  performance p ON p.region_id = r.id'''\n"
   ]
  },
  {
   "cell_type": "markdown",
   "metadata": {},
   "source": [
    "#### 7. Return the average number of events per use for each location.\n"
   ]
  },
  {
   "cell_type": "code",
   "execution_count": null,
   "metadata": {},
   "outputs": [],
   "source": [
    "'''SELECT\n",
    "  location\n",
    "  ,avg(nu_events)\n",
    "FROM\n",
    "    (SELECT \n",
    "      location,\n",
    "      user_id, \n",
    "      count(distinct event_name) nu_events\n",
    "    FROM \n",
    "      tutorial.playbook_events \n",
    "    WHERE\n",
    "      \n",
    "    GROUP BY \n",
    "      1,2) a\n",
    "GROUP BY\n",
    "  1\n",
    "ORDER BY\n",
    "  2 desc;'''"
   ]
  },
  {
   "cell_type": "code",
   "execution_count": null,
   "metadata": {},
   "outputs": [],
   "source": []
  }
 ],
 "metadata": {
  "kernelspec": {
   "display_name": "Python 3",
   "language": "python",
   "name": "python3"
  },
  "language_info": {
   "codemirror_mode": {
    "name": "ipython",
    "version": 3
   },
   "file_extension": ".py",
   "mimetype": "text/x-python",
   "name": "python",
   "nbconvert_exporter": "python",
   "pygments_lexer": "ipython3",
   "version": "3.7.4"
  }
 },
 "nbformat": 4,
 "nbformat_minor": 2
}
