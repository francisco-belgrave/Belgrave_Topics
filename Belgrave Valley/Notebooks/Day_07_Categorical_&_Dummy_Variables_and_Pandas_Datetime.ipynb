{
 "cells": [
  {
   "cell_type": "markdown",
   "metadata": {
    "Collapsed": "false",
    "colab_type": "text",
    "id": "c8s8UWSIroSC"
   },
   "source": [
    "<img src=\"https://user-images.strikinglycdn.com/res/hrscywv4p/image/upload/c_limit,fl_lossy,h_300,w_300,f_auto,q_auto/1266110/Logo_wzxi0f.png\" style=\"float: left; margin: 20px; height: 55px\">\n",
    "\n",
    "***The greatest glory in living lies not in never falling, but in rising every time we fall - Nelson Mandela***"
   ]
  },
  {
   "cell_type": "markdown",
   "metadata": {
    "Collapsed": "false",
    "colab_type": "text",
    "heading_collapsed": true,
    "id": "Bou_i_goroSD"
   },
   "source": [
    "# 1. Categorical & Dummy Variables"
   ]
  },
  {
   "cell_type": "markdown",
   "metadata": {
    "Collapsed": "false",
    "colab_type": "text",
    "hidden": true,
    "id": "uEG2QCuCroSE"
   },
   "source": [
    "***LEARNING OBJECTIVES***\n",
    "*After this lesson, you will be able to:*\n",
    "- Be able to use `get_dummies` and other ways of converting categorical data to numerical data\n",
    "- How to create indicator variable (0 or 1) columns from categorical data"
   ]
  },
  {
   "cell_type": "markdown",
   "metadata": {
    "Collapsed": "true",
    "colab_type": "text",
    "heading_collapsed": true,
    "hidden": true,
    "id": "RCrlmEmEroSF"
   },
   "source": [
    "## Introduction"
   ]
  },
  {
   "cell_type": "markdown",
   "metadata": {
    "Collapsed": "false",
    "colab_type": "text",
    "hidden": true,
    "id": "7gFztRgnroSG"
   },
   "source": [
    "Regression analysis is used with numerical variables. Results only have a valid\n",
    "interpretation if it makes sense to assume that having a value of 2 on some variable\n",
    "is does indeed mean having twice as much of something as a 1, and having a 50 means\n",
    "50 times as much as 1. But, some times you need to work with categorical variables\n",
    "in which the different values have no real numerical relationship with each other.\n",
    "The solution is, to use categorical and dummy variables\n",
    "\n",
    "A categorical variable is an independent or predictor variable that contains\n",
    "values indicating membership in one of several possible categories. E.g.,\n",
    "gender (male or female), marital status (married, single, divorced,\n",
    "widowed). The categories are often assigned numerical values used as\n",
    "labels, e.g., 0 = male; 1 = female.\n",
    "\n",
    "A dummy variable is created by recoding categorial variables that have more than\n",
    "two categories into a series of binary variables.\n",
    "\n",
    "Here is more information on different [types of variables](http://www.indiana.edu/~educy520/sec5982/week_2/variable_types.pdf)."
   ]
  },
  {
   "cell_type": "markdown",
   "metadata": {
    "Collapsed": "false",
    "colab_type": "text",
    "heading_collapsed": true,
    "hidden": true,
    "id": "YKZ69XMlroSH"
   },
   "source": [
    "## Categorical Variables"
   ]
  },
  {
   "cell_type": "markdown",
   "metadata": {
    "Collapsed": "false",
    "colab_type": "text",
    "hidden": true,
    "id": "7CD-37kiroSJ"
   },
   "source": [
    "Why exactly would you want to use categorical variables?\n",
    "The categorical data type is useful in the following cases:\n",
    "\n",
    "- A string variable consisting of only a few different values. Converting such a\n",
    "    string variable to a categorical variable will save some memory, see  \n",
    "    [here](https://pandas-docs.github.io/pandas-docs-travis/categorical.html#categorical-memory).\n",
    "- The lexical order of a variable is not the same as the logical order (“one”, “two”, “three”). By converting to a \n",
    "    categorical and specifying an order on the categories, sorting and min/max will\n",
    "    use the logical order instead of the lexical order, see\n",
    "    [here](https://pandas-docs.github.io/pandas-docs-travis/categorical.html#categorical-sort)\n",
    "- As a signal to other python libraries that this column should be treated as a\n",
    "    categorical variable (e.g. to use suitable statistical methods or plot types).\n",
    "\n",
    "Let's use pandas to create a few Categorical Series. One way is by specifying\n",
    "`dtype=\"category\"` when constructing a Series:"
   ]
  },
  {
   "cell_type": "code",
   "execution_count": null,
   "metadata": {
    "Collapsed": "false",
    "ExecuteTime": {
     "end_time": "2019-09-04T13:05:01.335478Z",
     "start_time": "2019-09-04T13:05:01.331480Z"
    },
    "colab": {},
    "colab_type": "code",
    "hidden": true,
    "id": "niZegX8WroSK"
   },
   "outputs": [],
   "source": [
    "import pandas as pd\n",
    "import numpy as np"
   ]
  },
  {
   "cell_type": "code",
   "execution_count": null,
   "metadata": {
    "Collapsed": "false",
    "ExecuteTime": {
     "end_time": "2019-09-04T10:42:42.510435Z",
     "start_time": "2019-09-04T10:42:41.379328Z"
    },
    "colab": {},
    "colab_type": "code",
    "hidden": true,
    "id": "hruIGVoYroSP",
    "outputId": "0d95f0df-2cbc-40cf-d74c-33cf237e21f9"
   },
   "outputs": [
    {
     "data": {
      "text/plain": [
       "0    a\n",
       "1    b\n",
       "2    c\n",
       "3    a\n",
       "dtype: category\n",
       "Categories (3, object): [a, b, c]"
      ]
     },
     "execution_count": 2,
     "metadata": {
      "tags": []
     },
     "output_type": "execute_result"
    }
   ],
   "source": [
    "s = pd.Series([\"a\",\"b\",\"c\",\"a\"], dtype=\"category\")\n",
    "s"
   ]
  },
  {
   "cell_type": "markdown",
   "metadata": {
    "Collapsed": "false",
    "colab_type": "text",
    "hidden": true,
    "id": "HREzwggDroST"
   },
   "source": [
    "Another way is to convert an existing Series or column to a category dtype:"
   ]
  },
  {
   "cell_type": "code",
   "execution_count": null,
   "metadata": {
    "Collapsed": "false",
    "ExecuteTime": {
     "end_time": "2019-09-04T13:10:14.417225Z",
     "start_time": "2019-09-04T13:10:14.409214Z"
    },
    "colab": {},
    "colab_type": "code",
    "hidden": true,
    "id": "KZor-OPMroSU",
    "outputId": "7e47f890-6b06-4fda-9920-9363a566a169"
   },
   "outputs": [
    {
     "data": {
      "text/html": [
       "<div>\n",
       "<style scoped>\n",
       "    .dataframe tbody tr th:only-of-type {\n",
       "        vertical-align: middle;\n",
       "    }\n",
       "\n",
       "    .dataframe tbody tr th {\n",
       "        vertical-align: top;\n",
       "    }\n",
       "\n",
       "    .dataframe thead th {\n",
       "        text-align: right;\n",
       "    }\n",
       "</style>\n",
       "<table border=\"1\" class=\"dataframe\">\n",
       "  <thead>\n",
       "    <tr style=\"text-align: right;\">\n",
       "      <th></th>\n",
       "      <th>A</th>\n",
       "      <th>B</th>\n",
       "    </tr>\n",
       "  </thead>\n",
       "  <tbody>\n",
       "    <tr>\n",
       "      <th>0</th>\n",
       "      <td>a</td>\n",
       "      <td>a</td>\n",
       "    </tr>\n",
       "    <tr>\n",
       "      <th>1</th>\n",
       "      <td>b</td>\n",
       "      <td>b</td>\n",
       "    </tr>\n",
       "    <tr>\n",
       "      <th>2</th>\n",
       "      <td>c</td>\n",
       "      <td>c</td>\n",
       "    </tr>\n",
       "    <tr>\n",
       "      <th>3</th>\n",
       "      <td>a</td>\n",
       "      <td>a</td>\n",
       "    </tr>\n",
       "  </tbody>\n",
       "</table>\n",
       "</div>"
      ],
      "text/plain": [
       "   A  B\n",
       "0  a  a\n",
       "1  b  b\n",
       "2  c  c\n",
       "3  a  a"
      ]
     },
     "execution_count": 17,
     "metadata": {
      "tags": []
     },
     "output_type": "execute_result"
    }
   ],
   "source": [
    "df = pd.DataFrame({\"A\":[\"a\",\"b\",\"c\",\"a\"]})\n",
    "df[\"B\"] = df[\"A\"].astype('category')\n",
    "df"
   ]
  },
  {
   "cell_type": "code",
   "execution_count": null,
   "metadata": {
    "Collapsed": "false",
    "ExecuteTime": {
     "end_time": "2019-09-04T13:10:15.208354Z",
     "start_time": "2019-09-04T13:10:15.203367Z"
    },
    "colab": {},
    "colab_type": "code",
    "hidden": true,
    "id": "fJ00LkZJroSX",
    "outputId": "d779806d-ddfe-445f-8932-387c4b67be90"
   },
   "outputs": [
    {
     "data": {
      "text/plain": [
       "A      object\n",
       "B    category\n",
       "dtype: object"
      ]
     },
     "execution_count": 18,
     "metadata": {
      "tags": []
     },
     "output_type": "execute_result"
    }
   ],
   "source": [
    "df.dtypes"
   ]
  },
  {
   "cell_type": "markdown",
   "metadata": {
    "Collapsed": "false",
    "colab_type": "text",
    "hidden": true,
    "id": "Rz0ve5jRroSa"
   },
   "source": [
    "Analogously, all columns in an existing DataFrame can be batch converted using `DataFrame.astype()`"
   ]
  },
  {
   "cell_type": "code",
   "execution_count": null,
   "metadata": {
    "Collapsed": "false",
    "ExecuteTime": {
     "end_time": "2019-09-04T13:10:41.361508Z",
     "start_time": "2019-09-04T13:10:41.354520Z"
    },
    "colab": {},
    "colab_type": "code",
    "hidden": true,
    "id": "ZqSuuZKBroSb",
    "outputId": "a9bd8add-d1ed-4106-d5ed-6c126f80ad2b"
   },
   "outputs": [
    {
     "data": {
      "text/plain": [
       "A    category\n",
       "B    category\n",
       "dtype: object"
      ]
     },
     "execution_count": 20,
     "metadata": {
      "tags": []
     },
     "output_type": "execute_result"
    }
   ],
   "source": [
    "df_cat = df.astype('category')\n",
    "df_cat.dtypes"
   ]
  },
  {
   "cell_type": "markdown",
   "metadata": {
    "Collapsed": "false",
    "colab_type": "text",
    "hidden": true,
    "id": "8Zplg0coroSf"
   },
   "source": [
    "You can also pass a `pandas.Categorical` object to a Series or assign it to a DataFrame."
   ]
  },
  {
   "cell_type": "code",
   "execution_count": null,
   "metadata": {
    "Collapsed": "false",
    "ExecuteTime": {
     "end_time": "2019-09-04T12:59:33.754526Z",
     "start_time": "2019-09-04T12:59:33.744572Z"
    },
    "colab": {},
    "colab_type": "code",
    "hidden": true,
    "id": "_Zm1wxwsroSg"
   },
   "outputs": [],
   "source": [
    "raw_cat = pd.Categorical([\"a\",\"b\",\"c\",\"a\"], categories=[\"b\",\"c\",\"d\"],\n",
    "                          ordered=False)"
   ]
  },
  {
   "cell_type": "code",
   "execution_count": null,
   "metadata": {
    "Collapsed": "false",
    "ExecuteTime": {
     "end_time": "2019-09-04T12:59:48.045469Z",
     "start_time": "2019-09-04T12:59:48.037490Z"
    },
    "colab": {},
    "colab_type": "code",
    "hidden": true,
    "id": "CHnPEvrRroSk",
    "outputId": "b3863efa-a3fc-4a64-f53a-832a2cef120c"
   },
   "outputs": [
    {
     "data": {
      "text/plain": [
       "0    NaN\n",
       "1      b\n",
       "2      c\n",
       "3    NaN\n",
       "dtype: category\n",
       "Categories (3, object): [b, c, d]"
      ]
     },
     "execution_count": 6,
     "metadata": {
      "tags": []
     },
     "output_type": "execute_result"
    }
   ],
   "source": [
    "s = pd.Series(raw_cat)\n",
    "s"
   ]
  },
  {
   "cell_type": "markdown",
   "metadata": {
    "Collapsed": "false",
    "colab_type": "text",
    "hidden": true,
    "id": "gnfBYSHtroSo"
   },
   "source": [
    "Another way to create categorical columns is by using special functions, such as `cut()`, which groups data into discrete bins."
   ]
  },
  {
   "cell_type": "code",
   "execution_count": null,
   "metadata": {
    "Collapsed": "false",
    "ExecuteTime": {
     "end_time": "2019-09-04T13:07:17.452069Z",
     "start_time": "2019-09-04T13:07:17.443096Z"
    },
    "colab": {},
    "colab_type": "code",
    "hidden": true,
    "id": "Ojsb1S-uroSp",
    "outputId": "e59f7a73-4f39-4ab1-a8c4-e75d9b82b55b"
   },
   "outputs": [
    {
     "data": {
      "text/html": [
       "<div>\n",
       "<style scoped>\n",
       "    .dataframe tbody tr th:only-of-type {\n",
       "        vertical-align: middle;\n",
       "    }\n",
       "\n",
       "    .dataframe tbody tr th {\n",
       "        vertical-align: top;\n",
       "    }\n",
       "\n",
       "    .dataframe thead th {\n",
       "        text-align: right;\n",
       "    }\n",
       "</style>\n",
       "<table border=\"1\" class=\"dataframe\">\n",
       "  <thead>\n",
       "    <tr style=\"text-align: right;\">\n",
       "      <th></th>\n",
       "      <th>value</th>\n",
       "    </tr>\n",
       "  </thead>\n",
       "  <tbody>\n",
       "    <tr>\n",
       "      <th>0</th>\n",
       "      <td>90</td>\n",
       "    </tr>\n",
       "    <tr>\n",
       "      <th>1</th>\n",
       "      <td>26</td>\n",
       "    </tr>\n",
       "    <tr>\n",
       "      <th>2</th>\n",
       "      <td>8</td>\n",
       "    </tr>\n",
       "    <tr>\n",
       "      <th>3</th>\n",
       "      <td>50</td>\n",
       "    </tr>\n",
       "    <tr>\n",
       "      <th>4</th>\n",
       "      <td>61</td>\n",
       "    </tr>\n",
       "    <tr>\n",
       "      <th>5</th>\n",
       "      <td>31</td>\n",
       "    </tr>\n",
       "    <tr>\n",
       "      <th>6</th>\n",
       "      <td>97</td>\n",
       "    </tr>\n",
       "    <tr>\n",
       "      <th>7</th>\n",
       "      <td>69</td>\n",
       "    </tr>\n",
       "    <tr>\n",
       "      <th>8</th>\n",
       "      <td>87</td>\n",
       "    </tr>\n",
       "    <tr>\n",
       "      <th>9</th>\n",
       "      <td>80</td>\n",
       "    </tr>\n",
       "    <tr>\n",
       "      <th>10</th>\n",
       "      <td>99</td>\n",
       "    </tr>\n",
       "    <tr>\n",
       "      <th>11</th>\n",
       "      <td>37</td>\n",
       "    </tr>\n",
       "    <tr>\n",
       "      <th>12</th>\n",
       "      <td>83</td>\n",
       "    </tr>\n",
       "    <tr>\n",
       "      <th>13</th>\n",
       "      <td>18</td>\n",
       "    </tr>\n",
       "    <tr>\n",
       "      <th>14</th>\n",
       "      <td>2</td>\n",
       "    </tr>\n",
       "    <tr>\n",
       "      <th>15</th>\n",
       "      <td>6</td>\n",
       "    </tr>\n",
       "    <tr>\n",
       "      <th>16</th>\n",
       "      <td>71</td>\n",
       "    </tr>\n",
       "    <tr>\n",
       "      <th>17</th>\n",
       "      <td>48</td>\n",
       "    </tr>\n",
       "    <tr>\n",
       "      <th>18</th>\n",
       "      <td>11</td>\n",
       "    </tr>\n",
       "    <tr>\n",
       "      <th>19</th>\n",
       "      <td>8</td>\n",
       "    </tr>\n",
       "  </tbody>\n",
       "</table>\n",
       "</div>"
      ],
      "text/plain": [
       "    value\n",
       "0      90\n",
       "1      26\n",
       "2       8\n",
       "3      50\n",
       "4      61\n",
       "5      31\n",
       "6      97\n",
       "7      69\n",
       "8      87\n",
       "9      80\n",
       "10     99\n",
       "11     37\n",
       "12     83\n",
       "13     18\n",
       "14      2\n",
       "15      6\n",
       "16     71\n",
       "17     48\n",
       "18     11\n",
       "19      8"
      ]
     },
     "execution_count": 14,
     "metadata": {
      "tags": []
     },
     "output_type": "execute_result"
    }
   ],
   "source": [
    "df = pd.DataFrame({'value': np.random.randint(0, 100, 20)})\n",
    "df"
   ]
  },
  {
   "cell_type": "code",
   "execution_count": null,
   "metadata": {
    "Collapsed": "false",
    "ExecuteTime": {
     "end_time": "2019-09-04T13:07:10.666127Z",
     "start_time": "2019-09-04T13:07:10.660145Z"
    },
    "colab": {},
    "colab_type": "code",
    "hidden": true,
    "id": "6iMlNYHKroSt",
    "outputId": "fbb3914c-82ca-47ec-be21-d5f046b9693a"
   },
   "outputs": [
    {
     "data": {
      "text/plain": [
       "['0 - 9',\n",
       " '10 - 19',\n",
       " '20 - 29',\n",
       " '30 - 39',\n",
       " '40 - 49',\n",
       " '50 - 59',\n",
       " '60 - 69',\n",
       " '70 - 79',\n",
       " '80 - 89',\n",
       " '90 - 99']"
      ]
     },
     "execution_count": 13,
     "metadata": {
      "tags": []
     },
     "output_type": "execute_result"
    }
   ],
   "source": [
    "labels = [\"{0} - {1}\".format(i, i + 9) for i in range(0, 100, 10)]\n",
    "labels"
   ]
  },
  {
   "cell_type": "code",
   "execution_count": null,
   "metadata": {
    "Collapsed": "false",
    "ExecuteTime": {
     "end_time": "2019-09-04T13:06:27.225990Z",
     "start_time": "2019-09-04T13:06:27.207041Z"
    },
    "colab": {},
    "colab_type": "code",
    "hidden": true,
    "id": "u3tUFGHVroSx",
    "outputId": "50d06847-4f1a-4333-f5df-0b5ba10c32c4"
   },
   "outputs": [
    {
     "data": {
      "text/html": [
       "<div>\n",
       "<style scoped>\n",
       "    .dataframe tbody tr th:only-of-type {\n",
       "        vertical-align: middle;\n",
       "    }\n",
       "\n",
       "    .dataframe tbody tr th {\n",
       "        vertical-align: top;\n",
       "    }\n",
       "\n",
       "    .dataframe thead th {\n",
       "        text-align: right;\n",
       "    }\n",
       "</style>\n",
       "<table border=\"1\" class=\"dataframe\">\n",
       "  <thead>\n",
       "    <tr style=\"text-align: right;\">\n",
       "      <th></th>\n",
       "      <th>value</th>\n",
       "      <th>group</th>\n",
       "    </tr>\n",
       "  </thead>\n",
       "  <tbody>\n",
       "    <tr>\n",
       "      <th>0</th>\n",
       "      <td>9</td>\n",
       "      <td>0 - 9</td>\n",
       "    </tr>\n",
       "    <tr>\n",
       "      <th>1</th>\n",
       "      <td>71</td>\n",
       "      <td>70 - 79</td>\n",
       "    </tr>\n",
       "    <tr>\n",
       "      <th>2</th>\n",
       "      <td>4</td>\n",
       "      <td>0 - 9</td>\n",
       "    </tr>\n",
       "    <tr>\n",
       "      <th>3</th>\n",
       "      <td>67</td>\n",
       "      <td>60 - 69</td>\n",
       "    </tr>\n",
       "    <tr>\n",
       "      <th>4</th>\n",
       "      <td>46</td>\n",
       "      <td>40 - 49</td>\n",
       "    </tr>\n",
       "    <tr>\n",
       "      <th>5</th>\n",
       "      <td>53</td>\n",
       "      <td>50 - 59</td>\n",
       "    </tr>\n",
       "    <tr>\n",
       "      <th>6</th>\n",
       "      <td>43</td>\n",
       "      <td>40 - 49</td>\n",
       "    </tr>\n",
       "    <tr>\n",
       "      <th>7</th>\n",
       "      <td>29</td>\n",
       "      <td>20 - 29</td>\n",
       "    </tr>\n",
       "    <tr>\n",
       "      <th>8</th>\n",
       "      <td>20</td>\n",
       "      <td>20 - 29</td>\n",
       "    </tr>\n",
       "    <tr>\n",
       "      <th>9</th>\n",
       "      <td>55</td>\n",
       "      <td>50 - 59</td>\n",
       "    </tr>\n",
       "  </tbody>\n",
       "</table>\n",
       "</div>"
      ],
      "text/plain": [
       "   value    group\n",
       "0      9    0 - 9\n",
       "1     71  70 - 79\n",
       "2      4    0 - 9\n",
       "3     67  60 - 69\n",
       "4     46  40 - 49\n",
       "5     53  50 - 59\n",
       "6     43  40 - 49\n",
       "7     29  20 - 29\n",
       "8     20  20 - 29\n",
       "9     55  50 - 59"
      ]
     },
     "execution_count": 12,
     "metadata": {
      "tags": []
     },
     "output_type": "execute_result"
    }
   ],
   "source": [
    "df['group'] = pd.cut(df.value, range(0, 105, 10), right=False, labels=labels)\n",
    "df.head(10)"
   ]
  },
  {
   "cell_type": "markdown",
   "metadata": {
    "Collapsed": "false",
    "colab_type": "text",
    "hidden": true,
    "id": "5cWDUNB7roS1"
   },
   "source": [
    "In the examples above where we passed `dtype='category'`, we used the default behavior:\n",
    "\n",
    "Categories are inferred from the data.\n",
    "Categories are unordered.\n",
    "To control those behaviors, instead of passing 'category', use an instance of `CategoricalDtype`."
   ]
  },
  {
   "cell_type": "code",
   "execution_count": null,
   "metadata": {
    "Collapsed": "false",
    "ExecuteTime": {
     "end_time": "2019-09-04T13:18:47.272664Z",
     "start_time": "2019-09-04T13:18:47.268676Z"
    },
    "colab": {},
    "colab_type": "code",
    "hidden": true,
    "id": "fy_j0VT0roS1"
   },
   "outputs": [],
   "source": [
    "from pandas.api.types import CategoricalDtype"
   ]
  },
  {
   "cell_type": "code",
   "execution_count": null,
   "metadata": {
    "Collapsed": "false",
    "ExecuteTime": {
     "end_time": "2019-09-04T13:19:40.631187Z",
     "start_time": "2019-09-04T13:19:40.625205Z"
    },
    "colab": {},
    "colab_type": "code",
    "hidden": true,
    "id": "G35gk5f5roS4",
    "outputId": "28c78e82-2229-4bad-d7d9-d05ff8917524"
   },
   "outputs": [
    {
     "data": {
      "text/plain": [
       "0    a\n",
       "1    b\n",
       "2    c\n",
       "3    a\n",
       "dtype: object"
      ]
     },
     "execution_count": 22,
     "metadata": {
      "tags": []
     },
     "output_type": "execute_result"
    }
   ],
   "source": [
    "s = pd.Series([\"a\", \"b\", \"c\", \"a\"])\n",
    "s"
   ]
  },
  {
   "cell_type": "code",
   "execution_count": null,
   "metadata": {
    "Collapsed": "false",
    "ExecuteTime": {
     "end_time": "2019-09-04T13:19:41.287072Z",
     "start_time": "2019-09-04T13:19:41.283084Z"
    },
    "colab": {},
    "colab_type": "code",
    "hidden": true,
    "id": "FXQVc7ItroS7"
   },
   "outputs": [],
   "source": [
    "cat_type = CategoricalDtype(categories=[\"b\", \"c\", \"d\"], ordered=True)"
   ]
  },
  {
   "cell_type": "code",
   "execution_count": null,
   "metadata": {
    "Collapsed": "false",
    "ExecuteTime": {
     "end_time": "2019-09-04T13:19:41.854068Z",
     "start_time": "2019-09-04T13:19:41.845091Z"
    },
    "colab": {},
    "colab_type": "code",
    "hidden": true,
    "id": "EqvW6yBhroS-",
    "outputId": "6da7fcd1-fa48-401d-bc5e-3567f8b2ccb0"
   },
   "outputs": [
    {
     "data": {
      "text/plain": [
       "0    NaN\n",
       "1      b\n",
       "2      c\n",
       "3    NaN\n",
       "dtype: category\n",
       "Categories (3, object): [b < c < d]"
      ]
     },
     "execution_count": 24,
     "metadata": {
      "tags": []
     },
     "output_type": "execute_result"
    }
   ],
   "source": [
    "s_cat = s.astype(cat_type)\n",
    "s_cat"
   ]
  },
  {
   "cell_type": "markdown",
   "metadata": {
    "Collapsed": "false",
    "colab_type": "text",
    "hidden": true,
    "id": "3Z5PNYYTroTC"
   },
   "source": [
    "Similarly, a `CategoricalDtype` can be used with a DataFrame to ensure that categories are consistent among all columns."
   ]
  },
  {
   "cell_type": "code",
   "execution_count": null,
   "metadata": {
    "Collapsed": "false",
    "ExecuteTime": {
     "end_time": "2019-09-04T13:23:50.263748Z",
     "start_time": "2019-09-04T13:23:50.256734Z"
    },
    "colab": {},
    "colab_type": "code",
    "hidden": true,
    "id": "rMTQ1oBaroTC",
    "outputId": "ce3112ba-d2c5-404d-f8c7-d102785876bf"
   },
   "outputs": [
    {
     "data": {
      "text/html": [
       "<div>\n",
       "<style scoped>\n",
       "    .dataframe tbody tr th:only-of-type {\n",
       "        vertical-align: middle;\n",
       "    }\n",
       "\n",
       "    .dataframe tbody tr th {\n",
       "        vertical-align: top;\n",
       "    }\n",
       "\n",
       "    .dataframe thead th {\n",
       "        text-align: right;\n",
       "    }\n",
       "</style>\n",
       "<table border=\"1\" class=\"dataframe\">\n",
       "  <thead>\n",
       "    <tr style=\"text-align: right;\">\n",
       "      <th></th>\n",
       "      <th>A</th>\n",
       "      <th>B</th>\n",
       "    </tr>\n",
       "  </thead>\n",
       "  <tbody>\n",
       "    <tr>\n",
       "      <th>0</th>\n",
       "      <td>k</td>\n",
       "      <td>k</td>\n",
       "    </tr>\n",
       "    <tr>\n",
       "      <th>1</th>\n",
       "      <td>h</td>\n",
       "      <td>j</td>\n",
       "    </tr>\n",
       "    <tr>\n",
       "      <th>2</th>\n",
       "      <td>b</td>\n",
       "      <td>i</td>\n",
       "    </tr>\n",
       "    <tr>\n",
       "      <th>3</th>\n",
       "      <td>b</td>\n",
       "      <td>h</td>\n",
       "    </tr>\n",
       "    <tr>\n",
       "      <th>4</th>\n",
       "      <td>f</td>\n",
       "      <td>g</td>\n",
       "    </tr>\n",
       "    <tr>\n",
       "      <th>5</th>\n",
       "      <td>c</td>\n",
       "      <td>f</td>\n",
       "    </tr>\n",
       "    <tr>\n",
       "      <th>6</th>\n",
       "      <td>g</td>\n",
       "      <td>e</td>\n",
       "    </tr>\n",
       "    <tr>\n",
       "      <th>7</th>\n",
       "      <td>b</td>\n",
       "      <td>d</td>\n",
       "    </tr>\n",
       "    <tr>\n",
       "      <th>8</th>\n",
       "      <td>c</td>\n",
       "      <td>c</td>\n",
       "    </tr>\n",
       "    <tr>\n",
       "      <th>9</th>\n",
       "      <td>a</td>\n",
       "      <td>b</td>\n",
       "    </tr>\n",
       "    <tr>\n",
       "      <th>10</th>\n",
       "      <td>j</td>\n",
       "      <td>a</td>\n",
       "    </tr>\n",
       "  </tbody>\n",
       "</table>\n",
       "</div>"
      ],
      "text/plain": [
       "    A  B\n",
       "0   k  k\n",
       "1   h  j\n",
       "2   b  i\n",
       "3   b  h\n",
       "4   f  g\n",
       "5   c  f\n",
       "6   g  e\n",
       "7   b  d\n",
       "8   c  c\n",
       "9   a  b\n",
       "10  j  a"
      ]
     },
     "execution_count": 30,
     "metadata": {
      "tags": []
     },
     "output_type": "execute_result"
    }
   ],
   "source": [
    "df = pd.DataFrame({'A': list('khbbfcgbcaj'), 'B': list('kjihgfedcba')})\n",
    "df"
   ]
  },
  {
   "cell_type": "code",
   "execution_count": null,
   "metadata": {
    "Collapsed": "false",
    "ExecuteTime": {
     "end_time": "2019-09-04T13:23:51.470134Z",
     "start_time": "2019-09-04T13:23:51.466144Z"
    },
    "colab": {},
    "colab_type": "code",
    "hidden": true,
    "id": "Os8Un5O7roTF"
   },
   "outputs": [],
   "source": [
    "cat_type = CategoricalDtype(categories=list('abcdefghijk'), ordered=True)"
   ]
  },
  {
   "cell_type": "code",
   "execution_count": null,
   "metadata": {
    "Collapsed": "false",
    "ExecuteTime": {
     "end_time": "2019-09-04T13:25:09.006495Z",
     "start_time": "2019-09-04T13:25:08.998515Z"
    },
    "colab": {},
    "colab_type": "code",
    "hidden": true,
    "id": "NxcjMtzhroTJ",
    "outputId": "8988b5ec-cede-45d3-9a7a-7659722b2783"
   },
   "outputs": [
    {
     "data": {
      "text/plain": [
       "A    category\n",
       "B    category\n",
       "dtype: object"
      ]
     },
     "execution_count": 37,
     "metadata": {
      "tags": []
     },
     "output_type": "execute_result"
    }
   ],
   "source": [
    "df_cat = df.astype(cat_type)\n",
    "df_cat.dtypes"
   ]
  },
  {
   "cell_type": "code",
   "execution_count": null,
   "metadata": {
    "Collapsed": "false",
    "ExecuteTime": {
     "end_time": "2019-09-04T13:26:35.614458Z",
     "start_time": "2019-09-04T13:26:35.604484Z"
    },
    "colab": {},
    "colab_type": "code",
    "hidden": true,
    "id": "LwObGtQLroTN",
    "outputId": "fd15a92e-e8f1-472d-8fe0-8e76fbb58b19"
   },
   "outputs": [
    {
     "data": {
      "text/plain": [
       "0     k\n",
       "1     h\n",
       "2     b\n",
       "3     b\n",
       "4     f\n",
       "5     c\n",
       "6     g\n",
       "7     b\n",
       "8     c\n",
       "9     a\n",
       "10    j\n",
       "Name: A, dtype: category\n",
       "Categories (11, object): [a < b < c < d ... h < i < j < k]"
      ]
     },
     "execution_count": 42,
     "metadata": {
      "tags": []
     },
     "output_type": "execute_result"
    }
   ],
   "source": [
    "df_cat['A']"
   ]
  },
  {
   "cell_type": "code",
   "execution_count": null,
   "metadata": {
    "Collapsed": "false",
    "ExecuteTime": {
     "end_time": "2019-09-04T13:26:36.744942Z",
     "start_time": "2019-09-04T13:26:36.739940Z"
    },
    "colab": {},
    "colab_type": "code",
    "hidden": true,
    "id": "zBDQA6qyroTQ",
    "outputId": "76e65c28-214e-4c81-dea1-7f091e4c33e7"
   },
   "outputs": [
    {
     "data": {
      "text/plain": [
       "0     k\n",
       "1     j\n",
       "2     i\n",
       "3     h\n",
       "4     g\n",
       "5     f\n",
       "6     e\n",
       "7     d\n",
       "8     c\n",
       "9     b\n",
       "10    a\n",
       "Name: B, dtype: category\n",
       "Categories (11, object): [a < b < c < d ... h < i < j < k]"
      ]
     },
     "execution_count": 43,
     "metadata": {
      "tags": []
     },
     "output_type": "execute_result"
    }
   ],
   "source": [
    "df_cat['B']"
   ]
  },
  {
   "cell_type": "code",
   "execution_count": null,
   "metadata": {
    "Collapsed": "false",
    "ExecuteTime": {
     "end_time": "2019-09-04T13:26:20.493871Z",
     "start_time": "2019-09-04T13:26:20.482868Z"
    },
    "colab": {},
    "colab_type": "code",
    "hidden": true,
    "id": "p7BdnXg4roTT",
    "outputId": "06de59e5-b226-4733-a6f1-2e1fdb986da8"
   },
   "outputs": [
    {
     "data": {
      "text/html": [
       "<div>\n",
       "<style scoped>\n",
       "    .dataframe tbody tr th:only-of-type {\n",
       "        vertical-align: middle;\n",
       "    }\n",
       "\n",
       "    .dataframe tbody tr th {\n",
       "        vertical-align: top;\n",
       "    }\n",
       "\n",
       "    .dataframe thead th {\n",
       "        text-align: right;\n",
       "    }\n",
       "</style>\n",
       "<table border=\"1\" class=\"dataframe\">\n",
       "  <thead>\n",
       "    <tr style=\"text-align: right;\">\n",
       "      <th></th>\n",
       "      <th>A</th>\n",
       "      <th>B</th>\n",
       "    </tr>\n",
       "  </thead>\n",
       "  <tbody>\n",
       "    <tr>\n",
       "      <th>0</th>\n",
       "      <td>k</td>\n",
       "      <td>k</td>\n",
       "    </tr>\n",
       "    <tr>\n",
       "      <th>1</th>\n",
       "      <td>h</td>\n",
       "      <td>j</td>\n",
       "    </tr>\n",
       "    <tr>\n",
       "      <th>2</th>\n",
       "      <td>NaN</td>\n",
       "      <td>i</td>\n",
       "    </tr>\n",
       "    <tr>\n",
       "      <th>3</th>\n",
       "      <td>NaN</td>\n",
       "      <td>h</td>\n",
       "    </tr>\n",
       "    <tr>\n",
       "      <th>4</th>\n",
       "      <td>f</td>\n",
       "      <td>g</td>\n",
       "    </tr>\n",
       "    <tr>\n",
       "      <th>5</th>\n",
       "      <td>NaN</td>\n",
       "      <td>f</td>\n",
       "    </tr>\n",
       "    <tr>\n",
       "      <th>6</th>\n",
       "      <td>g</td>\n",
       "      <td>e</td>\n",
       "    </tr>\n",
       "    <tr>\n",
       "      <th>7</th>\n",
       "      <td>NaN</td>\n",
       "      <td>d</td>\n",
       "    </tr>\n",
       "    <tr>\n",
       "      <th>8</th>\n",
       "      <td>NaN</td>\n",
       "      <td>NaN</td>\n",
       "    </tr>\n",
       "    <tr>\n",
       "      <th>9</th>\n",
       "      <td>NaN</td>\n",
       "      <td>NaN</td>\n",
       "    </tr>\n",
       "    <tr>\n",
       "      <th>10</th>\n",
       "      <td>j</td>\n",
       "      <td>NaN</td>\n",
       "    </tr>\n",
       "  </tbody>\n",
       "</table>\n",
       "</div>"
      ],
      "text/plain": [
       "      A    B\n",
       "0     k    k\n",
       "1     h    j\n",
       "2   NaN    i\n",
       "3   NaN    h\n",
       "4     f    g\n",
       "5   NaN    f\n",
       "6     g    e\n",
       "7   NaN    d\n",
       "8   NaN  NaN\n",
       "9   NaN  NaN\n",
       "10    j  NaN"
      ]
     },
     "execution_count": 41,
     "metadata": {
      "tags": []
     },
     "output_type": "execute_result"
    }
   ],
   "source": [
    "df_cat_c= df_cat[df_cat > 'c']\n",
    "df_cat_c"
   ]
  },
  {
   "cell_type": "markdown",
   "metadata": {
    "Collapsed": "false",
    "colab_type": "text",
    "hidden": true,
    "id": "O4JMSuDUroTX"
   },
   "source": [
    "If you already have `codes` and `categories`, you can use the `from_codes()` constructor to save the factorize step during normal constructor mode:"
   ]
  },
  {
   "cell_type": "code",
   "execution_count": null,
   "metadata": {
    "Collapsed": "false",
    "ExecuteTime": {
     "end_time": "2019-09-04T13:28:20.474751Z",
     "start_time": "2019-09-04T13:28:20.469758Z"
    },
    "colab": {},
    "colab_type": "code",
    "hidden": true,
    "id": "M27t_1NxroTZ",
    "outputId": "6e9a5b85-3c9f-49e2-89b8-fcc64e7861e8"
   },
   "outputs": [
    {
     "data": {
      "text/plain": [
       "array([0, 1, 0, 0, 0])"
      ]
     },
     "execution_count": 46,
     "metadata": {
      "tags": []
     },
     "output_type": "execute_result"
    }
   ],
   "source": [
    "splitter = np.random.choice([0, 1], 5, p=[0.5, 0.5])\n",
    "splitter"
   ]
  },
  {
   "cell_type": "code",
   "execution_count": null,
   "metadata": {
    "Collapsed": "false",
    "ExecuteTime": {
     "end_time": "2019-09-04T13:28:41.583806Z",
     "start_time": "2019-09-04T13:28:41.576826Z"
    },
    "colab": {},
    "colab_type": "code",
    "hidden": true,
    "id": "fdZcG8eOroTe",
    "outputId": "8ec8465e-b0d2-4586-e3d8-c622fb2846cc"
   },
   "outputs": [
    {
     "data": {
      "text/plain": [
       "0    train\n",
       "1     test\n",
       "2    train\n",
       "3    train\n",
       "4    train\n",
       "dtype: category\n",
       "Categories (2, object): [train, test]"
      ]
     },
     "execution_count": 47,
     "metadata": {
      "tags": []
     },
     "output_type": "execute_result"
    }
   ],
   "source": [
    "s = pd.Series(pd.Categorical.from_codes(splitter, categories=[\"train\", \"test\"]))\n",
    "s"
   ]
  },
  {
   "cell_type": "markdown",
   "metadata": {
    "Collapsed": "false",
    "colab_type": "text",
    "hidden": true,
    "id": "W7BuHzatroTh"
   },
   "source": [
    "**Check:** Why would you use a categorical variable?\n",
    "[categorical variable](https://pandas-docs.github.io/pandas-docs-travis/categorical.html)"
   ]
  },
  {
   "cell_type": "markdown",
   "metadata": {
    "Collapsed": "true",
    "colab_type": "text",
    "heading_collapsed": true,
    "hidden": true,
    "id": "HY838OomroTi"
   },
   "source": [
    "## Dummy Variables"
   ]
  },
  {
   "cell_type": "markdown",
   "metadata": {
    "Collapsed": "false",
    "colab_type": "text",
    "hidden": true,
    "id": "gjVrcnUoroTi"
   },
   "source": [
    "As mentioned above, a dummy variable is created by recoding categorial variables that\n",
    "have more than two categories into a series of binary variables.\n",
    "<br>E.g., Marital status, if originally labelled 1=married, 2=single, and 3=divorced,\n",
    "widowed, or separated, could be redefined in terms of two variables as follows:\n",
    "var_1: 1=single, 0=otherwise. Var_2: 1=divorced, widowed, or separated, 0=otherwise."
   ]
  },
  {
   "cell_type": "markdown",
   "metadata": {
    "Collapsed": "false",
    "ExecuteTime": {
     "end_time": "2019-09-04T13:35:36.878199Z",
     "start_time": "2019-09-04T13:35:36.871171Z"
    },
    "colab_type": "text",
    "hidden": true,
    "id": "ZbKmawSAroTj"
   },
   "source": [
    "Let's use [`pd.get_dummies()`](https://pandas.pydata.org/pandas-docs/stable/reference/api/pandas.get_dummies.html) to convert categorical variables into dummy variables.\n",
    "First let's create a small DataFrame with categorical variables."
   ]
  },
  {
   "cell_type": "code",
   "execution_count": null,
   "metadata": {
    "Collapsed": "false",
    "ExecuteTime": {
     "end_time": "2019-09-04T13:36:32.314739Z",
     "start_time": "2019-09-04T13:36:32.306762Z"
    },
    "colab": {},
    "colab_type": "code",
    "hidden": true,
    "id": "QUXCSx_jroTk",
    "outputId": "df4efe04-1f83-450c-f1c8-1c36da51b1d1"
   },
   "outputs": [
    {
     "data": {
      "text/html": [
       "<div>\n",
       "<style scoped>\n",
       "    .dataframe tbody tr th:only-of-type {\n",
       "        vertical-align: middle;\n",
       "    }\n",
       "\n",
       "    .dataframe tbody tr th {\n",
       "        vertical-align: top;\n",
       "    }\n",
       "\n",
       "    .dataframe thead th {\n",
       "        text-align: right;\n",
       "    }\n",
       "</style>\n",
       "<table border=\"1\" class=\"dataframe\">\n",
       "  <thead>\n",
       "    <tr style=\"text-align: right;\">\n",
       "      <th></th>\n",
       "      <th>key</th>\n",
       "      <th>data1</th>\n",
       "    </tr>\n",
       "  </thead>\n",
       "  <tbody>\n",
       "    <tr>\n",
       "      <th>0</th>\n",
       "      <td>b</td>\n",
       "      <td>0</td>\n",
       "    </tr>\n",
       "    <tr>\n",
       "      <th>1</th>\n",
       "      <td>b</td>\n",
       "      <td>1</td>\n",
       "    </tr>\n",
       "    <tr>\n",
       "      <th>2</th>\n",
       "      <td>a</td>\n",
       "      <td>2</td>\n",
       "    </tr>\n",
       "    <tr>\n",
       "      <th>3</th>\n",
       "      <td>c</td>\n",
       "      <td>3</td>\n",
       "    </tr>\n",
       "    <tr>\n",
       "      <th>4</th>\n",
       "      <td>a</td>\n",
       "      <td>4</td>\n",
       "    </tr>\n",
       "    <tr>\n",
       "      <th>5</th>\n",
       "      <td>b</td>\n",
       "      <td>5</td>\n",
       "    </tr>\n",
       "  </tbody>\n",
       "</table>\n",
       "</div>"
      ],
      "text/plain": [
       "  key  data1\n",
       "0   b      0\n",
       "1   b      1\n",
       "2   a      2\n",
       "3   c      3\n",
       "4   a      4\n",
       "5   b      5"
      ]
     },
     "execution_count": 52,
     "metadata": {
      "tags": []
     },
     "output_type": "execute_result"
    }
   ],
   "source": [
    "df = pd.DataFrame({'key': list('bbacab'), 'data1': range(6)})\n",
    "df"
   ]
  },
  {
   "cell_type": "markdown",
   "metadata": {
    "Collapsed": "false",
    "colab_type": "text",
    "hidden": true,
    "id": "mZtX4EFqroTm"
   },
   "source": [
    "Now, let's convert the categorical variables into dummy variables."
   ]
  },
  {
   "cell_type": "code",
   "execution_count": null,
   "metadata": {
    "Collapsed": "false",
    "ExecuteTime": {
     "end_time": "2019-09-04T13:36:57.814695Z",
     "start_time": "2019-09-04T13:36:57.807743Z"
    },
    "colab": {},
    "colab_type": "code",
    "hidden": true,
    "id": "XBfWBo1FroTn",
    "outputId": "513fc37c-7db4-4623-bbf1-3d93df9a8d70"
   },
   "outputs": [
    {
     "data": {
      "text/html": [
       "<div>\n",
       "<style scoped>\n",
       "    .dataframe tbody tr th:only-of-type {\n",
       "        vertical-align: middle;\n",
       "    }\n",
       "\n",
       "    .dataframe tbody tr th {\n",
       "        vertical-align: top;\n",
       "    }\n",
       "\n",
       "    .dataframe thead th {\n",
       "        text-align: right;\n",
       "    }\n",
       "</style>\n",
       "<table border=\"1\" class=\"dataframe\">\n",
       "  <thead>\n",
       "    <tr style=\"text-align: right;\">\n",
       "      <th></th>\n",
       "      <th>a</th>\n",
       "      <th>b</th>\n",
       "      <th>c</th>\n",
       "    </tr>\n",
       "  </thead>\n",
       "  <tbody>\n",
       "    <tr>\n",
       "      <th>0</th>\n",
       "      <td>0</td>\n",
       "      <td>1</td>\n",
       "      <td>0</td>\n",
       "    </tr>\n",
       "    <tr>\n",
       "      <th>1</th>\n",
       "      <td>0</td>\n",
       "      <td>1</td>\n",
       "      <td>0</td>\n",
       "    </tr>\n",
       "    <tr>\n",
       "      <th>2</th>\n",
       "      <td>1</td>\n",
       "      <td>0</td>\n",
       "      <td>0</td>\n",
       "    </tr>\n",
       "    <tr>\n",
       "      <th>3</th>\n",
       "      <td>0</td>\n",
       "      <td>0</td>\n",
       "      <td>1</td>\n",
       "    </tr>\n",
       "    <tr>\n",
       "      <th>4</th>\n",
       "      <td>1</td>\n",
       "      <td>0</td>\n",
       "      <td>0</td>\n",
       "    </tr>\n",
       "    <tr>\n",
       "      <th>5</th>\n",
       "      <td>0</td>\n",
       "      <td>1</td>\n",
       "      <td>0</td>\n",
       "    </tr>\n",
       "  </tbody>\n",
       "</table>\n",
       "</div>"
      ],
      "text/plain": [
       "   a  b  c\n",
       "0  0  1  0\n",
       "1  0  1  0\n",
       "2  1  0  0\n",
       "3  0  0  1\n",
       "4  1  0  0\n",
       "5  0  1  0"
      ]
     },
     "execution_count": 53,
     "metadata": {
      "tags": []
     },
     "output_type": "execute_result"
    }
   ],
   "source": [
    "pd.get_dummies(df['key'])"
   ]
  },
  {
   "cell_type": "code",
   "execution_count": null,
   "metadata": {
    "Collapsed": "false",
    "ExecuteTime": {
     "end_time": "2019-09-04T13:40:05.110793Z",
     "start_time": "2019-09-04T13:40:05.099788Z"
    },
    "colab": {},
    "colab_type": "code",
    "hidden": true,
    "id": "Bjm_8vDProTq",
    "outputId": "80acee8e-8f23-4754-e45f-fbbc251dc434"
   },
   "outputs": [
    {
     "data": {
      "text/html": [
       "<div>\n",
       "<style scoped>\n",
       "    .dataframe tbody tr th:only-of-type {\n",
       "        vertical-align: middle;\n",
       "    }\n",
       "\n",
       "    .dataframe tbody tr th {\n",
       "        vertical-align: top;\n",
       "    }\n",
       "\n",
       "    .dataframe thead th {\n",
       "        text-align: right;\n",
       "    }\n",
       "</style>\n",
       "<table border=\"1\" class=\"dataframe\">\n",
       "  <thead>\n",
       "    <tr style=\"text-align: right;\">\n",
       "      <th></th>\n",
       "      <th>0</th>\n",
       "      <th>1</th>\n",
       "      <th>2</th>\n",
       "      <th>3</th>\n",
       "      <th>4</th>\n",
       "      <th>5</th>\n",
       "    </tr>\n",
       "  </thead>\n",
       "  <tbody>\n",
       "    <tr>\n",
       "      <th>0</th>\n",
       "      <td>1</td>\n",
       "      <td>0</td>\n",
       "      <td>0</td>\n",
       "      <td>0</td>\n",
       "      <td>0</td>\n",
       "      <td>0</td>\n",
       "    </tr>\n",
       "    <tr>\n",
       "      <th>1</th>\n",
       "      <td>0</td>\n",
       "      <td>1</td>\n",
       "      <td>0</td>\n",
       "      <td>0</td>\n",
       "      <td>0</td>\n",
       "      <td>0</td>\n",
       "    </tr>\n",
       "    <tr>\n",
       "      <th>2</th>\n",
       "      <td>0</td>\n",
       "      <td>0</td>\n",
       "      <td>1</td>\n",
       "      <td>0</td>\n",
       "      <td>0</td>\n",
       "      <td>0</td>\n",
       "    </tr>\n",
       "    <tr>\n",
       "      <th>3</th>\n",
       "      <td>0</td>\n",
       "      <td>0</td>\n",
       "      <td>0</td>\n",
       "      <td>1</td>\n",
       "      <td>0</td>\n",
       "      <td>0</td>\n",
       "    </tr>\n",
       "    <tr>\n",
       "      <th>4</th>\n",
       "      <td>0</td>\n",
       "      <td>0</td>\n",
       "      <td>0</td>\n",
       "      <td>0</td>\n",
       "      <td>1</td>\n",
       "      <td>0</td>\n",
       "    </tr>\n",
       "    <tr>\n",
       "      <th>5</th>\n",
       "      <td>0</td>\n",
       "      <td>0</td>\n",
       "      <td>0</td>\n",
       "      <td>0</td>\n",
       "      <td>0</td>\n",
       "      <td>1</td>\n",
       "    </tr>\n",
       "  </tbody>\n",
       "</table>\n",
       "</div>"
      ],
      "text/plain": [
       "   0  1  2  3  4  5\n",
       "0  1  0  0  0  0  0\n",
       "1  0  1  0  0  0  0\n",
       "2  0  0  1  0  0  0\n",
       "3  0  0  0  1  0  0\n",
       "4  0  0  0  0  1  0\n",
       "5  0  0  0  0  0  1"
      ]
     },
     "execution_count": 54,
     "metadata": {
      "tags": []
     },
     "output_type": "execute_result"
    }
   ],
   "source": [
    "pd.get_dummies(df['data1'])"
   ]
  },
  {
   "cell_type": "code",
   "execution_count": null,
   "metadata": {
    "Collapsed": "false",
    "ExecuteTime": {
     "end_time": "2019-09-04T13:41:08.762006Z",
     "start_time": "2019-09-04T13:41:08.758007Z"
    },
    "colab": {},
    "colab_type": "code",
    "hidden": true,
    "id": "TgTmBD-9roTt"
   },
   "outputs": [],
   "source": [
    "s1 = ['a', 'b', np.nan]"
   ]
  },
  {
   "cell_type": "code",
   "execution_count": null,
   "metadata": {
    "Collapsed": "false",
    "ExecuteTime": {
     "end_time": "2019-09-04T13:41:15.898750Z",
     "start_time": "2019-09-04T13:41:15.883790Z"
    },
    "colab": {},
    "colab_type": "code",
    "hidden": true,
    "id": "B5l8DQD4roTw",
    "outputId": "7d78d645-3fd0-40ca-fdd6-82cc6952fb86"
   },
   "outputs": [
    {
     "data": {
      "text/html": [
       "<div>\n",
       "<style scoped>\n",
       "    .dataframe tbody tr th:only-of-type {\n",
       "        vertical-align: middle;\n",
       "    }\n",
       "\n",
       "    .dataframe tbody tr th {\n",
       "        vertical-align: top;\n",
       "    }\n",
       "\n",
       "    .dataframe thead th {\n",
       "        text-align: right;\n",
       "    }\n",
       "</style>\n",
       "<table border=\"1\" class=\"dataframe\">\n",
       "  <thead>\n",
       "    <tr style=\"text-align: right;\">\n",
       "      <th></th>\n",
       "      <th>a</th>\n",
       "      <th>b</th>\n",
       "    </tr>\n",
       "  </thead>\n",
       "  <tbody>\n",
       "    <tr>\n",
       "      <th>0</th>\n",
       "      <td>1</td>\n",
       "      <td>0</td>\n",
       "    </tr>\n",
       "    <tr>\n",
       "      <th>1</th>\n",
       "      <td>0</td>\n",
       "      <td>1</td>\n",
       "    </tr>\n",
       "    <tr>\n",
       "      <th>2</th>\n",
       "      <td>0</td>\n",
       "      <td>0</td>\n",
       "    </tr>\n",
       "  </tbody>\n",
       "</table>\n",
       "</div>"
      ],
      "text/plain": [
       "   a  b\n",
       "0  1  0\n",
       "1  0  1\n",
       "2  0  0"
      ]
     },
     "execution_count": 56,
     "metadata": {
      "tags": []
     },
     "output_type": "execute_result"
    }
   ],
   "source": [
    " pd.get_dummies(s1)"
   ]
  },
  {
   "cell_type": "code",
   "execution_count": null,
   "metadata": {
    "Collapsed": "false",
    "ExecuteTime": {
     "end_time": "2019-09-04T13:41:23.942100Z",
     "start_time": "2019-09-04T13:41:23.933120Z"
    },
    "colab": {},
    "colab_type": "code",
    "hidden": true,
    "id": "FsnMDxhKroTy",
    "outputId": "25022950-4e06-4d95-bfe2-30999c633233"
   },
   "outputs": [
    {
     "data": {
      "text/html": [
       "<div>\n",
       "<style scoped>\n",
       "    .dataframe tbody tr th:only-of-type {\n",
       "        vertical-align: middle;\n",
       "    }\n",
       "\n",
       "    .dataframe tbody tr th {\n",
       "        vertical-align: top;\n",
       "    }\n",
       "\n",
       "    .dataframe thead th {\n",
       "        text-align: right;\n",
       "    }\n",
       "</style>\n",
       "<table border=\"1\" class=\"dataframe\">\n",
       "  <thead>\n",
       "    <tr style=\"text-align: right;\">\n",
       "      <th></th>\n",
       "      <th>a</th>\n",
       "      <th>b</th>\n",
       "      <th>nan</th>\n",
       "    </tr>\n",
       "  </thead>\n",
       "  <tbody>\n",
       "    <tr>\n",
       "      <th>0</th>\n",
       "      <td>1</td>\n",
       "      <td>0</td>\n",
       "      <td>0</td>\n",
       "    </tr>\n",
       "    <tr>\n",
       "      <th>1</th>\n",
       "      <td>0</td>\n",
       "      <td>1</td>\n",
       "      <td>0</td>\n",
       "    </tr>\n",
       "    <tr>\n",
       "      <th>2</th>\n",
       "      <td>0</td>\n",
       "      <td>0</td>\n",
       "      <td>1</td>\n",
       "    </tr>\n",
       "  </tbody>\n",
       "</table>\n",
       "</div>"
      ],
      "text/plain": [
       "   a  b  NaN\n",
       "0  1  0    0\n",
       "1  0  1    0\n",
       "2  0  0    1"
      ]
     },
     "execution_count": 57,
     "metadata": {
      "tags": []
     },
     "output_type": "execute_result"
    }
   ],
   "source": [
    "pd.get_dummies(s1, dummy_na=True)"
   ]
  },
  {
   "cell_type": "code",
   "execution_count": null,
   "metadata": {
    "Collapsed": "false",
    "ExecuteTime": {
     "end_time": "2019-09-04T13:41:41.413269Z",
     "start_time": "2019-09-04T13:41:41.401274Z"
    },
    "colab": {},
    "colab_type": "code",
    "hidden": true,
    "id": "mlRpLysEroT1",
    "outputId": "2f6458da-66a1-40b8-89ac-cc0ac5c35058"
   },
   "outputs": [
    {
     "data": {
      "text/html": [
       "<div>\n",
       "<style scoped>\n",
       "    .dataframe tbody tr th:only-of-type {\n",
       "        vertical-align: middle;\n",
       "    }\n",
       "\n",
       "    .dataframe tbody tr th {\n",
       "        vertical-align: top;\n",
       "    }\n",
       "\n",
       "    .dataframe thead th {\n",
       "        text-align: right;\n",
       "    }\n",
       "</style>\n",
       "<table border=\"1\" class=\"dataframe\">\n",
       "  <thead>\n",
       "    <tr style=\"text-align: right;\">\n",
       "      <th></th>\n",
       "      <th>A</th>\n",
       "      <th>B</th>\n",
       "      <th>C</th>\n",
       "    </tr>\n",
       "  </thead>\n",
       "  <tbody>\n",
       "    <tr>\n",
       "      <th>0</th>\n",
       "      <td>a</td>\n",
       "      <td>b</td>\n",
       "      <td>1</td>\n",
       "    </tr>\n",
       "    <tr>\n",
       "      <th>1</th>\n",
       "      <td>b</td>\n",
       "      <td>a</td>\n",
       "      <td>2</td>\n",
       "    </tr>\n",
       "    <tr>\n",
       "      <th>2</th>\n",
       "      <td>a</td>\n",
       "      <td>c</td>\n",
       "      <td>3</td>\n",
       "    </tr>\n",
       "  </tbody>\n",
       "</table>\n",
       "</div>"
      ],
      "text/plain": [
       "   A  B  C\n",
       "0  a  b  1\n",
       "1  b  a  2\n",
       "2  a  c  3"
      ]
     },
     "execution_count": 59,
     "metadata": {
      "tags": []
     },
     "output_type": "execute_result"
    }
   ],
   "source": [
    "df = pd.DataFrame({'A': ['a', 'b', 'a'], 'B': ['b', 'a', 'c'], 'C': [1, 2, 3]})\n",
    "df"
   ]
  },
  {
   "cell_type": "code",
   "execution_count": null,
   "metadata": {
    "Collapsed": "false",
    "ExecuteTime": {
     "end_time": "2019-09-04T13:42:00.392164Z",
     "start_time": "2019-09-04T13:42:00.368204Z"
    },
    "colab": {},
    "colab_type": "code",
    "hidden": true,
    "id": "fuRnipwUroT3",
    "outputId": "c0b89f50-59c0-447e-fe79-64341066b085"
   },
   "outputs": [
    {
     "data": {
      "text/html": [
       "<div>\n",
       "<style scoped>\n",
       "    .dataframe tbody tr th:only-of-type {\n",
       "        vertical-align: middle;\n",
       "    }\n",
       "\n",
       "    .dataframe tbody tr th {\n",
       "        vertical-align: top;\n",
       "    }\n",
       "\n",
       "    .dataframe thead th {\n",
       "        text-align: right;\n",
       "    }\n",
       "</style>\n",
       "<table border=\"1\" class=\"dataframe\">\n",
       "  <thead>\n",
       "    <tr style=\"text-align: right;\">\n",
       "      <th></th>\n",
       "      <th>C</th>\n",
       "      <th>col1_a</th>\n",
       "      <th>col1_b</th>\n",
       "      <th>col2_a</th>\n",
       "      <th>col2_b</th>\n",
       "      <th>col2_c</th>\n",
       "    </tr>\n",
       "  </thead>\n",
       "  <tbody>\n",
       "    <tr>\n",
       "      <th>0</th>\n",
       "      <td>1</td>\n",
       "      <td>1</td>\n",
       "      <td>0</td>\n",
       "      <td>0</td>\n",
       "      <td>1</td>\n",
       "      <td>0</td>\n",
       "    </tr>\n",
       "    <tr>\n",
       "      <th>1</th>\n",
       "      <td>2</td>\n",
       "      <td>0</td>\n",
       "      <td>1</td>\n",
       "      <td>1</td>\n",
       "      <td>0</td>\n",
       "      <td>0</td>\n",
       "    </tr>\n",
       "    <tr>\n",
       "      <th>2</th>\n",
       "      <td>3</td>\n",
       "      <td>1</td>\n",
       "      <td>0</td>\n",
       "      <td>0</td>\n",
       "      <td>0</td>\n",
       "      <td>1</td>\n",
       "    </tr>\n",
       "  </tbody>\n",
       "</table>\n",
       "</div>"
      ],
      "text/plain": [
       "   C  col1_a  col1_b  col2_a  col2_b  col2_c\n",
       "0  1       1       0       0       1       0\n",
       "1  2       0       1       1       0       0\n",
       "2  3       1       0       0       0       1"
      ]
     },
     "execution_count": 60,
     "metadata": {
      "tags": []
     },
     "output_type": "execute_result"
    }
   ],
   "source": [
    "pd.get_dummies(df, prefix=['col1', 'col2'])"
   ]
  },
  {
   "cell_type": "markdown",
   "metadata": {
    "Collapsed": "false",
    "colab_type": "text",
    "hidden": true,
    "id": "IlP889MbroT6"
   },
   "source": [
    "**Check:** Why are dummy variable useful?\n",
    "[dummy variable](http://dss.princeton.edu/online_help/analysis/dummy_variables.htm)"
   ]
  },
  {
   "cell_type": "markdown",
   "metadata": {
    "Collapsed": "true",
    "colab_type": "text",
    "heading_collapsed": true,
    "hidden": true,
    "id": "5PQNsgxBroT8"
   },
   "source": [
    "## Conclusion "
   ]
  },
  {
   "cell_type": "markdown",
   "metadata": {
    "Collapsed": "false",
    "colab_type": "text",
    "hidden": true,
    "id": "iecf1mT_roT8"
   },
   "source": [
    "We learned that categorical and dummy variables are very useful. Some applications\n",
    "are: turning a string value that may only have a few different values into a\n",
    "categorical variable or when the lexical order of a variable is not the same as\n",
    "the logical order. When we start Regression, it will become even more\n",
    "apparent how valuable these tools are to help us manage our data and make\n",
    "it easier to analyze."
   ]
  },
  {
   "cell_type": "markdown",
   "metadata": {
    "Collapsed": "true",
    "colab_type": "text",
    "heading_collapsed": true,
    "id": "VfbYux8XroT9"
   },
   "source": [
    "# 2. Pandas Datetime"
   ]
  },
  {
   "cell_type": "markdown",
   "metadata": {
    "Collapsed": "false",
    "colab_type": "text",
    "hidden": true,
    "id": "H0X7_oDlroT-"
   },
   "source": [
    "Extraterrestrials, visitors, little green men, UFOs, swap gas. What do they want? Where do they come from? Do they like cheeseburgers? This dataset will likely not help you answer these questions. It does contain over 80,000 records of UFO sightings dating back as far as 1949. With the latitude and longitude data it is possible to assess the global distribution of UFO sightings (patterns could aid in planetary defense if invasion proves to be imminent). The dates and times, along with the duration of the UFO's stay and description of the craft also lend themselves to predictions. Can we find patterns in their arrival times and durations? Do aliens work on weekends? Help defend the planet and learn about your fellow earthlings (and when they are most likely to see ET)."
   ]
  },
  {
   "cell_type": "code",
   "execution_count": null,
   "metadata": {
    "Collapsed": "false",
    "ExecuteTime": {
     "end_time": "2019-09-04T14:51:19.160652Z",
     "start_time": "2019-09-04T14:51:19.156695Z"
    },
    "colab": {},
    "colab_type": "code",
    "hidden": true,
    "id": "zgAo8s2TroT_"
   },
   "outputs": [],
   "source": [
    "import pandas as pd\n",
    "import datetime\n",
    "from IPython.display import display\n",
    "import matplotlib.pyplot as plt"
   ]
  },
  {
   "cell_type": "markdown",
   "metadata": {
    "Collapsed": "false",
    "colab_type": "text",
    "hidden": true,
    "id": "Jr7MlTFJroUD"
   },
   "source": [
    "Creating the todays date:"
   ]
  },
  {
   "cell_type": "code",
   "execution_count": null,
   "metadata": {
    "Collapsed": "false",
    "ExecuteTime": {
     "end_time": "2019-09-04T14:51:19.242431Z",
     "start_time": "2019-09-04T14:51:19.162647Z"
    },
    "colab": {},
    "colab_type": "code",
    "hidden": true,
    "id": "9vtNDdqfroUE",
    "outputId": "d49547a6-6c9c-49f5-cefc-5e64851ff92e"
   },
   "outputs": [
    {
     "name": "stdout",
     "output_type": "stream",
     "text": [
      "Today's date:\n",
      "2019-09-04 00:00:00\n"
     ]
    }
   ],
   "source": [
    "now = pd.to_datetime(str(datetime.date.today()), format='%Y-%m-%d')\n",
    "print(\"Today's date:\")\n",
    "print(now)"
   ]
  },
  {
   "cell_type": "markdown",
   "metadata": {
    "Collapsed": "false",
    "colab_type": "text",
    "hidden": true,
    "id": "wTCezOGmroUH"
   },
   "source": [
    "We will work with a smaller dataset of 347 random rows with no missing data. You can find the whole dataset [here](https://www.kaggle.com/camnugent/ufo-sightings-around-the-world). Reading the [csv](Resources/ufo.csv):"
   ]
  },
  {
   "cell_type": "code",
   "execution_count": 1,
   "metadata": {
    "Collapsed": "false",
    "ExecuteTime": {
     "end_time": "2019-09-04T14:51:19.270366Z",
     "start_time": "2019-09-04T14:51:19.244426Z"
    },
    "colab": {},
    "colab_type": "code",
    "hidden": true,
    "id": "txZC3XSbroUI",
    "outputId": "93862dff-2568-41a1-bffe-70fd1bae58d8"
   },
   "outputs": [
    {
     "data": {
      "text/html": [
       "<div>\n",
       "<style scoped>\n",
       "    .dataframe tbody tr th:only-of-type {\n",
       "        vertical-align: middle;\n",
       "    }\n",
       "\n",
       "    .dataframe tbody tr th {\n",
       "        vertical-align: top;\n",
       "    }\n",
       "\n",
       "    .dataframe thead th {\n",
       "        text-align: right;\n",
       "    }\n",
       "</style>\n",
       "<table border=\"1\" class=\"dataframe\">\n",
       "  <thead>\n",
       "    <tr style=\"text-align: right;\">\n",
       "      <th></th>\n",
       "      <th>Date_time</th>\n",
       "      <th>city</th>\n",
       "      <th>state/province</th>\n",
       "      <th>country</th>\n",
       "      <th>UFO_shape</th>\n",
       "      <th>length_of_encounter_seconds</th>\n",
       "      <th>described_duration_of_encounter</th>\n",
       "      <th>description</th>\n",
       "      <th>date_documented</th>\n",
       "      <th>latitude</th>\n",
       "      <th>longitude</th>\n",
       "    </tr>\n",
       "  </thead>\n",
       "  <tbody>\n",
       "    <tr>\n",
       "      <td>0</td>\n",
       "      <td>06-01-1910 15:00</td>\n",
       "      <td>wills point</td>\n",
       "      <td>tx</td>\n",
       "      <td>us</td>\n",
       "      <td>cigar</td>\n",
       "      <td>120</td>\n",
       "      <td>2 minutes</td>\n",
       "      <td>Cigar shaped object moving from West to East</td>\n",
       "      <td>04/16/2005</td>\n",
       "      <td>32.709167</td>\n",
       "      <td>-96.008056</td>\n",
       "    </tr>\n",
       "    <tr>\n",
       "      <td>1</td>\n",
       "      <td>06-11-1920 21:00</td>\n",
       "      <td>cicero</td>\n",
       "      <td>in</td>\n",
       "      <td>us</td>\n",
       "      <td>unknown</td>\n",
       "      <td>60</td>\n",
       "      <td>1 minute</td>\n",
       "      <td>((NUFORC Note:  Probable hoax.  Note date.  PD...</td>\n",
       "      <td>05/12/2009</td>\n",
       "      <td>40.123889</td>\n",
       "      <td>-86.013333</td>\n",
       "    </tr>\n",
       "    <tr>\n",
       "      <td>2</td>\n",
       "      <td>07-05-1929 14:00</td>\n",
       "      <td>buchanan  (or burns)</td>\n",
       "      <td>or</td>\n",
       "      <td>us</td>\n",
       "      <td>disk</td>\n",
       "      <td>60</td>\n",
       "      <td>1min</td>\n",
       "      <td>we were traveling east of burns&amp;#44clmbing up ...</td>\n",
       "      <td>08/16/2002</td>\n",
       "      <td>43.642500</td>\n",
       "      <td>-118.627500</td>\n",
       "    </tr>\n",
       "    <tr>\n",
       "      <td>3</td>\n",
       "      <td>06-01-1931 13:00</td>\n",
       "      <td>abilene</td>\n",
       "      <td>ks</td>\n",
       "      <td>us</td>\n",
       "      <td>disk</td>\n",
       "      <td>1800</td>\n",
       "      <td>30 min. approx.</td>\n",
       "      <td>This is a what my mother related to me regardi...</td>\n",
       "      <td>02/14/2006</td>\n",
       "      <td>38.917222</td>\n",
       "      <td>-97.213611</td>\n",
       "    </tr>\n",
       "    <tr>\n",
       "      <td>4</td>\n",
       "      <td>06-01-1939 20:00</td>\n",
       "      <td>waterloo</td>\n",
       "      <td>al</td>\n",
       "      <td>us</td>\n",
       "      <td>fireball</td>\n",
       "      <td>300</td>\n",
       "      <td>5 minutes</td>\n",
       "      <td>4 high school students see bright&amp;#44 ground-l...</td>\n",
       "      <td>02/21/2014</td>\n",
       "      <td>34.918056</td>\n",
       "      <td>-88.064167</td>\n",
       "    </tr>\n",
       "  </tbody>\n",
       "</table>\n",
       "</div>"
      ],
      "text/plain": [
       "          Date_time                  city state/province country UFO_shape  \\\n",
       "0  06-01-1910 15:00           wills point             tx      us     cigar   \n",
       "1  06-11-1920 21:00                cicero             in      us   unknown   \n",
       "2  07-05-1929 14:00  buchanan  (or burns)             or      us      disk   \n",
       "3  06-01-1931 13:00               abilene             ks      us      disk   \n",
       "4  06-01-1939 20:00              waterloo             al      us  fireball   \n",
       "\n",
       "   length_of_encounter_seconds described_duration_of_encounter  \\\n",
       "0                          120                       2 minutes   \n",
       "1                           60                        1 minute   \n",
       "2                           60                            1min   \n",
       "3                         1800                 30 min. approx.   \n",
       "4                          300                       5 minutes   \n",
       "\n",
       "                                         description date_documented  \\\n",
       "0       Cigar shaped object moving from West to East      04/16/2005   \n",
       "1  ((NUFORC Note:  Probable hoax.  Note date.  PD...      05/12/2009   \n",
       "2  we were traveling east of burns&#44clmbing up ...      08/16/2002   \n",
       "3  This is a what my mother related to me regardi...      02/14/2006   \n",
       "4  4 high school students see bright&#44 ground-l...      02/21/2014   \n",
       "\n",
       "    latitude   longitude  \n",
       "0  32.709167  -96.008056  \n",
       "1  40.123889  -86.013333  \n",
       "2  43.642500 -118.627500  \n",
       "3  38.917222  -97.213611  \n",
       "4  34.918056  -88.064167  "
      ]
     },
     "execution_count": 1,
     "metadata": {},
     "output_type": "execute_result"
    }
   ],
   "source": [
    "df = pd.read_csv('Resources/ufo.csv')\n",
    "df.head()"
   ]
  },
  {
   "cell_type": "markdown",
   "metadata": {
    "Collapsed": "false",
    "colab_type": "text",
    "hidden": true,
    "id": "pMD5eI-YroUK"
   },
   "source": [
    "Write a Pandas program to calculate all the sighting days of the unidentified flying object (ufo) from current date."
   ]
  },
  {
   "cell_type": "code",
   "execution_count": null,
   "metadata": {
    "Collapsed": "false",
    "ExecuteTime": {
     "end_time": "2019-09-04T14:51:19.333188Z",
     "start_time": "2019-09-04T14:51:19.275359Z"
    },
    "colab": {},
    "colab_type": "code",
    "hidden": true,
    "id": "tolG0ggNroUL",
    "outputId": "ab119424-292c-4e13-9a6a-52586a349efc"
   },
   "outputs": [
    {
     "name": "stdout",
     "output_type": "stream",
     "text": [
      "Original Dataframe:\n"
     ]
    },
    {
     "data": {
      "text/html": [
       "<div>\n",
       "<style scoped>\n",
       "    .dataframe tbody tr th:only-of-type {\n",
       "        vertical-align: middle;\n",
       "    }\n",
       "\n",
       "    .dataframe tbody tr th {\n",
       "        vertical-align: top;\n",
       "    }\n",
       "\n",
       "    .dataframe thead th {\n",
       "        text-align: right;\n",
       "    }\n",
       "</style>\n",
       "<table border=\"1\" class=\"dataframe\">\n",
       "  <thead>\n",
       "    <tr style=\"text-align: right;\">\n",
       "      <th></th>\n",
       "      <th>Date_time</th>\n",
       "      <th>city</th>\n",
       "      <th>state/province</th>\n",
       "      <th>country</th>\n",
       "      <th>UFO_shape</th>\n",
       "      <th>length_of_encounter_seconds</th>\n",
       "      <th>described_duration_of_encounter</th>\n",
       "      <th>description</th>\n",
       "      <th>date_documented</th>\n",
       "      <th>latitude</th>\n",
       "      <th>longitude</th>\n",
       "    </tr>\n",
       "  </thead>\n",
       "  <tbody>\n",
       "    <tr>\n",
       "      <th>0</th>\n",
       "      <td>1910-06-01 15:00:00</td>\n",
       "      <td>wills point</td>\n",
       "      <td>tx</td>\n",
       "      <td>us</td>\n",
       "      <td>cigar</td>\n",
       "      <td>120</td>\n",
       "      <td>2 minutes</td>\n",
       "      <td>Cigar shaped object moving from West to East</td>\n",
       "      <td>04/16/2005</td>\n",
       "      <td>32.709167</td>\n",
       "      <td>-96.008056</td>\n",
       "    </tr>\n",
       "    <tr>\n",
       "      <th>1</th>\n",
       "      <td>1920-06-11 21:00:00</td>\n",
       "      <td>cicero</td>\n",
       "      <td>in</td>\n",
       "      <td>us</td>\n",
       "      <td>unknown</td>\n",
       "      <td>60</td>\n",
       "      <td>1 minute</td>\n",
       "      <td>((NUFORC Note:  Probable hoax.  Note date.  PD...</td>\n",
       "      <td>05/12/2009</td>\n",
       "      <td>40.123889</td>\n",
       "      <td>-86.013333</td>\n",
       "    </tr>\n",
       "    <tr>\n",
       "      <th>2</th>\n",
       "      <td>1929-07-05 14:00:00</td>\n",
       "      <td>buchanan  (or burns)</td>\n",
       "      <td>or</td>\n",
       "      <td>us</td>\n",
       "      <td>disk</td>\n",
       "      <td>60</td>\n",
       "      <td>1min</td>\n",
       "      <td>we were traveling east of burns&amp;#44clmbing up ...</td>\n",
       "      <td>08/16/2002</td>\n",
       "      <td>43.642500</td>\n",
       "      <td>-118.627500</td>\n",
       "    </tr>\n",
       "    <tr>\n",
       "      <th>3</th>\n",
       "      <td>1931-06-01 13:00:00</td>\n",
       "      <td>abilene</td>\n",
       "      <td>ks</td>\n",
       "      <td>us</td>\n",
       "      <td>disk</td>\n",
       "      <td>1800</td>\n",
       "      <td>30 min. approx.</td>\n",
       "      <td>This is a what my mother related to me regardi...</td>\n",
       "      <td>02/14/2006</td>\n",
       "      <td>38.917222</td>\n",
       "      <td>-97.213611</td>\n",
       "    </tr>\n",
       "    <tr>\n",
       "      <th>4</th>\n",
       "      <td>1939-06-01 20:00:00</td>\n",
       "      <td>waterloo</td>\n",
       "      <td>al</td>\n",
       "      <td>us</td>\n",
       "      <td>fireball</td>\n",
       "      <td>300</td>\n",
       "      <td>5 minutes</td>\n",
       "      <td>4 high school students see bright&amp;#44 ground-l...</td>\n",
       "      <td>02/21/2014</td>\n",
       "      <td>34.918056</td>\n",
       "      <td>-88.064167</td>\n",
       "    </tr>\n",
       "  </tbody>\n",
       "</table>\n",
       "</div>"
      ],
      "text/plain": [
       "            Date_time                  city state/province country UFO_shape  \\\n",
       "0 1910-06-01 15:00:00           wills point             tx      us     cigar   \n",
       "1 1920-06-11 21:00:00                cicero             in      us   unknown   \n",
       "2 1929-07-05 14:00:00  buchanan  (or burns)             or      us      disk   \n",
       "3 1931-06-01 13:00:00               abilene             ks      us      disk   \n",
       "4 1939-06-01 20:00:00              waterloo             al      us  fireball   \n",
       "\n",
       "   length_of_encounter_seconds described_duration_of_encounter  \\\n",
       "0                          120                       2 minutes   \n",
       "1                           60                        1 minute   \n",
       "2                           60                            1min   \n",
       "3                         1800                 30 min. approx.   \n",
       "4                          300                       5 minutes   \n",
       "\n",
       "                                         description date_documented  \\\n",
       "0       Cigar shaped object moving from West to East      04/16/2005   \n",
       "1  ((NUFORC Note:  Probable hoax.  Note date.  PD...      05/12/2009   \n",
       "2  we were traveling east of burns&#44clmbing up ...      08/16/2002   \n",
       "3  This is a what my mother related to me regardi...      02/14/2006   \n",
       "4  4 high school students see bright&#44 ground-l...      02/21/2014   \n",
       "\n",
       "    latitude   longitude  \n",
       "0  32.709167  -96.008056  \n",
       "1  40.123889  -86.013333  \n",
       "2  43.642500 -118.627500  \n",
       "3  38.917222  -97.213611  \n",
       "4  34.918056  -88.064167  "
      ]
     },
     "metadata": {
      "tags": []
     },
     "output_type": "display_data"
    },
    {
     "name": "stdout",
     "output_type": "stream",
     "text": [
      "\n",
      "Current date:\n",
      "2019-09-04 15:51:19.319257\n"
     ]
    }
   ],
   "source": [
    "df['Date_time'] = df['Date_time'].astype('datetime64[ns]')\n",
    "now = pd.to_datetime('today')\n",
    "print(\"Original Dataframe:\")\n",
    "display(df.head())\n",
    "print(\"\\nCurrent date:\")\n",
    "print(now)"
   ]
  },
  {
   "cell_type": "markdown",
   "metadata": {
    "Collapsed": "false",
    "colab_type": "text",
    "hidden": true,
    "id": "miffB6e4roUP"
   },
   "source": [
    "Getting the most recent date, oldest date and number of days between most recent date and oldest date of Ufo dataset."
   ]
  },
  {
   "cell_type": "code",
   "execution_count": null,
   "metadata": {
    "Collapsed": "false",
    "ExecuteTime": {
     "end_time": "2019-09-04T14:51:19.338183Z",
     "start_time": "2019-09-04T14:51:19.334185Z"
    },
    "colab": {},
    "colab_type": "code",
    "hidden": true,
    "id": "5NV_X2a6roUP",
    "outputId": "0322bd26-6bc2-48d6-b232-7f68087e2365"
   },
   "outputs": [
    {
     "name": "stdout",
     "output_type": "stream",
     "text": [
      "Most recent date of UFO dataset:\n"
     ]
    },
    {
     "data": {
      "text/plain": [
       "Timestamp('2004-12-08 05:30:00')"
      ]
     },
     "execution_count": 174,
     "metadata": {
      "tags": []
     },
     "output_type": "execute_result"
    }
   ],
   "source": [
    "print(\"Most recent date of UFO dataset:\")\n",
    "df['Date_time'].max()"
   ]
  },
  {
   "cell_type": "code",
   "execution_count": null,
   "metadata": {
    "Collapsed": "false",
    "ExecuteTime": {
     "end_time": "2019-09-04T14:51:19.364141Z",
     "start_time": "2019-09-04T14:51:19.340170Z"
    },
    "colab": {},
    "colab_type": "code",
    "hidden": true,
    "id": "lLr36hTtroUU",
    "outputId": "84004f3a-4590-40e7-e32d-4e21d9cf2a94"
   },
   "outputs": [
    {
     "name": "stdout",
     "output_type": "stream",
     "text": [
      "Oldest date of UFO dataset:\n"
     ]
    },
    {
     "data": {
      "text/plain": [
       "Timestamp('1910-06-01 15:00:00')"
      ]
     },
     "execution_count": 175,
     "metadata": {
      "tags": []
     },
     "output_type": "execute_result"
    }
   ],
   "source": [
    "print(\"Oldest date of UFO dataset:\")\n",
    "df.Date_time.min()"
   ]
  },
  {
   "cell_type": "code",
   "execution_count": null,
   "metadata": {
    "Collapsed": "false",
    "ExecuteTime": {
     "end_time": "2019-09-04T14:51:19.412977Z",
     "start_time": "2019-09-04T14:51:19.367101Z"
    },
    "colab": {},
    "colab_type": "code",
    "hidden": true,
    "id": "xroo_uGTroUZ",
    "outputId": "e9fc1daa-8b4a-4e12-d93b-11679354bc67"
   },
   "outputs": [
    {
     "name": "stdout",
     "output_type": "stream",
     "text": [
      "Number of days between most recent date and oldest date of Ufo dataset:\n"
     ]
    },
    {
     "data": {
      "text/plain": [
       "34523"
      ]
     },
     "execution_count": 176,
     "metadata": {
      "tags": []
     },
     "output_type": "execute_result"
    }
   ],
   "source": [
    "print(\"Number of days between most recent date and oldest date of Ufo dataset:\")\n",
    "(df.Date_time.max() - df.Date_time.min()).days"
   ]
  },
  {
   "cell_type": "markdown",
   "metadata": {
    "Collapsed": "false",
    "colab_type": "text",
    "hidden": true,
    "id": "x9IOPuRDroUc"
   },
   "source": [
    " Getting all the sighting days of the unidentified flying object (ufo) which are less than or equal to 40 years (365*40 days)."
   ]
  },
  {
   "cell_type": "code",
   "execution_count": null,
   "metadata": {
    "Collapsed": "false",
    "ExecuteTime": {
     "end_time": "2019-09-04T14:51:19.465868Z",
     "start_time": "2019-09-04T14:51:19.413974Z"
    },
    "colab": {},
    "colab_type": "code",
    "hidden": true,
    "id": "RgmnH6horoUd",
    "outputId": "2f2971fb-69a8-4d33-b4b9-2094b54c3f52"
   },
   "outputs": [
    {
     "data": {
      "text/plain": [
       "datetime.timedelta(days=14600)"
      ]
     },
     "execution_count": 177,
     "metadata": {
      "tags": []
     },
     "output_type": "execute_result"
    }
   ],
   "source": [
    "duration = datetime.timedelta(days=365*40)\n",
    "duration"
   ]
  },
  {
   "cell_type": "code",
   "execution_count": null,
   "metadata": {
    "Collapsed": "false",
    "ExecuteTime": {
     "end_time": "2019-09-04T14:51:19.497802Z",
     "start_time": "2019-09-04T14:51:19.466834Z"
    },
    "colab": {},
    "colab_type": "code",
    "hidden": true,
    "id": "F3PCcGZMroUh",
    "outputId": "494b2298-e81f-42de-efbf-bf4d2dcc3126"
   },
   "outputs": [
    {
     "name": "stdout",
     "output_type": "stream",
     "text": [
      "\n",
      "Sighting days of the unidentified flying object (ufo) which are less than or equal to 40 years (365*40 days):\n"
     ]
    },
    {
     "data": {
      "text/html": [
       "<div>\n",
       "<style scoped>\n",
       "    .dataframe tbody tr th:only-of-type {\n",
       "        vertical-align: middle;\n",
       "    }\n",
       "\n",
       "    .dataframe tbody tr th {\n",
       "        vertical-align: top;\n",
       "    }\n",
       "\n",
       "    .dataframe thead th {\n",
       "        text-align: right;\n",
       "    }\n",
       "</style>\n",
       "<table border=\"1\" class=\"dataframe\">\n",
       "  <thead>\n",
       "    <tr style=\"text-align: right;\">\n",
       "      <th></th>\n",
       "      <th>Date_time</th>\n",
       "      <th>city</th>\n",
       "      <th>state/province</th>\n",
       "      <th>country</th>\n",
       "      <th>UFO_shape</th>\n",
       "      <th>length_of_encounter_seconds</th>\n",
       "      <th>described_duration_of_encounter</th>\n",
       "      <th>description</th>\n",
       "      <th>date_documented</th>\n",
       "      <th>latitude</th>\n",
       "      <th>longitude</th>\n",
       "    </tr>\n",
       "  </thead>\n",
       "  <tbody>\n",
       "    <tr>\n",
       "      <th>149</th>\n",
       "      <td>1980-01-01 01:00:00</td>\n",
       "      <td>indianapolis</td>\n",
       "      <td>in</td>\n",
       "      <td>us</td>\n",
       "      <td>light</td>\n",
       "      <td>420</td>\n",
       "      <td>7 minutes</td>\n",
       "      <td>Very bright green light without sound moved ov...</td>\n",
       "      <td>06/12/2007</td>\n",
       "      <td>39.768333</td>\n",
       "      <td>-86.158056</td>\n",
       "    </tr>\n",
       "    <tr>\n",
       "      <th>150</th>\n",
       "      <td>1980-01-01 23:30:00</td>\n",
       "      <td>chicopee</td>\n",
       "      <td>ma</td>\n",
       "      <td>us</td>\n",
       "      <td>diamond</td>\n",
       "      <td>300</td>\n",
       "      <td>5 minutes</td>\n",
       "      <td>I heard a noise like thunder&amp;#44 went to the k...</td>\n",
       "      <td>02/16/2000</td>\n",
       "      <td>42.148611</td>\n",
       "      <td>-72.608333</td>\n",
       "    </tr>\n",
       "    <tr>\n",
       "      <th>151</th>\n",
       "      <td>1980-03-01 00:30:00</td>\n",
       "      <td>oxford</td>\n",
       "      <td>ct</td>\n",
       "      <td>us</td>\n",
       "      <td>cigar</td>\n",
       "      <td>120</td>\n",
       "      <td>2 minutes</td>\n",
       "      <td>Large Cigar shaped object very close.</td>\n",
       "      <td>07/25/2004</td>\n",
       "      <td>41.433889</td>\n",
       "      <td>-73.117222</td>\n",
       "    </tr>\n",
       "    <tr>\n",
       "      <th>152</th>\n",
       "      <td>1980-03-01 18:00:00</td>\n",
       "      <td>bisbee</td>\n",
       "      <td>az</td>\n",
       "      <td>us</td>\n",
       "      <td>other</td>\n",
       "      <td>1800</td>\n",
       "      <td>30 minutes</td>\n",
       "      <td>Large&amp;#44 nearby&amp;#44 stationary&amp;#44 metallic&amp;#...</td>\n",
       "      <td>10/07/2003</td>\n",
       "      <td>31.448056</td>\n",
       "      <td>-109.927778</td>\n",
       "    </tr>\n",
       "    <tr>\n",
       "      <th>153</th>\n",
       "      <td>1981-01-01 00:01:00</td>\n",
       "      <td>el cajon</td>\n",
       "      <td>ca</td>\n",
       "      <td>us</td>\n",
       "      <td>sphere</td>\n",
       "      <td>1800</td>\n",
       "      <td>30 minute</td>\n",
       "      <td>My husband and I were at home just bringing in...</td>\n",
       "      <td>01/22/2004</td>\n",
       "      <td>32.794722</td>\n",
       "      <td>-116.961667</td>\n",
       "    </tr>\n",
       "  </tbody>\n",
       "</table>\n",
       "</div>"
      ],
      "text/plain": [
       "              Date_time          city state/province country UFO_shape  \\\n",
       "149 1980-01-01 01:00:00  indianapolis             in      us     light   \n",
       "150 1980-01-01 23:30:00      chicopee             ma      us   diamond   \n",
       "151 1980-03-01 00:30:00        oxford             ct      us     cigar   \n",
       "152 1980-03-01 18:00:00        bisbee             az      us     other   \n",
       "153 1981-01-01 00:01:00      el cajon             ca      us    sphere   \n",
       "\n",
       "     length_of_encounter_seconds described_duration_of_encounter  \\\n",
       "149                          420                       7 minutes   \n",
       "150                          300                       5 minutes   \n",
       "151                          120                       2 minutes   \n",
       "152                         1800                      30 minutes   \n",
       "153                         1800                       30 minute   \n",
       "\n",
       "                                           description date_documented  \\\n",
       "149  Very bright green light without sound moved ov...      06/12/2007   \n",
       "150  I heard a noise like thunder&#44 went to the k...      02/16/2000   \n",
       "151              Large Cigar shaped object very close.      07/25/2004   \n",
       "152  Large&#44 nearby&#44 stationary&#44 metallic&#...      10/07/2003   \n",
       "153  My husband and I were at home just bringing in...      01/22/2004   \n",
       "\n",
       "      latitude   longitude  \n",
       "149  39.768333  -86.158056  \n",
       "150  42.148611  -72.608333  \n",
       "151  41.433889  -73.117222  \n",
       "152  31.448056 -109.927778  \n",
       "153  32.794722 -116.961667  "
      ]
     },
     "execution_count": 178,
     "metadata": {
      "tags": []
     },
     "output_type": "execute_result"
    }
   ],
   "source": [
    "print(\"\\nSighting days of the unidentified flying object (ufo) which are less than or equal to 40 years (365*40 days):\")\n",
    "df[now - df['Date_time'] <= duration].head()"
   ]
  },
  {
   "cell_type": "markdown",
   "metadata": {
    "Collapsed": "false",
    "colab_type": "text",
    "hidden": true,
    "id": "TBg073GhroUm"
   },
   "source": [
    "Getting all the sighting days of the unidentified flying object (ufo) between 1950-10-10 and 1960-10-10."
   ]
  },
  {
   "cell_type": "code",
   "execution_count": null,
   "metadata": {
    "Collapsed": "false",
    "ExecuteTime": {
     "end_time": "2019-09-04T14:51:19.526735Z",
     "start_time": "2019-09-04T14:51:19.499780Z"
    },
    "colab": {},
    "colab_type": "code",
    "hidden": true,
    "id": "S2LX4OG0roUm",
    "outputId": "c9c48df3-aa85-49fd-85f9-3303c47e4923"
   },
   "outputs": [
    {
     "name": "stdout",
     "output_type": "stream",
     "text": [
      "\n",
      "Sighting days of the unidentified flying object (ufo) between 1949-10-10 and 1960-10-10:\n"
     ]
    },
    {
     "data": {
      "text/html": [
       "<div>\n",
       "<style scoped>\n",
       "    .dataframe tbody tr th:only-of-type {\n",
       "        vertical-align: middle;\n",
       "    }\n",
       "\n",
       "    .dataframe tbody tr th {\n",
       "        vertical-align: top;\n",
       "    }\n",
       "\n",
       "    .dataframe thead th {\n",
       "        text-align: right;\n",
       "    }\n",
       "</style>\n",
       "<table border=\"1\" class=\"dataframe\">\n",
       "  <thead>\n",
       "    <tr style=\"text-align: right;\">\n",
       "      <th></th>\n",
       "      <th>Date_time</th>\n",
       "      <th>city</th>\n",
       "      <th>state/province</th>\n",
       "      <th>country</th>\n",
       "      <th>UFO_shape</th>\n",
       "      <th>length_of_encounter_seconds</th>\n",
       "      <th>described_duration_of_encounter</th>\n",
       "      <th>description</th>\n",
       "      <th>date_documented</th>\n",
       "      <th>latitude</th>\n",
       "      <th>longitude</th>\n",
       "    </tr>\n",
       "  </thead>\n",
       "  <tbody>\n",
       "    <tr>\n",
       "      <th>29</th>\n",
       "      <td>1950-06-01 16:00:00</td>\n",
       "      <td>philadelphia</td>\n",
       "      <td>ms</td>\n",
       "      <td>us</td>\n",
       "      <td>disk</td>\n",
       "      <td>600</td>\n",
       "      <td>ten minutes or less</td>\n",
       "      <td>Childhood sighting of disk witnessed by mother...</td>\n",
       "      <td>03/12/2008</td>\n",
       "      <td>32.771389</td>\n",
       "      <td>-89.116667</td>\n",
       "    </tr>\n",
       "    <tr>\n",
       "      <th>30</th>\n",
       "      <td>1950-06-01 20:00:00</td>\n",
       "      <td>pittsburgh</td>\n",
       "      <td>pa</td>\n",
       "      <td>us</td>\n",
       "      <td>oval</td>\n",
       "      <td>1500</td>\n",
       "      <td>20/25 minutes</td>\n",
       "      <td>One larger white object &amp;amp; 2 smaller round ...</td>\n",
       "      <td>02/14/2006</td>\n",
       "      <td>40.440556</td>\n",
       "      <td>-79.996111</td>\n",
       "    </tr>\n",
       "    <tr>\n",
       "      <th>31</th>\n",
       "      <td>1950-08-01 04:00:00</td>\n",
       "      <td>louisville</td>\n",
       "      <td>ky</td>\n",
       "      <td>us</td>\n",
       "      <td>other</td>\n",
       "      <td>60</td>\n",
       "      <td>1 minute</td>\n",
       "      <td>In 1953&amp;#44 at the age of 3 years old I was Co...</td>\n",
       "      <td>10/19/2011</td>\n",
       "      <td>38.254167</td>\n",
       "      <td>-85.759444</td>\n",
       "    </tr>\n",
       "    <tr>\n",
       "      <th>32</th>\n",
       "      <td>1950-10-01 11:00:00</td>\n",
       "      <td>pikeville</td>\n",
       "      <td>ky</td>\n",
       "      <td>us</td>\n",
       "      <td>disk</td>\n",
       "      <td>600</td>\n",
       "      <td>hr</td>\n",
       "      <td>SEVENTY SOME  FLYING DISK OBSERVED IN  1950</td>\n",
       "      <td>04/16/2005</td>\n",
       "      <td>37.479167</td>\n",
       "      <td>-82.518889</td>\n",
       "    </tr>\n",
       "    <tr>\n",
       "      <th>33</th>\n",
       "      <td>1951-06-01 07:00:00</td>\n",
       "      <td>brandon (canada)</td>\n",
       "      <td>mb</td>\n",
       "      <td>ca</td>\n",
       "      <td>disk</td>\n",
       "      <td>1800</td>\n",
       "      <td>30 minutes</td>\n",
       "      <td>Circular Craft and Man in Black Sighted in Sum...</td>\n",
       "      <td>02/18/2001</td>\n",
       "      <td>49.833333</td>\n",
       "      <td>-99.950000</td>\n",
       "    </tr>\n",
       "  </tbody>\n",
       "</table>\n",
       "</div>"
      ],
      "text/plain": [
       "             Date_time              city state/province country UFO_shape  \\\n",
       "29 1950-06-01 16:00:00      philadelphia             ms      us      disk   \n",
       "30 1950-06-01 20:00:00        pittsburgh             pa      us      oval   \n",
       "31 1950-08-01 04:00:00        louisville             ky      us     other   \n",
       "32 1950-10-01 11:00:00         pikeville             ky      us      disk   \n",
       "33 1951-06-01 07:00:00  brandon (canada)             mb      ca      disk   \n",
       "\n",
       "    length_of_encounter_seconds described_duration_of_encounter  \\\n",
       "29                          600             ten minutes or less   \n",
       "30                         1500                   20/25 minutes   \n",
       "31                           60                        1 minute   \n",
       "32                          600                              hr   \n",
       "33                         1800                      30 minutes   \n",
       "\n",
       "                                          description date_documented  \\\n",
       "29  Childhood sighting of disk witnessed by mother...      03/12/2008   \n",
       "30  One larger white object &amp; 2 smaller round ...      02/14/2006   \n",
       "31  In 1953&#44 at the age of 3 years old I was Co...      10/19/2011   \n",
       "32        SEVENTY SOME  FLYING DISK OBSERVED IN  1950      04/16/2005   \n",
       "33  Circular Craft and Man in Black Sighted in Sum...      02/18/2001   \n",
       "\n",
       "     latitude  longitude  \n",
       "29  32.771389 -89.116667  \n",
       "30  40.440556 -79.996111  \n",
       "31  38.254167 -85.759444  \n",
       "32  37.479167 -82.518889  \n",
       "33  49.833333 -99.950000  "
      ]
     },
     "execution_count": 179,
     "metadata": {
      "tags": []
     },
     "output_type": "execute_result"
    }
   ],
   "source": [
    "print(\"\\nSighting days of the unidentified flying object (ufo) between 1949-10-10 and 1960-10-10:\")\n",
    "selected_period = df[(df['Date_time'] >= '1950-01-01 00:00:00') & (df['Date_time'] <= '1960-12-31 23:59:59')]\n",
    "selected_period.head()"
   ]
  },
  {
   "cell_type": "markdown",
   "metadata": {
    "Collapsed": "false",
    "colab_type": "text",
    "hidden": true,
    "id": "MH33uu4nroUp"
   },
   "source": [
    "Getting all the sighting years of the unidentified flying object (ufo) and create the year as column."
   ]
  },
  {
   "cell_type": "code",
   "execution_count": null,
   "metadata": {
    "Collapsed": "false",
    "ExecuteTime": {
     "end_time": "2019-09-04T14:51:19.567599Z",
     "start_time": "2019-09-04T14:51:19.527704Z"
    },
    "colab": {},
    "colab_type": "code",
    "hidden": true,
    "id": "Ur7OUuJFroUq",
    "outputId": "4a12472a-a5fa-427e-b6d3-534a72553b1a"
   },
   "outputs": [
    {
     "name": "stdout",
     "output_type": "stream",
     "text": [
      "\n",
      "Sighting years of the unidentified flying object:\n"
     ]
    },
    {
     "data": {
      "text/html": [
       "<div>\n",
       "<style scoped>\n",
       "    .dataframe tbody tr th:only-of-type {\n",
       "        vertical-align: middle;\n",
       "    }\n",
       "\n",
       "    .dataframe tbody tr th {\n",
       "        vertical-align: top;\n",
       "    }\n",
       "\n",
       "    .dataframe thead th {\n",
       "        text-align: right;\n",
       "    }\n",
       "</style>\n",
       "<table border=\"1\" class=\"dataframe\">\n",
       "  <thead>\n",
       "    <tr style=\"text-align: right;\">\n",
       "      <th></th>\n",
       "      <th>Date_time</th>\n",
       "      <th>city</th>\n",
       "      <th>state/province</th>\n",
       "      <th>country</th>\n",
       "      <th>UFO_shape</th>\n",
       "      <th>length_of_encounter_seconds</th>\n",
       "      <th>described_duration_of_encounter</th>\n",
       "      <th>description</th>\n",
       "      <th>date_documented</th>\n",
       "      <th>latitude</th>\n",
       "      <th>longitude</th>\n",
       "      <th>Year</th>\n",
       "    </tr>\n",
       "  </thead>\n",
       "  <tbody>\n",
       "    <tr>\n",
       "      <th>0</th>\n",
       "      <td>1910-06-01 15:00:00</td>\n",
       "      <td>wills point</td>\n",
       "      <td>tx</td>\n",
       "      <td>us</td>\n",
       "      <td>cigar</td>\n",
       "      <td>120</td>\n",
       "      <td>2 minutes</td>\n",
       "      <td>Cigar shaped object moving from West to East</td>\n",
       "      <td>04/16/2005</td>\n",
       "      <td>32.709167</td>\n",
       "      <td>-96.008056</td>\n",
       "      <td>1910</td>\n",
       "    </tr>\n",
       "    <tr>\n",
       "      <th>1</th>\n",
       "      <td>1920-06-11 21:00:00</td>\n",
       "      <td>cicero</td>\n",
       "      <td>in</td>\n",
       "      <td>us</td>\n",
       "      <td>unknown</td>\n",
       "      <td>60</td>\n",
       "      <td>1 minute</td>\n",
       "      <td>((NUFORC Note:  Probable hoax.  Note date.  PD...</td>\n",
       "      <td>05/12/2009</td>\n",
       "      <td>40.123889</td>\n",
       "      <td>-86.013333</td>\n",
       "      <td>1920</td>\n",
       "    </tr>\n",
       "    <tr>\n",
       "      <th>2</th>\n",
       "      <td>1929-07-05 14:00:00</td>\n",
       "      <td>buchanan  (or burns)</td>\n",
       "      <td>or</td>\n",
       "      <td>us</td>\n",
       "      <td>disk</td>\n",
       "      <td>60</td>\n",
       "      <td>1min</td>\n",
       "      <td>we were traveling east of burns&amp;#44clmbing up ...</td>\n",
       "      <td>08/16/2002</td>\n",
       "      <td>43.642500</td>\n",
       "      <td>-118.627500</td>\n",
       "      <td>1929</td>\n",
       "    </tr>\n",
       "    <tr>\n",
       "      <th>3</th>\n",
       "      <td>1931-06-01 13:00:00</td>\n",
       "      <td>abilene</td>\n",
       "      <td>ks</td>\n",
       "      <td>us</td>\n",
       "      <td>disk</td>\n",
       "      <td>1800</td>\n",
       "      <td>30 min. approx.</td>\n",
       "      <td>This is a what my mother related to me regardi...</td>\n",
       "      <td>02/14/2006</td>\n",
       "      <td>38.917222</td>\n",
       "      <td>-97.213611</td>\n",
       "      <td>1931</td>\n",
       "    </tr>\n",
       "    <tr>\n",
       "      <th>4</th>\n",
       "      <td>1939-06-01 20:00:00</td>\n",
       "      <td>waterloo</td>\n",
       "      <td>al</td>\n",
       "      <td>us</td>\n",
       "      <td>fireball</td>\n",
       "      <td>300</td>\n",
       "      <td>5 minutes</td>\n",
       "      <td>4 high school students see bright&amp;#44 ground-l...</td>\n",
       "      <td>02/21/2014</td>\n",
       "      <td>34.918056</td>\n",
       "      <td>-88.064167</td>\n",
       "      <td>1939</td>\n",
       "    </tr>\n",
       "    <tr>\n",
       "      <th>5</th>\n",
       "      <td>1939-07-07 02:00:00</td>\n",
       "      <td>keokuk</td>\n",
       "      <td>ia</td>\n",
       "      <td>us</td>\n",
       "      <td>oval</td>\n",
       "      <td>600</td>\n",
       "      <td>10 minutes</td>\n",
       "      <td>Mother sees UFO above railroad tracks in 1939.</td>\n",
       "      <td>09/02/2005</td>\n",
       "      <td>40.397222</td>\n",
       "      <td>-91.384722</td>\n",
       "      <td>1939</td>\n",
       "    </tr>\n",
       "    <tr>\n",
       "      <th>6</th>\n",
       "      <td>1941-06-01 13:00:00</td>\n",
       "      <td>ludington (hamlin lake)</td>\n",
       "      <td>mi</td>\n",
       "      <td>us</td>\n",
       "      <td>disk</td>\n",
       "      <td>30</td>\n",
       "      <td>30 seconds</td>\n",
       "      <td>As a boy some 60 plus years ago I saw a round ...</td>\n",
       "      <td>10/07/2003</td>\n",
       "      <td>43.955278</td>\n",
       "      <td>-86.452500</td>\n",
       "      <td>1941</td>\n",
       "    </tr>\n",
       "    <tr>\n",
       "      <th>7</th>\n",
       "      <td>1942-06-01 22:30:00</td>\n",
       "      <td>hapeville</td>\n",
       "      <td>ga</td>\n",
       "      <td>us</td>\n",
       "      <td>unknown</td>\n",
       "      <td>180</td>\n",
       "      <td>2-3 min</td>\n",
       "      <td>bright object approchjng Venus&amp;#44 1940&amp;#39s</td>\n",
       "      <td>08/07/2007</td>\n",
       "      <td>33.660000</td>\n",
       "      <td>-84.410278</td>\n",
       "      <td>1942</td>\n",
       "    </tr>\n",
       "    <tr>\n",
       "      <th>8</th>\n",
       "      <td>1944-01-01 12:00:00</td>\n",
       "      <td>san diego</td>\n",
       "      <td>ca</td>\n",
       "      <td>us</td>\n",
       "      <td>cigar</td>\n",
       "      <td>180</td>\n",
       "      <td>3 minutes</td>\n",
       "      <td>A sighting of one silver or white enlongated c...</td>\n",
       "      <td>07/25/2004</td>\n",
       "      <td>32.715278</td>\n",
       "      <td>-117.156389</td>\n",
       "      <td>1944</td>\n",
       "    </tr>\n",
       "    <tr>\n",
       "      <th>9</th>\n",
       "      <td>1944-06-01 12:00:00</td>\n",
       "      <td>los alamos</td>\n",
       "      <td>nm</td>\n",
       "      <td>us</td>\n",
       "      <td>disk</td>\n",
       "      <td>3600</td>\n",
       "      <td>1+ hour</td>\n",
       "      <td>Disk hovers over Los Alamos during the develop...</td>\n",
       "      <td>05/12/2009</td>\n",
       "      <td>35.888056</td>\n",
       "      <td>-106.306389</td>\n",
       "      <td>1944</td>\n",
       "    </tr>\n",
       "  </tbody>\n",
       "</table>\n",
       "</div>"
      ],
      "text/plain": [
       "            Date_time                     city state/province country  \\\n",
       "0 1910-06-01 15:00:00              wills point             tx      us   \n",
       "1 1920-06-11 21:00:00                   cicero             in      us   \n",
       "2 1929-07-05 14:00:00     buchanan  (or burns)             or      us   \n",
       "3 1931-06-01 13:00:00                  abilene             ks      us   \n",
       "4 1939-06-01 20:00:00                 waterloo             al      us   \n",
       "5 1939-07-07 02:00:00                   keokuk             ia      us   \n",
       "6 1941-06-01 13:00:00  ludington (hamlin lake)             mi      us   \n",
       "7 1942-06-01 22:30:00                hapeville             ga      us   \n",
       "8 1944-01-01 12:00:00                san diego             ca      us   \n",
       "9 1944-06-01 12:00:00               los alamos             nm      us   \n",
       "\n",
       "  UFO_shape  length_of_encounter_seconds described_duration_of_encounter  \\\n",
       "0     cigar                          120                       2 minutes   \n",
       "1   unknown                           60                        1 minute   \n",
       "2      disk                           60                            1min   \n",
       "3      disk                         1800                 30 min. approx.   \n",
       "4  fireball                          300                       5 minutes   \n",
       "5      oval                          600                      10 minutes   \n",
       "6      disk                           30                      30 seconds   \n",
       "7   unknown                          180                         2-3 min   \n",
       "8     cigar                          180                       3 minutes   \n",
       "9      disk                         3600                         1+ hour   \n",
       "\n",
       "                                         description date_documented  \\\n",
       "0       Cigar shaped object moving from West to East      04/16/2005   \n",
       "1  ((NUFORC Note:  Probable hoax.  Note date.  PD...      05/12/2009   \n",
       "2  we were traveling east of burns&#44clmbing up ...      08/16/2002   \n",
       "3  This is a what my mother related to me regardi...      02/14/2006   \n",
       "4  4 high school students see bright&#44 ground-l...      02/21/2014   \n",
       "5     Mother sees UFO above railroad tracks in 1939.      09/02/2005   \n",
       "6  As a boy some 60 plus years ago I saw a round ...      10/07/2003   \n",
       "7       bright object approchjng Venus&#44 1940&#39s      08/07/2007   \n",
       "8  A sighting of one silver or white enlongated c...      07/25/2004   \n",
       "9  Disk hovers over Los Alamos during the develop...      05/12/2009   \n",
       "\n",
       "    latitude   longitude  Year  \n",
       "0  32.709167  -96.008056  1910  \n",
       "1  40.123889  -86.013333  1920  \n",
       "2  43.642500 -118.627500  1929  \n",
       "3  38.917222  -97.213611  1931  \n",
       "4  34.918056  -88.064167  1939  \n",
       "5  40.397222  -91.384722  1939  \n",
       "6  43.955278  -86.452500  1941  \n",
       "7  33.660000  -84.410278  1942  \n",
       "8  32.715278 -117.156389  1944  \n",
       "9  35.888056 -106.306389  1944  "
      ]
     },
     "execution_count": 180,
     "metadata": {
      "tags": []
     },
     "output_type": "execute_result"
    }
   ],
   "source": [
    "print(\"\\nSighting years of the unidentified flying object:\")\n",
    "df[\"Year\"] = df.Date_time.dt.year\n",
    "df.head(10)"
   ]
  },
  {
   "cell_type": "markdown",
   "metadata": {
    "Collapsed": "false",
    "ExecuteTime": {
     "end_time": "2019-09-04T14:38:40.616713Z",
     "start_time": "2019-09-04T14:38:40.610698Z"
    },
    "colab_type": "text",
    "hidden": true,
    "id": "2yyJRBGTroUs"
   },
   "source": [
    "Creating a plot to present the number of unidentified flying object (UFO) reports per year."
   ]
  },
  {
   "cell_type": "code",
   "execution_count": null,
   "metadata": {
    "Collapsed": "false",
    "ExecuteTime": {
     "end_time": "2019-09-04T14:51:19.693294Z",
     "start_time": "2019-09-04T14:51:19.568595Z"
    },
    "colab": {},
    "colab_type": "code",
    "hidden": true,
    "id": "iqMXZjxOroUt",
    "outputId": "43de1cac-1a42-4652-fc03-9d6560dea700"
   },
   "outputs": [
    {
     "data": {
      "image/png": "[encoded data removed]",
      "text/plain": [
       "<Figure size 432x288 with 1 Axes>"
      ]
     },
     "metadata": {
      "needs_background": "light",
      "tags": []
     },
     "output_type": "display_data"
    }
   ],
   "source": [
    "df.Year.value_counts().sort_index().plot(x=\"Year\")\n",
    "plt.show()"
   ]
  },
  {
   "cell_type": "markdown",
   "metadata": {
    "Collapsed": "false",
    "colab_type": "text",
    "hidden": true,
    "id": "u45TwCEhroUv"
   },
   "source": [
    "Extracting year, month, day, hour, minute, second and weekday from unidentified flying object (UFO) reporting date."
   ]
  },
  {
   "cell_type": "code",
   "execution_count": null,
   "metadata": {
    "Collapsed": "false",
    "ExecuteTime": {
     "end_time": "2019-09-04T14:51:19.724181Z",
     "start_time": "2019-09-04T14:51:19.694292Z"
    },
    "colab": {},
    "colab_type": "code",
    "hidden": true,
    "id": "3cSJiSJXroUw",
    "outputId": "9edddc3d-71f0-4088-90bf-c539dc88c78e"
   },
   "outputs": [
    {
     "name": "stdout",
     "output_type": "stream",
     "text": [
      "\n",
      "Year:\n"
     ]
    },
    {
     "data": {
      "text/plain": [
       "0    1910\n",
       "1    1920\n",
       "2    1929\n",
       "3    1931\n",
       "4    1939\n",
       "Name: Date_time, dtype: int64"
      ]
     },
     "metadata": {
      "tags": []
     },
     "output_type": "display_data"
    },
    {
     "name": "stdout",
     "output_type": "stream",
     "text": [
      "\n",
      "Month:\n"
     ]
    },
    {
     "data": {
      "text/plain": [
       "0    6\n",
       "1    6\n",
       "2    7\n",
       "3    6\n",
       "4    6\n",
       "Name: Date_time, dtype: int64"
      ]
     },
     "metadata": {
      "tags": []
     },
     "output_type": "display_data"
    },
    {
     "name": "stdout",
     "output_type": "stream",
     "text": [
      "\n",
      "Day:\n"
     ]
    },
    {
     "data": {
      "text/plain": [
       "0     1\n",
       "1    11\n",
       "2     5\n",
       "3     1\n",
       "4     1\n",
       "Name: Date_time, dtype: int64"
      ]
     },
     "metadata": {
      "tags": []
     },
     "output_type": "display_data"
    },
    {
     "name": "stdout",
     "output_type": "stream",
     "text": [
      "\n",
      "Hour:\n"
     ]
    },
    {
     "data": {
      "text/plain": [
       "0    15\n",
       "1    21\n",
       "2    14\n",
       "3    13\n",
       "4    20\n",
       "Name: Date_time, dtype: int64"
      ]
     },
     "metadata": {
      "tags": []
     },
     "output_type": "display_data"
    },
    {
     "name": "stdout",
     "output_type": "stream",
     "text": [
      "\n",
      "Minute:\n"
     ]
    },
    {
     "data": {
      "text/plain": [
       "0    0\n",
       "1    0\n",
       "2    0\n",
       "3    0\n",
       "4    0\n",
       "Name: Date_time, dtype: int64"
      ]
     },
     "metadata": {
      "tags": []
     },
     "output_type": "display_data"
    },
    {
     "name": "stdout",
     "output_type": "stream",
     "text": [
      "\n",
      "Second:\n"
     ]
    },
    {
     "data": {
      "text/plain": [
       "0    0\n",
       "1    0\n",
       "2    0\n",
       "3    0\n",
       "4    0\n",
       "Name: Date_time, dtype: int64"
      ]
     },
     "metadata": {
      "tags": []
     },
     "output_type": "display_data"
    },
    {
     "name": "stdout",
     "output_type": "stream",
     "text": [
      "\n",
      "Weekday:\n"
     ]
    },
    {
     "data": {
      "text/plain": [
       "0    Wednesday\n",
       "1       Friday\n",
       "2       Friday\n",
       "3       Monday\n",
       "4     Thursday\n",
       "Name: Date_time, dtype: object"
      ]
     },
     "metadata": {
      "tags": []
     },
     "output_type": "display_data"
    }
   ],
   "source": [
    "print(\"\\nYear:\")\n",
    "display(df.Date_time.dt.year.head())\n",
    "print(\"\\nMonth:\")\n",
    "display(df.Date_time.dt.month.head())\n",
    "print(\"\\nDay:\")\n",
    "display(df.Date_time.dt.day.head())\n",
    "print(\"\\nHour:\")\n",
    "display(df.Date_time.dt.hour.head())\n",
    "print(\"\\nMinute:\")\n",
    "display(df.Date_time.dt.minute.head())\n",
    "print(\"\\nSecond:\")\n",
    "display(df.Date_time.dt.second.head())\n",
    "print(\"\\nWeekday:\")\n",
    "display(df.Date_time.dt.weekday_name.head())"
   ]
  },
  {
   "cell_type": "markdown",
   "metadata": {
    "Collapsed": "false",
    "colab_type": "text",
    "hidden": true,
    "id": "bXM0wv9oroUy"
   },
   "source": [
    "Convert `datetime` to `timestamp`"
   ]
  },
  {
   "cell_type": "code",
   "execution_count": null,
   "metadata": {
    "Collapsed": "false",
    "ExecuteTime": {
     "end_time": "2019-09-04T14:51:19.739147Z",
     "start_time": "2019-09-04T14:51:19.726176Z"
    },
    "colab": {},
    "colab_type": "code",
    "hidden": true,
    "id": "99hn1rDuroUz",
    "outputId": "f07d6599-2e76-482c-e4d8-5360c0c60cd9"
   },
   "outputs": [
    {
     "name": "stdout",
     "output_type": "stream",
     "text": [
      "\n",
      "Convert datetime to timestamp:\n"
     ]
    },
    {
     "name": "stderr",
     "output_type": "stream",
     "text": [
      "C:\\Users\\javier.fernandez\\Anaconda3\\lib\\site-packages\\ipykernel_launcher.py:2: FutureWarning: Creating a DatetimeIndex by passing range endpoints is deprecated.  Use `pandas.date_range` instead.\n",
      "  \n"
     ]
    },
    {
     "data": {
      "text/html": [
       "<div>\n",
       "<style scoped>\n",
       "    .dataframe tbody tr th:only-of-type {\n",
       "        vertical-align: middle;\n",
       "    }\n",
       "\n",
       "    .dataframe tbody tr th {\n",
       "        vertical-align: top;\n",
       "    }\n",
       "\n",
       "    .dataframe thead th {\n",
       "        text-align: right;\n",
       "    }\n",
       "</style>\n",
       "<table border=\"1\" class=\"dataframe\">\n",
       "  <thead>\n",
       "    <tr style=\"text-align: right;\">\n",
       "      <th></th>\n",
       "      <th>datetime</th>\n",
       "      <th>ts</th>\n",
       "    </tr>\n",
       "  </thead>\n",
       "  <tbody>\n",
       "    <tr>\n",
       "      <th>0</th>\n",
       "      <td>2019-01-01 00:00:01</td>\n",
       "      <td>1546300801</td>\n",
       "    </tr>\n",
       "    <tr>\n",
       "      <th>1</th>\n",
       "      <td>2019-01-01 01:00:01</td>\n",
       "      <td>1546304401</td>\n",
       "    </tr>\n",
       "    <tr>\n",
       "      <th>2</th>\n",
       "      <td>2019-01-01 02:00:01</td>\n",
       "      <td>1546308001</td>\n",
       "    </tr>\n",
       "    <tr>\n",
       "      <th>3</th>\n",
       "      <td>2019-01-01 03:00:01</td>\n",
       "      <td>1546311601</td>\n",
       "    </tr>\n",
       "    <tr>\n",
       "      <th>4</th>\n",
       "      <td>2019-01-01 04:00:01</td>\n",
       "      <td>1546315201</td>\n",
       "    </tr>\n",
       "    <tr>\n",
       "      <th>5</th>\n",
       "      <td>2019-01-01 05:00:01</td>\n",
       "      <td>1546318801</td>\n",
       "    </tr>\n",
       "    <tr>\n",
       "      <th>6</th>\n",
       "      <td>2019-01-01 06:00:01</td>\n",
       "      <td>1546322401</td>\n",
       "    </tr>\n",
       "    <tr>\n",
       "      <th>7</th>\n",
       "      <td>2019-01-01 07:00:01</td>\n",
       "      <td>1546326001</td>\n",
       "    </tr>\n",
       "    <tr>\n",
       "      <th>8</th>\n",
       "      <td>2019-01-01 08:00:01</td>\n",
       "      <td>1546329601</td>\n",
       "    </tr>\n",
       "    <tr>\n",
       "      <th>9</th>\n",
       "      <td>2019-01-01 09:00:01</td>\n",
       "      <td>1546333201</td>\n",
       "    </tr>\n",
       "    <tr>\n",
       "      <th>10</th>\n",
       "      <td>2019-01-01 10:00:01</td>\n",
       "      <td>1546336801</td>\n",
       "    </tr>\n",
       "  </tbody>\n",
       "</table>\n",
       "</div>"
      ],
      "text/plain": [
       "              datetime          ts\n",
       "0  2019-01-01 00:00:01  1546300801\n",
       "1  2019-01-01 01:00:01  1546304401\n",
       "2  2019-01-01 02:00:01  1546308001\n",
       "3  2019-01-01 03:00:01  1546311601\n",
       "4  2019-01-01 04:00:01  1546315201\n",
       "5  2019-01-01 05:00:01  1546318801\n",
       "6  2019-01-01 06:00:01  1546322401\n",
       "7  2019-01-01 07:00:01  1546326001\n",
       "8  2019-01-01 08:00:01  1546329601\n",
       "9  2019-01-01 09:00:01  1546333201\n",
       "10 2019-01-01 10:00:01  1546336801"
      ]
     },
     "metadata": {
      "tags": []
     },
     "output_type": "display_data"
    }
   ],
   "source": [
    "df_0 = pd.DataFrame(index=pd.DatetimeIndex(start=datetime.datetime(2019,1,1,0,0,1),\n",
    "   end=datetime.datetime(2019,1,1,10,0,1), freq='H'))\\\n",
    "   .reset_index().rename(columns={'index':'datetime'})\n",
    "\n",
    "df_0['ts'] = df_0.datetime.values.astype(np.int64) // 10 ** 9\n",
    "\n",
    "print(\"\\nConvert datetime to timestamp:\")\n",
    "display (df_0)"
   ]
  },
  {
   "cell_type": "markdown",
   "metadata": {
    "Collapsed": "false",
    "colab_type": "text",
    "hidden": true,
    "id": "4P3N9vCoroU1"
   },
   "source": [
    "Counting year-country wise frequency of reporting dates of unidentified flying object (UFO)."
   ]
  },
  {
   "cell_type": "code",
   "execution_count": null,
   "metadata": {
    "Collapsed": "false",
    "ExecuteTime": {
     "end_time": "2019-09-04T14:51:19.767095Z",
     "start_time": "2019-09-04T14:51:19.743129Z"
    },
    "colab": {},
    "colab_type": "code",
    "hidden": true,
    "id": "jU0iUIl3roU1",
    "outputId": "3490d123-060f-42fb-b712-992f50e30dad"
   },
   "outputs": [
    {
     "name": "stdout",
     "output_type": "stream",
     "text": [
      "Country-year wise frequency of reporting dates of UFO:\n"
     ]
    },
    {
     "data": {
      "text/html": [
       "<div>\n",
       "<style scoped>\n",
       "    .dataframe tbody tr th:only-of-type {\n",
       "        vertical-align: middle;\n",
       "    }\n",
       "\n",
       "    .dataframe tbody tr th {\n",
       "        vertical-align: top;\n",
       "    }\n",
       "\n",
       "    .dataframe thead th {\n",
       "        text-align: right;\n",
       "    }\n",
       "</style>\n",
       "<table border=\"1\" class=\"dataframe\">\n",
       "  <thead>\n",
       "    <tr style=\"text-align: right;\">\n",
       "      <th></th>\n",
       "      <th>Year</th>\n",
       "      <th>country</th>\n",
       "      <th>0</th>\n",
       "    </tr>\n",
       "  </thead>\n",
       "  <tbody>\n",
       "    <tr>\n",
       "      <th>0</th>\n",
       "      <td>1910</td>\n",
       "      <td>us</td>\n",
       "      <td>1</td>\n",
       "    </tr>\n",
       "    <tr>\n",
       "      <th>1</th>\n",
       "      <td>1920</td>\n",
       "      <td>us</td>\n",
       "      <td>1</td>\n",
       "    </tr>\n",
       "    <tr>\n",
       "      <th>2</th>\n",
       "      <td>1929</td>\n",
       "      <td>us</td>\n",
       "      <td>1</td>\n",
       "    </tr>\n",
       "    <tr>\n",
       "      <th>3</th>\n",
       "      <td>1931</td>\n",
       "      <td>us</td>\n",
       "      <td>1</td>\n",
       "    </tr>\n",
       "    <tr>\n",
       "      <th>4</th>\n",
       "      <td>1939</td>\n",
       "      <td>us</td>\n",
       "      <td>2</td>\n",
       "    </tr>\n",
       "    <tr>\n",
       "      <th>5</th>\n",
       "      <td>1941</td>\n",
       "      <td>us</td>\n",
       "      <td>1</td>\n",
       "    </tr>\n",
       "    <tr>\n",
       "      <th>6</th>\n",
       "      <td>1942</td>\n",
       "      <td>us</td>\n",
       "      <td>1</td>\n",
       "    </tr>\n",
       "    <tr>\n",
       "      <th>7</th>\n",
       "      <td>1944</td>\n",
       "      <td>us</td>\n",
       "      <td>3</td>\n",
       "    </tr>\n",
       "    <tr>\n",
       "      <th>8</th>\n",
       "      <td>1945</td>\n",
       "      <td>us</td>\n",
       "      <td>4</td>\n",
       "    </tr>\n",
       "    <tr>\n",
       "      <th>9</th>\n",
       "      <td>1946</td>\n",
       "      <td>us</td>\n",
       "      <td>3</td>\n",
       "    </tr>\n",
       "    <tr>\n",
       "      <th>10</th>\n",
       "      <td>1947</td>\n",
       "      <td>us</td>\n",
       "      <td>4</td>\n",
       "    </tr>\n",
       "    <tr>\n",
       "      <th>11</th>\n",
       "      <td>1948</td>\n",
       "      <td>us</td>\n",
       "      <td>3</td>\n",
       "    </tr>\n",
       "    <tr>\n",
       "      <th>12</th>\n",
       "      <td>1949</td>\n",
       "      <td>us</td>\n",
       "      <td>4</td>\n",
       "    </tr>\n",
       "    <tr>\n",
       "      <th>13</th>\n",
       "      <td>1950</td>\n",
       "      <td>us</td>\n",
       "      <td>4</td>\n",
       "    </tr>\n",
       "    <tr>\n",
       "      <th>14</th>\n",
       "      <td>1951</td>\n",
       "      <td>ca</td>\n",
       "      <td>1</td>\n",
       "    </tr>\n",
       "    <tr>\n",
       "      <th>15</th>\n",
       "      <td>1951</td>\n",
       "      <td>us</td>\n",
       "      <td>3</td>\n",
       "    </tr>\n",
       "    <tr>\n",
       "      <th>16</th>\n",
       "      <td>1952</td>\n",
       "      <td>us</td>\n",
       "      <td>4</td>\n",
       "    </tr>\n",
       "    <tr>\n",
       "      <th>17</th>\n",
       "      <td>1953</td>\n",
       "      <td>us</td>\n",
       "      <td>4</td>\n",
       "    </tr>\n",
       "    <tr>\n",
       "      <th>18</th>\n",
       "      <td>1954</td>\n",
       "      <td>us</td>\n",
       "      <td>4</td>\n",
       "    </tr>\n",
       "    <tr>\n",
       "      <th>19</th>\n",
       "      <td>1955</td>\n",
       "      <td>us</td>\n",
       "      <td>4</td>\n",
       "    </tr>\n",
       "    <tr>\n",
       "      <th>20</th>\n",
       "      <td>1956</td>\n",
       "      <td>us</td>\n",
       "      <td>4</td>\n",
       "    </tr>\n",
       "    <tr>\n",
       "      <th>21</th>\n",
       "      <td>1957</td>\n",
       "      <td>us</td>\n",
       "      <td>4</td>\n",
       "    </tr>\n",
       "    <tr>\n",
       "      <th>22</th>\n",
       "      <td>1958</td>\n",
       "      <td>us</td>\n",
       "      <td>4</td>\n",
       "    </tr>\n",
       "    <tr>\n",
       "      <th>23</th>\n",
       "      <td>1959</td>\n",
       "      <td>us</td>\n",
       "      <td>4</td>\n",
       "    </tr>\n",
       "    <tr>\n",
       "      <th>24</th>\n",
       "      <td>1960</td>\n",
       "      <td>us</td>\n",
       "      <td>4</td>\n",
       "    </tr>\n",
       "    <tr>\n",
       "      <th>25</th>\n",
       "      <td>1961</td>\n",
       "      <td>us</td>\n",
       "      <td>4</td>\n",
       "    </tr>\n",
       "    <tr>\n",
       "      <th>26</th>\n",
       "      <td>1962</td>\n",
       "      <td>us</td>\n",
       "      <td>4</td>\n",
       "    </tr>\n",
       "    <tr>\n",
       "      <th>27</th>\n",
       "      <td>1963</td>\n",
       "      <td>us</td>\n",
       "      <td>4</td>\n",
       "    </tr>\n",
       "    <tr>\n",
       "      <th>28</th>\n",
       "      <td>1964</td>\n",
       "      <td>us</td>\n",
       "      <td>4</td>\n",
       "    </tr>\n",
       "    <tr>\n",
       "      <th>29</th>\n",
       "      <td>1965</td>\n",
       "      <td>us</td>\n",
       "      <td>4</td>\n",
       "    </tr>\n",
       "    <tr>\n",
       "      <th>...</th>\n",
       "      <td>...</td>\n",
       "      <td>...</td>\n",
       "      <td>...</td>\n",
       "    </tr>\n",
       "    <tr>\n",
       "      <th>49</th>\n",
       "      <td>1984</td>\n",
       "      <td>us</td>\n",
       "      <td>4</td>\n",
       "    </tr>\n",
       "    <tr>\n",
       "      <th>50</th>\n",
       "      <td>1985</td>\n",
       "      <td>us</td>\n",
       "      <td>4</td>\n",
       "    </tr>\n",
       "    <tr>\n",
       "      <th>51</th>\n",
       "      <td>1986</td>\n",
       "      <td>us</td>\n",
       "      <td>4</td>\n",
       "    </tr>\n",
       "    <tr>\n",
       "      <th>52</th>\n",
       "      <td>1987</td>\n",
       "      <td>us</td>\n",
       "      <td>4</td>\n",
       "    </tr>\n",
       "    <tr>\n",
       "      <th>53</th>\n",
       "      <td>1988</td>\n",
       "      <td>us</td>\n",
       "      <td>4</td>\n",
       "    </tr>\n",
       "    <tr>\n",
       "      <th>54</th>\n",
       "      <td>1989</td>\n",
       "      <td>ca</td>\n",
       "      <td>1</td>\n",
       "    </tr>\n",
       "    <tr>\n",
       "      <th>55</th>\n",
       "      <td>1989</td>\n",
       "      <td>us</td>\n",
       "      <td>3</td>\n",
       "    </tr>\n",
       "    <tr>\n",
       "      <th>56</th>\n",
       "      <td>1990</td>\n",
       "      <td>us</td>\n",
       "      <td>4</td>\n",
       "    </tr>\n",
       "    <tr>\n",
       "      <th>57</th>\n",
       "      <td>1991</td>\n",
       "      <td>us</td>\n",
       "      <td>4</td>\n",
       "    </tr>\n",
       "    <tr>\n",
       "      <th>58</th>\n",
       "      <td>1992</td>\n",
       "      <td>us</td>\n",
       "      <td>8</td>\n",
       "    </tr>\n",
       "    <tr>\n",
       "      <th>59</th>\n",
       "      <td>1993</td>\n",
       "      <td>ca</td>\n",
       "      <td>1</td>\n",
       "    </tr>\n",
       "    <tr>\n",
       "      <th>60</th>\n",
       "      <td>1993</td>\n",
       "      <td>us</td>\n",
       "      <td>11</td>\n",
       "    </tr>\n",
       "    <tr>\n",
       "      <th>61</th>\n",
       "      <td>1994</td>\n",
       "      <td>ca</td>\n",
       "      <td>1</td>\n",
       "    </tr>\n",
       "    <tr>\n",
       "      <th>62</th>\n",
       "      <td>1994</td>\n",
       "      <td>us</td>\n",
       "      <td>10</td>\n",
       "    </tr>\n",
       "    <tr>\n",
       "      <th>63</th>\n",
       "      <td>1995</td>\n",
       "      <td>ca</td>\n",
       "      <td>1</td>\n",
       "    </tr>\n",
       "    <tr>\n",
       "      <th>64</th>\n",
       "      <td>1995</td>\n",
       "      <td>us</td>\n",
       "      <td>11</td>\n",
       "    </tr>\n",
       "    <tr>\n",
       "      <th>65</th>\n",
       "      <td>1996</td>\n",
       "      <td>us</td>\n",
       "      <td>12</td>\n",
       "    </tr>\n",
       "    <tr>\n",
       "      <th>66</th>\n",
       "      <td>1997</td>\n",
       "      <td>ca</td>\n",
       "      <td>1</td>\n",
       "    </tr>\n",
       "    <tr>\n",
       "      <th>67</th>\n",
       "      <td>1997</td>\n",
       "      <td>us</td>\n",
       "      <td>13</td>\n",
       "    </tr>\n",
       "    <tr>\n",
       "      <th>68</th>\n",
       "      <td>1998</td>\n",
       "      <td>us</td>\n",
       "      <td>13</td>\n",
       "    </tr>\n",
       "    <tr>\n",
       "      <th>69</th>\n",
       "      <td>1999</td>\n",
       "      <td>us</td>\n",
       "      <td>11</td>\n",
       "    </tr>\n",
       "    <tr>\n",
       "      <th>70</th>\n",
       "      <td>2000</td>\n",
       "      <td>ca</td>\n",
       "      <td>1</td>\n",
       "    </tr>\n",
       "    <tr>\n",
       "      <th>71</th>\n",
       "      <td>2000</td>\n",
       "      <td>us</td>\n",
       "      <td>11</td>\n",
       "    </tr>\n",
       "    <tr>\n",
       "      <th>72</th>\n",
       "      <td>2001</td>\n",
       "      <td>ca</td>\n",
       "      <td>1</td>\n",
       "    </tr>\n",
       "    <tr>\n",
       "      <th>73</th>\n",
       "      <td>2001</td>\n",
       "      <td>us</td>\n",
       "      <td>14</td>\n",
       "    </tr>\n",
       "    <tr>\n",
       "      <th>74</th>\n",
       "      <td>2002</td>\n",
       "      <td>ca</td>\n",
       "      <td>1</td>\n",
       "    </tr>\n",
       "    <tr>\n",
       "      <th>75</th>\n",
       "      <td>2002</td>\n",
       "      <td>us</td>\n",
       "      <td>13</td>\n",
       "    </tr>\n",
       "    <tr>\n",
       "      <th>76</th>\n",
       "      <td>2003</td>\n",
       "      <td>us</td>\n",
       "      <td>9</td>\n",
       "    </tr>\n",
       "    <tr>\n",
       "      <th>77</th>\n",
       "      <td>2004</td>\n",
       "      <td>ca</td>\n",
       "      <td>1</td>\n",
       "    </tr>\n",
       "    <tr>\n",
       "      <th>78</th>\n",
       "      <td>2004</td>\n",
       "      <td>us</td>\n",
       "      <td>6</td>\n",
       "    </tr>\n",
       "  </tbody>\n",
       "</table>\n",
       "<p>79 rows × 3 columns</p>\n",
       "</div>"
      ],
      "text/plain": [
       "    Year country   0\n",
       "0   1910      us   1\n",
       "1   1920      us   1\n",
       "2   1929      us   1\n",
       "3   1931      us   1\n",
       "4   1939      us   2\n",
       "5   1941      us   1\n",
       "6   1942      us   1\n",
       "7   1944      us   3\n",
       "8   1945      us   4\n",
       "9   1946      us   3\n",
       "10  1947      us   4\n",
       "11  1948      us   3\n",
       "12  1949      us   4\n",
       "13  1950      us   4\n",
       "14  1951      ca   1\n",
       "15  1951      us   3\n",
       "16  1952      us   4\n",
       "17  1953      us   4\n",
       "18  1954      us   4\n",
       "19  1955      us   4\n",
       "20  1956      us   4\n",
       "21  1957      us   4\n",
       "22  1958      us   4\n",
       "23  1959      us   4\n",
       "24  1960      us   4\n",
       "25  1961      us   4\n",
       "26  1962      us   4\n",
       "27  1963      us   4\n",
       "28  1964      us   4\n",
       "29  1965      us   4\n",
       "..   ...     ...  ..\n",
       "49  1984      us   4\n",
       "50  1985      us   4\n",
       "51  1986      us   4\n",
       "52  1987      us   4\n",
       "53  1988      us   4\n",
       "54  1989      ca   1\n",
       "55  1989      us   3\n",
       "56  1990      us   4\n",
       "57  1991      us   4\n",
       "58  1992      us   8\n",
       "59  1993      ca   1\n",
       "60  1993      us  11\n",
       "61  1994      ca   1\n",
       "62  1994      us  10\n",
       "63  1995      ca   1\n",
       "64  1995      us  11\n",
       "65  1996      us  12\n",
       "66  1997      ca   1\n",
       "67  1997      us  13\n",
       "68  1998      us  13\n",
       "69  1999      us  11\n",
       "70  2000      ca   1\n",
       "71  2000      us  11\n",
       "72  2001      ca   1\n",
       "73  2001      us  14\n",
       "74  2002      ca   1\n",
       "75  2002      us  13\n",
       "76  2003      us   9\n",
       "77  2004      ca   1\n",
       "78  2004      us   6\n",
       "\n",
       "[79 rows x 3 columns]"
      ]
     },
     "execution_count": 184,
     "metadata": {
      "tags": []
     },
     "output_type": "execute_result"
    }
   ],
   "source": [
    "result = df.groupby(['Year', 'country']).size()\n",
    "print(\"Country-year wise frequency of reporting dates of UFO:\")\n",
    "result.reset_index()"
   ]
  },
  {
   "cell_type": "markdown",
   "metadata": {
    "Collapsed": "false",
    "colab_type": "text",
    "hidden": true,
    "id": "Oec0ayTIroU4"
   },
   "source": [
    "Extracting unique reporting dates of unidentified flying object (UFO)."
   ]
  },
  {
   "cell_type": "code",
   "execution_count": null,
   "metadata": {
    "Collapsed": "false",
    "ExecuteTime": {
     "end_time": "2019-09-04T14:51:19.778065Z",
     "start_time": "2019-09-04T14:51:19.769061Z"
    },
    "colab": {},
    "colab_type": "code",
    "hidden": true,
    "id": "weCtVGctroU5",
    "outputId": "55178e52-6bcd-4525-ca56-9930324deae5"
   },
   "outputs": [
    {
     "name": "stdout",
     "output_type": "stream",
     "text": [
      "\n",
      "Unique reporting dates of UFO:\n"
     ]
    },
    {
     "data": {
      "text/plain": [
       "array([datetime.date(1910, 6, 1), datetime.date(1920, 6, 11),\n",
       "       datetime.date(1929, 7, 5), datetime.date(1931, 6, 1),\n",
       "       datetime.date(1939, 6, 1), datetime.date(1939, 7, 7),\n",
       "       datetime.date(1941, 6, 1), datetime.date(1942, 6, 1),\n",
       "       datetime.date(1944, 1, 1), datetime.date(1944, 6, 1),\n",
       "       datetime.date(1944, 4, 2), datetime.date(1945, 6, 1),\n",
       "       datetime.date(1945, 6, 7), datetime.date(1945, 8, 8),\n",
       "       datetime.date(1945, 7, 10), datetime.date(1946, 2, 1),\n",
       "       datetime.date(1946, 7, 1), datetime.date(1946, 1, 8),\n",
       "       datetime.date(1947, 6, 1), datetime.date(1947, 7, 1),\n",
       "       datetime.date(1948, 8, 1), datetime.date(1948, 5, 10),\n",
       "       datetime.date(1948, 12, 12), datetime.date(1949, 5, 1),\n",
       "       datetime.date(1949, 7, 1), datetime.date(1949, 4, 10),\n",
       "       datetime.date(1950, 6, 1), datetime.date(1950, 8, 1),\n",
       "       datetime.date(1950, 10, 1), datetime.date(1951, 6, 1),\n",
       "       datetime.date(1951, 7, 1), datetime.date(1951, 2, 3),\n",
       "       datetime.date(1951, 6, 3), datetime.date(1952, 7, 1),\n",
       "       datetime.date(1952, 8, 1), datetime.date(1952, 10, 1),\n",
       "       datetime.date(1953, 4, 1), datetime.date(1953, 7, 1),\n",
       "       datetime.date(1953, 8, 1), datetime.date(1954, 2, 1),\n",
       "       datetime.date(1954, 6, 1), datetime.date(1955, 5, 1),\n",
       "       datetime.date(1955, 6, 1), datetime.date(1956, 1, 1),\n",
       "       datetime.date(1956, 3, 1), datetime.date(1956, 5, 1),\n",
       "       datetime.date(1956, 6, 1), datetime.date(1957, 1, 1),\n",
       "       datetime.date(1957, 5, 1), datetime.date(1957, 6, 1),\n",
       "       datetime.date(1958, 1, 1), datetime.date(1958, 6, 1),\n",
       "       datetime.date(1959, 4, 1), datetime.date(1959, 5, 1),\n",
       "       datetime.date(1959, 6, 1), datetime.date(1960, 2, 1),\n",
       "       datetime.date(1960, 4, 1), datetime.date(1960, 5, 1),\n",
       "       datetime.date(1961, 1, 1), datetime.date(1961, 4, 1),\n",
       "       datetime.date(1961, 5, 1), datetime.date(1962, 1, 1),\n",
       "       datetime.date(1962, 3, 1), datetime.date(1962, 6, 1),\n",
       "       datetime.date(1963, 1, 1), datetime.date(1963, 4, 1),\n",
       "       datetime.date(1963, 6, 1), datetime.date(1964, 5, 1),\n",
       "       datetime.date(1964, 6, 1), datetime.date(1964, 7, 1),\n",
       "       datetime.date(1965, 1, 1), datetime.date(1965, 4, 1),\n",
       "       datetime.date(1966, 1, 1), datetime.date(1966, 2, 1),\n",
       "       datetime.date(1966, 4, 1), datetime.date(1967, 3, 1),\n",
       "       datetime.date(1967, 4, 1), datetime.date(1968, 1, 1),\n",
       "       datetime.date(1969, 1, 1), datetime.date(1969, 3, 1),\n",
       "       datetime.date(1970, 1, 1), datetime.date(1970, 5, 1),\n",
       "       datetime.date(1971, 1, 1), datetime.date(1971, 2, 1),\n",
       "       datetime.date(1971, 4, 1), datetime.date(1972, 1, 1),\n",
       "       datetime.date(1972, 3, 1), datetime.date(1972, 4, 1),\n",
       "       datetime.date(1973, 1, 1), datetime.date(1973, 2, 1),\n",
       "       datetime.date(1973, 3, 1), datetime.date(1974, 1, 1),\n",
       "       datetime.date(1974, 4, 1), datetime.date(1974, 5, 1),\n",
       "       datetime.date(1974, 6, 1), datetime.date(1975, 1, 1),\n",
       "       datetime.date(1976, 5, 1), datetime.date(1977, 1, 1),\n",
       "       datetime.date(1978, 1, 1), datetime.date(1978, 2, 1),\n",
       "       datetime.date(1978, 3, 1), datetime.date(1979, 1, 1),\n",
       "       datetime.date(1979, 2, 1), datetime.date(1979, 3, 1),\n",
       "       datetime.date(1980, 1, 1), datetime.date(1980, 3, 1),\n",
       "       datetime.date(1981, 1, 1), datetime.date(1981, 3, 1),\n",
       "       datetime.date(1982, 1, 1), datetime.date(1982, 5, 1),\n",
       "       datetime.date(1982, 6, 1), datetime.date(1983, 3, 1),\n",
       "       datetime.date(1983, 5, 1), datetime.date(1984, 3, 1),\n",
       "       datetime.date(1984, 5, 1), datetime.date(1985, 1, 1),\n",
       "       datetime.date(1985, 2, 1), datetime.date(1985, 3, 1),\n",
       "       datetime.date(1986, 1, 1), datetime.date(1986, 4, 1),\n",
       "       datetime.date(1987, 1, 1), datetime.date(1987, 2, 1),\n",
       "       datetime.date(1987, 3, 1), datetime.date(1988, 1, 1),\n",
       "       datetime.date(1988, 8, 2), datetime.date(1988, 9, 3),\n",
       "       datetime.date(1988, 7, 4), datetime.date(1989, 1, 1),\n",
       "       datetime.date(1989, 9, 2), datetime.date(1989, 7, 3),\n",
       "       datetime.date(1989, 1, 5), datetime.date(1990, 5, 1),\n",
       "       datetime.date(1990, 9, 2), datetime.date(1990, 7, 3),\n",
       "       datetime.date(1990, 10, 5), datetime.date(1991, 3, 1),\n",
       "       datetime.date(1991, 9, 2), datetime.date(1991, 6, 3),\n",
       "       datetime.date(1991, 7, 4), datetime.date(1992, 2, 1),\n",
       "       datetime.date(1992, 4, 2), datetime.date(1992, 9, 3),\n",
       "       datetime.date(1992, 7, 4), datetime.date(1992, 8, 5),\n",
       "       datetime.date(1992, 4, 8), datetime.date(1992, 10, 9),\n",
       "       datetime.date(1992, 10, 10), datetime.date(1993, 3, 1),\n",
       "       datetime.date(1993, 11, 2), datetime.date(1993, 9, 3),\n",
       "       datetime.date(1993, 8, 4), datetime.date(1993, 7, 5),\n",
       "       datetime.date(1993, 9, 6), datetime.date(1993, 7, 7),\n",
       "       datetime.date(1993, 9, 8), datetime.date(1993, 8, 9),\n",
       "       datetime.date(1993, 4, 10), datetime.date(1993, 6, 11),\n",
       "       datetime.date(1993, 7, 12), datetime.date(1994, 1, 1),\n",
       "       datetime.date(1994, 5, 2), datetime.date(1994, 3, 3),\n",
       "       datetime.date(1994, 4, 4), datetime.date(1994, 5, 5),\n",
       "       datetime.date(1994, 12, 6), datetime.date(1994, 8, 7),\n",
       "       datetime.date(1994, 3, 9), datetime.date(1994, 3, 10),\n",
       "       datetime.date(1994, 4, 11), datetime.date(1994, 1, 12),\n",
       "       datetime.date(1995, 1, 1), datetime.date(1995, 7, 2),\n",
       "       datetime.date(1995, 7, 3), datetime.date(1995, 4, 4),\n",
       "       datetime.date(1995, 1, 5), datetime.date(1995, 5, 6),\n",
       "       datetime.date(1995, 2, 7), datetime.date(1995, 7, 8),\n",
       "       datetime.date(1995, 11, 9), datetime.date(1995, 6, 10),\n",
       "       datetime.date(1995, 9, 11), datetime.date(1995, 11, 12),\n",
       "       datetime.date(1996, 2, 1), datetime.date(1996, 8, 2),\n",
       "       datetime.date(1996, 7, 3), datetime.date(1996, 7, 4),\n",
       "       datetime.date(1996, 4, 5), datetime.date(1996, 7, 5),\n",
       "       datetime.date(1996, 9, 5), datetime.date(1996, 11, 6),\n",
       "       datetime.date(1996, 8, 8), datetime.date(1996, 6, 10),\n",
       "       datetime.date(1996, 5, 11), datetime.date(1996, 8, 12),\n",
       "       datetime.date(1997, 2, 1), datetime.date(1997, 3, 1),\n",
       "       datetime.date(1997, 6, 1), datetime.date(1997, 5, 2),\n",
       "       datetime.date(1997, 5, 3), datetime.date(1997, 7, 4),\n",
       "       datetime.date(1997, 10, 5), datetime.date(1997, 9, 6),\n",
       "       datetime.date(1997, 7, 7), datetime.date(1997, 8, 8),\n",
       "       datetime.date(1997, 12, 9), datetime.date(1997, 2, 10),\n",
       "       datetime.date(1997, 11, 11), datetime.date(1997, 7, 12),\n",
       "       datetime.date(1998, 4, 1), datetime.date(1998, 10, 2),\n",
       "       datetime.date(1998, 3, 3), datetime.date(1998, 6, 4),\n",
       "       datetime.date(1998, 2, 5), datetime.date(1998, 2, 6),\n",
       "       datetime.date(1998, 6, 7), datetime.date(1998, 1, 8),\n",
       "       datetime.date(1998, 12, 8), datetime.date(1998, 4, 9),\n",
       "       datetime.date(1998, 12, 9), datetime.date(1998, 4, 10),\n",
       "       datetime.date(1998, 7, 11), datetime.date(1999, 6, 1),\n",
       "       datetime.date(1999, 7, 2), datetime.date(1999, 12, 5),\n",
       "       datetime.date(1999, 7, 6), datetime.date(1999, 7, 7),\n",
       "       datetime.date(1999, 10, 7), datetime.date(1999, 7, 8),\n",
       "       datetime.date(1999, 6, 9), datetime.date(1999, 3, 10),\n",
       "       datetime.date(1999, 3, 11), datetime.date(1999, 5, 12),\n",
       "       datetime.date(2000, 2, 1), datetime.date(2000, 3, 2),\n",
       "       datetime.date(2000, 5, 3), datetime.date(2000, 2, 4),\n",
       "       datetime.date(2000, 5, 5), datetime.date(2000, 3, 6),\n",
       "       datetime.date(2000, 12, 7), datetime.date(2000, 11, 8),\n",
       "       datetime.date(2000, 12, 9), datetime.date(2000, 6, 10),\n",
       "       datetime.date(2000, 2, 11), datetime.date(2000, 7, 12),\n",
       "       datetime.date(2001, 1, 1), datetime.date(2001, 5, 2),\n",
       "       datetime.date(2001, 3, 3), datetime.date(2001, 8, 4),\n",
       "       datetime.date(2001, 6, 5), datetime.date(2001, 11, 5),\n",
       "       datetime.date(2001, 4, 6), datetime.date(2001, 2, 7),\n",
       "       datetime.date(2001, 4, 8), datetime.date(2001, 9, 9),\n",
       "       datetime.date(2001, 6, 10), datetime.date(2001, 1, 11),\n",
       "       datetime.date(2001, 12, 11), datetime.date(2001, 3, 12),\n",
       "       datetime.date(2001, 9, 12), datetime.date(2002, 3, 1),\n",
       "       datetime.date(2002, 8, 1), datetime.date(2002, 1, 2),\n",
       "       datetime.date(2002, 7, 3), datetime.date(2002, 7, 4),\n",
       "       datetime.date(2002, 9, 5), datetime.date(2002, 10, 5),\n",
       "       datetime.date(2002, 5, 6), datetime.date(2002, 1, 7),\n",
       "       datetime.date(2002, 9, 8), datetime.date(2002, 5, 9),\n",
       "       datetime.date(2002, 5, 10), datetime.date(2002, 1, 11),\n",
       "       datetime.date(2002, 2, 12), datetime.date(2003, 4, 1),\n",
       "       datetime.date(2003, 10, 2), datetime.date(2003, 11, 4),\n",
       "       datetime.date(2003, 1, 6), datetime.date(2003, 5, 7),\n",
       "       datetime.date(2003, 7, 8), datetime.date(2003, 4, 9),\n",
       "       datetime.date(2003, 3, 10), datetime.date(2003, 7, 11),\n",
       "       datetime.date(2004, 2, 1), datetime.date(2004, 10, 2),\n",
       "       datetime.date(2004, 4, 5), datetime.date(2004, 10, 6),\n",
       "       datetime.date(2004, 11, 7), datetime.date(2004, 12, 8),\n",
       "       datetime.date(2004, 2, 10)], dtype=object)"
      ]
     },
     "execution_count": 185,
     "metadata": {
      "tags": []
     },
     "output_type": "execute_result"
    }
   ],
   "source": [
    "print(\"\\nUnique reporting dates of UFO:\")\n",
    "df[\"Date_time\"].dt.date.unique()"
   ]
  },
  {
   "cell_type": "markdown",
   "metadata": {
    "Collapsed": "false",
    "colab_type": "text",
    "hidden": true,
    "id": "bb7kE5aAroU7"
   },
   "source": [
    "Getting the difference (in days) between documented date and reporting date of unidentified flying object (UFO)."
   ]
  },
  {
   "cell_type": "code",
   "execution_count": null,
   "metadata": {
    "Collapsed": "false",
    "ExecuteTime": {
     "end_time": "2019-09-04T14:54:25.361093Z",
     "start_time": "2019-09-04T14:54:25.340149Z"
    },
    "colab": {},
    "colab_type": "code",
    "hidden": true,
    "id": "f0z0x3N6roU-",
    "outputId": "f5d8e0e2-fe6b-4109-dbbd-7cb4bfb5f302"
   },
   "outputs": [
    {
     "name": "stdout",
     "output_type": "stream",
     "text": [
      "\n",
      "Difference (in days) between documented date and reporting date of UFO:\n"
     ]
    },
    {
     "data": {
      "text/html": [
       "<div>\n",
       "<style scoped>\n",
       "    .dataframe tbody tr th:only-of-type {\n",
       "        vertical-align: middle;\n",
       "    }\n",
       "\n",
       "    .dataframe tbody tr th {\n",
       "        vertical-align: top;\n",
       "    }\n",
       "\n",
       "    .dataframe thead th {\n",
       "        text-align: right;\n",
       "    }\n",
       "</style>\n",
       "<table border=\"1\" class=\"dataframe\">\n",
       "  <thead>\n",
       "    <tr style=\"text-align: right;\">\n",
       "      <th></th>\n",
       "      <th>Date_time</th>\n",
       "      <th>city</th>\n",
       "      <th>state/province</th>\n",
       "      <th>country</th>\n",
       "      <th>UFO_shape</th>\n",
       "      <th>length_of_encounter_seconds</th>\n",
       "      <th>described_duration_of_encounter</th>\n",
       "      <th>description</th>\n",
       "      <th>date_documented</th>\n",
       "      <th>latitude</th>\n",
       "      <th>longitude</th>\n",
       "      <th>Year</th>\n",
       "      <th>Difference</th>\n",
       "    </tr>\n",
       "  </thead>\n",
       "  <tbody>\n",
       "    <tr>\n",
       "      <th>0</th>\n",
       "      <td>1910-06-01 15:00:00</td>\n",
       "      <td>wills point</td>\n",
       "      <td>tx</td>\n",
       "      <td>us</td>\n",
       "      <td>cigar</td>\n",
       "      <td>120</td>\n",
       "      <td>2 minutes</td>\n",
       "      <td>Cigar shaped object moving from West to East</td>\n",
       "      <td>2005-04-16</td>\n",
       "      <td>32.709167</td>\n",
       "      <td>-96.008056</td>\n",
       "      <td>1910</td>\n",
       "      <td>34652</td>\n",
       "    </tr>\n",
       "    <tr>\n",
       "      <th>1</th>\n",
       "      <td>1920-06-11 21:00:00</td>\n",
       "      <td>cicero</td>\n",
       "      <td>in</td>\n",
       "      <td>us</td>\n",
       "      <td>unknown</td>\n",
       "      <td>60</td>\n",
       "      <td>1 minute</td>\n",
       "      <td>((NUFORC Note:  Probable hoax.  Note date.  PD...</td>\n",
       "      <td>2009-05-12</td>\n",
       "      <td>40.123889</td>\n",
       "      <td>-86.013333</td>\n",
       "      <td>1920</td>\n",
       "      <td>32476</td>\n",
       "    </tr>\n",
       "    <tr>\n",
       "      <th>2</th>\n",
       "      <td>1929-07-05 14:00:00</td>\n",
       "      <td>buchanan  (or burns)</td>\n",
       "      <td>or</td>\n",
       "      <td>us</td>\n",
       "      <td>disk</td>\n",
       "      <td>60</td>\n",
       "      <td>1min</td>\n",
       "      <td>we were traveling east of burns&amp;#44clmbing up ...</td>\n",
       "      <td>2002-08-16</td>\n",
       "      <td>43.642500</td>\n",
       "      <td>-118.627500</td>\n",
       "      <td>1929</td>\n",
       "      <td>26704</td>\n",
       "    </tr>\n",
       "    <tr>\n",
       "      <th>3</th>\n",
       "      <td>1931-06-01 13:00:00</td>\n",
       "      <td>abilene</td>\n",
       "      <td>ks</td>\n",
       "      <td>us</td>\n",
       "      <td>disk</td>\n",
       "      <td>1800</td>\n",
       "      <td>30 min. approx.</td>\n",
       "      <td>This is a what my mother related to me regardi...</td>\n",
       "      <td>2006-02-14</td>\n",
       "      <td>38.917222</td>\n",
       "      <td>-97.213611</td>\n",
       "      <td>1931</td>\n",
       "      <td>27286</td>\n",
       "    </tr>\n",
       "    <tr>\n",
       "      <th>4</th>\n",
       "      <td>1939-06-01 20:00:00</td>\n",
       "      <td>waterloo</td>\n",
       "      <td>al</td>\n",
       "      <td>us</td>\n",
       "      <td>fireball</td>\n",
       "      <td>300</td>\n",
       "      <td>5 minutes</td>\n",
       "      <td>4 high school students see bright&amp;#44 ground-l...</td>\n",
       "      <td>2014-02-21</td>\n",
       "      <td>34.918056</td>\n",
       "      <td>-88.064167</td>\n",
       "      <td>1939</td>\n",
       "      <td>27293</td>\n",
       "    </tr>\n",
       "  </tbody>\n",
       "</table>\n",
       "</div>"
      ],
      "text/plain": [
       "            Date_time                  city state/province country UFO_shape  \\\n",
       "0 1910-06-01 15:00:00           wills point             tx      us     cigar   \n",
       "1 1920-06-11 21:00:00                cicero             in      us   unknown   \n",
       "2 1929-07-05 14:00:00  buchanan  (or burns)             or      us      disk   \n",
       "3 1931-06-01 13:00:00               abilene             ks      us      disk   \n",
       "4 1939-06-01 20:00:00              waterloo             al      us  fireball   \n",
       "\n",
       "   length_of_encounter_seconds described_duration_of_encounter  \\\n",
       "0                          120                       2 minutes   \n",
       "1                           60                        1 minute   \n",
       "2                           60                            1min   \n",
       "3                         1800                 30 min. approx.   \n",
       "4                          300                       5 minutes   \n",
       "\n",
       "                                         description date_documented  \\\n",
       "0       Cigar shaped object moving from West to East      2005-04-16   \n",
       "1  ((NUFORC Note:  Probable hoax.  Note date.  PD...      2009-05-12   \n",
       "2  we were traveling east of burns&#44clmbing up ...      2002-08-16   \n",
       "3  This is a what my mother related to me regardi...      2006-02-14   \n",
       "4  4 high school students see bright&#44 ground-l...      2014-02-21   \n",
       "\n",
       "    latitude   longitude  Year  Difference  \n",
       "0  32.709167  -96.008056  1910       34652  \n",
       "1  40.123889  -86.013333  1920       32476  \n",
       "2  43.642500 -118.627500  1929       26704  \n",
       "3  38.917222  -97.213611  1931       27286  \n",
       "4  34.918056  -88.064167  1939       27293  "
      ]
     },
     "execution_count": 189,
     "metadata": {
      "tags": []
     },
     "output_type": "execute_result"
    }
   ],
   "source": [
    "df['date_documented'] = df['date_documented'].astype('datetime64[ns]')\n",
    "print(\"\\nDifference (in days) between documented date and reporting date of UFO:\")\n",
    "df['Difference'] = (df['date_documented'] - df['Date_time']).dt.days\n",
    "df.head()"
   ]
  },
  {
   "cell_type": "markdown",
   "metadata": {
    "Collapsed": "false",
    "colab_type": "text",
    "hidden": true,
    "id": "bnFiOuYJroVB"
   },
   "source": [
    "Adding 100 days with reporting date of unidentified flying object (UFO)."
   ]
  },
  {
   "cell_type": "code",
   "execution_count": null,
   "metadata": {
    "Collapsed": "false",
    "ExecuteTime": {
     "end_time": "2019-09-04T14:56:45.500151Z",
     "start_time": "2019-09-04T14:56:45.481199Z"
    },
    "colab": {},
    "colab_type": "code",
    "hidden": true,
    "id": "oW2gZJYdroVC",
    "outputId": "592d86c9-ee72-46a1-82e5-864c30acad03"
   },
   "outputs": [
    {
     "name": "stdout",
     "output_type": "stream",
     "text": [
      "\n",
      "Add 100 days with reporting date:\n"
     ]
    },
    {
     "data": {
      "text/html": [
       "<div>\n",
       "<style scoped>\n",
       "    .dataframe tbody tr th:only-of-type {\n",
       "        vertical-align: middle;\n",
       "    }\n",
       "\n",
       "    .dataframe tbody tr th {\n",
       "        vertical-align: top;\n",
       "    }\n",
       "\n",
       "    .dataframe thead th {\n",
       "        text-align: right;\n",
       "    }\n",
       "</style>\n",
       "<table border=\"1\" class=\"dataframe\">\n",
       "  <thead>\n",
       "    <tr style=\"text-align: right;\">\n",
       "      <th></th>\n",
       "      <th>Date_time</th>\n",
       "      <th>city</th>\n",
       "      <th>state/province</th>\n",
       "      <th>country</th>\n",
       "      <th>UFO_shape</th>\n",
       "      <th>length_of_encounter_seconds</th>\n",
       "      <th>described_duration_of_encounter</th>\n",
       "      <th>description</th>\n",
       "      <th>date_documented</th>\n",
       "      <th>latitude</th>\n",
       "      <th>longitude</th>\n",
       "      <th>Year</th>\n",
       "      <th>Difference</th>\n",
       "      <th>New_doc_dt</th>\n",
       "    </tr>\n",
       "  </thead>\n",
       "  <tbody>\n",
       "    <tr>\n",
       "      <th>0</th>\n",
       "      <td>1910-06-01 15:00:00</td>\n",
       "      <td>wills point</td>\n",
       "      <td>tx</td>\n",
       "      <td>us</td>\n",
       "      <td>cigar</td>\n",
       "      <td>120</td>\n",
       "      <td>2 minutes</td>\n",
       "      <td>Cigar shaped object moving from West to East</td>\n",
       "      <td>2005-04-16</td>\n",
       "      <td>32.709167</td>\n",
       "      <td>-96.008056</td>\n",
       "      <td>1910</td>\n",
       "      <td>34652</td>\n",
       "      <td>1910-11-28 15:00:00</td>\n",
       "    </tr>\n",
       "    <tr>\n",
       "      <th>1</th>\n",
       "      <td>1920-06-11 21:00:00</td>\n",
       "      <td>cicero</td>\n",
       "      <td>in</td>\n",
       "      <td>us</td>\n",
       "      <td>unknown</td>\n",
       "      <td>60</td>\n",
       "      <td>1 minute</td>\n",
       "      <td>((NUFORC Note:  Probable hoax.  Note date.  PD...</td>\n",
       "      <td>2009-05-12</td>\n",
       "      <td>40.123889</td>\n",
       "      <td>-86.013333</td>\n",
       "      <td>1920</td>\n",
       "      <td>32476</td>\n",
       "      <td>1920-12-08 21:00:00</td>\n",
       "    </tr>\n",
       "    <tr>\n",
       "      <th>2</th>\n",
       "      <td>1929-07-05 14:00:00</td>\n",
       "      <td>buchanan  (or burns)</td>\n",
       "      <td>or</td>\n",
       "      <td>us</td>\n",
       "      <td>disk</td>\n",
       "      <td>60</td>\n",
       "      <td>1min</td>\n",
       "      <td>we were traveling east of burns&amp;#44clmbing up ...</td>\n",
       "      <td>2002-08-16</td>\n",
       "      <td>43.642500</td>\n",
       "      <td>-118.627500</td>\n",
       "      <td>1929</td>\n",
       "      <td>26704</td>\n",
       "      <td>1930-01-01 14:00:00</td>\n",
       "    </tr>\n",
       "    <tr>\n",
       "      <th>3</th>\n",
       "      <td>1931-06-01 13:00:00</td>\n",
       "      <td>abilene</td>\n",
       "      <td>ks</td>\n",
       "      <td>us</td>\n",
       "      <td>disk</td>\n",
       "      <td>1800</td>\n",
       "      <td>30 min. approx.</td>\n",
       "      <td>This is a what my mother related to me regardi...</td>\n",
       "      <td>2006-02-14</td>\n",
       "      <td>38.917222</td>\n",
       "      <td>-97.213611</td>\n",
       "      <td>1931</td>\n",
       "      <td>27286</td>\n",
       "      <td>1931-11-28 13:00:00</td>\n",
       "    </tr>\n",
       "    <tr>\n",
       "      <th>4</th>\n",
       "      <td>1939-06-01 20:00:00</td>\n",
       "      <td>waterloo</td>\n",
       "      <td>al</td>\n",
       "      <td>us</td>\n",
       "      <td>fireball</td>\n",
       "      <td>300</td>\n",
       "      <td>5 minutes</td>\n",
       "      <td>4 high school students see bright&amp;#44 ground-l...</td>\n",
       "      <td>2014-02-21</td>\n",
       "      <td>34.918056</td>\n",
       "      <td>-88.064167</td>\n",
       "      <td>1939</td>\n",
       "      <td>27293</td>\n",
       "      <td>1939-11-28 20:00:00</td>\n",
       "    </tr>\n",
       "  </tbody>\n",
       "</table>\n",
       "</div>"
      ],
      "text/plain": [
       "            Date_time                  city state/province country UFO_shape  \\\n",
       "0 1910-06-01 15:00:00           wills point             tx      us     cigar   \n",
       "1 1920-06-11 21:00:00                cicero             in      us   unknown   \n",
       "2 1929-07-05 14:00:00  buchanan  (or burns)             or      us      disk   \n",
       "3 1931-06-01 13:00:00               abilene             ks      us      disk   \n",
       "4 1939-06-01 20:00:00              waterloo             al      us  fireball   \n",
       "\n",
       "   length_of_encounter_seconds described_duration_of_encounter  \\\n",
       "0                          120                       2 minutes   \n",
       "1                           60                        1 minute   \n",
       "2                           60                            1min   \n",
       "3                         1800                 30 min. approx.   \n",
       "4                          300                       5 minutes   \n",
       "\n",
       "                                         description date_documented  \\\n",
       "0       Cigar shaped object moving from West to East      2005-04-16   \n",
       "1  ((NUFORC Note:  Probable hoax.  Note date.  PD...      2009-05-12   \n",
       "2  we were traveling east of burns&#44clmbing up ...      2002-08-16   \n",
       "3  This is a what my mother related to me regardi...      2006-02-14   \n",
       "4  4 high school students see bright&#44 ground-l...      2014-02-21   \n",
       "\n",
       "    latitude   longitude  Year  Difference          New_doc_dt  \n",
       "0  32.709167  -96.008056  1910       34652 1910-11-28 15:00:00  \n",
       "1  40.123889  -86.013333  1920       32476 1920-12-08 21:00:00  \n",
       "2  43.642500 -118.627500  1929       26704 1930-01-01 14:00:00  \n",
       "3  38.917222  -97.213611  1931       27286 1931-11-28 13:00:00  \n",
       "4  34.918056  -88.064167  1939       27293 1939-11-28 20:00:00  "
      ]
     },
     "execution_count": 191,
     "metadata": {
      "tags": []
     },
     "output_type": "execute_result"
    }
   ],
   "source": [
    "print(\"\\nAdd 100 days with reporting date:\")\n",
    "df['New_doc_dt'] = df['Date_time'] + datetime.timedelta(days=180)\n",
    "df.head()"
   ]
  },
  {
   "cell_type": "markdown",
   "metadata": {
    "Collapsed": "false",
    "colab_type": "text",
    "hidden": true,
    "id": "N2-SiUq5roVF"
   },
   "source": [
    "Generating sequences of fixed-frequency dates and time spans."
   ]
  },
  {
   "cell_type": "code",
   "execution_count": null,
   "metadata": {
    "Collapsed": "false",
    "ExecuteTime": {
     "end_time": "2019-09-04T15:01:23.217281Z",
     "start_time": "2019-09-04T15:01:23.153453Z"
    },
    "colab": {},
    "colab_type": "code",
    "hidden": true,
    "id": "6NTkH_UKroVG",
    "outputId": "71f442de-4ad9-4fcd-bdf0-fd5a195258fd"
   },
   "outputs": [
    {
     "name": "stdout",
     "output_type": "stream",
     "text": [
      "Hourly frequency:\n"
     ]
    },
    {
     "data": {
      "text/plain": [
       "DatetimeIndex(['2018-01-01 00:00:00', '2018-01-01 01:00:00',\n",
       "               '2018-01-01 02:00:00', '2018-01-01 03:00:00',\n",
       "               '2018-01-01 04:00:00', '2018-01-01 05:00:00',\n",
       "               '2018-01-01 06:00:00', '2018-01-01 07:00:00',\n",
       "               '2018-01-01 08:00:00', '2018-01-01 09:00:00',\n",
       "               '2018-01-01 10:00:00', '2018-01-01 11:00:00'],\n",
       "              dtype='datetime64[ns]', freq='H')"
      ]
     },
     "metadata": {
      "tags": []
     },
     "output_type": "display_data"
    },
    {
     "name": "stdout",
     "output_type": "stream",
     "text": [
      "\n",
      "Minutely frequency:\n"
     ]
    },
    {
     "data": {
      "text/plain": [
       "DatetimeIndex(['2018-01-01 00:00:00', '2018-01-01 00:01:00',\n",
       "               '2018-01-01 00:02:00', '2018-01-01 00:03:00',\n",
       "               '2018-01-01 00:04:00', '2018-01-01 00:05:00',\n",
       "               '2018-01-01 00:06:00', '2018-01-01 00:07:00',\n",
       "               '2018-01-01 00:08:00', '2018-01-01 00:09:00',\n",
       "               '2018-01-01 00:10:00', '2018-01-01 00:11:00'],\n",
       "              dtype='datetime64[ns]', freq='T')"
      ]
     },
     "metadata": {
      "tags": []
     },
     "output_type": "display_data"
    },
    {
     "name": "stdout",
     "output_type": "stream",
     "text": [
      "\n",
      "Secondly frequency:\n"
     ]
    },
    {
     "data": {
      "text/plain": [
       "DatetimeIndex(['2018-01-01 00:00:00', '2018-01-01 00:00:01',\n",
       "               '2018-01-01 00:00:02', '2018-01-01 00:00:03',\n",
       "               '2018-01-01 00:00:04', '2018-01-01 00:00:05',\n",
       "               '2018-01-01 00:00:06', '2018-01-01 00:00:07',\n",
       "               '2018-01-01 00:00:08', '2018-01-01 00:00:09',\n",
       "               '2018-01-01 00:00:10', '2018-01-01 00:00:11'],\n",
       "              dtype='datetime64[ns]', freq='S')"
      ]
     },
     "metadata": {
      "tags": []
     },
     "output_type": "display_data"
    },
    {
     "name": "stdout",
     "output_type": "stream",
     "text": [
      "\n",
      "Multiple Hourly frequency:\n"
     ]
    },
    {
     "data": {
      "text/plain": [
       "DatetimeIndex(['2018-01-01 00:00:00', '2018-01-01 02:00:00',\n",
       "               '2018-01-01 04:00:00', '2018-01-01 06:00:00',\n",
       "               '2018-01-01 08:00:00', '2018-01-01 10:00:00',\n",
       "               '2018-01-01 12:00:00', '2018-01-01 14:00:00',\n",
       "               '2018-01-01 16:00:00', '2018-01-01 18:00:00',\n",
       "               '2018-01-01 20:00:00', '2018-01-01 22:00:00'],\n",
       "              dtype='datetime64[ns]', freq='2H')"
      ]
     },
     "metadata": {
      "tags": []
     },
     "output_type": "display_data"
    },
    {
     "name": "stdout",
     "output_type": "stream",
     "text": [
      "\n",
      "Multiple Minutely frequency:\n"
     ]
    },
    {
     "data": {
      "text/plain": [
       "DatetimeIndex(['2018-01-01 00:00:00', '2018-01-01 00:05:00',\n",
       "               '2018-01-01 00:10:00', '2018-01-01 00:15:00',\n",
       "               '2018-01-01 00:20:00', '2018-01-01 00:25:00',\n",
       "               '2018-01-01 00:30:00', '2018-01-01 00:35:00',\n",
       "               '2018-01-01 00:40:00', '2018-01-01 00:45:00',\n",
       "               '2018-01-01 00:50:00', '2018-01-01 00:55:00'],\n",
       "              dtype='datetime64[ns]', freq='5T')"
      ]
     },
     "metadata": {
      "tags": []
     },
     "output_type": "display_data"
    },
    {
     "name": "stdout",
     "output_type": "stream",
     "text": [
      "\n",
      "Multiple Secondly frequency:\n"
     ]
    },
    {
     "data": {
      "text/plain": [
       "DatetimeIndex(['2018-03-30', '2018-06-29', '2018-09-28', '2018-12-31',\n",
       "               '2019-03-29', '2019-06-28', '2019-09-30', '2019-12-31',\n",
       "               '2020-03-31', '2020-06-30', '2020-09-30', '2020-12-31'],\n",
       "              dtype='datetime64[ns]', freq='BQ-DEC')"
      ]
     },
     "metadata": {
      "tags": []
     },
     "output_type": "display_data"
    },
    {
     "name": "stdout",
     "output_type": "stream",
     "text": [
      "\n",
      "Weekly frequency:\n"
     ]
    },
    {
     "data": {
      "text/plain": [
       "DatetimeIndex(['2018-01-07', '2018-01-14', '2018-01-21', '2018-01-28',\n",
       "               '2018-02-04', '2018-02-11', '2018-02-18', '2018-02-25',\n",
       "               '2018-03-04', '2018-03-11', '2018-03-18', '2018-03-25'],\n",
       "              dtype='datetime64[ns]', freq='W-SUN')"
      ]
     },
     "metadata": {
      "tags": []
     },
     "output_type": "display_data"
    },
    {
     "name": "stdout",
     "output_type": "stream",
     "text": [
      "\n",
      "Combine together day and intraday offsets-1:\n"
     ]
    },
    {
     "data": {
      "text/plain": [
       "DatetimeIndex(['2018-01-01 00:00:00', '2018-01-01 02:20:00',\n",
       "               '2018-01-01 04:40:00', '2018-01-01 07:00:00',\n",
       "               '2018-01-01 09:20:00', '2018-01-01 11:40:00',\n",
       "               '2018-01-01 14:00:00', '2018-01-01 16:20:00',\n",
       "               '2018-01-01 18:40:00', '2018-01-01 21:00:00',\n",
       "               '2018-01-01 23:20:00', '2018-01-02 01:40:00'],\n",
       "              dtype='datetime64[ns]', freq='140T')"
      ]
     },
     "metadata": {
      "tags": []
     },
     "output_type": "display_data"
    },
    {
     "name": "stdout",
     "output_type": "stream",
     "text": [
      "\n",
      "Combine together day and intraday offsets-2:\n"
     ]
    },
    {
     "data": {
      "text/plain": [
       "DatetimeIndex([       '2018-01-01 00:00:00', '2018-01-02 00:00:00.000010',\n",
       "               '2018-01-03 00:00:00.000020', '2018-01-04 00:00:00.000030',\n",
       "               '2018-01-05 00:00:00.000040', '2018-01-06 00:00:00.000050',\n",
       "               '2018-01-07 00:00:00.000060', '2018-01-08 00:00:00.000070',\n",
       "               '2018-01-09 00:00:00.000080', '2018-01-10 00:00:00.000090',\n",
       "               '2018-01-11 00:00:00.000100', '2018-01-12 00:00:00.000110'],\n",
       "              dtype='datetime64[ns]', freq='86400000010U')"
      ]
     },
     "metadata": {
      "tags": []
     },
     "output_type": "display_data"
    }
   ],
   "source": [
    "dtr = pd.date_range('2018-01-01', periods=12, freq='H')\n",
    "print(\"Hourly frequency:\")\n",
    "display(dtr)\n",
    "dtr = pd.date_range('2018-01-01', periods=12, freq='min')\n",
    "print(\"\\nMinutely frequency:\")\n",
    "display(dtr)\n",
    "dtr = pd.date_range('2018-01-01', periods=12, freq='S')\n",
    "print(\"\\nSecondly frequency:\")\n",
    "display(dtr)\n",
    "dtr = pd.date_range('2018-01-01', periods=12, freq='2H')\n",
    "print(\"\\nMultiple Hourly frequency:\")\n",
    "display(dtr)\n",
    "dtr = pd.date_range('2018-01-01', periods=12, freq='5min')\n",
    "print(\"\\nMultiple Minutely frequency:\")\n",
    "display(dtr)\n",
    "dtr = pd.date_range('2018-01-01', periods=12, freq='BQ')\n",
    "print(\"\\nMultiple Secondly frequency:\")\n",
    "display(dtr)\n",
    "dtr = pd.date_range('2018-01-01', periods=12, freq='w')\n",
    "print(\"\\nWeekly frequency:\")\n",
    "display(dtr)\n",
    "dtr = pd.date_range('2018-01-01', periods=12, freq='2h20min')\n",
    "print(\"\\nCombine together day and intraday offsets-1:\")\n",
    "display(dtr)\n",
    "dtr = pd.date_range('2018-01-01', periods=12, freq='1D10U')\n",
    "print(\"\\nCombine together day and intraday offsets-2:\")\n",
    "display(dtr)"
   ]
  },
  {
   "cell_type": "markdown",
   "metadata": {
    "Collapsed": "false",
    "colab_type": "text",
    "hidden": true,
    "id": "ROoQuuyZroVI"
   },
   "source": [
    "Conversion between strings and datetime:"
   ]
  },
  {
   "cell_type": "code",
   "execution_count": null,
   "metadata": {
    "Collapsed": "false",
    "ExecuteTime": {
     "end_time": "2019-09-04T15:04:01.969716Z",
     "start_time": "2019-09-04T15:04:01.964729Z"
    },
    "colab": {},
    "colab_type": "code",
    "hidden": true,
    "id": "FGIMw0sQroVJ"
   },
   "outputs": [],
   "source": [
    "from dateutil.parser import parse"
   ]
  },
  {
   "cell_type": "code",
   "execution_count": null,
   "metadata": {
    "Collapsed": "false",
    "ExecuteTime": {
     "end_time": "2019-09-04T15:04:15.841060Z",
     "start_time": "2019-09-04T15:04:15.833081Z"
    },
    "colab": {},
    "colab_type": "code",
    "hidden": true,
    "id": "-niSBSuoroVL",
    "outputId": "787d3725-9e0f-4280-86ff-4ff614d5b6bd"
   },
   "outputs": [
    {
     "data": {
      "text/plain": [
       "datetime.datetime(2019, 7, 1, 0, 0)"
      ]
     },
     "execution_count": 195,
     "metadata": {
      "tags": []
     },
     "output_type": "execute_result"
    }
   ],
   "source": [
    "stamp = datetime.datetime(2019,7,1)\n",
    "stamp"
   ]
  },
  {
   "cell_type": "code",
   "execution_count": null,
   "metadata": {
    "Collapsed": "false",
    "ExecuteTime": {
     "end_time": "2019-09-04T15:04:47.943907Z",
     "start_time": "2019-09-04T15:04:47.937956Z"
    },
    "colab": {},
    "colab_type": "code",
    "hidden": true,
    "id": "eqH-8h33roVO",
    "outputId": "4f6d69d0-9b5d-435a-fdd3-77c600198325"
   },
   "outputs": [
    {
     "name": "stdout",
     "output_type": "stream",
     "text": [
      "\n",
      "Convert datatime to strings:\n",
      "2019-07-01\n",
      "01/Jul/19\n",
      "\n",
      "Convert strings to datatime:\n",
      "2019-09-17 00:00:00\n",
      "2019-01-11 00:00:00\n",
      "2019-11-01 00:00:00\n"
     ]
    }
   ],
   "source": [
    "print(\"\\nConvert datatime to strings:\")\n",
    "print(stamp.strftime('%Y-%m-%d'))\n",
    "print(stamp.strftime('%d/%b/%y'))\n",
    "print(\"\\nConvert strings to datatime:\")\n",
    "print(parse('Sept 17th 2019'))\n",
    "print(parse('1/11/2019'))\n",
    "print(parse('1/11/2019', dayfirst=True))"
   ]
  },
  {
   "cell_type": "markdown",
   "metadata": {
    "Collapsed": "false",
    "colab_type": "text",
    "hidden": true,
    "id": "p8y-u84_roVR"
   },
   "source": [
    "Manipulate and convert date times with timezone information."
   ]
  },
  {
   "cell_type": "code",
   "execution_count": null,
   "metadata": {
    "Collapsed": "false",
    "ExecuteTime": {
     "end_time": "2019-09-04T16:20:31.798673Z",
     "start_time": "2019-09-04T16:20:31.753791Z"
    },
    "colab": {},
    "colab_type": "code",
    "hidden": true,
    "id": "kItoUAHmroVS",
    "outputId": "3e6b9d64-3d17-4f00-ca56-00ca2cd1082d"
   },
   "outputs": [
    {
     "name": "stdout",
     "output_type": "stream",
     "text": [
      "DatetimeIndex(['2018-01-01 00:00:00+00:00', '2018-01-01 01:00:00+00:00',\n",
      "               '2018-01-01 02:00:00+00:00'],\n",
      "              dtype='datetime64[ns, UTC]', freq='H')\n",
      "\n",
      "From UTC to America/Los_Angeles:\n",
      "DatetimeIndex(['2017-12-31 16:00:00-08:00', '2017-12-31 17:00:00-08:00',\n",
      "               '2017-12-31 18:00:00-08:00'],\n",
      "              dtype='datetime64[ns, America/Los_Angeles]', freq='H')\n"
     ]
    }
   ],
   "source": [
    "dtt = pd.date_range('2018-01-01', periods=3, freq='H')\n",
    "dtt = dtt.tz_localize('UTC')\n",
    "print(dtt)\n",
    "print(\"\\nFrom UTC to America/Los_Angeles:\")\n",
    "dtt = dtt.tz_convert('America/Los_Angeles')\n",
    "print(dtt)"
   ]
  },
  {
   "cell_type": "markdown",
   "metadata": {
    "Collapsed": "false",
    "colab_type": "text",
    "hidden": true,
    "id": "gtoO80TvroVU"
   },
   "source": [
    "Getting the average mean of the UFO (unidentified flying object) sighting was reported."
   ]
  },
  {
   "cell_type": "code",
   "execution_count": null,
   "metadata": {
    "Collapsed": "false",
    "ExecuteTime": {
     "end_time": "2019-09-04T16:22:09.267515Z",
     "start_time": "2019-09-04T16:22:09.034119Z"
    },
    "colab": {},
    "colab_type": "code",
    "hidden": true,
    "id": "UHXqZ_2lroVV",
    "outputId": "f2347382-2b8e-425c-a75e-3e6402961659"
   },
   "outputs": [
    {
     "name": "stdout",
     "output_type": "stream",
     "text": [
      "Average mean of  the UFO (unidentified flying object) sighting was reported:\n",
      "       instance\n",
      "month          \n",
      "1      2.875000\n",
      "2      2.500000\n",
      "3      1.764706\n",
      "4      2.250000\n",
      "5      1.375000\n",
      "6      1.187500\n",
      "7      1.562500\n",
      "8      2.062500\n",
      "9      1.312500\n",
      "10     1.687500\n",
      "11     1.437500\n",
      "12     1.562500\n"
     ]
    }
   ],
   "source": [
    "# Add a new column instance, this adds a value to each instance of ufo sighting\n",
    "df['instance'] = 1\n",
    "\n",
    "# set index to time, this makes df a time series df and then you can apply pandas time series functions.\n",
    "df.set_index(df['date_documented'], drop=True, inplace=True)\n",
    "\n",
    "# create another df by resampling the original df and counting the instance column by Month ('M' is resample by month)\n",
    "ufo2 = pd.DataFrame(df['instance'].resample('M').count())\n",
    "\n",
    "# just to find month of resampled observation\n",
    "ufo2['date_documented'] = pd.to_datetime(ufo2.index.values)\n",
    "\n",
    "ufo2['month'] = ufo2['date_documented'].apply(lambda x: x.month)\n",
    "print(\"Average mean of the UFO (unidentified flying object) sighting was reported:\")\n",
    "print(ufo2.groupby(by='month').mean())"
   ]
  }
 ],
 "metadata": {
  "colab": {
   "collapsed_sections": [
    "Bou_i_goroSD",
    "HY838OomroTi",
    "5PQNsgxBroT8",
    "VfbYux8XroT9"
   ],
   "name": "Day 7.ipynb",
   "provenance": [],
   "version": "0.3.2"
  },
  "kernelspec": {
   "display_name": "Python 3",
   "language": "python",
   "name": "python3"
  },
  "language_info": {
   "codemirror_mode": {
    "name": "ipython",
    "version": 3
   },
   "file_extension": ".py",
   "mimetype": "text/x-python",
   "name": "python",
   "nbconvert_exporter": "python",
   "pygments_lexer": "ipython3",
   "version": "3.6.9"
  },
  "toc": {
   "base_numbering": 1,
   "nav_menu": {},
   "number_sections": false,
   "sideBar": true,
   "skip_h1_title": false,
   "title_cell": "Contents",
   "title_sidebar": "Contents",
   "toc_cell": false,
   "toc_position": {
    "height": "calc(100% - 180px)",
    "left": "10px",
    "top": "150px",
    "width": "165px"
   },
   "toc_section_display": true,
   "toc_window_display": true
  }
 },
 "nbformat": 4,
 "nbformat_minor": 4
}
