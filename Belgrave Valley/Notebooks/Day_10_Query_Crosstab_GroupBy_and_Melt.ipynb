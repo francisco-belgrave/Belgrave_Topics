{
 "cells": [
  {
   "cell_type": "markdown",
   "metadata": {
    "Collapsed": "false",
    "colab_type": "text",
    "id": "ObmdqN61VX2B"
   },
   "source": [
    "<img src=\"https://user-images.strikinglycdn.com/res/hrscywv4p/image/upload/c_limit,fl_lossy,h_300,w_300,f_auto,q_auto/1266110/Logo_wzxi0f.png\" style=\"float: left; margin: 20px; height: 55px\">\n",
    "\n",
    "***Tout ce qu'un homme peut imaginer, un jour d'autres hommes le réaliseront - [Jules Verne](https://en.wikipedia.org/wiki/Jules_Verne)***"
   ]
  },
  {
   "cell_type": "markdown",
   "metadata": {
    "Collapsed": "false",
    "ExecuteTime": {
     "end_time": "2019-09-20T15:38:34.418880Z",
     "start_time": "2019-09-20T15:38:34.411826Z"
    },
    "colab_type": "text",
    "id": "TNs4mPf_VX2D"
   },
   "source": [
    "Anything one man can imagine, other men can make real"
   ]
  },
  {
   "cell_type": "markdown",
   "metadata": {
    "Collapsed": "true",
    "colab_type": "text",
    "heading_collapsed": true,
    "id": "syiGvgXqiVWg"
   },
   "source": [
    "# Query"
   ]
  },
  {
   "cell_type": "markdown",
   "metadata": {
    "Collapsed": "false",
    "colab_type": "text",
    "hidden": true,
    "id": "_iWu7at4iVWh"
   },
   "source": [
    "In pandas, we can query the columns of DataFrames with boolean expressions using the <a href='https://pandas.pydata.org/pandas-docs/stable/generated/pandas.DataFrame.query.html'>`query()`</a> method. I'll walk through lots of simple examples."
   ]
  },
  {
   "cell_type": "markdown",
   "metadata": {
    "Collapsed": "true",
    "colab_type": "text",
    "heading_collapsed": true,
    "hidden": true,
    "id": "a5u8okKWiVWj"
   },
   "source": [
    "### Import Modules"
   ]
  },
  {
   "cell_type": "code",
   "execution_count": null,
   "metadata": {
    "Collapsed": "false",
    "ExecuteTime": {
     "end_time": "2019-09-23T19:37:47.180017Z",
     "start_time": "2019-09-23T19:37:46.356489Z"
    },
    "colab": {},
    "colab_type": "code",
    "hidden": true,
    "id": "5oI8qedRiVWj"
   },
   "outputs": [],
   "source": [
    "import pandas as pd\n",
    "import seaborn as sns\n",
    "import numpy as np"
   ]
  },
  {
   "cell_type": "markdown",
   "metadata": {
    "Collapsed": "true",
    "colab_type": "text",
    "heading_collapsed": true,
    "hidden": true,
    "id": "EXCq9nW8iVWl"
   },
   "source": [
    "### Get Flights Data"
   ]
  },
  {
   "cell_type": "markdown",
   "metadata": {
    "Collapsed": "false",
    "colab_type": "text",
    "hidden": true,
    "id": "DbHopAibiVWm"
   },
   "source": [
    "Let's get the `flights` dataset included in the `seaborn` library and assign it to the DataFrame `df_flights`."
   ]
  },
  {
   "cell_type": "code",
   "execution_count": null,
   "metadata": {
    "Collapsed": "false",
    "ExecuteTime": {
     "end_time": "2019-09-23T19:37:47.681010Z",
     "start_time": "2019-09-23T19:37:47.182563Z"
    },
    "colab": {},
    "colab_type": "code",
    "hidden": true,
    "id": "8Z5bjIJdiVWn"
   },
   "outputs": [],
   "source": [
    "df_flights = sns.load_dataset('flights')"
   ]
  },
  {
   "cell_type": "markdown",
   "metadata": {
    "Collapsed": "false",
    "colab_type": "text",
    "hidden": true,
    "id": "qCq3ExAciVWo"
   },
   "source": [
    "Preview the first few rows of `df_flights`. \n",
    "\n",
    "Each row represents a month's flight history details. The `passengers` column represents that total number of passengers that flew that month."
   ]
  },
  {
   "cell_type": "code",
   "execution_count": null,
   "metadata": {
    "Collapsed": "false",
    "ExecuteTime": {
     "end_time": "2019-09-23T19:37:47.696907Z",
     "start_time": "2019-09-23T19:37:47.682758Z"
    },
    "colab": {},
    "colab_type": "code",
    "hidden": true,
    "id": "IFZdCOTCiVWp",
    "outputId": "8ca2567f-a01f-434c-be7c-238e6b04a040"
   },
   "outputs": [
    {
     "data": {
      "text/html": [
       "<div>\n",
       "<style scoped>\n",
       "    .dataframe tbody tr th:only-of-type {\n",
       "        vertical-align: middle;\n",
       "    }\n",
       "\n",
       "    .dataframe tbody tr th {\n",
       "        vertical-align: top;\n",
       "    }\n",
       "\n",
       "    .dataframe thead th {\n",
       "        text-align: right;\n",
       "    }\n",
       "</style>\n",
       "<table border=\"1\" class=\"dataframe\">\n",
       "  <thead>\n",
       "    <tr style=\"text-align: right;\">\n",
       "      <th></th>\n",
       "      <th>year</th>\n",
       "      <th>month</th>\n",
       "      <th>passengers</th>\n",
       "    </tr>\n",
       "  </thead>\n",
       "  <tbody>\n",
       "    <tr>\n",
       "      <td>0</td>\n",
       "      <td>1949</td>\n",
       "      <td>January</td>\n",
       "      <td>112</td>\n",
       "    </tr>\n",
       "    <tr>\n",
       "      <td>1</td>\n",
       "      <td>1949</td>\n",
       "      <td>February</td>\n",
       "      <td>118</td>\n",
       "    </tr>\n",
       "    <tr>\n",
       "      <td>2</td>\n",
       "      <td>1949</td>\n",
       "      <td>March</td>\n",
       "      <td>132</td>\n",
       "    </tr>\n",
       "    <tr>\n",
       "      <td>3</td>\n",
       "      <td>1949</td>\n",
       "      <td>April</td>\n",
       "      <td>129</td>\n",
       "    </tr>\n",
       "    <tr>\n",
       "      <td>4</td>\n",
       "      <td>1949</td>\n",
       "      <td>May</td>\n",
       "      <td>121</td>\n",
       "    </tr>\n",
       "  </tbody>\n",
       "</table>\n",
       "</div>"
      ],
      "text/plain": [
       "   year     month  passengers\n",
       "0  1949   January         112\n",
       "1  1949  February         118\n",
       "2  1949     March         132\n",
       "3  1949     April         129\n",
       "4  1949       May         121"
      ]
     },
     "execution_count": 3,
     "metadata": {
      "tags": []
     },
     "output_type": "execute_result"
    }
   ],
   "source": [
    "df_flights.head()"
   ]
  },
  {
   "cell_type": "markdown",
   "metadata": {
    "Collapsed": "false",
    "colab_type": "text",
    "hidden": true,
    "id": "JfUgWkkoiVWr"
   },
   "source": [
    "This dataset spans 1949 to 1960."
   ]
  },
  {
   "cell_type": "markdown",
   "metadata": {
    "Collapsed": "true",
    "colab_type": "text",
    "heading_collapsed": true,
    "hidden": true,
    "id": "axlWdDkviVWr"
   },
   "source": [
    "### Practice Filtering Rows and Columns"
   ]
  },
  {
   "cell_type": "markdown",
   "metadata": {
    "Collapsed": "true",
    "colab_type": "text",
    "heading_collapsed": true,
    "hidden": true,
    "id": "nBaHuam9iVWs"
   },
   "source": [
    "#### Query for rows in which year is equal to 1949"
   ]
  },
  {
   "cell_type": "code",
   "execution_count": null,
   "metadata": {
    "Collapsed": "false",
    "ExecuteTime": {
     "end_time": "2019-09-23T19:37:47.810000Z",
     "start_time": "2019-09-23T19:37:47.703665Z"
    },
    "colab": {},
    "colab_type": "code",
    "hidden": true,
    "id": "eWjdz7MviVWs",
    "outputId": "49c9e3cd-c5d4-45d2-89a8-854e777d8b22"
   },
   "outputs": [
    {
     "data": {
      "text/html": [
       "<div>\n",
       "<style scoped>\n",
       "    .dataframe tbody tr th:only-of-type {\n",
       "        vertical-align: middle;\n",
       "    }\n",
       "\n",
       "    .dataframe tbody tr th {\n",
       "        vertical-align: top;\n",
       "    }\n",
       "\n",
       "    .dataframe thead th {\n",
       "        text-align: right;\n",
       "    }\n",
       "</style>\n",
       "<table border=\"1\" class=\"dataframe\">\n",
       "  <thead>\n",
       "    <tr style=\"text-align: right;\">\n",
       "      <th></th>\n",
       "      <th>year</th>\n",
       "      <th>month</th>\n",
       "      <th>passengers</th>\n",
       "    </tr>\n",
       "  </thead>\n",
       "  <tbody>\n",
       "    <tr>\n",
       "      <td>0</td>\n",
       "      <td>1949</td>\n",
       "      <td>January</td>\n",
       "      <td>112</td>\n",
       "    </tr>\n",
       "    <tr>\n",
       "      <td>1</td>\n",
       "      <td>1949</td>\n",
       "      <td>February</td>\n",
       "      <td>118</td>\n",
       "    </tr>\n",
       "    <tr>\n",
       "      <td>2</td>\n",
       "      <td>1949</td>\n",
       "      <td>March</td>\n",
       "      <td>132</td>\n",
       "    </tr>\n",
       "    <tr>\n",
       "      <td>3</td>\n",
       "      <td>1949</td>\n",
       "      <td>April</td>\n",
       "      <td>129</td>\n",
       "    </tr>\n",
       "    <tr>\n",
       "      <td>4</td>\n",
       "      <td>1949</td>\n",
       "      <td>May</td>\n",
       "      <td>121</td>\n",
       "    </tr>\n",
       "    <tr>\n",
       "      <td>5</td>\n",
       "      <td>1949</td>\n",
       "      <td>June</td>\n",
       "      <td>135</td>\n",
       "    </tr>\n",
       "    <tr>\n",
       "      <td>6</td>\n",
       "      <td>1949</td>\n",
       "      <td>July</td>\n",
       "      <td>148</td>\n",
       "    </tr>\n",
       "    <tr>\n",
       "      <td>7</td>\n",
       "      <td>1949</td>\n",
       "      <td>August</td>\n",
       "      <td>148</td>\n",
       "    </tr>\n",
       "    <tr>\n",
       "      <td>8</td>\n",
       "      <td>1949</td>\n",
       "      <td>September</td>\n",
       "      <td>136</td>\n",
       "    </tr>\n",
       "    <tr>\n",
       "      <td>9</td>\n",
       "      <td>1949</td>\n",
       "      <td>October</td>\n",
       "      <td>119</td>\n",
       "    </tr>\n",
       "    <tr>\n",
       "      <td>10</td>\n",
       "      <td>1949</td>\n",
       "      <td>November</td>\n",
       "      <td>104</td>\n",
       "    </tr>\n",
       "    <tr>\n",
       "      <td>11</td>\n",
       "      <td>1949</td>\n",
       "      <td>December</td>\n",
       "      <td>118</td>\n",
       "    </tr>\n",
       "  </tbody>\n",
       "</table>\n",
       "</div>"
      ],
      "text/plain": [
       "    year      month  passengers\n",
       "0   1949    January         112\n",
       "1   1949   February         118\n",
       "2   1949      March         132\n",
       "3   1949      April         129\n",
       "4   1949        May         121\n",
       "5   1949       June         135\n",
       "6   1949       July         148\n",
       "7   1949     August         148\n",
       "8   1949  September         136\n",
       "9   1949    October         119\n",
       "10  1949   November         104\n",
       "11  1949   December         118"
      ]
     },
     "execution_count": 4,
     "metadata": {
      "tags": []
     },
     "output_type": "execute_result"
    }
   ],
   "source": [
    "df_flights.query('year==1949')"
   ]
  },
  {
   "cell_type": "markdown",
   "metadata": {
    "Collapsed": "true",
    "colab_type": "text",
    "heading_collapsed": true,
    "hidden": true,
    "id": "9hJMyDgDiVWu"
   },
   "source": [
    "#### Query for rows in which month is equal to January"
   ]
  },
  {
   "cell_type": "markdown",
   "metadata": {
    "Collapsed": "false",
    "colab_type": "text",
    "hidden": true,
    "id": "rpgr2V3XiVWv"
   },
   "source": [
    "Notice how `'January'` is in single quotes because it's a string."
   ]
  },
  {
   "cell_type": "code",
   "execution_count": null,
   "metadata": {
    "Collapsed": "false",
    "ExecuteTime": {
     "end_time": "2019-09-23T19:37:47.914607Z",
     "start_time": "2019-09-23T19:37:47.813628Z"
    },
    "colab": {},
    "colab_type": "code",
    "hidden": true,
    "id": "jOeRYzzfiVWv",
    "outputId": "212b110c-dce5-4871-fbb7-36bc80834d53"
   },
   "outputs": [
    {
     "data": {
      "text/html": [
       "<div>\n",
       "<style scoped>\n",
       "    .dataframe tbody tr th:only-of-type {\n",
       "        vertical-align: middle;\n",
       "    }\n",
       "\n",
       "    .dataframe tbody tr th {\n",
       "        vertical-align: top;\n",
       "    }\n",
       "\n",
       "    .dataframe thead th {\n",
       "        text-align: right;\n",
       "    }\n",
       "</style>\n",
       "<table border=\"1\" class=\"dataframe\">\n",
       "  <thead>\n",
       "    <tr style=\"text-align: right;\">\n",
       "      <th></th>\n",
       "      <th>year</th>\n",
       "      <th>month</th>\n",
       "      <th>passengers</th>\n",
       "    </tr>\n",
       "  </thead>\n",
       "  <tbody>\n",
       "    <tr>\n",
       "      <td>0</td>\n",
       "      <td>1949</td>\n",
       "      <td>January</td>\n",
       "      <td>112</td>\n",
       "    </tr>\n",
       "    <tr>\n",
       "      <td>12</td>\n",
       "      <td>1950</td>\n",
       "      <td>January</td>\n",
       "      <td>115</td>\n",
       "    </tr>\n",
       "    <tr>\n",
       "      <td>24</td>\n",
       "      <td>1951</td>\n",
       "      <td>January</td>\n",
       "      <td>145</td>\n",
       "    </tr>\n",
       "    <tr>\n",
       "      <td>36</td>\n",
       "      <td>1952</td>\n",
       "      <td>January</td>\n",
       "      <td>171</td>\n",
       "    </tr>\n",
       "    <tr>\n",
       "      <td>48</td>\n",
       "      <td>1953</td>\n",
       "      <td>January</td>\n",
       "      <td>196</td>\n",
       "    </tr>\n",
       "    <tr>\n",
       "      <td>60</td>\n",
       "      <td>1954</td>\n",
       "      <td>January</td>\n",
       "      <td>204</td>\n",
       "    </tr>\n",
       "    <tr>\n",
       "      <td>72</td>\n",
       "      <td>1955</td>\n",
       "      <td>January</td>\n",
       "      <td>242</td>\n",
       "    </tr>\n",
       "    <tr>\n",
       "      <td>84</td>\n",
       "      <td>1956</td>\n",
       "      <td>January</td>\n",
       "      <td>284</td>\n",
       "    </tr>\n",
       "    <tr>\n",
       "      <td>96</td>\n",
       "      <td>1957</td>\n",
       "      <td>January</td>\n",
       "      <td>315</td>\n",
       "    </tr>\n",
       "    <tr>\n",
       "      <td>108</td>\n",
       "      <td>1958</td>\n",
       "      <td>January</td>\n",
       "      <td>340</td>\n",
       "    </tr>\n",
       "    <tr>\n",
       "      <td>120</td>\n",
       "      <td>1959</td>\n",
       "      <td>January</td>\n",
       "      <td>360</td>\n",
       "    </tr>\n",
       "    <tr>\n",
       "      <td>132</td>\n",
       "      <td>1960</td>\n",
       "      <td>January</td>\n",
       "      <td>417</td>\n",
       "    </tr>\n",
       "  </tbody>\n",
       "</table>\n",
       "</div>"
      ],
      "text/plain": [
       "     year    month  passengers\n",
       "0    1949  January         112\n",
       "12   1950  January         115\n",
       "24   1951  January         145\n",
       "36   1952  January         171\n",
       "48   1953  January         196\n",
       "60   1954  January         204\n",
       "72   1955  January         242\n",
       "84   1956  January         284\n",
       "96   1957  January         315\n",
       "108  1958  January         340\n",
       "120  1959  January         360\n",
       "132  1960  January         417"
      ]
     },
     "execution_count": 5,
     "metadata": {
      "tags": []
     },
     "output_type": "execute_result"
    }
   ],
   "source": [
    "df_flights.query(\"month=='January'\")"
   ]
  },
  {
   "cell_type": "markdown",
   "metadata": {
    "Collapsed": "true",
    "colab_type": "text",
    "heading_collapsed": true,
    "hidden": true,
    "id": "sqZTKypyiVWx"
   },
   "source": [
    "#### Query for rows in which year is equal to 1949 and month is equal to January"
   ]
  },
  {
   "cell_type": "code",
   "execution_count": null,
   "metadata": {
    "Collapsed": "false",
    "ExecuteTime": {
     "end_time": "2019-09-23T19:37:48.028717Z",
     "start_time": "2019-09-23T19:37:47.916915Z"
    },
    "colab": {},
    "colab_type": "code",
    "hidden": true,
    "id": "hR9IfRG_iVWz",
    "outputId": "ae121915-0bee-41d3-cbba-23ad29ab0a49"
   },
   "outputs": [
    {
     "data": {
      "text/html": [
       "<div>\n",
       "<style scoped>\n",
       "    .dataframe tbody tr th:only-of-type {\n",
       "        vertical-align: middle;\n",
       "    }\n",
       "\n",
       "    .dataframe tbody tr th {\n",
       "        vertical-align: top;\n",
       "    }\n",
       "\n",
       "    .dataframe thead th {\n",
       "        text-align: right;\n",
       "    }\n",
       "</style>\n",
       "<table border=\"1\" class=\"dataframe\">\n",
       "  <thead>\n",
       "    <tr style=\"text-align: right;\">\n",
       "      <th></th>\n",
       "      <th>year</th>\n",
       "      <th>month</th>\n",
       "      <th>passengers</th>\n",
       "    </tr>\n",
       "  </thead>\n",
       "  <tbody>\n",
       "    <tr>\n",
       "      <td>0</td>\n",
       "      <td>1949</td>\n",
       "      <td>January</td>\n",
       "      <td>112</td>\n",
       "    </tr>\n",
       "  </tbody>\n",
       "</table>\n",
       "</div>"
      ],
      "text/plain": [
       "   year    month  passengers\n",
       "0  1949  January         112"
      ]
     },
     "execution_count": 6,
     "metadata": {
      "tags": []
     },
     "output_type": "execute_result"
    }
   ],
   "source": [
    "df_flights.query(\"year==1949 and month=='January'\")"
   ]
  },
  {
   "cell_type": "markdown",
   "metadata": {
    "Collapsed": "true",
    "colab_type": "text",
    "heading_collapsed": true,
    "hidden": true,
    "id": "06ZSA2RLiVW1"
   },
   "source": [
    "#### Query for rows in which month is January or February"
   ]
  },
  {
   "cell_type": "code",
   "execution_count": null,
   "metadata": {
    "Collapsed": "false",
    "ExecuteTime": {
     "end_time": "2019-09-23T19:37:48.153394Z",
     "start_time": "2019-09-23T19:37:48.031656Z"
    },
    "colab": {},
    "colab_type": "code",
    "hidden": true,
    "id": "_96Omq4HiVW1",
    "outputId": "0ffb471a-ee38-4e77-a6dd-5a3f1f66c03f"
   },
   "outputs": [
    {
     "data": {
      "text/html": [
       "<div>\n",
       "<style scoped>\n",
       "    .dataframe tbody tr th:only-of-type {\n",
       "        vertical-align: middle;\n",
       "    }\n",
       "\n",
       "    .dataframe tbody tr th {\n",
       "        vertical-align: top;\n",
       "    }\n",
       "\n",
       "    .dataframe thead th {\n",
       "        text-align: right;\n",
       "    }\n",
       "</style>\n",
       "<table border=\"1\" class=\"dataframe\">\n",
       "  <thead>\n",
       "    <tr style=\"text-align: right;\">\n",
       "      <th></th>\n",
       "      <th>year</th>\n",
       "      <th>month</th>\n",
       "      <th>passengers</th>\n",
       "    </tr>\n",
       "  </thead>\n",
       "  <tbody>\n",
       "    <tr>\n",
       "      <td>0</td>\n",
       "      <td>1949</td>\n",
       "      <td>January</td>\n",
       "      <td>112</td>\n",
       "    </tr>\n",
       "    <tr>\n",
       "      <td>1</td>\n",
       "      <td>1949</td>\n",
       "      <td>February</td>\n",
       "      <td>118</td>\n",
       "    </tr>\n",
       "    <tr>\n",
       "      <td>12</td>\n",
       "      <td>1950</td>\n",
       "      <td>January</td>\n",
       "      <td>115</td>\n",
       "    </tr>\n",
       "    <tr>\n",
       "      <td>13</td>\n",
       "      <td>1950</td>\n",
       "      <td>February</td>\n",
       "      <td>126</td>\n",
       "    </tr>\n",
       "    <tr>\n",
       "      <td>24</td>\n",
       "      <td>1951</td>\n",
       "      <td>January</td>\n",
       "      <td>145</td>\n",
       "    </tr>\n",
       "    <tr>\n",
       "      <td>25</td>\n",
       "      <td>1951</td>\n",
       "      <td>February</td>\n",
       "      <td>150</td>\n",
       "    </tr>\n",
       "    <tr>\n",
       "      <td>36</td>\n",
       "      <td>1952</td>\n",
       "      <td>January</td>\n",
       "      <td>171</td>\n",
       "    </tr>\n",
       "    <tr>\n",
       "      <td>37</td>\n",
       "      <td>1952</td>\n",
       "      <td>February</td>\n",
       "      <td>180</td>\n",
       "    </tr>\n",
       "    <tr>\n",
       "      <td>48</td>\n",
       "      <td>1953</td>\n",
       "      <td>January</td>\n",
       "      <td>196</td>\n",
       "    </tr>\n",
       "    <tr>\n",
       "      <td>49</td>\n",
       "      <td>1953</td>\n",
       "      <td>February</td>\n",
       "      <td>196</td>\n",
       "    </tr>\n",
       "    <tr>\n",
       "      <td>60</td>\n",
       "      <td>1954</td>\n",
       "      <td>January</td>\n",
       "      <td>204</td>\n",
       "    </tr>\n",
       "    <tr>\n",
       "      <td>61</td>\n",
       "      <td>1954</td>\n",
       "      <td>February</td>\n",
       "      <td>188</td>\n",
       "    </tr>\n",
       "    <tr>\n",
       "      <td>72</td>\n",
       "      <td>1955</td>\n",
       "      <td>January</td>\n",
       "      <td>242</td>\n",
       "    </tr>\n",
       "    <tr>\n",
       "      <td>73</td>\n",
       "      <td>1955</td>\n",
       "      <td>February</td>\n",
       "      <td>233</td>\n",
       "    </tr>\n",
       "    <tr>\n",
       "      <td>84</td>\n",
       "      <td>1956</td>\n",
       "      <td>January</td>\n",
       "      <td>284</td>\n",
       "    </tr>\n",
       "    <tr>\n",
       "      <td>85</td>\n",
       "      <td>1956</td>\n",
       "      <td>February</td>\n",
       "      <td>277</td>\n",
       "    </tr>\n",
       "    <tr>\n",
       "      <td>96</td>\n",
       "      <td>1957</td>\n",
       "      <td>January</td>\n",
       "      <td>315</td>\n",
       "    </tr>\n",
       "    <tr>\n",
       "      <td>97</td>\n",
       "      <td>1957</td>\n",
       "      <td>February</td>\n",
       "      <td>301</td>\n",
       "    </tr>\n",
       "    <tr>\n",
       "      <td>108</td>\n",
       "      <td>1958</td>\n",
       "      <td>January</td>\n",
       "      <td>340</td>\n",
       "    </tr>\n",
       "    <tr>\n",
       "      <td>109</td>\n",
       "      <td>1958</td>\n",
       "      <td>February</td>\n",
       "      <td>318</td>\n",
       "    </tr>\n",
       "    <tr>\n",
       "      <td>120</td>\n",
       "      <td>1959</td>\n",
       "      <td>January</td>\n",
       "      <td>360</td>\n",
       "    </tr>\n",
       "    <tr>\n",
       "      <td>121</td>\n",
       "      <td>1959</td>\n",
       "      <td>February</td>\n",
       "      <td>342</td>\n",
       "    </tr>\n",
       "    <tr>\n",
       "      <td>132</td>\n",
       "      <td>1960</td>\n",
       "      <td>January</td>\n",
       "      <td>417</td>\n",
       "    </tr>\n",
       "    <tr>\n",
       "      <td>133</td>\n",
       "      <td>1960</td>\n",
       "      <td>February</td>\n",
       "      <td>391</td>\n",
       "    </tr>\n",
       "  </tbody>\n",
       "</table>\n",
       "</div>"
      ],
      "text/plain": [
       "     year     month  passengers\n",
       "0    1949   January         112\n",
       "1    1949  February         118\n",
       "12   1950   January         115\n",
       "13   1950  February         126\n",
       "24   1951   January         145\n",
       "25   1951  February         150\n",
       "36   1952   January         171\n",
       "37   1952  February         180\n",
       "48   1953   January         196\n",
       "49   1953  February         196\n",
       "60   1954   January         204\n",
       "61   1954  February         188\n",
       "72   1955   January         242\n",
       "73   1955  February         233\n",
       "84   1956   January         284\n",
       "85   1956  February         277\n",
       "96   1957   January         315\n",
       "97   1957  February         301\n",
       "108  1958   January         340\n",
       "109  1958  February         318\n",
       "120  1959   January         360\n",
       "121  1959  February         342\n",
       "132  1960   January         417\n",
       "133  1960  February         391"
      ]
     },
     "execution_count": 7,
     "metadata": {
      "tags": []
     },
     "output_type": "execute_result"
    }
   ],
   "source": [
    "df_flights.query(\"month==['January', 'February']\")"
   ]
  },
  {
   "cell_type": "markdown",
   "metadata": {
    "Collapsed": "true",
    "colab_type": "text",
    "heading_collapsed": true,
    "hidden": true,
    "id": "_ADm0wriiVW3"
   },
   "source": [
    "#### Query for rows in which month equals January and year is less than 1955"
   ]
  },
  {
   "cell_type": "code",
   "execution_count": null,
   "metadata": {
    "Collapsed": "false",
    "ExecuteTime": {
     "end_time": "2019-09-23T19:37:48.331125Z",
     "start_time": "2019-09-23T19:37:48.156180Z"
    },
    "colab": {},
    "colab_type": "code",
    "hidden": true,
    "id": "Bahyg3l5iVW3",
    "outputId": "d91b201a-5c56-42d0-8cd7-00762aeb6bb8"
   },
   "outputs": [
    {
     "data": {
      "text/html": [
       "<div>\n",
       "<style scoped>\n",
       "    .dataframe tbody tr th:only-of-type {\n",
       "        vertical-align: middle;\n",
       "    }\n",
       "\n",
       "    .dataframe tbody tr th {\n",
       "        vertical-align: top;\n",
       "    }\n",
       "\n",
       "    .dataframe thead th {\n",
       "        text-align: right;\n",
       "    }\n",
       "</style>\n",
       "<table border=\"1\" class=\"dataframe\">\n",
       "  <thead>\n",
       "    <tr style=\"text-align: right;\">\n",
       "      <th></th>\n",
       "      <th>year</th>\n",
       "      <th>month</th>\n",
       "      <th>passengers</th>\n",
       "    </tr>\n",
       "  </thead>\n",
       "  <tbody>\n",
       "    <tr>\n",
       "      <td>0</td>\n",
       "      <td>1949</td>\n",
       "      <td>January</td>\n",
       "      <td>112</td>\n",
       "    </tr>\n",
       "    <tr>\n",
       "      <td>12</td>\n",
       "      <td>1950</td>\n",
       "      <td>January</td>\n",
       "      <td>115</td>\n",
       "    </tr>\n",
       "    <tr>\n",
       "      <td>24</td>\n",
       "      <td>1951</td>\n",
       "      <td>January</td>\n",
       "      <td>145</td>\n",
       "    </tr>\n",
       "    <tr>\n",
       "      <td>36</td>\n",
       "      <td>1952</td>\n",
       "      <td>January</td>\n",
       "      <td>171</td>\n",
       "    </tr>\n",
       "    <tr>\n",
       "      <td>48</td>\n",
       "      <td>1953</td>\n",
       "      <td>January</td>\n",
       "      <td>196</td>\n",
       "    </tr>\n",
       "    <tr>\n",
       "      <td>60</td>\n",
       "      <td>1954</td>\n",
       "      <td>January</td>\n",
       "      <td>204</td>\n",
       "    </tr>\n",
       "  </tbody>\n",
       "</table>\n",
       "</div>"
      ],
      "text/plain": [
       "    year    month  passengers\n",
       "0   1949  January         112\n",
       "12  1950  January         115\n",
       "24  1951  January         145\n",
       "36  1952  January         171\n",
       "48  1953  January         196\n",
       "60  1954  January         204"
      ]
     },
     "execution_count": 8,
     "metadata": {
      "tags": []
     },
     "output_type": "execute_result"
    }
   ],
   "source": [
    "df_flights.query(\"month=='January' and year<1955\")"
   ]
  },
  {
   "cell_type": "markdown",
   "metadata": {
    "Collapsed": "true",
    "colab_type": "text",
    "heading_collapsed": true,
    "hidden": true,
    "id": "KmuNNSYEiVW5"
   },
   "source": [
    "#### Query for rows in which month equals January and year is greater than 1955"
   ]
  },
  {
   "cell_type": "code",
   "execution_count": null,
   "metadata": {
    "Collapsed": "false",
    "ExecuteTime": {
     "end_time": "2019-09-23T19:37:48.444345Z",
     "start_time": "2019-09-23T19:37:48.334057Z"
    },
    "colab": {},
    "colab_type": "code",
    "hidden": true,
    "id": "ouzq3IUuiVW5",
    "outputId": "17d59621-f096-4eb5-e969-c4c510912fcf"
   },
   "outputs": [
    {
     "data": {
      "text/html": [
       "<div>\n",
       "<style scoped>\n",
       "    .dataframe tbody tr th:only-of-type {\n",
       "        vertical-align: middle;\n",
       "    }\n",
       "\n",
       "    .dataframe tbody tr th {\n",
       "        vertical-align: top;\n",
       "    }\n",
       "\n",
       "    .dataframe thead th {\n",
       "        text-align: right;\n",
       "    }\n",
       "</style>\n",
       "<table border=\"1\" class=\"dataframe\">\n",
       "  <thead>\n",
       "    <tr style=\"text-align: right;\">\n",
       "      <th></th>\n",
       "      <th>year</th>\n",
       "      <th>month</th>\n",
       "      <th>passengers</th>\n",
       "    </tr>\n",
       "  </thead>\n",
       "  <tbody>\n",
       "    <tr>\n",
       "      <td>84</td>\n",
       "      <td>1956</td>\n",
       "      <td>January</td>\n",
       "      <td>284</td>\n",
       "    </tr>\n",
       "    <tr>\n",
       "      <td>96</td>\n",
       "      <td>1957</td>\n",
       "      <td>January</td>\n",
       "      <td>315</td>\n",
       "    </tr>\n",
       "    <tr>\n",
       "      <td>108</td>\n",
       "      <td>1958</td>\n",
       "      <td>January</td>\n",
       "      <td>340</td>\n",
       "    </tr>\n",
       "    <tr>\n",
       "      <td>120</td>\n",
       "      <td>1959</td>\n",
       "      <td>January</td>\n",
       "      <td>360</td>\n",
       "    </tr>\n",
       "    <tr>\n",
       "      <td>132</td>\n",
       "      <td>1960</td>\n",
       "      <td>January</td>\n",
       "      <td>417</td>\n",
       "    </tr>\n",
       "  </tbody>\n",
       "</table>\n",
       "</div>"
      ],
      "text/plain": [
       "     year    month  passengers\n",
       "84   1956  January         284\n",
       "96   1957  January         315\n",
       "108  1958  January         340\n",
       "120  1959  January         360\n",
       "132  1960  January         417"
      ]
     },
     "execution_count": 9,
     "metadata": {
      "tags": []
     },
     "output_type": "execute_result"
    }
   ],
   "source": [
    "df_flights.query(\"month=='January' and year>1955\")"
   ]
  },
  {
   "cell_type": "markdown",
   "metadata": {
    "Collapsed": "true",
    "colab_type": "text",
    "heading_collapsed": true,
    "hidden": true,
    "id": "D5UAo0WPiVW7"
   },
   "source": [
    "#### Query for rows in which month equals January and the year is not 1955"
   ]
  },
  {
   "cell_type": "code",
   "execution_count": null,
   "metadata": {
    "Collapsed": "false",
    "ExecuteTime": {
     "end_time": "2019-09-23T19:37:48.572599Z",
     "start_time": "2019-09-23T19:37:48.446132Z"
    },
    "colab": {},
    "colab_type": "code",
    "hidden": true,
    "id": "c6jOtCHpiVW8",
    "outputId": "7bb6b2b4-7dbb-4d6a-c4b2-a63bacd53ca2"
   },
   "outputs": [
    {
     "data": {
      "text/html": [
       "<div>\n",
       "<style scoped>\n",
       "    .dataframe tbody tr th:only-of-type {\n",
       "        vertical-align: middle;\n",
       "    }\n",
       "\n",
       "    .dataframe tbody tr th {\n",
       "        vertical-align: top;\n",
       "    }\n",
       "\n",
       "    .dataframe thead th {\n",
       "        text-align: right;\n",
       "    }\n",
       "</style>\n",
       "<table border=\"1\" class=\"dataframe\">\n",
       "  <thead>\n",
       "    <tr style=\"text-align: right;\">\n",
       "      <th></th>\n",
       "      <th>year</th>\n",
       "      <th>month</th>\n",
       "      <th>passengers</th>\n",
       "    </tr>\n",
       "  </thead>\n",
       "  <tbody>\n",
       "    <tr>\n",
       "      <td>0</td>\n",
       "      <td>1949</td>\n",
       "      <td>January</td>\n",
       "      <td>112</td>\n",
       "    </tr>\n",
       "    <tr>\n",
       "      <td>12</td>\n",
       "      <td>1950</td>\n",
       "      <td>January</td>\n",
       "      <td>115</td>\n",
       "    </tr>\n",
       "    <tr>\n",
       "      <td>24</td>\n",
       "      <td>1951</td>\n",
       "      <td>January</td>\n",
       "      <td>145</td>\n",
       "    </tr>\n",
       "    <tr>\n",
       "      <td>36</td>\n",
       "      <td>1952</td>\n",
       "      <td>January</td>\n",
       "      <td>171</td>\n",
       "    </tr>\n",
       "    <tr>\n",
       "      <td>48</td>\n",
       "      <td>1953</td>\n",
       "      <td>January</td>\n",
       "      <td>196</td>\n",
       "    </tr>\n",
       "    <tr>\n",
       "      <td>60</td>\n",
       "      <td>1954</td>\n",
       "      <td>January</td>\n",
       "      <td>204</td>\n",
       "    </tr>\n",
       "    <tr>\n",
       "      <td>84</td>\n",
       "      <td>1956</td>\n",
       "      <td>January</td>\n",
       "      <td>284</td>\n",
       "    </tr>\n",
       "    <tr>\n",
       "      <td>96</td>\n",
       "      <td>1957</td>\n",
       "      <td>January</td>\n",
       "      <td>315</td>\n",
       "    </tr>\n",
       "    <tr>\n",
       "      <td>108</td>\n",
       "      <td>1958</td>\n",
       "      <td>January</td>\n",
       "      <td>340</td>\n",
       "    </tr>\n",
       "    <tr>\n",
       "      <td>120</td>\n",
       "      <td>1959</td>\n",
       "      <td>January</td>\n",
       "      <td>360</td>\n",
       "    </tr>\n",
       "    <tr>\n",
       "      <td>132</td>\n",
       "      <td>1960</td>\n",
       "      <td>January</td>\n",
       "      <td>417</td>\n",
       "    </tr>\n",
       "  </tbody>\n",
       "</table>\n",
       "</div>"
      ],
      "text/plain": [
       "     year    month  passengers\n",
       "0    1949  January         112\n",
       "12   1950  January         115\n",
       "24   1951  January         145\n",
       "36   1952  January         171\n",
       "48   1953  January         196\n",
       "60   1954  January         204\n",
       "84   1956  January         284\n",
       "96   1957  January         315\n",
       "108  1958  January         340\n",
       "120  1959  January         360\n",
       "132  1960  January         417"
      ]
     },
     "execution_count": 10,
     "metadata": {
      "tags": []
     },
     "output_type": "execute_result"
    }
   ],
   "source": [
    "df_flights.query(\"month=='January' and year!=1955\")"
   ]
  },
  {
   "cell_type": "markdown",
   "metadata": {
    "Collapsed": "true",
    "colab_type": "text",
    "heading_collapsed": true,
    "hidden": true,
    "id": "l540y3D7iVW9"
   },
   "source": [
    "#### Query for rows in which month equals January or year equals 1955"
   ]
  },
  {
   "cell_type": "code",
   "execution_count": null,
   "metadata": {
    "Collapsed": "false",
    "ExecuteTime": {
     "end_time": "2019-09-23T19:37:48.679241Z",
     "start_time": "2019-09-23T19:37:48.575226Z"
    },
    "colab": {},
    "colab_type": "code",
    "hidden": true,
    "id": "sqTD3OHEiVW-",
    "outputId": "3f940a3c-b61a-487d-9e30-6bde19e3c6c6"
   },
   "outputs": [
    {
     "data": {
      "text/html": [
       "<div>\n",
       "<style scoped>\n",
       "    .dataframe tbody tr th:only-of-type {\n",
       "        vertical-align: middle;\n",
       "    }\n",
       "\n",
       "    .dataframe tbody tr th {\n",
       "        vertical-align: top;\n",
       "    }\n",
       "\n",
       "    .dataframe thead th {\n",
       "        text-align: right;\n",
       "    }\n",
       "</style>\n",
       "<table border=\"1\" class=\"dataframe\">\n",
       "  <thead>\n",
       "    <tr style=\"text-align: right;\">\n",
       "      <th></th>\n",
       "      <th>year</th>\n",
       "      <th>month</th>\n",
       "      <th>passengers</th>\n",
       "    </tr>\n",
       "  </thead>\n",
       "  <tbody>\n",
       "    <tr>\n",
       "      <td>0</td>\n",
       "      <td>1949</td>\n",
       "      <td>January</td>\n",
       "      <td>112</td>\n",
       "    </tr>\n",
       "    <tr>\n",
       "      <td>12</td>\n",
       "      <td>1950</td>\n",
       "      <td>January</td>\n",
       "      <td>115</td>\n",
       "    </tr>\n",
       "    <tr>\n",
       "      <td>24</td>\n",
       "      <td>1951</td>\n",
       "      <td>January</td>\n",
       "      <td>145</td>\n",
       "    </tr>\n",
       "    <tr>\n",
       "      <td>36</td>\n",
       "      <td>1952</td>\n",
       "      <td>January</td>\n",
       "      <td>171</td>\n",
       "    </tr>\n",
       "    <tr>\n",
       "      <td>48</td>\n",
       "      <td>1953</td>\n",
       "      <td>January</td>\n",
       "      <td>196</td>\n",
       "    </tr>\n",
       "    <tr>\n",
       "      <td>60</td>\n",
       "      <td>1954</td>\n",
       "      <td>January</td>\n",
       "      <td>204</td>\n",
       "    </tr>\n",
       "    <tr>\n",
       "      <td>72</td>\n",
       "      <td>1955</td>\n",
       "      <td>January</td>\n",
       "      <td>242</td>\n",
       "    </tr>\n",
       "    <tr>\n",
       "      <td>73</td>\n",
       "      <td>1955</td>\n",
       "      <td>February</td>\n",
       "      <td>233</td>\n",
       "    </tr>\n",
       "    <tr>\n",
       "      <td>74</td>\n",
       "      <td>1955</td>\n",
       "      <td>March</td>\n",
       "      <td>267</td>\n",
       "    </tr>\n",
       "    <tr>\n",
       "      <td>75</td>\n",
       "      <td>1955</td>\n",
       "      <td>April</td>\n",
       "      <td>269</td>\n",
       "    </tr>\n",
       "    <tr>\n",
       "      <td>76</td>\n",
       "      <td>1955</td>\n",
       "      <td>May</td>\n",
       "      <td>270</td>\n",
       "    </tr>\n",
       "    <tr>\n",
       "      <td>77</td>\n",
       "      <td>1955</td>\n",
       "      <td>June</td>\n",
       "      <td>315</td>\n",
       "    </tr>\n",
       "    <tr>\n",
       "      <td>78</td>\n",
       "      <td>1955</td>\n",
       "      <td>July</td>\n",
       "      <td>364</td>\n",
       "    </tr>\n",
       "    <tr>\n",
       "      <td>79</td>\n",
       "      <td>1955</td>\n",
       "      <td>August</td>\n",
       "      <td>347</td>\n",
       "    </tr>\n",
       "    <tr>\n",
       "      <td>80</td>\n",
       "      <td>1955</td>\n",
       "      <td>September</td>\n",
       "      <td>312</td>\n",
       "    </tr>\n",
       "    <tr>\n",
       "      <td>81</td>\n",
       "      <td>1955</td>\n",
       "      <td>October</td>\n",
       "      <td>274</td>\n",
       "    </tr>\n",
       "    <tr>\n",
       "      <td>82</td>\n",
       "      <td>1955</td>\n",
       "      <td>November</td>\n",
       "      <td>237</td>\n",
       "    </tr>\n",
       "    <tr>\n",
       "      <td>83</td>\n",
       "      <td>1955</td>\n",
       "      <td>December</td>\n",
       "      <td>278</td>\n",
       "    </tr>\n",
       "    <tr>\n",
       "      <td>84</td>\n",
       "      <td>1956</td>\n",
       "      <td>January</td>\n",
       "      <td>284</td>\n",
       "    </tr>\n",
       "    <tr>\n",
       "      <td>96</td>\n",
       "      <td>1957</td>\n",
       "      <td>January</td>\n",
       "      <td>315</td>\n",
       "    </tr>\n",
       "    <tr>\n",
       "      <td>108</td>\n",
       "      <td>1958</td>\n",
       "      <td>January</td>\n",
       "      <td>340</td>\n",
       "    </tr>\n",
       "    <tr>\n",
       "      <td>120</td>\n",
       "      <td>1959</td>\n",
       "      <td>January</td>\n",
       "      <td>360</td>\n",
       "    </tr>\n",
       "    <tr>\n",
       "      <td>132</td>\n",
       "      <td>1960</td>\n",
       "      <td>January</td>\n",
       "      <td>417</td>\n",
       "    </tr>\n",
       "  </tbody>\n",
       "</table>\n",
       "</div>"
      ],
      "text/plain": [
       "     year      month  passengers\n",
       "0    1949    January         112\n",
       "12   1950    January         115\n",
       "24   1951    January         145\n",
       "36   1952    January         171\n",
       "48   1953    January         196\n",
       "60   1954    January         204\n",
       "72   1955    January         242\n",
       "73   1955   February         233\n",
       "74   1955      March         267\n",
       "75   1955      April         269\n",
       "76   1955        May         270\n",
       "77   1955       June         315\n",
       "78   1955       July         364\n",
       "79   1955     August         347\n",
       "80   1955  September         312\n",
       "81   1955    October         274\n",
       "82   1955   November         237\n",
       "83   1955   December         278\n",
       "84   1956    January         284\n",
       "96   1957    January         315\n",
       "108  1958    January         340\n",
       "120  1959    January         360\n",
       "132  1960    January         417"
      ]
     },
     "execution_count": 11,
     "metadata": {
      "tags": []
     },
     "output_type": "execute_result"
    }
   ],
   "source": [
    "df_flights.query(\"month=='January' or year==1955\")"
   ]
  },
  {
   "cell_type": "markdown",
   "metadata": {
    "Collapsed": "true",
    "colab_type": "text",
    "id": "qlHQw0iTVX2F"
   },
   "source": [
    "# Crosstab"
   ]
  },
  {
   "cell_type": "markdown",
   "metadata": {
    "Collapsed": "false",
    "colab_type": "text",
    "hidden": true,
    "id": "LkK6eTLyiVXD"
   },
   "source": [
    "A [crosstab](https://pandas.pydata.org/pandas-docs/stable/reference/api/pandas.crosstab.html) computes aggregated metrics among two or more columns in a dataset that contains categorical values. "
   ]
  },
  {
   "cell_type": "markdown",
   "metadata": {
    "Collapsed": "true",
    "colab_type": "text",
    "heading_collapsed": true,
    "hidden": true,
    "id": "aVanNZj7iVXD"
   },
   "source": [
    "### Get Tips Dataset"
   ]
  },
  {
   "cell_type": "markdown",
   "metadata": {
    "Collapsed": "false",
    "colab_type": "text",
    "hidden": true,
    "id": "-3tz0yxliVXE"
   },
   "source": [
    "Let's get the `tips` dataset from the `seaborn` library and assign it to the DataFrame `df_tips`."
   ]
  },
  {
   "cell_type": "code",
   "execution_count": null,
   "metadata": {
    "Collapsed": "false",
    "ExecuteTime": {
     "end_time": "2019-09-23T19:37:48.786252Z",
     "start_time": "2019-09-23T19:37:48.681711Z"
    },
    "colab": {},
    "colab_type": "code",
    "hidden": true,
    "id": "ooNi1FQ0iVXF"
   },
   "outputs": [],
   "source": [
    "df_tips = sns.load_dataset('tips')"
   ]
  },
  {
   "cell_type": "markdown",
   "metadata": {
    "Collapsed": "false",
    "colab_type": "text",
    "hidden": true,
    "id": "RdYaia5fiVXI"
   },
   "source": [
    "Each row represents a unique meal at a restaurant for a party of people; the dataset contains the following fields:\n",
    "\n",
    "column name | column description \n",
    "--- | ---\n",
    "`total_bill` | financial amount of meal in U.S. dollars\n",
    "`tip` |  financial amount of the meal's tip in U.S. dollars\n",
    "`sex` | gender of server\n",
    "`smoker` | boolean to represent if server smokes or not\n",
    "`day` | day of week\n",
    "`time` | meal name (Lunch or Dinner)\n",
    "`size` | count of people eating meal\n",
    "\n",
    "Preview the first 5 rows of `df_tips`. "
   ]
  },
  {
   "cell_type": "code",
   "execution_count": null,
   "metadata": {
    "Collapsed": "false",
    "ExecuteTime": {
     "end_time": "2019-09-23T19:37:48.897788Z",
     "start_time": "2019-09-23T19:37:48.787849Z"
    },
    "colab": {},
    "colab_type": "code",
    "hidden": true,
    "id": "RUUOi-WDiVXJ",
    "outputId": "e691c42b-edd8-47e5-c517-4e708652e755"
   },
   "outputs": [
    {
     "data": {
      "text/html": [
       "<div>\n",
       "<style scoped>\n",
       "    .dataframe tbody tr th:only-of-type {\n",
       "        vertical-align: middle;\n",
       "    }\n",
       "\n",
       "    .dataframe tbody tr th {\n",
       "        vertical-align: top;\n",
       "    }\n",
       "\n",
       "    .dataframe thead th {\n",
       "        text-align: right;\n",
       "    }\n",
       "</style>\n",
       "<table border=\"1\" class=\"dataframe\">\n",
       "  <thead>\n",
       "    <tr style=\"text-align: right;\">\n",
       "      <th></th>\n",
       "      <th>total_bill</th>\n",
       "      <th>tip</th>\n",
       "      <th>sex</th>\n",
       "      <th>smoker</th>\n",
       "      <th>day</th>\n",
       "      <th>time</th>\n",
       "      <th>size</th>\n",
       "    </tr>\n",
       "  </thead>\n",
       "  <tbody>\n",
       "    <tr>\n",
       "      <td>0</td>\n",
       "      <td>16.99</td>\n",
       "      <td>1.01</td>\n",
       "      <td>Female</td>\n",
       "      <td>No</td>\n",
       "      <td>Sun</td>\n",
       "      <td>Dinner</td>\n",
       "      <td>2</td>\n",
       "    </tr>\n",
       "    <tr>\n",
       "      <td>1</td>\n",
       "      <td>10.34</td>\n",
       "      <td>1.66</td>\n",
       "      <td>Male</td>\n",
       "      <td>No</td>\n",
       "      <td>Sun</td>\n",
       "      <td>Dinner</td>\n",
       "      <td>3</td>\n",
       "    </tr>\n",
       "    <tr>\n",
       "      <td>2</td>\n",
       "      <td>21.01</td>\n",
       "      <td>3.50</td>\n",
       "      <td>Male</td>\n",
       "      <td>No</td>\n",
       "      <td>Sun</td>\n",
       "      <td>Dinner</td>\n",
       "      <td>3</td>\n",
       "    </tr>\n",
       "    <tr>\n",
       "      <td>3</td>\n",
       "      <td>23.68</td>\n",
       "      <td>3.31</td>\n",
       "      <td>Male</td>\n",
       "      <td>No</td>\n",
       "      <td>Sun</td>\n",
       "      <td>Dinner</td>\n",
       "      <td>2</td>\n",
       "    </tr>\n",
       "    <tr>\n",
       "      <td>4</td>\n",
       "      <td>24.59</td>\n",
       "      <td>3.61</td>\n",
       "      <td>Female</td>\n",
       "      <td>No</td>\n",
       "      <td>Sun</td>\n",
       "      <td>Dinner</td>\n",
       "      <td>4</td>\n",
       "    </tr>\n",
       "  </tbody>\n",
       "</table>\n",
       "</div>"
      ],
      "text/plain": [
       "   total_bill   tip     sex smoker  day    time  size\n",
       "0       16.99  1.01  Female     No  Sun  Dinner     2\n",
       "1       10.34  1.66    Male     No  Sun  Dinner     3\n",
       "2       21.01  3.50    Male     No  Sun  Dinner     3\n",
       "3       23.68  3.31    Male     No  Sun  Dinner     2\n",
       "4       24.59  3.61  Female     No  Sun  Dinner     4"
      ]
     },
     "execution_count": 13,
     "metadata": {
      "tags": []
     },
     "output_type": "execute_result"
    }
   ],
   "source": [
    "df_tips.head()"
   ]
  },
  {
   "cell_type": "markdown",
   "metadata": {
    "Collapsed": "true",
    "colab_type": "text",
    "heading_collapsed": true,
    "hidden": true,
    "id": "QckBrkfuiVXL"
   },
   "source": [
    "### Implement Crosstabs with Tips Dataset"
   ]
  },
  {
   "cell_type": "markdown",
   "metadata": {
    "Collapsed": "true",
    "colab_type": "text",
    "heading_collapsed": true,
    "hidden": true,
    "id": "8iVhVxuaiVXL"
   },
   "source": [
    "#### Grouping By a Single Field for the Index and Column"
   ]
  },
  {
   "cell_type": "markdown",
   "metadata": {
    "Collapsed": "false",
    "colab_type": "text",
    "hidden": true,
    "id": "TJaLm1v2iVXM"
   },
   "source": [
    "Let's compute a simple crosstab across the `day` and `sex` column. We want our returned index to be the unique values from `day` and our returned columns to be the unique values from `sex`. By default in pandas, the `crosstab()` computes an aggregated metric of a count (aka frequency).\n",
    "\n",
    "So, each of the values inside our table represent a count across the index and column. For example, males served 30 unique groups across all Thursdays in our dataset."
   ]
  },
  {
   "cell_type": "code",
   "execution_count": null,
   "metadata": {
    "Collapsed": "false",
    "ExecuteTime": {
     "end_time": "2019-09-23T19:37:49.048093Z",
     "start_time": "2019-09-23T19:37:48.900290Z"
    },
    "colab": {},
    "colab_type": "code",
    "hidden": true,
    "id": "N2o0DDzNiVXM",
    "outputId": "7627bd11-6576-49b5-e0f1-edb5aeb35374"
   },
   "outputs": [
    {
     "data": {
      "text/html": [
       "<div>\n",
       "<style scoped>\n",
       "    .dataframe tbody tr th:only-of-type {\n",
       "        vertical-align: middle;\n",
       "    }\n",
       "\n",
       "    .dataframe tbody tr th {\n",
       "        vertical-align: top;\n",
       "    }\n",
       "\n",
       "    .dataframe thead th {\n",
       "        text-align: right;\n",
       "    }\n",
       "</style>\n",
       "<table border=\"1\" class=\"dataframe\">\n",
       "  <thead>\n",
       "    <tr style=\"text-align: right;\">\n",
       "      <th>sex</th>\n",
       "      <th>Male</th>\n",
       "      <th>Female</th>\n",
       "    </tr>\n",
       "    <tr>\n",
       "      <th>day</th>\n",
       "      <th></th>\n",
       "      <th></th>\n",
       "    </tr>\n",
       "  </thead>\n",
       "  <tbody>\n",
       "    <tr>\n",
       "      <td>Thur</td>\n",
       "      <td>30</td>\n",
       "      <td>32</td>\n",
       "    </tr>\n",
       "    <tr>\n",
       "      <td>Fri</td>\n",
       "      <td>10</td>\n",
       "      <td>9</td>\n",
       "    </tr>\n",
       "    <tr>\n",
       "      <td>Sat</td>\n",
       "      <td>59</td>\n",
       "      <td>28</td>\n",
       "    </tr>\n",
       "    <tr>\n",
       "      <td>Sun</td>\n",
       "      <td>58</td>\n",
       "      <td>18</td>\n",
       "    </tr>\n",
       "  </tbody>\n",
       "</table>\n",
       "</div>"
      ],
      "text/plain": [
       "sex   Male  Female\n",
       "day               \n",
       "Thur    30      32\n",
       "Fri     10       9\n",
       "Sat     59      28\n",
       "Sun     58      18"
      ]
     },
     "execution_count": 14,
     "metadata": {
      "tags": []
     },
     "output_type": "execute_result"
    }
   ],
   "source": [
    "pd.crosstab(index=df_tips['day'], columns=df_tips['sex'])"
   ]
  },
  {
   "cell_type": "markdown",
   "metadata": {
    "Collapsed": "false",
    "colab_type": "text",
    "hidden": true,
    "id": "3IzXSuZEiVXN"
   },
   "source": [
    "One issue with this crosstab output is the column names are nonsensical. Just saying `Male` or `Female` isn't very specific. They should be renamed to be clearer. We can use the <a href='https://pandas.pydata.org/pandas-docs/stable/generated/pandas.DataFrame.rename.html'>rename()</a> method and set the argument `columns` to be a dictionary in which the keys are the current column names and the values are the respective new names to set."
   ]
  },
  {
   "cell_type": "code",
   "execution_count": null,
   "metadata": {
    "Collapsed": "false",
    "ExecuteTime": {
     "end_time": "2019-09-23T19:37:49.165756Z",
     "start_time": "2019-09-23T19:37:49.050306Z"
    },
    "colab": {},
    "colab_type": "code",
    "hidden": true,
    "id": "olHN6rR4iVXO",
    "outputId": "5eba8a18-12f1-4882-e94a-a424dc2f0c11"
   },
   "outputs": [
    {
     "data": {
      "text/html": [
       "<div>\n",
       "<style scoped>\n",
       "    .dataframe tbody tr th:only-of-type {\n",
       "        vertical-align: middle;\n",
       "    }\n",
       "\n",
       "    .dataframe tbody tr th {\n",
       "        vertical-align: top;\n",
       "    }\n",
       "\n",
       "    .dataframe thead th {\n",
       "        text-align: right;\n",
       "    }\n",
       "</style>\n",
       "<table border=\"1\" class=\"dataframe\">\n",
       "  <thead>\n",
       "    <tr style=\"text-align: right;\">\n",
       "      <th>sex</th>\n",
       "      <th>count_meals_served_by_males</th>\n",
       "      <th>count_meals_served_by_females</th>\n",
       "    </tr>\n",
       "    <tr>\n",
       "      <th>day</th>\n",
       "      <th></th>\n",
       "      <th></th>\n",
       "    </tr>\n",
       "  </thead>\n",
       "  <tbody>\n",
       "    <tr>\n",
       "      <td>Thur</td>\n",
       "      <td>30</td>\n",
       "      <td>32</td>\n",
       "    </tr>\n",
       "    <tr>\n",
       "      <td>Fri</td>\n",
       "      <td>10</td>\n",
       "      <td>9</td>\n",
       "    </tr>\n",
       "    <tr>\n",
       "      <td>Sat</td>\n",
       "      <td>59</td>\n",
       "      <td>28</td>\n",
       "    </tr>\n",
       "    <tr>\n",
       "      <td>Sun</td>\n",
       "      <td>58</td>\n",
       "      <td>18</td>\n",
       "    </tr>\n",
       "  </tbody>\n",
       "</table>\n",
       "</div>"
      ],
      "text/plain": [
       "sex   count_meals_served_by_males  count_meals_served_by_females\n",
       "day                                                             \n",
       "Thur                           30                             32\n",
       "Fri                            10                              9\n",
       "Sat                            59                             28\n",
       "Sun                            58                             18"
      ]
     },
     "execution_count": 15,
     "metadata": {
      "tags": []
     },
     "output_type": "execute_result"
    }
   ],
   "source": [
    "pd.crosstab(index=df_tips['day'], columns=df_tips['sex']\n",
    "           ).rename(columns={\"Male\": \"count_meals_served_by_males\", \"Female\": \"count_meals_served_by_females\"})"
   ]
  },
  {
   "cell_type": "markdown",
   "metadata": {
    "Collapsed": "false",
    "colab_type": "text",
    "hidden": true,
    "id": "il1Opl14iVXP"
   },
   "source": [
    "Also, in the output above, see where it says `sex` as the column name and `day` for the row name? We can modify those names using arguments in the `crosstab()` method. Let's set the `colnames` argument to `gender` since that's a more specific name than `sex`."
   ]
  },
  {
   "cell_type": "code",
   "execution_count": null,
   "metadata": {
    "Collapsed": "false",
    "ExecuteTime": {
     "end_time": "2019-09-23T19:37:49.300856Z",
     "start_time": "2019-09-23T19:37:49.167623Z"
    },
    "colab": {},
    "colab_type": "code",
    "hidden": true,
    "id": "82LWTl4eiVXQ",
    "outputId": "ee47b55c-94dc-4658-a9f6-57735a1ae344"
   },
   "outputs": [
    {
     "data": {
      "text/html": [
       "<div>\n",
       "<style scoped>\n",
       "    .dataframe tbody tr th:only-of-type {\n",
       "        vertical-align: middle;\n",
       "    }\n",
       "\n",
       "    .dataframe tbody tr th {\n",
       "        vertical-align: top;\n",
       "    }\n",
       "\n",
       "    .dataframe thead th {\n",
       "        text-align: right;\n",
       "    }\n",
       "</style>\n",
       "<table border=\"1\" class=\"dataframe\">\n",
       "  <thead>\n",
       "    <tr style=\"text-align: right;\">\n",
       "      <th>gender</th>\n",
       "      <th>count_meals_served_by_males</th>\n",
       "      <th>count_meals_served_by_females</th>\n",
       "    </tr>\n",
       "    <tr>\n",
       "      <th>day</th>\n",
       "      <th></th>\n",
       "      <th></th>\n",
       "    </tr>\n",
       "  </thead>\n",
       "  <tbody>\n",
       "    <tr>\n",
       "      <td>Thur</td>\n",
       "      <td>30</td>\n",
       "      <td>32</td>\n",
       "    </tr>\n",
       "    <tr>\n",
       "      <td>Fri</td>\n",
       "      <td>10</td>\n",
       "      <td>9</td>\n",
       "    </tr>\n",
       "    <tr>\n",
       "      <td>Sat</td>\n",
       "      <td>59</td>\n",
       "      <td>28</td>\n",
       "    </tr>\n",
       "    <tr>\n",
       "      <td>Sun</td>\n",
       "      <td>58</td>\n",
       "      <td>18</td>\n",
       "    </tr>\n",
       "  </tbody>\n",
       "</table>\n",
       "</div>"
      ],
      "text/plain": [
       "gender  count_meals_served_by_males  count_meals_served_by_females\n",
       "day                                                               \n",
       "Thur                             30                             32\n",
       "Fri                              10                              9\n",
       "Sat                              59                             28\n",
       "Sun                              58                             18"
      ]
     },
     "execution_count": 16,
     "metadata": {
      "tags": []
     },
     "output_type": "execute_result"
    }
   ],
   "source": [
    "pd.crosstab(index=df_tips['day'], columns=df_tips['sex'], colnames=['gender']\n",
    "           ).rename(columns={\"Male\": \"count_meals_served_by_males\", \"Female\": \"count_meals_served_by_females\"})"
   ]
  },
  {
   "cell_type": "markdown",
   "metadata": {
    "Collapsed": "false",
    "colab_type": "text",
    "hidden": true,
    "id": "gQeDAlTiiVXR"
   },
   "source": [
    "In this example, we passed in two columns from our DataFrame. However, one nice feature of `crosstab()` is that you don't need the data to be in a DataFrame. For the `index` and `columns` arguments, you can pass in two numpy arrays.\n",
    "\n",
    "Let's double check the logic from above makes sense. Let's use filtering in pandas to verify that there were 30 meals served by a male on Thursday. Our query below matches the 30 number we see above."
   ]
  },
  {
   "cell_type": "code",
   "execution_count": null,
   "metadata": {
    "Collapsed": "false",
    "ExecuteTime": {
     "end_time": "2019-09-23T19:37:49.409232Z",
     "start_time": "2019-09-23T19:37:49.303330Z"
    },
    "colab": {},
    "colab_type": "code",
    "hidden": true,
    "id": "UDMXxAgGiVXR",
    "outputId": "71ce0ed9-cbec-40b5-85a5-799ee6409879"
   },
   "outputs": [
    {
     "data": {
      "text/plain": [
       "30"
      ]
     },
     "execution_count": 17,
     "metadata": {
      "tags": []
     },
     "output_type": "execute_result"
    }
   ],
   "source": [
    "len(df_tips.query(\"sex=='Male' and day=='Thur'\"))"
   ]
  },
  {
   "cell_type": "markdown",
   "metadata": {
    "Collapsed": "false",
    "colab_type": "text",
    "hidden": true,
    "id": "CBWWgPVWiVXT"
   },
   "source": [
    "Alternatively, given the crosstab output above, you can present it in a different format that may be easier for further analysis. I won't dive into details of this operation, but in addition to the code above, you can chain the `unstack()` method and then the `reset_index()` method to pivot the DataFrame so each row is a unique combination of a value from `sex` and `day` with the appropriate count of meals served."
   ]
  },
  {
   "cell_type": "code",
   "execution_count": null,
   "metadata": {
    "Collapsed": "false",
    "ExecuteTime": {
     "end_time": "2019-09-23T19:37:49.573258Z",
     "start_time": "2019-09-23T19:37:49.416458Z"
    },
    "colab": {},
    "colab_type": "code",
    "hidden": true,
    "id": "AFcykpATiVXT",
    "outputId": "d0001c1b-5335-49ba-ac32-a884284c104c"
   },
   "outputs": [
    {
     "data": {
      "text/html": [
       "<div>\n",
       "<style scoped>\n",
       "    .dataframe tbody tr th:only-of-type {\n",
       "        vertical-align: middle;\n",
       "    }\n",
       "\n",
       "    .dataframe tbody tr th {\n",
       "        vertical-align: top;\n",
       "    }\n",
       "\n",
       "    .dataframe thead th {\n",
       "        text-align: right;\n",
       "    }\n",
       "</style>\n",
       "<table border=\"1\" class=\"dataframe\">\n",
       "  <thead>\n",
       "    <tr style=\"text-align: right;\">\n",
       "      <th></th>\n",
       "      <th>gender</th>\n",
       "      <th>day</th>\n",
       "      <th>count_meals_served</th>\n",
       "    </tr>\n",
       "  </thead>\n",
       "  <tbody>\n",
       "    <tr>\n",
       "      <td>0</td>\n",
       "      <td>Male</td>\n",
       "      <td>Thur</td>\n",
       "      <td>30</td>\n",
       "    </tr>\n",
       "    <tr>\n",
       "      <td>1</td>\n",
       "      <td>Male</td>\n",
       "      <td>Fri</td>\n",
       "      <td>10</td>\n",
       "    </tr>\n",
       "    <tr>\n",
       "      <td>2</td>\n",
       "      <td>Male</td>\n",
       "      <td>Sat</td>\n",
       "      <td>59</td>\n",
       "    </tr>\n",
       "    <tr>\n",
       "      <td>3</td>\n",
       "      <td>Male</td>\n",
       "      <td>Sun</td>\n",
       "      <td>58</td>\n",
       "    </tr>\n",
       "    <tr>\n",
       "      <td>4</td>\n",
       "      <td>Female</td>\n",
       "      <td>Thur</td>\n",
       "      <td>32</td>\n",
       "    </tr>\n",
       "    <tr>\n",
       "      <td>5</td>\n",
       "      <td>Female</td>\n",
       "      <td>Fri</td>\n",
       "      <td>9</td>\n",
       "    </tr>\n",
       "    <tr>\n",
       "      <td>6</td>\n",
       "      <td>Female</td>\n",
       "      <td>Sat</td>\n",
       "      <td>28</td>\n",
       "    </tr>\n",
       "    <tr>\n",
       "      <td>7</td>\n",
       "      <td>Female</td>\n",
       "      <td>Sun</td>\n",
       "      <td>18</td>\n",
       "    </tr>\n",
       "  </tbody>\n",
       "</table>\n",
       "</div>"
      ],
      "text/plain": [
       "   gender   day  count_meals_served\n",
       "0    Male  Thur                  30\n",
       "1    Male   Fri                  10\n",
       "2    Male   Sat                  59\n",
       "3    Male   Sun                  58\n",
       "4  Female  Thur                  32\n",
       "5  Female   Fri                   9\n",
       "6  Female   Sat                  28\n",
       "7  Female   Sun                  18"
      ]
     },
     "execution_count": 18,
     "metadata": {
      "tags": []
     },
     "output_type": "execute_result"
    }
   ],
   "source": [
    "pd.crosstab(index=df_tips['day'], columns=df_tips['sex'], colnames=['gender']).unstack().reset_index(\n",
    "                                                                ).rename(columns={0: \"count_meals_served\"})"
   ]
  },
  {
   "cell_type": "markdown",
   "metadata": {
    "Collapsed": "false",
    "colab_type": "text",
    "hidden": true,
    "id": "rmZxxtRwiVXW"
   },
   "source": [
    "For each row and column of this previous crosstab, we can modify an argument to get the totals. Set the argument `margins` to `True` to get these totals. By default, the returned output will have a column and row name of `All`."
   ]
  },
  {
   "cell_type": "code",
   "execution_count": null,
   "metadata": {
    "Collapsed": "false",
    "ExecuteTime": {
     "end_time": "2019-09-23T19:37:49.706553Z",
     "start_time": "2019-09-23T19:37:49.576782Z"
    },
    "colab": {},
    "colab_type": "code",
    "hidden": true,
    "id": "PewYHJoQiVXW",
    "outputId": "b8482338-af1a-4fe4-e07d-1680ddc5a83c"
   },
   "outputs": [
    {
     "data": {
      "text/html": [
       "<div>\n",
       "<style scoped>\n",
       "    .dataframe tbody tr th:only-of-type {\n",
       "        vertical-align: middle;\n",
       "    }\n",
       "\n",
       "    .dataframe tbody tr th {\n",
       "        vertical-align: top;\n",
       "    }\n",
       "\n",
       "    .dataframe thead th {\n",
       "        text-align: right;\n",
       "    }\n",
       "</style>\n",
       "<table border=\"1\" class=\"dataframe\">\n",
       "  <thead>\n",
       "    <tr style=\"text-align: right;\">\n",
       "      <th>gender</th>\n",
       "      <th>count_meals_served_by_males</th>\n",
       "      <th>count_meals_served_by_females</th>\n",
       "      <th>All</th>\n",
       "    </tr>\n",
       "    <tr>\n",
       "      <th>day</th>\n",
       "      <th></th>\n",
       "      <th></th>\n",
       "      <th></th>\n",
       "    </tr>\n",
       "  </thead>\n",
       "  <tbody>\n",
       "    <tr>\n",
       "      <td>Thur</td>\n",
       "      <td>30</td>\n",
       "      <td>32</td>\n",
       "      <td>62</td>\n",
       "    </tr>\n",
       "    <tr>\n",
       "      <td>Fri</td>\n",
       "      <td>10</td>\n",
       "      <td>9</td>\n",
       "      <td>19</td>\n",
       "    </tr>\n",
       "    <tr>\n",
       "      <td>Sat</td>\n",
       "      <td>59</td>\n",
       "      <td>28</td>\n",
       "      <td>87</td>\n",
       "    </tr>\n",
       "    <tr>\n",
       "      <td>Sun</td>\n",
       "      <td>58</td>\n",
       "      <td>18</td>\n",
       "      <td>76</td>\n",
       "    </tr>\n",
       "    <tr>\n",
       "      <td>All</td>\n",
       "      <td>157</td>\n",
       "      <td>87</td>\n",
       "      <td>244</td>\n",
       "    </tr>\n",
       "  </tbody>\n",
       "</table>\n",
       "</div>"
      ],
      "text/plain": [
       "gender  count_meals_served_by_males  count_meals_served_by_females  All\n",
       "day                                                                    \n",
       "Thur                             30                             32   62\n",
       "Fri                              10                              9   19\n",
       "Sat                              59                             28   87\n",
       "Sun                              58                             18   76\n",
       "All                             157                             87  244"
      ]
     },
     "execution_count": 19,
     "metadata": {
      "tags": []
     },
     "output_type": "execute_result"
    }
   ],
   "source": [
    "pd.crosstab(index=df_tips['day'], columns=df_tips['sex'], colnames=['gender'], margins=True).rename(\n",
    "                       columns={\"Male\": \"count_meals_served_by_males\", \"Female\": \"count_meals_served_by_females\"})"
   ]
  },
  {
   "cell_type": "markdown",
   "metadata": {
    "Collapsed": "false",
    "colab_type": "text",
    "hidden": true,
    "id": "yyBkygpPiVXY"
   },
   "source": [
    "In the `crosstab()` method, we can also rename the `All` column. First, use all the same arguments from above. Then, set the argument `margins_name` to `count_meals_served` ."
   ]
  },
  {
   "cell_type": "code",
   "execution_count": null,
   "metadata": {
    "Collapsed": "false",
    "ExecuteTime": {
     "end_time": "2019-09-23T19:37:49.844942Z",
     "start_time": "2019-09-23T19:37:49.709230Z"
    },
    "colab": {},
    "colab_type": "code",
    "hidden": true,
    "id": "GEatwWEHiVXY",
    "outputId": "8f09dbfa-efd6-4a78-9a0f-3333230bb945"
   },
   "outputs": [
    {
     "data": {
      "text/html": [
       "<div>\n",
       "<style scoped>\n",
       "    .dataframe tbody tr th:only-of-type {\n",
       "        vertical-align: middle;\n",
       "    }\n",
       "\n",
       "    .dataframe tbody tr th {\n",
       "        vertical-align: top;\n",
       "    }\n",
       "\n",
       "    .dataframe thead th {\n",
       "        text-align: right;\n",
       "    }\n",
       "</style>\n",
       "<table border=\"1\" class=\"dataframe\">\n",
       "  <thead>\n",
       "    <tr style=\"text-align: right;\">\n",
       "      <th>gender</th>\n",
       "      <th>count_meals_served_by_males</th>\n",
       "      <th>count_meals_served_by_females</th>\n",
       "      <th>count_meals_served</th>\n",
       "    </tr>\n",
       "    <tr>\n",
       "      <th>day</th>\n",
       "      <th></th>\n",
       "      <th></th>\n",
       "      <th></th>\n",
       "    </tr>\n",
       "  </thead>\n",
       "  <tbody>\n",
       "    <tr>\n",
       "      <td>Thur</td>\n",
       "      <td>30</td>\n",
       "      <td>32</td>\n",
       "      <td>62</td>\n",
       "    </tr>\n",
       "    <tr>\n",
       "      <td>Fri</td>\n",
       "      <td>10</td>\n",
       "      <td>9</td>\n",
       "      <td>19</td>\n",
       "    </tr>\n",
       "    <tr>\n",
       "      <td>Sat</td>\n",
       "      <td>59</td>\n",
       "      <td>28</td>\n",
       "      <td>87</td>\n",
       "    </tr>\n",
       "    <tr>\n",
       "      <td>Sun</td>\n",
       "      <td>58</td>\n",
       "      <td>18</td>\n",
       "      <td>76</td>\n",
       "    </tr>\n",
       "    <tr>\n",
       "      <td>count_meals_served</td>\n",
       "      <td>157</td>\n",
       "      <td>87</td>\n",
       "      <td>244</td>\n",
       "    </tr>\n",
       "  </tbody>\n",
       "</table>\n",
       "</div>"
      ],
      "text/plain": [
       "gender              count_meals_served_by_males  \\\n",
       "day                                               \n",
       "Thur                                         30   \n",
       "Fri                                          10   \n",
       "Sat                                          59   \n",
       "Sun                                          58   \n",
       "count_meals_served                          157   \n",
       "\n",
       "gender              count_meals_served_by_females  count_meals_served  \n",
       "day                                                                    \n",
       "Thur                                           32                  62  \n",
       "Fri                                             9                  19  \n",
       "Sat                                            28                  87  \n",
       "Sun                                            18                  76  \n",
       "count_meals_served                             87                 244  "
      ]
     },
     "execution_count": 20,
     "metadata": {
      "tags": []
     },
     "output_type": "execute_result"
    }
   ],
   "source": [
    "pd.crosstab(index=df_tips['day'], columns=df_tips['sex'], colnames=['gender'], margins=True, \n",
    "    margins_name=\"count_meals_served\").rename(columns={\"Male\": \"count_meals_served_by_males\", \n",
    "                                                       \"Female\": \"count_meals_served_by_females\"})"
   ]
  },
  {
   "cell_type": "markdown",
   "metadata": {
    "Collapsed": "false",
    "colab_type": "text",
    "hidden": true,
    "id": "vvjPxRGPiVXa"
   },
   "source": [
    "For each cell value, we can calculate what percentage it is of the row's total. To do that, set the `normalize` argument to `'index'` (since index applies to each row)."
   ]
  },
  {
   "cell_type": "code",
   "execution_count": null,
   "metadata": {
    "Collapsed": "false",
    "ExecuteTime": {
     "end_time": "2019-09-23T19:37:49.977271Z",
     "start_time": "2019-09-23T19:37:49.847937Z"
    },
    "colab": {},
    "colab_type": "code",
    "hidden": true,
    "id": "HBeuwclPiVXa",
    "outputId": "5d16a5c0-4742-4780-c5cf-65099140c218"
   },
   "outputs": [
    {
     "data": {
      "text/html": [
       "<div>\n",
       "<style scoped>\n",
       "    .dataframe tbody tr th:only-of-type {\n",
       "        vertical-align: middle;\n",
       "    }\n",
       "\n",
       "    .dataframe tbody tr th {\n",
       "        vertical-align: top;\n",
       "    }\n",
       "\n",
       "    .dataframe thead th {\n",
       "        text-align: right;\n",
       "    }\n",
       "</style>\n",
       "<table border=\"1\" class=\"dataframe\">\n",
       "  <thead>\n",
       "    <tr style=\"text-align: right;\">\n",
       "      <th>gender</th>\n",
       "      <th>proportion_meals_served_by_males</th>\n",
       "      <th>proportion_meals_served_by_females</th>\n",
       "    </tr>\n",
       "    <tr>\n",
       "      <th>day</th>\n",
       "      <th></th>\n",
       "      <th></th>\n",
       "    </tr>\n",
       "  </thead>\n",
       "  <tbody>\n",
       "    <tr>\n",
       "      <td>Thur</td>\n",
       "      <td>0.483871</td>\n",
       "      <td>0.516129</td>\n",
       "    </tr>\n",
       "    <tr>\n",
       "      <td>Fri</td>\n",
       "      <td>0.526316</td>\n",
       "      <td>0.473684</td>\n",
       "    </tr>\n",
       "    <tr>\n",
       "      <td>Sat</td>\n",
       "      <td>0.678161</td>\n",
       "      <td>0.321839</td>\n",
       "    </tr>\n",
       "    <tr>\n",
       "      <td>Sun</td>\n",
       "      <td>0.763158</td>\n",
       "      <td>0.236842</td>\n",
       "    </tr>\n",
       "    <tr>\n",
       "      <td>proportion_meals_served</td>\n",
       "      <td>0.643443</td>\n",
       "      <td>0.356557</td>\n",
       "    </tr>\n",
       "  </tbody>\n",
       "</table>\n",
       "</div>"
      ],
      "text/plain": [
       "gender                   proportion_meals_served_by_males  \\\n",
       "day                                                         \n",
       "Thur                                             0.483871   \n",
       "Fri                                              0.526316   \n",
       "Sat                                              0.678161   \n",
       "Sun                                              0.763158   \n",
       "proportion_meals_served                          0.643443   \n",
       "\n",
       "gender                   proportion_meals_served_by_females  \n",
       "day                                                          \n",
       "Thur                                               0.516129  \n",
       "Fri                                                0.473684  \n",
       "Sat                                                0.321839  \n",
       "Sun                                                0.236842  \n",
       "proportion_meals_served                            0.356557  "
      ]
     },
     "execution_count": 21,
     "metadata": {
      "tags": []
     },
     "output_type": "execute_result"
    }
   ],
   "source": [
    "pd.crosstab(index=df_tips['day'], columns=df_tips['sex'], colnames=['gender'], margins=True, \n",
    "            margins_name=\"proportion_meals_served\", normalize='index').rename(columns={\"Male\": \n",
    "                           \"proportion_meals_served_by_males\", \"Female\": \"proportion_meals_served_by_females\"})"
   ]
  },
  {
   "cell_type": "markdown",
   "metadata": {
    "Collapsed": "false",
    "colab_type": "text",
    "hidden": true,
    "id": "EKJnCB7giVXc"
   },
   "source": [
    "For each cell value, we can also calculate what percentage it is of the column's total. To do that, set the `normalize` argument to `'columns'`."
   ]
  },
  {
   "cell_type": "code",
   "execution_count": null,
   "metadata": {
    "Collapsed": "false",
    "ExecuteTime": {
     "end_time": "2019-09-23T19:37:50.086128Z",
     "start_time": "2019-09-23T19:37:49.980128Z"
    },
    "colab": {},
    "colab_type": "code",
    "hidden": true,
    "id": "R1jRmxFwiVXc",
    "outputId": "01ec1566-535d-4488-cb86-28b5aa63c8a4"
   },
   "outputs": [
    {
     "data": {
      "text/html": [
       "<div>\n",
       "<style scoped>\n",
       "    .dataframe tbody tr th:only-of-type {\n",
       "        vertical-align: middle;\n",
       "    }\n",
       "\n",
       "    .dataframe tbody tr th {\n",
       "        vertical-align: top;\n",
       "    }\n",
       "\n",
       "    .dataframe thead th {\n",
       "        text-align: right;\n",
       "    }\n",
       "</style>\n",
       "<table border=\"1\" class=\"dataframe\">\n",
       "  <thead>\n",
       "    <tr style=\"text-align: right;\">\n",
       "      <th>gender</th>\n",
       "      <th>proportion_meals_served_by_males</th>\n",
       "      <th>proportion_meals_served_by_females</th>\n",
       "      <th>proportion_meals_served</th>\n",
       "    </tr>\n",
       "    <tr>\n",
       "      <th>day</th>\n",
       "      <th></th>\n",
       "      <th></th>\n",
       "      <th></th>\n",
       "    </tr>\n",
       "  </thead>\n",
       "  <tbody>\n",
       "    <tr>\n",
       "      <td>Thur</td>\n",
       "      <td>0.191083</td>\n",
       "      <td>0.367816</td>\n",
       "      <td>0.254098</td>\n",
       "    </tr>\n",
       "    <tr>\n",
       "      <td>Fri</td>\n",
       "      <td>0.063694</td>\n",
       "      <td>0.103448</td>\n",
       "      <td>0.077869</td>\n",
       "    </tr>\n",
       "    <tr>\n",
       "      <td>Sat</td>\n",
       "      <td>0.375796</td>\n",
       "      <td>0.321839</td>\n",
       "      <td>0.356557</td>\n",
       "    </tr>\n",
       "    <tr>\n",
       "      <td>Sun</td>\n",
       "      <td>0.369427</td>\n",
       "      <td>0.206897</td>\n",
       "      <td>0.311475</td>\n",
       "    </tr>\n",
       "  </tbody>\n",
       "</table>\n",
       "</div>"
      ],
      "text/plain": [
       "gender  proportion_meals_served_by_males  proportion_meals_served_by_females  \\\n",
       "day                                                                            \n",
       "Thur                            0.191083                            0.367816   \n",
       "Fri                             0.063694                            0.103448   \n",
       "Sat                             0.375796                            0.321839   \n",
       "Sun                             0.369427                            0.206897   \n",
       "\n",
       "gender  proportion_meals_served  \n",
       "day                              \n",
       "Thur                   0.254098  \n",
       "Fri                    0.077869  \n",
       "Sat                    0.356557  \n",
       "Sun                    0.311475  "
      ]
     },
     "execution_count": 22,
     "metadata": {
      "tags": []
     },
     "output_type": "execute_result"
    }
   ],
   "source": [
    "pd.crosstab(index=df_tips['day'], columns=df_tips['sex'], colnames=['gender'], margins=True, \n",
    "            margins_name=\"proportion_meals_served\", normalize='columns').rename(columns={\"Male\": \n",
    "                            \"proportion_meals_served_by_males\", \"Female\": \"proportion_meals_served_by_females\"})"
   ]
  },
  {
   "cell_type": "markdown",
   "metadata": {
    "Collapsed": "false",
    "colab_type": "text",
    "hidden": true,
    "id": "-kDQZH5NiVXe"
   },
   "source": [
    "Given two categorical columns, the `crosstab()` method can additionally utilize a column with numerical values to perform an aggregate operation. That sentence may sound daunting - so let's walk through it with a simple example.\n",
    "\n",
    "We know there exists `total_bill` values in our datasets for males that served meals on Thursday. Below, I preview the first few `total_bill` values that meet this criteria."
   ]
  },
  {
   "cell_type": "code",
   "execution_count": null,
   "metadata": {
    "Collapsed": "false",
    "ExecuteTime": {
     "end_time": "2019-09-23T19:37:50.215874Z",
     "start_time": "2019-09-23T19:37:50.088813Z"
    },
    "colab": {},
    "colab_type": "code",
    "hidden": true,
    "id": "7IjMn7CBiVXe",
    "outputId": "ad57b564-c34d-4ef3-ec21-06cb74852097"
   },
   "outputs": [
    {
     "data": {
      "text/plain": [
       "77    27.20\n",
       "78    22.76\n",
       "79    17.29\n",
       "80    19.44\n",
       "81    16.66\n",
       "Name: total_bill, dtype: float64"
      ]
     },
     "execution_count": 23,
     "metadata": {
      "tags": []
     },
     "output_type": "execute_result"
    }
   ],
   "source": [
    "df_tips.query(\"sex=='Male' and day=='Thur'\")['total_bill'].head()"
   ]
  },
  {
   "cell_type": "markdown",
   "metadata": {
    "Collapsed": "false",
    "colab_type": "text",
    "hidden": true,
    "id": "fZAGlJNXiVXg"
   },
   "source": [
    "We may want to know the average bill size that meet the criteria above. So, given that series, we can calculate the mean and we arrive at a result of 18.71."
   ]
  },
  {
   "cell_type": "code",
   "execution_count": null,
   "metadata": {
    "Collapsed": "false",
    "ExecuteTime": {
     "end_time": "2019-09-23T19:37:50.353339Z",
     "start_time": "2019-09-23T19:37:50.218035Z"
    },
    "colab": {},
    "colab_type": "code",
    "hidden": true,
    "id": "EHmt2mp4iVXg",
    "outputId": "bebf6ac4-3577-4179-b574-791450b7531e"
   },
   "outputs": [
    {
     "data": {
      "text/plain": [
       "18.71466666666667"
      ]
     },
     "execution_count": 24,
     "metadata": {
      "tags": []
     },
     "output_type": "execute_result"
    }
   ],
   "source": [
    "df_tips.query(\"sex=='Male' and day=='Thur'\")['total_bill'].mean()"
   ]
  },
  {
   "cell_type": "markdown",
   "metadata": {
    "Collapsed": "false",
    "colab_type": "text",
    "hidden": true,
    "id": "9FikijztiVXl"
   },
   "source": [
    "Now, we can perform this same operation using the `crosstab()` method. Same as before, we want our returned index to be the unique values from `day` and our returned columns to be the unique values from `sex`. Additionally, we want the values inside the table to be from our `total_bill` column so we'll set the argument `values` to be `df_tips['total_bill']`. We also want to calculate the mean total bill for each combination of a day and gender so we'll set the `aggfunc` argument to `'mean'`."
   ]
  },
  {
   "cell_type": "code",
   "execution_count": null,
   "metadata": {
    "Collapsed": "false",
    "ExecuteTime": {
     "end_time": "2019-09-23T19:37:50.485288Z",
     "start_time": "2019-09-23T19:37:50.355653Z"
    },
    "colab": {},
    "colab_type": "code",
    "hidden": true,
    "id": "AxEQmmIuiVXl",
    "outputId": "18ef7fda-4e78-4dac-fd48-d4ec45fcaa1d"
   },
   "outputs": [
    {
     "data": {
      "text/html": [
       "<div>\n",
       "<style scoped>\n",
       "    .dataframe tbody tr th:only-of-type {\n",
       "        vertical-align: middle;\n",
       "    }\n",
       "\n",
       "    .dataframe tbody tr th {\n",
       "        vertical-align: top;\n",
       "    }\n",
       "\n",
       "    .dataframe thead th {\n",
       "        text-align: right;\n",
       "    }\n",
       "</style>\n",
       "<table border=\"1\" class=\"dataframe\">\n",
       "  <thead>\n",
       "    <tr style=\"text-align: right;\">\n",
       "      <th>gender</th>\n",
       "      <th>mean_bill_size_meals_served_by_males</th>\n",
       "      <th>mean_bill_size_meals_served_by_females</th>\n",
       "    </tr>\n",
       "    <tr>\n",
       "      <th>day</th>\n",
       "      <th></th>\n",
       "      <th></th>\n",
       "    </tr>\n",
       "  </thead>\n",
       "  <tbody>\n",
       "    <tr>\n",
       "      <td>Thur</td>\n",
       "      <td>18.714667</td>\n",
       "      <td>16.715312</td>\n",
       "    </tr>\n",
       "    <tr>\n",
       "      <td>Fri</td>\n",
       "      <td>19.857000</td>\n",
       "      <td>14.145556</td>\n",
       "    </tr>\n",
       "    <tr>\n",
       "      <td>Sat</td>\n",
       "      <td>20.802542</td>\n",
       "      <td>19.680357</td>\n",
       "    </tr>\n",
       "    <tr>\n",
       "      <td>Sun</td>\n",
       "      <td>21.887241</td>\n",
       "      <td>19.872222</td>\n",
       "    </tr>\n",
       "  </tbody>\n",
       "</table>\n",
       "</div>"
      ],
      "text/plain": [
       "gender  mean_bill_size_meals_served_by_males  \\\n",
       "day                                            \n",
       "Thur                               18.714667   \n",
       "Fri                                19.857000   \n",
       "Sat                                20.802542   \n",
       "Sun                                21.887241   \n",
       "\n",
       "gender  mean_bill_size_meals_served_by_females  \n",
       "day                                             \n",
       "Thur                                 16.715312  \n",
       "Fri                                  14.145556  \n",
       "Sat                                  19.680357  \n",
       "Sun                                  19.872222  "
      ]
     },
     "execution_count": 25,
     "metadata": {
      "tags": []
     },
     "output_type": "execute_result"
    }
   ],
   "source": [
    "pd.crosstab(index=df_tips['day'], columns=df_tips['sex'], values=df_tips['total_bill'], colnames=['gender'],\n",
    "            aggfunc='mean').rename(columns={\"Male\": \"mean_bill_size_meals_served_by_males\",\n",
    "                                            \"Female\": \"mean_bill_size_meals_served_by_females\"})"
   ]
  },
  {
   "cell_type": "markdown",
   "metadata": {
    "Collapsed": "false",
    "colab_type": "text",
    "hidden": true,
    "id": "5jlz-_2qiVXn"
   },
   "source": [
    "This crosstab calculation outputted the same 18.71 value as expected!\n",
    "\n",
    "We can pass in many other aggregate methods to the `aggfunc` method too such as mean and standard deviation.\n",
    "\n",
    "You can learn more about details of using `crosstab()` from the official pandas <a href='https://pandas.pydata.org/pandas-docs/version/0.22/generated/pandas.crosstab.html'>documentation page</a>."
   ]
  },
  {
   "cell_type": "markdown",
   "metadata": {
    "Collapsed": "true",
    "colab_type": "text",
    "heading_collapsed": true,
    "hidden": true,
    "id": "h62LqjBgiVXn"
   },
   "source": [
    "#### Grouping By Multiple Fields for the Index and/or Columns"
   ]
  },
  {
   "cell_type": "markdown",
   "metadata": {
    "Collapsed": "false",
    "colab_type": "text",
    "hidden": true,
    "id": "c6ZZa93QiVXo"
   },
   "source": [
    "We can also use the `crosstabs()` method to group by multiple pandas columns for the `index` or `columns` arguments. \n",
    "\n",
    "For example, we can find out for days of the week, for each gender, what was the count of meals they served for lunch or dinner. In pandas We want our returned index to be the unique values from `day` and our returned columns to be the unique values from all combinations of the `sex` (gender) and `time` (meal time) columns. \n",
    "\n",
    "To interpret a value from our table below, across all Thursdays in our dataset, females served 31 lunch meals."
   ]
  },
  {
   "cell_type": "code",
   "execution_count": null,
   "metadata": {
    "Collapsed": "false",
    "ExecuteTime": {
     "end_time": "2019-09-23T19:37:50.621547Z",
     "start_time": "2019-09-23T19:37:50.487679Z"
    },
    "colab": {},
    "colab_type": "code",
    "hidden": true,
    "id": "ztsuC9uGiVXp",
    "outputId": "10b9db71-2c27-446e-8ce3-85ee72c1de77"
   },
   "outputs": [
    {
     "data": {
      "text/html": [
       "<div>\n",
       "<style scoped>\n",
       "    .dataframe tbody tr th:only-of-type {\n",
       "        vertical-align: middle;\n",
       "    }\n",
       "\n",
       "    .dataframe tbody tr th {\n",
       "        vertical-align: top;\n",
       "    }\n",
       "\n",
       "    .dataframe thead tr th {\n",
       "        text-align: left;\n",
       "    }\n",
       "\n",
       "    .dataframe thead tr:last-of-type th {\n",
       "        text-align: right;\n",
       "    }\n",
       "</style>\n",
       "<table border=\"1\" class=\"dataframe\">\n",
       "  <thead>\n",
       "    <tr>\n",
       "      <th>gender</th>\n",
       "      <th colspan=\"2\" halign=\"left\">Male</th>\n",
       "      <th colspan=\"2\" halign=\"left\">Female</th>\n",
       "    </tr>\n",
       "    <tr>\n",
       "      <th>meal</th>\n",
       "      <th>count_lunch_meals_served</th>\n",
       "      <th>count_dinner_meals_served</th>\n",
       "      <th>count_lunch_meals_served</th>\n",
       "      <th>count_dinner_meals_served</th>\n",
       "    </tr>\n",
       "    <tr>\n",
       "      <th>day</th>\n",
       "      <th></th>\n",
       "      <th></th>\n",
       "      <th></th>\n",
       "      <th></th>\n",
       "    </tr>\n",
       "  </thead>\n",
       "  <tbody>\n",
       "    <tr>\n",
       "      <td>Thur</td>\n",
       "      <td>30</td>\n",
       "      <td>0</td>\n",
       "      <td>31</td>\n",
       "      <td>1</td>\n",
       "    </tr>\n",
       "    <tr>\n",
       "      <td>Fri</td>\n",
       "      <td>3</td>\n",
       "      <td>7</td>\n",
       "      <td>4</td>\n",
       "      <td>5</td>\n",
       "    </tr>\n",
       "    <tr>\n",
       "      <td>Sat</td>\n",
       "      <td>0</td>\n",
       "      <td>59</td>\n",
       "      <td>0</td>\n",
       "      <td>28</td>\n",
       "    </tr>\n",
       "    <tr>\n",
       "      <td>Sun</td>\n",
       "      <td>0</td>\n",
       "      <td>58</td>\n",
       "      <td>0</td>\n",
       "      <td>18</td>\n",
       "    </tr>\n",
       "  </tbody>\n",
       "</table>\n",
       "</div>"
      ],
      "text/plain": [
       "gender                     Male                            \\\n",
       "meal   count_lunch_meals_served count_dinner_meals_served   \n",
       "day                                                         \n",
       "Thur                         30                         0   \n",
       "Fri                           3                         7   \n",
       "Sat                           0                        59   \n",
       "Sun                           0                        58   \n",
       "\n",
       "gender                   Female                            \n",
       "meal   count_lunch_meals_served count_dinner_meals_served  \n",
       "day                                                        \n",
       "Thur                         31                         1  \n",
       "Fri                           4                         5  \n",
       "Sat                           0                        28  \n",
       "Sun                           0                        18  "
      ]
     },
     "execution_count": 26,
     "metadata": {
      "tags": []
     },
     "output_type": "execute_result"
    }
   ],
   "source": [
    "pd.crosstab(index=df_tips['day'], columns=[df_tips['sex'], df_tips['time']], colnames=['gender', 'meal']\n",
    "           ).rename(columns={\"Lunch\": \"count_lunch_meals_served\", \"Dinner\": \"count_dinner_meals_served\"})"
   ]
  },
  {
   "cell_type": "markdown",
   "metadata": {
    "Collapsed": "false",
    "colab_type": "text",
    "hidden": true,
    "id": "EWAGWHfriVXq"
   },
   "source": [
    "We can verify the logic in a value with a separate query. I'm curious to see the count of meals on Thursday served by females during lunch time. Our result on this query is 31 which matches the value in the crosstab above!"
   ]
  },
  {
   "cell_type": "code",
   "execution_count": null,
   "metadata": {
    "Collapsed": "false",
    "ExecuteTime": {
     "end_time": "2019-09-23T19:37:50.729269Z",
     "start_time": "2019-09-23T19:37:50.623782Z"
    },
    "colab": {},
    "colab_type": "code",
    "hidden": true,
    "id": "76PrlFyoiVXr",
    "outputId": "d8043bb0-9b27-4362-8189-46676d7ea97e"
   },
   "outputs": [
    {
     "data": {
      "text/plain": [
       "31"
      ]
     },
     "execution_count": 27,
     "metadata": {
      "tags": []
     },
     "output_type": "execute_result"
    }
   ],
   "source": [
    "len(df_tips.query(\"day=='Thur' and sex=='Female' and time=='Lunch'\"))"
   ]
  },
  {
   "cell_type": "markdown",
   "metadata": {
    "Collapsed": "false",
    "colab_type": "text",
    "hidden": true,
    "id": "hjw3DOIuiVXs"
   },
   "source": [
    "If you're familiar with the `groupby()` method in pandas, the code below performs a similar operation to the crosstab above, but the output format is a little different."
   ]
  },
  {
   "cell_type": "code",
   "execution_count": null,
   "metadata": {
    "Collapsed": "false",
    "ExecuteTime": {
     "end_time": "2019-09-23T19:37:50.829381Z",
     "start_time": "2019-09-23T19:37:50.731313Z"
    },
    "colab": {},
    "colab_type": "code",
    "hidden": true,
    "id": "NV5Kdr0ciVXs",
    "outputId": "b89c1019-f376-4d52-dd9c-e34e06cfc447"
   },
   "outputs": [
    {
     "data": {
      "text/plain": [
       "day   sex   \n",
       "Thur  Male      30\n",
       "      Female    32\n",
       "Fri   Male      10\n",
       "      Female     9\n",
       "Sat   Male      59\n",
       "      Female    28\n",
       "Sun   Male      58\n",
       "      Female    18\n",
       "Name: time, dtype: int64"
      ]
     },
     "execution_count": 28,
     "metadata": {
      "tags": []
     },
     "output_type": "execute_result"
    }
   ],
   "source": [
    "df_tips.groupby(['day', 'sex'])['time'].count()"
   ]
  },
  {
   "cell_type": "markdown",
   "metadata": {
    "Collapsed": "false",
    "colab_type": "text",
    "hidden": true,
    "id": "YBBM1N2GiVXv"
   },
   "source": [
    "We can also group by multiple pandas columns in the `index` argument of the `crosstabs()` method. \n",
    "\n",
    "Below is a fairly complex operation. The code below helps us find out for every combination of day of the week, gender and meal type what was the count of meals served for the various group sizes (ex - party of two people versus party of three). \n",
    "\n",
    "In our output, the index includes unique values from the `day` and `sex` fields while columns include unique values from the `time` and `size` fields.\n",
    "\n",
    "To interpret a value from our table below, across all Thursdays in our dataset, males 24 lunch meals that contained a group of 2 people."
   ]
  },
  {
   "cell_type": "code",
   "execution_count": null,
   "metadata": {
    "Collapsed": "false",
    "ExecuteTime": {
     "end_time": "2019-09-23T19:37:50.988730Z",
     "start_time": "2019-09-23T19:37:50.832131Z"
    },
    "colab": {},
    "colab_type": "code",
    "hidden": true,
    "id": "qblYmogeiVXw",
    "outputId": "4c0e9bc0-d26b-4f46-fb28-6eed0945c212"
   },
   "outputs": [
    {
     "data": {
      "text/html": [
       "<div>\n",
       "<style scoped>\n",
       "    .dataframe tbody tr th:only-of-type {\n",
       "        vertical-align: middle;\n",
       "    }\n",
       "\n",
       "    .dataframe tbody tr th {\n",
       "        vertical-align: top;\n",
       "    }\n",
       "\n",
       "    .dataframe thead tr th {\n",
       "        text-align: left;\n",
       "    }\n",
       "\n",
       "    .dataframe thead tr:last-of-type th {\n",
       "        text-align: right;\n",
       "    }\n",
       "</style>\n",
       "<table border=\"1\" class=\"dataframe\">\n",
       "  <thead>\n",
       "    <tr>\n",
       "      <th></th>\n",
       "      <th>meal</th>\n",
       "      <th colspan=\"6\" halign=\"left\">count_lunch_meals_served</th>\n",
       "      <th colspan=\"6\" halign=\"left\">count_dinner_meals_served</th>\n",
       "    </tr>\n",
       "    <tr>\n",
       "      <th></th>\n",
       "      <th>party_people_size</th>\n",
       "      <th>1</th>\n",
       "      <th>2</th>\n",
       "      <th>3</th>\n",
       "      <th>4</th>\n",
       "      <th>5</th>\n",
       "      <th>6</th>\n",
       "      <th>1</th>\n",
       "      <th>2</th>\n",
       "      <th>3</th>\n",
       "      <th>4</th>\n",
       "      <th>5</th>\n",
       "      <th>6</th>\n",
       "    </tr>\n",
       "    <tr>\n",
       "      <th>day</th>\n",
       "      <th>sex</th>\n",
       "      <th></th>\n",
       "      <th></th>\n",
       "      <th></th>\n",
       "      <th></th>\n",
       "      <th></th>\n",
       "      <th></th>\n",
       "      <th></th>\n",
       "      <th></th>\n",
       "      <th></th>\n",
       "      <th></th>\n",
       "      <th></th>\n",
       "      <th></th>\n",
       "    </tr>\n",
       "  </thead>\n",
       "  <tbody>\n",
       "    <tr>\n",
       "      <td rowspan=\"2\" valign=\"top\">Thur</td>\n",
       "      <td>Male</td>\n",
       "      <td>0</td>\n",
       "      <td>24</td>\n",
       "      <td>2</td>\n",
       "      <td>2</td>\n",
       "      <td>1</td>\n",
       "      <td>1</td>\n",
       "      <td>0</td>\n",
       "      <td>0</td>\n",
       "      <td>0</td>\n",
       "      <td>0</td>\n",
       "      <td>0</td>\n",
       "      <td>0</td>\n",
       "    </tr>\n",
       "    <tr>\n",
       "      <td>Female</td>\n",
       "      <td>1</td>\n",
       "      <td>23</td>\n",
       "      <td>2</td>\n",
       "      <td>3</td>\n",
       "      <td>0</td>\n",
       "      <td>2</td>\n",
       "      <td>0</td>\n",
       "      <td>1</td>\n",
       "      <td>0</td>\n",
       "      <td>0</td>\n",
       "      <td>0</td>\n",
       "      <td>0</td>\n",
       "    </tr>\n",
       "    <tr>\n",
       "      <td rowspan=\"2\" valign=\"top\">Fri</td>\n",
       "      <td>Male</td>\n",
       "      <td>1</td>\n",
       "      <td>2</td>\n",
       "      <td>0</td>\n",
       "      <td>0</td>\n",
       "      <td>0</td>\n",
       "      <td>0</td>\n",
       "      <td>0</td>\n",
       "      <td>6</td>\n",
       "      <td>0</td>\n",
       "      <td>1</td>\n",
       "      <td>0</td>\n",
       "      <td>0</td>\n",
       "    </tr>\n",
       "    <tr>\n",
       "      <td>Female</td>\n",
       "      <td>0</td>\n",
       "      <td>3</td>\n",
       "      <td>1</td>\n",
       "      <td>0</td>\n",
       "      <td>0</td>\n",
       "      <td>0</td>\n",
       "      <td>0</td>\n",
       "      <td>5</td>\n",
       "      <td>0</td>\n",
       "      <td>0</td>\n",
       "      <td>0</td>\n",
       "      <td>0</td>\n",
       "    </tr>\n",
       "    <tr>\n",
       "      <td rowspan=\"2\" valign=\"top\">Sat</td>\n",
       "      <td>Male</td>\n",
       "      <td>0</td>\n",
       "      <td>0</td>\n",
       "      <td>0</td>\n",
       "      <td>0</td>\n",
       "      <td>0</td>\n",
       "      <td>0</td>\n",
       "      <td>0</td>\n",
       "      <td>34</td>\n",
       "      <td>13</td>\n",
       "      <td>11</td>\n",
       "      <td>1</td>\n",
       "      <td>0</td>\n",
       "    </tr>\n",
       "    <tr>\n",
       "      <td>Female</td>\n",
       "      <td>0</td>\n",
       "      <td>0</td>\n",
       "      <td>0</td>\n",
       "      <td>0</td>\n",
       "      <td>0</td>\n",
       "      <td>0</td>\n",
       "      <td>2</td>\n",
       "      <td>19</td>\n",
       "      <td>5</td>\n",
       "      <td>2</td>\n",
       "      <td>0</td>\n",
       "      <td>0</td>\n",
       "    </tr>\n",
       "    <tr>\n",
       "      <td rowspan=\"2\" valign=\"top\">Sun</td>\n",
       "      <td>Male</td>\n",
       "      <td>0</td>\n",
       "      <td>0</td>\n",
       "      <td>0</td>\n",
       "      <td>0</td>\n",
       "      <td>0</td>\n",
       "      <td>0</td>\n",
       "      <td>0</td>\n",
       "      <td>32</td>\n",
       "      <td>9</td>\n",
       "      <td>14</td>\n",
       "      <td>2</td>\n",
       "      <td>1</td>\n",
       "    </tr>\n",
       "    <tr>\n",
       "      <td>Female</td>\n",
       "      <td>0</td>\n",
       "      <td>0</td>\n",
       "      <td>0</td>\n",
       "      <td>0</td>\n",
       "      <td>0</td>\n",
       "      <td>0</td>\n",
       "      <td>0</td>\n",
       "      <td>7</td>\n",
       "      <td>6</td>\n",
       "      <td>4</td>\n",
       "      <td>1</td>\n",
       "      <td>0</td>\n",
       "    </tr>\n",
       "  </tbody>\n",
       "</table>\n",
       "</div>"
      ],
      "text/plain": [
       "meal              count_lunch_meals_served                  \\\n",
       "party_people_size                        1   2  3  4  5  6   \n",
       "day  sex                                                     \n",
       "Thur Male                                0  24  2  2  1  1   \n",
       "     Female                              1  23  2  3  0  2   \n",
       "Fri  Male                                1   2  0  0  0  0   \n",
       "     Female                              0   3  1  0  0  0   \n",
       "Sat  Male                                0   0  0  0  0  0   \n",
       "     Female                              0   0  0  0  0  0   \n",
       "Sun  Male                                0   0  0  0  0  0   \n",
       "     Female                              0   0  0  0  0  0   \n",
       "\n",
       "meal              count_dinner_meals_served                    \n",
       "party_people_size                         1   2   3   4  5  6  \n",
       "day  sex                                                       \n",
       "Thur Male                                 0   0   0   0  0  0  \n",
       "     Female                               0   1   0   0  0  0  \n",
       "Fri  Male                                 0   6   0   1  0  0  \n",
       "     Female                               0   5   0   0  0  0  \n",
       "Sat  Male                                 0  34  13  11  1  0  \n",
       "     Female                               2  19   5   2  0  0  \n",
       "Sun  Male                                 0  32   9  14  2  1  \n",
       "     Female                               0   7   6   4  1  0  "
      ]
     },
     "execution_count": 29,
     "metadata": {
      "tags": []
     },
     "output_type": "execute_result"
    }
   ],
   "source": [
    "pd.crosstab(index=[df_tips['day'], df_tips['sex']], columns=[df_tips['time'], df_tips['size']], \n",
    "            colnames=['meal', 'party_people_size']).rename(columns={\"Lunch\": \"count_lunch_meals_served\",\n",
    "                                                                    \"Dinner\": \"count_dinner_meals_served\"})"
   ]
  },
  {
   "cell_type": "markdown",
   "metadata": {
    "Collapsed": "false",
    "colab_type": "text",
    "hidden": true,
    "id": "yd4zdyyNiVXx"
   },
   "source": [
    "We can verify 24 lunch meals for a party of 2 were served by males on Thursdays with the query below too."
   ]
  },
  {
   "cell_type": "code",
   "execution_count": null,
   "metadata": {
    "Collapsed": "false",
    "ExecuteTime": {
     "end_time": "2019-09-23T19:37:51.079847Z",
     "start_time": "2019-09-23T19:37:50.991415Z"
    },
    "colab": {},
    "colab_type": "code",
    "hidden": true,
    "id": "Qb4-R_djiVXy",
    "outputId": "b1c913a7-70a1-45f2-ef2c-6f969cdd4861"
   },
   "outputs": [
    {
     "data": {
      "text/plain": [
       "24"
      ]
     },
     "execution_count": 30,
     "metadata": {
      "tags": []
     },
     "output_type": "execute_result"
    }
   ],
   "source": [
    "len(df_tips.query(\"day=='Thur' and sex=='Male' and time=='Lunch' and size==2\"))"
   ]
  },
  {
   "cell_type": "markdown",
   "metadata": {
    "Collapsed": "true",
    "colab_type": "text",
    "heading_collapsed": true,
    "hidden": true,
    "id": "eVL5kvW2iVXz"
   },
   "source": [
    "### Style Output"
   ]
  },
  {
   "cell_type": "markdown",
   "metadata": {
    "Collapsed": "false",
    "colab_type": "text",
    "hidden": true,
    "id": "i5x6LLfJiVX0"
   },
   "source": [
    "While the above output is daunting to read with all the cells, there's a cool trick in Seaborn to make your DataFrame output appear as a heatmap. I added some code based off the example from the <a href='https://pandas.pydata.org/pandas-docs/stable/style.html#Builtin-Styles'>pandas documention</a> for built-in styles. Now, we can more easily identify the large values as being dark orange colors in our visualization below."
   ]
  },
  {
   "cell_type": "code",
   "execution_count": null,
   "metadata": {
    "Collapsed": "false",
    "ExecuteTime": {
     "end_time": "2019-09-23T19:37:51.851036Z",
     "start_time": "2019-09-23T19:37:51.081862Z"
    },
    "colab": {},
    "colab_type": "code",
    "hidden": true,
    "id": "rrY3NT3tiVX0",
    "outputId": "7b348116-7564-4168-b0ae-7ddc7e0a1b4b",
    "scrolled": true
   },
   "outputs": [
    {
     "data": {
      "text/html": [
       "<style  type=\"text/css\" >\n",
       "    #T_a1abb540_de39_11e9_ae69_28c2dd167ca1row0_col0 {\n",
       "            background-color:  #fff6e5;\n",
       "            color:  #000000;\n",
       "        }    #T_a1abb540_de39_11e9_ae69_28c2dd167ca1row0_col1 {\n",
       "            background-color:  #ffa500;\n",
       "            color:  #000000;\n",
       "        }    #T_a1abb540_de39_11e9_ae69_28c2dd167ca1row0_col2 {\n",
       "            background-color:  #ffa500;\n",
       "            color:  #000000;\n",
       "        }    #T_a1abb540_de39_11e9_ae69_28c2dd167ca1row0_col3 {\n",
       "            background-color:  #ffc04d;\n",
       "            color:  #000000;\n",
       "        }    #T_a1abb540_de39_11e9_ae69_28c2dd167ca1row0_col4 {\n",
       "            background-color:  #ffa500;\n",
       "            color:  #000000;\n",
       "        }    #T_a1abb540_de39_11e9_ae69_28c2dd167ca1row0_col5 {\n",
       "            background-color:  #ffcd72;\n",
       "            color:  #000000;\n",
       "        }    #T_a1abb540_de39_11e9_ae69_28c2dd167ca1row0_col6 {\n",
       "            background-color:  #fff6e5;\n",
       "            color:  #000000;\n",
       "        }    #T_a1abb540_de39_11e9_ae69_28c2dd167ca1row0_col7 {\n",
       "            background-color:  #fff6e5;\n",
       "            color:  #000000;\n",
       "        }    #T_a1abb540_de39_11e9_ae69_28c2dd167ca1row0_col8 {\n",
       "            background-color:  #fff6e5;\n",
       "            color:  #000000;\n",
       "        }    #T_a1abb540_de39_11e9_ae69_28c2dd167ca1row0_col9 {\n",
       "            background-color:  #fff6e5;\n",
       "            color:  #000000;\n",
       "        }    #T_a1abb540_de39_11e9_ae69_28c2dd167ca1row0_col10 {\n",
       "            background-color:  #fff6e5;\n",
       "            color:  #000000;\n",
       "        }    #T_a1abb540_de39_11e9_ae69_28c2dd167ca1row0_col11 {\n",
       "            background-color:  #fff6e5;\n",
       "            color:  #000000;\n",
       "        }    #T_a1abb540_de39_11e9_ae69_28c2dd167ca1row1_col0 {\n",
       "            background-color:  #ffa500;\n",
       "            color:  #000000;\n",
       "        }    #T_a1abb540_de39_11e9_ae69_28c2dd167ca1row1_col1 {\n",
       "            background-color:  #ffa809;\n",
       "            color:  #000000;\n",
       "        }    #T_a1abb540_de39_11e9_ae69_28c2dd167ca1row1_col2 {\n",
       "            background-color:  #ffa500;\n",
       "            color:  #000000;\n",
       "        }    #T_a1abb540_de39_11e9_ae69_28c2dd167ca1row1_col3 {\n",
       "            background-color:  #ffa500;\n",
       "            color:  #000000;\n",
       "        }    #T_a1abb540_de39_11e9_ae69_28c2dd167ca1row1_col4 {\n",
       "            background-color:  #fff6e5;\n",
       "            color:  #000000;\n",
       "        }    #T_a1abb540_de39_11e9_ae69_28c2dd167ca1row1_col5 {\n",
       "            background-color:  #ffa500;\n",
       "            color:  #000000;\n",
       "        }    #T_a1abb540_de39_11e9_ae69_28c2dd167ca1row1_col6 {\n",
       "            background-color:  #fff6e5;\n",
       "            color:  #000000;\n",
       "        }    #T_a1abb540_de39_11e9_ae69_28c2dd167ca1row1_col7 {\n",
       "            background-color:  #fff4df;\n",
       "            color:  #000000;\n",
       "        }    #T_a1abb540_de39_11e9_ae69_28c2dd167ca1row1_col8 {\n",
       "            background-color:  #fff6e5;\n",
       "            color:  #000000;\n",
       "        }    #T_a1abb540_de39_11e9_ae69_28c2dd167ca1row1_col9 {\n",
       "            background-color:  #fff6e5;\n",
       "            color:  #000000;\n",
       "        }    #T_a1abb540_de39_11e9_ae69_28c2dd167ca1row1_col10 {\n",
       "            background-color:  #fff6e5;\n",
       "            color:  #000000;\n",
       "        }    #T_a1abb540_de39_11e9_ae69_28c2dd167ca1row1_col11 {\n",
       "            background-color:  #fff6e5;\n",
       "            color:  #000000;\n",
       "        }    #T_a1abb540_de39_11e9_ae69_28c2dd167ca1row2_col0 {\n",
       "            background-color:  #ffa500;\n",
       "            color:  #000000;\n",
       "        }    #T_a1abb540_de39_11e9_ae69_28c2dd167ca1row2_col1 {\n",
       "            background-color:  #ffefd3;\n",
       "            color:  #000000;\n",
       "        }    #T_a1abb540_de39_11e9_ae69_28c2dd167ca1row2_col2 {\n",
       "            background-color:  #fff6e5;\n",
       "            color:  #000000;\n",
       "        }    #T_a1abb540_de39_11e9_ae69_28c2dd167ca1row2_col3 {\n",
       "            background-color:  #fff6e5;\n",
       "            color:  #000000;\n",
       "        }    #T_a1abb540_de39_11e9_ae69_28c2dd167ca1row2_col4 {\n",
       "            background-color:  #fff6e5;\n",
       "            color:  #000000;\n",
       "        }    #T_a1abb540_de39_11e9_ae69_28c2dd167ca1row2_col5 {\n",
       "            background-color:  #fff6e5;\n",
       "            color:  #000000;\n",
       "        }    #T_a1abb540_de39_11e9_ae69_28c2dd167ca1row2_col6 {\n",
       "            background-color:  #fff6e5;\n",
       "            color:  #000000;\n",
       "        }    #T_a1abb540_de39_11e9_ae69_28c2dd167ca1row2_col7 {\n",
       "            background-color:  #ffe8bd;\n",
       "            color:  #000000;\n",
       "        }    #T_a1abb540_de39_11e9_ae69_28c2dd167ca1row2_col8 {\n",
       "            background-color:  #fff6e5;\n",
       "            color:  #000000;\n",
       "        }    #T_a1abb540_de39_11e9_ae69_28c2dd167ca1row2_col9 {\n",
       "            background-color:  #fff0d5;\n",
       "            color:  #000000;\n",
       "        }    #T_a1abb540_de39_11e9_ae69_28c2dd167ca1row2_col10 {\n",
       "            background-color:  #fff6e5;\n",
       "            color:  #000000;\n",
       "        }    #T_a1abb540_de39_11e9_ae69_28c2dd167ca1row2_col11 {\n",
       "            background-color:  #fff6e5;\n",
       "            color:  #000000;\n",
       "        }    #T_a1abb540_de39_11e9_ae69_28c2dd167ca1row3_col0 {\n",
       "            background-color:  #fff6e5;\n",
       "            color:  #000000;\n",
       "        }    #T_a1abb540_de39_11e9_ae69_28c2dd167ca1row3_col1 {\n",
       "            background-color:  #ffecc9;\n",
       "            color:  #000000;\n",
       "        }    #T_a1abb540_de39_11e9_ae69_28c2dd167ca1row3_col2 {\n",
       "            background-color:  #ffcd72;\n",
       "            color:  #000000;\n",
       "        }    #T_a1abb540_de39_11e9_ae69_28c2dd167ca1row3_col3 {\n",
       "            background-color:  #fff6e5;\n",
       "            color:  #000000;\n",
       "        }    #T_a1abb540_de39_11e9_ae69_28c2dd167ca1row3_col4 {\n",
       "            background-color:  #fff6e5;\n",
       "            color:  #000000;\n",
       "        }    #T_a1abb540_de39_11e9_ae69_28c2dd167ca1row3_col5 {\n",
       "            background-color:  #fff6e5;\n",
       "            color:  #000000;\n",
       "        }    #T_a1abb540_de39_11e9_ae69_28c2dd167ca1row3_col6 {\n",
       "            background-color:  #fff6e5;\n",
       "            color:  #000000;\n",
       "        }    #T_a1abb540_de39_11e9_ae69_28c2dd167ca1row3_col7 {\n",
       "            background-color:  #ffeac4;\n",
       "            color:  #000000;\n",
       "        }    #T_a1abb540_de39_11e9_ae69_28c2dd167ca1row3_col8 {\n",
       "            background-color:  #fff6e5;\n",
       "            color:  #000000;\n",
       "        }    #T_a1abb540_de39_11e9_ae69_28c2dd167ca1row3_col9 {\n",
       "            background-color:  #fff6e5;\n",
       "            color:  #000000;\n",
       "        }    #T_a1abb540_de39_11e9_ae69_28c2dd167ca1row3_col10 {\n",
       "            background-color:  #fff6e5;\n",
       "            color:  #000000;\n",
       "        }    #T_a1abb540_de39_11e9_ae69_28c2dd167ca1row3_col11 {\n",
       "            background-color:  #fff6e5;\n",
       "            color:  #000000;\n",
       "        }    #T_a1abb540_de39_11e9_ae69_28c2dd167ca1row4_col0 {\n",
       "            background-color:  #fff6e5;\n",
       "            color:  #000000;\n",
       "        }    #T_a1abb540_de39_11e9_ae69_28c2dd167ca1row4_col1 {\n",
       "            background-color:  #fff6e5;\n",
       "            color:  #000000;\n",
       "        }    #T_a1abb540_de39_11e9_ae69_28c2dd167ca1row4_col2 {\n",
       "            background-color:  #fff6e5;\n",
       "            color:  #000000;\n",
       "        }    #T_a1abb540_de39_11e9_ae69_28c2dd167ca1row4_col3 {\n",
       "            background-color:  #fff6e5;\n",
       "            color:  #000000;\n",
       "        }    #T_a1abb540_de39_11e9_ae69_28c2dd167ca1row4_col4 {\n",
       "            background-color:  #fff6e5;\n",
       "            color:  #000000;\n",
       "        }    #T_a1abb540_de39_11e9_ae69_28c2dd167ca1row4_col5 {\n",
       "            background-color:  #fff6e5;\n",
       "            color:  #000000;\n",
       "        }    #T_a1abb540_de39_11e9_ae69_28c2dd167ca1row4_col6 {\n",
       "            background-color:  #fff6e5;\n",
       "            color:  #000000;\n",
       "        }    #T_a1abb540_de39_11e9_ae69_28c2dd167ca1row4_col7 {\n",
       "            background-color:  #ffa500;\n",
       "            color:  #000000;\n",
       "        }    #T_a1abb540_de39_11e9_ae69_28c2dd167ca1row4_col8 {\n",
       "            background-color:  #ffa500;\n",
       "            color:  #000000;\n",
       "        }    #T_a1abb540_de39_11e9_ae69_28c2dd167ca1row4_col9 {\n",
       "            background-color:  #ffb631;\n",
       "            color:  #000000;\n",
       "        }    #T_a1abb540_de39_11e9_ae69_28c2dd167ca1row4_col10 {\n",
       "            background-color:  #ffcd72;\n",
       "            color:  #000000;\n",
       "        }    #T_a1abb540_de39_11e9_ae69_28c2dd167ca1row4_col11 {\n",
       "            background-color:  #fff6e5;\n",
       "            color:  #000000;\n",
       "        }    #T_a1abb540_de39_11e9_ae69_28c2dd167ca1row5_col0 {\n",
       "            background-color:  #fff6e5;\n",
       "            color:  #000000;\n",
       "        }    #T_a1abb540_de39_11e9_ae69_28c2dd167ca1row5_col1 {\n",
       "            background-color:  #fff6e5;\n",
       "            color:  #000000;\n",
       "        }    #T_a1abb540_de39_11e9_ae69_28c2dd167ca1row5_col2 {\n",
       "            background-color:  #fff6e5;\n",
       "            color:  #000000;\n",
       "        }    #T_a1abb540_de39_11e9_ae69_28c2dd167ca1row5_col3 {\n",
       "            background-color:  #fff6e5;\n",
       "            color:  #000000;\n",
       "        }    #T_a1abb540_de39_11e9_ae69_28c2dd167ca1row5_col4 {\n",
       "            background-color:  #fff6e5;\n",
       "            color:  #000000;\n",
       "        }    #T_a1abb540_de39_11e9_ae69_28c2dd167ca1row5_col5 {\n",
       "            background-color:  #fff6e5;\n",
       "            color:  #000000;\n",
       "        }    #T_a1abb540_de39_11e9_ae69_28c2dd167ca1row5_col6 {\n",
       "            background-color:  #ffa500;\n",
       "            color:  #000000;\n",
       "        }    #T_a1abb540_de39_11e9_ae69_28c2dd167ca1row5_col7 {\n",
       "            background-color:  #ffc965;\n",
       "            color:  #000000;\n",
       "        }    #T_a1abb540_de39_11e9_ae69_28c2dd167ca1row5_col8 {\n",
       "            background-color:  #ffd78d;\n",
       "            color:  #000000;\n",
       "        }    #T_a1abb540_de39_11e9_ae69_28c2dd167ca1row5_col9 {\n",
       "            background-color:  #ffebc5;\n",
       "            color:  #000000;\n",
       "        }    #T_a1abb540_de39_11e9_ae69_28c2dd167ca1row5_col10 {\n",
       "            background-color:  #fff6e5;\n",
       "            color:  #000000;\n",
       "        }    #T_a1abb540_de39_11e9_ae69_28c2dd167ca1row5_col11 {\n",
       "            background-color:  #fff6e5;\n",
       "            color:  #000000;\n",
       "        }    #T_a1abb540_de39_11e9_ae69_28c2dd167ca1row6_col0 {\n",
       "            background-color:  #fff6e5;\n",
       "            color:  #000000;\n",
       "        }    #T_a1abb540_de39_11e9_ae69_28c2dd167ca1row6_col1 {\n",
       "            background-color:  #fff6e5;\n",
       "            color:  #000000;\n",
       "        }    #T_a1abb540_de39_11e9_ae69_28c2dd167ca1row6_col2 {\n",
       "            background-color:  #fff6e5;\n",
       "            color:  #000000;\n",
       "        }    #T_a1abb540_de39_11e9_ae69_28c2dd167ca1row6_col3 {\n",
       "            background-color:  #fff6e5;\n",
       "            color:  #000000;\n",
       "        }    #T_a1abb540_de39_11e9_ae69_28c2dd167ca1row6_col4 {\n",
       "            background-color:  #fff6e5;\n",
       "            color:  #000000;\n",
       "        }    #T_a1abb540_de39_11e9_ae69_28c2dd167ca1row6_col5 {\n",
       "            background-color:  #fff6e5;\n",
       "            color:  #000000;\n",
       "        }    #T_a1abb540_de39_11e9_ae69_28c2dd167ca1row6_col6 {\n",
       "            background-color:  #fff6e5;\n",
       "            color:  #000000;\n",
       "        }    #T_a1abb540_de39_11e9_ae69_28c2dd167ca1row6_col7 {\n",
       "            background-color:  #ffaa0e;\n",
       "            color:  #000000;\n",
       "        }    #T_a1abb540_de39_11e9_ae69_28c2dd167ca1row6_col8 {\n",
       "            background-color:  #ffbe46;\n",
       "            color:  #000000;\n",
       "        }    #T_a1abb540_de39_11e9_ae69_28c2dd167ca1row6_col9 {\n",
       "            background-color:  #ffa500;\n",
       "            color:  #000000;\n",
       "        }    #T_a1abb540_de39_11e9_ae69_28c2dd167ca1row6_col10 {\n",
       "            background-color:  #ffa500;\n",
       "            color:  #000000;\n",
       "        }    #T_a1abb540_de39_11e9_ae69_28c2dd167ca1row6_col11 {\n",
       "            background-color:  #ffa500;\n",
       "            color:  #000000;\n",
       "        }    #T_a1abb540_de39_11e9_ae69_28c2dd167ca1row7_col0 {\n",
       "            background-color:  #fff6e5;\n",
       "            color:  #000000;\n",
       "        }    #T_a1abb540_de39_11e9_ae69_28c2dd167ca1row7_col1 {\n",
       "            background-color:  #fff6e5;\n",
       "            color:  #000000;\n",
       "        }    #T_a1abb540_de39_11e9_ae69_28c2dd167ca1row7_col2 {\n",
       "            background-color:  #fff6e5;\n",
       "            color:  #000000;\n",
       "        }    #T_a1abb540_de39_11e9_ae69_28c2dd167ca1row7_col3 {\n",
       "            background-color:  #fff6e5;\n",
       "            color:  #000000;\n",
       "        }    #T_a1abb540_de39_11e9_ae69_28c2dd167ca1row7_col4 {\n",
       "            background-color:  #fff6e5;\n",
       "            color:  #000000;\n",
       "        }    #T_a1abb540_de39_11e9_ae69_28c2dd167ca1row7_col5 {\n",
       "            background-color:  #fff6e5;\n",
       "            color:  #000000;\n",
       "        }    #T_a1abb540_de39_11e9_ae69_28c2dd167ca1row7_col6 {\n",
       "            background-color:  #fff6e5;\n",
       "            color:  #000000;\n",
       "        }    #T_a1abb540_de39_11e9_ae69_28c2dd167ca1row7_col7 {\n",
       "            background-color:  #ffe5b7;\n",
       "            color:  #000000;\n",
       "        }    #T_a1abb540_de39_11e9_ae69_28c2dd167ca1row7_col8 {\n",
       "            background-color:  #ffd17b;\n",
       "            color:  #000000;\n",
       "        }    #T_a1abb540_de39_11e9_ae69_28c2dd167ca1row7_col9 {\n",
       "            background-color:  #ffdfa4;\n",
       "            color:  #000000;\n",
       "        }    #T_a1abb540_de39_11e9_ae69_28c2dd167ca1row7_col10 {\n",
       "            background-color:  #ffcd72;\n",
       "            color:  #000000;\n",
       "        }    #T_a1abb540_de39_11e9_ae69_28c2dd167ca1row7_col11 {\n",
       "            background-color:  #fff6e5;\n",
       "            color:  #000000;\n",
       "        }</style><table id=\"T_a1abb540_de39_11e9_ae69_28c2dd167ca1\" ><thead>    <tr>        <th class=\"blank\" ></th>        <th class=\"index_name level0\" >meal</th>        <th class=\"col_heading level0 col0\" colspan=6>count_lunch_meals_served</th>        <th class=\"col_heading level0 col6\" colspan=6>count_dinner_meals_served</th>    </tr>    <tr>        <th class=\"blank\" ></th>        <th class=\"index_name level1\" >party_people_size</th>        <th class=\"col_heading level1 col0\" >1</th>        <th class=\"col_heading level1 col1\" >2</th>        <th class=\"col_heading level1 col2\" >3</th>        <th class=\"col_heading level1 col3\" >4</th>        <th class=\"col_heading level1 col4\" >5</th>        <th class=\"col_heading level1 col5\" >6</th>        <th class=\"col_heading level1 col6\" >1</th>        <th class=\"col_heading level1 col7\" >2</th>        <th class=\"col_heading level1 col8\" >3</th>        <th class=\"col_heading level1 col9\" >4</th>        <th class=\"col_heading level1 col10\" >5</th>        <th class=\"col_heading level1 col11\" >6</th>    </tr>    <tr>        <th class=\"index_name level0\" >day</th>        <th class=\"index_name level1\" >sex</th>        <th class=\"blank\" ></th>        <th class=\"blank\" ></th>        <th class=\"blank\" ></th>        <th class=\"blank\" ></th>        <th class=\"blank\" ></th>        <th class=\"blank\" ></th>        <th class=\"blank\" ></th>        <th class=\"blank\" ></th>        <th class=\"blank\" ></th>        <th class=\"blank\" ></th>        <th class=\"blank\" ></th>        <th class=\"blank\" ></th>    </tr></thead><tbody>\n",
       "                <tr>\n",
       "                        <th id=\"T_a1abb540_de39_11e9_ae69_28c2dd167ca1level0_row0\" class=\"row_heading level0 row0\" rowspan=2>Thur</th>\n",
       "                        <th id=\"T_a1abb540_de39_11e9_ae69_28c2dd167ca1level1_row0\" class=\"row_heading level1 row0\" >Male</th>\n",
       "                        <td id=\"T_a1abb540_de39_11e9_ae69_28c2dd167ca1row0_col0\" class=\"data row0 col0\" >0</td>\n",
       "                        <td id=\"T_a1abb540_de39_11e9_ae69_28c2dd167ca1row0_col1\" class=\"data row0 col1\" >24</td>\n",
       "                        <td id=\"T_a1abb540_de39_11e9_ae69_28c2dd167ca1row0_col2\" class=\"data row0 col2\" >2</td>\n",
       "                        <td id=\"T_a1abb540_de39_11e9_ae69_28c2dd167ca1row0_col3\" class=\"data row0 col3\" >2</td>\n",
       "                        <td id=\"T_a1abb540_de39_11e9_ae69_28c2dd167ca1row0_col4\" class=\"data row0 col4\" >1</td>\n",
       "                        <td id=\"T_a1abb540_de39_11e9_ae69_28c2dd167ca1row0_col5\" class=\"data row0 col5\" >1</td>\n",
       "                        <td id=\"T_a1abb540_de39_11e9_ae69_28c2dd167ca1row0_col6\" class=\"data row0 col6\" >0</td>\n",
       "                        <td id=\"T_a1abb540_de39_11e9_ae69_28c2dd167ca1row0_col7\" class=\"data row0 col7\" >0</td>\n",
       "                        <td id=\"T_a1abb540_de39_11e9_ae69_28c2dd167ca1row0_col8\" class=\"data row0 col8\" >0</td>\n",
       "                        <td id=\"T_a1abb540_de39_11e9_ae69_28c2dd167ca1row0_col9\" class=\"data row0 col9\" >0</td>\n",
       "                        <td id=\"T_a1abb540_de39_11e9_ae69_28c2dd167ca1row0_col10\" class=\"data row0 col10\" >0</td>\n",
       "                        <td id=\"T_a1abb540_de39_11e9_ae69_28c2dd167ca1row0_col11\" class=\"data row0 col11\" >0</td>\n",
       "            </tr>\n",
       "            <tr>\n",
       "                                <th id=\"T_a1abb540_de39_11e9_ae69_28c2dd167ca1level1_row1\" class=\"row_heading level1 row1\" >Female</th>\n",
       "                        <td id=\"T_a1abb540_de39_11e9_ae69_28c2dd167ca1row1_col0\" class=\"data row1 col0\" >1</td>\n",
       "                        <td id=\"T_a1abb540_de39_11e9_ae69_28c2dd167ca1row1_col1\" class=\"data row1 col1\" >23</td>\n",
       "                        <td id=\"T_a1abb540_de39_11e9_ae69_28c2dd167ca1row1_col2\" class=\"data row1 col2\" >2</td>\n",
       "                        <td id=\"T_a1abb540_de39_11e9_ae69_28c2dd167ca1row1_col3\" class=\"data row1 col3\" >3</td>\n",
       "                        <td id=\"T_a1abb540_de39_11e9_ae69_28c2dd167ca1row1_col4\" class=\"data row1 col4\" >0</td>\n",
       "                        <td id=\"T_a1abb540_de39_11e9_ae69_28c2dd167ca1row1_col5\" class=\"data row1 col5\" >2</td>\n",
       "                        <td id=\"T_a1abb540_de39_11e9_ae69_28c2dd167ca1row1_col6\" class=\"data row1 col6\" >0</td>\n",
       "                        <td id=\"T_a1abb540_de39_11e9_ae69_28c2dd167ca1row1_col7\" class=\"data row1 col7\" >1</td>\n",
       "                        <td id=\"T_a1abb540_de39_11e9_ae69_28c2dd167ca1row1_col8\" class=\"data row1 col8\" >0</td>\n",
       "                        <td id=\"T_a1abb540_de39_11e9_ae69_28c2dd167ca1row1_col9\" class=\"data row1 col9\" >0</td>\n",
       "                        <td id=\"T_a1abb540_de39_11e9_ae69_28c2dd167ca1row1_col10\" class=\"data row1 col10\" >0</td>\n",
       "                        <td id=\"T_a1abb540_de39_11e9_ae69_28c2dd167ca1row1_col11\" class=\"data row1 col11\" >0</td>\n",
       "            </tr>\n",
       "            <tr>\n",
       "                        <th id=\"T_a1abb540_de39_11e9_ae69_28c2dd167ca1level0_row2\" class=\"row_heading level0 row2\" rowspan=2>Fri</th>\n",
       "                        <th id=\"T_a1abb540_de39_11e9_ae69_28c2dd167ca1level1_row2\" class=\"row_heading level1 row2\" >Male</th>\n",
       "                        <td id=\"T_a1abb540_de39_11e9_ae69_28c2dd167ca1row2_col0\" class=\"data row2 col0\" >1</td>\n",
       "                        <td id=\"T_a1abb540_de39_11e9_ae69_28c2dd167ca1row2_col1\" class=\"data row2 col1\" >2</td>\n",
       "                        <td id=\"T_a1abb540_de39_11e9_ae69_28c2dd167ca1row2_col2\" class=\"data row2 col2\" >0</td>\n",
       "                        <td id=\"T_a1abb540_de39_11e9_ae69_28c2dd167ca1row2_col3\" class=\"data row2 col3\" >0</td>\n",
       "                        <td id=\"T_a1abb540_de39_11e9_ae69_28c2dd167ca1row2_col4\" class=\"data row2 col4\" >0</td>\n",
       "                        <td id=\"T_a1abb540_de39_11e9_ae69_28c2dd167ca1row2_col5\" class=\"data row2 col5\" >0</td>\n",
       "                        <td id=\"T_a1abb540_de39_11e9_ae69_28c2dd167ca1row2_col6\" class=\"data row2 col6\" >0</td>\n",
       "                        <td id=\"T_a1abb540_de39_11e9_ae69_28c2dd167ca1row2_col7\" class=\"data row2 col7\" >6</td>\n",
       "                        <td id=\"T_a1abb540_de39_11e9_ae69_28c2dd167ca1row2_col8\" class=\"data row2 col8\" >0</td>\n",
       "                        <td id=\"T_a1abb540_de39_11e9_ae69_28c2dd167ca1row2_col9\" class=\"data row2 col9\" >1</td>\n",
       "                        <td id=\"T_a1abb540_de39_11e9_ae69_28c2dd167ca1row2_col10\" class=\"data row2 col10\" >0</td>\n",
       "                        <td id=\"T_a1abb540_de39_11e9_ae69_28c2dd167ca1row2_col11\" class=\"data row2 col11\" >0</td>\n",
       "            </tr>\n",
       "            <tr>\n",
       "                                <th id=\"T_a1abb540_de39_11e9_ae69_28c2dd167ca1level1_row3\" class=\"row_heading level1 row3\" >Female</th>\n",
       "                        <td id=\"T_a1abb540_de39_11e9_ae69_28c2dd167ca1row3_col0\" class=\"data row3 col0\" >0</td>\n",
       "                        <td id=\"T_a1abb540_de39_11e9_ae69_28c2dd167ca1row3_col1\" class=\"data row3 col1\" >3</td>\n",
       "                        <td id=\"T_a1abb540_de39_11e9_ae69_28c2dd167ca1row3_col2\" class=\"data row3 col2\" >1</td>\n",
       "                        <td id=\"T_a1abb540_de39_11e9_ae69_28c2dd167ca1row3_col3\" class=\"data row3 col3\" >0</td>\n",
       "                        <td id=\"T_a1abb540_de39_11e9_ae69_28c2dd167ca1row3_col4\" class=\"data row3 col4\" >0</td>\n",
       "                        <td id=\"T_a1abb540_de39_11e9_ae69_28c2dd167ca1row3_col5\" class=\"data row3 col5\" >0</td>\n",
       "                        <td id=\"T_a1abb540_de39_11e9_ae69_28c2dd167ca1row3_col6\" class=\"data row3 col6\" >0</td>\n",
       "                        <td id=\"T_a1abb540_de39_11e9_ae69_28c2dd167ca1row3_col7\" class=\"data row3 col7\" >5</td>\n",
       "                        <td id=\"T_a1abb540_de39_11e9_ae69_28c2dd167ca1row3_col8\" class=\"data row3 col8\" >0</td>\n",
       "                        <td id=\"T_a1abb540_de39_11e9_ae69_28c2dd167ca1row3_col9\" class=\"data row3 col9\" >0</td>\n",
       "                        <td id=\"T_a1abb540_de39_11e9_ae69_28c2dd167ca1row3_col10\" class=\"data row3 col10\" >0</td>\n",
       "                        <td id=\"T_a1abb540_de39_11e9_ae69_28c2dd167ca1row3_col11\" class=\"data row3 col11\" >0</td>\n",
       "            </tr>\n",
       "            <tr>\n",
       "                        <th id=\"T_a1abb540_de39_11e9_ae69_28c2dd167ca1level0_row4\" class=\"row_heading level0 row4\" rowspan=2>Sat</th>\n",
       "                        <th id=\"T_a1abb540_de39_11e9_ae69_28c2dd167ca1level1_row4\" class=\"row_heading level1 row4\" >Male</th>\n",
       "                        <td id=\"T_a1abb540_de39_11e9_ae69_28c2dd167ca1row4_col0\" class=\"data row4 col0\" >0</td>\n",
       "                        <td id=\"T_a1abb540_de39_11e9_ae69_28c2dd167ca1row4_col1\" class=\"data row4 col1\" >0</td>\n",
       "                        <td id=\"T_a1abb540_de39_11e9_ae69_28c2dd167ca1row4_col2\" class=\"data row4 col2\" >0</td>\n",
       "                        <td id=\"T_a1abb540_de39_11e9_ae69_28c2dd167ca1row4_col3\" class=\"data row4 col3\" >0</td>\n",
       "                        <td id=\"T_a1abb540_de39_11e9_ae69_28c2dd167ca1row4_col4\" class=\"data row4 col4\" >0</td>\n",
       "                        <td id=\"T_a1abb540_de39_11e9_ae69_28c2dd167ca1row4_col5\" class=\"data row4 col5\" >0</td>\n",
       "                        <td id=\"T_a1abb540_de39_11e9_ae69_28c2dd167ca1row4_col6\" class=\"data row4 col6\" >0</td>\n",
       "                        <td id=\"T_a1abb540_de39_11e9_ae69_28c2dd167ca1row4_col7\" class=\"data row4 col7\" >34</td>\n",
       "                        <td id=\"T_a1abb540_de39_11e9_ae69_28c2dd167ca1row4_col8\" class=\"data row4 col8\" >13</td>\n",
       "                        <td id=\"T_a1abb540_de39_11e9_ae69_28c2dd167ca1row4_col9\" class=\"data row4 col9\" >11</td>\n",
       "                        <td id=\"T_a1abb540_de39_11e9_ae69_28c2dd167ca1row4_col10\" class=\"data row4 col10\" >1</td>\n",
       "                        <td id=\"T_a1abb540_de39_11e9_ae69_28c2dd167ca1row4_col11\" class=\"data row4 col11\" >0</td>\n",
       "            </tr>\n",
       "            <tr>\n",
       "                                <th id=\"T_a1abb540_de39_11e9_ae69_28c2dd167ca1level1_row5\" class=\"row_heading level1 row5\" >Female</th>\n",
       "                        <td id=\"T_a1abb540_de39_11e9_ae69_28c2dd167ca1row5_col0\" class=\"data row5 col0\" >0</td>\n",
       "                        <td id=\"T_a1abb540_de39_11e9_ae69_28c2dd167ca1row5_col1\" class=\"data row5 col1\" >0</td>\n",
       "                        <td id=\"T_a1abb540_de39_11e9_ae69_28c2dd167ca1row5_col2\" class=\"data row5 col2\" >0</td>\n",
       "                        <td id=\"T_a1abb540_de39_11e9_ae69_28c2dd167ca1row5_col3\" class=\"data row5 col3\" >0</td>\n",
       "                        <td id=\"T_a1abb540_de39_11e9_ae69_28c2dd167ca1row5_col4\" class=\"data row5 col4\" >0</td>\n",
       "                        <td id=\"T_a1abb540_de39_11e9_ae69_28c2dd167ca1row5_col5\" class=\"data row5 col5\" >0</td>\n",
       "                        <td id=\"T_a1abb540_de39_11e9_ae69_28c2dd167ca1row5_col6\" class=\"data row5 col6\" >2</td>\n",
       "                        <td id=\"T_a1abb540_de39_11e9_ae69_28c2dd167ca1row5_col7\" class=\"data row5 col7\" >19</td>\n",
       "                        <td id=\"T_a1abb540_de39_11e9_ae69_28c2dd167ca1row5_col8\" class=\"data row5 col8\" >5</td>\n",
       "                        <td id=\"T_a1abb540_de39_11e9_ae69_28c2dd167ca1row5_col9\" class=\"data row5 col9\" >2</td>\n",
       "                        <td id=\"T_a1abb540_de39_11e9_ae69_28c2dd167ca1row5_col10\" class=\"data row5 col10\" >0</td>\n",
       "                        <td id=\"T_a1abb540_de39_11e9_ae69_28c2dd167ca1row5_col11\" class=\"data row5 col11\" >0</td>\n",
       "            </tr>\n",
       "            <tr>\n",
       "                        <th id=\"T_a1abb540_de39_11e9_ae69_28c2dd167ca1level0_row6\" class=\"row_heading level0 row6\" rowspan=2>Sun</th>\n",
       "                        <th id=\"T_a1abb540_de39_11e9_ae69_28c2dd167ca1level1_row6\" class=\"row_heading level1 row6\" >Male</th>\n",
       "                        <td id=\"T_a1abb540_de39_11e9_ae69_28c2dd167ca1row6_col0\" class=\"data row6 col0\" >0</td>\n",
       "                        <td id=\"T_a1abb540_de39_11e9_ae69_28c2dd167ca1row6_col1\" class=\"data row6 col1\" >0</td>\n",
       "                        <td id=\"T_a1abb540_de39_11e9_ae69_28c2dd167ca1row6_col2\" class=\"data row6 col2\" >0</td>\n",
       "                        <td id=\"T_a1abb540_de39_11e9_ae69_28c2dd167ca1row6_col3\" class=\"data row6 col3\" >0</td>\n",
       "                        <td id=\"T_a1abb540_de39_11e9_ae69_28c2dd167ca1row6_col4\" class=\"data row6 col4\" >0</td>\n",
       "                        <td id=\"T_a1abb540_de39_11e9_ae69_28c2dd167ca1row6_col5\" class=\"data row6 col5\" >0</td>\n",
       "                        <td id=\"T_a1abb540_de39_11e9_ae69_28c2dd167ca1row6_col6\" class=\"data row6 col6\" >0</td>\n",
       "                        <td id=\"T_a1abb540_de39_11e9_ae69_28c2dd167ca1row6_col7\" class=\"data row6 col7\" >32</td>\n",
       "                        <td id=\"T_a1abb540_de39_11e9_ae69_28c2dd167ca1row6_col8\" class=\"data row6 col8\" >9</td>\n",
       "                        <td id=\"T_a1abb540_de39_11e9_ae69_28c2dd167ca1row6_col9\" class=\"data row6 col9\" >14</td>\n",
       "                        <td id=\"T_a1abb540_de39_11e9_ae69_28c2dd167ca1row6_col10\" class=\"data row6 col10\" >2</td>\n",
       "                        <td id=\"T_a1abb540_de39_11e9_ae69_28c2dd167ca1row6_col11\" class=\"data row6 col11\" >1</td>\n",
       "            </tr>\n",
       "            <tr>\n",
       "                                <th id=\"T_a1abb540_de39_11e9_ae69_28c2dd167ca1level1_row7\" class=\"row_heading level1 row7\" >Female</th>\n",
       "                        <td id=\"T_a1abb540_de39_11e9_ae69_28c2dd167ca1row7_col0\" class=\"data row7 col0\" >0</td>\n",
       "                        <td id=\"T_a1abb540_de39_11e9_ae69_28c2dd167ca1row7_col1\" class=\"data row7 col1\" >0</td>\n",
       "                        <td id=\"T_a1abb540_de39_11e9_ae69_28c2dd167ca1row7_col2\" class=\"data row7 col2\" >0</td>\n",
       "                        <td id=\"T_a1abb540_de39_11e9_ae69_28c2dd167ca1row7_col3\" class=\"data row7 col3\" >0</td>\n",
       "                        <td id=\"T_a1abb540_de39_11e9_ae69_28c2dd167ca1row7_col4\" class=\"data row7 col4\" >0</td>\n",
       "                        <td id=\"T_a1abb540_de39_11e9_ae69_28c2dd167ca1row7_col5\" class=\"data row7 col5\" >0</td>\n",
       "                        <td id=\"T_a1abb540_de39_11e9_ae69_28c2dd167ca1row7_col6\" class=\"data row7 col6\" >0</td>\n",
       "                        <td id=\"T_a1abb540_de39_11e9_ae69_28c2dd167ca1row7_col7\" class=\"data row7 col7\" >7</td>\n",
       "                        <td id=\"T_a1abb540_de39_11e9_ae69_28c2dd167ca1row7_col8\" class=\"data row7 col8\" >6</td>\n",
       "                        <td id=\"T_a1abb540_de39_11e9_ae69_28c2dd167ca1row7_col9\" class=\"data row7 col9\" >4</td>\n",
       "                        <td id=\"T_a1abb540_de39_11e9_ae69_28c2dd167ca1row7_col10\" class=\"data row7 col10\" >1</td>\n",
       "                        <td id=\"T_a1abb540_de39_11e9_ae69_28c2dd167ca1row7_col11\" class=\"data row7 col11\" >0</td>\n",
       "            </tr>\n",
       "    </tbody></table>"
      ],
      "text/plain": [
       "<pandas.io.formats.style.Styler at 0x7f06b8133a58>"
      ]
     },
     "execution_count": 31,
     "metadata": {
      "tags": []
     },
     "output_type": "execute_result"
    }
   ],
   "source": [
    "orange = sns.light_palette(\"orange\", as_cmap=True)\n",
    "pd.crosstab(index=[df_tips['day'], df_tips['sex']], columns=[df_tips['time'], df_tips['size']], \n",
    "            colnames=['meal', 'party_people_size']).rename(columns={\"Lunch\": \"count_lunch_meals_served\",\n",
    "            \"Dinner\": \"count_dinner_meals_served\"}).style.background_gradient(cmap=orange)"
   ]
  },
  {
   "cell_type": "markdown",
   "metadata": {
    "Collapsed": "true",
    "colab_type": "text",
    "heading_collapsed": true,
    "id": "--yGAQnziVX2"
   },
   "source": [
    "# GroupBy"
   ]
  },
  {
   "cell_type": "markdown",
   "metadata": {
    "Collapsed": "false",
    "colab_type": "text",
    "hidden": true,
    "id": "zWkBzYzciVX2"
   },
   "source": [
    "A [group by](https://pandas.pydata.org/pandas-docs/stable/reference/api/pandas.DataFrame.groupby.html) is a process that tyipcally involves splitting the data into groups based on some criteria, applying a function to each group independently, and then combining the outputted results."
   ]
  },
  {
   "cell_type": "markdown",
   "metadata": {
    "Collapsed": "true",
    "colab_type": "text",
    "heading_collapsed": true,
    "hidden": true,
    "id": "cWTn5NBsiVX2"
   },
   "source": [
    "### Implement Group bys with Tips Dataset"
   ]
  },
  {
   "cell_type": "markdown",
   "metadata": {
    "Collapsed": "true",
    "colab_type": "text",
    "heading_collapsed": true,
    "hidden": true,
    "id": "rDQktV3miVX3"
   },
   "source": [
    "#### Group by of a Single Column and Apply a Single Aggregate Method on a Column"
   ]
  },
  {
   "cell_type": "markdown",
   "metadata": {
    "Collapsed": "false",
    "colab_type": "text",
    "hidden": true,
    "id": "RtUWshuZiVX4"
   },
   "source": [
    "The simplest example of a `groupby()` operation is to compute the size of groups in a single column. By size, the calculation is a count of unique occurences of values in a single column. Here is the <a href='https://pandas.pydata.org/pandas-docs/stable/generated/pandas.core.groupby.GroupBy.size.html'>official documentation</a> for this operation. \n",
    "\n",
    "This is the same operation as utilizing the `value_counts()` method in pandas.\n",
    "\n",
    "Below, for the `df_tips` DataFrame, I call the `groupby()` method, pass in the `sex` column, and then chain the `size()` method."
   ]
  },
  {
   "cell_type": "code",
   "execution_count": null,
   "metadata": {
    "Collapsed": "false",
    "ExecuteTime": {
     "end_time": "2019-09-23T19:37:51.859418Z",
     "start_time": "2019-09-23T19:37:51.852920Z"
    },
    "colab": {},
    "colab_type": "code",
    "hidden": true,
    "id": "IruVrvTDiVX4",
    "outputId": "869e1a77-8ed6-45ac-b90b-57c759658c56"
   },
   "outputs": [
    {
     "data": {
      "text/plain": [
       "sex\n",
       "Male      157\n",
       "Female     87\n",
       "dtype: int64"
      ]
     },
     "execution_count": 32,
     "metadata": {
      "tags": []
     },
     "output_type": "execute_result"
    }
   ],
   "source": [
    "df_tips.groupby(by='sex').size()"
   ]
  },
  {
   "cell_type": "markdown",
   "metadata": {
    "Collapsed": "false",
    "colab_type": "text",
    "hidden": true,
    "id": "vFaQjWdhiVX6"
   },
   "source": [
    "To interpret the output above, 157 meals were served by males and 87 meals were served by females.\n",
    "\n",
    "A note, if there are any `NaN` or `NaT` values in the grouped column that would appear in the index, those are automatically excluded in your output (<a href='https://pandas.pydata.org/pandas-docs/version/0.22/groupby.html#na-and-nat-group-handling'>reference here</a>). \n",
    "\n",
    "In pandas, we can also group by one columm and then perform an aggregate method on a different column.\n",
    "\n",
    "For example, in our dataset, I want to group by the `sex` column and then across the `total_bill` column, find the mean bill size. To do this in pandas, given our `df_tips` DataFrame, apply the `groupby()` method and pass in the `sex` column (that'll be our index), and then reference our `['total_bill']` column (that'll be our returned column) and chain the `mean()` method.\n",
    "\n",
    "Meals served by males had a mean bill size of 20.74 while meals served by females had a mean bill size of 18.06."
   ]
  },
  {
   "cell_type": "code",
   "execution_count": null,
   "metadata": {
    "Collapsed": "false",
    "ExecuteTime": {
     "end_time": "2019-09-23T19:37:51.961594Z",
     "start_time": "2019-09-23T19:37:51.862239Z"
    },
    "colab": {},
    "colab_type": "code",
    "hidden": true,
    "id": "kraNn2vJiVX7",
    "outputId": "45f2e89d-0d52-4662-bea1-368df0164b7f"
   },
   "outputs": [
    {
     "data": {
      "text/plain": [
       "sex\n",
       "Male      20.744076\n",
       "Female    18.056897\n",
       "Name: total_bill, dtype: float64"
      ]
     },
     "execution_count": 33,
     "metadata": {
      "tags": []
     },
     "output_type": "execute_result"
    }
   ],
   "source": [
    "df_tips.groupby(by='sex')['total_bill'].mean()"
   ]
  },
  {
   "cell_type": "markdown",
   "metadata": {
    "Collapsed": "false",
    "colab_type": "text",
    "hidden": true,
    "id": "lzUYl0LoiVX9"
   },
   "source": [
    "We can verify the output above with a query. We get the same result that meals served by males had a mean bill size of 20.74"
   ]
  },
  {
   "cell_type": "code",
   "execution_count": null,
   "metadata": {
    "Collapsed": "false",
    "ExecuteTime": {
     "end_time": "2019-09-23T19:37:52.081074Z",
     "start_time": "2019-09-23T19:37:51.963712Z"
    },
    "colab": {},
    "colab_type": "code",
    "hidden": true,
    "id": "S4mELe19iVX9",
    "outputId": "b6586fc4-6ede-4c65-a363-f787a98183e9"
   },
   "outputs": [
    {
     "data": {
      "text/plain": [
       "20.744076433121016"
      ]
     },
     "execution_count": 34,
     "metadata": {
      "tags": []
     },
     "output_type": "execute_result"
    }
   ],
   "source": [
    "df_tips.query(\"sex=='Male'\")['total_bill'].mean()"
   ]
  },
  {
   "cell_type": "markdown",
   "metadata": {
    "Collapsed": "false",
    "colab_type": "text",
    "hidden": true,
    "id": "xpttFwYeiVX-"
   },
   "source": [
    "Another interesting tidbit with the `groupby()` method is the ability to group by a single column, and call an aggregate method that will apply to all other numeric columns in the DataFrame.\n",
    "\n",
    "For example, if I group by the `sex` column and call the `mean()` method, the mean is calculated for the three other numeric columns in `df_tips` which are `total_bill`, `tip`, and `size`."
   ]
  },
  {
   "cell_type": "code",
   "execution_count": null,
   "metadata": {
    "Collapsed": "false",
    "ExecuteTime": {
     "end_time": "2019-09-23T19:37:52.198921Z",
     "start_time": "2019-09-23T19:37:52.083080Z"
    },
    "colab": {},
    "colab_type": "code",
    "hidden": true,
    "id": "lJ2ZjU8_iVX_",
    "outputId": "18bae284-315f-4692-ffa1-6a50739a784e"
   },
   "outputs": [
    {
     "data": {
      "text/html": [
       "<div>\n",
       "<style scoped>\n",
       "    .dataframe tbody tr th:only-of-type {\n",
       "        vertical-align: middle;\n",
       "    }\n",
       "\n",
       "    .dataframe tbody tr th {\n",
       "        vertical-align: top;\n",
       "    }\n",
       "\n",
       "    .dataframe thead th {\n",
       "        text-align: right;\n",
       "    }\n",
       "</style>\n",
       "<table border=\"1\" class=\"dataframe\">\n",
       "  <thead>\n",
       "    <tr style=\"text-align: right;\">\n",
       "      <th></th>\n",
       "      <th>total_bill</th>\n",
       "      <th>tip</th>\n",
       "      <th>size</th>\n",
       "    </tr>\n",
       "    <tr>\n",
       "      <th>sex</th>\n",
       "      <th></th>\n",
       "      <th></th>\n",
       "      <th></th>\n",
       "    </tr>\n",
       "  </thead>\n",
       "  <tbody>\n",
       "    <tr>\n",
       "      <td>Male</td>\n",
       "      <td>20.744076</td>\n",
       "      <td>3.089618</td>\n",
       "      <td>2.630573</td>\n",
       "    </tr>\n",
       "    <tr>\n",
       "      <td>Female</td>\n",
       "      <td>18.056897</td>\n",
       "      <td>2.833448</td>\n",
       "      <td>2.459770</td>\n",
       "    </tr>\n",
       "  </tbody>\n",
       "</table>\n",
       "</div>"
      ],
      "text/plain": [
       "        total_bill       tip      size\n",
       "sex                                   \n",
       "Male     20.744076  3.089618  2.630573\n",
       "Female   18.056897  2.833448  2.459770"
      ]
     },
     "execution_count": 35,
     "metadata": {
      "tags": []
     },
     "output_type": "execute_result"
    }
   ],
   "source": [
    "df_tips.groupby(by='sex').mean()"
   ]
  },
  {
   "cell_type": "markdown",
   "metadata": {
    "Collapsed": "true",
    "colab_type": "text",
    "heading_collapsed": true,
    "hidden": true,
    "id": "XIXufJ2miVYA"
   },
   "source": [
    "#### Aggregate Methods"
   ]
  },
  {
   "cell_type": "markdown",
   "metadata": {
    "Collapsed": "false",
    "colab_type": "text",
    "hidden": true,
    "id": "BGV9y-CbiVYB"
   },
   "source": [
    "Other aggregate methods you could perform with a `groupby()` method in pandas are:\n",
    "\n",
    "method | description \n",
    "--- | ---\n",
    "`sum()` | summation \n",
    "`mean()` | average\n",
    "`count()` | count of all values\n",
    "`size()` | count of non-null values\n",
    "`max()` | maximum value\n",
    "`min()` | minimum value\n",
    "`std()` | standard deviation\n",
    "`median()` | median"
   ]
  },
  {
   "cell_type": "markdown",
   "metadata": {
    "Collapsed": "false",
    "colab_type": "text",
    "hidden": true,
    "id": "rSv88kD4iVYB"
   },
   "source": [
    "To illustrate the difference between the `size()` and `count()` methods, I included this simple example below.\n",
    "\n",
    "The DataFrame below of `df_rides` includes Dan and Jamie's ride data."
   ]
  },
  {
   "cell_type": "code",
   "execution_count": null,
   "metadata": {
    "Collapsed": "false",
    "ExecuteTime": {
     "end_time": "2019-09-23T19:37:52.386920Z",
     "start_time": "2019-09-23T19:37:52.201540Z"
    },
    "colab": {},
    "colab_type": "code",
    "hidden": true,
    "id": "BTc2aH0aiVYC",
    "outputId": "013fe888-5915-4acd-bdb9-0513ce084b37"
   },
   "outputs": [
    {
     "data": {
      "text/html": [
       "<div>\n",
       "<style scoped>\n",
       "    .dataframe tbody tr th:only-of-type {\n",
       "        vertical-align: middle;\n",
       "    }\n",
       "\n",
       "    .dataframe tbody tr th {\n",
       "        vertical-align: top;\n",
       "    }\n",
       "\n",
       "    .dataframe thead th {\n",
       "        text-align: right;\n",
       "    }\n",
       "</style>\n",
       "<table border=\"1\" class=\"dataframe\">\n",
       "  <thead>\n",
       "    <tr style=\"text-align: right;\">\n",
       "      <th></th>\n",
       "      <th>person</th>\n",
       "      <th>ride_duration_minutes</th>\n",
       "    </tr>\n",
       "  </thead>\n",
       "  <tbody>\n",
       "    <tr>\n",
       "      <td>0</td>\n",
       "      <td>Dan</td>\n",
       "      <td>4.0</td>\n",
       "    </tr>\n",
       "    <tr>\n",
       "      <td>1</td>\n",
       "      <td>Dan</td>\n",
       "      <td>NaN</td>\n",
       "    </tr>\n",
       "    <tr>\n",
       "      <td>2</td>\n",
       "      <td>Jamie</td>\n",
       "      <td>8.0</td>\n",
       "    </tr>\n",
       "    <tr>\n",
       "      <td>3</td>\n",
       "      <td>Jamie</td>\n",
       "      <td>10.0</td>\n",
       "    </tr>\n",
       "  </tbody>\n",
       "</table>\n",
       "</div>"
      ],
      "text/plain": [
       "  person  ride_duration_minutes\n",
       "0    Dan                    4.0\n",
       "1    Dan                    NaN\n",
       "2  Jamie                    8.0\n",
       "3  Jamie                   10.0"
      ]
     },
     "execution_count": 36,
     "metadata": {
      "tags": []
     },
     "output_type": "execute_result"
    }
   ],
   "source": [
    "data = {'person': ['Dan', 'Dan', 'Jamie', 'Jamie'], \n",
    "        'ride_duration_minutes': [4, np.NaN, 8, 10]}\n",
    "df_rides = pd.DataFrame(data)\n",
    "df_rides"
   ]
  },
  {
   "cell_type": "markdown",
   "metadata": {
    "Collapsed": "false",
    "colab_type": "text",
    "hidden": true,
    "id": "bAw-vLyfiVYE"
   },
   "source": [
    "For one of Dan's rides, the `ride_duration_minutes` value is null. However, if we apply the `size` method, we'll still see a count of `2` rides for Dan. We are 100% sure he took 2 rides but there's only a small issue in our dataset in which the the exact duration of one ride wasn't recorded."
   ]
  },
  {
   "cell_type": "code",
   "execution_count": null,
   "metadata": {
    "Collapsed": "false",
    "ExecuteTime": {
     "end_time": "2019-09-23T19:37:52.494683Z",
     "start_time": "2019-09-23T19:37:52.389727Z"
    },
    "colab": {},
    "colab_type": "code",
    "hidden": true,
    "id": "ZYUQ25nhiVYF",
    "outputId": "ff00bfa5-b397-48b9-ce5d-c62229d70ef0"
   },
   "outputs": [
    {
     "data": {
      "text/plain": [
       "person\n",
       "Dan      2\n",
       "Jamie    2\n",
       "Name: ride_duration_minutes, dtype: int64"
      ]
     },
     "execution_count": 37,
     "metadata": {
      "tags": []
     },
     "output_type": "execute_result"
    }
   ],
   "source": [
    "df_rides.groupby(by='person')['ride_duration_minutes'].size()"
   ]
  },
  {
   "cell_type": "markdown",
   "metadata": {
    "Collapsed": "false",
    "colab_type": "text",
    "hidden": true,
    "id": "5nnopEp3iVYG"
   },
   "source": [
    "Upon applying the `count()` method, we only see a count of `1` for Dan because that's the number of non-null values in the `ride_duration_minutes` field that belongs to him."
   ]
  },
  {
   "cell_type": "code",
   "execution_count": null,
   "metadata": {
    "Collapsed": "false",
    "ExecuteTime": {
     "end_time": "2019-09-23T19:37:52.602675Z",
     "start_time": "2019-09-23T19:37:52.497553Z"
    },
    "colab": {},
    "colab_type": "code",
    "hidden": true,
    "id": "6a_2m8X5iVYH",
    "outputId": "d55a5d72-6f7a-4d14-9789-184d7bc0d0a3"
   },
   "outputs": [
    {
     "data": {
      "text/plain": [
       "person\n",
       "Dan      1\n",
       "Jamie    2\n",
       "Name: ride_duration_minutes, dtype: int64"
      ]
     },
     "execution_count": 38,
     "metadata": {
      "tags": []
     },
     "output_type": "execute_result"
    }
   ],
   "source": [
    "df_rides.groupby(by='person')['ride_duration_minutes'].count()"
   ]
  },
  {
   "cell_type": "markdown",
   "metadata": {
    "Collapsed": "true",
    "colab_type": "text",
    "heading_collapsed": true,
    "hidden": true,
    "id": "4SQyEJ2YiVYI"
   },
   "source": [
    "#### Group by of a Single Column and Apply the `describe()` Method on a Single Column"
   ]
  },
  {
   "cell_type": "markdown",
   "metadata": {
    "Collapsed": "false",
    "colab_type": "text",
    "hidden": true,
    "id": "Yh0jmh_ziVYI"
   },
   "source": [
    "With grouping of a single column, you can also apply the `describe()` method to a numerical column. Below, I group by the `sex` column, reference the `total_bill` column and apply the `describe()` method on its values. The `describe` method outputs many descriptive statistics. Learn more about the `describe()` method on the official <a href='https://pandas.pydata.org/pandas-docs/stable/generated/pandas.DataFrame.describe.html'>documentation page</a>."
   ]
  },
  {
   "cell_type": "code",
   "execution_count": null,
   "metadata": {
    "Collapsed": "false",
    "ExecuteTime": {
     "end_time": "2019-09-23T19:37:52.760969Z",
     "start_time": "2019-09-23T19:37:52.605335Z"
    },
    "colab": {},
    "colab_type": "code",
    "hidden": true,
    "id": "LBVFdWEhiVYI",
    "outputId": "74ee87de-60d2-4ff9-ad5b-bd024ff70561"
   },
   "outputs": [
    {
     "data": {
      "text/html": [
       "<div>\n",
       "<style scoped>\n",
       "    .dataframe tbody tr th:only-of-type {\n",
       "        vertical-align: middle;\n",
       "    }\n",
       "\n",
       "    .dataframe tbody tr th {\n",
       "        vertical-align: top;\n",
       "    }\n",
       "\n",
       "    .dataframe thead th {\n",
       "        text-align: right;\n",
       "    }\n",
       "</style>\n",
       "<table border=\"1\" class=\"dataframe\">\n",
       "  <thead>\n",
       "    <tr style=\"text-align: right;\">\n",
       "      <th></th>\n",
       "      <th>count</th>\n",
       "      <th>mean</th>\n",
       "      <th>std</th>\n",
       "      <th>min</th>\n",
       "      <th>25%</th>\n",
       "      <th>50%</th>\n",
       "      <th>75%</th>\n",
       "      <th>max</th>\n",
       "    </tr>\n",
       "    <tr>\n",
       "      <th>sex</th>\n",
       "      <th></th>\n",
       "      <th></th>\n",
       "      <th></th>\n",
       "      <th></th>\n",
       "      <th></th>\n",
       "      <th></th>\n",
       "      <th></th>\n",
       "      <th></th>\n",
       "    </tr>\n",
       "  </thead>\n",
       "  <tbody>\n",
       "    <tr>\n",
       "      <td>Male</td>\n",
       "      <td>157.0</td>\n",
       "      <td>20.744076</td>\n",
       "      <td>9.246469</td>\n",
       "      <td>7.25</td>\n",
       "      <td>14.00</td>\n",
       "      <td>18.35</td>\n",
       "      <td>24.71</td>\n",
       "      <td>50.81</td>\n",
       "    </tr>\n",
       "    <tr>\n",
       "      <td>Female</td>\n",
       "      <td>87.0</td>\n",
       "      <td>18.056897</td>\n",
       "      <td>8.009209</td>\n",
       "      <td>3.07</td>\n",
       "      <td>12.75</td>\n",
       "      <td>16.40</td>\n",
       "      <td>21.52</td>\n",
       "      <td>44.30</td>\n",
       "    </tr>\n",
       "  </tbody>\n",
       "</table>\n",
       "</div>"
      ],
      "text/plain": [
       "        count       mean       std   min    25%    50%    75%    max\n",
       "sex                                                                 \n",
       "Male    157.0  20.744076  9.246469  7.25  14.00  18.35  24.71  50.81\n",
       "Female   87.0  18.056897  8.009209  3.07  12.75  16.40  21.52  44.30"
      ]
     },
     "execution_count": 39,
     "metadata": {
      "tags": []
     },
     "output_type": "execute_result"
    }
   ],
   "source": [
    "df_tips.groupby(by='sex')['total_bill'].describe()"
   ]
  },
  {
   "cell_type": "markdown",
   "metadata": {
    "Collapsed": "true",
    "colab_type": "text",
    "heading_collapsed": true,
    "hidden": true,
    "id": "caEhfY4hiVYK"
   },
   "source": [
    "#### Group by of a Single Column and Apply a Lambda Expression on a Single Column"
   ]
  },
  {
   "cell_type": "markdown",
   "metadata": {
    "Collapsed": "false",
    "colab_type": "text",
    "hidden": true,
    "id": "nUWijMvtiVYL"
   },
   "source": [
    "Most examples in this tutorial involve using simple aggregate methods like calculating the mean, sum or a count. However, with group bys, we have flexibility to apply custom lambda functions. \n",
    "\n",
    "You can learn more about lambda expressions from the <a href='https://docs.python.org/3/tutorial/controlflow.html#lambda-expressions'>Python 3 documentation</a> and about using instance methods in group bys from the <a href='https://pandas.pydata.org/pandas-docs/version/0.22/groupby.html#dispatching-to-instance-methods'>official pandas documentation</a>.\n",
    "\n",
    "Below, I group by the `sex` column and apply a lambda expression to the `total_bill` column. The expression is to find the range of `total_bill` values. The range is the maximum value subtracted by the minimum value. I also rename the single column returned on output so it's understandable."
   ]
  },
  {
   "cell_type": "code",
   "execution_count": null,
   "metadata": {
    "Collapsed": "false",
    "ExecuteTime": {
     "end_time": "2019-09-23T19:37:52.877289Z",
     "start_time": "2019-09-23T19:37:52.763478Z"
    },
    "colab": {},
    "colab_type": "code",
    "hidden": true,
    "id": "Mll-DGugiVYL",
    "outputId": "82275dd7-7137-4a4a-e0c9-16d8d1b3c871"
   },
   "outputs": [
    {
     "data": {
      "text/html": [
       "<div>\n",
       "<style scoped>\n",
       "    .dataframe tbody tr th:only-of-type {\n",
       "        vertical-align: middle;\n",
       "    }\n",
       "\n",
       "    .dataframe tbody tr th {\n",
       "        vertical-align: top;\n",
       "    }\n",
       "\n",
       "    .dataframe thead th {\n",
       "        text-align: right;\n",
       "    }\n",
       "</style>\n",
       "<table border=\"1\" class=\"dataframe\">\n",
       "  <thead>\n",
       "    <tr style=\"text-align: right;\">\n",
       "      <th></th>\n",
       "      <th>range_total_bill</th>\n",
       "    </tr>\n",
       "    <tr>\n",
       "      <th>sex</th>\n",
       "      <th></th>\n",
       "    </tr>\n",
       "  </thead>\n",
       "  <tbody>\n",
       "    <tr>\n",
       "      <td>Male</td>\n",
       "      <td>43.56</td>\n",
       "    </tr>\n",
       "    <tr>\n",
       "      <td>Female</td>\n",
       "      <td>41.23</td>\n",
       "    </tr>\n",
       "  </tbody>\n",
       "</table>\n",
       "</div>"
      ],
      "text/plain": [
       "        range_total_bill\n",
       "sex                     \n",
       "Male               43.56\n",
       "Female             41.23"
      ]
     },
     "execution_count": 40,
     "metadata": {
      "tags": []
     },
     "output_type": "execute_result"
    }
   ],
   "source": [
    "df_tips.groupby(by='sex').agg({'total_bill': lambda bill: bill.max() - bill.min()}).rename(\n",
    "    columns={'total_bill': \"range_total_bill\"})"
   ]
  },
  {
   "cell_type": "markdown",
   "metadata": {
    "Collapsed": "false",
    "colab_type": "text",
    "hidden": true,
    "id": "NBQ0ig3riVYM"
   },
   "source": [
    "In this dataset, males had a bigger range of `total_bill` values."
   ]
  },
  {
   "cell_type": "markdown",
   "metadata": {
    "Collapsed": "true",
    "colab_type": "text",
    "heading_collapsed": true,
    "hidden": true,
    "id": "ImW7iDzTiVYN"
   },
   "source": [
    "#### Group by of Multiple Columns and Apply a Single Aggregate Method on a Column"
   ]
  },
  {
   "cell_type": "markdown",
   "metadata": {
    "Collapsed": "false",
    "colab_type": "text",
    "hidden": true,
    "id": "F7wz2sxtiVYP"
   },
   "source": [
    "We can group by multiple columns too. For example, I want to know the count of meals served by people's gender for each day of the week. So, call the `groupby()` method and set the `by` argument to a list of the columns we want to group by."
   ]
  },
  {
   "cell_type": "code",
   "execution_count": null,
   "metadata": {
    "Collapsed": "false",
    "ExecuteTime": {
     "end_time": "2019-09-23T19:37:53.006958Z",
     "start_time": "2019-09-23T19:37:52.879355Z"
    },
    "colab": {},
    "colab_type": "code",
    "hidden": true,
    "id": "1vzaJWmoiVYP",
    "outputId": "bcbb4f0b-5f3a-4131-f4d3-cb84c3238006"
   },
   "outputs": [
    {
     "data": {
      "text/plain": [
       "sex     day \n",
       "Male    Thur    30\n",
       "        Fri     10\n",
       "        Sat     59\n",
       "        Sun     58\n",
       "Female  Thur    32\n",
       "        Fri      9\n",
       "        Sat     28\n",
       "        Sun     18\n",
       "dtype: int64"
      ]
     },
     "execution_count": 41,
     "metadata": {
      "tags": []
     },
     "output_type": "execute_result"
    }
   ],
   "source": [
    "df_tips.groupby(by=['sex', 'day']).size()"
   ]
  },
  {
   "cell_type": "markdown",
   "metadata": {
    "Collapsed": "false",
    "colab_type": "text",
    "hidden": true,
    "id": "yirXfomsiVYR"
   },
   "source": [
    "We can also group by multiple columns and apply an aggregate method on a different column. Below I group by people's gender and day of the week and find the total sum of those groups' bills."
   ]
  },
  {
   "cell_type": "code",
   "execution_count": null,
   "metadata": {
    "Collapsed": "false",
    "ExecuteTime": {
     "end_time": "2019-09-23T19:37:53.159842Z",
     "start_time": "2019-09-23T19:37:53.009094Z"
    },
    "colab": {},
    "colab_type": "code",
    "hidden": true,
    "id": "7GcxtXZuiVYR",
    "outputId": "81ac1d68-3e90-431e-8634-d48a8af62b71"
   },
   "outputs": [
    {
     "data": {
      "text/plain": [
       "sex     day \n",
       "Male    Thur     561.44\n",
       "        Fri      198.57\n",
       "        Sat     1227.35\n",
       "        Sun     1269.46\n",
       "Female  Thur     534.89\n",
       "        Fri      127.31\n",
       "        Sat      551.05\n",
       "        Sun      357.70\n",
       "Name: total_bill, dtype: float64"
      ]
     },
     "execution_count": 42,
     "metadata": {
      "tags": []
     },
     "output_type": "execute_result"
    }
   ],
   "source": [
    "df_tips.groupby(by=['sex', 'day'])['total_bill'].sum()"
   ]
  },
  {
   "cell_type": "markdown",
   "metadata": {
    "Collapsed": "true",
    "colab_type": "text",
    "heading_collapsed": true,
    "hidden": true,
    "id": "ClCkK9P7iVYT"
   },
   "source": [
    "#### Group by of a Single Column and Apply Multiple Aggregate Methods on a Column"
   ]
  },
  {
   "cell_type": "markdown",
   "metadata": {
    "Collapsed": "false",
    "colab_type": "text",
    "hidden": true,
    "id": "3wmGExnKiVYT"
   },
   "source": [
    "The `agg()` method allows us to specify multiple functions to apply to each column. Below, I group by the `sex` column and then we'll apply multiple aggregate methods to the `total_bill` column. Inside the `agg()` method, I pass a dictionary and specify `total_bill` as the key and a list of aggregate methods as the value. \n",
    "\n",
    "You can pass various types of syntax inside the argument for the `agg()` method. I chose a dictionary because that syntax will be helpful when we want to apply aggregate methods to multiple columns later on in this tutorial."
   ]
  },
  {
   "cell_type": "code",
   "execution_count": null,
   "metadata": {
    "Collapsed": "false",
    "ExecuteTime": {
     "end_time": "2019-09-23T19:37:53.294121Z",
     "start_time": "2019-09-23T19:37:53.162712Z"
    },
    "colab": {},
    "colab_type": "code",
    "hidden": true,
    "id": "WRoi1C5giVYT",
    "outputId": "ccdd3ca5-97ad-4296-f4ff-4a4499f85cbb"
   },
   "outputs": [
    {
     "data": {
      "text/html": [
       "<div>\n",
       "<style scoped>\n",
       "    .dataframe tbody tr th:only-of-type {\n",
       "        vertical-align: middle;\n",
       "    }\n",
       "\n",
       "    .dataframe tbody tr th {\n",
       "        vertical-align: top;\n",
       "    }\n",
       "\n",
       "    .dataframe thead tr th {\n",
       "        text-align: left;\n",
       "    }\n",
       "\n",
       "    .dataframe thead tr:last-of-type th {\n",
       "        text-align: right;\n",
       "    }\n",
       "</style>\n",
       "<table border=\"1\" class=\"dataframe\">\n",
       "  <thead>\n",
       "    <tr>\n",
       "      <th></th>\n",
       "      <th colspan=\"3\" halign=\"left\">total_bill</th>\n",
       "    </tr>\n",
       "    <tr>\n",
       "      <th></th>\n",
       "      <th>count</th>\n",
       "      <th>mean</th>\n",
       "      <th>sum</th>\n",
       "    </tr>\n",
       "    <tr>\n",
       "      <th>sex</th>\n",
       "      <th></th>\n",
       "      <th></th>\n",
       "      <th></th>\n",
       "    </tr>\n",
       "  </thead>\n",
       "  <tbody>\n",
       "    <tr>\n",
       "      <td>Male</td>\n",
       "      <td>157</td>\n",
       "      <td>20.744076</td>\n",
       "      <td>3256.82</td>\n",
       "    </tr>\n",
       "    <tr>\n",
       "      <td>Female</td>\n",
       "      <td>87</td>\n",
       "      <td>18.056897</td>\n",
       "      <td>1570.95</td>\n",
       "    </tr>\n",
       "  </tbody>\n",
       "</table>\n",
       "</div>"
      ],
      "text/plain": [
       "       total_bill                    \n",
       "            count       mean      sum\n",
       "sex                                  \n",
       "Male          157  20.744076  3256.82\n",
       "Female         87  18.056897  1570.95"
      ]
     },
     "execution_count": 43,
     "metadata": {
      "tags": []
     },
     "output_type": "execute_result"
    }
   ],
   "source": [
    "df_tips.groupby(by='sex').agg({'total_bill': ['count', 'mean', 'sum']})"
   ]
  },
  {
   "cell_type": "markdown",
   "metadata": {
    "Collapsed": "false",
    "colab_type": "text",
    "hidden": true,
    "id": "Wx8IXOgciVYW"
   },
   "source": [
    "You can learn more about the `agg()` method on the official pandas <a href='https://pandas.pydata.org/pandas-docs/stable/generated/pandas.core.groupby.DataFrameGroupBy.agg.html'>documentation page</a>.\n",
    "\n",
    "The code below performs the same group by operation as above, and additionally I rename columns to have clearer names."
   ]
  },
  {
   "cell_type": "code",
   "execution_count": null,
   "metadata": {
    "Collapsed": "false",
    "ExecuteTime": {
     "end_time": "2019-09-23T19:37:53.448968Z",
     "start_time": "2019-09-23T19:37:53.296776Z"
    },
    "colab": {},
    "colab_type": "code",
    "hidden": true,
    "id": "8ALJq5nNiVYW",
    "outputId": "1f35ee2b-8a61-4d60-afd6-549ef6e087c9"
   },
   "outputs": [
    {
     "data": {
      "text/html": [
       "<div>\n",
       "<style scoped>\n",
       "    .dataframe tbody tr th:only-of-type {\n",
       "        vertical-align: middle;\n",
       "    }\n",
       "\n",
       "    .dataframe tbody tr th {\n",
       "        vertical-align: top;\n",
       "    }\n",
       "\n",
       "    .dataframe thead tr th {\n",
       "        text-align: left;\n",
       "    }\n",
       "\n",
       "    .dataframe thead tr:last-of-type th {\n",
       "        text-align: right;\n",
       "    }\n",
       "</style>\n",
       "<table border=\"1\" class=\"dataframe\">\n",
       "  <thead>\n",
       "    <tr>\n",
       "      <th></th>\n",
       "      <th colspan=\"3\" halign=\"left\">total_bill</th>\n",
       "    </tr>\n",
       "    <tr>\n",
       "      <th></th>\n",
       "      <th>count_meals_served</th>\n",
       "      <th>average_bill_of_meal</th>\n",
       "      <th>total_bills_of_meals</th>\n",
       "    </tr>\n",
       "    <tr>\n",
       "      <th>sex</th>\n",
       "      <th></th>\n",
       "      <th></th>\n",
       "      <th></th>\n",
       "    </tr>\n",
       "  </thead>\n",
       "  <tbody>\n",
       "    <tr>\n",
       "      <td>Male</td>\n",
       "      <td>157</td>\n",
       "      <td>20.744076</td>\n",
       "      <td>3256.82</td>\n",
       "    </tr>\n",
       "    <tr>\n",
       "      <td>Female</td>\n",
       "      <td>87</td>\n",
       "      <td>18.056897</td>\n",
       "      <td>1570.95</td>\n",
       "    </tr>\n",
       "  </tbody>\n",
       "</table>\n",
       "</div>"
      ],
      "text/plain": [
       "               total_bill                                          \n",
       "       count_meals_served average_bill_of_meal total_bills_of_meals\n",
       "sex                                                                \n",
       "Male                  157            20.744076              3256.82\n",
       "Female                 87            18.056897              1570.95"
      ]
     },
     "execution_count": 44,
     "metadata": {
      "tags": []
     },
     "output_type": "execute_result"
    }
   ],
   "source": [
    "df_tips.groupby(by='sex').agg({'total_bill': ['count', 'mean', 'sum']}).rename(\n",
    "    columns={'count': 'count_meals_served', 'mean': 'average_bill_of_meal', 'sum': 'total_bills_of_meals'})"
   ]
  },
  {
   "cell_type": "markdown",
   "metadata": {
    "Collapsed": "false",
    "colab_type": "text",
    "hidden": true,
    "id": "oqLBtLwNiVYZ"
   },
   "source": [
    "We can modify the format of the output above through chaining the `unstack()` and `reset_index()` methods after our group by operation. This format may be ideal for additional analysis later on."
   ]
  },
  {
   "cell_type": "code",
   "execution_count": null,
   "metadata": {
    "Collapsed": "false",
    "ExecuteTime": {
     "end_time": "2019-09-23T19:37:53.640751Z",
     "start_time": "2019-09-23T19:37:53.451024Z"
    },
    "colab": {},
    "colab_type": "code",
    "hidden": true,
    "id": "uSfZV5N0iVYZ",
    "outputId": "8d3e5b13-b017-4ee7-e08f-fd21845aea8f",
    "scrolled": true
   },
   "outputs": [
    {
     "data": {
      "text/html": [
       "<div>\n",
       "<style scoped>\n",
       "    .dataframe tbody tr th:only-of-type {\n",
       "        vertical-align: middle;\n",
       "    }\n",
       "\n",
       "    .dataframe tbody tr th {\n",
       "        vertical-align: top;\n",
       "    }\n",
       "\n",
       "    .dataframe thead th {\n",
       "        text-align: right;\n",
       "    }\n",
       "</style>\n",
       "<table border=\"1\" class=\"dataframe\">\n",
       "  <thead>\n",
       "    <tr style=\"text-align: right;\">\n",
       "      <th></th>\n",
       "      <th>aggregated_column</th>\n",
       "      <th>aggregate_metric</th>\n",
       "      <th>grouped_column</th>\n",
       "      <th>aggregate_calculation</th>\n",
       "    </tr>\n",
       "  </thead>\n",
       "  <tbody>\n",
       "    <tr>\n",
       "      <td>0</td>\n",
       "      <td>total_bill</td>\n",
       "      <td>count</td>\n",
       "      <td>Male</td>\n",
       "      <td>157.00</td>\n",
       "    </tr>\n",
       "    <tr>\n",
       "      <td>1</td>\n",
       "      <td>total_bill</td>\n",
       "      <td>count</td>\n",
       "      <td>Female</td>\n",
       "      <td>87.00</td>\n",
       "    </tr>\n",
       "    <tr>\n",
       "      <td>2</td>\n",
       "      <td>total_bill</td>\n",
       "      <td>mean</td>\n",
       "      <td>Male</td>\n",
       "      <td>20.74</td>\n",
       "    </tr>\n",
       "    <tr>\n",
       "      <td>3</td>\n",
       "      <td>total_bill</td>\n",
       "      <td>mean</td>\n",
       "      <td>Female</td>\n",
       "      <td>18.06</td>\n",
       "    </tr>\n",
       "    <tr>\n",
       "      <td>4</td>\n",
       "      <td>total_bill</td>\n",
       "      <td>sum</td>\n",
       "      <td>Male</td>\n",
       "      <td>3256.82</td>\n",
       "    </tr>\n",
       "    <tr>\n",
       "      <td>5</td>\n",
       "      <td>total_bill</td>\n",
       "      <td>sum</td>\n",
       "      <td>Female</td>\n",
       "      <td>1570.95</td>\n",
       "    </tr>\n",
       "  </tbody>\n",
       "</table>\n",
       "</div>"
      ],
      "text/plain": [
       "  aggregated_column aggregate_metric grouped_column  aggregate_calculation\n",
       "0        total_bill            count           Male                 157.00\n",
       "1        total_bill            count         Female                  87.00\n",
       "2        total_bill             mean           Male                  20.74\n",
       "3        total_bill             mean         Female                  18.06\n",
       "4        total_bill              sum           Male                3256.82\n",
       "5        total_bill              sum         Female                1570.95"
      ]
     },
     "execution_count": 45,
     "metadata": {
      "tags": []
     },
     "output_type": "execute_result"
    }
   ],
   "source": [
    "df_tips.groupby(by='sex').agg({'total_bill': ['count', 'mean', 'sum']}).unstack().reset_index(\n",
    ").rename(columns={'level_0': 'aggregated_column', 'level_1': 'aggregate_metric', \n",
    "                  'sex': 'grouped_column', 0: 'aggregate_calculation'}).round(2)"
   ]
  },
  {
   "cell_type": "markdown",
   "metadata": {
    "Collapsed": "true",
    "colab_type": "text",
    "heading_collapsed": true,
    "hidden": true,
    "id": "0UdTKSroiVYa"
   },
   "source": [
    "#### Group by of a Single Column and Apply Multiple Aggregate Methods on Multiple Columns"
   ]
  },
  {
   "cell_type": "markdown",
   "metadata": {
    "Collapsed": "false",
    "colab_type": "text",
    "hidden": true,
    "id": "zzXkL4goiVYb"
   },
   "source": [
    "Below, I use the `agg()` method to apply two different aggregate methods to two different columns. I group by the `sex` column and for the `total_bill` column, apply the `max` method, and for the `tip` column, apply the `min` method. "
   ]
  },
  {
   "cell_type": "code",
   "execution_count": null,
   "metadata": {
    "Collapsed": "false",
    "ExecuteTime": {
     "end_time": "2019-09-23T19:37:53.755756Z",
     "start_time": "2019-09-23T19:37:53.643635Z"
    },
    "colab": {},
    "colab_type": "code",
    "hidden": true,
    "id": "YJSv_dqkiVYb",
    "outputId": "dc446203-42a4-47cb-b167-5ff06cea2613"
   },
   "outputs": [
    {
     "data": {
      "text/html": [
       "<div>\n",
       "<style scoped>\n",
       "    .dataframe tbody tr th:only-of-type {\n",
       "        vertical-align: middle;\n",
       "    }\n",
       "\n",
       "    .dataframe tbody tr th {\n",
       "        vertical-align: top;\n",
       "    }\n",
       "\n",
       "    .dataframe thead th {\n",
       "        text-align: right;\n",
       "    }\n",
       "</style>\n",
       "<table border=\"1\" class=\"dataframe\">\n",
       "  <thead>\n",
       "    <tr style=\"text-align: right;\">\n",
       "      <th></th>\n",
       "      <th>max_total_bill</th>\n",
       "      <th>min_tip_amount</th>\n",
       "    </tr>\n",
       "    <tr>\n",
       "      <th>sex</th>\n",
       "      <th></th>\n",
       "      <th></th>\n",
       "    </tr>\n",
       "  </thead>\n",
       "  <tbody>\n",
       "    <tr>\n",
       "      <td>Male</td>\n",
       "      <td>50.81</td>\n",
       "      <td>1.0</td>\n",
       "    </tr>\n",
       "    <tr>\n",
       "      <td>Female</td>\n",
       "      <td>44.30</td>\n",
       "      <td>1.0</td>\n",
       "    </tr>\n",
       "  </tbody>\n",
       "</table>\n",
       "</div>"
      ],
      "text/plain": [
       "        max_total_bill  min_tip_amount\n",
       "sex                                   \n",
       "Male             50.81             1.0\n",
       "Female           44.30             1.0"
      ]
     },
     "execution_count": 46,
     "metadata": {
      "tags": []
     },
     "output_type": "execute_result"
    }
   ],
   "source": [
    "df_tips.groupby(by='sex').agg({'total_bill': 'max', 'tip': 'min'}).rename(\n",
    "    columns={'total_bill': 'max_total_bill', 'tip': 'min_tip_amount'})"
   ]
  },
  {
   "cell_type": "markdown",
   "metadata": {
    "Collapsed": "true",
    "colab_type": "text",
    "heading_collapsed": true,
    "hidden": true,
    "id": "BBwfzmnfiVYc"
   },
   "source": [
    "#### Group by of Multiple Columns and Apply a Groupwise Calculation on Multiple Columns"
   ]
  },
  {
   "cell_type": "markdown",
   "metadata": {
    "Collapsed": "false",
    "colab_type": "text",
    "hidden": true,
    "id": "11DCtab0iVYc"
   },
   "source": [
    "In restaurants, common math by guests is to calculate the tip for the waiter/waittress. My mom thinks 20% tip is customary. So, if the bill was 10, you should tip 2 and pay 12 in total. I'm curious what the tip percentages are based on the gender of servers, meal and day of the week. We can perform that calculation with a `groupby()` and the `pipe()` method.\n",
    "\n",
    "The `pipe()` method allows us to call functions in a *chain*. So as the `groupby()` method is called, at the same time, another function is being called to perform data manipulations. You can learn more about `pipe()` from the <a href='https://pandas.pydata.org/pandas-docs/version/0.22/groupby.html#piping-function-calls'>official documentation</a>.\n",
    "\n",
    "To perform this calculation, we need to group by `sex`, `time` and `day`, then call our `pipe()` method and calculate the `tip` divided by `total_bill` multiplied by `100`."
   ]
  },
  {
   "cell_type": "code",
   "execution_count": null,
   "metadata": {
    "Collapsed": "false",
    "ExecuteTime": {
     "end_time": "2019-09-23T19:37:53.880302Z",
     "start_time": "2019-09-23T19:37:53.757887Z"
    },
    "colab": {},
    "colab_type": "code",
    "hidden": true,
    "id": "TCMVDEGIiVYd",
    "outputId": "bfc6e550-8aac-4777-de61-63f822b57774"
   },
   "outputs": [
    {
     "data": {
      "text/plain": [
       "sex     time    day \n",
       "Male    Lunch   Thur    15.925121\n",
       "                Fri     16.686183\n",
       "                Sat           NaN\n",
       "                Sun           NaN\n",
       "        Dinner  Thur          NaN\n",
       "                Fri     12.912840\n",
       "                Sat     14.824622\n",
       "                Sun     14.713343\n",
       "Female  Lunch   Thur    15.388192\n",
       "                Fri     19.691535\n",
       "                Sat           NaN\n",
       "                Sun           NaN\n",
       "        Dinner  Thur    15.974441\n",
       "                Fri     19.636618\n",
       "                Sat     14.236458\n",
       "                Sun     16.944367\n",
       "dtype: float64"
      ]
     },
     "execution_count": 47,
     "metadata": {
      "tags": []
     },
     "output_type": "execute_result"
    }
   ],
   "source": [
    "df_tips.groupby(by=['sex', 'time', 'day']).pipe(lambda group: group.tip.sum()/group.total_bill.sum()*100)"
   ]
  },
  {
   "cell_type": "markdown",
   "metadata": {
    "Collapsed": "false",
    "colab_type": "text",
    "hidden": true,
    "id": "sHGLa5GviVYe"
   },
   "source": [
    "The highest tip percentage has been for females for dinner on Sunday."
   ]
  },
  {
   "cell_type": "markdown",
   "metadata": {
    "Collapsed": "true",
    "colab_type": "text",
    "heading_collapsed": true,
    "id": "5NqwHZz-iVYe"
   },
   "source": [
    "# Melt"
   ]
  },
  {
   "cell_type": "markdown",
   "metadata": {
    "Collapsed": "false",
    "colab_type": "text",
    "hidden": true,
    "id": "CPWFshfYiVYf"
   },
   "source": [
    "In pandas, we can \"unpivot\" a DataFrame - turn it from a *wide* format - many columns - to a *long* format - few columns but many rows. We can accomplish this with the pandas <a href='https://pandas.pydata.org/pandas-docs/version/0.23.4/generated/pandas.melt.html'>`melt()`</a> method. This can be helpful for further analysis of our new unpivoted DataFrame."
   ]
  },
  {
   "cell_type": "markdown",
   "metadata": {
    "Collapsed": "true",
    "colab_type": "text",
    "heading_collapsed": true,
    "hidden": true,
    "id": "HFo_O8UPiVYf"
   },
   "source": [
    "### Example: Pivot Tesla Car Acceleration Details"
   ]
  },
  {
   "cell_type": "markdown",
   "metadata": {
    "Collapsed": "false",
    "colab_type": "text",
    "hidden": true,
    "id": "0mkvvJVQiVYf"
   },
   "source": [
    "Here is fictional acceleration tests for three popular Tesla car models. In order to verify acceleration of the cars, I figured a third-party may make three *runs* to test the three models alongside one another."
   ]
  },
  {
   "cell_type": "code",
   "execution_count": null,
   "metadata": {
    "Collapsed": "false",
    "colab": {},
    "colab_type": "code",
    "hidden": true,
    "id": "hJ-B9azYiVYf",
    "outputId": "026cb5ff-fa36-4df0-de2e-1fab712fa8ca"
   },
   "outputs": [
    {
     "data": {
      "text/html": [
       "<div>\n",
       "<style scoped>\n",
       "    .dataframe tbody tr th:only-of-type {\n",
       "        vertical-align: middle;\n",
       "    }\n",
       "\n",
       "    .dataframe tbody tr th {\n",
       "        vertical-align: top;\n",
       "    }\n",
       "\n",
       "    .dataframe thead th {\n",
       "        text-align: right;\n",
       "    }\n",
       "</style>\n",
       "<table border=\"1\" class=\"dataframe\">\n",
       "  <thead>\n",
       "    <tr style=\"text-align: right;\">\n",
       "      <th></th>\n",
       "      <th>car_model</th>\n",
       "      <th>Sept 1 9am</th>\n",
       "      <th>Sept 1 10am</th>\n",
       "      <th>Sept 1 11am</th>\n",
       "    </tr>\n",
       "  </thead>\n",
       "  <tbody>\n",
       "    <tr>\n",
       "      <th>0</th>\n",
       "      <td>Tesla Model S P100D</td>\n",
       "      <td>2.50</td>\n",
       "      <td>2.51</td>\n",
       "      <td>2.54</td>\n",
       "    </tr>\n",
       "    <tr>\n",
       "      <th>1</th>\n",
       "      <td>Tesla Model X P100D</td>\n",
       "      <td>2.92</td>\n",
       "      <td>2.91</td>\n",
       "      <td>2.93</td>\n",
       "    </tr>\n",
       "    <tr>\n",
       "      <th>2</th>\n",
       "      <td>Tesla Model 3 AWD Dual Motor</td>\n",
       "      <td>3.33</td>\n",
       "      <td>3.31</td>\n",
       "      <td>3.35</td>\n",
       "    </tr>\n",
       "  </tbody>\n",
       "</table>\n",
       "</div>"
      ],
      "text/plain": [
       "                      car_model  Sept 1 9am  Sept 1 10am  Sept 1 11am\n",
       "0           Tesla Model S P100D        2.50         2.51         2.54\n",
       "1           Tesla Model X P100D        2.92         2.91         2.93\n",
       "2  Tesla Model 3 AWD Dual Motor        3.33         3.31         3.35"
      ]
     },
     "execution_count": 21,
     "metadata": {
      "tags": []
     },
     "output_type": "execute_result"
    }
   ],
   "source": [
    "s = 'Tesla Model S P100D'\n",
    "x = 'Tesla Model X P100D'\n",
    "three = 'Tesla Model 3 AWD Dual Motor'\n",
    "\n",
    "s_data = [s, 2.5, 2.51, 2.54]\n",
    "x_data = [x, 2.92, 2.91, 2.93]\n",
    "three_data = [three, 3.33, 3.31, 3.35]\n",
    "\n",
    "data = [s_data, x_data, three_data] \n",
    "df = pd.DataFrame(data, columns=['car_model', 'Sept 1 9am', 'Sept 1 10am', 'Sept 1 11am'])\n",
    "df"
   ]
  },
  {
   "cell_type": "markdown",
   "metadata": {
    "Collapsed": "false",
    "colab_type": "text",
    "hidden": true,
    "id": "IISXNCF7iVYg"
   },
   "source": [
    "Notice how this DataFrame features four columns, one for the car model name, and three for acceleration *runs* of a car. If they were to continue with this trend of data collection and do far more *runs*, this dataset would have lots of columns - perhaps making it daunting to visualize and analyze. \n",
    "\n",
    "I want to \"unpivot\" this data from a wide format to a long format using the pandas `melt()` method.\n",
    "\n",
    "On the `df` DataFrame, we'll call the `melt()` method and set the following arguments:\n",
    "\n",
    "- `id_vars` to `['car_model']` since each row from `df` is identified by the car model name\n",
    "- `var_name` to `'date'` since this new column needs a name\n",
    "- `value_name` to `'0-60mph_in_seconds'` since this new column needs a name"
   ]
  },
  {
   "cell_type": "code",
   "execution_count": null,
   "metadata": {
    "Collapsed": "false",
    "colab": {},
    "colab_type": "code",
    "hidden": true,
    "id": "57yOQWr0iVYh",
    "outputId": "f4b58144-22a3-44b2-cb78-6bb056883f13"
   },
   "outputs": [
    {
     "data": {
      "text/html": [
       "<div>\n",
       "<style scoped>\n",
       "    .dataframe tbody tr th:only-of-type {\n",
       "        vertical-align: middle;\n",
       "    }\n",
       "\n",
       "    .dataframe tbody tr th {\n",
       "        vertical-align: top;\n",
       "    }\n",
       "\n",
       "    .dataframe thead th {\n",
       "        text-align: right;\n",
       "    }\n",
       "</style>\n",
       "<table border=\"1\" class=\"dataframe\">\n",
       "  <thead>\n",
       "    <tr style=\"text-align: right;\">\n",
       "      <th></th>\n",
       "      <th>car_model</th>\n",
       "      <th>date</th>\n",
       "      <th>0-60mph_in_seconds</th>\n",
       "    </tr>\n",
       "  </thead>\n",
       "  <tbody>\n",
       "    <tr>\n",
       "      <th>0</th>\n",
       "      <td>Tesla Model S P100D</td>\n",
       "      <td>Sept 1 9am</td>\n",
       "      <td>2.50</td>\n",
       "    </tr>\n",
       "    <tr>\n",
       "      <th>1</th>\n",
       "      <td>Tesla Model X P100D</td>\n",
       "      <td>Sept 1 9am</td>\n",
       "      <td>2.92</td>\n",
       "    </tr>\n",
       "    <tr>\n",
       "      <th>2</th>\n",
       "      <td>Tesla Model 3 AWD Dual Motor</td>\n",
       "      <td>Sept 1 9am</td>\n",
       "      <td>3.33</td>\n",
       "    </tr>\n",
       "    <tr>\n",
       "      <th>3</th>\n",
       "      <td>Tesla Model S P100D</td>\n",
       "      <td>Sept 1 10am</td>\n",
       "      <td>2.51</td>\n",
       "    </tr>\n",
       "    <tr>\n",
       "      <th>4</th>\n",
       "      <td>Tesla Model X P100D</td>\n",
       "      <td>Sept 1 10am</td>\n",
       "      <td>2.91</td>\n",
       "    </tr>\n",
       "    <tr>\n",
       "      <th>5</th>\n",
       "      <td>Tesla Model 3 AWD Dual Motor</td>\n",
       "      <td>Sept 1 10am</td>\n",
       "      <td>3.31</td>\n",
       "    </tr>\n",
       "    <tr>\n",
       "      <th>6</th>\n",
       "      <td>Tesla Model S P100D</td>\n",
       "      <td>Sept 1 11am</td>\n",
       "      <td>2.54</td>\n",
       "    </tr>\n",
       "    <tr>\n",
       "      <th>7</th>\n",
       "      <td>Tesla Model X P100D</td>\n",
       "      <td>Sept 1 11am</td>\n",
       "      <td>2.93</td>\n",
       "    </tr>\n",
       "    <tr>\n",
       "      <th>8</th>\n",
       "      <td>Tesla Model 3 AWD Dual Motor</td>\n",
       "      <td>Sept 1 11am</td>\n",
       "      <td>3.35</td>\n",
       "    </tr>\n",
       "  </tbody>\n",
       "</table>\n",
       "</div>"
      ],
      "text/plain": [
       "                      car_model         date  0-60mph_in_seconds\n",
       "0           Tesla Model S P100D   Sept 1 9am                2.50\n",
       "1           Tesla Model X P100D   Sept 1 9am                2.92\n",
       "2  Tesla Model 3 AWD Dual Motor   Sept 1 9am                3.33\n",
       "3           Tesla Model S P100D  Sept 1 10am                2.51\n",
       "4           Tesla Model X P100D  Sept 1 10am                2.91\n",
       "5  Tesla Model 3 AWD Dual Motor  Sept 1 10am                3.31\n",
       "6           Tesla Model S P100D  Sept 1 11am                2.54\n",
       "7           Tesla Model X P100D  Sept 1 11am                2.93\n",
       "8  Tesla Model 3 AWD Dual Motor  Sept 1 11am                3.35"
      ]
     },
     "execution_count": 22,
     "metadata": {
      "tags": []
     },
     "output_type": "execute_result"
    }
   ],
   "source": [
    "df_unpivoted = df.melt(id_vars=['car_model'], var_name='date', value_name='0-60mph_in_seconds')\n",
    "df_unpivoted"
   ]
  },
  {
   "cell_type": "markdown",
   "metadata": {
    "Collapsed": "false",
    "colab_type": "text",
    "hidden": true,
    "id": "M0JCGn8QiVYi"
   },
   "source": [
    "After this \"unpivot\", we can easily calculate the minimum (essentially the fastest) 0-60 time that we'd publish in a final report. To do so, we take our `df_unpivoted` DataFrame, group by the `car_model` column, and find the minimum value in the `0-60mph_in_seconds` column."
   ]
  },
  {
   "cell_type": "code",
   "execution_count": null,
   "metadata": {
    "Collapsed": "false",
    "colab": {},
    "colab_type": "code",
    "hidden": true,
    "id": "Pt5Kd-dZiVYi",
    "outputId": "9d715fb6-f29d-4042-b684-ae8b144aa5bc"
   },
   "outputs": [
    {
     "data": {
      "text/plain": [
       "car_model\n",
       "Tesla Model 3 AWD Dual Motor    3.31\n",
       "Tesla Model S P100D             2.50\n",
       "Tesla Model X P100D             2.91\n",
       "Name: 0-60mph_in_seconds, dtype: float64"
      ]
     },
     "execution_count": 23,
     "metadata": {
      "tags": []
     },
     "output_type": "execute_result"
    }
   ],
   "source": [
    "df_unpivoted.groupby('car_model')['0-60mph_in_seconds'].min()"
   ]
  }
 ],
 "metadata": {
  "colab": {
   "collapsed_sections": [
    "syiGvgXqiVWg",
    "a5u8okKWiVWj",
    "EXCq9nW8iVWl",
    "nBaHuam9iVWs",
    "9hJMyDgDiVWu",
    "sqZTKypyiVWx",
    "06ZSA2RLiVW1",
    "_ADm0wriiVW3",
    "KmuNNSYEiVW5",
    "D5UAo0WPiVW7",
    "l540y3D7iVW9",
    "qlHQw0iTVX2F",
    "aVanNZj7iVXD",
    "QckBrkfuiVXL",
    "8iVhVxuaiVXL",
    "h62LqjBgiVXn",
    "eVL5kvW2iVXz",
    "--yGAQnziVX2",
    "rDQktV3miVX3",
    "XIXufJ2miVYA",
    "4SQyEJ2YiVYI",
    "caEhfY4hiVYK",
    "ImW7iDzTiVYN",
    "ClCkK9P7iVYT",
    "0UdTKSroiVYa",
    "BBwfzmnfiVYc",
    "5NqwHZz-iVYe",
    "HFo_O8UPiVYf"
   ],
   "name": "Day 10.ipynb",
   "provenance": []
  },
  "kernelspec": {
   "display_name": "Python 3",
   "language": "python",
   "name": "python3"
  },
  "language_info": {
   "codemirror_mode": {
    "name": "ipython",
    "version": 3
   },
   "file_extension": ".py",
   "mimetype": "text/x-python",
   "name": "python",
   "nbconvert_exporter": "python",
   "pygments_lexer": "ipython3",
   "version": "3.7.3"
  },
  "toc": {
   "base_numbering": 1,
   "nav_menu": {},
   "number_sections": false,
   "sideBar": true,
   "skip_h1_title": false,
   "title_cell": "Contents",
   "title_sidebar": "Contents",
   "toc_cell": false,
   "toc_position": {
    "height": "calc(100% - 180px)",
    "left": "10px",
    "top": "150px",
    "width": "165px"
   },
   "toc_section_display": true,
   "toc_window_display": true
  }
 },
 "nbformat": 4,
 "nbformat_minor": 4
}
