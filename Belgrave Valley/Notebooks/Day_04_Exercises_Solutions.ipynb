{
 "cells": [
  {
   "cell_type": "markdown",
   "metadata": {
    "Collapsed": "false",
    "colab_type": "text",
    "id": "t80f7H9fwh9D"
   },
   "source": [
    "<img src=\"https://user-images.strikinglycdn.com/res/hrscywv4p/image/upload/c_limit,fl_lossy,h_300,w_300,f_auto,q_auto/1266110/Logo_wzxi0f.png\" style=\"float: left; margin: 20px; height: 55px\">"
   ]
  },
  {
   "cell_type": "markdown",
   "metadata": {
    "Collapsed": "true",
    "colab_type": "text",
    "id": "_K0zI4UxZip5"
   },
   "source": [
    "## Useful Operators"
   ]
  },
  {
   "cell_type": "markdown",
   "metadata": {
    "Collapsed": "true",
    "colab_type": "text",
    "id": "AJV4LLTMZip6"
   },
   "source": [
    "#### 1. Print first 5 numbers using range function"
   ]
  },
  {
   "cell_type": "code",
   "execution_count": 42,
   "metadata": {
    "Collapsed": "false",
    "colab": {},
    "colab_type": "code",
    "id": "uquWtBAsZip7",
    "outputId": "812e408e-1f84-40ae-ae0d-bdae68e778f6"
   },
   "outputs": [
    {
     "name": "stdout",
     "output_type": "stream",
     "text": [
      "0\n",
      "1\n",
      "2\n",
      "3\n",
      "4\n"
     ]
    }
   ],
   "source": [
    "for i in range(5):\n",
    "    print (i)"
   ]
  },
  {
   "cell_type": "markdown",
   "metadata": {
    "Collapsed": "true",
    "colab_type": "text",
    "id": "8ogEzNmBZiqB"
   },
   "source": [
    "#### 2. Print integers within given start and stop number using range() function"
   ]
  },
  {
   "cell_type": "code",
   "execution_count": 41,
   "metadata": {
    "Collapsed": "false",
    "colab": {},
    "colab_type": "code",
    "id": "5t2R9zCyZiqC",
    "outputId": "f46dea5f-f2c6-4940-8879-2522f85124e5"
   },
   "outputs": [
    {
     "name": "stdout",
     "output_type": "stream",
     "text": [
      "5\n",
      "6\n",
      "7\n",
      "8\n",
      "9\n"
     ]
    }
   ],
   "source": [
    "for i in range(5, 10):\n",
    "    print(i)"
   ]
  },
  {
   "cell_type": "markdown",
   "metadata": {
    "Collapsed": "true",
    "colab_type": "text",
    "id": "a5fei06-ZiqG"
   },
   "source": [
    "#### 3. Create a list of integers between 100 and 126 included"
   ]
  },
  {
   "cell_type": "code",
   "execution_count": 40,
   "metadata": {
    "Collapsed": "false",
    "colab": {},
    "colab_type": "code",
    "id": "WrnzvU2CZiqH",
    "outputId": "8b73aab1-b737-4b17-a86a-36069dd6a140"
   },
   "outputs": [
    {
     "data": {
      "text/plain": [
       "[100,\n",
       " 101,\n",
       " 102,\n",
       " 103,\n",
       " 104,\n",
       " 105,\n",
       " 106,\n",
       " 107,\n",
       " 108,\n",
       " 109,\n",
       " 110,\n",
       " 111,\n",
       " 112,\n",
       " 113,\n",
       " 114,\n",
       " 115,\n",
       " 116,\n",
       " 117,\n",
       " 118,\n",
       " 119,\n",
       " 120,\n",
       " 121,\n",
       " 122,\n",
       " 123,\n",
       " 124,\n",
       " 125,\n",
       " 126]"
      ]
     },
     "execution_count": 40,
     "metadata": {},
     "output_type": "execute_result"
    }
   ],
   "source": [
    "list(range(100,127))"
   ]
  },
  {
   "cell_type": "markdown",
   "metadata": {
    "Collapsed": "true",
    "colab_type": "text",
    "id": "HlL7ZhY0ZiqK"
   },
   "source": [
    "#### 4.Print all odd numbers between 23 and 64 using range()"
   ]
  },
  {
   "cell_type": "code",
   "execution_count": 39,
   "metadata": {
    "Collapsed": "false",
    "colab": {},
    "colab_type": "code",
    "id": "qY9j1NBmZiqL",
    "outputId": "8c77272f-006e-4d81-fe71-c50b433052bd"
   },
   "outputs": [
    {
     "name": "stdout",
     "output_type": "stream",
     "text": [
      "23\n",
      "25\n",
      "27\n",
      "29\n",
      "31\n",
      "33\n",
      "35\n",
      "37\n",
      "39\n",
      "41\n",
      "43\n",
      "45\n",
      "47\n",
      "49\n",
      "51\n",
      "53\n",
      "55\n",
      "57\n",
      "59\n",
      "61\n",
      "63\n"
     ]
    }
   ],
   "source": [
    "for i in range(23,64,2):\n",
    "    print (i)"
   ]
  },
  {
   "cell_type": "markdown",
   "metadata": {
    "Collapsed": "true",
    "colab_type": "text",
    "id": "EvY5VKYOZiqP"
   },
   "source": [
    "#### 5. Create a list with all the even numbers between 80 and 124 included."
   ]
  },
  {
   "cell_type": "code",
   "execution_count": 38,
   "metadata": {
    "Collapsed": "false",
    "colab": {},
    "colab_type": "code",
    "id": "GAghTVroZiqR",
    "outputId": "bf50d0d8-bdaa-4dc0-bfa7-a24ef55fc92b"
   },
   "outputs": [
    {
     "data": {
      "text/plain": [
       "[80,\n",
       " 82,\n",
       " 84,\n",
       " 86,\n",
       " 88,\n",
       " 90,\n",
       " 92,\n",
       " 94,\n",
       " 96,\n",
       " 98,\n",
       " 100,\n",
       " 102,\n",
       " 104,\n",
       " 106,\n",
       " 108,\n",
       " 110,\n",
       " 112,\n",
       " 114,\n",
       " 116,\n",
       " 118,\n",
       " 120,\n",
       " 122,\n",
       " 124]"
      ]
     },
     "execution_count": 38,
     "metadata": {},
     "output_type": "execute_result"
    }
   ],
   "source": [
    "list(range(80,126,2))"
   ]
  },
  {
   "cell_type": "markdown",
   "metadata": {
    "Collapsed": "true",
    "colab_type": "text",
    "id": "bt7jvMkDZiqU"
   },
   "source": [
    "#### 6. Use enumerate to return the elemnts from the list where their index is greater than 3. Add them to a new list."
   ]
  },
  {
   "cell_type": "code",
   "execution_count": 36,
   "metadata": {
    "Collapsed": "false",
    "colab": {},
    "colab_type": "code",
    "id": "Od07rWGUZiqV"
   },
   "outputs": [],
   "source": [
    "names = ['Pol','Javi','Pablo','Paco','Adri','Hector','Manu','Carlos','Ibrahim']"
   ]
  },
  {
   "cell_type": "code",
   "execution_count": 37,
   "metadata": {
    "Collapsed": "false",
    "colab": {},
    "colab_type": "code",
    "id": "tHfdupv0ZiqY",
    "outputId": "2c463cb8-1168-4c2e-90a3-3223088b7ee2"
   },
   "outputs": [
    {
     "data": {
      "text/plain": [
       "['Adri', 'Hector', 'Manu', 'Carlos', 'Ibrahim']"
      ]
     },
     "execution_count": 37,
     "metadata": {},
     "output_type": "execute_result"
    }
   ],
   "source": [
    "names_new = []\n",
    "for i, k in enumerate(names):\n",
    "    if i >= 4:\n",
    "        names_new.append(k)\n",
    "names_new"
   ]
  },
  {
   "cell_type": "markdown",
   "metadata": {
    "Collapsed": "true",
    "colab_type": "text",
    "id": "vEjbqf7IZiqb"
   },
   "source": [
    "#### 7. Use enumerate to substract 2 to the numbers in the list that have and even index. Return the same list updated."
   ]
  },
  {
   "cell_type": "code",
   "execution_count": 34,
   "metadata": {
    "Collapsed": "false",
    "colab": {},
    "colab_type": "code",
    "id": "pL2qTd0yZiqc"
   },
   "outputs": [],
   "source": [
    "numbers = [2,44,564,0.3,45,6/7,9,15]"
   ]
  },
  {
   "cell_type": "code",
   "execution_count": 35,
   "metadata": {
    "Collapsed": "false",
    "colab": {},
    "colab_type": "code",
    "id": "6yn_O7dXZiqh",
    "outputId": "f1660d3c-dc32-4cb2-c04b-01430643deb0"
   },
   "outputs": [
    {
     "data": {
      "text/plain": [
       "[0, 44, 562, 0.3, 43, 0.8571428571428571, 7, 15]"
      ]
     },
     "execution_count": 35,
     "metadata": {},
     "output_type": "execute_result"
    }
   ],
   "source": [
    "numbers_new = []\n",
    "for i, k in enumerate(numbers):\n",
    "    if i%2 == 0:\n",
    "        numbers_new.append(k-2)\n",
    "    else:\n",
    "        numbers_new.append(k)\n",
    "\n",
    "numbers_new"
   ]
  },
  {
   "cell_type": "markdown",
   "metadata": {
    "Collapsed": "true",
    "colab_type": "text",
    "id": "oJA9RSTuZiqk"
   },
   "source": [
    "#### 8. Use zip to group each variable on the following list based on their index"
   ]
  },
  {
   "cell_type": "code",
   "execution_count": 32,
   "metadata": {
    "Collapsed": "false",
    "colab": {},
    "colab_type": "code",
    "id": "ZogobII7Ziql"
   },
   "outputs": [],
   "source": [
    "list1 = [15,2.5,3/6,334,5]\n",
    "list2 = ['t','n','o','a','e']"
   ]
  },
  {
   "cell_type": "code",
   "execution_count": 33,
   "metadata": {
    "Collapsed": "false",
    "colab": {},
    "colab_type": "code",
    "id": "qFQ0GpBmZiqo",
    "outputId": "0c8f98ab-2464-4103-846a-9c5f65312037"
   },
   "outputs": [
    {
     "data": {
      "text/plain": [
       "[(15, 't'), (2.5, 'n'), (0.5, 'o'), (334, 'a'), (5, 'e')]"
      ]
     },
     "execution_count": 33,
     "metadata": {},
     "output_type": "execute_result"
    }
   ],
   "source": [
    "list(zip(list1,list2))"
   ]
  },
  {
   "cell_type": "markdown",
   "metadata": {
    "Collapsed": "true",
    "colab_type": "text",
    "id": "598DWM83Ziqs"
   },
   "source": [
    "#### 9. Write a program which returns does elements that appear in both lists. Add them to a new list and sort it descending."
   ]
  },
  {
   "cell_type": "code",
   "execution_count": null,
   "metadata": {
    "Collapsed": "false",
    "colab": {},
    "colab_type": "code",
    "id": "yWRMdHrsZiqt"
   },
   "outputs": [],
   "source": [
    "alpha = [6,7,33,6.5,908.9,34,2*2]\n",
    "beta = [4,32,66,7,12+22]"
   ]
  },
  {
   "cell_type": "code",
   "execution_count": 13,
   "metadata": {
    "Collapsed": "false",
    "colab": {},
    "colab_type": "code",
    "id": "iQk_kAcoZiqw",
    "outputId": "a7b50260-a834-4834-f46a-7e8c5f7d7dd1"
   },
   "outputs": [
    {
     "data": {
      "text/plain": [
       "[34, 7, 4]"
      ]
     },
     "execution_count": 13,
     "metadata": {},
     "output_type": "execute_result"
    }
   ],
   "source": [
    "alphabeta = []\n",
    "for i in alpha:\n",
    "    if i in beta:\n",
    "        alphabeta.append(i)\n",
    "\n",
    "sorted(alphabeta,reverse=True)"
   ]
  },
  {
   "cell_type": "markdown",
   "metadata": {
    "Collapsed": "true",
    "colab_type": "text",
    "id": "NoevBrfwZiq0"
   },
   "source": [
    "#### 10. Write a program which returns a list with does elements in the first list that match the length of the elements in the second list."
   ]
  },
  {
   "cell_type": "code",
   "execution_count": 14,
   "metadata": {
    "Collapsed": "false",
    "colab": {},
    "colab_type": "code",
    "id": "cjsvpaEoZiq0"
   },
   "outputs": [],
   "source": [
    "bv = ['Pol','Javi','Pablo','Paco','Adri','Hector','Manu','Carlos','Ibrahim','']\n",
    "bv_num = [2,3,67,5,1,0]"
   ]
  },
  {
   "cell_type": "code",
   "execution_count": 15,
   "metadata": {
    "Collapsed": "false",
    "colab": {},
    "colab_type": "code",
    "id": "URZn3WL7Ziq4",
    "outputId": "74145da4-b615-4b63-b181-e6455514a373"
   },
   "outputs": [
    {
     "data": {
      "text/plain": [
       "[3, 5, 0]"
      ]
     },
     "execution_count": 15,
     "metadata": {},
     "output_type": "execute_result"
    }
   ],
   "source": [
    "newll = []\n",
    "for i in bv_num:\n",
    "    for k in bv:\n",
    "        if i == len(k):\n",
    "            newll.append(i)\n",
    "            \n",
    "newll"
   ]
  },
  {
   "cell_type": "markdown",
   "metadata": {
    "Collapsed": "true",
    "colab_type": "text",
    "id": "RQW2SndZZiq7"
   },
   "source": [
    "#### 11. Print a random number from a range between 100 and 4000."
   ]
  },
  {
   "cell_type": "code",
   "execution_count": 16,
   "metadata": {
    "Collapsed": "false",
    "colab": {},
    "colab_type": "code",
    "id": "mRxqbD1uZiq8"
   },
   "outputs": [],
   "source": [
    "import random\n",
    "from random import randint\n",
    "from random import shuffle\n",
    "from random import randrange\n",
    "from random import choice\n",
    "from random import sample"
   ]
  },
  {
   "cell_type": "code",
   "execution_count": 17,
   "metadata": {
    "Collapsed": "false",
    "colab": {},
    "colab_type": "code",
    "id": "7S5FLmmzZirB",
    "outputId": "422ff734-6f34-4732-8fc0-f43637408240"
   },
   "outputs": [
    {
     "data": {
      "text/plain": [
       "3286"
      ]
     },
     "execution_count": 17,
     "metadata": {},
     "output_type": "execute_result"
    }
   ],
   "source": [
    "randint(100,4000)"
   ]
  },
  {
   "cell_type": "markdown",
   "metadata": {
    "Collapsed": "true",
    "colab_type": "text",
    "id": "LlLt-n_KZirL"
   },
   "source": [
    "#### 12. Print a shuffled version of the list provided."
   ]
  },
  {
   "cell_type": "code",
   "execution_count": 18,
   "metadata": {
    "Collapsed": "false",
    "colab": {},
    "colab_type": "code",
    "id": "yKheILePZirN"
   },
   "outputs": [],
   "source": [
    "numbers2 = [2,44,564,0.3,45,6/7,9,15]"
   ]
  },
  {
   "cell_type": "code",
   "execution_count": 19,
   "metadata": {
    "Collapsed": "false",
    "colab": {},
    "colab_type": "code",
    "id": "FBr30g0EZirU",
    "outputId": "05e550dd-71b5-45e1-a21c-b0fd257536f6"
   },
   "outputs": [
    {
     "data": {
      "text/plain": [
       "[9, 564, 15, 0.8571428571428571, 2, 0.3, 44, 45]"
      ]
     },
     "execution_count": 19,
     "metadata": {},
     "output_type": "execute_result"
    }
   ],
   "source": [
    "shuffle(numbers2)\n",
    "numbers2"
   ]
  },
  {
   "cell_type": "markdown",
   "metadata": {
    "Collapsed": "true",
    "colab_type": "text",
    "id": "xz2VoqgCZirY"
   },
   "source": [
    "#### 13. Print an even random number between 0 and 10."
   ]
  },
  {
   "cell_type": "code",
   "execution_count": 20,
   "metadata": {
    "Collapsed": "false",
    "colab": {},
    "colab_type": "code",
    "id": "_cKyrybWZirZ",
    "outputId": "14bc686b-d5b2-4a59-89ab-47eef1a832da"
   },
   "outputs": [
    {
     "data": {
      "text/plain": [
       "8"
      ]
     },
     "execution_count": 20,
     "metadata": {},
     "output_type": "execute_result"
    }
   ],
   "source": [
    "randrange(0,10,2)"
   ]
  },
  {
   "cell_type": "markdown",
   "metadata": {
    "Collapsed": "true",
    "colab_type": "text",
    "id": "UA9MiMocZirb"
   },
   "source": [
    "#### 14. Print a random element from a list"
   ]
  },
  {
   "cell_type": "code",
   "execution_count": 21,
   "metadata": {
    "Collapsed": "false",
    "colab": {},
    "colab_type": "code",
    "id": "yA4bjfriZirc",
    "outputId": "c171823d-02a5-4aaf-e883-cbdefe453b4e"
   },
   "outputs": [
    {
     "data": {
      "text/plain": [
       "'ff'"
      ]
     },
     "execution_count": 21,
     "metadata": {},
     "output_type": "execute_result"
    }
   ],
   "source": [
    "choice(['t','n','o','a','e','u','ff','adf'])"
   ]
  },
  {
   "cell_type": "markdown",
   "metadata": {
    "Collapsed": "true",
    "colab_type": "text",
    "id": "uSH7GeV0Zirf"
   },
   "source": [
    "#### 15. Print a sample of 4 numbers from the list provided"
   ]
  },
  {
   "cell_type": "code",
   "execution_count": 22,
   "metadata": {
    "Collapsed": "false",
    "colab": {},
    "colab_type": "code",
    "id": "T0GwlEwWZirg"
   },
   "outputs": [],
   "source": [
    "sample = [2,5,8,9,12,66,32,56,554]"
   ]
  },
  {
   "cell_type": "code",
   "execution_count": 23,
   "metadata": {
    "Collapsed": "false",
    "colab": {},
    "colab_type": "code",
    "id": "maj4Z3vZZiri",
    "outputId": "a052fa2e-417e-47f7-f5c8-437cb5448a98"
   },
   "outputs": [
    {
     "data": {
      "text/plain": [
       "[12, 32, 9, 66]"
      ]
     },
     "execution_count": 23,
     "metadata": {},
     "output_type": "execute_result"
    }
   ],
   "source": [
    "random.sample(sample,4)"
   ]
  },
  {
   "cell_type": "markdown",
   "metadata": {
    "Collapsed": "true",
    "colab_type": "text",
    "id": "jJQMcyNsZirl"
   },
   "source": [
    "#### 16. Create a program that asks for you name"
   ]
  },
  {
   "cell_type": "code",
   "execution_count": 24,
   "metadata": {
    "Collapsed": "false",
    "colab": {},
    "colab_type": "code",
    "id": "-VefOHCmZirl",
    "outputId": "bc92e113-fa27-45a7-e61f-4f8249a7d76f"
   },
   "outputs": [
    {
     "name": "stdin",
     "output_type": "stream",
     "text": [
      "Hi there, what is your name:  Javier AKA Tabixe\n"
     ]
    },
    {
     "data": {
      "text/plain": [
       "'Javier AKA Tabixe'"
      ]
     },
     "execution_count": 24,
     "metadata": {},
     "output_type": "execute_result"
    }
   ],
   "source": [
    "input('Hi there, what is your name: ')"
   ]
  },
  {
   "cell_type": "markdown",
   "metadata": {
    "Collapsed": "true",
    "colab_type": "text",
    "id": "2EdnKIL3Zirp"
   },
   "source": [
    "#### 17. Create a program that asks for you name, age, location and returns the following output: Hi my name is _name_, I am _age_ years old and I live in _location_. Use any of the formatting you saw on day 1."
   ]
  },
  {
   "cell_type": "code",
   "execution_count": 25,
   "metadata": {
    "Collapsed": "false",
    "colab": {},
    "colab_type": "code",
    "id": "UvQfezdKZirr",
    "outputId": "428162a4-061b-4fed-972e-cd28979e751f"
   },
   "outputs": [
    {
     "name": "stdin",
     "output_type": "stream",
     "text": [
      "What is your name:  Tito Javi\n",
      "How old are you:  23\n",
      "Where are you from:  Santander\n"
     ]
    },
    {
     "name": "stdout",
     "output_type": "stream",
     "text": [
      "Hi my name is Tito Javi, I am 23 years old and I live in Santander\n"
     ]
    }
   ],
   "source": [
    "name = input(\"What is your name: \")\n",
    "age = int(input(\"How old are you: \"))\n",
    "location = input(\"Where are you from: \")\n",
    "\n",
    "print('Hi my name is {a}, I am {b} years old and I live in {c}'.format(a=name,b=age,c=location))"
   ]
  },
  {
   "cell_type": "markdown",
   "metadata": {
    "Collapsed": "true",
    "colab_type": "text",
    "id": "xmgAnQpOZirv"
   },
   "source": [
    "#### 18. Create a program that asks for you name, age and returns the year were you will be 100 years old. "
   ]
  },
  {
   "cell_type": "code",
   "execution_count": 26,
   "metadata": {
    "Collapsed": "false",
    "colab": {},
    "colab_type": "code",
    "id": "UPr_oa69Zirv",
    "outputId": "9992d499-7b58-49f9-bcab-dd70c6fa2d9d"
   },
   "outputs": [
    {
     "name": "stdin",
     "output_type": "stream",
     "text": [
      "What is your name:  iVi\n",
      "How old are you:  23\n"
     ]
    },
    {
     "name": "stdout",
     "output_type": "stream",
     "text": [
      "iVi will be 100 years old in the year 2096\n"
     ]
    }
   ],
   "source": [
    "name = input(\"What is your name: \")\n",
    "age = int(input(\"How old are you: \"))\n",
    "year = str((2019 - age)+100)\n",
    "print(name + \" will be 100 years old in the year \" + year)"
   ]
  },
  {
   "cell_type": "markdown",
   "metadata": {
    "Collapsed": "true",
    "colab_type": "text",
    "id": "j_L82f27Zir2"
   },
   "source": [
    "#### 19. Write a single function called suma that returns the sum of the following examples withoug using more than one variable. Use *args"
   ]
  },
  {
   "cell_type": "code",
   "execution_count": 27,
   "metadata": {
    "Collapsed": "false",
    "colab": {},
    "colab_type": "code",
    "id": "sSqGe-j5Zir4",
    "outputId": "4c7488b9-23be-4275-b31c-6e4095b47a66"
   },
   "outputs": [
    {
     "data": {
      "text/plain": [
       "(1, 2, 3, 5, 6)"
      ]
     },
     "execution_count": 27,
     "metadata": {},
     "output_type": "execute_result"
    }
   ],
   "source": [
    "(3,5)\n",
    "(4,5,6,7)\n",
    "(1,2,3,5,6)"
   ]
  },
  {
   "cell_type": "code",
   "execution_count": 28,
   "metadata": {
    "Collapsed": "false",
    "colab": {},
    "colab_type": "code",
    "id": "MQruDhlBZir8"
   },
   "outputs": [],
   "source": [
    "def suma(*num):\n",
    "    sum = 0\n",
    "    \n",
    "    for n in num:\n",
    "        sum = sum + n\n",
    "    print(\"Sum:\",sum)"
   ]
  },
  {
   "cell_type": "code",
   "execution_count": 29,
   "metadata": {
    "Collapsed": "false",
    "colab": {},
    "colab_type": "code",
    "id": "Lh1OFm55Zir-",
    "outputId": "2410c9a4-0b63-4a69-b21e-a8e741b6a591"
   },
   "outputs": [
    {
     "name": "stdout",
     "output_type": "stream",
     "text": [
      "Sum: 8\n",
      "Sum: 22\n",
      "Sum: 17\n"
     ]
    }
   ],
   "source": [
    "suma(3,5)\n",
    "suma(4,5,6,7)\n",
    "suma(1,2,3,5,6)"
   ]
  },
  {
   "cell_type": "markdown",
   "metadata": {
    "Collapsed": "true",
    "colab_type": "text",
    "id": "e1FjEhX3ZisA"
   },
   "source": [
    "#### 20. Write a single function called multi_suma that returns the following. Use *args."
   ]
  },
  {
   "cell_type": "markdown",
   "metadata": {
    "Collapsed": "false",
    "colab_type": "text",
    "id": "CwezudDTZisB"
   },
   "source": [
    " - multi_suma(2,3,5) = ((2x3)+(2x5)) = 16\n",
    " - multi_suma(2,3,5,5) = ((2x3)+(2x5)+(2x5)) = 26\n",
    " - multi_suma(2,55,2,9) = ((2x55)+(2x2)+(2x9)) = 132"
   ]
  },
  {
   "cell_type": "code",
   "execution_count": 30,
   "metadata": {
    "Collapsed": "false",
    "colab": {},
    "colab_type": "code",
    "id": "jYSdV3lKZisC"
   },
   "outputs": [],
   "source": [
    "def multi_suma(a,*num):\n",
    "    total = 0\n",
    "    \n",
    "    for n in num:\n",
    "        total += n * a\n",
    "    print(\"Sum:\",total)"
   ]
  },
  {
   "cell_type": "code",
   "execution_count": 31,
   "metadata": {
    "Collapsed": "false",
    "colab": {},
    "colab_type": "code",
    "id": "Np1LPT7GZisH",
    "outputId": "59009943-ac48-4314-bf12-e96b11e1a4f9"
   },
   "outputs": [
    {
     "name": "stdout",
     "output_type": "stream",
     "text": [
      "Sum: 132\n"
     ]
    }
   ],
   "source": [
    "multi_suma(2,55,2,9)"
   ]
  }
 ],
 "metadata": {
  "colab": {
   "collapsed_sections": [
    "_K0zI4UxZip5",
    "oJA9RSTuZiqk",
    "598DWM83Ziqs",
    "NoevBrfwZiq0",
    "RQW2SndZZiq7",
    "LlLt-n_KZirL",
    "xz2VoqgCZirY",
    "UA9MiMocZirb",
    "uSH7GeV0Zirf",
    "jJQMcyNsZirl",
    "2EdnKIL3Zirp",
    "xmgAnQpOZirv",
    "j_L82f27Zir2"
   ],
   "name": "Day 4 - Exercises Solutions.ipynb",
   "provenance": [],
   "version": "0.3.2"
  },
  "kernelspec": {
   "display_name": "Python 3",
   "language": "python",
   "name": "python3"
  },
  "language_info": {
   "codemirror_mode": {
    "name": "ipython",
    "version": 3
   },
   "file_extension": ".py",
   "mimetype": "text/x-python",
   "name": "python",
   "nbconvert_exporter": "python",
   "pygments_lexer": "ipython3",
   "version": "3.6.9"
  }
 },
 "nbformat": 4,
 "nbformat_minor": 4
}
