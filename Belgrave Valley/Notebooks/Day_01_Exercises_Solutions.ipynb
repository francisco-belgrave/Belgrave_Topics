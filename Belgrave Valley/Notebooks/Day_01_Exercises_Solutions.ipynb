{
 "cells": [
  {
   "cell_type": "markdown",
   "metadata": {
    "Collapsed": "false",
    "colab_type": "text",
    "id": "BvObK8uuzsDn"
   },
   "source": [
    "<img src=\"https://user-images.strikinglycdn.com/res/hrscywv4p/image/upload/c_limit,fl_lossy,h_300,w_300,f_auto,q_auto/1266110/Logo_wzxi0f.png\" style=\"float: left; margin: 20px; height: 55px\">"
   ]
  },
  {
   "cell_type": "markdown",
   "metadata": {
    "Collapsed": "true",
    "colab_type": "text",
    "id": "bqvYHjzayOxM"
   },
   "source": [
    "# 1. Lists"
   ]
  },
  {
   "cell_type": "markdown",
   "metadata": {
    "Collapsed": "false"
   },
   "source": [
    "Complete the questions using the following list:"
   ]
  },
  {
   "cell_type": "code",
   "execution_count": null,
   "metadata": {
    "Collapsed": "false",
    "colab": {},
    "colab_type": "code",
    "id": "fCrrCrAnyOxP"
   },
   "outputs": [],
   "source": [
    "mix = [12, 12.2, 'flower', 'a', (1, 2, 3)]"
   ]
  },
  {
   "cell_type": "markdown",
   "metadata": {
    "Collapsed": "true",
    "colab_type": "text",
    "id": "-VNxvDusyOyY"
   },
   "source": [
    "##### 1. add the string 'animal' to mix using .append()"
   ]
  },
  {
   "cell_type": "code",
   "execution_count": null,
   "metadata": {
    "Collapsed": "false",
    "colab": {},
    "colab_type": "code",
    "id": "FRZHpj1oyOyZ",
    "outputId": "3c9f6393-0afe-408b-fdfa-59c56e4d94cc"
   },
   "outputs": [
    {
     "name": "stdout",
     "output_type": "stream",
     "text": [
      "[12, 12.2, 'flower', 'a', (1, 2, 3), 'animal']\n"
     ]
    }
   ],
   "source": [
    "mix.append('animal')\n",
    "print(mix)"
   ]
  },
  {
   "cell_type": "markdown",
   "metadata": {
    "Collapsed": "true",
    "colab_type": "text",
    "id": "dqQTJejSyOyg"
   },
   "source": [
    "##### 2. join the list [1, 2] to mix using .extend()"
   ]
  },
  {
   "cell_type": "code",
   "execution_count": null,
   "metadata": {
    "Collapsed": "false",
    "colab": {},
    "colab_type": "code",
    "id": "ODc74pUyyOyi",
    "outputId": "4071d7b2-6998-42c1-c7ec-b772b472ab42"
   },
   "outputs": [
    {
     "name": "stdout",
     "output_type": "stream",
     "text": [
      "[12, 12.2, 'flower', 'a', (1, 2, 3), 'animal', 1, 2]\n"
     ]
    }
   ],
   "source": [
    "mix.extend([1,2])\n",
    "print(mix)"
   ]
  },
  {
   "cell_type": "markdown",
   "metadata": {
    "Collapsed": "true",
    "colab_type": "text",
    "id": "Ii6pAAhWyOyn"
   },
   "source": [
    "##### 3. add your name at the 2nd position of the list using .insert(index, your_name)"
   ]
  },
  {
   "cell_type": "code",
   "execution_count": null,
   "metadata": {
    "Collapsed": "false",
    "colab": {},
    "colab_type": "code",
    "id": "foayfH0fyOyp",
    "outputId": "04dded52-7fef-43ec-9245-38892540caa1"
   },
   "outputs": [
    {
     "name": "stdout",
     "output_type": "stream",
     "text": [
      "[12, 'kiefer', 12.2, 'flower', 'a', (1, 2, 3), 'animal', 1, 2]\n"
     ]
    }
   ],
   "source": [
    "mix.insert(1, 'kiefer')\n",
    "print(mix)"
   ]
  },
  {
   "cell_type": "markdown",
   "metadata": {
    "Collapsed": "true",
    "colab_type": "text",
    "id": "2gOI43dMyOyu"
   },
   "source": [
    "##### 4. remove 'flower' from the list using .remove()"
   ]
  },
  {
   "cell_type": "code",
   "execution_count": null,
   "metadata": {
    "Collapsed": "false",
    "colab": {},
    "colab_type": "code",
    "id": "KT6z_M-SyOyx",
    "outputId": "24a84edb-1375-415a-8484-030b7a326b6e"
   },
   "outputs": [
    {
     "name": "stdout",
     "output_type": "stream",
     "text": [
      "[12, 'kiefer', 12.2, 'a', (1, 2, 3), 'animal', 1, 2]\n"
     ]
    }
   ],
   "source": [
    "mix.remove('flower')\n",
    "print(mix)"
   ]
  },
  {
   "cell_type": "markdown",
   "metadata": {
    "Collapsed": "true",
    "colab_type": "text",
    "id": "qCqfHH2RyOy2"
   },
   "source": [
    "##### 5. count the number of times 12 appears in the list using .count()"
   ]
  },
  {
   "cell_type": "code",
   "execution_count": null,
   "metadata": {
    "Collapsed": "false",
    "colab": {},
    "colab_type": "code",
    "id": "vmlaxgxEyOy4",
    "outputId": "f1984829-11b5-4d45-c9cc-2545d4596412"
   },
   "outputs": [
    {
     "data": {
      "text/plain": [
       "1"
      ]
     },
     "execution_count": 19,
     "metadata": {
      "tags": []
     },
     "output_type": "execute_result"
    }
   ],
   "source": [
    "mix.count(12)"
   ]
  },
  {
   "cell_type": "markdown",
   "metadata": {
    "Collapsed": "true",
    "colab_type": "text",
    "id": "lINuWj3UyOy-"
   },
   "source": [
    "##### 6. find the index integer of your name in the list using .index()"
   ]
  },
  {
   "cell_type": "code",
   "execution_count": null,
   "metadata": {
    "Collapsed": "false",
    "colab": {},
    "colab_type": "code",
    "id": "eN2pARd0yOzA",
    "outputId": "d3df3767-0681-4f0e-e12a-f2378faa6f5e"
   },
   "outputs": [
    {
     "data": {
      "text/plain": [
       "1"
      ]
     },
     "execution_count": 20,
     "metadata": {
      "tags": []
     },
     "output_type": "execute_result"
    }
   ],
   "source": [
    "mix.index('kiefer')"
   ]
  },
  {
   "cell_type": "markdown",
   "metadata": {
    "Collapsed": "true",
    "colab_type": "text",
    "id": "lWQokL3ZyOzG"
   },
   "source": [
    "##### 7. remove the last element of the list and assign it to a variable with .pop()"
   ]
  },
  {
   "cell_type": "code",
   "execution_count": null,
   "metadata": {
    "Collapsed": "false",
    "colab": {},
    "colab_type": "code",
    "id": "VHw8Vu9vyOzI",
    "outputId": "4810aa63-1f19-40ad-c659-0f7ce158273c"
   },
   "outputs": [
    {
     "name": "stdout",
     "output_type": "stream",
     "text": [
      "animal\n",
      "[12, 'kiefer', 12.2, 'a', (1, 2, 3)]\n"
     ]
    }
   ],
   "source": [
    "var = mix.pop()\n",
    "print(var)\n",
    "print(mix)"
   ]
  },
  {
   "cell_type": "markdown",
   "metadata": {
    "Collapsed": "true",
    "colab_type": "text",
    "id": "onGTsVqAyOzN"
   },
   "source": [
    "##### 8. reverse the order of the elements in the list with .reverse()"
   ]
  },
  {
   "cell_type": "code",
   "execution_count": null,
   "metadata": {
    "Collapsed": "false",
    "colab": {},
    "colab_type": "code",
    "id": "gBlYRo2LyOzO",
    "outputId": "26f1f216-195c-46f5-93ce-6805e20a9eaf"
   },
   "outputs": [
    {
     "name": "stdout",
     "output_type": "stream",
     "text": [
      "[(1, 2, 3), 'a', 12.2, 'kiefer', 12]\n"
     ]
    }
   ],
   "source": [
    "mix.reverse()\n",
    "print(mix)"
   ]
  },
  {
   "cell_type": "markdown",
   "metadata": {
    "Collapsed": "true",
    "colab_type": "text",
    "id": "MFa-QXI3yOzT"
   },
   "source": [
    "##### 9. Create a list of integers and floats and sort it using .sort()"
   ]
  },
  {
   "cell_type": "code",
   "execution_count": null,
   "metadata": {
    "Collapsed": "false",
    "colab": {},
    "colab_type": "code",
    "id": "9cqWDSwKyOzV"
   },
   "outputs": [],
   "source": []
  },
  {
   "cell_type": "markdown",
   "metadata": {
    "Collapsed": "true",
    "colab_type": "text",
    "id": "P3eG0tiayOzZ"
   },
   "source": [
    "# 2. Foor Loops"
   ]
  },
  {
   "cell_type": "code",
   "execution_count": null,
   "metadata": {
    "Collapsed": "false",
    "colab": {},
    "colab_type": "code",
    "id": "tVQC8njKyOza"
   },
   "outputs": [],
   "source": [
    "numbers = [2,3,55,6,0.7,33,2,6765,80006]"
   ]
  },
  {
   "cell_type": "markdown",
   "metadata": {
    "Collapsed": "true",
    "colab_type": "text",
    "id": "rB6mTfZPyOze"
   },
   "source": [
    "##### 1. Print each number within the list"
   ]
  },
  {
   "cell_type": "code",
   "execution_count": null,
   "metadata": {
    "Collapsed": "false",
    "colab": {},
    "colab_type": "code",
    "id": "G-5lenMfyOzj",
    "outputId": "164d6d4c-7d66-407a-e47c-be865b859a6e"
   },
   "outputs": [
    {
     "name": "stdout",
     "output_type": "stream",
     "text": [
      "2\n",
      "3\n",
      "55\n",
      "6\n",
      "0.7\n",
      "33\n",
      "2\n",
      "6765\n",
      "80006\n"
     ]
    }
   ],
   "source": [
    "for i in numbers:\n",
    "    print (i)"
   ]
  },
  {
   "cell_type": "markdown",
   "metadata": {
    "Collapsed": "true",
    "colab_type": "text",
    "id": "UV2OFKEjyOzq"
   },
   "source": [
    "##### 2. Substract 20 to each elemens in the list and append it to a new list."
   ]
  },
  {
   "cell_type": "code",
   "execution_count": null,
   "metadata": {
    "Collapsed": "false",
    "colab": {},
    "colab_type": "code",
    "id": "IGcsHvOMyOzr",
    "outputId": "6903ae9d-7daf-4e04-cb2a-e2fc402c99cb"
   },
   "outputs": [
    {
     "name": "stdout",
     "output_type": "stream",
     "text": [
      "[-18, -17, 35, -14, -19.3, 13, -18, 6745, 79986]\n"
     ]
    }
   ],
   "source": [
    "numbers2 = []\n",
    "for i in numbers:\n",
    "    numbers2.append(i-20)\n",
    "print(numbers2)"
   ]
  },
  {
   "cell_type": "markdown",
   "metadata": {
    "Collapsed": "true",
    "colab_type": "text",
    "id": "mCHk8JyAyOzu"
   },
   "source": [
    "##### 3. Multiply each element in the list from the previous exercise by 3 and append it to a new list."
   ]
  },
  {
   "cell_type": "code",
   "execution_count": null,
   "metadata": {
    "Collapsed": "false",
    "colab": {},
    "colab_type": "code",
    "id": "DqF1SdwhyOzw",
    "outputId": "483c89f3-e1d7-4526-d8d1-17d98fda9b51"
   },
   "outputs": [
    {
     "name": "stdout",
     "output_type": "stream",
     "text": [
      "[6, 9, 165, 18, 2.0999999999999996, 99, 6, 20295, 240018]\n"
     ]
    }
   ],
   "source": [
    "numbers3 = []\n",
    "for i in numbers:\n",
    "    numbers3.append(i*3)\n",
    "print(numbers3)"
   ]
  },
  {
   "cell_type": "markdown",
   "metadata": {
    "Collapsed": "true",
    "colab_type": "text",
    "id": "9mJcDNhXyOz0"
   },
   "source": [
    "##### 4. Divide each element in the list from the previous exercise by 6 and append it to a new list."
   ]
  },
  {
   "cell_type": "code",
   "execution_count": null,
   "metadata": {
    "Collapsed": "false",
    "colab": {},
    "colab_type": "code",
    "id": "lNhjBPsOyOz2",
    "outputId": "08f9fa2d-5edb-4a44-f3c9-dc48957725d2"
   },
   "outputs": [
    {
     "name": "stdout",
     "output_type": "stream",
     "text": [
      "[0.3333333333333333, 0.5, 9.166666666666666, 1.0, 0.11666666666666665, 5.5, 0.3333333333333333, 1127.5, 13334.333333333334]\n"
     ]
    }
   ],
   "source": [
    "numbers4 = []\n",
    "for i in numbers:\n",
    "    numbers4.append(i/6)\n",
    "print(numbers4)"
   ]
  },
  {
   "cell_type": "markdown",
   "metadata": {
    "Collapsed": "true",
    "colab_type": "text",
    "id": "6zLT5aOwyOz6"
   },
   "source": [
    "##### 5. Apply and exponential/power of 2 to each element in the list from the previous exercise and append it to a new list."
   ]
  },
  {
   "cell_type": "code",
   "execution_count": null,
   "metadata": {
    "Collapsed": "false",
    "colab": {},
    "colab_type": "code",
    "id": "EYuyoagVyOz7",
    "outputId": "68ac98f4-b820-4989-db5d-95593c951d20"
   },
   "outputs": [
    {
     "name": "stdout",
     "output_type": "stream",
     "text": [
      "[4, 9, 3025, 36, 0.48999999999999994, 1089, 4, 45765225, 6400960036]\n"
     ]
    }
   ],
   "source": [
    "numbers5 = []\n",
    "for i in numbers:\n",
    "    numbers5.append(i**2)\n",
    "print(numbers5)"
   ]
  },
  {
   "cell_type": "code",
   "execution_count": null,
   "metadata": {
    "Collapsed": "false",
    "colab": {},
    "colab_type": "code",
    "id": "nydWjlMUyO0E"
   },
   "outputs": [],
   "source": []
  }
 ],
 "metadata": {
  "anaconda-cloud": {},
  "colab": {
   "collapsed_sections": [],
   "name": "Day 1 - Exercises Solutions.ipynb",
   "provenance": [],
   "version": "0.3.2"
  },
  "kernelspec": {
   "display_name": "Python 3",
   "language": "python",
   "name": "python3"
  },
  "language_info": {
   "codemirror_mode": {
    "name": "ipython",
    "version": 3
   },
   "file_extension": ".py",
   "mimetype": "text/x-python",
   "name": "python",
   "nbconvert_exporter": "python",
   "pygments_lexer": "ipython3",
   "version": "3.7.3"
  }
 },
 "nbformat": 4,
 "nbformat_minor": 4
}
