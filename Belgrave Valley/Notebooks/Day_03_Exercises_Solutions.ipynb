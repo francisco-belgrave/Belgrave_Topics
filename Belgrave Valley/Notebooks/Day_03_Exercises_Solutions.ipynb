{
 "cells": [
  {
   "cell_type": "markdown",
   "metadata": {
    "Collapsed": "false",
    "colab_type": "text",
    "id": "qeSdnClZw3VJ"
   },
   "source": [
    "<img src=\"https://user-images.strikinglycdn.com/res/hrscywv4p/image/upload/c_limit,fl_lossy,h_300,w_300,f_auto,q_auto/1266110/Logo_wzxi0f.png\" style=\"float: left; margin: 20px; height: 55px\">"
   ]
  },
  {
   "cell_type": "markdown",
   "metadata": {
    "Collapsed": "true",
    "colab_type": "text",
    "id": "b8o2IvKFw1ls"
   },
   "source": [
    "## 1. Comparison Operatos"
   ]
  },
  {
   "cell_type": "markdown",
   "metadata": {
    "Collapsed": "true",
    "colab_type": "text",
    "id": "tGlBg5Ryw1lu"
   },
   "source": [
    "#### 1. Given variables x and y please provide a program that returns the following output:"
   ]
  },
  {
   "cell_type": "code",
   "execution_count": null,
   "metadata": {
    "Collapsed": "false",
    "colab": {},
    "colab_type": "code",
    "id": "OB9PulDRw1lv"
   },
   "outputs": [],
   "source": [
    "x = 10\n",
    "y = 12\n",
    "\n",
    "# Output: x > y is False\n",
    "\n",
    "# Output: x < y is True\n",
    "\n",
    "# Output: x == y is False\n",
    "\n",
    "# Output: x != y is True\n",
    "\n",
    "# Output: x >= y is False\n",
    "\n",
    "# Output: x <= y is True\n"
   ]
  },
  {
   "cell_type": "code",
   "execution_count": null,
   "metadata": {
    "Collapsed": "false",
    "colab": {},
    "colab_type": "code",
    "id": "WEwWuhYdw1lz",
    "outputId": "ebd43c63-234b-454e-aa70-00f65d8ef359"
   },
   "outputs": [
    {
     "name": "stdout",
     "output_type": "stream",
     "text": [
      "x > y  is False\n",
      "x < y  is True\n",
      "x == y is False\n",
      "x != y is True\n",
      "x >= y is False\n",
      "x <= y is True\n"
     ]
    }
   ],
   "source": [
    "x = 10\n",
    "y = 12\n",
    "# Output: x > y is False\n",
    "print('x > y  is',x>y)\n",
    "# Output: x < y is True\n",
    "print('x < y  is',x<y)\n",
    "# Output: x == y is False\n",
    "print('x == y is',x==y)\n",
    "# Output: x != y is True\n",
    "print('x != y is',x!=y)\n",
    "# Output: x >= y is False\n",
    "print('x >= y is',x>=y)\n",
    "# Output: x <= y is True\n",
    "print('x <= y is',x<=y)"
   ]
  },
  {
   "cell_type": "markdown",
   "metadata": {
    "Collapsed": "true",
    "colab_type": "text",
    "id": "XwMDnwsCw1l3"
   },
   "source": [
    "#### 2. Given the variables below please provide a program that returns the following output using _is_ and _is not_:"
   ]
  },
  {
   "cell_type": "code",
   "execution_count": null,
   "metadata": {
    "Collapsed": "false",
    "colab": {},
    "colab_type": "code",
    "id": "5l42bmT7w1l4"
   },
   "outputs": [],
   "source": [
    "x1 = 5\n",
    "y1 = 5\n",
    "x2 = 'Hello'\n",
    "y2 = 'Hello'\n",
    "x3 = [1,2,3]\n",
    "y3 = [1,2,3]\n",
    "\n",
    "# Output: False\n",
    "\n",
    "# Output: True\n",
    "\n",
    "# Output: False\n"
   ]
  },
  {
   "cell_type": "code",
   "execution_count": null,
   "metadata": {
    "Collapsed": "false",
    "colab": {},
    "colab_type": "code",
    "id": "cgsp9rJdw1l7",
    "outputId": "6aea0288-387c-4677-a752-a3f7cce0872c"
   },
   "outputs": [
    {
     "name": "stdout",
     "output_type": "stream",
     "text": [
      "False\n",
      "True\n",
      "False\n"
     ]
    }
   ],
   "source": [
    "x1 = 5\n",
    "y1 = 5\n",
    "x2 = 'Hello'\n",
    "y2 = 'Hello'\n",
    "x3 = [1,2,3]\n",
    "y3 = [1,2,3]\n",
    "# Output: False\n",
    "print(x1 is not y1)\n",
    "# Output: True\n",
    "print(x2 is y2)\n",
    "# Output: False\n",
    "print(x3 is y3)"
   ]
  },
  {
   "cell_type": "markdown",
   "metadata": {
    "Collapsed": "true",
    "colab_type": "text",
    "id": "1RH7MQtpw1l-"
   },
   "source": [
    "## 2. Chained Comparison Operatos"
   ]
  },
  {
   "cell_type": "markdown",
   "metadata": {
    "Collapsed": "true",
    "colab_type": "text",
    "id": "BlBngkupw1l_"
   },
   "source": [
    "#### 3. Considering the elements below what do you think the expressions will return, True or False?\n",
    "\n",
    " a, b, c, d, e, f = 0, 5, 12, 0, 15, 15\n",
    " \n",
    "- exp1: a <= b < c > d is not e is f \n",
    "- exp2: a is d > f is not c "
   ]
  },
  {
   "cell_type": "code",
   "execution_count": null,
   "metadata": {
    "Collapsed": "false",
    "colab": {},
    "colab_type": "code",
    "id": "B6f5ntnmw1mA",
    "outputId": "b0b245b7-c734-4d2d-d34b-bd283dc46d9b"
   },
   "outputs": [
    {
     "name": "stdout",
     "output_type": "stream",
     "text": [
      "True\n",
      "False\n"
     ]
    }
   ],
   "source": [
    "exp1 = a <= b < c > d is not e is f \n",
    "exp2 = a is d > f is not c \n",
    "\n",
    "print(exp1)\n",
    "print(exp2)"
   ]
  },
  {
   "cell_type": "markdown",
   "metadata": {
    "Collapsed": "true",
    "colab_type": "text",
    "id": "gmSW1LU5w1mD"
   },
   "source": [
    "#### 4. Considering the elements below what do you think the expressions will return, True or False?"
   ]
  },
  {
   "cell_type": "code",
   "execution_count": null,
   "metadata": {
    "Collapsed": "false",
    "colab": {},
    "colab_type": "code",
    "id": "ap874janw1mE"
   },
   "outputs": [],
   "source": [
    "u = 5\n",
    "v = 10\n",
    "w = 15\n",
    "x = 0\n",
    "y = 7\n",
    "z = 15\n",
    "\n",
    "# The w is same as z but not same as v, v is greater than x, which is less than y\n",
    "\n",
    "# Check whether w and z are same and x < z > y or not\n",
    "\n",
    "# Check if u times 2 plues v times 2 is equal to z plus v plus u\n"
   ]
  },
  {
   "cell_type": "code",
   "execution_count": null,
   "metadata": {
    "Collapsed": "false",
    "colab": {},
    "colab_type": "code",
    "id": "43dVZ3R9w1mH",
    "outputId": "ae6380c5-170e-438d-b216-ed11b996c317"
   },
   "outputs": [
    {
     "name": "stdout",
     "output_type": "stream",
     "text": [
      "True\n",
      "True\n",
      "True\n"
     ]
    }
   ],
   "source": [
    "# The w is same as z but not same as v, v is greater than x, which is less than y\n",
    "print(z is w is not v > x < y)\n",
    "# Check whether w and z are same and x < z > y or not\n",
    "print(x < w == z > y)\n",
    "# Check if u times 2 plues v times 2 is equal to z plus v plus u\n",
    "print(u*2 + v*2 == z+v+u)"
   ]
  },
  {
   "cell_type": "markdown",
   "metadata": {
    "Collapsed": "true",
    "colab_type": "text",
    "id": "-NoR8s0Bw1mL"
   },
   "source": [
    "## 3. Functions"
   ]
  },
  {
   "cell_type": "markdown",
   "metadata": {
    "Collapsed": "true",
    "colab_type": "text",
    "id": "-rW8IGtgw1mM"
   },
   "source": [
    "#### 5. Write a function that returns the area of a square using one argument. The ouput should be: \n",
    "- 'The area of a square using a function with one argument (side 5) is: '"
   ]
  },
  {
   "cell_type": "code",
   "execution_count": null,
   "metadata": {
    "Collapsed": "false",
    "colab": {},
    "colab_type": "code",
    "id": "4SP7qpw1w1mN",
    "outputId": "15ff3e94-6428-4b58-90db-42ea47cb9881"
   },
   "outputs": [
    {
     "name": "stdout",
     "output_type": "stream",
     "text": [
      "The area of a square using a function with one argument (side 5) is: 25.\n"
     ]
    }
   ],
   "source": [
    "def areaSquare(side): \n",
    "    area=side**2\n",
    "    return area\n",
    "\n",
    "print ('The area of a square using a function with one argument (side 5) is: '+ str(areaSquare(5)) + '.')\n"
   ]
  },
  {
   "cell_type": "markdown",
   "metadata": {
    "Collapsed": "true",
    "colab_type": "text",
    "id": "v5qpjgREw1mR"
   },
   "source": [
    "#### 6. Write a function that returns the area of a rectangel using two arguments. The ouput should be\n",
    "- 'The area of a rectangle using a function with two arguments (length 5 and breadth 6) is: '"
   ]
  },
  {
   "cell_type": "code",
   "execution_count": null,
   "metadata": {
    "Collapsed": "false",
    "colab": {},
    "colab_type": "code",
    "id": "c0uiQQr2w1mT",
    "outputId": "65b3fa9f-9585-469c-c544-d558f1f5c637"
   },
   "outputs": [
    {
     "name": "stdout",
     "output_type": "stream",
     "text": [
      "The area of a rectangle using a function with two arguments (length 5 and breadth 6) is: 30.\n"
     ]
    }
   ],
   "source": [
    "# write a function with two arguments. Find the area of a rectangle. \n",
    "def areaRect(length,breadth):\n",
    "    area=length*breadth\n",
    "    return area\n",
    "\n",
    "print ('The area of a rectangle using a function with two arguments (length 5 and breadth 6) is: ' + str(areaRect(5,6))+'.')"
   ]
  },
  {
   "cell_type": "markdown",
   "metadata": {
    "Collapsed": "true",
    "colab_type": "text",
    "id": "gLpRjMfsw1mW"
   },
   "source": [
    "#### 7. Write a function that returns the surface area of a cuboid using three arguments. The ouput should be:\n",
    "- 'The surface area of a cuboid using a function with three arguements (length 5, breadth 6, and height 7) is:'"
   ]
  },
  {
   "cell_type": "code",
   "execution_count": null,
   "metadata": {
    "Collapsed": "false",
    "colab": {},
    "colab_type": "code",
    "id": "lE_MWA4zw1mX",
    "outputId": "49a6fbfd-9df3-4927-938f-da2c3e407b4c",
    "scrolled": true
   },
   "outputs": [
    {
     "name": "stdout",
     "output_type": "stream",
     "text": [
      "The surface area of a cuboid using a function with three arguements (length 5, breadth 6, and height 7) is: 214.\n"
     ]
    }
   ],
   "source": [
    "# write a function with three arguments. Find the surface area of cuboid.\n",
    "def surfaceAreaCuboid(length,breadth,height): \n",
    "    area=2*(length*breadth+breadth*height+length*height)\n",
    "    return area\n",
    "\n",
    "print ('The surface area of a cuboid using a function with three arguements (length 5, breadth 6, and height 7) is: ' + str(surfaceAreaCuboid(5,6,7))+'.')\n"
   ]
  },
  {
   "cell_type": "markdown",
   "metadata": {
    "Collapsed": "true",
    "colab_type": "text",
    "id": "T6OQQiu4w1ma"
   },
   "source": [
    "#### 8. Write a Python function to multiply all the numbers in a list."
   ]
  },
  {
   "cell_type": "code",
   "execution_count": null,
   "metadata": {
    "Collapsed": "false",
    "colab": {},
    "colab_type": "code",
    "id": "XnoW7F64w1mb"
   },
   "outputs": [],
   "source": [
    "multi = [8, 2, 3, -1, 7]"
   ]
  },
  {
   "cell_type": "code",
   "execution_count": null,
   "metadata": {
    "Collapsed": "false",
    "colab": {},
    "colab_type": "code",
    "id": "kfPxDt6ew1md"
   },
   "outputs": [],
   "source": [
    "def multiply(numbers):  \n",
    "    total = 1\n",
    "    for x in numbers:\n",
    "        total *= x  \n",
    "    return total\n",
    "\n",
    "print(multiply(multi))"
   ]
  },
  {
   "cell_type": "markdown",
   "metadata": {
    "Collapsed": "true",
    "colab_type": "text",
    "id": "yVSc4Jmkw1mg"
   },
   "source": [
    "#### 9. Write a Python program to reverse a string."
   ]
  },
  {
   "cell_type": "code",
   "execution_count": null,
   "metadata": {
    "Collapsed": "false",
    "colab": {},
    "colab_type": "code",
    "id": "LHExSE1Vw1mh",
    "outputId": "667257bc-b016-4d0e-e8c4-d6e48a0e60aa"
   },
   "outputs": [
    {
     "name": "stdout",
     "output_type": "stream",
     "text": [
      "dcba4321\n"
     ]
    }
   ],
   "source": [
    "def string_reverse(str1):\n",
    "\n",
    "    rstr1 = ''\n",
    "    index = len(str1)\n",
    "    while index > 0  index<0:\n",
    "        rstr1 += str1[ index - 1 ]\n",
    "        index = index - 1\n",
    "    return rstr1\n",
    "\n",
    "print(string_reverse('1234abcd'))"
   ]
  },
  {
   "cell_type": "code",
   "execution_count": null,
   "metadata": {
    "Collapsed": "false",
    "colab": {},
    "colab_type": "code",
    "id": "nH43_wSsw1mk"
   },
   "outputs": [],
   "source": [
    "def reverse(str):\n",
    "    return str [::-1]"
   ]
  },
  {
   "cell_type": "code",
   "execution_count": null,
   "metadata": {
    "Collapsed": "false",
    "colab": {},
    "colab_type": "code",
    "id": "phqSVGTHw1mn",
    "outputId": "6994eb3a-6da6-4ab7-9eb0-4c87209dbefd"
   },
   "outputs": [
    {
     "data": {
      "text/plain": [
       "'dcba4321'"
      ]
     },
     "execution_count": 160,
     "metadata": {
      "tags": []
     },
     "output_type": "execute_result"
    }
   ],
   "source": [
    "reverse('1234abcd')"
   ]
  },
  {
   "cell_type": "markdown",
   "metadata": {
    "Collapsed": "true",
    "colab_type": "text",
    "id": "JakVvmIEw1mq"
   },
   "source": [
    "#### 10. Write a Python function to check whether a number is in the range between 3 and 12. If the number is within the range the function should return -number- is in the range!, if is not the function should return 'The number is outside the given range.'"
   ]
  },
  {
   "cell_type": "code",
   "execution_count": null,
   "metadata": {
    "Collapsed": "false",
    "colab": {},
    "colab_type": "code",
    "id": "hCmG4hw8w1mr",
    "outputId": "a77385c1-6396-40b7-ee3b-52a3bc6bba82"
   },
   "outputs": [
    {
     "name": "stdout",
     "output_type": "stream",
     "text": [
      " 5 is in the range\n"
     ]
    }
   ],
   "source": [
    "def test_range(n):\n",
    "    if n in range(3,9):\n",
    "        print( \" %s is in the range\"%str(n))\n",
    "    else :\n",
    "        print(\"The number is outside the given range.\")\n",
    "test_range(5)"
   ]
  },
  {
   "cell_type": "markdown",
   "metadata": {
    "Collapsed": "false",
    "colab_type": "text",
    "id": "NsU1iGYaw1mv"
   },
   "source": [
    "---"
   ]
  },
  {
   "cell_type": "markdown",
   "metadata": {
    "Collapsed": "true",
    "colab_type": "text",
    "id": "0WhjlZi0w1mx"
   },
   "source": [
    "## 3.1 Funcitions with dictionaries"
   ]
  },
  {
   "cell_type": "code",
   "execution_count": null,
   "metadata": {
    "Collapsed": "false",
    "colab": {},
    "colab_type": "code",
    "id": "b_C0e27Yw1my"
   },
   "outputs": [],
   "source": [
    "# Dictionary of movies\n",
    "\n",
    "movies = [\n",
    "{\n",
    "\"name\": \"Usual Suspects\", \n",
    "\"imdb\": 7.0,\n",
    "\"category\": \"Thriller\"\n",
    "},\n",
    "{\n",
    "\"name\": \"Hitman\",\n",
    "\"imdb\": 6.3,\n",
    "\"category\": \"Action\"\n",
    "},\n",
    "{\n",
    "\"name\": \"Dark Knight\",\n",
    "\"imdb\": 9.0,\n",
    "\"category\": \"Adventure\"\n",
    "},\n",
    "{\n",
    "\"name\": \"The Help\",\n",
    "\"imdb\": 8.0,\n",
    "\"category\": \"Drama\"\n",
    "},\n",
    "{\n",
    "\"name\": \"The Choice\",\n",
    "\"imdb\": 6.2,\n",
    "\"category\": \"Romance\"\n",
    "},\n",
    "{\n",
    "\"name\": \"Colonia\",\n",
    "\"imdb\": 7.4,\n",
    "\"category\": \"Romance\"\n",
    "},\n",
    "{\n",
    "\"name\": \"Love\",\n",
    "\"imdb\": 6.0,\n",
    "\"category\": \"Romance\"\n",
    "},\n",
    "{\n",
    "\"name\": \"Bride Wars\",\n",
    "\"imdb\": 5.4,\n",
    "\"category\": \"Romance\"\n",
    "},\n",
    "{\n",
    "\"name\": \"AlphaJet\",\n",
    "\"imdb\": 3.2,\n",
    "\"category\": \"War\"\n",
    "},\n",
    "{\n",
    "\"name\": \"Ringing Crime\",\n",
    "\"imdb\": 4.0,\n",
    "\"category\": \"Crime\"\n",
    "},\n",
    "{\n",
    "\"name\": \"Joking muck\",\n",
    "\"imdb\": 7.2,\n",
    "\"category\": \"Comedy\"\n",
    "},\n",
    "{\n",
    "\"name\": \"What is the name\",\n",
    "\"imdb\": 9.2,\n",
    "\"category\": \"Suspense\"\n",
    "},\n",
    "{\n",
    "\"name\": \"Detective\",\n",
    "\"imdb\": 7.0,\n",
    "\"category\": \"Suspense\"\n",
    "},\n",
    "{\n",
    "\"name\": \"Exam\",\n",
    "\"imdb\": 4.2,\n",
    "\"category\": \"Thriller\"\n",
    "},\n",
    "{\n",
    "\"name\": \"We Two\",\n",
    "\"imdb\": 7.2,\n",
    "\"category\": \"Romance\"\n",
    "}\n",
    "]"
   ]
  },
  {
   "cell_type": "markdown",
   "metadata": {
    "Collapsed": "true",
    "colab_type": "text",
    "id": "abYAhKdGw1m2"
   },
   "source": [
    "#### 11. Write a function that the rating of the movie and returns ' movie_name it is a great movie' if the rating is bigger or equal to 5.5. If it is not then print 'this is a shity movie'"
   ]
  },
  {
   "cell_type": "code",
   "execution_count": null,
   "metadata": {
    "Collapsed": "false",
    "colab": {},
    "colab_type": "code",
    "id": "5ke1Tpdqw1m3"
   },
   "outputs": [],
   "source": [
    "def check(name):\n",
    "    for i in movies:\n",
    "        if i['name'] == name and i['imdb'] >= 5.5:\n",
    "            print( i['name']+' it is a great movie')\n",
    "        elif i['name'] == name and i['imdb'] < 5.5:\n",
    "            print ('this is a shity movie')"
   ]
  },
  {
   "cell_type": "code",
   "execution_count": null,
   "metadata": {
    "Collapsed": "false",
    "colab": {},
    "colab_type": "code",
    "id": "c-GC7lgBw1m6",
    "outputId": "1797e16e-f0c1-4605-d417-fdb0aac80ca2"
   },
   "outputs": [
    {
     "name": "stdout",
     "output_type": "stream",
     "text": [
      "What is the name it is a great movie\n"
     ]
    }
   ],
   "source": [
    "check('What is the name')"
   ]
  },
  {
   "cell_type": "markdown",
   "metadata": {
    "Collapsed": "true",
    "colab_type": "text",
    "id": "kBDzGZztw1m-"
   },
   "source": [
    "#### 12. Write a function that returns a sublist of movies with an IMDB score above 6. "
   ]
  },
  {
   "cell_type": "code",
   "execution_count": null,
   "metadata": {
    "Collapsed": "false",
    "colab": {},
    "colab_type": "code",
    "id": "n6vKnXPkw1m_"
   },
   "outputs": [],
   "source": [
    "def goodmovies(movies):\n",
    "    good = []\n",
    "    for i in movies:\n",
    "        if i['imdb'] > 5.5:\n",
    "            good.append(i['name'])\n",
    "    return good"
   ]
  },
  {
   "cell_type": "code",
   "execution_count": null,
   "metadata": {
    "Collapsed": "false",
    "colab": {},
    "colab_type": "code",
    "id": "pAK6jL_vw1nC",
    "outputId": "319b3ea1-b6e9-4b0b-ccf7-96dfe9a0106e"
   },
   "outputs": [
    {
     "data": {
      "text/plain": [
       "['Usual Suspects',\n",
       " 'Hitman',\n",
       " 'Dark Knight',\n",
       " 'The Help',\n",
       " 'The Choice',\n",
       " 'Colonia',\n",
       " 'Love',\n",
       " 'Joking muck',\n",
       " 'What is the name',\n",
       " 'Detective',\n",
       " 'We Two']"
      ]
     },
     "execution_count": 132,
     "metadata": {
      "tags": []
     },
     "output_type": "execute_result"
    }
   ],
   "source": [
    "goodmovies(movies)"
   ]
  },
  {
   "cell_type": "markdown",
   "metadata": {
    "Collapsed": "true",
    "colab_type": "text",
    "id": "ZwDncTubw1nF"
   },
   "source": [
    "#### 13. Write a function that takes a category name and returns just those movies under that category."
   ]
  },
  {
   "cell_type": "code",
   "execution_count": null,
   "metadata": {
    "Collapsed": "false",
    "colab": {},
    "colab_type": "code",
    "id": "YxsYf5HXw1nF",
    "outputId": "f397f37f-96c3-42cd-c8b8-735249ae077b"
   },
   "outputs": [
    {
     "data": {
      "text/plain": [
       "['Usual Suspects', 'Exam']"
      ]
     },
     "execution_count": 134,
     "metadata": {
      "tags": []
     },
     "output_type": "execute_result"
    }
   ],
   "source": [
    "\n",
    "def returnMovieCategory(movies,cat_name): \n",
    "    in_category=[]\n",
    "    for i in movies:\n",
    "        curr_cat=i['category']\n",
    "        if cat_name.lower()==curr_cat.lower():\n",
    "            in_category.append(i['name'])\n",
    "    return in_category\n",
    "\n",
    "# You could change to any category you'd like\n",
    "returnMovieCategory(movies, 'Thriller')"
   ]
  },
  {
   "cell_type": "markdown",
   "metadata": {
    "Collapsed": "true",
    "colab_type": "text",
    "id": "fVftsKqww1nI"
   },
   "source": [
    "#### 14. Write a function that takes a list of movies in a category and computes the average IMDB score. You will have to pass two parameters."
   ]
  },
  {
   "cell_type": "code",
   "execution_count": null,
   "metadata": {
    "Collapsed": "false",
    "colab": {},
    "colab_type": "code",
    "id": "TR5dv4E9w1nJ"
   },
   "outputs": [],
   "source": [
    "def avgcategory(movies,category):\n",
    "    scores = []\n",
    "    for i in movies:\n",
    "        if i['category'] == category:\n",
    "            scores.append(i['imdb'])\n",
    "    avg = sum(scores)/len(scores)\n",
    "    return 'the average score in '+category+' category is '+ str(avg)"
   ]
  },
  {
   "cell_type": "code",
   "execution_count": null,
   "metadata": {
    "Collapsed": "false",
    "colab": {},
    "colab_type": "code",
    "id": "LHmEVAgXw1nL",
    "outputId": "d0e8d87a-98e0-4f9c-c26d-1a0fb0e49ef3"
   },
   "outputs": [
    {
     "data": {
      "text/plain": [
       "'the average score in Thriller category is 5.6'"
      ]
     },
     "execution_count": 145,
     "metadata": {
      "tags": []
     },
     "output_type": "execute_result"
    }
   ],
   "source": [
    "avgcategory(movies,'Thriller')"
   ]
  },
  {
   "cell_type": "markdown",
   "metadata": {
    "Collapsed": "true",
    "colab_type": "text",
    "id": "fT7pB5Oww1nO"
   },
   "source": [
    "#### 15. Write a function that takes a list of movies and computes the average IMDB score."
   ]
  },
  {
   "cell_type": "code",
   "execution_count": null,
   "metadata": {
    "Collapsed": "false",
    "colab": {},
    "colab_type": "code",
    "id": "zht27ZjMw1nP",
    "outputId": "aeda6d82-8100-4cfd-e5e5-4201a1dc6688"
   },
   "outputs": [
    {
     "name": "stdout",
     "output_type": "stream",
     "text": [
      "Average IMDB score of all the movies is: 6.486666666666667\n"
     ]
    }
   ],
   "source": [
    "def avgImdbScore(input): \n",
    "    average_list = []\n",
    "    for m in input:\n",
    "        average_list.append(m['imdb'])\n",
    "    return sum(average_list)/len(average_list)\n",
    "\n",
    "print ('Average IMDB score of all the movies is: '+ str(avgImdbScore(movies)))"
   ]
  },
  {
   "cell_type": "markdown",
   "metadata": {
    "Collapsed": "true",
    "colab_type": "text",
    "id": "0xq5fCvsw1nT"
   },
   "source": [
    "#### 16. Write a function that takes a list and returns a list with its unique elements\n",
    "\n",
    "Example: sample list : [1,2,3,3,3,3,4,5] $\\rightarrow$ unique list : [1, 2, 3, 4, 5]"
   ]
  },
  {
   "cell_type": "code",
   "execution_count": null,
   "metadata": {
    "Collapsed": "false",
    "colab": {},
    "colab_type": "code",
    "id": "-X5hx-Gzw1nU"
   },
   "outputs": [],
   "source": [
    "lista = [1,2,3,3,366,3,3,4,5]\n",
    "\n",
    "def unique(list):\n",
    "    new_one = []\n",
    "    for i in list:\n",
    "        if i not in new_one:\n",
    "            new_one.append(i)\n",
    "    return new_one\n",
    "        "
   ]
  },
  {
   "cell_type": "code",
   "execution_count": null,
   "metadata": {
    "Collapsed": "false",
    "colab": {},
    "colab_type": "code",
    "id": "wA4sqBNqw1nY",
    "outputId": "6e2d23e7-7a3d-47a1-9872-c8a88c4aefc5",
    "scrolled": true
   },
   "outputs": [
    {
     "data": {
      "text/plain": [
       "[1, 2, 3, 366, 4, 5]"
      ]
     },
     "execution_count": 157,
     "metadata": {
      "tags": []
     },
     "output_type": "execute_result"
    }
   ],
   "source": [
    "unique(lista)"
   ]
  },
  {
   "cell_type": "markdown",
   "metadata": {
    "Collapsed": "true",
    "colab_type": "text",
    "id": "LDhNC6uLw1nb"
   },
   "source": [
    "#### 17.  Write a function that checks whether a passed string is a palindrome or not\n",
    "\n",
    "A palindrome is a word, a phrase, or a sequence that reads the same backward as forward (neglecting spaces), e.g., madam or nurses run. You are allowed to use your string reverse function."
   ]
  },
  {
   "cell_type": "code",
   "execution_count": null,
   "metadata": {
    "Collapsed": "false",
    "colab": {},
    "colab_type": "code",
    "id": "Hm7hHi9Yw1nc"
   },
   "outputs": [],
   "source": [
    "def poli(str):\n",
    "    if reverse(str) == str:\n",
    "        return True\n",
    "    else:\n",
    "        return False"
   ]
  },
  {
   "cell_type": "code",
   "execution_count": null,
   "metadata": {
    "Collapsed": "false",
    "colab": {},
    "colab_type": "code",
    "id": "qM1uf46Tw1ne",
    "outputId": "0b987c9c-e288-495b-9e8f-cbcb6bb00359"
   },
   "outputs": [
    {
     "data": {
      "text/plain": [
       "False"
      ]
     },
     "execution_count": 10,
     "metadata": {
      "tags": []
     },
     "output_type": "execute_result"
    }
   ],
   "source": [
    "poli('madame')"
   ]
  },
  {
   "cell_type": "markdown",
   "metadata": {
    "Collapsed": "true",
    "colab_type": "text",
    "id": "Me5daLY2w1ng"
   },
   "source": [
    "#### 18. ## 2. Using a for loop, create a list of integers with the length of each word in the sentence below, but only if the word is not the word \"the\" or \"The\"\n",
    "\n",
    "The best preparation for tomorrow is doing your best today."
   ]
  },
  {
   "cell_type": "code",
   "execution_count": null,
   "metadata": {
    "Collapsed": "false",
    "colab": {},
    "colab_type": "code",
    "id": "RJaD0N3xw1nj"
   },
   "outputs": [],
   "source": [
    "def int_list(sentence):\n",
    "    list_int = []\n",
    "    forbiden_words = ['The','the']\n",
    "    for i in sentence.split():\n",
    "        if i not in forbiden_words:\n",
    "                list_int.append(len(i))\n",
    "    return list_int"
   ]
  },
  {
   "cell_type": "code",
   "execution_count": null,
   "metadata": {
    "Collapsed": "false",
    "colab": {},
    "colab_type": "code",
    "id": "QA4nokL_w1nn",
    "outputId": "71be576a-5f29-4f49-ee43-43288d402d1c"
   },
   "outputs": [
    {
     "data": {
      "text/plain": [
       "[4, 11, 3, 8, 2, 5, 4, 4, 6]"
      ]
     },
     "execution_count": 170,
     "metadata": {
      "tags": []
     },
     "output_type": "execute_result"
    }
   ],
   "source": [
    "int_list('The best preparation for the tomorrow is doing your best today.')"
   ]
  },
  {
   "cell_type": "code",
   "execution_count": null,
   "metadata": {
    "Collapsed": "false",
    "colab": {},
    "colab_type": "code",
    "id": "TqEI1nE4w1ns"
   },
   "outputs": [],
   "source": []
  }
 ],
 "metadata": {
  "colab": {
   "collapsed_sections": [
    "v5qpjgREw1mR",
    "gLpRjMfsw1mW",
    "T6OQQiu4w1ma",
    "yVSc4Jmkw1mg",
    "JakVvmIEw1mq",
    "abYAhKdGw1m2",
    "kBDzGZztw1m-",
    "ZwDncTubw1nF",
    "fVftsKqww1nI",
    "fT7pB5Oww1nO",
    "0xq5fCvsw1nT",
    "LDhNC6uLw1nb",
    "Me5daLY2w1ng"
   ],
   "name": "Day 3 - Exercises Solutions.ipynb",
   "provenance": [],
   "version": "0.3.2"
  },
  "kernelspec": {
   "display_name": "Python 3",
   "language": "python",
   "name": "python3"
  },
  "language_info": {
   "codemirror_mode": {
    "name": "ipython",
    "version": 3
   },
   "file_extension": ".py",
   "mimetype": "text/x-python",
   "name": "python",
   "nbconvert_exporter": "python",
   "pygments_lexer": "ipython3",
   "version": "3.7.2"
  }
 },
 "nbformat": 4,
 "nbformat_minor": 4
}
