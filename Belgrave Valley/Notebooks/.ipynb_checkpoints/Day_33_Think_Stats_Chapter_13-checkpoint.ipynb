{
 "cells": [
  {
   "cell_type": "markdown",
   "metadata": {
    "Collapsed": "false",
    "colab_type": "text",
    "id": "yoESwIwNM0c9"
   },
   "source": [
    "<img src=\"https://user-images.strikinglycdn.com/res/hrscywv4p/image/upload/c_limit,fl_lossy,h_300,w_300,f_auto,q_auto/1266110/Logo_wzxi0f.png\" style=\"float: left; margin: 20px; height: 55px\">\n",
    "\n",
    "**The first step is to establish that something is possible; then probability will occur - [Elon Musk](https://en.wikipedia.org/wiki/Elon_Musk)**"
   ]
  },
  {
   "cell_type": "markdown",
   "metadata": {
    "Collapsed": "true"
   },
   "source": [
    "# Chapter 13 Survival Analysis"
   ]
  },
  {
   "cell_type": "markdown",
   "metadata": {
    "Collapsed": "false"
   },
   "source": [
    "**Survival analysis** is a way to describe how long things last. It is often used to study human lifetimes, but it also applies to “survival” of mechanical and electronic components, or more generally to intervals in time before an event.\n",
    "\n",
    "If someone you know has been diagnosed with a life-threatening disease, you might have seen a “5-year survival rate,” which is the probability of surviving five years after diagnosis. That estimate and related statistics are the result of survival analysis."
   ]
  },
  {
   "cell_type": "markdown",
   "metadata": {
    "Collapsed": "true"
   },
   "source": [
    "## Survival curves"
   ]
  },
  {
   "cell_type": "markdown",
   "metadata": {
    "Collapsed": "false"
   },
   "source": [
    "The fundamental concept in survival analysis is the survival curve, S(t), which is a function that maps from a duration, t, to the probability of surviving longer than t. If you know the distribution of durations, or “lifetimes”, finding the survival curve is easy; it’s just the complement of the CDF:<br>\n",
    "![alt text](Resources/Think_Stats/notebookpics/survival_formula.png \"Title\")\n",
    "\n",
    "where CDF (t) is the probability of a lifetime less than or equal to t.\n",
    "\n",
    "For example, in the NSFG dataset, we know the duration of 11189 complete\n",
    "pregnancies. We can read this data and compute the CDF:"
   ]
  },
  {
   "cell_type": "code",
   "execution_count": 1,
   "metadata": {
    "Collapsed": "false"
   },
   "outputs": [],
   "source": [
    "from Resources.Think_Stats.Thinkstats2 import nsfg\n",
    "from Resources.Think_Stats.Thinkstats2  import thinkstats2\n",
    "from Resources.Think_Stats.Thinkstats2  import thinkplot\n",
    "from Resources.Think_Stats.Thinkstats2  import survival"
   ]
  },
  {
   "cell_type": "code",
   "execution_count": 2,
   "metadata": {
    "Collapsed": "false"
   },
   "outputs": [],
   "source": [
    "preg = nsfg.ReadFemPreg(dct_file='Resources/Think_Stats/Thinkstats2/2002FemPreg.dct',\n",
    "                        dat_file='Resources/Think_Stats/Thinkstats2/2002FemPreg.dat.gz')\n",
    "complete = preg.query('outcome in [1, 3, 4]').prglngth\n",
    "cdf = thinkstats2.Cdf(complete, label='cdf')"
   ]
  },
  {
   "cell_type": "markdown",
   "metadata": {
    "Collapsed": "false"
   },
   "source": [
    "The outcome codes 1, 3, 4 indicate live birth, stillbirth, and miscarriage. For this analysis I am excluding induced abortions, ectopic pregnancies, and pregnancies that were in progress when the respondent was interviewed.\n",
    "\n",
    "The DataFrame method query takes a boolean expression and evaluates it for each row, selecting the rows that yield True.\n",
    "\n",
    "Figure 13.1 (top) shows the CDF of pregnancy length and its complement, the survival curve. To represent the survival curve, I define an object that wraps a Cdf and adapts the interface:"
   ]
  },
  {
   "cell_type": "code",
   "execution_count": 8,
   "metadata": {
    "Collapsed": "false"
   },
   "outputs": [
    {
     "name": "stdout",
     "output_type": "stream",
     "text": [
      "class SurvivalFunction(object):\n",
      "    \"\"\"Represents a survival function.\"\"\"\n",
      "\n",
      "    def __init__(self, ts, ss, label=''):\n",
      "        self.ts = ts\n",
      "        self.ss = ss\n",
      "        self.label = label\n",
      "\n",
      "    def __len__(self):\n",
      "        return len(self.ts)\n",
      "\n",
      "    def __getitem__(self, t):\n",
      "        return self.Prob(t)\n",
      "\n",
      "    def Prob(self, t):\n",
      "        \"\"\"Returns S(t), the probability that corresponds to value t.\n",
      "        t: time\n",
      "        returns: float probability\n",
      "        \"\"\"\n",
      "        return np.interp(t, self.ts, self.ss, left=1.0)\n",
      "\n",
      "    def Probs(self, ts):\n",
      "        \"\"\"Gets probabilities for a sequence of values.\"\"\"\n",
      "        return np.interp(ts, self.ts, self.ss, left=1.0)\n",
      "\n",
      "    def Items(self):\n",
      "        \"\"\"Sorted sequence of (t, s) pairs.\"\"\"\n",
      "        return zip(self.ts, self.ss)\n",
      "\n",
      "    def Render(self):\n",
      "        \"\"\"Generates a sequence of points suitable for plotting.\n",
      "        returns: tuple of (sorted times, survival function)\n",
      "        \"\"\"\n",
      "        return self.ts, self.ss\n",
      "\n",
      "    def MakeHazardFunction(self, label=''):\n",
      "        \"\"\"Computes the hazard function.\n",
      "\n",
      "        This simple version does not take into account the\n",
      "        spacing between the ts.  If the ts are not equally\n",
      "        spaced, it is not valid to compare the magnitude of\n",
      "        the hazard function across different time steps.\n",
      "\n",
      "        label: string\n",
      "\n",
      "        returns: HazardFunction object\n",
      "        \"\"\"\n",
      "        lams = pd.Series(index=self.ts)\n",
      "\n",
      "        prev = 1.0\n",
      "        for t, s in zip(self.ts, self.ss):\n",
      "            lams[t] = (prev - s) / prev\n",
      "            prev = s\n",
      "\n",
      "        return HazardFunction(lams, label=label)\n",
      "\n",
      "    def MakePmf(self, filler=None):\n",
      "        \"\"\"Makes a PMF of lifetimes.\n",
      "\n",
      "        filler: value to replace missing values\n",
      "\n",
      "        returns: Pmf\n",
      "        \"\"\"\n",
      "        cdf = thinkstats2.Cdf(self.ts, 1-self.ss)\n",
      "        pmf = thinkstats2.Pmf()\n",
      "        for val, prob in cdf.Items():\n",
      "            pmf.Set(val, prob)\n",
      "\n",
      "        cutoff = cdf.ps[-1]\n",
      "        if filler is not None:\n",
      "            pmf[filler] = 1-cutoff\n",
      "\n",
      "        return pmf\n",
      "\n",
      "    def RemainingLifetime(self, filler=None, func=thinkstats2.Pmf.Mean):\n",
      "        \"\"\"Computes remaining lifetime as a function of age.\n",
      "        func: function from conditional Pmf to expected liftime\n",
      "        returns: Series that maps from age to remaining lifetime\n",
      "        \"\"\"\n",
      "        pmf = self.MakePmf(filler=filler)\n",
      "        d = {}\n",
      "        for t in sorted(pmf.Values())[:-1]:\n",
      "            pmf[t] = 0\n",
      "            pmf.Normalize()\n",
      "            d[t] = func(pmf) - t\n",
      "\n",
      "        return pd.Series(d)\n",
      "\n"
     ]
    }
   ],
   "source": [
    "import inspect\n",
    "lines = inspect.getsource(survival.SurvivalFunction)\n",
    "print(lines)"
   ]
  },
  {
   "cell_type": "code",
   "execution_count": 9,
   "metadata": {
    "Collapsed": "false"
   },
   "outputs": [],
   "source": [
    "class SurvivalFunction(object):\n",
    "    def __init__(self, cdf, label=''):\n",
    "        self.cdf = cdf\n",
    "        self.label = label or cdf.label\n",
    "    \n",
    "    def __getitem__(self, t):\n",
    "        return self.Prob(t)\n",
    "    \n",
    "    def Prob(self, t):\n",
    "        return 1 - self.cdf.Prob(t)\n",
    "\n",
    "    @property\n",
    "    def ts(self):\n",
    "        return self.cdf.xs\n",
    "\n",
    "    @property\n",
    "    def ss(self):\n",
    "        return 1 - self.cdf.ps"
   ]
  },
  {
   "cell_type": "markdown",
   "metadata": {
    "Collapsed": "false"
   },
   "source": [
    "SurvivalFunction provides two properties: ts, which is the sequence of lifetimes, and ss, which is the survival curve. In Python, a “property” is a method that can be invoked as if it were a variable.\n",
    "\n",
    "We can instantiate a SurvivalFunction by passing the CDF of lifetimes:"
   ]
  },
  {
   "cell_type": "code",
   "execution_count": 10,
   "metadata": {
    "Collapsed": "false"
   },
   "outputs": [],
   "source": [
    "sf = SurvivalFunction(cdf)"
   ]
  },
  {
   "cell_type": "code",
   "execution_count": 11,
   "metadata": {
    "Collapsed": "false"
   },
   "outputs": [],
   "source": [
    "from Thinkstats2 import survival\n",
    "\n",
    "def MakeSurvivalFromCdf(cdf, label=''):\n",
    "    \"\"\"Makes a survival function based on a CDF.\n",
    "\n",
    "    cdf: Cdf\n",
    "    \n",
    "    returns: SurvivalFunction\n",
    "    \"\"\"\n",
    "    ts = cdf.xs\n",
    "    ss = 1 - cdf.ps\n",
    "    return survival.SurvivalFunction(ts, ss, label)"
   ]
  },
  {
   "cell_type": "code",
   "execution_count": 12,
   "metadata": {
    "Collapsed": "false"
   },
   "outputs": [],
   "source": [
    "sf = MakeSurvivalFromCdf(cdf, label='survival')"
   ]
  },
  {
   "cell_type": "markdown",
   "metadata": {
    "Collapsed": "false"
   },
   "source": [
    "For example, sf[13] is the fraction of pregnancies that proceed past the first trimester:"
   ]
  },
  {
   "cell_type": "code",
   "execution_count": 13,
   "metadata": {
    "Collapsed": "false"
   },
   "outputs": [
    {
     "name": "stdout",
     "output_type": "stream",
     "text": [
      "0.1397801412101171\n",
      "0.8602198587898829\n"
     ]
    }
   ],
   "source": [
    "print(cdf[13])\n",
    "print(sf[13])"
   ]
  },
  {
   "cell_type": "markdown",
   "metadata": {
    "Collapsed": "false"
   },
   "source": [
    "About 86% of pregnancies proceed past the first trimester; about 14% do not."
   ]
  },
  {
   "cell_type": "code",
   "execution_count": 14,
   "metadata": {
    "Collapsed": "false"
   },
   "outputs": [
    {
     "data": {
      "image/png": "[encoded data removed]",
      "text/plain": [
       "<Figure size 432x288 with 1 Axes>"
      ]
     },
     "metadata": {},
     "output_type": "display_data"
    }
   ],
   "source": [
    "thinkplot.Plot(sf)\n",
    "thinkplot.Cdf(cdf, alpha=0.2)\n",
    "thinkplot.Config(loc='center left')"
   ]
  },
  {
   "cell_type": "markdown",
   "metadata": {
    "Collapsed": "false"
   },
   "source": [
    "This chart shows the result. The curve is nearly flat between 13 and 26 weeks, which shows that few pregnancies end in the second trimester. And the curve is steepest around 39 weeks, which is the most common pregnancy length."
   ]
  },
  {
   "cell_type": "markdown",
   "metadata": {
    "Collapsed": "true"
   },
   "source": [
    "## Hazard function"
   ]
  },
  {
   "cell_type": "markdown",
   "metadata": {
    "Collapsed": "false"
   },
   "source": [
    "From the survival curve we can derive the hazard function; for pregnancy lengths, the hazard function maps from a time, t, to the fraction of pregnancies that continue until t and then end at t. To be more precise:<br>\n",
    "![alt text](Resources/Think_Stats/notebookpics/hazard.png \"Title\")\n",
    "\n",
    "The numerator is the fraction of lifetimes that end at t, which is also PMF(t).\n",
    "\n",
    "`SurvivalFunction` provides `MakeHazard`, which calculates the hazard function, try to code yourself the a hazard function from your survival function:"
   ]
  },
  {
   "cell_type": "code",
   "execution_count": 15,
   "metadata": {
    "Collapsed": "false"
   },
   "outputs": [],
   "source": [
    "# Code it here"
   ]
  },
  {
   "cell_type": "markdown",
   "metadata": {
    "Collapsed": "false"
   },
   "source": [
    "Compare your result with the one implemented in the code above."
   ]
  },
  {
   "cell_type": "code",
   "execution_count": 16,
   "metadata": {
    "Collapsed": "false"
   },
   "outputs": [
    {
     "name": "stdout",
     "output_type": "stream",
     "text": [
      "0.6767068273092369\n"
     ]
    }
   ],
   "source": [
    "hf = sf.MakeHazardFunction(label='hazard')\n",
    "print(hf[39])"
   ]
  },
  {
   "cell_type": "code",
   "execution_count": 17,
   "metadata": {
    "Collapsed": "false"
   },
   "outputs": [
    {
     "data": {
      "image/png": "[encoded data removed]",
      "text/plain": [
       "<Figure size 432x288 with 1 Axes>"
      ]
     },
     "metadata": {},
     "output_type": "display_data"
    }
   ],
   "source": [
    "thinkplot.Plot(hf)\n",
    "thinkplot.Config(ylim=[0, 0.75], loc='upper left')"
   ]
  },
  {
   "cell_type": "markdown",
   "metadata": {
    "Collapsed": "false"
   },
   "source": [
    "The plot shows the hazard function for pregnancy lengths. For times after week 42, the hazard function is erratic because it is based on a small number of cases. Other than that the shape of the curve is as expected: it is highest around 39 weeks, and a little higher in the first trimester than in the second.\n",
    "\n",
    "The hazard function is useful in its own right, but it is also an important tool for estimating survival curves, as we’ll see in the next section."
   ]
  },
  {
   "cell_type": "markdown",
   "metadata": {
    "Collapsed": "true"
   },
   "source": [
    "## Inferring survival curves "
   ]
  },
  {
   "cell_type": "markdown",
   "metadata": {
    "Collapsed": "false"
   },
   "source": [
    "If someone gives you the CDF of lifetimes, it is easy to compute the survival and hazard functions. But in many real-world scenarios, we can’t measure the distribution of lifetimes directly. We have to infer it.\n",
    "\n",
    "For example, suppose you are following a group of patients to see how long they survive after diagnosis. Not all patients are diagnosed on the same day, so at any point in time, some patients have survived longer than others. If\n",
    "some patients have died, we know their survival times. For patients who are still alive, we don’t know survival times, but we have a lower bound.\n",
    "\n",
    "If we wait until all patients are dead, we can compute the survival curve, but if we are evaluating the effectiveness of a new treatment, we can’t wait that long! We need a way to estimate survival curves using incomplete information.\n",
    "\n",
    "As a more cheerful example, I will use NSFG data to quantify how long respondents “survive” until they get married for the first time. The range of respondents’ ages is 14 to 44 years, so the dataset provides a snapshot of\n",
    "women at different stages in their lives.\n",
    "\n",
    "For women who have been married, the dataset includes the date of their first marriage and their age at the time. For women who have not been married, we know their age when interviewed, but have no way of knowing when or if\n",
    "they will get married.\n",
    "\n",
    "Since we know the age at first marriage for some women, it might be tempting to exclude the rest and compute the CDF of the known data. That is a bad idea. The result would be doubly misleading: (1) older women would be overrepresented, because they are more likely to be married when interviewed, and (2) married women would be overrepresented! In fact, this analysis would lead to the conclusion that all women get married, which is obviously incorrect."
   ]
  },
  {
   "cell_type": "markdown",
   "metadata": {
    "Collapsed": "true"
   },
   "source": [
    "## Kaplan-Meier estimation"
   ]
  },
  {
   "cell_type": "markdown",
   "metadata": {
    "Collapsed": "false"
   },
   "source": [
    "In this example it is not only desirable but necessary to include observations of unmarried women, which brings us to one of the central algorithms in survival analysis, **Kaplan-Meier estimation**.\n",
    "\n",
    "The general idea is that we can use the data to estimate the hazard function, then convert the hazard function to a survival curve. To estimate the hazard function, we consider, for each age, (1) the number of women who got married\n",
    "at that age and (2) the number of women “at risk” of getting married, which includes all women who were not married at an earlier age.\n",
    "\n",
    "Here’s the code:"
   ]
  },
  {
   "cell_type": "code",
   "execution_count": 18,
   "metadata": {
    "Collapsed": "false"
   },
   "outputs": [],
   "source": [
    "def EstimateHazardFunction(complete, ongoing, label=''):\n",
    "    \n",
    "    hist_complete = Counter(complete)\n",
    "    hist_ongoing = Counter(ongoing)\n",
    "    \n",
    "    ts = list(hist_complete | hist_ongoing)\n",
    "    ts.sort()\n",
    "    \n",
    "    at_risk = len(complete) + len(ongoing)\n",
    "    lams = pandas.Series(index=ts)\n",
    "    \n",
    "    for t in ts:        \n",
    "        ended = hist_complete[t]\n",
    "        censored = hist_ongoing[t]\n",
    "        \n",
    "        lams[t] = ended / at_risk\n",
    "        at_risk -= ended + censored\n",
    "        \n",
    "    return HazardFunction(lams, label=label)"
   ]
  },
  {
   "cell_type": "markdown",
   "metadata": {
    "Collapsed": "false"
   },
   "source": [
    "`complete` is the set of complete observations; in this case, the ages when respondents got married. ongoing is the set of incomplete observations; that is, the ages of unmarried women when they were interviewed.\n",
    "\n",
    "First, we precompute hist_complete, which is a Counter that maps from each age to the number of women married at that age, and hist_ongoing which maps from each age to the number of unmarried women interviewed at that age.\n",
    "\n",
    "ts is the union of ages when respondents got married and ages when unmarried women were interviewed, sorted in increasing order.\n",
    "\n",
    "at_risk keeps track of the number of respondents considered “at risk” at each age; initially, it is the total number of respondents.\n",
    "\n",
    "The result is stored in a Pandas Series that maps from each age to the estimated hazard function at that age.\n",
    "\n",
    "Each time through the loop, we consider one age, t, and compute the number of events that end at t (that is, the number of respondents married at that age) and the number of events censored at t (that is, the number of women\n",
    "interviewed at t whose future marriage dates are censored). In this context, “censored” means that the data are unavailable because of the data collection process.\n",
    "\n",
    "The estimated hazard function is the fraction of the cases at risk that end at t.\n",
    "\n",
    "At the end of the loop, we subtract from at_risk the number of cases that ended or were censored at t."
   ]
  },
  {
   "cell_type": "markdown",
   "metadata": {
    "Collapsed": "true"
   },
   "source": [
    "## The marriage curve"
   ]
  },
  {
   "cell_type": "markdown",
   "metadata": {
    "Collapsed": "false"
   },
   "source": [
    "To test this function, we have to do some data cleaning and transformation. The NSFG variables we need are:\n",
    "\n",
    "- cmbirth: The respondent’s date of birth, known for all respondents.\n",
    "- cmintvw: The date the respondent was interviewed, known for all respondents.\n",
    "- cmmarrhx: The date the respondent was first married, if applicable and known.\n",
    "- evrmarry: 1 if the respondent had been married prior to the date of interview, 0 otherwise.\n",
    "\n",
    "The first three variables are encoded in “century-months”; that is, the integer number of months since December 1899. So century-month 1 is January 1900.\n",
    "\n",
    "First, we read the respondent file:"
   ]
  },
  {
   "cell_type": "code",
   "execution_count": null,
   "metadata": {
    "Collapsed": "false"
   },
   "outputs": [],
   "source": [
    "resp = chap01soln.ReadFemResp()"
   ]
  },
  {
   "cell_type": "markdown",
   "metadata": {
    "Collapsed": "false"
   },
   "source": [
    "replace invalid values of cmmarrhx:"
   ]
  },
  {
   "cell_type": "code",
   "execution_count": 19,
   "metadata": {
    "Collapsed": "false"
   },
   "outputs": [],
   "source": [
    "# Code it here"
   ]
  },
  {
   "cell_type": "markdown",
   "metadata": {
    "Collapsed": "false"
   },
   "source": [
    "Then compute each respondent’s age when married and age when interviewed:"
   ]
  },
  {
   "cell_type": "code",
   "execution_count": null,
   "metadata": {
    "Collapsed": "false"
   },
   "outputs": [],
   "source": [
    "# Code it here"
   ]
  },
  {
   "cell_type": "markdown",
   "metadata": {
    "Collapsed": "false"
   },
   "source": [
    "Next we extract complete, which is the age at marriage for women who have been married, and ongoing, which is the age at interview for women who have not:"
   ]
  },
  {
   "cell_type": "code",
   "execution_count": null,
   "metadata": {
    "Collapsed": "false"
   },
   "outputs": [],
   "source": [
    "# Code it here"
   ]
  },
  {
   "cell_type": "markdown",
   "metadata": {
    "Collapsed": "false"
   },
   "source": [
    "Finally we compute the hazard function."
   ]
  },
  {
   "cell_type": "code",
   "execution_count": null,
   "metadata": {
    "Collapsed": "false"
   },
   "outputs": [],
   "source": [
    "hf = EstimateHazardFunction(complete, ongoing)"
   ]
  },
  {
   "cell_type": "markdown",
   "metadata": {
    "Collapsed": "false"
   },
   "source": [
    "Plot the curve:"
   ]
  },
  {
   "cell_type": "code",
   "execution_count": 21,
   "metadata": {
    "Collapsed": "false"
   },
   "outputs": [],
   "source": [
    "# Code it here"
   ]
  },
  {
   "cell_type": "markdown",
   "metadata": {
    "Collapsed": "false"
   },
   "source": [
    "What do you interpret?"
   ]
  },
  {
   "cell_type": "code",
   "execution_count": 22,
   "metadata": {
    "Collapsed": "false"
   },
   "outputs": [],
   "source": [
    "# Answer here"
   ]
  },
  {
   "cell_type": "markdown",
   "metadata": {
    "Collapsed": "true"
   },
   "source": [
    "## Estimating the survival curve"
   ]
  },
  {
   "cell_type": "markdown",
   "metadata": {
    "Collapsed": "false"
   },
   "source": [
    "Once we have the hazard function, we can estimate the survival curve. The chance of surviving past time t is the chance of surviving all times up through t, which is the cumulative product of the complementary hazard function:<br>\n",
    "\n",
    "![alt text](Resources/Think_Stats/notebookpics/estimate_survival.png \"Title\")"
   ]
  },
  {
   "cell_type": "markdown",
   "metadata": {
    "Collapsed": "false"
   },
   "source": [
    "Create a make survival function that given a hazard function creates a survival function:"
   ]
  },
  {
   "cell_type": "code",
   "execution_count": 24,
   "metadata": {
    "Collapsed": "false"
   },
   "outputs": [],
   "source": [
    "# Code it here"
   ]
  },
  {
   "cell_type": "markdown",
   "metadata": {
    "Collapsed": "false"
   },
   "source": [
    "Compare your implementation with the following:"
   ]
  },
  {
   "cell_type": "code",
   "execution_count": null,
   "metadata": {
    "Collapsed": "false"
   },
   "outputs": [],
   "source": [
    "class HazardFunction:\n",
    "    def MakeSurvival(self):\n",
    "        ts = self.series.index\n",
    "        ss = (1 - self.series).cumprod()\n",
    "        cdf = thinkstats2.Cdf(ts, 1-ss)\n",
    "        sf = SurvivalFunction(cdf)\n",
    "        return sf"
   ]
  },
  {
   "cell_type": "markdown",
   "metadata": {
    "Collapsed": "false"
   },
   "source": [
    "`ts` is the sequence of times where the hazard function is estimated. ss is the cumulative product of the complementary hazard function, so it is the survival curve.\n",
    "\n",
    "Because of the way SurvivalFunction is implemented, we have to compute the complement of ss, make a Cdf, and then instantiate a SurvivalFunction object.\n",
    "\n",
    "Compute and plot the survival curve of the previously calculated hazard function:"
   ]
  },
  {
   "cell_type": "code",
   "execution_count": 25,
   "metadata": {
    "Collapsed": "false"
   },
   "outputs": [],
   "source": [
    "# Code it here"
   ]
  },
  {
   "cell_type": "markdown",
   "metadata": {
    "Collapsed": "false"
   },
   "source": [
    "A curve like this was the basis of a famous magazine article in 1986; Newsweek reported that a 40-year old unmarried woman was “more likely to be killed by a terrorist” than get married. These statistics were widely reported and became part of popular culture, but they were wrong then (because they were based on faulty analysis) and turned out to be even more wrong (because of cultural changes that were already in progress and continued). In 2006, Newsweek ran an another article admitting that they were wrong.\n",
    "\n",
    "I encourage you to read more about this article, the statistics it was based on, and the reaction. It should remind you of the ethical obligation to perform statistical analysis with care, interpret the results with appropriate skepticism, and present them to the public accurately and honestly."
   ]
  },
  {
   "cell_type": "markdown",
   "metadata": {
    "Collapsed": "true"
   },
   "source": [
    "## Confidence intervals"
   ]
  },
  {
   "cell_type": "markdown",
   "metadata": {},
   "source": [
    "Kaplan-Meier analysis yields a single estimate of the survival curve, but it is also important to quantify the uncertainty of the estimate. As usual, there are three possible sources of error: measurement error, sampling error, and modeling error.\n",
    "\n",
    "In this example, measurement error is probably small. People generally know when they were born, whether they’ve been married, and when. And they can be expected to report this information accurately.\n",
    "\n",
    "We can quantify sampling error by resampling. Here’s the code:"
   ]
  },
  {
   "cell_type": "code",
   "execution_count": 15,
   "metadata": {
    "Collapsed": "false"
   },
   "outputs": [],
   "source": [
    "def EstimateMarriageSurvival(resp):\n",
    "    \"\"\"Estimates the survival curve.\n",
    "\n",
    "    resp: DataFrame of respondents\n",
    "\n",
    "    returns: pair of HazardFunction, SurvivalFunction\n",
    "    \"\"\"\n",
    "    # NOTE: Filling missing values would be better than dropping them.\n",
    "    complete = resp[resp.evrmarry == 1].agemarry.dropna()\n",
    "    ongoing = resp[resp.evrmarry == 0].age\n",
    "\n",
    "    hf = EstimateHazardFunction(complete, ongoing)\n",
    "    sf = hf.MakeSurvival()\n",
    "\n",
    "    return hf, sf"
   ]
  },
  {
   "cell_type": "code",
   "execution_count": 16,
   "metadata": {
    "Collapsed": "false"
   },
   "outputs": [],
   "source": [
    "def ResampleSurvival(resp, iters=101):\n",
    "    \"\"\"Resamples respondents and estimates the survival function.\n",
    "\n",
    "    resp: DataFrame of respondents\n",
    "    iters: number of resamples\n",
    "    \"\"\" \n",
    "    _, sf = EstimateMarriageSurvival(resp)\n",
    "    thinkplot.Plot(sf)\n",
    "\n",
    "    low, high = resp.agemarry.min(), resp.agemarry.max()\n",
    "    ts = np.arange(low, high, 1/12.0)\n",
    "\n",
    "    ss_seq = []\n",
    "    for _ in range(iters):\n",
    "        sample = thinkstats2.ResampleRowsWeighted(resp)\n",
    "        _, sf = EstimateMarriageSurvival(sample)\n",
    "        ss_seq.append(sf.Probs(ts))\n",
    "\n",
    "    low, high = thinkstats2.PercentileRows(ss_seq, [5, 95])\n",
    "    thinkplot.FillBetween(ts, low, high, color='gray', label='90% CI')"
   ]
  },
  {
   "cell_type": "markdown",
   "metadata": {
    "Collapsed": "false"
   },
   "source": [
    "The following plot shows the survival function based on the raw data and a 90% CI based on resampling. Explain the 3 main steps taken to calculate the resampling."
   ]
  },
  {
   "cell_type": "code",
   "execution_count": null,
   "metadata": {
    "Collapsed": "false"
   },
   "outputs": [],
   "source": [
    "# Answer here"
   ]
  },
  {
   "cell_type": "code",
   "execution_count": 17,
   "metadata": {
    "Collapsed": "false"
   },
   "outputs": [
    {
     "data": {
      "image/png": "[encoded data removed]",
      "text/plain": [
       "<matplotlib.figure.Figure at 0x7f20e744ae10>"
      ]
     },
     "metadata": {},
     "output_type": "display_data"
    }
   ],
   "source": [
    "ResampleSurvival(resp6)\n",
    "thinkplot.Config(xlabel='Age (years)',\n",
    "                 ylabel='Prob unmarried',\n",
    "                 xlim=[12, 46],\n",
    "                 ylim=[0, 1],\n",
    "                 loc='upper right')"
   ]
  },
  {
   "cell_type": "markdown",
   "metadata": {
    "Collapsed": "true"
   },
   "source": [
    "## Cohort effects"
   ]
  },
  {
   "cell_type": "markdown",
   "metadata": {
    "Collapsed": "false"
   },
   "source": [
    "One of the challenges of survival analysis is that different parts of the estimated curve are based on different groups of respondents. The part of the curve at time t is based on respondents whose age was at least t when they\n",
    "were interviewed. So the leftmost part of the curve includes data from all respondents, but the rightmost part includes only the oldest respondents.\n",
    "\n",
    "If the relevant characteristics of the respondents are not changing over time, that’s fine, but in this case it seems likely that marriage patterns are different for women born in different generations. We can investigate this effect by grouping respondents according to their decade of birth. Groups like this, defined by date of birth or similar events, are called **cohorts**, and differences between the groups are called **cohort effects**.\n",
    "\n",
    "To investigate cohort effects in the NSFG marriage data, I gathered the Cycle 6 data from 2002 used throughout this book; the Cycle 7 data from 2006–2010 used in Section 9.11; and the Cycle 5 data from 1995. In total these datasets include 30,769 respondents."
   ]
  },
  {
   "cell_type": "code",
   "execution_count": null,
   "metadata": {
    "Collapsed": "false"
   },
   "outputs": [],
   "source": [
    "resp5 = ReadFemResp1995()\n",
    "resp6 = ReadFemResp2002()\n",
    "resp7 = ReadFemResp2010()\n",
    "\n",
    "resps = [resp5, resp6, resp7]"
   ]
  },
  {
   "cell_type": "markdown",
   "metadata": {
    "Collapsed": "false"
   },
   "source": [
    "For each DataFrame, resp,use cmbirth to compute the decade of birth for each respondent:"
   ]
  },
  {
   "cell_type": "code",
   "execution_count": null,
   "metadata": {
    "Collapsed": "false"
   },
   "outputs": [],
   "source": [
    "#Code it here"
   ]
  },
  {
   "cell_type": "markdown",
   "metadata": {
    "Collapsed": "false"
   },
   "source": [
    "To take into account the sampling weights, and also to show variability due to sampling error, resample the data, group respondents by decade, and plot survival curves:"
   ]
  },
  {
   "cell_type": "code",
   "execution_count": 29,
   "metadata": {
    "Collapsed": "false"
   },
   "outputs": [],
   "source": [
    "#Code it here"
   ]
  },
  {
   "cell_type": "markdown",
   "metadata": {
    "Collapsed": "false"
   },
   "source": [
    "What conclusions can you raise from the data?"
   ]
  },
  {
   "cell_type": "code",
   "execution_count": 30,
   "metadata": {
    "Collapsed": "false"
   },
   "outputs": [],
   "source": [
    "# Answer here"
   ]
  },
  {
   "cell_type": "markdown",
   "metadata": {
    "Collapsed": "true"
   },
   "source": [
    "## Extrapolation"
   ]
  },
  {
   "cell_type": "markdown",
   "metadata": {
    "Collapsed": "false"
   },
   "source": [
    "The survival curve for the 70s cohort ends at about age 38; for the 80s cohort it ends at age 28, and for the 90s cohort we hardly have any data at all. We can extrapolate these curves by “borrowing” data from the previous\n",
    "cohort. HazardFunction provides a method, Extend, that copies the tail from another longer HazardFunction:"
   ]
  },
  {
   "cell_type": "code",
   "execution_count": 32,
   "metadata": {
    "Collapsed": "false"
   },
   "outputs": [],
   "source": [
    "class HazardFunction:\n",
    "    def Extend(self, other):\n",
    "        last = self.series.index[-1]\n",
    "        more = other.series[other.series.index > last]\n",
    "        self.series = pandas.concat([self.series, more])"
   ]
  },
  {
   "cell_type": "markdown",
   "metadata": {
    "Collapsed": "false"
   },
   "source": [
    "As we saw in Section 2, the HazardFunction contains a Series that maps from t to λ(t). Extend finds last, which is the last index in self.series, selects values from other that come later than last, and appends them onto self.series."
   ]
  },
  {
   "cell_type": "markdown",
   "metadata": {
    "Collapsed": "false"
   },
   "source": [
    "Now we can extend the HazardFunction for each cohort, using values from the predecessor:"
   ]
  },
  {
   "cell_type": "code",
   "execution_count": null,
   "metadata": {
    "Collapsed": "false"
   },
   "outputs": [],
   "source": [
    "def PlotPredictionsByDecade(groups, **options):\n",
    "    \"\"\"Groups respondents by decade and plots survival curves.\n",
    "\n",
    "    groups: GroupBy object\n",
    "    \"\"\"\n",
    "    hfs = []\n",
    "    for _, group in groups:\n",
    "        hf, sf = EstimateMarriageSurvival(group)\n",
    "        hfs.append(hf)\n",
    "\n",
    "    thinkplot.PrePlot(len(hfs))\n",
    "    for i, hf in enumerate(hfs):\n",
    "        if i > 0:\n",
    "            hf.Extend(hfs[i-1])\n",
    "        sf = hf.MakeSurvival()\n",
    "        thinkplot.Plot(sf, **options)"
   ]
  },
  {
   "cell_type": "markdown",
   "metadata": {
    "Collapsed": "false"
   },
   "source": [
    "groups is a GroupBy object with respondents grouped by decade of birth. The first loop computes the HazardFunction for each group.\n",
    "\n",
    "The second loop extends each HazardFunction with values from its predecessor, which might contain values from the previous group, and so on. Then it converts each HazardFunction to a SurvivalFunction and plots it."
   ]
  },
  {
   "cell_type": "code",
   "execution_count": null,
   "metadata": {
    "Collapsed": "false"
   },
   "outputs": [],
   "source": [
    "PlotResampledByDecade(resps, predict_flag=True)\n",
    "thinkplot.Config(xlabel='Age (years)',\n",
    "                 ylabel='Prob unmarried',\n",
    "                 xlim=[13, 45],\n",
    "                 ylim=[0, 1])"
   ]
  },
  {
   "cell_type": "markdown",
   "metadata": {
    "Collapsed": "true"
   },
   "source": [
    "## Expected remaining lifetime"
   ]
  },
  {
   "cell_type": "markdown",
   "metadata": {
    "Collapsed": "false"
   },
   "source": [
    "Given a survival curve, we can compute the expected remaining lifetime as a function of current age. For example, given the survival curve of pregnancy length from Section 1, we can compute the expected time until delivery.\n",
    "\n",
    "The first step is to extract the PMF of lifetimes. SurvivalFunction provides a method that does that:"
   ]
  },
  {
   "cell_type": "code",
   "execution_count": 37,
   "metadata": {
    "Collapsed": "false"
   },
   "outputs": [],
   "source": [
    "class SurvivalFunction:\n",
    "    def MakePmf(self, filler=None):\n",
    "        pmf = thinkstats2.Pmf()\n",
    "        for val, prob in self.cdf.Items():\n",
    "            pmf.Set(val, prob)\n",
    "        \n",
    "        cutoff = self.cdf.ps[-1]\n",
    "        if filler is not None:\n",
    "            pmf[filler] = 1-cutoff\n",
    "        \n",
    "        return pmf"
   ]
  },
  {
   "cell_type": "markdown",
   "metadata": {
    "Collapsed": "false"
   },
   "source": [
    "Remember that the SurvivalFunction contains the Cdf of lifetimes. The loop copies the values and probabilities from the Cdf into a Pmf.\n",
    "\n",
    "cutoff is the highest probability in the Cdf, which is 1 if the Cdf is complete, and otherwise less than 1. If the Cdf is incomplete, we plug in the provided value, filler, to cap it off.\n",
    "\n",
    "The Cdf of pregnancy lengths is complete, so we don’t have to worry about this detail yet.\n",
    "\n",
    "The next step is to compute the expected remaining lifetime, where “expected” means average. SurvivalFunction provides a method that does that, too:"
   ]
  },
  {
   "cell_type": "code",
   "execution_count": 39,
   "metadata": {
    "Collapsed": "false"
   },
   "outputs": [],
   "source": [
    "class SurvivalFunction:\n",
    "    def RemainingLifetime(self, filler=None, func=thinkstats2.Pmf.Mean):\n",
    "        pmf = self.MakePmf(filler=filler)\n",
    "        d = {}\n",
    "        for t in sorted(pmf.Values())[:-1]:\n",
    "            pmf[t] = 0\n",
    "            pmf.Normalize()\n",
    "            d[t] = func(pmf) - t\n",
    "    \n",
    "        return pandas.Series(d)"
   ]
  },
  {
   "cell_type": "markdown",
   "metadata": {
    "Collapsed": "false"
   },
   "source": [
    "RemainingLifetime takes filler, which is passed along to MakePmf, and func which is the function used to summarize the distribution of remaining lifetimes.\n",
    "\n",
    "pmf is the Pmf of lifetimes extracted from the SurvivalFunction. d is a dictionary that contains the results, a map from current age, t, to expected remaining lifetime.\n",
    "\n",
    "The loop iterates through the values in the Pmf. For each value of t it computes the conditional distribution of lifetimes, given that the lifetime exceeds t. It does that by removing values from the Pmf one at a time and renormalizing the remaining values.\n",
    "\n",
    "Then it uses func to summarize the conditional distribution. In this example the result is the mean pregnancy length, given that the length exceeds t. By subtracting t we get the mean remaining pregnancy length.\n",
    "\n",
    "Plot the remaining lifetime graph of both pregnancy and marriage data:"
   ]
  },
  {
   "cell_type": "code",
   "execution_count": null,
   "metadata": {
    "Collapsed": "false"
   },
   "outputs": [],
   "source": [
    "preg = nsfg.ReadFemPreg()\n",
    "\n",
    "complete = preg.query('outcome in [1, 3, 4]').prglngth\n",
    "print('Number of complete pregnancies', len(complete))\n",
    "ongoing = preg[preg.outcome == 6].prglngth\n",
    "print('Number of ongoing pregnancies', len(ongoing))"
   ]
  },
  {
   "cell_type": "markdown",
   "metadata": {
    "Collapsed": "false"
   },
   "source": [
    "What do you interpret from it:"
   ]
  },
  {
   "cell_type": "code",
   "execution_count": 40,
   "metadata": {
    "Collapsed": "false"
   },
   "outputs": [],
   "source": [
    "# Answer here"
   ]
  },
  {
   "cell_type": "markdown",
   "metadata": {
    "Collapsed": "false"
   },
   "source": [
    "We are plotting remaining pregnancy length as a function of the current duration. For example, during Week 0, the expected remaining duration is about 34 weeks. That’s less than full term (39 weeks) because terminations of pregnancy in the first trimester bring the average down.\n",
    "\n",
    "The curve drops slowly during the first trimester. After 13 weeks, the expected remaining lifetime has dropped by only 9 weeks, to 25. After that the curve drops faster, by about a week per week.\n",
    "\n",
    "Between Week 37 and 42, the curve levels off between 1 and 2 weeks. At any time during this period, the expected remaining lifetime is the same; with each week that passes, the destination gets no closer. Processes with this\n",
    "property are called **memoryless** because the past has no effect on the predictions. This behavior is the mathematical basis of the infuriating mantra of obstetrics nurses: “any day now.”\n",
    "\n",
    "Figure 13.6 (right) shows the median remaining time until first marriage, as a function of age. For an 11 year-old girl, the median time until first marriage is about 14 years. The curve decreases until age 22 when the median remaining time is about 7 years. After that it increases again: by age 30 it is back where it started, at 14 years.\n",
    "\n",
    "Based on this data, young women have decreasing remaining ”lifetimes”. Mechanical components with this property are called **NBUE** for ”new better than used in expectation,” meaning that a new part is expected to last longer.\n",
    "\n",
    "Women older than 22 have increasing remaining time until first marriage. Components with this property are called **UBNE** for ”used better than new in expectation.” That is, the older the part, the longer it is expected to last.\n",
    "Newborns and cancer patients are also UBNE; their life expectancy increases the longer they live.\n",
    "\n",
    "For this example I computed median, rather than mean, because the Cdf is incomplete; the survival curve projects that about 20% of respondents will not marry before age 44. The age of first marriage for these women is unknown, and might be non-existent, so we can’t compute a mean.\n",
    "    \n",
    "I deal with these unknown values by replacing them with np.inf, a special value that represents infinity. That makes the mean infinity for all ages, but the median is well-defined as long as more than 50% of the remaining\n",
    "lifetimes are finite, which is true until age 30. After that it is hard to define a meaningful expected remaining lifetime."
   ]
  },
  {
   "cell_type": "code",
   "execution_count": null,
   "metadata": {
    "Collapsed": "false"
   },
   "outputs": [],
   "source": [
    "rem_life1 = sf1.RemainingLifetime()\n",
    "thinkplot.Plot(rem_life1)\n",
    "func = lambda pmf: pmf.Percentile(50)\n",
    "rem_life2 = sf2.RemainingLifetime(filler=np.inf, func=func)\n",
    "thinkplot.Plot(rem_life2)"
   ]
  },
  {
   "cell_type": "markdown",
   "metadata": {
    "Collapsed": "false"
   },
   "source": [
    "sf1 is the survival curve for pregnancy length; in this case we can use the default values for RemainingLifetime.\n",
    "\n",
    "sf2 is the survival curve for age at first marriage; func is a function that takes a Pmf and computes its median (50th percentile)."
   ]
  }
 ],
 "metadata": {
  "kernelspec": {
   "display_name": "Python 3",
   "language": "python",
   "name": "python3"
  },
  "language_info": {
   "codemirror_mode": {
    "name": "ipython",
    "version": 3
   },
   "file_extension": ".py",
   "mimetype": "text/x-python",
   "name": "python",
   "nbconvert_exporter": "python",
   "pygments_lexer": "ipython3",
   "version": "3.7.3"
  }
 },
 "nbformat": 4,
 "nbformat_minor": 4
}
