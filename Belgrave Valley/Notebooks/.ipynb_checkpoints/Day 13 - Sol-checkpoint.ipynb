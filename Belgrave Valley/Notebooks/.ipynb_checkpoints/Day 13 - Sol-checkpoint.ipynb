{
 "cells": [
  {
   "cell_type": "markdown",
   "metadata": {
    "Collapsed": "false",
    "colab_type": "text",
    "id": "Zb2DZ_2rJC_V"
   },
   "source": [
    "<img src=\"https://user-images.strikinglycdn.com/res/hrscywv4p/image/upload/c_limit,fl_lossy,h_300,w_300,f_auto,q_auto/1266110/Logo_wzxi0f.png\" style=\"float: left; margin: 20px; height: 55px\">\n",
    "\n",
    "**Study hard what interests you the most in the most undisciplined, irreverent and original manner possible\n",
    "― Richard Feynmann**"
   ]
  },
  {
   "cell_type": "markdown",
   "metadata": {
    "Collapsed": "true",
    "colab_type": "text",
    "heading_collapsed": true,
    "id": "5S3jJIR_JC_V"
   },
   "source": [
    "# Chapter 2: Distributions"
   ]
  },
  {
   "cell_type": "markdown",
   "metadata": {
    "Collapsed": "true",
    "colab_type": "text",
    "heading_collapsed": true,
    "hidden": true,
    "id": "1HCJsRR6JC_W"
   },
   "source": [
    "## Histograms"
   ]
  },
  {
   "cell_type": "markdown",
   "metadata": {
    "Collapsed": "false",
    "colab_type": "text",
    "hidden": true,
    "id": "gO8x3nl6JC_X"
   },
   "source": [
    "One of the best ways to describe a variable is to report the values that appear in the dataset and how many times each value appears. This description is called the **distribution** of the variable.\n",
    "The most common representation of a distribution is a **histogram**, which is a graph that shows the **frequency** of each value. In this context, “frequency” means the number of times the value appears.\n",
    "\n",
    "Given the following list could you create a dictionary that counts the frequency of each of the values in it."
   ]
  },
  {
   "cell_type": "code",
   "execution_count": null,
   "metadata": {
    "Collapsed": "false",
    "colab": {},
    "colab_type": "code",
    "hidden": true,
    "id": "kuROuKuCJC_X",
    "scrolled": true
   },
   "outputs": [],
   "source": [
    "import numpy as np\n",
    "import pandas as pd"
   ]
  },
  {
   "cell_type": "code",
   "execution_count": null,
   "metadata": {
    "Collapsed": "false",
    "colab": {},
    "colab_type": "code",
    "hidden": true,
    "id": "IBNtf2q2JC_a"
   },
   "outputs": [],
   "source": [
    "a = [1,2,2,3,3,3,4,4,4,4,5,5,6,37,8]"
   ]
  },
  {
   "cell_type": "code",
   "execution_count": null,
   "metadata": {
    "Collapsed": "false",
    "colab": {
     "base_uri": "https://localhost:8080/",
     "height": 34
    },
    "colab_type": "code",
    "executionInfo": {
     "elapsed": 1581,
     "status": "ok",
     "timestamp": 1569947165837,
     "user": {
      "displayName": "Javier Fernández Suárez",
      "photoUrl": "https://lh3.googleusercontent.com/a-/AAuE7mCyHkXyq2yFrnn8g3lELFrqZ1fEkycUtYSugx1n=s64",
      "userId": "09446078862304338671"
     },
     "user_tz": -60
    },
    "hidden": true,
    "id": "ZSjdB-eMJC_c",
    "outputId": "28dc5dc8-8420-4a9d-ba5a-7e07be6bccfe"
   },
   "outputs": [
    {
     "data": {
      "text/plain": [
       "{1: 1, 2: 2, 3: 3, 4: 4, 5: 2, 6: 1, 8: 1, 37: 1}"
      ]
     },
     "execution_count": 3,
     "metadata": {
      "tags": []
     },
     "output_type": "execute_result"
    }
   ],
   "source": [
    "dic = {}\n",
    "for n in a:\n",
    "    if n not in dic:\n",
    "        dic[n] = 0\n",
    "        for i in a:\n",
    "            if n == i:\n",
    "                dic[n] += 1\n",
    "dic    "
   ]
  },
  {
   "cell_type": "code",
   "execution_count": null,
   "metadata": {
    "Collapsed": "false",
    "colab": {
     "base_uri": "https://localhost:8080/",
     "height": 34
    },
    "colab_type": "code",
    "executionInfo": {
     "elapsed": 1573,
     "status": "ok",
     "timestamp": 1569947165838,
     "user": {
      "displayName": "Javier Fernández Suárez",
      "photoUrl": "https://lh3.googleusercontent.com/a-/AAuE7mCyHkXyq2yFrnn8g3lELFrqZ1fEkycUtYSugx1n=s64",
      "userId": "09446078862304338671"
     },
     "user_tz": -60
    },
    "hidden": true,
    "id": "WpzbzlKVJC_e",
    "outputId": "6632d9fe-4210-4837-b8cb-99c53ef65f72"
   },
   "outputs": [
    {
     "data": {
      "text/plain": [
       "{1: 1, 2: 2, 3: 3, 4: 4, 5: 2, 6: 1, 8: 1, 37: 1}"
      ]
     },
     "execution_count": 4,
     "metadata": {
      "tags": []
     },
     "output_type": "execute_result"
    }
   ],
   "source": [
    "# Better solution\n",
    "dic = {}\n",
    "for n in a:\n",
    "    if n not in dic:\n",
    "        dic[n] = 0\n",
    "    dic[n] += 1\n",
    "dic    "
   ]
  },
  {
   "cell_type": "markdown",
   "metadata": {
    "Collapsed": "false",
    "colab_type": "text",
    "hidden": true,
    "id": "b4OTI41sJC_g"
   },
   "source": [
    "Create a function that counts the frequency of each of the values in a given list."
   ]
  },
  {
   "cell_type": "code",
   "execution_count": null,
   "metadata": {
    "Collapsed": "false",
    "colab": {},
    "colab_type": "code",
    "hidden": true,
    "id": "42FY3HWYJC_h"
   },
   "outputs": [],
   "source": [
    "def dict_from_list(list):\n",
    "    dict = {}\n",
    "    for value in list:\n",
    "        if value not in dict:\n",
    "            dict[value] = 0\n",
    "        dict[value] += 1\n",
    "    return dict   "
   ]
  },
  {
   "cell_type": "markdown",
   "metadata": {
    "Collapsed": "false",
    "colab_type": "text",
    "hidden": true,
    "id": "RwWGv7SBJC_i"
   },
   "source": [
    "Some implemented way in python to get the same result would be the `counter` class defined in the `collections` module or `value_counts` from `pandas`"
   ]
  },
  {
   "cell_type": "markdown",
   "metadata": {
    "Collapsed": "true",
    "colab_type": "text",
    "heading_collapsed": true,
    "hidden": true,
    "id": "HUUGwDBLJC_j"
   },
   "source": [
    "### Representing histograms"
   ]
  },
  {
   "cell_type": "markdown",
   "metadata": {
    "Collapsed": "false",
    "colab_type": "text",
    "hidden": true,
    "id": "__wJms4nJC_j"
   },
   "source": [
    "`thinkstats2`module has a histogram class to create hist objects. Import `thinkStats2` and instanciate a `Hist` object called `hist1` with the previous list used:"
   ]
  },
  {
   "cell_type": "code",
   "execution_count": null,
   "metadata": {
    "Collapsed": "false",
    "colab": {},
    "colab_type": "code",
    "hidden": true,
    "id": "q-VhG8EwJC_j"
   },
   "outputs": [],
   "source": [
    "import thinkstats2"
   ]
  },
  {
   "cell_type": "code",
   "execution_count": null,
   "metadata": {
    "Collapsed": "false",
    "colab": {},
    "colab_type": "code",
    "hidden": true,
    "id": "0fSp-uDCJC_l",
    "outputId": "fc6894e5-d777-4fc1-91c7-2d80d50f1984"
   },
   "outputs": [
    {
     "data": {
      "text/plain": [
       "Hist({1: 1, 2: 2, 3: 3, 4: 4, 5: 2, 6: 1, 37: 1, 8: 1})"
      ]
     },
     "execution_count": 7,
     "metadata": {
      "tags": []
     },
     "output_type": "execute_result"
    }
   ],
   "source": [
    "hist1 = thinkstats2.Hist(a)\n",
    "hist1"
   ]
  },
  {
   "cell_type": "markdown",
   "metadata": {
    "Collapsed": "false",
    "colab_type": "text",
    "hidden": true,
    "id": "SMh2t_nSJC_m"
   },
   "source": [
    "Try the methods `Freq` and `Values` of the `Hist` class and examine the output given by them."
   ]
  },
  {
   "cell_type": "code",
   "execution_count": null,
   "metadata": {
    "Collapsed": "false",
    "colab": {},
    "colab_type": "code",
    "hidden": true,
    "id": "7p1xwGy4JC_n",
    "outputId": "97a9f712-2e7b-42cd-af99-76c62e874ac7"
   },
   "outputs": [
    {
     "name": "stdout",
     "output_type": "stream",
     "text": [
      "4\n",
      "\n",
      "dict_keys([1, 2, 3, 4, 5, 6, 37, 8])\n"
     ]
    }
   ],
   "source": [
    "print(hist1.Freq(4))\n",
    "print()\n",
    "print(hist1.Values())"
   ]
  },
  {
   "cell_type": "markdown",
   "metadata": {
    "Collapsed": "true",
    "colab_type": "text",
    "heading_collapsed": true,
    "hidden": true,
    "id": "XrOFNn7XJC_o"
   },
   "source": [
    "### Plotting histograms"
   ]
  },
  {
   "cell_type": "markdown",
   "metadata": {
    "Collapsed": "false",
    "colab_type": "text",
    "hidden": true,
    "id": "CJeBsWGYJC_p"
   },
   "source": [
    "Given the dictionary result that you got try to plot a histogram using the `matplotlib` library."
   ]
  },
  {
   "cell_type": "code",
   "execution_count": null,
   "metadata": {
    "Collapsed": "false",
    "colab": {},
    "colab_type": "code",
    "hidden": true,
    "id": "d4O05ukkJC_p"
   },
   "outputs": [],
   "source": [
    "%matplotlib inline\n",
    "import matplotlib.pyplot as plt"
   ]
  },
  {
   "cell_type": "code",
   "execution_count": null,
   "metadata": {
    "Collapsed": "false",
    "colab": {},
    "colab_type": "code",
    "hidden": true,
    "id": "GhJNw0jbJC_s",
    "outputId": "02c713d9-0af8-4872-b860-322771322e30"
   },
   "outputs": [
    {
     "data": {
      "image/png": "[encoded data removed]",
      "text/plain": [
       "<Figure size 720x504 with 1 Axes>"
      ]
     },
     "metadata": {
      "needs_background": "light",
      "tags": []
     },
     "output_type": "display_data"
    }
   ],
   "source": [
    "plt.figure(figsize = (10,7))\n",
    "plt.bar(list(dic.keys()), list(dic.values()))\n",
    "plt.show()"
   ]
  },
  {
   "cell_type": "markdown",
   "metadata": {
    "Collapsed": "false",
    "colab_type": "text",
    "hidden": true,
    "id": "SGaBpvwxJC_u"
   },
   "source": [
    "Now try a module called `thinkplot`(thinkplot.py) that provides functions for plotting. Explore the function `Hist` of module `thinkplot` on the file to see how what it does differs from your function."
   ]
  },
  {
   "cell_type": "code",
   "execution_count": null,
   "metadata": {
    "Collapsed": "false",
    "colab": {},
    "colab_type": "code",
    "hidden": true,
    "id": "TM64SWR8JC_u"
   },
   "outputs": [],
   "source": [
    "import thinkplot"
   ]
  },
  {
   "cell_type": "code",
   "execution_count": null,
   "metadata": {
    "Collapsed": "false",
    "colab": {},
    "colab_type": "code",
    "hidden": true,
    "id": "QLHc-LraJC_v",
    "outputId": "d437ebf1-9e57-46f8-8d00-e1ca019e7381"
   },
   "outputs": [
    {
     "data": {
      "image/png": "[encoded data removed]",
      "text/plain": [
       "<Figure size 720x504 with 1 Axes>"
      ]
     },
     "metadata": {
      "needs_background": "light",
      "tags": []
     },
     "output_type": "display_data"
    }
   ],
   "source": [
    "plt.figure(figsize = (10,7))\n",
    "thinkplot.Hist(hist1)"
   ]
  },
  {
   "cell_type": "markdown",
   "metadata": {
    "Collapsed": "true",
    "colab_type": "text",
    "heading_collapsed": true,
    "hidden": true,
    "id": "dQCL817_JC_x"
   },
   "source": [
    "### Using NSFG Variables"
   ]
  },
  {
   "cell_type": "markdown",
   "metadata": {
    "Collapsed": "false",
    "colab_type": "text",
    "hidden": true,
    "id": "sVOjJccdJC_x"
   },
   "source": [
    "When you start working with a new dataset, I suggest you explore the variables you are planning to use one at a time, and a good way to start is by looking at histograms.\n",
    "In the previous chapter we transformed agepreg from centiyears to years, and combined birthwgt_lb and birthwgt_oz into a single quantity, totalwgt_lb. In this section we will use these variables to demonstrate some features of histograms.\n",
    "\n",
    "Start by reading the data and selecting all records for live births (outcome = 1):"
   ]
  },
  {
   "cell_type": "code",
   "execution_count": 1,
   "metadata": {
    "Collapsed": "false",
    "colab": {
     "base_uri": "https://localhost:8080/",
     "height": 299
    },
    "colab_type": "code",
    "executionInfo": {
     "elapsed": 939,
     "status": "error",
     "timestamp": 1571943865452,
     "user": {
      "displayName": "Javier Fernández Suárez",
      "photoUrl": "https://lh3.googleusercontent.com/a-/AAuE7mCyHkXyq2yFrnn8g3lELFrqZ1fEkycUtYSugx1n=s64",
      "userId": "09446078862304338671"
     },
     "user_tz": -60
    },
    "hidden": true,
    "id": "SAFtUaiSJC_y",
    "outputId": "6ea4d183-762e-4767-f2f4-ca5a12ca9989"
   },
   "outputs": [],
   "source": [
    "from Resources.Think_Stats.Thinkstats2 import nsfg"
   ]
  },
  {
   "cell_type": "code",
   "execution_count": 2,
   "metadata": {
    "Collapsed": "false",
    "colab": {},
    "colab_type": "code",
    "hidden": true,
    "id": "KgCWmGdZJC_z"
   },
   "outputs": [],
   "source": [
    "preg = nsfg.ReadFemPreg(dct_file='Resources/Think_Stats/Thinkstats2/2002FemPreg.dct',\n",
    "                        dat_file='Resources/Think_Stats/Thinkstats2/2002FemPreg.dat.gz',\n",
    "                        clean = True)"
   ]
  },
  {
   "cell_type": "code",
   "execution_count": null,
   "metadata": {
    "Collapsed": "false",
    "colab": {},
    "colab_type": "code",
    "hidden": true,
    "id": "wu2LaICiJC_1"
   },
   "outputs": [],
   "source": [
    "preg_alive = preg.loc[preg['outcome'] == 1]"
   ]
  },
  {
   "cell_type": "markdown",
   "metadata": {
    "Collapsed": "false",
    "colab_type": "text",
    "hidden": true,
    "id": "YMcs1_NtJC_2"
   },
   "source": [
    "Plot an histagram of the weight value using 2 methods:\n",
    "- Using the `dict_from_list function` created before\n",
    "- Using the `pandas` method `value_counts()` - make sure you group them in bins before"
   ]
  },
  {
   "cell_type": "code",
   "execution_count": null,
   "metadata": {
    "Collapsed": "false",
    "colab": {},
    "colab_type": "code",
    "hidden": true,
    "id": "1HQ0I3RlJC_3",
    "outputId": "7c699c1f-6822-43e8-9888-14af753355ac"
   },
   "outputs": [
    {
     "name": "stderr",
     "output_type": "stream",
     "text": [
      "/home/javi/.local/lib/python3.6/site-packages/ipykernel_launcher.py:1: SettingWithCopyWarning: \n",
      "A value is trying to be set on a copy of a slice from a DataFrame.\n",
      "Try using .loc[row_indexer,col_indexer] = value instead\n",
      "\n",
      "See the caveats in the documentation: http://pandas.pydata.org/pandas-docs/stable/indexing.html#indexing-view-versus-copy\n",
      "  \"\"\"Entry point for launching an IPython kernel.\n"
     ]
    }
   ],
   "source": [
    "preg_alive['totalwgt_lb'] = preg_alive['birthwgt_lb'] + preg_alive['birthwgt_oz']*0.0625\n",
    "#preg_live['totalwgt_lb'].head(20)"
   ]
  },
  {
   "cell_type": "code",
   "execution_count": null,
   "metadata": {
    "Collapsed": "false",
    "colab": {},
    "colab_type": "code",
    "hidden": true,
    "id": "RbQ7T3fnJC_6",
    "outputId": "5e9bdeb4-9441-4f52-e078-7f8f17f2ed08"
   },
   "outputs": [
    {
     "data": {
      "image/png": "[encoded data removed]",
      "text/plain": [
       "<Figure size 720x504 with 1 Axes>"
      ]
     },
     "metadata": {
      "needs_background": "light",
      "tags": []
     },
     "output_type": "display_data"
    }
   ],
   "source": [
    "dic = dict_from_list(preg_alive['totalwgt_lb'])\n",
    "\n",
    "plt.figure(figsize = (10,7))\n",
    "plt.bar(list(dic.keys()), list(dic.values()))\n",
    "plt.show()"
   ]
  },
  {
   "cell_type": "code",
   "execution_count": null,
   "metadata": {
    "Collapsed": "false",
    "colab": {},
    "colab_type": "code",
    "hidden": true,
    "id": "9p26kqxtJC_9",
    "outputId": "c3fc39af-0832-4453-d76e-08752848641f"
   },
   "outputs": [
    {
     "name": "stderr",
     "output_type": "stream",
     "text": [
      "/home/javi/.local/lib/python3.6/site-packages/matplotlib/__init__.py:886: MatplotlibDeprecationWarning: \n",
      "examples.directory is deprecated; in the future, examples will be found relative to the 'datapath' directory.\n",
      "  \"found relative to the 'datapath' directory.\".format(key))\n"
     ]
    },
    {
     "data": {
      "image/png": "[encoded data removed]",
      "text/plain": [
       "<Figure size 720x504 with 1 Axes>"
      ]
     },
     "metadata": {
      "needs_background": "light",
      "tags": []
     },
     "output_type": "display_data"
    }
   ],
   "source": [
    "# value_counts()\n",
    "plt.figure(figsize = (10,7))\n",
    "preg_alive['totalwgt_lb'].value_counts().sort_index().plot.bar()\n",
    "plt.show()"
   ]
  },
  {
   "cell_type": "markdown",
   "metadata": {
    "Collapsed": "false",
    "colab_type": "text",
    "hidden": true,
    "id": "9UBB57SqJC__"
   },
   "source": [
    "Compare the results with the `thinkstats2` `Hist` function."
   ]
  },
  {
   "cell_type": "code",
   "execution_count": null,
   "metadata": {
    "Collapsed": "false",
    "colab": {},
    "colab_type": "code",
    "hidden": true,
    "id": "hzSvjkw1JDAA",
    "outputId": "3b23dfb1-a219-4ba5-cc45-60b91ffb9399"
   },
   "outputs": [
    {
     "data": {
      "image/png": "[encoded data removed]",
      "text/plain": [
       "<Figure size 720x504 with 1 Axes>"
      ]
     },
     "metadata": {
      "needs_background": "light",
      "tags": []
     },
     "output_type": "display_data"
    }
   ],
   "source": [
    "hist2 = thinkstats2.Hist(preg_alive['totalwgt_lb'])\n",
    "\n",
    "plt.figure(figsize = (10,7))\n",
    "thinkplot.Hist(hist2)"
   ]
  },
  {
   "cell_type": "markdown",
   "metadata": {
    "Collapsed": "false",
    "colab_type": "text",
    "hidden": true,
    "id": "ckI84MoJJDAB"
   },
   "source": [
    "The most common value, called the **mode**, is 7 pounds. The distribution is approximately bell-shaped, which is the shape of the **normal distribution**, also called a **Gaussian distribution**. But unlike a true normal distribution, this distribution is asymmetric; it has a **tail** that extends farther to the left than to the right.<br>\n",
    "When all values have the same frequency we call this **uniform distribution**."
   ]
  },
  {
   "cell_type": "markdown",
   "metadata": {
    "Collapsed": "false",
    "colab_type": "text",
    "hidden": true,
    "id": "IgilPaDQJDAC"
   },
   "source": [
    "Can you think of any variable in the data with a uniform distribution?"
   ]
  },
  {
   "cell_type": "code",
   "execution_count": null,
   "metadata": {
    "Collapsed": "false",
    "colab": {},
    "colab_type": "code",
    "hidden": true,
    "id": "4-6jIqhmJDAD",
    "outputId": "67160733-52ae-4f4b-8600-d1caf0697ed5"
   },
   "outputs": [
    {
     "data": {
      "image/png": "[encoded data removed]",
      "text/plain": [
       "<Figure size 720x504 with 1 Axes>"
      ]
     },
     "metadata": {
      "needs_background": "light",
      "tags": []
     },
     "output_type": "display_data"
    }
   ],
   "source": [
    "hist3 = thinkstats2.Hist(preg_alive['birthwgt_oz'])\n",
    "\n",
    "plt.figure(figsize = (10,7))\n",
    "thinkplot.Hist(hist3)"
   ]
  },
  {
   "cell_type": "markdown",
   "metadata": {
    "Collapsed": "false",
    "colab_type": "text",
    "hidden": true,
    "id": "YX5VCVcPJDAF"
   },
   "source": [
    "Show also the histograms of `birthwgt_oz`, `prglngth` and describe the distribution observed."
   ]
  },
  {
   "cell_type": "code",
   "execution_count": null,
   "metadata": {
    "Collapsed": "false",
    "colab": {},
    "colab_type": "code",
    "hidden": true,
    "id": "UZCmi-jrJDAF",
    "outputId": "26c60d0b-9107-47b5-ed36-9153c115fe4d"
   },
   "outputs": [
    {
     "data": {
      "image/png": "[encoded data removed]",
      "text/plain": [
       "<Figure size 720x504 with 1 Axes>"
      ]
     },
     "metadata": {
      "needs_background": "light",
      "tags": []
     },
     "output_type": "display_data"
    }
   ],
   "source": [
    "hist4 = thinkstats2.Hist(preg_alive['prglngth'])\n",
    "\n",
    "plt.figure(figsize = (10,7))\n",
    "plt.xlim(20, 50)\n",
    "thinkplot.Hist(hist4)"
   ]
  },
  {
   "cell_type": "markdown",
   "metadata": {
    "Collapsed": "true",
    "colab_type": "text",
    "heading_collapsed": true,
    "hidden": true,
    "id": "Ol_6PysyJDAH"
   },
   "source": [
    "### Outliers"
   ]
  },
  {
   "cell_type": "markdown",
   "metadata": {
    "Collapsed": "false",
    "colab_type": "text",
    "hidden": true,
    "id": "TmtlKISsJDAI"
   },
   "source": [
    "Looking at histograms, it is easy to identify the most common values and the shape of the distribution, but rare values are not always visible.\n",
    "Before going on, it is a good idea to check for **outliers**, which are extreme values that might be errors in measurement and recording, or might be accurate reports of rare events."
   ]
  },
  {
   "cell_type": "markdown",
   "metadata": {
    "Collapsed": "false",
    "colab_type": "text",
    "hidden": true,
    "id": "d4K7Ku3RJDAI"
   },
   "source": [
    "Get me the max and min value and its frequency of the dictionary created at the start of the class and of the `agepreg` creating your own function."
   ]
  },
  {
   "cell_type": "code",
   "execution_count": null,
   "metadata": {
    "Collapsed": "false",
    "colab": {},
    "colab_type": "code",
    "hidden": true,
    "id": "oM1CkPzLJDAJ"
   },
   "outputs": [],
   "source": [
    "def outliers(dict):\n",
    "    ind = 0\n",
    "    for key, value in dic.items():\n",
    "        if ind == 0:\n",
    "            max = key\n",
    "            min = key\n",
    "            ind = 1\n",
    "        if key >= max:\n",
    "            max = key\n",
    "            freq_max = value\n",
    "        if key <= min:\n",
    "            min = key\n",
    "            freq_min = value\n",
    "            \n",
    "    return {'max': max,'freq_max': freq_max,'min': min,'freq_min': freq_min}    "
   ]
  },
  {
   "cell_type": "code",
   "execution_count": null,
   "metadata": {
    "Collapsed": "false",
    "colab": {},
    "colab_type": "code",
    "hidden": true,
    "id": "ELfVxFqqJDAK",
    "outputId": "13b7836b-deb3-4b0f-e46a-e5457f8b9d82"
   },
   "outputs": [
    {
     "data": {
      "text/plain": [
       "{'max': 15.4375, 'freq_max': 1, 'min': 0.125, 'freq_min': 1}"
      ]
     },
     "execution_count": 23,
     "metadata": {
      "tags": []
     },
     "output_type": "execute_result"
    }
   ],
   "source": [
    "outliers(dic)"
   ]
  },
  {
   "cell_type": "markdown",
   "metadata": {
    "Collapsed": "false",
    "colab_type": "text",
    "hidden": true,
    "id": "HzauwAhEJDAM"
   },
   "source": [
    "`Hist` provides methods `Largest` and `Smallest`, which take an integer n and return the n largest or smallest values from the histogram:"
   ]
  },
  {
   "cell_type": "code",
   "execution_count": null,
   "metadata": {
    "Collapsed": "false",
    "colab": {},
    "colab_type": "code",
    "hidden": true,
    "id": "t82iUOY9JDAN",
    "outputId": "6402c926-f1e9-4e9e-8089-c3ab64936ad3"
   },
   "outputs": [
    {
     "name": "stdout",
     "output_type": "stream",
     "text": [
      "[(15.4375, 1)]\n",
      "[(0.125, 1)]\n"
     ]
    }
   ],
   "source": [
    "max = hist2.Largest(n = 1)\n",
    "min = hist2.Smallest(n = 1)\n",
    "print(max)\n",
    "print(min)"
   ]
  },
  {
   "cell_type": "markdown",
   "metadata": {
    "Collapsed": "false",
    "colab_type": "text",
    "hidden": true,
    "id": "D_xq7rhgJDAP"
   },
   "source": [
    "In the list of pregnancy lengths for live births, the 10 lowest values are [0, 4, 9, 13, 17, 18, 19, 20, 21, 22]. Values below 10 weeks are certainly errors; the most likely explanation is that the outcome was not coded correctly. Values higher than 30 weeks are probably legitimate. Between 10 and 30 weeks, it is hard to be sure; some values are probably errors, but some represent premature babies.<br>\n",
    "\n",
    "On the other end of the range, Most doctors recommend induced labor if a pregnancy exceeds 42 weeks, so some of the longer values are surprising. In particular, 50 weeks seems medically unlikely.<br>\n",
    "\n",
    "The best way to handle outliers depends on “domain knowledge”; that is, information about where the data come from and what they mean. And it depends on what analysis you are planning to perform.<br>\n",
    "\n",
    "In this example, the motivating question is whether first babies tend to be early (or late). When people ask this question, they are usually interested in full-term pregnancies, so for this analysis I will focus on pregnancies longer than 27 weeks."
   ]
  },
  {
   "cell_type": "markdown",
   "metadata": {
    "Collapsed": "true",
    "colab_type": "text",
    "heading_collapsed": true,
    "hidden": true,
    "id": "s1tQ7m5GJDAQ"
   },
   "source": [
    "## First Babies"
   ]
  },
  {
   "cell_type": "markdown",
   "metadata": {
    "Collapsed": "false",
    "colab_type": "text",
    "hidden": true,
    "id": "pEcgL9oxJDAQ"
   },
   "source": [
    "Now we can compare the distribution of pregnancy lengths for `first_babies` and `others`.\n",
    "\n",
    "Using `birthord`, divide the dataframe between those first babies and those which are not."
   ]
  },
  {
   "cell_type": "code",
   "execution_count": null,
   "metadata": {
    "Collapsed": "false",
    "colab": {},
    "colab_type": "code",
    "hidden": true,
    "id": "tnu7wf6qJDAR",
    "outputId": "40dbbdca-dc2b-43e1-8a7d-2a9d8deddf24"
   },
   "outputs": [
    {
     "name": "stdout",
     "output_type": "stream",
     "text": [
      "1.0    4413\n",
      "Name: birthord, dtype: int64\n",
      "\n",
      "2.0     2874\n",
      "3.0     1234\n",
      "4.0      421\n",
      "5.0      126\n",
      "6.0       50\n",
      "7.0       20\n",
      "8.0        7\n",
      "9.0        2\n",
      "10.0       1\n",
      "Name: birthord, dtype: int64\n"
     ]
    }
   ],
   "source": [
    "first_babies = preg[(preg['birthord'] == 1) & (preg['outcome'] == 1)]\n",
    "print(first_babies['birthord'].value_counts(dropna = False))\n",
    "print()\n",
    "others = preg[(preg['birthord'] != 1) & (preg['outcome'] == 1)]\n",
    "print(others['birthord'].value_counts(dropna = False))"
   ]
  },
  {
   "cell_type": "markdown",
   "metadata": {
    "Collapsed": "false",
    "colab_type": "text",
    "hidden": true,
    "id": "cb_7k2QWJDAU"
   },
   "source": [
    "Then plot the 2 histograms on the same axis to see how they compare"
   ]
  },
  {
   "cell_type": "code",
   "execution_count": null,
   "metadata": {
    "Collapsed": "false",
    "colab": {},
    "colab_type": "code",
    "hidden": true,
    "id": "YfD2-xgyJDAV",
    "outputId": "feb94532-b023-40fd-a358-a4cf304cb0c0"
   },
   "outputs": [
    {
     "data": {
      "image/png": "[encoded data removed]",
      "text/plain": [
       "<Figure size 720x504 with 1 Axes>"
      ]
     },
     "metadata": {
      "needs_background": "light",
      "tags": []
     },
     "output_type": "display_data"
    }
   ],
   "source": [
    "fig = plt.figure(figsize = (10,7))\n",
    "\n",
    "plt.hist(first_babies['prglngth'], bins = 100, label ='First Babies', align = 'right')\n",
    "plt.hist(others['prglngth'], bins = 100, color = 'red', label ='Others', align = 'left')\n",
    "\n",
    "# x = preg1['prglngth']\n",
    "# y = preg2['prglngth']\n",
    "# ax = fig.add_subplot(111)\n",
    "# x.plot(kind ='hist', bins = 103, ax = ax, label ='First Babies', align = 'right')\n",
    "# y.plot(kind ='hist', bins = 103, ax = ax, color='red', label ='Others', align = 'left')\n",
    "\n",
    "plt.legend()\n",
    "plt.xlim(20,50)\n",
    "plt.show()"
   ]
  },
  {
   "cell_type": "markdown",
   "metadata": {
    "Collapsed": "false",
    "colab_type": "text",
    "hidden": true,
    "id": "lmLvzlTrJDAW"
   },
   "source": [
    "Compare the result with the thinkstats plot"
   ]
  },
  {
   "cell_type": "code",
   "execution_count": null,
   "metadata": {
    "Collapsed": "false",
    "colab": {},
    "colab_type": "code",
    "hidden": true,
    "id": "spPbT_B3JDAX",
    "outputId": "7ae189d8-ac03-4064-8588-6b7a28847462"
   },
   "outputs": [
    {
     "data": {
      "image/png": "[encoded data removed]",
      "text/plain": [
       "<Figure size 720x504 with 1 Axes>"
      ]
     },
     "metadata": {
      "needs_background": "light",
      "tags": []
     },
     "output_type": "display_data"
    }
   ],
   "source": [
    "hist5 = thinkstats2.Hist(first_babies['prglngth'])\n",
    "hist6 = thinkstats2.Hist(others['prglngth'])\n",
    "\n",
    "plt.figure(figsize = (10,7))\n",
    "\n",
    "width = 0.45\n",
    "thinkplot.preplot(2)\n",
    "thinkplot.hist(hist5, align = 'left', width = width, label ='First Babies', alpha = 1)\n",
    "thinkplot.hist(hist6, align = 'right',  width = width, color='red', label ='Others', alpha = 1)\n",
    "\n",
    "plt.xlim(20,50)\n",
    "plt.legend()\n",
    "plt.show()"
   ]
  },
  {
   "cell_type": "markdown",
   "metadata": {
    "Collapsed": "false",
    "colab_type": "text",
    "hidden": true,
    "id": "-7FKrISfJDAY"
   },
   "source": [
    "`thinkplot.Hist` normally uses `align=’center’` so that each bar is centered over its value. For this figure, I use `align=’right’` and `align=’left’` to place corresponding bars on either side of the value.\n",
    "\n",
    "With `width=0.45`, the total width of the two bars is `0.9`, leaving some space between each pair.\n",
    "\n",
    "Finally, I adjust the axis to show only data between 27 and 46 weeks."
   ]
  },
  {
   "cell_type": "markdown",
   "metadata": {
    "Collapsed": "false",
    "colab_type": "text",
    "hidden": true,
    "id": "IovZudNFJDAZ"
   },
   "source": [
    "What conclusions can you drawn from the histograms observed?"
   ]
  },
  {
   "cell_type": "markdown",
   "metadata": {
    "Collapsed": "false",
    "colab_type": "text",
    "hidden": true,
    "id": "4JEPgYM7JDAa"
   },
   "source": [
    "Histograms are useful because they make the most frequent values immediately apparent. But they are not the best choice for comparing two distributions. In this example, there are fewer “first babies” than “others,” so some of the apparent differences in the histograms are due to sample sizes. In the next chapter we address this problem using probability mass functions."
   ]
  },
  {
   "cell_type": "markdown",
   "metadata": {
    "Collapsed": "true",
    "colab_type": "text",
    "heading_collapsed": true,
    "hidden": true,
    "id": "U_P_gk9CJDAa"
   },
   "source": [
    "## Summarizing distributions"
   ]
  },
  {
   "cell_type": "markdown",
   "metadata": {
    "Collapsed": "false",
    "colab_type": "text",
    "hidden": true,
    "id": "TOr8lkTNJDAb"
   },
   "source": [
    "A histogram is a complete description of the distribution of a sample; that is, given a histogram, we could reconstruct the values in the sample (although not their order).\n",
    "\n",
    "If the details of the distribution are important, it might be necessary to present a histogram. But often we want to summarize the distribution with a few descriptive statistics.\n",
    "\n",
    "Some of the characteristics we might want to report are:\n",
    "- central tendency: Do the values tend to **cluster** around a particular point?\n",
    "- modes: Is there more than one cluster?\n",
    "- spread: How much variability is there in the values?\n",
    "- tails: How quickly do the probabilities drop off as we move away from the modes?\n",
    "- outliers: Are there extreme values far from the modes?\n",
    "\n",
    "Statistics designed to answer these questions are called **summary statistics**. By far the most common summary statistic is the mean, which is meant to describe the central tendency of the distribution.\n",
    "\n",
    "If you have a sample of `n` values, `x` `i` , the mean, `x̄`, is the sum of the values divided by the number of values; in other words:\n",
    "\n",
    "![alt text](Resources/Think_Stats/notebookpics/mean.png \"Title\")<br>\n",
    "***Cram this formula***"
   ]
  },
  {
   "cell_type": "markdown",
   "metadata": {
    "Collapsed": "false",
    "colab_type": "text",
    "hidden": true,
    "id": "DHzWZt_wJDAb"
   },
   "source": [
    "The words “mean” and “average” are sometimes used interchangeably, but I make this distinction:\n",
    "- The **mean** of a sample is the summary statistic computed with the previous formula.\n",
    "- An **average** is one of several summary statistics you might choose to describe a central tendency."
   ]
  },
  {
   "cell_type": "markdown",
   "metadata": {
    "Collapsed": "false",
    "colab_type": "text",
    "hidden": true,
    "id": "OCFfqTAlJDAc"
   },
   "source": [
    "Sometimes the mean is a good description of a set of values. For example, apples are all pretty much the same size (at least the ones sold in supermarkets). So if I buy 6 apples and the total weight is 3 pounds, it would be a\n",
    "reasonable summary to say they are about a half pound each.\n",
    "\n",
    "But pumpkins are more diverse. Suppose I grow several varieties in my garden, and one day I harvest three decorative pumpkins that are 1 pound each, two pie pumpkins that are 3 pounds each, and one Atlantic Giant \n",
    "that weighs 591 pounds. The mean of this sample is 100 pounds, but if I told you “The average pumpkin in my garden is 100 pounds,” that would be misleading. In this example, there is no meaningful average because there is \n",
    "no typical pumpkin."
   ]
  },
  {
   "cell_type": "markdown",
   "metadata": {
    "Collapsed": "false",
    "colab_type": "text",
    "hidden": true,
    "id": "huLzPifOJDAc"
   },
   "source": [
    "Calculate the mean of the initial list created `a` and of the `prglngth` of the babies that survived with your own methods:"
   ]
  },
  {
   "cell_type": "code",
   "execution_count": null,
   "metadata": {
    "Collapsed": "false",
    "colab": {},
    "colab_type": "code",
    "hidden": true,
    "id": "12jXfADnJDAd",
    "outputId": "10ab592c-18db-4bdc-a6c9-d267f724f422"
   },
   "outputs": [
    {
     "name": "stdout",
     "output_type": "stream",
     "text": [
      "a mean: 6.066666666666666\n",
      "prglngth mean: 38.56055968517709\n"
     ]
    }
   ],
   "source": [
    "def jmean(lorser):\n",
    "    return sum(lorser)/len(lorser)\n",
    "\n",
    "print(\"a mean:\",jmean(a))\n",
    "print('prglngth mean:', jmean(preg_alive.prglngth))"
   ]
  },
  {
   "cell_type": "markdown",
   "metadata": {
    "Collapsed": "false",
    "colab_type": "text",
    "hidden": true,
    "id": "fcYfsbMRJDAg"
   },
   "source": [
    "Compare your results it with the `numpy` `mean` function"
   ]
  },
  {
   "cell_type": "code",
   "execution_count": null,
   "metadata": {
    "Collapsed": "false",
    "colab": {},
    "colab_type": "code",
    "hidden": true,
    "id": "sUsfuuIqJDAg",
    "outputId": "0fde62aa-1108-49f9-8545-38f7484e3f07"
   },
   "outputs": [
    {
     "name": "stdout",
     "output_type": "stream",
     "text": [
      "a mean: 6.066666666666666\n",
      "prglngth mean: 38.56055968517709\n"
     ]
    }
   ],
   "source": [
    "print(\"a mean:\",np.mean(a))\n",
    "print('prglngth mean:', np.mean(preg_alive.prglngth))"
   ]
  },
  {
   "cell_type": "markdown",
   "metadata": {
    "Collapsed": "true",
    "colab_type": "text",
    "heading_collapsed": true,
    "hidden": true,
    "id": "_sVsY2c5JDAi"
   },
   "source": [
    "## Variance"
   ]
  },
  {
   "cell_type": "markdown",
   "metadata": {
    "Collapsed": "false",
    "colab_type": "text",
    "hidden": true,
    "id": "T24pl2JPJDAi"
   },
   "source": [
    "If there is no single number that summarizes pumpkin weights, we can do a little better with two numbers: mean and **variance**.\n",
    "Variance is a summary statistic intended to describe the variability or spread of a distribution. The variance of a set of values is:<br>\n",
    "![alt text](Resources/Think_Stats/notebookpics/variance.png \"Title\")<br>\n",
    "**Cram this formula**"
   ]
  },
  {
   "cell_type": "markdown",
   "metadata": {
    "Collapsed": "false",
    "colab_type": "text",
    "hidden": true,
    "id": "WzCkSuhqJDAi"
   },
   "source": [
    "The term x i − x̄ is called the “deviation from the mean,” so variance is the mean squared deviation. The square root of variance, S, is the **standard deviation**.\n",
    "\n",
    "If you have prior experience, you might have seen a formula for variance with n − 1 in the denominator, rather than n. This statistic is used to estimate the variance in a population using a sample. We will come back to this in\n",
    "Chapter 8."
   ]
  },
  {
   "cell_type": "markdown",
   "metadata": {
    "Collapsed": "false",
    "colab_type": "text",
    "hidden": true,
    "id": "rEalSVOQJDAk"
   },
   "source": [
    "Calculate the Variance and standard deviation of the initial list created `a` and of the `prglngth` of the babies that survived with your own methods:"
   ]
  },
  {
   "cell_type": "code",
   "execution_count": null,
   "metadata": {
    "Collapsed": "false",
    "colab": {},
    "colab_type": "code",
    "hidden": true,
    "id": "SkedbEZDJDAk",
    "outputId": "8e79ff98-34a7-4ccb-fc31-85f0393adfe7"
   },
   "outputs": [
    {
     "name": "stdout",
     "output_type": "stream",
     "text": [
      "a variance: 71.1288888888889\n",
      "prglngth variance: 7.301863788195475\n",
      "a standard deviation: 8.433794453796517\n",
      "prglngth standard deviation: 2.702196104688828\n"
     ]
    }
   ],
   "source": [
    "def jvariance(listorserie):\n",
    "    return 1/len(listorserie)*sum([(x - jmean(listorserie))**2 for x in listorserie])\n",
    "\n",
    "print(\"a variance:\", jvariance(a))\n",
    "print('prglngth variance:', jvariance(preg_alive.prglngth))\n",
    "\n",
    "print(\"a standard deviation:\", np.sqrt(jvariance(a)))\n",
    "print('prglngth standard deviation:', np.sqrt(jvariance(preg_alive.prglngth)))"
   ]
  },
  {
   "cell_type": "markdown",
   "metadata": {
    "Collapsed": "false",
    "colab_type": "text",
    "hidden": true,
    "id": "kxmTS7peJDAn"
   },
   "source": [
    "Use `pandas` methods `.mean()` `.var()` `.std()` to compare your results"
   ]
  },
  {
   "cell_type": "code",
   "execution_count": null,
   "metadata": {
    "Collapsed": "false",
    "colab": {},
    "colab_type": "code",
    "hidden": true,
    "id": "0G68sSOsJDAn",
    "outputId": "641fcb8f-601c-4b66-90e7-cfb736abaa4b"
   },
   "outputs": [
    {
     "name": "stdout",
     "output_type": "stream",
     "text": [
      "a variance: 71.1288888888889\n",
      "prglngth variance: 7.301863788195441\n",
      "a standard deviation: 8.433794453796517\n",
      "prglngth standard deviation: 2.702196104688822\n"
     ]
    }
   ],
   "source": [
    "print(\"a variance:\", np.var(a))\n",
    "print('prglngth variance:', np.var(preg_alive.prglngth))\n",
    "\n",
    "print(\"a standard deviation:\", np.std(a))\n",
    "print('prglngth standard deviation:', np.std(preg_alive.prglngth))"
   ]
  },
  {
   "cell_type": "markdown",
   "metadata": {
    "Collapsed": "false",
    "colab_type": "text",
    "hidden": true,
    "id": "mD-5PExHJDAq"
   },
   "source": [
    "For all live births, the mean pregnancy length is 38.6 weeks, the standard deviation is 2.7 weeks, which means we should expect deviations of 2-3 weeks to be common.\n",
    "Variance of pregnancy length is 7.3, which is hard to interpret, especially since the units are weeks 2 , or “square weeks.” Variance is useful in some calculations, but it is not a good summary statistic."
   ]
  },
  {
   "cell_type": "markdown",
   "metadata": {
    "Collapsed": "true",
    "colab_type": "text",
    "heading_collapsed": true,
    "hidden": true,
    "id": "P9fD6Ca9JDAq"
   },
   "source": [
    "## Effect Size"
   ]
  },
  {
   "cell_type": "markdown",
   "metadata": {
    "Collapsed": "false",
    "colab_type": "text",
    "hidden": true,
    "id": "XllhUmadJDAq"
   },
   "source": [
    "An **effect size** is a summary statistic intended to describe (wait for it) the size of an effect. For example, to describe the difference between two groups, one obvious choice is the difference in the means.\n",
    "\n",
    "Mean pregnancy length for first babies is 38.601; for other babies it is 38.523. The difference is 0.078 weeks, which works out to 13 hours. As a fraction of the typical pregnancy length, this difference is about 0.2%.\n",
    "\n",
    "If we assume this estimate is accurate, such a difference would have no practical consequences. In fact, without observing a large number of pregnancies, it is unlikely that anyone would notice this difference at all.\n",
    "\n",
    "Another way to convey the size of the effect is to compare the difference between groups to the variability within groups. Cohen’s d is a statistic intended to do that; it is defined:\n",
    "\n",
    "![alt text](Resources/Think_Stats/notebookpics/cohen.png \"Title\")<br>\n",
    "**Cram this formula**\n",
    "\n",
    "Compute Cohen’s d of prglngth between:\n",
    "- the babies that survived and those who didn't\n",
    "- first babies and those who are not.\n",
    "\n",
    "With your own methods:"
   ]
  },
  {
   "cell_type": "code",
   "execution_count": null,
   "metadata": {
    "Collapsed": "false",
    "colab": {},
    "colab_type": "code",
    "hidden": true,
    "id": "Q3-hcAMGJDAr"
   },
   "outputs": [],
   "source": [
    "preg_dead = preg.loc[preg['outcome'] != 1]"
   ]
  },
  {
   "cell_type": "code",
   "execution_count": null,
   "metadata": {
    "Collapsed": "false",
    "colab": {},
    "colab_type": "code",
    "hidden": true,
    "id": "iwTIpjjqJDAs",
    "outputId": "8c6368ab-cf51-4d9a-eb82-90cadd565fa8"
   },
   "outputs": [
    {
     "name": "stdout",
     "output_type": "stream",
     "text": [
      "5.794689766280667\n"
     ]
    }
   ],
   "source": [
    "m3 = jmean(preg_alive['prglngth'])\n",
    "m4 = jmean(preg_dead['prglngth'])\n",
    "\n",
    "n3 = len(preg_alive['prglngth'])\n",
    "n4 = len(preg_dead['prglngth'])\n",
    "\n",
    "v3 = jvariance(preg_alive['prglngth'])\n",
    "v4 = jvariance(preg_dead['prglngth'])\n",
    "\n",
    "denom = np.sqrt((n3*v3 + n4*v4)\n",
    "               /\n",
    "               (n3 + n4))\n",
    "d_survived = (m3 - m4)/denom\n",
    "print(d_survived)"
   ]
  },
  {
   "cell_type": "code",
   "execution_count": null,
   "metadata": {
    "Collapsed": "false",
    "colab": {},
    "colab_type": "code",
    "hidden": true,
    "id": "hRySjLBhJDAu",
    "outputId": "10465ac6-9c00-44c9-dc59-201f1f045d7e",
    "scrolled": true
   },
   "outputs": [
    {
     "name": "stdout",
     "output_type": "stream",
     "text": [
      "0.028882209288160925\n"
     ]
    }
   ],
   "source": [
    "m1 = jmean(first_babies['prglngth'])\n",
    "m2 = jmean(others['prglngth'])\n",
    "\n",
    "n1 = len(first_babies['prglngth'])\n",
    "n2 = len(others['prglngth'])\n",
    "\n",
    "v1 = jvariance(first_babies['prglngth'])\n",
    "v2 = jvariance(others['prglngth'])\n",
    "\n",
    "denom = np.sqrt((n2*v2 + n1*v1)\n",
    "               /\n",
    "               (n1 + n2))\n",
    "\n",
    "d_prglng_fo = (m1 - m2)/denom\n",
    "print(d_prglng_fo)"
   ]
  },
  {
   "cell_type": "code",
   "execution_count": null,
   "metadata": {
    "Collapsed": "false",
    "colab": {},
    "colab_type": "code",
    "hidden": true,
    "id": "fingM2KEJDAv",
    "outputId": "1a49d85b-cd3a-4548-fbc2-e31b54c5dbb9"
   },
   "outputs": [
    {
     "name": "stdout",
     "output_type": "stream",
     "text": [
      "0.028879051899871788\n",
      "5.794263451049945\n"
     ]
    }
   ],
   "source": [
    "from numpy import mean, sqrt, std\n",
    "\n",
    "def cohen_d(x,y):\n",
    "    nx = len(x)\n",
    "    ny = len(y)\n",
    "    dof = nx + ny - 2\n",
    "    return (mean(x) - mean(y)) / sqrt(((nx-1)*std(x, ddof=1) ** 2 + (ny-1)*std(y, ddof=1) ** 2) / dof)\n",
    "\n",
    "d_prglng_fo = cohen_d(first_babies['prglngth'], others['prglngth'])\n",
    "print(d_prglng_fo)\n",
    "\n",
    "d_survived = cohen_d(preg_alive['prglngth'], preg_dead['prglngth'])\n",
    "print(d_survived)"
   ]
  },
  {
   "cell_type": "markdown",
   "metadata": {
    "Collapsed": "true",
    "colab_type": "text",
    "heading_collapsed": true,
    "hidden": true,
    "id": "_htXCFnoJDAy"
   },
   "source": [
    "## Reporting results"
   ]
  },
  {
   "cell_type": "markdown",
   "metadata": {
    "Collapsed": "false",
    "colab_type": "text",
    "hidden": true,
    "id": "hgGaTD5cJDAz"
   },
   "source": [
    "We have seen several ways to describe the difference in pregnancy length (if there is one) between first babies and others. How should we report these results?\n",
    "\n",
    "The answer depends on who is asking the question. A scientist might be interested in any (real) effect, no matter how small. A doctor might only care about effects that are **clinically significant**; that is, differences that\n",
    "affect treatment decisions. A pregnant woman might be interested in results that are relevant to her, like the probability of delivering early or late.\n",
    "\n",
    "How you report results also depends on your goals. If you are trying to demonstrate the importance of an effect, you might choose summary statistics that emphasize differences. If you are trying to reassure a patient, you\n",
    "might choose statistics that put the differences in context.\n",
    "\n",
    "Of course your decisions should also be guided by professional ethics. It’s ok to be persuasive; you should design statistical reports and visualizations that tell a story clearly. But you should also do your best to make your reports honest, and to acknowledge uncertainty and limitations."
   ]
  }
 ],
 "metadata": {
  "colab": {
   "collapsed_sections": [
    "XrOFNn7XJC_o",
    "dQCL817_JC_x",
    "Ol_6PysyJDAH",
    "s1tQ7m5GJDAQ"
   ],
   "name": "Day 13 - Sol.ipynb",
   "provenance": []
  },
  "kernelspec": {
   "display_name": "Python 3",
   "language": "python",
   "name": "python3"
  },
  "language_info": {
   "codemirror_mode": {
    "name": "ipython",
    "version": 3
   },
   "file_extension": ".py",
   "mimetype": "text/x-python",
   "name": "python",
   "nbconvert_exporter": "python",
   "pygments_lexer": "ipython3",
   "version": "3.7.3"
  },
  "toc": {
   "base_numbering": 1,
   "nav_menu": {},
   "number_sections": false,
   "sideBar": true,
   "skip_h1_title": false,
   "title_cell": "Table of Contents",
   "title_sidebar": "Contents",
   "toc_cell": false,
   "toc_position": {
    "height": "calc(100% - 180px)",
    "left": "10px",
    "top": "150px",
    "width": "165px"
   },
   "toc_section_display": true,
   "toc_window_display": true
  }
 },
 "nbformat": 4,
 "nbformat_minor": 4
}
