{
 "cells": [
  {
   "cell_type": "markdown",
   "metadata": {
    "Collapsed": "false",
    "colab_type": "text",
    "id": "SO8k_stnxSTl"
   },
   "source": [
    "<img src=\"https://user-images.strikinglycdn.com/res/hrscywv4p/image/upload/c_limit,fl_lossy,h_300,w_300,f_auto,q_auto/1266110/Logo_wzxi0f.png\" style=\"float: left; margin: 20px; height: 55px\">"
   ]
  },
  {
   "cell_type": "markdown",
   "metadata": {
    "Collapsed": "true",
    "colab_type": "text",
    "id": "VFmzLCWrxQtl"
   },
   "source": [
    "## 1. Conditional Statements"
   ]
  },
  {
   "cell_type": "code",
   "execution_count": null,
   "metadata": {
    "Collapsed": "false",
    "colab": {},
    "colab_type": "code",
    "id": "6bvrR_oYxQtn"
   },
   "outputs": [],
   "source": [
    "con = [3,3/2,-77,1001,8,342,-19,2,-5,0,997,23]"
   ]
  },
  {
   "cell_type": "markdown",
   "metadata": {
    "Collapsed": "true",
    "colab_type": "text",
    "id": "krOQ7-yNxQtt"
   },
   "source": [
    "##### 1. Categorise each element of the list below into two lists, negative and positive. Print both lists."
   ]
  },
  {
   "cell_type": "code",
   "execution_count": null,
   "metadata": {
    "Collapsed": "false",
    "colab": {
     "base_uri": "https://localhost:8080/",
     "height": 51
    },
    "colab_type": "code",
    "executionInfo": {
     "elapsed": 549,
     "status": "ok",
     "timestamp": 1573068101550,
     "user": {
      "displayName": "Javier Martinez Blanco",
      "photoUrl": "",
      "userId": "16491368014362528412"
     },
     "user_tz": -60
    },
    "id": "QxI37zwrxQtu",
    "outputId": "35eae7f0-1608-4a1d-ce3a-4d38c24105b7"
   },
   "outputs": [
    {
     "name": "stdout",
     "output_type": "stream",
     "text": [
      "[3, 1.5, 1001, 8, 342, 2, 0, 997, 23]\n",
      "[-77, -19, -5]\n"
     ]
    }
   ],
   "source": [
    " positive=[]\n",
    "negative=[]\n",
    "\n",
    "for i in con :\n",
    "  if i >= 0:\n",
    "    positive.append(i) \n",
    "  else:\n",
    "    negative.append(i)\n",
    "print(positive)\n",
    "print(negative)"
   ]
  },
  {
   "cell_type": "markdown",
   "metadata": {
    "Collapsed": "true",
    "colab_type": "text",
    "id": "lT8tSWknxQt1"
   },
   "source": [
    "##### 2. Use the con list to and classify each element into tow list, pair and odds. Print both lists"
   ]
  },
  {
   "cell_type": "code",
   "execution_count": null,
   "metadata": {
    "Collapsed": "false",
    "colab": {
     "base_uri": "https://localhost:8080/",
     "height": 204
    },
    "colab_type": "code",
    "executionInfo": {
     "elapsed": 449,
     "status": "ok",
     "timestamp": 1573069393136,
     "user": {
      "displayName": "Javier Martinez Blanco",
      "photoUrl": "",
      "userId": "16491368014362528412"
     },
     "user_tz": -60
    },
    "id": "BE_1TZTtxQt3",
    "outputId": "d3cd08b1-ec61-4afd-97a7-8eef860eeb5d"
   },
   "outputs": [
    {
     "name": "stdout",
     "output_type": "stream",
     "text": [
      "[3]\n",
      "[3, -77]\n",
      "[3, -77, 1001]\n",
      "[8]\n",
      "[8, 342]\n",
      "[3, -77, 1001, -19]\n",
      "[8, 342, 2]\n",
      "[3, -77, 1001, -19, -5]\n",
      "[8, 342, 2, 0]\n",
      "[3, -77, 1001, -19, -5, 997]\n",
      "[3, -77, 1001, -19, -5, 997, 23]\n"
     ]
    }
   ],
   "source": [
    "\n",
    "pair=[]\n",
    "odds=[]\n",
    "\n",
    "for i in con:\n",
    "  if i % 2 == 0:\n",
    "    pair.append(i)\n",
    "    print(pair)\n",
    "  if i % 2 == 1:\n",
    "    odds.append(i)\n",
    "    print(odds)"
   ]
  },
  {
   "cell_type": "code",
   "execution_count": null,
   "metadata": {
    "Collapsed": "false",
    "colab": {
     "base_uri": "https://localhost:8080/",
     "height": 34
    },
    "colab_type": "code",
    "executionInfo": {
     "elapsed": 433,
     "status": "ok",
     "timestamp": 1573068354979,
     "user": {
      "displayName": "Javier Martinez Blanco",
      "photoUrl": "",
      "userId": "16491368014362528412"
     },
     "user_tz": -60
    },
    "id": "u-hl9fV5LX5_",
    "outputId": "8b6c16f0-2bdc-4bc0-b6a5-d4e3547be456"
   },
   "outputs": [
    {
     "data": {
      "text/plain": [
       "1"
      ]
     },
     "execution_count": 18,
     "metadata": {
      "tags": []
     },
     "output_type": "execute_result"
    }
   ],
   "source": [
    "3%2"
   ]
  },
  {
   "cell_type": "markdown",
   "metadata": {
    "Collapsed": "true",
    "colab_type": "text",
    "id": "fMMTjTy_xQt8"
   },
   "source": [
    "##### 3. Use the con list to return only does numbers greater than 0 but less than 30"
   ]
  },
  {
   "cell_type": "code",
   "execution_count": 2,
   "metadata": {
    "Collapsed": "false",
    "colab": {
     "base_uri": "https://localhost:8080/",
     "height": 123
    },
    "colab_type": "code",
    "executionInfo": {
     "elapsed": 349,
     "status": "ok",
     "timestamp": 1573151950897,
     "user": {
      "displayName": "Javier Martinez Blanco",
      "photoUrl": "",
      "userId": "16491368014362528412"
     },
     "user_tz": -60
    },
    "id": "KNO22t-gxQt9",
    "outputId": "436605e2-2e88-475f-e440-7637686be320"
   },
   "outputs": [
    {
     "name": "stdout",
     "output_type": "stream",
     "text": [
      "[3]\n",
      "[3, 1.5]\n",
      "[3, 1.5, 8]\n",
      "[3, 1.5, 8, 2]\n",
      "[3, 1.5, 8, 2, 0]\n",
      "[3, 1.5, 8, 2, 0, 23]\n"
     ]
    }
   ],
   "source": [
    "ccc=[]\n",
    "\n",
    "for i in con:\n",
    "  if i >= 0 and i< 30:\n",
    "    ccc.append(i)\n",
    "    print(ccc)\n",
    "    \n",
    "    \n"
   ]
  },
  {
   "cell_type": "markdown",
   "metadata": {
    "Collapsed": "true",
    "colab_type": "text",
    "id": "1FL8UXqgxQuA"
   },
   "source": [
    "##### 4. Use the con list to return only the odd numbers that are greater than 2."
   ]
  },
  {
   "cell_type": "code",
   "execution_count": null,
   "metadata": {
    "Collapsed": "false",
    "colab": {
     "base_uri": "https://localhost:8080/",
     "height": 85
    },
    "colab_type": "code",
    "executionInfo": {
     "elapsed": 637,
     "status": "ok",
     "timestamp": 1573069652549,
     "user": {
      "displayName": "Javier Martinez Blanco",
      "photoUrl": "",
      "userId": "16491368014362528412"
     },
     "user_tz": -60
    },
    "id": "8l9RZ-slxQuB",
    "outputId": "865b6f00-9f89-462e-9fa8-d9a560668bee"
   },
   "outputs": [
    {
     "name": "stdout",
     "output_type": "stream",
     "text": [
      "3\n",
      "1001\n",
      "997\n",
      "23\n"
     ]
    }
   ],
   "source": [
    "for i in con:\n",
    "  if i%2==1 and i > 2:\n",
    "    print(i)\n",
    "\n",
    "\n"
   ]
  },
  {
   "cell_type": "markdown",
   "metadata": {
    "Collapsed": "true",
    "colab_type": "text",
    "id": "hST1d_-QxQuE"
   },
   "source": [
    "##### 5. Add the number from the previous exercise into a list and return the sum of them. Call the list belgrave"
   ]
  },
  {
   "cell_type": "code",
   "execution_count": 3,
   "metadata": {
    "Collapsed": "false",
    "colab": {
     "base_uri": "https://localhost:8080/",
     "height": 34
    },
    "colab_type": "code",
    "executionInfo": {
     "elapsed": 465,
     "status": "ok",
     "timestamp": 1573151955787,
     "user": {
      "displayName": "Javier Martinez Blanco",
      "photoUrl": "",
      "userId": "16491368014362528412"
     },
     "user_tz": -60
    },
    "id": "BreYrn5ExQuF",
    "outputId": "935af53e-aaa5-45ee-a3f3-f264614cf328"
   },
   "outputs": [
    {
     "name": "stdout",
     "output_type": "stream",
     "text": [
      "[3, 1001, 997, 23]\n"
     ]
    }
   ],
   "source": [
    "belgrave=[]\n",
    "\n",
    "for i in con:\n",
    "  if i%2==1 and i > 2:\n",
    "    belgrave.append(i)\n",
    "print(belgrave)\n"
   ]
  },
  {
   "cell_type": "markdown",
   "metadata": {
    "Collapsed": "true",
    "colab_type": "text",
    "id": "KbDb0CoXxQuI"
   },
   "source": [
    "##### 6. Multiply each element of the con list by the value in the list belgrave and add it to a new list called valley. You can´t write down the number 2024."
   ]
  },
  {
   "cell_type": "code",
   "execution_count": null,
   "metadata": {
    "Collapsed": "false",
    "colab": {
     "base_uri": "https://localhost:8080/",
     "height": 54
    },
    "colab_type": "code",
    "executionInfo": {
     "elapsed": 587,
     "status": "ok",
     "timestamp": 1573070408755,
     "user": {
      "displayName": "Javier Martinez Blanco",
      "photoUrl": "",
      "userId": "16491368014362528412"
     },
     "user_tz": -60
    },
    "id": "tRQx5z92xQuJ",
    "outputId": "524b2dcb-7e6a-4226-a07a-e8753563ecda"
   },
   "outputs": [
    {
     "name": "stdout",
     "output_type": "stream",
     "text": [
      "[9, 3003, 2991, 69, 4.5, 1501.5, 1495.5, 34.5, -231, -77077, -76769, -1771, 3003, 1002001, 997997, 23023, 24, 8008, 7976, 184, 1026, 342342, 340974, 7866, -57, -19019, -18943, -437, 6, 2002, 1994, 46, -15, -5005, -4985, -115, 0, 0, 0, 0, 2991, 997997, 994009, 22931, 69, 23023, 22931, 529]\n"
     ]
    }
   ],
   "source": [
    "valley=[]\n",
    "\n",
    "for i in con:\n",
    "  for x in belgrave:\n",
    "    valley.append(i*x)\n",
    "print(valley)"
   ]
  },
  {
   "cell_type": "code",
   "execution_count": null,
   "metadata": {
    "Collapsed": "false",
    "colab": {},
    "colab_type": "code",
    "id": "UPguhsOjSg2J"
   },
   "outputs": [],
   "source": []
  },
  {
   "cell_type": "markdown",
   "metadata": {
    "Collapsed": "true",
    "colab_type": "text",
    "id": "K7IhlTj1xQuN"
   },
   "source": [
    "##### 7. Multiply each element of the valley list and the con list. Append the result to a new list called final."
   ]
  },
  {
   "cell_type": "code",
   "execution_count": null,
   "metadata": {
    "Collapsed": "false",
    "colab": {
     "base_uri": "https://localhost:8080/",
     "height": 54
    },
    "colab_type": "code",
    "executionInfo": {
     "elapsed": 453,
     "status": "ok",
     "timestamp": 1573070668205,
     "user": {
      "displayName": "Javier Martinez Blanco",
      "photoUrl": "",
      "userId": "16491368014362528412"
     },
     "user_tz": -60
    },
    "id": "02HAegy0xQuO",
    "outputId": "12f92045-dc8f-4f6e-d2f0-07b7b47dddbc"
   },
   "outputs": [
    {
     "name": "stdout",
     "output_type": "stream",
     "text": [
      "[27, 13.5, -693, 9009, 72, 3078, -171, 18, -45, 0, 8973, 207, 9009, 4504.5, -231231, 3006003, 24024, 1027026, -57057, 6006, -15015, 0, 2993991, 69069, 8973, 4486.5, -230307, 2993991, 23928, 1022922, -56829, 5982, -14955, 0, 2982027, 68793, 207, 103.5, -5313, 69069, 552, 23598, -1311, 138, -345, 0, 68793, 1587, 13.5, 6.75, -346.5, 4504.5, 36.0, 1539.0, -85.5, 9.0, -22.5, 0.0, 4486.5, 103.5, 4504.5, 2252.25, -115615.5, 1503001.5, 12012.0, 513513.0, -28528.5, 3003.0, -7507.5, 0.0, 1496995.5, 34534.5, 4486.5, 2243.25, -115153.5, 1496995.5, 11964.0, 511461.0, -28414.5, 2991.0, -7477.5, 0.0, 1491013.5, 34396.5, 103.5, 51.75, -2656.5, 34534.5, 276.0, 11799.0, -655.5, 69.0, -172.5, 0.0, 34396.5, 793.5, -693, -346.5, 17787, -231231, -1848, -79002, 4389, -462, 1155, 0, -230307, -5313, -231231, -115615.5, 5934929, -77154077, -616616, -26360334, 1464463, -154154, 385385, 0, -76845769, -1772771, -230307, -115153.5, 5911213, -76845769, -614152, -26254998, 1458611, -153538, 383845, 0, -76538693, -1765687, -5313, -2656.5, 136367, -1772771, -14168, -605682, 33649, -3542, 8855, 0, -1765687, -40733, 9009, 4504.5, -231231, 3006003, 24024, 1027026, -57057, 6006, -15015, 0, 2993991, 69069, 3006003, 1503001.5, -77154077, 1003003001, 8016008, 342684342, -19038019, 2004002, -5010005, 0, 998994997, 23046023, 2993991, 1496995.5, -76845769, 998994997, 7983976, 341314974, -18961943, 1995994, -4989985, 0, 995003009, 22953931, 69069, 34534.5, -1772771, 23046023, 184184, 7873866, -437437, 46046, -115115, 0, 22953931, 529529, 72, 36.0, -1848, 24024, 192, 8208, -456, 48, -120, 0, 23928, 552, 24024, 12012.0, -616616, 8016008, 64064, 2738736, -152152, 16016, -40040, 0, 7983976, 184184, 23928, 11964.0, -614152, 7983976, 63808, 2727792, -151544, 15952, -39880, 0, 7952072, 183448, 552, 276.0, -14168, 184184, 1472, 62928, -3496, 368, -920, 0, 183448, 4232, 3078, 1539.0, -79002, 1027026, 8208, 350892, -19494, 2052, -5130, 0, 1022922, 23598, 1027026, 513513.0, -26360334, 342684342, 2738736, 117080964, -6504498, 684684, -1711710, 0, 341314974, 7873866, 1022922, 511461.0, -26254998, 341314974, 2727792, 116613108, -6478506, 681948, -1704870, 0, 339951078, 7842402, 23598, 11799.0, -605682, 7873866, 62928, 2690172, -149454, 15732, -39330, 0, 7842402, 180918, -171, -85.5, 4389, -57057, -456, -19494, 1083, -114, 285, 0, -56829, -1311, -57057, -28528.5, 1464463, -19038019, -152152, -6504498, 361361, -38038, 95095, 0, -18961943, -437437, -56829, -28414.5, 1458611, -18961943, -151544, -6478506, 359917, -37886, 94715, 0, -18886171, -435689, -1311, -655.5, 33649, -437437, -3496, -149454, 8303, -874, 2185, 0, -435689, -10051, 18, 9.0, -462, 6006, 48, 2052, -114, 12, -30, 0, 5982, 138, 6006, 3003.0, -154154, 2004002, 16016, 684684, -38038, 4004, -10010, 0, 1995994, 46046, 5982, 2991.0, -153538, 1995994, 15952, 681948, -37886, 3988, -9970, 0, 1988018, 45862, 138, 69.0, -3542, 46046, 368, 15732, -874, 92, -230, 0, 45862, 1058, -45, -22.5, 1155, -15015, -120, -5130, 285, -30, 75, 0, -14955, -345, -15015, -7507.5, 385385, -5010005, -40040, -1711710, 95095, -10010, 25025, 0, -4989985, -115115, -14955, -7477.5, 383845, -4989985, -39880, -1704870, 94715, -9970, 24925, 0, -4970045, -114655, -345, -172.5, 8855, -115115, -920, -39330, 2185, -230, 575, 0, -114655, -2645, 0, 0.0, 0, 0, 0, 0, 0, 0, 0, 0, 0, 0, 0, 0.0, 0, 0, 0, 0, 0, 0, 0, 0, 0, 0, 0, 0.0, 0, 0, 0, 0, 0, 0, 0, 0, 0, 0, 0, 0.0, 0, 0, 0, 0, 0, 0, 0, 0, 0, 0, 8973, 4486.5, -230307, 2993991, 23928, 1022922, -56829, 5982, -14955, 0, 2982027, 68793, 2993991, 1496995.5, -76845769, 998994997, 7983976, 341314974, -18961943, 1995994, -4989985, 0, 995003009, 22953931, 2982027, 1491013.5, -76538693, 995003009, 7952072, 339951078, -18886171, 1988018, -4970045, 0, 991026973, 22862207, 68793, 34396.5, -1765687, 22953931, 183448, 7842402, -435689, 45862, -114655, 0, 22862207, 527413, 207, 103.5, -5313, 69069, 552, 23598, -1311, 138, -345, 0, 68793, 1587, 69069, 34534.5, -1772771, 23046023, 184184, 7873866, -437437, 46046, -115115, 0, 22953931, 529529, 68793, 34396.5, -1765687, 22953931, 183448, 7842402, -435689, 45862, -114655, 0, 22862207, 527413, 1587, 793.5, -40733, 529529, 4232, 180918, -10051, 1058, -2645, 0, 527413, 12167]\n"
     ]
    }
   ],
   "source": [
    "final=[]\n",
    "for i in valley:\n",
    "  for x in con:\n",
    "    final.append(i*x)\n",
    "print(final)"
   ]
  },
  {
   "cell_type": "code",
   "execution_count": null,
   "metadata": {
    "Collapsed": "false",
    "colab": {},
    "colab_type": "code",
    "id": "X0HjPTTfY1gp"
   },
   "outputs": [],
   "source": [
    "cities=['madrid', 'barcelona',' londres', 'roma', 'moscu', 'milan']"
   ]
  },
  {
   "cell_type": "code",
   "execution_count": null,
   "metadata": {
    "Collapsed": "false",
    "colab": {
     "base_uri": "https://localhost:8080/",
     "height": 119
    },
    "colab_type": "code",
    "executionInfo": {
     "elapsed": 436,
     "status": "ok",
     "timestamp": 1573072194274,
     "user": {
      "displayName": "Javier Martinez Blanco",
      "photoUrl": "",
      "userId": "16491368014362528412"
     },
     "user_tz": -60
    },
    "id": "fOJvimC_Y19_",
    "outputId": "64dbf910-221f-43d5-ec15-dd6751782fd2"
   },
   "outputs": [
    {
     "name": "stdout",
     "output_type": "stream",
     "text": [
      "6\n",
      "9\n",
      "8\n",
      "4\n",
      "5\n",
      "5\n"
     ]
    }
   ],
   "source": [
    "for i in cities:\n",
    "  print(len(i))"
   ]
  },
  {
   "cell_type": "code",
   "execution_count": null,
   "metadata": {
    "Collapsed": "false",
    "colab": {
     "base_uri": "https://localhost:8080/",
     "height": 34
    },
    "colab_type": "code",
    "executionInfo": {
     "elapsed": 443,
     "status": "ok",
     "timestamp": 1573072456011,
     "user": {
      "displayName": "Javier Martinez Blanco",
      "photoUrl": "",
      "userId": "16491368014362528412"
     },
     "user_tz": -60
    },
    "id": "9bdxYTLzajJw",
    "outputId": "e017ef90-12b8-458d-c691-9385f49af9f0"
   },
   "outputs": [
    {
     "name": "stdout",
     "output_type": "stream",
     "text": [
      "[6, 9, 8, 4, 5, 5]\n"
     ]
    }
   ],
   "source": [
    "citieslength=[]\n",
    "for i in cities:\n",
    "  citieslength.append(len(i))\n",
    "print(citieslength)\n"
   ]
  },
  {
   "cell_type": "code",
   "execution_count": null,
   "metadata": {
    "Collapsed": "false",
    "colab": {
     "base_uri": "https://localhost:8080/",
     "height": 34
    },
    "colab_type": "code",
    "executionInfo": {
     "elapsed": 528,
     "status": "ok",
     "timestamp": 1573072665776,
     "user": {
      "displayName": "Javier Martinez Blanco",
      "photoUrl": "",
      "userId": "16491368014362528412"
     },
     "user_tz": -60
    },
    "id": "B_UklIKsbX54",
    "outputId": "b68e92d5-ca43-47d1-aec8-f9cbe3f28bef"
   },
   "outputs": [
    {
     "name": "stdout",
     "output_type": "stream",
     "text": [
      "[16, 19, 18, 14, 15, 15]\n"
     ]
    }
   ],
   "source": [
    "xxx=[]\n",
    "for i in citieslength:\n",
    "  xxx.append(i+10)\n",
    "print(xxx)"
   ]
  },
  {
   "cell_type": "code",
   "execution_count": null,
   "metadata": {
    "Collapsed": "false",
    "colab": {
     "base_uri": "https://localhost:8080/",
     "height": 34
    },
    "colab_type": "code",
    "executionInfo": {
     "elapsed": 456,
     "status": "ok",
     "timestamp": 1573072912625,
     "user": {
      "displayName": "Javier Martinez Blanco",
      "photoUrl": "",
      "userId": "16491368014362528412"
     },
     "user_tz": -60
    },
    "id": "fVxEvhLZcCDc",
    "outputId": "32e1bf0b-e512-4ed8-9a58-4cbb1fa0a4c0"
   },
   "outputs": [
    {
     "name": "stdout",
     "output_type": "stream",
     "text": [
      "[32, 9.5, 36, 28, 7.5, 7.5]\n"
     ]
    }
   ],
   "source": [
    "m=[]\n",
    "for i in xxx:\n",
    "  if i%2==0:\n",
    "    m.append(i*2)\n",
    "  if i%2==1:\n",
    "    m.append(i/2)\n",
    "print(m)\n"
   ]
  },
  {
   "cell_type": "markdown",
   "metadata": {
    "Collapsed": "true",
    "colab_type": "text",
    "id": "abv_jiTlxQuT"
   },
   "source": [
    "## 2. Dictionaries\n"
   ]
  },
  {
   "cell_type": "code",
   "execution_count": null,
   "metadata": {
    "Collapsed": "false",
    "colab": {
     "base_uri": "https://localhost:8080/",
     "height": 34
    },
    "colab_type": "code",
    "executionInfo": {
     "elapsed": 450,
     "status": "ok",
     "timestamp": 1573073022969,
     "user": {
      "displayName": "Javier Martinez Blanco",
      "photoUrl": "",
      "userId": "16491368014362528412"
     },
     "user_tz": -60
    },
    "id": "F2EZtfSRdDPi",
    "outputId": "b658c673-7a85-4439-af76-3212957845f4"
   },
   "outputs": [
    {
     "data": {
      "text/plain": [
       "120.5"
      ]
     },
     "execution_count": 83,
     "metadata": {
      "tags": []
     },
     "output_type": "execute_result"
    }
   ],
   "source": [
    "sum(m)"
   ]
  },
  {
   "cell_type": "code",
   "execution_count": null,
   "metadata": {
    "Collapsed": "false",
    "colab": {
     "base_uri": "https://localhost:8080/",
     "height": 34
    },
    "colab_type": "code",
    "executionInfo": {
     "elapsed": 590,
     "status": "ok",
     "timestamp": 1573073046469,
     "user": {
      "displayName": "Javier Martinez Blanco",
      "photoUrl": "",
      "userId": "16491368014362528412"
     },
     "user_tz": -60
    },
    "id": "v6xCMZO-dZuV",
    "outputId": "e6d8d1d9-8e8a-4999-fe77-b302d1c5ebf6"
   },
   "outputs": [
    {
     "data": {
      "text/plain": [
       "['madrid', 'barcelona', ' londres', 'roma', 'moscu', 'milan']"
      ]
     },
     "execution_count": 84,
     "metadata": {
      "tags": []
     },
     "output_type": "execute_result"
    }
   ],
   "source": [
    "cities"
   ]
  },
  {
   "cell_type": "code",
   "execution_count": null,
   "metadata": {
    "Collapsed": "false",
    "colab": {
     "base_uri": "https://localhost:8080/",
     "height": 51
    },
    "colab_type": "code",
    "executionInfo": {
     "elapsed": 908,
     "status": "ok",
     "timestamp": 1573073809759,
     "user": {
      "displayName": "Javier Martinez Blanco",
      "photoUrl": "",
      "userId": "16491368014362528412"
     },
     "user_tz": -60
    },
    "id": "Vitj6mwEbRHe",
    "outputId": "9b86c1c3-6fdb-4123-974f-8c332764a6e9"
   },
   "outputs": [
    {
     "name": "stdout",
     "output_type": "stream",
     "text": [
      "['madrid', ' londres', 'moscu']\n",
      "['barcelona', 'roma', 'milan']\n"
     ]
    }
   ],
   "source": [
    "cities_pair=[]\n",
    "cities_odd=[]\n",
    "\n",
    "for i in cities:\n",
    "   if cities.index(i)%2==0:\n",
    "     cities_pair.append(i)\n",
    "   else:\n",
    "     cities_odd.append(i)\n",
    "print(cities_pair)\n",
    "print(cities_odd)\n",
    "\n"
   ]
  },
  {
   "cell_type": "code",
   "execution_count": null,
   "metadata": {
    "Collapsed": "false",
    "colab": {},
    "colab_type": "code",
    "id": "LM7G_qseK_VY"
   },
   "outputs": [],
   "source": [
    "students={'Pol':26, 'Paco':26, 'Pablo':27, 'Hector':18}"
   ]
  },
  {
   "cell_type": "code",
   "execution_count": 9,
   "metadata": {
    "Collapsed": "false",
    "colab": {
     "base_uri": "https://localhost:8080/",
     "height": 34
    },
    "colab_type": "code",
    "executionInfo": {
     "elapsed": 732,
     "status": "ok",
     "timestamp": 1573152443993,
     "user": {
      "displayName": "Javier Martinez Blanco",
      "photoUrl": "",
      "userId": "16491368014362528412"
     },
     "user_tz": -60
    },
    "id": "TF5HtCGyL2sz",
    "outputId": "0598f4a6-0488-4262-c211-fc601c0bcb8b"
   },
   "outputs": [
    {
     "name": "stdout",
     "output_type": "stream",
     "text": [
      "{'Pol': 26, 'Paco': 26, 'Pablo': 27, 'Hector': 18}\n"
     ]
    }
   ],
   "source": [
    "print(students)"
   ]
  },
  {
   "cell_type": "code",
   "execution_count": 11,
   "metadata": {
    "Collapsed": "false",
    "colab": {
     "base_uri": "https://localhost:8080/",
     "height": 34
    },
    "colab_type": "code",
    "executionInfo": {
     "elapsed": 557,
     "status": "ok",
     "timestamp": 1573152572915,
     "user": {
      "displayName": "Javier Martinez Blanco",
      "photoUrl": "",
      "userId": "16491368014362528412"
     },
     "user_tz": -60
    },
    "id": "HGE8bgP3MdTZ",
    "outputId": "f355e083-cd0b-411c-a5ad-9904bc97a716"
   },
   "outputs": [
    {
     "data": {
      "text/plain": [
       "27"
      ]
     },
     "execution_count": 11,
     "metadata": {
      "tags": []
     },
     "output_type": "execute_result"
    }
   ],
   "source": [
    "students['Pablo']"
   ]
  },
  {
   "cell_type": "code",
   "execution_count": 12,
   "metadata": {
    "Collapsed": "false",
    "colab": {
     "base_uri": "https://localhost:8080/",
     "height": 34
    },
    "colab_type": "code",
    "executionInfo": {
     "elapsed": 487,
     "status": "ok",
     "timestamp": 1573152606317,
     "user": {
      "displayName": "Javier Martinez Blanco",
      "photoUrl": "",
      "userId": "16491368014362528412"
     },
     "user_tz": -60
    },
    "id": "Q2L1g8fXM2VS",
    "outputId": "d81b0918-e8c5-41b2-857c-0a62da87f2bb"
   },
   "outputs": [
    {
     "data": {
      "text/plain": [
       "18"
      ]
     },
     "execution_count": 12,
     "metadata": {
      "tags": []
     },
     "output_type": "execute_result"
    }
   ],
   "source": [
    "students['Hector']"
   ]
  },
  {
   "cell_type": "code",
   "execution_count": null,
   "metadata": {
    "Collapsed": "false",
    "colab": {},
    "colab_type": "code",
    "id": "xNbsCjUGNBBj"
   },
   "outputs": [],
   "source": [
    "age_Hector=students['Hector']"
   ]
  },
  {
   "cell_type": "code",
   "execution_count": 15,
   "metadata": {
    "Collapsed": "false",
    "colab": {
     "base_uri": "https://localhost:8080/",
     "height": 34
    },
    "colab_type": "code",
    "executionInfo": {
     "elapsed": 512,
     "status": "ok",
     "timestamp": 1573152716364,
     "user": {
      "displayName": "Javier Martinez Blanco",
      "photoUrl": "",
      "userId": "16491368014362528412"
     },
     "user_tz": -60
    },
    "id": "BwEZVqWRNT62",
    "outputId": "e8627600-b153-4fbd-d949-3dcbe22929f4"
   },
   "outputs": [
    {
     "name": "stdout",
     "output_type": "stream",
     "text": [
      "18\n"
     ]
    }
   ],
   "source": [
    "print(age_Hector) "
   ]
  },
  {
   "cell_type": "code",
   "execution_count": 17,
   "metadata": {
    "Collapsed": "false",
    "colab": {
     "base_uri": "https://localhost:8080/",
     "height": 34
    },
    "colab_type": "code",
    "executionInfo": {
     "elapsed": 468,
     "status": "ok",
     "timestamp": 1573152789131,
     "user": {
      "displayName": "Javier Martinez Blanco",
      "photoUrl": "",
      "userId": "16491368014362528412"
     },
     "user_tz": -60
    },
    "id": "wZ8M41Z1NnHe",
    "outputId": "aa4fee69-bf34-42e9-81ad-37d20105e4ad"
   },
   "outputs": [
    {
     "name": "stdout",
     "output_type": "stream",
     "text": [
      "{'Pol': 26, 'Paco': 26, 'Pablo': 27, 'Hector': 18}\n"
     ]
    }
   ],
   "source": [
    "print(students)"
   ]
  },
  {
   "cell_type": "code",
   "execution_count": null,
   "metadata": {
    "Collapsed": "false",
    "colab": {},
    "colab_type": "code",
    "id": "NBT1PCmxxQuU"
   },
   "outputs": [],
   "source": [
    "names = {'kiefer':'katovich', 'dave':'yerrington', 'stoney':'vintson'}"
   ]
  },
  {
   "cell_type": "code",
   "execution_count": null,
   "metadata": {
    "Collapsed": "false",
    "colab": {},
    "colab_type": "code",
    "id": "hKoi7G5dNAGq"
   },
   "outputs": [],
   "source": [
    "colours=['red', 'blue', 'yellow']"
   ]
  },
  {
   "cell_type": "code",
   "execution_count": 31,
   "metadata": {
    "Collapsed": "false",
    "colab": {
     "base_uri": "https://localhost:8080/",
     "height": 34
    },
    "colab_type": "code",
    "executionInfo": {
     "elapsed": 466,
     "status": "ok",
     "timestamp": 1573153529860,
     "user": {
      "displayName": "Javier Martinez Blanco",
      "photoUrl": "",
      "userId": "16491368014362528412"
     },
     "user_tz": -60
    },
    "id": "b-CLIOk0MbNc",
    "outputId": "98c35616-08a4-4b7c-bdab-601a5331d078"
   },
   "outputs": [
    {
     "name": "stdout",
     "output_type": "stream",
     "text": [
      "['red', 'blue', 'yellow']\n"
     ]
    }
   ],
   "source": [
    "print(colours)"
   ]
  },
  {
   "cell_type": "markdown",
   "metadata": {
    "Collapsed": "true",
    "colab_type": "text",
    "id": "Cb2Ub0qvxQuX"
   },
   "source": [
    "##### 8. assign a value for a key to a variable with .pop(), removing the pair from the dictionary"
   ]
  },
  {
   "cell_type": "code",
   "execution_count": 32,
   "metadata": {
    "Collapsed": "false",
    "colab": {
     "base_uri": "https://localhost:8080/",
     "height": 34
    },
    "colab_type": "code",
    "executionInfo": {
     "elapsed": 477,
     "status": "ok",
     "timestamp": 1573153530985,
     "user": {
      "displayName": "Javier Martinez Blanco",
      "photoUrl": "",
      "userId": "16491368014362528412"
     },
     "user_tz": -60
    },
    "id": "aSTmGw8QxQuY",
    "outputId": "12f16516-ff94-4f43-ddb0-5f8cb2b1ec0f"
   },
   "outputs": [
    {
     "data": {
      "text/plain": [
       "'vintson'"
      ]
     },
     "execution_count": 32,
     "metadata": {
      "tags": []
     },
     "output_type": "execute_result"
    }
   ],
   "source": [
    "tables=names.pop('stoney')\n",
    "tables"
   ]
  },
  {
   "cell_type": "code",
   "execution_count": 33,
   "metadata": {
    "Collapsed": "false",
    "colab": {
     "base_uri": "https://localhost:8080/",
     "height": 34
    },
    "colab_type": "code",
    "executionInfo": {
     "elapsed": 572,
     "status": "ok",
     "timestamp": 1573153531779,
     "user": {
      "displayName": "Javier Martinez Blanco",
      "photoUrl": "",
      "userId": "16491368014362528412"
     },
     "user_tz": -60
    },
    "id": "RXzGIkXuN6hb",
    "outputId": "aa7cb72a-a543-4c5b-9e56-4bd12b56d15f"
   },
   "outputs": [
    {
     "name": "stdout",
     "output_type": "stream",
     "text": [
      "{'kiefer': 'katovich', 'dave': 'yerrington'}\n"
     ]
    }
   ],
   "source": [
    "print(names)"
   ]
  },
  {
   "cell_type": "markdown",
   "metadata": {
    "Collapsed": "true",
    "colab_type": "text",
    "id": "Wl_eoSP0xQub"
   },
   "source": [
    "##### 9. assign a value for a key to a variable with .get(), keeping the pair in the dictionary"
   ]
  },
  {
   "cell_type": "code",
   "execution_count": 34,
   "metadata": {
    "Collapsed": "false",
    "colab": {
     "base_uri": "https://localhost:8080/",
     "height": 34
    },
    "colab_type": "code",
    "executionInfo": {
     "elapsed": 437,
     "status": "ok",
     "timestamp": 1573153535206,
     "user": {
      "displayName": "Javier Martinez Blanco",
      "photoUrl": "",
      "userId": "16491368014362528412"
     },
     "user_tz": -60
    },
    "id": "iH8K34LgxQuc",
    "outputId": "b4205716-1b10-4618-d51b-9deb9da39716"
   },
   "outputs": [
    {
     "data": {
      "text/plain": [
       "'yerrington'"
      ]
     },
     "execution_count": 34,
     "metadata": {
      "tags": []
     },
     "output_type": "execute_result"
    }
   ],
   "source": [
    "names.get('dave')"
   ]
  },
  {
   "cell_type": "code",
   "execution_count": 35,
   "metadata": {
    "Collapsed": "false",
    "colab": {
     "base_uri": "https://localhost:8080/",
     "height": 34
    },
    "colab_type": "code",
    "executionInfo": {
     "elapsed": 424,
     "status": "ok",
     "timestamp": 1573153549660,
     "user": {
      "displayName": "Javier Martinez Blanco",
      "photoUrl": "",
      "userId": "16491368014362528412"
     },
     "user_tz": -60
    },
    "id": "pbo33OrDPsAl",
    "outputId": "919326ae-d6c7-44b9-c263-af7a556604ba"
   },
   "outputs": [
    {
     "data": {
      "text/plain": [
       "'yerrington'"
      ]
     },
     "execution_count": 35,
     "metadata": {
      "tags": []
     },
     "output_type": "execute_result"
    }
   ],
   "source": [
    "names['dave']"
   ]
  },
  {
   "cell_type": "code",
   "execution_count": 28,
   "metadata": {
    "Collapsed": "false",
    "colab": {
     "base_uri": "https://localhost:8080/",
     "height": 34
    },
    "colab_type": "code",
    "executionInfo": {
     "elapsed": 542,
     "status": "ok",
     "timestamp": 1573153459915,
     "user": {
      "displayName": "Javier Martinez Blanco",
      "photoUrl": "",
      "userId": "16491368014362528412"
     },
     "user_tz": -60
    },
    "id": "g45g2N_6QLC3",
    "outputId": "b50e5a76-9257-4821-a707-ca75667352de"
   },
   "outputs": [
    {
     "name": "stdout",
     "output_type": "stream",
     "text": [
      "['dave']\n"
     ]
    }
   ],
   "source": [
    "print(names)"
   ]
  },
  {
   "cell_type": "code",
   "execution_count": null,
   "metadata": {
    "Collapsed": "false",
    "colab": {},
    "colab_type": "code",
    "id": "bLAYoM75QoQg"
   },
   "outputs": [],
   "source": [
    "lastname=names['dave']"
   ]
  },
  {
   "cell_type": "code",
   "execution_count": 37,
   "metadata": {
    "Collapsed": "false",
    "colab": {
     "base_uri": "https://localhost:8080/",
     "height": 34
    },
    "colab_type": "code",
    "executionInfo": {
     "elapsed": 514,
     "status": "ok",
     "timestamp": 1573153681871,
     "user": {
      "displayName": "Javier Martinez Blanco",
      "photoUrl": "",
      "userId": "16491368014362528412"
     },
     "user_tz": -60
    },
    "id": "9CzvWqdERAQk",
    "outputId": "b63671bd-226f-4e74-8d4a-221e97909c80"
   },
   "outputs": [
    {
     "name": "stdout",
     "output_type": "stream",
     "text": [
      "yerrington\n"
     ]
    }
   ],
   "source": [
    "print(lastname)"
   ]
  },
  {
   "cell_type": "markdown",
   "metadata": {
    "Collapsed": "true",
    "colab_type": "text",
    "id": "wiXfRSuaxQue"
   },
   "source": [
    "##### 10. print the keys in the dictionary with the .keys() function"
   ]
  },
  {
   "cell_type": "code",
   "execution_count": null,
   "metadata": {
    "Collapsed": "false",
    "colab": {},
    "colab_type": "code",
    "id": "cekTGcWBxQuf"
   },
   "outputs": [],
   "source": [
    "names.keys()\n",
    "list1=names.keys()"
   ]
  },
  {
   "cell_type": "code",
   "execution_count": 41,
   "metadata": {
    "Collapsed": "false",
    "colab": {
     "base_uri": "https://localhost:8080/",
     "height": 34
    },
    "colab_type": "code",
    "executionInfo": {
     "elapsed": 470,
     "status": "ok",
     "timestamp": 1573154017619,
     "user": {
      "displayName": "Javier Martinez Blanco",
      "photoUrl": "",
      "userId": "16491368014362528412"
     },
     "user_tz": -60
    },
    "id": "KuvtVlVqSHs6",
    "outputId": "30547042-c0f3-4b7d-f239-3e71ba32e498"
   },
   "outputs": [
    {
     "data": {
      "text/plain": [
       "dict"
      ]
     },
     "execution_count": 41,
     "metadata": {
      "tags": []
     },
     "output_type": "execute_result"
    }
   ],
   "source": [
    "type(names)"
   ]
  },
  {
   "cell_type": "code",
   "execution_count": 42,
   "metadata": {
    "Collapsed": "false",
    "colab": {
     "base_uri": "https://localhost:8080/",
     "height": 34
    },
    "colab_type": "code",
    "executionInfo": {
     "elapsed": 478,
     "status": "ok",
     "timestamp": 1573154142617,
     "user": {
      "displayName": "Javier Martinez Blanco",
      "photoUrl": "",
      "userId": "16491368014362528412"
     },
     "user_tz": -60
    },
    "id": "YWK0L9ztSjIP",
    "outputId": "460cd4fd-1b97-4842-ff28-608fdff8d71f"
   },
   "outputs": [
    {
     "data": {
      "text/plain": [
       "dict_keys"
      ]
     },
     "execution_count": 42,
     "metadata": {
      "tags": []
     },
     "output_type": "execute_result"
    }
   ],
   "source": [
    "type(names.keys())"
   ]
  },
  {
   "cell_type": "code",
   "execution_count": 44,
   "metadata": {
    "Collapsed": "false",
    "colab": {
     "base_uri": "https://localhost:8080/",
     "height": 34
    },
    "colab_type": "code",
    "executionInfo": {
     "elapsed": 526,
     "status": "ok",
     "timestamp": 1573154217001,
     "user": {
      "displayName": "Javier Martinez Blanco",
      "photoUrl": "",
      "userId": "16491368014362528412"
     },
     "user_tz": -60
    },
    "id": "RpQyulKRS7eW",
    "outputId": "7675e726-8d03-4b43-ab66-318469690fb3"
   },
   "outputs": [
    {
     "data": {
      "text/plain": [
       "'kiefer'"
      ]
     },
     "execution_count": 44,
     "metadata": {
      "tags": []
     },
     "output_type": "execute_result"
    }
   ],
   "source": [
    "list(names.keys())[0]"
   ]
  },
  {
   "cell_type": "code",
   "execution_count": 40,
   "metadata": {
    "Collapsed": "false",
    "colab": {
     "base_uri": "https://localhost:8080/",
     "height": 34
    },
    "colab_type": "code",
    "executionInfo": {
     "elapsed": 682,
     "status": "ok",
     "timestamp": 1573153905838,
     "user": {
      "displayName": "Javier Martinez Blanco",
      "photoUrl": "",
      "userId": "16491368014362528412"
     },
     "user_tz": -60
    },
    "id": "qIDLKmK5R3BD",
    "outputId": "158ba68c-2522-4cca-f4e4-00a1e5a5e504"
   },
   "outputs": [
    {
     "name": "stdout",
     "output_type": "stream",
     "text": [
      "dict_keys(['kiefer', 'dave'])\n"
     ]
    }
   ],
   "source": [
    "print(list1)"
   ]
  },
  {
   "cell_type": "code",
   "execution_count": null,
   "metadata": {
    "Collapsed": "false",
    "colab": {},
    "colab_type": "code",
    "id": "xBQRLOmNS6TD"
   },
   "outputs": [],
   "source": []
  },
  {
   "cell_type": "markdown",
   "metadata": {
    "Collapsed": "true",
    "colab_type": "text",
    "id": "51-Vc-fIxQui"
   },
   "source": [
    "###### 11. print the key:value pairs in the dictionary with the .items() function"
   ]
  },
  {
   "cell_type": "code",
   "execution_count": null,
   "metadata": {
    "Collapsed": "false",
    "colab": {
     "base_uri": "https://localhost:8080/",
     "height": 34
    },
    "colab_type": "code",
    "executionInfo": {
     "elapsed": 454,
     "status": "ok",
     "timestamp": 1573071781324,
     "user": {
      "displayName": "Javier Martinez Blanco",
      "photoUrl": "",
      "userId": "16491368014362528412"
     },
     "user_tz": -60
    },
    "id": "8jNNQCKbxQui",
    "outputId": "bb3bf7ed-800a-4333-ef4f-44272cee5b47"
   },
   "outputs": [
    {
     "data": {
      "text/plain": [
       "dict_values(['katovich', 'yerrington'])"
      ]
     },
     "execution_count": 70,
     "metadata": {
      "tags": []
     },
     "output_type": "execute_result"
    }
   ],
   "source": [
    "names.values()"
   ]
  },
  {
   "cell_type": "markdown",
   "metadata": {
    "Collapsed": "true",
    "colab_type": "text",
    "id": "QXip0g_vxQul"
   },
   "source": [
    "##### 12. Join another dictionary with your dictionary using the .update() function.\n",
    "\n",
    "Note: the update function takes the dictionary you want to merge in as a variable."
   ]
  },
  {
   "cell_type": "code",
   "execution_count": null,
   "metadata": {
    "Collapsed": "false",
    "colab": {},
    "colab_type": "code",
    "id": "7eKETmGOxQum"
   },
   "outputs": [],
   "source": [
    "names.update({'pedro': 'perez'})"
   ]
  },
  {
   "cell_type": "code",
   "execution_count": 46,
   "metadata": {
    "Collapsed": "false",
    "colab": {
     "base_uri": "https://localhost:8080/",
     "height": 34
    },
    "colab_type": "code",
    "executionInfo": {
     "elapsed": 849,
     "status": "ok",
     "timestamp": 1573154657875,
     "user": {
      "displayName": "Javier Martinez Blanco",
      "photoUrl": "",
      "userId": "16491368014362528412"
     },
     "user_tz": -60
    },
    "id": "ir83aPlcUvfi",
    "outputId": "c6f65c20-7b16-4374-91b6-52dbb5d0460b"
   },
   "outputs": [
    {
     "name": "stdout",
     "output_type": "stream",
     "text": [
      "{'kiefer': 'katovich', 'dave': 'yerrington', 'pedro': 'perez'}\n"
     ]
    }
   ],
   "source": [
    "print(names)"
   ]
  },
  {
   "cell_type": "code",
   "execution_count": 48,
   "metadata": {
    "Collapsed": "false",
    "colab": {
     "base_uri": "https://localhost:8080/",
     "height": 34
    },
    "colab_type": "code",
    "executionInfo": {
     "elapsed": 775,
     "status": "ok",
     "timestamp": 1573154709111,
     "user": {
      "displayName": "Javier Martinez Blanco",
      "photoUrl": "",
      "userId": "16491368014362528412"
     },
     "user_tz": -60
    },
    "id": "_B9OX6LeU0WJ",
    "outputId": "785265c4-ea3c-45de-fc5a-418b90dde409"
   },
   "outputs": [
    {
     "data": {
      "text/plain": [
       "'perez'"
      ]
     },
     "execution_count": 48,
     "metadata": {
      "tags": []
     },
     "output_type": "execute_result"
    }
   ],
   "source": [
    "names['pedro']"
   ]
  },
  {
   "cell_type": "code",
   "execution_count": null,
   "metadata": {
    "Collapsed": "false",
    "colab": {},
    "colab_type": "code",
    "id": "8hxXTgxSVElQ"
   },
   "outputs": [],
   "source": [
    "last_name=names['pedro']"
   ]
  },
  {
   "cell_type": "markdown",
   "metadata": {
    "Collapsed": "false",
    "colab_type": "text",
    "id": "jXpnZuPXxQup"
   },
   "source": [
    "\n",
    "\n",
    "##### 13. clear all the key:value pairs from the dictionary using .clear()"
   ]
  },
  {
   "cell_type": "code",
   "execution_count": null,
   "metadata": {
    "Collapsed": "false",
    "colab": {},
    "colab_type": "code",
    "id": "Pn6_t5lcxQuq"
   },
   "outputs": [],
   "source": [
    "names.clear()"
   ]
  },
  {
   "cell_type": "code",
   "execution_count": 51,
   "metadata": {
    "Collapsed": "false",
    "colab": {
     "base_uri": "https://localhost:8080/",
     "height": 34
    },
    "colab_type": "code",
    "executionInfo": {
     "elapsed": 658,
     "status": "ok",
     "timestamp": 1573154907048,
     "user": {
      "displayName": "Javier Martinez Blanco",
      "photoUrl": "",
      "userId": "16491368014362528412"
     },
     "user_tz": -60
    },
    "id": "Y_DV8fHNVszx",
    "outputId": "a6402429-eeac-4928-8231-50620454d968"
   },
   "outputs": [
    {
     "name": "stdout",
     "output_type": "stream",
     "text": [
      "{}\n"
     ]
    }
   ],
   "source": [
    "print(names)"
   ]
  },
  {
   "cell_type": "markdown",
   "metadata": {
    "Collapsed": "false",
    "colab_type": "text",
    "id": "_BpuRgjNxQut"
   },
   "source": [
    "---"
   ]
  },
  {
   "cell_type": "code",
   "execution_count": null,
   "metadata": {
    "Collapsed": "false",
    "colab": {},
    "colab_type": "code",
    "id": "JDxIJvkLxQuu"
   },
   "outputs": [],
   "source": [
    "age = {'Pol':26,'Pablo':27, 'Javi': 23, 'Jorge':1, 'Paco': 26}"
   ]
  },
  {
   "cell_type": "markdown",
   "metadata": {
    "Collapsed": "true",
    "colab_type": "text",
    "id": "xLuuaOVMxQux"
   },
   "source": [
    "##### 14. Write a Python program to sum all the items in a dictionary. "
   ]
  },
  {
   "cell_type": "code",
   "execution_count": null,
   "metadata": {
    "Collapsed": "false",
    "colab": {},
    "colab_type": "code",
    "id": "wayRvKlkWs7E"
   },
   "outputs": [],
   "source": [
    "a=[10,2,3,4,5]"
   ]
  },
  {
   "cell_type": "code",
   "execution_count": 84,
   "metadata": {
    "Collapsed": "false",
    "colab": {
     "base_uri": "https://localhost:8080/",
     "height": 34
    },
    "colab_type": "code",
    "executionInfo": {
     "elapsed": 573,
     "status": "ok",
     "timestamp": 1573157548391,
     "user": {
      "displayName": "Javier Martinez Blanco",
      "photoUrl": "",
      "userId": "16491368014362528412"
     },
     "user_tz": -60
    },
    "id": "9pa8CPGcWxsm",
    "outputId": "d0ed5f00-c41d-48f9-8677-38bc45457820"
   },
   "outputs": [
    {
     "name": "stdout",
     "output_type": "stream",
     "text": [
      "24\n"
     ]
    }
   ],
   "source": [
    "sum=0\n",
    "for value in a:\n",
    "  sum=sum+value\n",
    "print(sum)"
   ]
  },
  {
   "cell_type": "code",
   "execution_count": 87,
   "metadata": {
    "Collapsed": "false",
    "colab": {
     "base_uri": "https://localhost:8080/",
     "height": 105
    },
    "colab_type": "code",
    "executionInfo": {
     "elapsed": 633,
     "status": "ok",
     "timestamp": 1573157671682,
     "user": {
      "displayName": "Javier Martinez Blanco",
      "photoUrl": "",
      "userId": "16491368014362528412"
     },
     "user_tz": -60
    },
    "id": "hawIy027eyLw",
    "outputId": "f386d851-cca2-435e-90d4-b58b8c839bb5"
   },
   "outputs": [
    {
     "name": "stdout",
     "output_type": "stream",
     "text": [
      "1\n",
      "2\n",
      "3\n",
      "4\n",
      "5\n"
     ]
    }
   ],
   "source": [
    "a=[10,2,3,4,5]\n",
    "length=0\n",
    "for value in a:\n",
    "  length=length+1\n",
    "  print(length)"
   ]
  },
  {
   "cell_type": "code",
   "execution_count": 204,
   "metadata": {
    "Collapsed": "false",
    "colab": {
     "base_uri": "https://localhost:8080/",
     "height": 34
    },
    "colab_type": "code",
    "executionInfo": {
     "elapsed": 542,
     "status": "ok",
     "timestamp": 1573167105950,
     "user": {
      "displayName": "Javier Martinez Blanco",
      "photoUrl": "",
      "userId": "16491368014362528412"
     },
     "user_tz": -60
    },
    "id": "hZNUHU81cdSV",
    "outputId": "4faa1675-79c5-47f7-9f3b-cad594d454c0"
   },
   "outputs": [
    {
     "data": {
      "text/plain": [
       "38"
      ]
     },
     "execution_count": 204,
     "metadata": {
      "tags": []
     },
     "output_type": "execute_result"
    }
   ],
   "source": []
  },
  {
   "cell_type": "code",
   "execution_count": 70,
   "metadata": {
    "Collapsed": "false",
    "colab": {
     "base_uri": "https://localhost:8080/",
     "height": 34
    },
    "colab_type": "code",
    "executionInfo": {
     "elapsed": 464,
     "status": "ok",
     "timestamp": 1573156693268,
     "user": {
      "displayName": "Javier Martinez Blanco",
      "photoUrl": "",
      "userId": "16491368014362528412"
     },
     "user_tz": -60
    },
    "id": "OysMURNYYDuy",
    "outputId": "4dd33506-86f3-40b4-b338-cc4ae54b3ea8"
   },
   "outputs": [
    {
     "data": {
      "text/plain": [
       "int"
      ]
     },
     "execution_count": 70,
     "metadata": {
      "tags": []
     },
     "output_type": "execute_result"
    }
   ],
   "source": [
    "type(sum)"
   ]
  },
  {
   "cell_type": "code",
   "execution_count": 54,
   "metadata": {
    "Collapsed": "false",
    "colab": {
     "base_uri": "https://localhost:8080/",
     "height": 34
    },
    "colab_type": "code",
    "executionInfo": {
     "elapsed": 458,
     "status": "ok",
     "timestamp": 1573155091181,
     "user": {
      "displayName": "Javier Martinez Blanco",
      "photoUrl": "",
      "userId": "16491368014362528412"
     },
     "user_tz": -60
    },
    "id": "9JQXj0jGxQu0",
    "outputId": "2d997ab4-bce3-4c9f-dad3-0a2056cd1ed0"
   },
   "outputs": [
    {
     "data": {
      "text/plain": [
       "53"
      ]
     },
     "execution_count": 54,
     "metadata": {
      "tags": []
     },
     "output_type": "execute_result"
    }
   ],
   "source": [
    "age['Pol']+age['Pablo']"
   ]
  },
  {
   "cell_type": "markdown",
   "metadata": {
    "Collapsed": "true",
    "colab_type": "text",
    "id": "UNuviJHgxQu8"
   },
   "source": [
    "##### 15. Write a Python program that returns all the keys in the dictionary - use a for loop."
   ]
  },
  {
   "cell_type": "code",
   "execution_count": 95,
   "metadata": {
    "Collapsed": "false",
    "colab": {
     "base_uri": "https://localhost:8080/",
     "height": 34
    },
    "colab_type": "code",
    "executionInfo": {
     "elapsed": 563,
     "status": "ok",
     "timestamp": 1573158105987,
     "user": {
      "displayName": "Javier Martinez Blanco",
      "photoUrl": "",
      "userId": "16491368014362528412"
     },
     "user_tz": -60
    },
    "id": "_yFqIzPMxQu-",
    "outputId": "589aa7e7-b4ba-4be1-de73-abffa598a4e6"
   },
   "outputs": [
    {
     "name": "stdout",
     "output_type": "stream",
     "text": [
      "dict_values([26, 27, 23, 1, 26])\n"
     ]
    }
   ],
   "source": [
    "lista=age.values()\n",
    "print(lista)"
   ]
  },
  {
   "cell_type": "code",
   "execution_count": 98,
   "metadata": {
    "Collapsed": "false",
    "colab": {
     "base_uri": "https://localhost:8080/",
     "height": 34
    },
    "colab_type": "code",
    "executionInfo": {
     "elapsed": 530,
     "status": "ok",
     "timestamp": 1573158316399,
     "user": {
      "displayName": "Javier Martinez Blanco",
      "photoUrl": "",
      "userId": "16491368014362528412"
     },
     "user_tz": -60
    },
    "id": "BNK6GsMxhKMC",
    "outputId": "93c20268-72c4-4998-9889-6abf4241d5ea"
   },
   "outputs": [
    {
     "name": "stdout",
     "output_type": "stream",
     "text": [
      "103\n"
     ]
    }
   ],
   "source": [
    "sum=0\n",
    "for value in lista:\n",
    "  sum=sum+value\n",
    "\n",
    "print(sum)\n",
    "\n",
    "  "
   ]
  },
  {
   "cell_type": "markdown",
   "metadata": {
    "Collapsed": "true",
    "colab_type": "text",
    "id": "ZEZ2ERLAxQvC"
   },
   "source": [
    "##### 16. Write a Python program that returns all the values in the dictionary and append them to a new list called numbers - use a for loop."
   ]
  },
  {
   "cell_type": "code",
   "execution_count": 100,
   "metadata": {
    "Collapsed": "false",
    "colab": {
     "base_uri": "https://localhost:8080/",
     "height": 34
    },
    "colab_type": "code",
    "executionInfo": {
     "elapsed": 476,
     "status": "ok",
     "timestamp": 1573158514656,
     "user": {
      "displayName": "Javier Martinez Blanco",
      "photoUrl": "",
      "userId": "16491368014362528412"
     },
     "user_tz": -60
    },
    "id": "fHutv4gBxQvF",
    "outputId": "49b0859d-d5ab-45b9-ddb4-b4b1be49cd86"
   },
   "outputs": [
    {
     "data": {
      "text/plain": [
       "{'Javi': 23, 'Jorge': 1, 'Pablo': 27, 'Paco': 26, 'Pol': 26}"
      ]
     },
     "execution_count": 100,
     "metadata": {
      "tags": []
     },
     "output_type": "execute_result"
    }
   ],
   "source": [
    "age"
   ]
  },
  {
   "cell_type": "code",
   "execution_count": null,
   "metadata": {
    "Collapsed": "false",
    "colab": {},
    "colab_type": "code",
    "id": "UHgupuEjj6-m"
   },
   "outputs": [],
   "source": [
    "age_2=age.values()"
   ]
  },
  {
   "cell_type": "code",
   "execution_count": 103,
   "metadata": {
    "Collapsed": "false",
    "colab": {
     "base_uri": "https://localhost:8080/",
     "height": 105
    },
    "colab_type": "code",
    "executionInfo": {
     "elapsed": 444,
     "status": "ok",
     "timestamp": 1573158720101,
     "user": {
      "displayName": "Javier Martinez Blanco",
      "photoUrl": "",
      "userId": "16491368014362528412"
     },
     "user_tz": -60
    },
    "id": "3GHPufR6jf4T",
    "outputId": "8bf7bbd7-c9c7-4e47-998e-832b5dfd5a8c"
   },
   "outputs": [
    {
     "name": "stdout",
     "output_type": "stream",
     "text": [
      "26\n",
      "27\n",
      "23\n",
      "1\n",
      "26\n"
     ]
    }
   ],
   "source": [
    "for value in age_2:\n",
    "  print(value)"
   ]
  },
  {
   "cell_type": "code",
   "execution_count": null,
   "metadata": {
    "Collapsed": "false",
    "colab": {},
    "colab_type": "code",
    "id": "2_a6jy4QkS4W"
   },
   "outputs": [],
   "source": [
    "emptylist=[]\n",
    "for value in age.values():\n",
    "  emptylist.append(value)"
   ]
  },
  {
   "cell_type": "code",
   "execution_count": 116,
   "metadata": {
    "Collapsed": "false",
    "colab": {
     "base_uri": "https://localhost:8080/",
     "height": 34
    },
    "colab_type": "code",
    "executionInfo": {
     "elapsed": 347,
     "status": "ok",
     "timestamp": 1573159103762,
     "user": {
      "displayName": "Javier Martinez Blanco",
      "photoUrl": "",
      "userId": "16491368014362528412"
     },
     "user_tz": -60
    },
    "id": "cWJ5DFDUlSF0",
    "outputId": "3e6d69d9-0cba-4081-f81e-137ed1363370"
   },
   "outputs": [
    {
     "name": "stdout",
     "output_type": "stream",
     "text": [
      "[26, 27, 23, 1, 26]\n"
     ]
    }
   ],
   "source": [
    "print(emptylist)"
   ]
  },
  {
   "cell_type": "markdown",
   "metadata": {
    "Collapsed": "true",
    "colab_type": "text",
    "id": "kjB0mcRRxQvI"
   },
   "source": [
    "##### 17. Write a Python program that returns the sum of the length of all the keys in the dictionary."
   ]
  },
  {
   "cell_type": "code",
   "execution_count": 117,
   "metadata": {
    "Collapsed": "false",
    "colab": {
     "base_uri": "https://localhost:8080/",
     "height": 34
    },
    "colab_type": "code",
    "executionInfo": {
     "elapsed": 956,
     "status": "ok",
     "timestamp": 1573159193035,
     "user": {
      "displayName": "Javier Martinez Blanco",
      "photoUrl": "",
      "userId": "16491368014362528412"
     },
     "user_tz": -60
    },
    "id": "giLFxl_SlQdv",
    "outputId": "0eff3743-73e9-4a21-b253-ceb664d033a3"
   },
   "outputs": [
    {
     "data": {
      "text/plain": [
       "dict_keys(['Pol', 'Pablo', 'Javi', 'Jorge', 'Paco'])"
      ]
     },
     "execution_count": 117,
     "metadata": {
      "tags": []
     },
     "output_type": "execute_result"
    }
   ],
   "source": [
    "age.keys()"
   ]
  },
  {
   "cell_type": "code",
   "execution_count": null,
   "metadata": {
    "Collapsed": "false",
    "colab": {},
    "colab_type": "code",
    "id": "Y1CzGcP4xQvK"
   },
   "outputs": [],
   "source": [
    "keyslist=age.keys()"
   ]
  },
  {
   "cell_type": "code",
   "execution_count": 120,
   "metadata": {
    "Collapsed": "false",
    "colab": {
     "base_uri": "https://localhost:8080/",
     "height": 34
    },
    "colab_type": "code",
    "executionInfo": {
     "elapsed": 457,
     "status": "ok",
     "timestamp": 1573159352854,
     "user": {
      "displayName": "Javier Martinez Blanco",
      "photoUrl": "",
      "userId": "16491368014362528412"
     },
     "user_tz": -60
    },
    "id": "oICOmS1fmf7A",
    "outputId": "89a373ef-f747-4229-cd64-54cebd41824b"
   },
   "outputs": [
    {
     "data": {
      "text/plain": [
       "'Pol'"
      ]
     },
     "execution_count": 120,
     "metadata": {
      "tags": []
     },
     "output_type": "execute_result"
    }
   ],
   "source": [
    "list(keyslist)[0]"
   ]
  },
  {
   "cell_type": "code",
   "execution_count": 121,
   "metadata": {
    "Collapsed": "false",
    "colab": {
     "base_uri": "https://localhost:8080/",
     "height": 34
    },
    "colab_type": "code",
    "executionInfo": {
     "elapsed": 473,
     "status": "ok",
     "timestamp": 1573159422314,
     "user": {
      "displayName": "Javier Martinez Blanco",
      "photoUrl": "",
      "userId": "16491368014362528412"
     },
     "user_tz": -60
    },
    "id": "oCX6FI7Emvqz",
    "outputId": "39789be8-22d8-455c-aef5-4a6e310140fa"
   },
   "outputs": [
    {
     "data": {
      "text/plain": [
       "3"
      ]
     },
     "execution_count": 121,
     "metadata": {
      "tags": []
     },
     "output_type": "execute_result"
    }
   ],
   "source": [
    "len(list(keyslist)[0])"
   ]
  },
  {
   "cell_type": "code",
   "execution_count": 135,
   "metadata": {
    "Collapsed": "false",
    "colab": {
     "base_uri": "https://localhost:8080/",
     "height": 34
    },
    "colab_type": "code",
    "executionInfo": {
     "elapsed": 634,
     "status": "ok",
     "timestamp": 1573160027693,
     "user": {
      "displayName": "Javier Martinez Blanco",
      "photoUrl": "",
      "userId": "16491368014362528412"
     },
     "user_tz": -60
    },
    "id": "LujFAcKYnGdP",
    "outputId": "55c8ec23-5ba0-4e99-ee28-450f8a75719b"
   },
   "outputs": [
    {
     "name": "stdout",
     "output_type": "stream",
     "text": [
      "21\n"
     ]
    }
   ],
   "source": [
    "sum=0\n",
    "for value in keyslist:\n",
    "  sum=sum+len(value)\n",
    "print(sum)\n",
    "  "
   ]
  },
  {
   "cell_type": "code",
   "execution_count": 136,
   "metadata": {
    "Collapsed": "false",
    "colab": {
     "base_uri": "https://localhost:8080/",
     "height": 34
    },
    "colab_type": "code",
    "executionInfo": {
     "elapsed": 471,
     "status": "ok",
     "timestamp": 1573160182160,
     "user": {
      "displayName": "Javier Martinez Blanco",
      "photoUrl": "",
      "userId": "16491368014362528412"
     },
     "user_tz": -60
    },
    "id": "GiWUWo8VpT9U",
    "outputId": "76d4f23d-af2d-428e-e19b-32ea972fe7ee"
   },
   "outputs": [
    {
     "name": "stdout",
     "output_type": "stream",
     "text": [
      "{'vinicius': 'real madrid', 'suarez': 'barcelona', 'morata': 'atleti', 'aspas': 'celta'}\n"
     ]
    }
   ],
   "source": [
    "delanteros={'vinicius':'real madrid', 'suarez':'barcelona', 'morata':'atleti', 'aspas':'celta'}\n",
    "print(delanteros)"
   ]
  },
  {
   "cell_type": "code",
   "execution_count": 137,
   "metadata": {
    "Collapsed": "false",
    "colab": {
     "base_uri": "https://localhost:8080/",
     "height": 34
    },
    "colab_type": "code",
    "executionInfo": {
     "elapsed": 479,
     "status": "ok",
     "timestamp": 1573160325697,
     "user": {
      "displayName": "Javier Martinez Blanco",
      "photoUrl": "",
      "userId": "16491368014362528412"
     },
     "user_tz": -60
    },
    "id": "aL0pWhtAp6n6",
    "outputId": "19548dc9-bed7-419f-d877-8f5de97c47b8"
   },
   "outputs": [
    {
     "data": {
      "text/plain": [
       "'atleti'"
      ]
     },
     "execution_count": 137,
     "metadata": {
      "tags": []
     },
     "output_type": "execute_result"
    }
   ],
   "source": [
    "delanteros['morata']"
   ]
  },
  {
   "cell_type": "code",
   "execution_count": 138,
   "metadata": {
    "Collapsed": "false",
    "colab": {
     "base_uri": "https://localhost:8080/",
     "height": 34
    },
    "colab_type": "code",
    "executionInfo": {
     "elapsed": 500,
     "status": "ok",
     "timestamp": 1573160349613,
     "user": {
      "displayName": "Javier Martinez Blanco",
      "photoUrl": "",
      "userId": "16491368014362528412"
     },
     "user_tz": -60
    },
    "id": "r_oUmJpoqcce",
    "outputId": "d3198478-2ba0-4ecd-a384-d733afea2b86"
   },
   "outputs": [
    {
     "data": {
      "text/plain": [
       "dict_keys(['vinicius', 'suarez', 'morata', 'aspas'])"
      ]
     },
     "execution_count": 138,
     "metadata": {
      "tags": []
     },
     "output_type": "execute_result"
    }
   ],
   "source": [
    "delanteros.keys()"
   ]
  },
  {
   "cell_type": "code",
   "execution_count": 139,
   "metadata": {
    "Collapsed": "false",
    "colab": {
     "base_uri": "https://localhost:8080/",
     "height": 34
    },
    "colab_type": "code",
    "executionInfo": {
     "elapsed": 487,
     "status": "ok",
     "timestamp": 1573160360713,
     "user": {
      "displayName": "Javier Martinez Blanco",
      "photoUrl": "",
      "userId": "16491368014362528412"
     },
     "user_tz": -60
    },
    "id": "wMhIXVioqgI_",
    "outputId": "b0893f07-2aac-45a2-f8df-3dc1b610ffb4"
   },
   "outputs": [
    {
     "data": {
      "text/plain": [
       "dict_values(['real madrid', 'barcelona', 'atleti', 'celta'])"
      ]
     },
     "execution_count": 139,
     "metadata": {
      "tags": []
     },
     "output_type": "execute_result"
    }
   ],
   "source": [
    "delanteros.values()"
   ]
  },
  {
   "cell_type": "code",
   "execution_count": 140,
   "metadata": {
    "Collapsed": "false",
    "colab": {
     "base_uri": "https://localhost:8080/",
     "height": 87
    },
    "colab_type": "code",
    "executionInfo": {
     "elapsed": 494,
     "status": "ok",
     "timestamp": 1573160454480,
     "user": {
      "displayName": "Javier Martinez Blanco",
      "photoUrl": "",
      "userId": "16491368014362528412"
     },
     "user_tz": -60
    },
    "id": "AA1EZi1xqkyM",
    "outputId": "73546f0b-fb7a-4e1b-c99f-edd80b222bfb"
   },
   "outputs": [
    {
     "name": "stdout",
     "output_type": "stream",
     "text": [
      "vinicius\n",
      "suarez\n",
      "morata\n",
      "aspas\n"
     ]
    }
   ],
   "source": [
    "for values in delanteros.keys():\n",
    "  print(values)"
   ]
  },
  {
   "cell_type": "code",
   "execution_count": null,
   "metadata": {
    "Collapsed": "false",
    "colab": {},
    "colab_type": "code",
    "id": "mYRjRZVtq8ID"
   },
   "outputs": [],
   "source": [
    "nombresde=[]"
   ]
  },
  {
   "cell_type": "code",
   "execution_count": 158,
   "metadata": {
    "Collapsed": "false",
    "colab": {
     "base_uri": "https://localhost:8080/",
     "height": 105
    },
    "colab_type": "code",
    "executionInfo": {
     "elapsed": 477,
     "status": "ok",
     "timestamp": 1573160836033,
     "user": {
      "displayName": "Javier Martinez Blanco",
      "photoUrl": "",
      "userId": "16491368014362528412"
     },
     "user_tz": -60
    },
    "id": "7oKENiRUrI8m",
    "outputId": "4287d08e-fc4c-4fb9-97a6-b06eedae233e"
   },
   "outputs": [
    {
     "name": "stdout",
     "output_type": "stream",
     "text": [
      "vinicius\n",
      "suarez\n",
      "morata\n",
      "aspas\n",
      "['vinicius', 'suarez', 'morata', 'aspas']\n"
     ]
    }
   ],
   "source": [
    "nombresde=[]\n",
    "for values in delanteros.keys():\n",
    "  print(values)\n",
    "  nombresde.append(values)\n",
    "print(nombresde)\n"
   ]
  },
  {
   "cell_type": "markdown",
   "metadata": {
    "Collapsed": "true",
    "colab_type": "text",
    "id": "t6J4r8ngxQvP"
   },
   "source": [
    "#### 18. Write a Python program to map two lists into a dictionary."
   ]
  },
  {
   "cell_type": "code",
   "execution_count": null,
   "metadata": {
    "Collapsed": "false",
    "colab": {},
    "colab_type": "code",
    "id": "3SzZHMxlp5UV"
   },
   "outputs": [],
   "source": []
  },
  {
   "cell_type": "code",
   "execution_count": 203,
   "metadata": {
    "Collapsed": "false",
    "colab": {
     "base_uri": "https://localhost:8080/",
     "height": 310
    },
    "colab_type": "code",
    "executionInfo": {
     "elapsed": 462,
     "status": "error",
     "timestamp": 1573167048178,
     "user": {
      "displayName": "Javier Martinez Blanco",
      "photoUrl": "",
      "userId": "16491368014362528412"
     },
     "user_tz": -60
    },
    "id": "AUjnK2md9bFX",
    "outputId": "f456c410-a836-4329-891e-1c41fc76e209"
   },
   "outputs": [
    {
     "name": "stdout",
     "output_type": "stream",
     "text": [
      "1\n",
      "2\n",
      "3\n",
      "4\n",
      "5\n",
      "6\n"
     ]
    },
    {
     "ename": "TypeError",
     "evalue": "ignored",
     "output_type": "error",
     "traceback": [
      "\u001b[0;31m---------------------------------------------------------------------------\u001b[0m",
      "\u001b[0;31mTypeError\u001b[0m                                 Traceback (most recent call last)",
      "\u001b[0;32m<ipython-input-203-b8be3e0035bf>\u001b[0m in \u001b[0;36m<module>\u001b[0;34m()\u001b[0m\n\u001b[1;32m      6\u001b[0m   \u001b[0mprint\u001b[0m\u001b[0;34m(\u001b[0m\u001b[0mlength\u001b[0m\u001b[0;34m)\u001b[0m\u001b[0;34m\u001b[0m\u001b[0;34m\u001b[0m\u001b[0m\n\u001b[1;32m      7\u001b[0m \u001b[0;34m\u001b[0m\u001b[0m\n\u001b[0;32m----> 8\u001b[0;31m \u001b[0msum\u001b[0m\u001b[0;34m(\u001b[0m\u001b[0mlen\u001b[0m\u001b[0;34m(\u001b[0m\u001b[0;34m'values'\u001b[0m\u001b[0;34m)\u001b[0m\u001b[0;34m)\u001b[0m\u001b[0;34m\u001b[0m\u001b[0;34m\u001b[0m\u001b[0m\n\u001b[0m",
      "\u001b[0;31mTypeError\u001b[0m: 'int' object is not callable"
     ]
    }
   ],
   "source": [
    "ages=[2,3,5,8,9,10]\n",
    "\n",
    "length=0\n",
    "for values in ages:\n",
    "  length=length+1\n",
    "  print(length)\n",
    "\n"
   ]
  },
  {
   "cell_type": "code",
   "execution_count": null,
   "metadata": {
    "Collapsed": "false",
    "colab": {},
    "colab_type": "code",
    "id": "uQS-nBC6xQvQ"
   },
   "outputs": [],
   "source": []
  },
  {
   "cell_type": "markdown",
   "metadata": {
    "Collapsed": "true",
    "colab_type": "text",
    "id": "NF1320w8xQvT"
   },
   "source": [
    "#### 19. Write a Python program to sort the age dictionary by keys."
   ]
  },
  {
   "cell_type": "code",
   "execution_count": null,
   "metadata": {
    "Collapsed": "false",
    "colab": {},
    "colab_type": "code",
    "id": "LTiIr5oGxQvU"
   },
   "outputs": [],
   "source": [
    "dictionary={'pepe':'perez', 'jose':'jimenez', 'luis':'martin'}"
   ]
  },
  {
   "cell_type": "code",
   "execution_count": 11,
   "metadata": {
    "Collapsed": "false",
    "colab": {
     "base_uri": "https://localhost:8080/",
     "height": 34
    },
    "colab_type": "code",
    "executionInfo": {
     "elapsed": 588,
     "status": "ok",
     "timestamp": 1573212572635,
     "user": {
      "displayName": "Javier Martinez Blanco",
      "photoUrl": "",
      "userId": "16491368014362528412"
     },
     "user_tz": -60
    },
    "id": "P5L0eMRCYy41",
    "outputId": "361814d0-6147-404b-ca9e-4c4f9456795f"
   },
   "outputs": [
    {
     "data": {
      "text/plain": [
       "dict_keys(['pepe', 'jose', 'luis'])"
      ]
     },
     "execution_count": 11,
     "metadata": {
      "tags": []
     },
     "output_type": "execute_result"
    }
   ],
   "source": [
    "dictionary.keys()"
   ]
  },
  {
   "cell_type": "code",
   "execution_count": 17,
   "metadata": {
    "Collapsed": "false",
    "colab": {
     "base_uri": "https://localhost:8080/",
     "height": 34
    },
    "colab_type": "code",
    "executionInfo": {
     "elapsed": 536,
     "status": "ok",
     "timestamp": 1573212697024,
     "user": {
      "displayName": "Javier Martinez Blanco",
      "photoUrl": "",
      "userId": "16491368014362528412"
     },
     "user_tz": -60
    },
    "id": "NXnqa_IoxizQ",
    "outputId": "72fc2f6c-65a0-4537-9532-a346adf197ff"
   },
   "outputs": [
    {
     "name": "stdout",
     "output_type": "stream",
     "text": [
      "dict_keys(['pepe', 'jose', 'luis'])\n"
     ]
    }
   ],
   "source": [
    "print(dictionary.keys())"
   ]
  },
  {
   "cell_type": "code",
   "execution_count": 27,
   "metadata": {
    "Collapsed": "false",
    "colab": {
     "base_uri": "https://localhost:8080/",
     "height": 70
    },
    "colab_type": "code",
    "executionInfo": {
     "elapsed": 462,
     "status": "ok",
     "timestamp": 1573213218090,
     "user": {
      "displayName": "Javier Martinez Blanco",
      "photoUrl": "",
      "userId": "16491368014362528412"
     },
     "user_tz": -60
    },
    "id": "H9YbGBK2yGCt",
    "outputId": "74d1b1ea-6155-4f4b-ef08-48fdbea3008d"
   },
   "outputs": [
    {
     "name": "stdout",
     "output_type": "stream",
     "text": [
      "1\n",
      "2\n",
      "3\n"
     ]
    }
   ],
   "source": [
    "length=0\n",
    "for value in dictionary.keys():\n",
    "  length=length+1\n",
    "  print(length)\n",
    "  "
   ]
  },
  {
   "cell_type": "code",
   "execution_count": null,
   "metadata": {
    "Collapsed": "false",
    "colab": {},
    "colab_type": "code",
    "id": "6MP5tBvexMfc"
   },
   "outputs": [],
   "source": []
  },
  {
   "cell_type": "markdown",
   "metadata": {
    "Collapsed": "true",
    "colab_type": "text",
    "id": "0tINgRPkxQvX"
   },
   "source": [
    "## 3. Tuples"
   ]
  },
  {
   "cell_type": "code",
   "execution_count": null,
   "metadata": {
    "Collapsed": "false",
    "colab": {},
    "colab_type": "code",
    "id": "MF1N6h0YxQvX"
   },
   "outputs": [],
   "source": [
    "tuplex = (\"w\", 'm', \"r\", \"e\", \"s\", \"o\", \"u\", \"r\", \"c\", \"e\")"
   ]
  },
  {
   "cell_type": "markdown",
   "metadata": {
    "Collapsed": "true",
    "colab_type": "text",
    "id": "6HWCS2xmxQva"
   },
   "source": [
    "#### 20. Write a Python program to get the 4th element and 4th element from last of a tuple."
   ]
  },
  {
   "cell_type": "code",
   "execution_count": null,
   "metadata": {
    "Collapsed": "false",
    "colab": {},
    "colab_type": "code",
    "id": "KGSJcEfvxQva"
   },
   "outputs": [],
   "source": []
  },
  {
   "cell_type": "markdown",
   "metadata": {
    "Collapsed": "true",
    "colab_type": "text",
    "id": "5dp9Jv8OxQvd"
   },
   "source": [
    "#### 21. Write a Python program that returns how many times each elements appears in the tuple - use for loop."
   ]
  },
  {
   "cell_type": "code",
   "execution_count": null,
   "metadata": {
    "Collapsed": "false",
    "colab": {},
    "colab_type": "code",
    "id": "pMwYmt6fxQvd"
   },
   "outputs": [],
   "source": []
  }
 ],
 "metadata": {
  "colab": {
   "collapsed_sections": [],
   "name": "Day 2 - Exercises.ipynb",
   "provenance": []
  },
  "kernelspec": {
   "display_name": "Python 3",
   "language": "python",
   "name": "python3"
  },
  "language_info": {
   "codemirror_mode": {
    "name": "ipython",
    "version": 3
   },
   "file_extension": ".py",
   "mimetype": "text/x-python",
   "name": "python",
   "nbconvert_exporter": "python",
   "pygments_lexer": "ipython3",
   "version": "3.7.3"
  }
 },
 "nbformat": 4,
 "nbformat_minor": 4
}
