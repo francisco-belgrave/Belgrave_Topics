{
 "cells": [
  {
   "cell_type": "markdown",
   "metadata": {
    "Collapsed": "false",
    "colab_type": "text",
    "id": "l3z9Q3ACzRYe"
   },
   "source": [
    "<img src=\"https://user-images.strikinglycdn.com/res/hrscywv4p/image/upload/c_limit,fl_lossy,h_300,w_300,f_auto,q_auto/1266110/Logo_wzxi0f.png\" style=\"float: left; margin: 20px; height: 55px\">\n",
    "\n",
    "**Todo buen español debería mear siempre mirando a Inglaterra - [Blas de Lezo](https://en.wikipedia.org/wiki/Blas_de_Lezo)**"
   ]
  },
  {
   "cell_type": "markdown",
   "metadata": {
    "Collapsed": "false",
    "colab_type": "text",
    "id": "og_N3Y_CzRYg"
   },
   "source": [
    "*Every good Spanish should always pee looking at England*"
   ]
  },
  {
   "cell_type": "markdown",
   "metadata": {
    "Collapsed": "true",
    "colab_type": "text",
    "heading_collapsed": true,
    "id": "6Q9MWsuqzRYh"
   },
   "source": [
    "# Chapter 6: Probability Density Functions (PDF)\n"
   ]
  },
  {
   "cell_type": "markdown",
   "metadata": {
    "Collapsed": "true",
    "colab_type": "text",
    "heading_collapsed": true,
    "hidden": true,
    "id": "UGYalOVNzRYi"
   },
   "source": [
    "## Intro"
   ]
  },
  {
   "cell_type": "markdown",
   "metadata": {
    "Collapsed": "false",
    "colab_type": "text",
    "hidden": true,
    "id": "kx9O5mt9zRYj"
   },
   "source": [
    "The derivative of a CDF is called a **probability density function**, or PDF. For example, the PDF of an exponential distribution is:\n",
    "\n",
    "![alt text](Resources/Think_Stats/notebookpics/derived_pdf.png \"Title\")\n",
    "\n",
    "Evaluating a PDF for a particular value of x is usually not useful. The result is not a probability; it is a probability density.\n",
    "\n",
    "In physics, density is mass per unit of volume; in order to get a mass, you have to multiply by volume or, if the density is not constant, you have to integrate over volume.\n",
    "\n",
    "Similarly, **probability density** measures probability per unit of x. In order to get a probability mass, you have to integrate over x. `thinkstats2` provides a class called `Pdf` that represents a probability density\n",
    "function. Every `Pdf` object provides the following methods:\n",
    "\n",
    "- `Density`, which takes a value, x, and returns the density of the distribution at x.\n",
    "- `Render`, which evaluates the density at a discrete set of values and returns a pair of sequences: the sorted values, xs, and their probability densities, ds.\n",
    "- `MakePmf`, which evaluates Density at a discrete set of values and returns a normalized Pmf that approximates the Pdf.\n",
    "- `GetLinspace`, which returns the default set of points used by Render and MakePmf.\n",
    "\n",
    "`Pdf` is an abstract parent class, which means you should not instantiate it; that is, you cannot create a `Pdf` object. Instead, you should define a child class that inherits from `Pdf` and provides definitions of `Density` and `GetLinspace`. `Pdf` provides `Render` and `MakePmf`.\n",
    "\n",
    "For example, `thinkstats2` provides a class named `NormalPdf` that evaluates the normal density function.\n",
    "\n",
    "```python\n",
    "    class NormalPdf(Pdf):\n",
    "        def __init__(self, mu=0, sigma=1, label=''):\n",
    "            self.mu = mu\n",
    "            self.sigma = sigma\n",
    "            self.label = label\n",
    "            \n",
    "        def Density(self, xs):\n",
    "            return scipy.stats.norm.pdf(xs, self.mu, self.sigma)\n",
    "        \n",
    "        def GetLinspace(self):\n",
    "            low, high = self.mu-3*self.sigma, self.mu+3*self.sigma\n",
    "            return np.linspace(low, high, 101)\n",
    "```\n",
    "\n",
    "The `NormalPdf` object contains the parameters mu and sigma. Density uses `scipy.stats.norm`, which is an object that represents a normal distribution and provides `cdf` and `pdf`, among other methods.\n",
    "\n",
    "The following example creates a `NormalPdf` with the mean and variance of adult female heights, in cm, from the `BRFSS`. Then it computes the density of the distribution at a location one standard deviation from the mean."
   ]
  },
  {
   "cell_type": "code",
   "execution_count": 1,
   "metadata": {
    "Collapsed": "false",
    "colab": {},
    "colab_type": "code",
    "hidden": true,
    "id": "wLbwYW4VzRYk"
   },
   "outputs": [],
   "source": [
    "from Resources.Think_Stats.Thinkstats2 import thinkstats2\n",
    "import math\n",
    "from Resources.Think_Stats.Thinkstats2 import thinkplot\n",
    "import random\n",
    "import numpy as np\n",
    "import matplotlib.pyplot as plt"
   ]
  },
  {
   "cell_type": "code",
   "execution_count": 2,
   "metadata": {
    "Collapsed": "false",
    "colab": {},
    "colab_type": "code",
    "hidden": true,
    "id": "zma3ipUPzRYo",
    "outputId": "e91fb8f7-0060-455c-b7f9-5bc3088e1be1"
   },
   "outputs": [
    {
     "data": {
      "text/plain": [
       "0.033300124989618714"
      ]
     },
     "execution_count": 2,
     "metadata": {},
     "output_type": "execute_result"
    }
   ],
   "source": [
    "mean, var = 163, 52.8\n",
    "std = math.sqrt(var)\n",
    "pdf = thinkstats2.NormalPdf(mean, std)\n",
    "pdf.Density(mean + std)"
   ]
  },
  {
   "cell_type": "markdown",
   "metadata": {
    "Collapsed": "false",
    "colab_type": "text",
    "hidden": true,
    "id": "luXNCieozRYt"
   },
   "source": [
    "The result is about `0.03`, in units of probability mass per cm. Again, a probability density doesn’t mean much by itself. But if we plot the Pdf, we can see the shape of the distribution:"
   ]
  },
  {
   "cell_type": "code",
   "execution_count": 3,
   "metadata": {
    "Collapsed": "false",
    "colab": {},
    "colab_type": "code",
    "hidden": true,
    "id": "Qv8JGNFmzRYu",
    "outputId": "1212effa-51c2-432e-de57-82e30556d9ab"
   },
   "outputs": [
    {
     "data": {
      "image/png": "[encoded data removed]",
      "text/plain": [
       "<Figure size 720x504 with 1 Axes>"
      ]
     },
     "metadata": {
      "needs_background": "light"
     },
     "output_type": "display_data"
    },
    {
     "data": {
      "text/plain": [
       "<Figure size 576x432 with 0 Axes>"
      ]
     },
     "metadata": {},
     "output_type": "display_data"
    }
   ],
   "source": [
    "plt.figure(figsize=(10,7))\n",
    "thinkplot.Pdf(pdf, label='normal')\n",
    "thinkplot.Show()"
   ]
  },
  {
   "cell_type": "markdown",
   "metadata": {
    "Collapsed": "false",
    "colab_type": "text",
    "hidden": true,
    "id": "35jyFC2AzRYy"
   },
   "source": [
    "`thinkplot.Pdf` plots the Pdf as a smooth function, as contrasted with `thinkplot.Pmf`, which renders a Pmf as a step function.\n",
    "\n",
    "You can use `MakePmf` to approximate the Pdf:\n",
    "\n",
    "```python\n",
    "pmf = pdf.MakePmf()\n",
    "```\n",
    "\n",
    "Create a pmf using this method using the adult female heights, in cm, from the `BRFSS`:"
   ]
  },
  {
   "cell_type": "code",
   "execution_count": 4,
   "metadata": {
    "Collapsed": "false",
    "colab": {},
    "colab_type": "code",
    "hidden": true,
    "id": "6pDUTk90zRYz"
   },
   "outputs": [],
   "source": [
    "from Resources.Think_Stats.Thinkstats2 import brfss\n",
    "df = brfss.ReadBrfss(filename='Resources/Think_Stats/Thinkstats2/CDBRFS08.ASC.gz')\n",
    "height = df.htm3.dropna()"
   ]
  },
  {
   "cell_type": "code",
   "execution_count": 5,
   "metadata": {
    "Collapsed": "false",
    "colab": {},
    "colab_type": "code",
    "hidden": true,
    "id": "N9LigePUzRY4",
    "outputId": "f7d819fa-b3b2-40b6-946c-4366634a0e50"
   },
   "outputs": [
    {
     "data": {
      "text/plain": [
       "(163.22347500412215, 7.269156286642232)"
      ]
     },
     "execution_count": 5,
     "metadata": {},
     "output_type": "execute_result"
    }
   ],
   "source": [
    "female = df[df.sex==2]\n",
    "female_heights = female.htm3.dropna()\n",
    "mean, std = female_heights.mean(), female_heights.std()\n",
    "mean, std"
   ]
  },
  {
   "cell_type": "code",
   "execution_count": 6,
   "metadata": {
    "Collapsed": "false",
    "colab": {},
    "colab_type": "code",
    "hidden": true,
    "id": "TV0fzNLpzRY8",
    "outputId": "2f4e987f-4790-4fbe-9006-7c2572b5f574"
   },
   "outputs": [
    {
     "data": {
      "text/plain": [
       "0.033287319047437085"
      ]
     },
     "execution_count": 6,
     "metadata": {},
     "output_type": "execute_result"
    }
   ],
   "source": [
    "pdf = thinkstats2.NormalPdf(mean, std)\n",
    "pdf.Density(mean + std)"
   ]
  },
  {
   "cell_type": "code",
   "execution_count": 7,
   "metadata": {
    "Collapsed": "false",
    "colab": {},
    "colab_type": "code",
    "hidden": true,
    "id": "olJ0f8j7zRY_",
    "outputId": "d2cc100f-6ae8-4b80-bedb-f9b1a85003d3"
   },
   "outputs": [
    {
     "data": {
      "image/png": "[encoded data removed]",
      "text/plain": [
       "<Figure size 720x504 with 1 Axes>"
      ]
     },
     "metadata": {
      "needs_background": "light"
     },
     "output_type": "display_data"
    }
   ],
   "source": [
    "plt.figure(figsize=(10,7))\n",
    "thinkplot.Pdf(pdf, label='normal')\n",
    "thinkplot.Config(xlabel='x', ylabel='PDF', xlim=[140, 186])"
   ]
  },
  {
   "cell_type": "code",
   "execution_count": 8,
   "metadata": {
    "Collapsed": "false"
   },
   "outputs": [
    {
     "data": {
      "image/png": "[encoded data removed]",
      "text/plain": [
       "<Figure size 720x504 with 1 Axes>"
      ]
     },
     "metadata": {
      "needs_background": "light"
     },
     "output_type": "display_data"
    }
   ],
   "source": [
    "pmf = pdf.MakePmf()\n",
    "\n",
    "plt.figure(figsize=(10,7))\n",
    "thinkplot.Pmf(pmf, label='normal')\n",
    "thinkplot.Config(xlabel='x', ylabel='PMF', xlim=[140, 186])"
   ]
  },
  {
   "cell_type": "markdown",
   "metadata": {
    "Collapsed": "false",
    "colab_type": "text",
    "hidden": true,
    "id": "tianMxUCzRY2"
   },
   "source": [
    "By default, the resulting `Pmf` contains 101 points equally spaced from mu - 3*sigma to mu + 3*sigma. Optionally, `MakePmf` and `Render` can take keyword arguments `low`, `high` and `n`."
   ]
  },
  {
   "cell_type": "markdown",
   "metadata": {
    "Collapsed": "false",
    "colab_type": "text",
    "hidden": true,
    "id": "GKQvLRv1zRY3"
   },
   "source": [
    "Create a pdf with `thinkstats2.NormalPdf()` of the male heights using these arguments and plot it:"
   ]
  },
  {
   "cell_type": "code",
   "execution_count": 9,
   "metadata": {
    "Collapsed": "false",
    "colab": {},
    "colab_type": "code",
    "hidden": true,
    "id": "N9LigePUzRY4",
    "outputId": "f7d819fa-b3b2-40b6-946c-4366634a0e50"
   },
   "outputs": [
    {
     "data": {
      "text/plain": [
       "(178.06622109101272, 7.723563454784915)"
      ]
     },
     "execution_count": 9,
     "metadata": {},
     "output_type": "execute_result"
    }
   ],
   "source": [
    "male = df[df.sex==1]\n",
    "male_heights = male.htm3.dropna()\n",
    "mean, std = male_heights.mean(), male_heights.std()\n",
    "mean, std"
   ]
  },
  {
   "cell_type": "code",
   "execution_count": 10,
   "metadata": {
    "Collapsed": "false",
    "colab": {},
    "colab_type": "code",
    "hidden": true,
    "id": "TV0fzNLpzRY8",
    "outputId": "2f4e987f-4790-4fbe-9006-7c2572b5f574"
   },
   "outputs": [
    {
     "data": {
      "text/plain": [
       "0.03132889707395845"
      ]
     },
     "execution_count": 10,
     "metadata": {},
     "output_type": "execute_result"
    }
   ],
   "source": [
    "pdf = thinkstats2.NormalPdf(mean, std)\n",
    "pdf.Density(mean + std)"
   ]
  },
  {
   "cell_type": "code",
   "execution_count": 11,
   "metadata": {
    "Collapsed": "false",
    "colab": {},
    "colab_type": "code",
    "hidden": true,
    "id": "olJ0f8j7zRY_",
    "outputId": "d2cc100f-6ae8-4b80-bedb-f9b1a85003d3"
   },
   "outputs": [
    {
     "data": {
      "image/png": "[encoded data removed]",
      "text/plain": [
       "<Figure size 720x504 with 1 Axes>"
      ]
     },
     "metadata": {
      "needs_background": "light"
     },
     "output_type": "display_data"
    }
   ],
   "source": [
    "plt.figure(figsize=(10,7))\n",
    "thinkplot.Pdf(pdf, label='normal')\n",
    "thinkplot.Config(xlabel='x', ylabel='PDF', xlim=[140, 186])"
   ]
  },
  {
   "cell_type": "code",
   "execution_count": 12,
   "metadata": {
    "Collapsed": "false"
   },
   "outputs": [
    {
     "data": {
      "image/png": "[encoded data removed]",
      "text/plain": [
       "<Figure size 720x504 with 1 Axes>"
      ]
     },
     "metadata": {
      "needs_background": "light"
     },
     "output_type": "display_data"
    }
   ],
   "source": [
    "pmf = pdf.MakePmf(n=1000)\n",
    "\n",
    "plt.figure(figsize=(10,7))\n",
    "thinkplot.Pmf(pmf, label='normal')\n",
    "thinkplot.Config(xlabel='x', ylabel='PMF', xlim=[140, 186])"
   ]
  },
  {
   "cell_type": "markdown",
   "metadata": {
    "Collapsed": "false",
    "colab_type": "text",
    "hidden": true,
    "id": "hU4hcLL4zRZH"
   },
   "source": [
    "If you have a `Pmf`, you can also plot it using `Pdf`, if you have reason to think it should be represented as a smooth curve."
   ]
  },
  {
   "cell_type": "code",
   "execution_count": 13,
   "metadata": {
    "Collapsed": "false",
    "colab": {},
    "colab_type": "code",
    "hidden": true,
    "id": "_4g0k-5DzRZI",
    "outputId": "a9d8e4f2-0762-49ab-d390-f2369aae7d4c"
   },
   "outputs": [
    {
     "data": {
      "image/png": "[encoded data removed]",
      "text/plain": [
       "<Figure size 720x504 with 1 Axes>"
      ]
     },
     "metadata": {
      "needs_background": "light"
     },
     "output_type": "display_data"
    }
   ],
   "source": [
    "plt.figure(figsize=(10,7))\n",
    "thinkplot.Pdf(pmf, label='normal')\n",
    "thinkplot.Config(xlabel='x', ylabel='PDF', xlim=[140, 186])"
   ]
  },
  {
   "cell_type": "markdown",
   "metadata": {
    "Collapsed": "true",
    "colab_type": "text",
    "heading_collapsed": true,
    "hidden": true,
    "id": "_z53BcH2zRZL"
   },
   "source": [
    "## Kernel density estimation"
   ]
  },
  {
   "cell_type": "markdown",
   "metadata": {
    "Collapsed": "false",
    "colab_type": "text",
    "hidden": true,
    "id": "Gy_EsTjqzRZM"
   },
   "source": [
    "**Kernel density estimation (KDE)** is an algorithm that takes a sample and finds an appropriately smooth PDF that fits the data. You can read details at http://en.wikipedia.org/wiki/Kernel_density_estimation.\n",
    "\n",
    "`Scipy` provides an implementation of KDE and `thinkstats2` provides a class called `EstimatedPdf` that uses it:\n",
    "\n",
    "```python\n",
    "class EstimatedPdf(Pdf):\n",
    "    def __init__(self, sample):\n",
    "        self.kde = scipy.stats.gaussian_kde(sample)\n",
    "    def Density(self, xs):\n",
    "        return self.kde.evaluate(xs)\n",
    "```\n",
    "\n",
    "'`_init__` Takes a sample and computes a kernel density estimate. The result is a `gaussian_kde` object that provides an evaluate method.\n",
    "\n",
    "`Density` takes a value or sequence, calls `gaussian_kde.evaluate`, and returns the resulting density. The word “Gaussian” appears in the name because it uses a filter based on a Gaussian distribution to smooth the KDE.\n",
    "\n",
    "Here’s an example that generates a sample from a normal distribution and then makes an `EstimatedPdf` to fit it:"
   ]
  },
  {
   "cell_type": "code",
   "execution_count": 14,
   "metadata": {
    "Collapsed": "false",
    "colab": {},
    "colab_type": "code",
    "hidden": true,
    "id": "Ay7zvEhMzRZN",
    "outputId": "fe41be52-81dd-4705-9762-8f752a28b98a"
   },
   "outputs": [
    {
     "data": {
      "image/png": "[encoded data removed]",
      "text/plain": [
       "<Figure size 720x504 with 1 Axes>"
      ]
     },
     "metadata": {
      "needs_background": "light"
     },
     "output_type": "display_data"
    }
   ],
   "source": [
    "sample = [random.gauss(mean, std) for i in range(500)]\n",
    "sample_pdf = thinkstats2.EstimatedPdf(sample)\n",
    "plt.figure(figsize=(10,7))\n",
    "thinkplot.Pdf(sample_pdf, label='sample KDE')"
   ]
  },
  {
   "cell_type": "markdown",
   "metadata": {
    "Collapsed": "false",
    "colab_type": "text",
    "hidden": true,
    "id": "7Tc2EpDozRZQ"
   },
   "source": [
    "sample is a list of 500 random heights. sample_pdf is a Pdf object that contains the estimated KDE of the sample."
   ]
  },
  {
   "cell_type": "markdown",
   "metadata": {
    "Collapsed": "false",
    "colab_type": "text",
    "hidden": true,
    "id": "BEPpMNpazRZR"
   },
   "source": [
    "Using a sample from the actual distribution, we can estimate the PDF using Kernel Density Estimation (KDE).\n",
    "\n",
    "If you run this a few times, you'll see how much variation there is in the estimate."
   ]
  },
  {
   "cell_type": "code",
   "execution_count": 15,
   "metadata": {
    "Collapsed": "false",
    "colab": {},
    "colab_type": "code",
    "hidden": true,
    "id": "YqrIY7GbzRZS",
    "outputId": "648a01c9-bfcc-4052-9068-85dfbfcc428f"
   },
   "outputs": [
    {
     "data": {
      "image/png": "[encoded data removed]",
      "text/plain": [
       "<Figure size 432x288 with 1 Axes>"
      ]
     },
     "metadata": {
      "needs_background": "light"
     },
     "output_type": "display_data"
    }
   ],
   "source": [
    "thinkplot.Pdf(pdf, label='normal')\n",
    "\n",
    "sample = np.random.normal(mean, std, 500)\n",
    "sample_pdf = thinkstats2.EstimatedPdf(sample, label='sample')\n",
    "thinkplot.Pdf(sample_pdf, label='sample KDE')\n",
    "thinkplot.Config(xlabel='x', ylabel='PDF', xlim=[140, 186])"
   ]
  },
  {
   "cell_type": "markdown",
   "metadata": {
    "Collapsed": "false",
    "colab_type": "text",
    "hidden": true,
    "id": "2b5RZaMSzRZW"
   },
   "source": [
    "This figure shows the normal density function and a KDE based on a sample of 500 random heights. The estimate is a good match for the original distribution.\n",
    "\n",
    "Estimating a density function with KDE is useful for several purposes:\n",
    "- Visualization: During the exploration phase of a project, CDFs are usually the best visualization of a distribution. After you look at a CDF, you can decide whether an estimated PDF is an appropriate model of the distribution. If so, it can be a better choice for presenting the distribution to an audience that is unfamiliar with CDFs.\n",
    "- Interpolation: An estimated PDF is a way to get from a sample to a model of the population. If you have reason to believe that the population distribution is smooth, you can use KDE to interpolate the density for values that don’t appear in the sample.\n",
    "- Simulation: Simulations are often based on the distribution of a sample. If the sample size is small, it might be appropriate to smooth the sample distribution using KDE, which allows the simulation to explore more possible outcomes, rather than replicating the observed data."
   ]
  },
  {
   "cell_type": "markdown",
   "metadata": {
    "Collapsed": "true",
    "colab_type": "text",
    "heading_collapsed": true,
    "hidden": true,
    "id": "jsScs7D_zRZX"
   },
   "source": [
    "## The distribution framework"
   ]
  },
  {
   "cell_type": "markdown",
   "metadata": {
    "Collapsed": "false",
    "colab_type": "text",
    "hidden": true,
    "id": "wbUiizEbzRZY"
   },
   "source": [
    "At this point we have seen PMFs, CDFs and PDFs; let’s take a minute to review.\n",
    "\n",
    "We started with PMFs, which represent the probabilities for a discrete set of values. To get from a PMF to a CDF, you add up the probability masses to get cumulative probabilities. To get from a CDF back to a PMF, you compute\n",
    "differences in cumulative probabilities. We’ll see the implementation of these operations in the next few sections.\n",
    "\n",
    "A PDF is the derivative of a continuous CDF; or, equivalently, a CDF is the integral of a PDF. Remember that a PDF maps from values to probability densities; to get a probability, you have to integrate.\n",
    "\n",
    "To get from a discrete to a continuous distribution, you can perform various kinds of smoothing. One form of smoothing is to assume that the data come from an analytic continuous distribution (like exponential or normal) and\n",
    "to estimate the parameters of that distribution. Another option is kernel density estimation.\n",
    "\n",
    "The opposite of smoothing is **discretizing**, or quantizing. If you evaluate a PDF at discrete points, you can generate a PMF that is an approximation of the PDF. You can get a better approximation using numerical integration.\n",
    "\n",
    "To distinguish between continuous and discrete CDFs, it might be better for a discrete CDF to be a “cumulative mass function,” but as far as I can tell no one uses that term.\n",
    "\n",
    "![alt text](Resources/Think_Stats/notebookpics/Distribution_relationship.png \"Title\")"
   ]
  },
  {
   "cell_type": "markdown",
   "metadata": {
    "Collapsed": "true",
    "colab_type": "text",
    "heading_collapsed": true,
    "hidden": true,
    "id": "mIadX55pzRZZ"
   },
   "source": [
    "## Hist implementation"
   ]
  },
  {
   "cell_type": "markdown",
   "metadata": {
    "Collapsed": "false",
    "colab_type": "text",
    "hidden": true,
    "id": "3TCrZyQXzRZa"
   },
   "source": [
    "At this point you should know how to use the basic types provided by `thinkstats2`: `Hist`, `Pmf`, `Cdf`, and `Pdf`. The next few sections provide details about how they are implemented. This material might help you use these classes more effectively, but it is not strictly necessary.\n",
    "\n",
    "Hist and Pmf inherit from a parent class called `_DictWrapper`. **The leading underscore indicates that this class is “internal” that is, it should not be used by code in other modules.** The name indicates what it is: a dictionary wrapper. Its primary attribute is d, the dictionary that maps from values to their frequencies.\n",
    "\n",
    "The values can be any hashable type. The frequencies should be integers, but can be any numeric type.\n",
    "\n",
    "`_DictWrapper` contains methods appropriate for both Hist and Pmf, including `__init__`, `Values`, `Items` and `Render`. It also provides modifier methods Set, Incr, Mult, and Remove. These methods are all implemented with dictionary operations. For example:\n",
    "```python\n",
    "class _DictWrapper\n",
    "    def Incr(self, x, term=1):\n",
    "        self.d[x] = self.d.get(x, 0) + term\n",
    "    def Mult(self, x, factor):\n",
    "        self.d[x] = self.d.get(x, 0) * factor\n",
    "    def Remove(self, x):\n",
    "        del self.d[x]\n",
    "```\n",
    "\n",
    "Hist also provides Freq, which looks up the frequency of a given value. \n",
    "\n",
    "Because Hist operators and methods are based on dictionaries, these methods are constant time operations; that is, their run time does not increase as the Hist gets bigger.\n",
    "\n",
    "`Find the hist and pmf class in the code, within them find the previous methods shown`"
   ]
  },
  {
   "cell_type": "markdown",
   "metadata": {
    "Collapsed": "true",
    "colab_type": "text",
    "heading_collapsed": true,
    "hidden": true,
    "id": "FHXxfZ_tzRZb"
   },
   "source": [
    "## `Pmf` implementation"
   ]
  },
  {
   "cell_type": "markdown",
   "metadata": {
    "Collapsed": "false",
    "colab_type": "text",
    "hidden": true,
    "id": "7XlJbJ4dWvUI"
   },
   "source": [
    "`Pmf` and `Hist` are almost the same thing, except that a `Pmf` maps values to floating-point probabilities, rather than integer frequencies. If the sum of the probabilities is 1, the `Pmf` is normalized.\n",
    "\n",
    "`Pmf` provides `Normalize`, which computes the sum of the probabilities and divides through by a factor:\n",
    "\n",
    "```python\n",
    "class Pmf:\n",
    "\n",
    "    def Normalize(self, fraction=1.0):\n",
    "        if self.log:\n",
    "            raise ValueError(\"Normalize: Pmf is under a log transform\")\n",
    "\n",
    "        total = self.Total()\n",
    "        if total == 0.0:\n",
    "            raise ValueError('Normalize: total probability is zero.')\n",
    "            #logging.warning('Normalize: total probability is zero.')\n",
    "            #return total\n",
    "\n",
    "        factor = fraction / total\n",
    "        for x in self.d:\n",
    "            self.d[x] *= factor\n",
    "\n",
    "        return total\n",
    "```"
   ]
  },
  {
   "cell_type": "markdown",
   "metadata": {
    "Collapsed": "false",
    "colab_type": "text",
    "hidden": true,
    "id": "SXT9T2vkzRZe"
   },
   "source": [
    "**Write down the logic of the PMF class**"
   ]
  },
  {
   "cell_type": "markdown",
   "metadata": {
    "Collapsed": "false",
    "colab_type": "text",
    "hidden": true,
    "id": "Urwiu9f4zRZf"
   },
   "source": [
    "fraction determines the sum of the probabilities after normalizing; the default value is 1. If the total probability is 0, the Pmf cannot be normalized, so Normalize raises ValueError.\n",
    "\n",
    "Hist and Pmf have the same constructor. It can take as an argument a dict, Hist, Pmf or Cdf, a pandas Series, a list of (value, frequency) pairs, or a sequence of values.\n",
    "\n",
    "If you instantiate a Pmf, the result is normalized. If you instantiate a Hist, it is not. To construct an unnormalized Pmf, you can create an empty Pmf and modify it. The Pmf modifiers do not renormalize the Pmf."
   ]
  },
  {
   "cell_type": "markdown",
   "metadata": {
    "Collapsed": "true",
    "colab_type": "text",
    "heading_collapsed": true,
    "hidden": true,
    "id": "TZwb5fiyzRZi"
   },
   "source": [
    "## `Cdf` implementation"
   ]
  },
  {
   "cell_type": "markdown",
   "metadata": {
    "Collapsed": "false",
    "colab_type": "text",
    "hidden": true,
    "id": "a-6DQYCXzRZj"
   },
   "source": [
    "A CDF maps from values to cumulative probabilities, so I could have implemented Cdf as a `_DictWrapper`. But the values in a CDF are ordered and the values in a `_DictWrapper` are not. Also, it is often useful to compute the\n",
    "inverse CDF; that is, the map from cumulative probability to value. So the implementaion I chose is two sorted lists. That way I can use binary search to do a forward or inverse lookup in logarithmic time.\n",
    "\n",
    "The Cdf constructor can take as a parameter a sequence of values or a pandas Series, a dictionary that maps from values to probabilities, a sequence of (value, probability) pairs, a Hist, Pmf, or Cdf. Or if it is given two parameters, it treats them as a sorted sequence of values and the sequence of corresponding cumulative probabilities.\n",
    "\n",
    "Given a sequence, pandas Series, or dictionary, the constructor makes a Hist. Then it uses the Hist to initialize the attributes:\n",
    "```python\n",
    "    self.xs, freqs = zip(*sorted(dw.Items()))\n",
    "    self.ps = np.cumsum(freqs, dtype=np.float)\n",
    "    self.ps /= self.ps[-1]\n",
    "   ```\n",
    "xs is the sorted list of values; freqs is the list of corresponding frequencies. np.cumsum computes the cumulative sum of the frequencies. Dividing through by the total frequency yields cumulative probabilities. For n values,\n",
    "the time to construct the Cdf is proportional to n log n. Here is the implementation of Prob, which takes a value and returns its cumulative probability:\n",
    "\n",
    "```python\n",
    "class Cdf\n",
    "    def Prob(self, x):\n",
    "        if x < self.xs[0]:\n",
    "            return 0.0\n",
    "        index = bisect.bisect(self.xs, x)\n",
    "        p = self.ps[index - 1]\n",
    "        return p\n",
    "```\n",
    "\n",
    "The bisect module provides an implementation of binary search. And here is the implementation of Value, which takes a cumulative probability and returns the corresponding value:\n",
    "\n",
    "```python\n",
    "class Cdf\n",
    "    def Value(self, p):\n",
    "        if p < 0 or p > 1:\n",
    "            raise ValueError('p must be in range [0, 1]')\n",
    "            \n",
    "        index = bisect.bisect_left(self.ps, p)\n",
    "        return self.xs[index]\n",
    "```\n",
    "\n",
    "Given a Cdf, we can compute the Pmf by computing differences between consecutive cumulative probabilities. If you call the Cdf constructor and pass a Pmf, it computes differences by calling Cdf.Items:\n",
    "```python\n",
    "class Cdf\n",
    "    def Items(self):\n",
    "        a = self.ps\n",
    "        b = np.roll(a, 1)\n",
    "        b[0] = 0\n",
    "        return zip(self.xs, a-b)\n",
    "```\n",
    "\n",
    "np.roll shifts the elements of a to the right, and “rolls” the last one back to the beginning. We replace the first element of b with 0 and then compute the difference a-b. The result is a NumPy array of probabilities. Cdf provides Shift and Scale, which modify the values in the Cdf, but the probabilities should be treated as immutable.\n",
    "\n",
    "Create a use and show the application of `np.roll`, `bisect.bisect`, `bisect.bisect_left`."
   ]
  },
  {
   "cell_type": "code",
   "execution_count": 16,
   "metadata": {
    "Collapsed": "false",
    "colab": {},
    "colab_type": "code",
    "hidden": true,
    "id": "2sj7LxdezRZk"
   },
   "outputs": [],
   "source": [
    "#Code here"
   ]
  },
  {
   "cell_type": "markdown",
   "metadata": {
    "Collapsed": "true",
    "colab_type": "text",
    "heading_collapsed": true,
    "hidden": true,
    "id": "BibH5ifSzRZo"
   },
   "source": [
    "## Moments"
   ]
  },
  {
   "cell_type": "markdown",
   "metadata": {
    "Collapsed": "false",
    "colab_type": "text",
    "hidden": true,
    "id": "HciYhFDJzRZp"
   },
   "source": [
    "Any time you take a sample and reduce it to a single number, that number is a statistic. The statistics we have seen so far include mean, variance, median, and interquartile range.\n",
    "\n",
    "A **raw moment** is a kind of statistic. If you have a sample of values, x i , the kth raw moment is:\n",
    "\n",
    "![alt text](Resources/Think_Stats/notebookpics/central_moment.png \"Title\")\n",
    "\n",
    "Implement it in python:\n"
   ]
  },
  {
   "cell_type": "code",
   "execution_count": 17,
   "metadata": {
    "Collapsed": "false",
    "colab": {},
    "colab_type": "code",
    "hidden": true,
    "id": "8mrxVArYzRZq"
   },
   "outputs": [],
   "source": [
    "def RawMoment(xs, k):\n",
    "    return (1/len(xs))*sum([(x - np.mean(xs))**k for x in xs])"
   ]
  },
  {
   "cell_type": "markdown",
   "metadata": {
    "Collapsed": "false",
    "colab_type": "text",
    "hidden": true,
    "id": "xKHEC_VYzRZv"
   },
   "source": [
    "When k = 1 the result is the sample mean, x̄. The other raw moments don’t mean much by themselves, but they are used in some computations.\n",
    "\n",
    "The **central moments** are more useful. The kth central moment is:\n",
    "\n",
    "![alt text](Resources/Think_Stats/notebookpics/moment_raw.png \"Title\")\n",
    "\n",
    "Implement it in python:"
   ]
  },
  {
   "cell_type": "code",
   "execution_count": 18,
   "metadata": {
    "Collapsed": "false",
    "colab": {},
    "colab_type": "code",
    "hidden": true,
    "id": "XOQUCx7SzRZw"
   },
   "outputs": [],
   "source": [
    "# Code it here\n",
    "def CentralMoment(xs, k):\n",
    "    return (1/len(xs))*sum([x**k for x in xs])"
   ]
  },
  {
   "cell_type": "markdown",
   "metadata": {
    "Collapsed": "false",
    "colab_type": "text",
    "hidden": true,
    "id": "CORjiVsKzRZy"
   },
   "source": [
    "When k = 2 the result is the second moment, which you might recognize as variance. The definition of variance gives a hint about why these statistics are called moments. If we attach a weight along a ruler at\n",
    "each location, x, and then spin the ruler around the mean, the moment of inertia of the spinning weights is the variance of the values. If you are not familiar with moment of inertia, see http://en.wikipedia.org/wiki/Moment_of_inertia.\n",
    "\n",
    "When you report moment-based statistics, it is important to think about the units. For example, if the values x are in cm, the first raw moment is also in cm. But the second moment is in cm 2 , the third moment is in cm 3 , and\n",
    "so on.\n",
    "\n",
    "Because of these units, moments are hard to interpret by themselves. That’s why, for the second moment, it is common to report standard deviation, which is the square root of variance, so it is in the same units as x."
   ]
  },
  {
   "cell_type": "markdown",
   "metadata": {
    "Collapsed": "true",
    "colab_type": "text",
    "heading_collapsed": true,
    "hidden": true,
    "id": "XsOWRnDmzRZz"
   },
   "source": [
    "## Skewness"
   ]
  },
  {
   "cell_type": "markdown",
   "metadata": {
    "Collapsed": "false",
    "colab_type": "text",
    "hidden": true,
    "id": "NUn0DoRuzRZ0"
   },
   "source": [
    "Skewness is a property that describes the shape of a distribution. If the distribution is symmetric around its central tendency, it is unskewed. If the values extend farther to the right, it is “right skewed” and if the values extend left, it is “left skewed.”\n",
    "\n",
    "This use of “skewed” does not have the usual connotation of “biased.” Skewness only describes the shape of the distribution; it says nothing about whether the sampling process might have been biased.\n",
    "\n",
    "Several statistics are commonly used to quantify the skewness of a distribution. Given a sequence of values, x, the **sample skewness**, g, can be computed like this:\n",
    "\n",
    "```python\n",
    "def StandardizedMoment(xs, k):\n",
    "    var = CentralMoment(xs, 2)\n",
    "    std = math.sqrt(var)\n",
    "    return CentralMoment(xs, k) / std**k\n",
    "\n",
    "def Skewness(xs):\n",
    "    return StandardizedMoment(xs, 3)\n",
    "```\n",
    "g is the third **standardized moment**, which means that it has been normalized so it has no units.\n",
    "\n",
    "Negative skewness indicates that a distribution skews left; positive skewness indicates that a distribution skews right. The magnitude of g 1 indicates the strength of the skewness, but by itself it is not easy to interpret.\n",
    "\n",
    "In practice, computing sample skewness is usually not a good idea. If there are any outliers, they have a disproportionate effect on g.\n"
   ]
  },
  {
   "cell_type": "code",
   "execution_count": 19,
   "metadata": {
    "Collapsed": "false",
    "colab": {},
    "colab_type": "code",
    "hidden": true,
    "id": "th8Xhoy6zRZ1"
   },
   "outputs": [],
   "source": [
    "# Why?"
   ]
  },
  {
   "cell_type": "markdown",
   "metadata": {
    "Collapsed": "false",
    "colab_type": "text",
    "hidden": true,
    "id": "zGGqEJsRzRZ3"
   },
   "source": [
    "\n",
    "Another way to evaluate the asymmetry of a distribution is to look at the relationship between the mean and median. Extreme values have more effect on the mean than the median, so in a distribution that skews left, the mean is\n",
    "less than the median. In a distribution that skews right, the mean is greater.\n",
    "\n",
    "**Pearson’s median skewness coefficient** is a measure of skewness based on the difference between the sample mean and median:<br>\n",
    "![alt text](Resources/Think_Stats/notebookpics/pearson_median.png \"Title\")\n",
    "\n",
    "Where x̄ is the sample mean, m is the median, and S is the standard deviation. \n",
    "Implement it in python, and calculate it for the weights of the adults for both methods we have seen:"
   ]
  },
  {
   "cell_type": "code",
   "execution_count": 20,
   "metadata": {
    "Collapsed": "false",
    "colab": {},
    "colab_type": "code",
    "hidden": true,
    "id": "cOuTmFJfzRZ4"
   },
   "outputs": [],
   "source": [
    "df = brfss.ReadBrfss(filename='Resources/Think_Stats/Thinkstats2/CDBRFS08.ASC.gz', nrows=None)"
   ]
  },
  {
   "cell_type": "code",
   "execution_count": 21,
   "metadata": {
    "Collapsed": "false"
   },
   "outputs": [
    {
     "name": "stdout",
     "output_type": "stream",
     "text": [
      "0.23912410433871562\n"
     ]
    }
   ],
   "source": [
    "heights = df['htm3'].dropna()\n",
    "pearson = 3*(df['htm3'].mean() - df['htm3'].median())/df['htm3'].std()\n",
    "print(pearson)"
   ]
  },
  {
   "cell_type": "code",
   "execution_count": 22,
   "metadata": {
    "Collapsed": "false"
   },
   "outputs": [
    {
     "data": {
      "text/plain": [
       "0.1591505077264092"
      ]
     },
     "execution_count": 22,
     "metadata": {},
     "output_type": "execute_result"
    }
   ],
   "source": [
    "thinkstats2.Skewness(heights)"
   ]
  },
  {
   "cell_type": "markdown",
   "metadata": {
    "Collapsed": "false",
    "colab_type": "text",
    "hidden": true,
    "id": "xL5fDpaczRZ7"
   },
   "source": [
    "Or in Python:\n",
    "\n",
    "```python\n",
    "    def Median(xs):\n",
    "        cdf = thinkstats2.Cdf(xs)\n",
    "        return cdf.Value(0.5)\n",
    "    \n",
    "    def PearsonMedianSkewness(xs):\n",
    "        median = Median(xs)\n",
    "        mean = RawMoment(xs, 1)\n",
    "        var = CentralMoment(xs, 2)\n",
    "        std = math.sqrt(var)\n",
    "        gp = 3 * (mean - median) / std\n",
    "        return gp\n",
    "```\n",
    "\n",
    "This statistic is **robust**, which means that it is less vulnerable to the effect of outliers.\n",
    "\n",
    "As an example, let’s look at the skewness of birth weights in the NSFG pregnancy data. Here’s the code to estimate and plot the PDF:\n",
    "\n",
    "```python\n",
    "live, firsts, others = first.MakeFrames()\n",
    "data = live.totalwgt_lb.dropna()\n",
    "pdf = thinkstats2.EstimatedPdf(data)\n",
    "thinkplot.Pdf(pdf, label='birth weight')\n",
    "```\n",
    "\n",
    "Now let’s compare this distribution to the distribution of adult weight in the BRFSS. Again, here’s the code:\n",
    "\n",
    "```python\n",
    "df = brfss.ReadBrfss(nrows=None)\n",
    "data = df.wtkg2.dropna()\n",
    "pdf = thinkstats2.EstimatedPdf(data)\n",
    "thinkplot.Pdf(pdf, label='adult weight')\n",
    "```\n",
    "\n",
    "The sign of the skewness coefficient indicates whether the distribution skews left or right, but other than that, they are hard to interpret. Sample skewness is less robust; that is, it is more susceptible to outliers. As a result it is less reliable when applied to skewed distributions, exactly when it would be most relevant.\n",
    "\n",
    "Pearson’s median skewness is based on a computed mean and variance, so it is also susceptible to outliers, but since it does not depend on a third moment, it is somewhat more robust."
   ]
  },
  {
   "cell_type": "code",
   "execution_count": 23,
   "metadata": {
    "Collapsed": "false",
    "colab": {},
    "colab_type": "code",
    "id": "7iOL0rgTU5m4"
   },
   "outputs": [],
   "source": [
    "from Resources.Think_Stats.Thinkstats2 import first"
   ]
  },
  {
   "cell_type": "code",
   "execution_count": 24,
   "metadata": {
    "Collapsed": "false",
    "colab": {},
    "colab_type": "code",
    "id": "bnreZBqNU5nH"
   },
   "outputs": [
    {
     "data": {
      "image/png": "[encoded data removed]",
      "text/plain": [
       "<Figure size 432x288 with 1 Axes>"
      ]
     },
     "metadata": {
      "needs_background": "light"
     },
     "output_type": "display_data"
    }
   ],
   "source": [
    "live, firsts, others = first.MakeFrames()\n",
    "data = live.totalwgt_lb.dropna()\n",
    "pdf = thinkstats2.EstimatedPdf(data)\n",
    "thinkplot.Pdf(pdf, label='birth weight')"
   ]
  },
  {
   "cell_type": "code",
   "execution_count": 25,
   "metadata": {
    "Collapsed": "false"
   },
   "outputs": [
    {
     "data": {
      "image/png": "[encoded data removed]",
      "text/plain": [
       "<Figure size 432x288 with 1 Axes>"
      ]
     },
     "metadata": {
      "needs_background": "light"
     },
     "output_type": "display_data"
    }
   ],
   "source": [
    "df = brfss.ReadBrfss(nrows=None)\n",
    "data = df.wtkg2.dropna()\n",
    "pdf = thinkstats2.EstimatedPdf(data)\n",
    "thinkplot.Pdf(pdf, label='adult weight')"
   ]
  }
 ],
 "metadata": {
  "colab": {
   "collapsed_sections": [],
   "name": "Day 21 - Sol.ipynb",
   "provenance": []
  },
  "kernelspec": {
   "display_name": "Python 3",
   "language": "python",
   "name": "python3"
  },
  "language_info": {
   "codemirror_mode": {
    "name": "ipython",
    "version": 3
   },
   "file_extension": ".py",
   "mimetype": "text/x-python",
   "name": "python",
   "nbconvert_exporter": "python",
   "pygments_lexer": "ipython3",
   "version": "3.6.9"
  },
  "toc": {
   "base_numbering": 1,
   "nav_menu": {},
   "number_sections": false,
   "sideBar": true,
   "skip_h1_title": false,
   "title_cell": "Contents",
   "title_sidebar": "Contents",
   "toc_cell": false,
   "toc_position": {
    "height": "calc(100% - 180px)",
    "left": "10px",
    "top": "150px",
    "width": "165px"
   },
   "toc_section_display": true,
   "toc_window_display": false
  }
 },
 "nbformat": 4,
 "nbformat_minor": 4
}
