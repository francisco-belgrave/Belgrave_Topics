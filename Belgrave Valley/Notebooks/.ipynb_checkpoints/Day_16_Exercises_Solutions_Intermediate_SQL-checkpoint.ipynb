{
 "cells": [
  {
   "cell_type": "markdown",
   "metadata": {
    "Collapsed": "false"
   },
   "source": [
    "<img src=\"https://user-images.strikinglycdn.com/res/hrscywv4p/image/upload/c_limit,fl_lossy,h_300,w_300,f_auto,q_auto/1266110/Logo_wzxi0f.png\" style=\"float: left; margin: 20px; height: 55px\">\n",
    "\n",
    "**If you torture the data long enough, it will confess ― [Ronald H. Coase](https://en.wikipedia.org/wiki/Ronald_Coase)**"
   ]
  },
  {
   "cell_type": "markdown",
   "metadata": {
    "Collapsed": "true"
   },
   "source": [
    "# Intermediate SQL"
   ]
  },
  {
   "cell_type": "markdown",
   "metadata": {
    "Collapsed": "true"
   },
   "source": [
    "### <font color='red'>Use the orders table for the following questions:</font>"
   ]
  },
  {
   "cell_type": "markdown",
   "metadata": {
    "Collapsed": "true"
   },
   "source": [
    "#### 1. Return the total sum of the amount_usd column from the orders table.\n"
   ]
  },
  {
   "cell_type": "code",
   "execution_count": null,
   "metadata": {
    "Collapsed": "false"
   },
   "outputs": [],
   "source": [
    "SELECT\n",
    "  sum(amount_usd) \n",
    "FROM \n",
    "  tutorial.orders;"
   ]
  },
  {
   "cell_type": "markdown",
   "metadata": {
    "Collapsed": "true"
   },
   "source": [
    "#### 2. How many unique accounts we have in the orders table?"
   ]
  },
  {
   "cell_type": "code",
   "execution_count": null,
   "metadata": {
    "Collapsed": "false"
   },
   "outputs": [],
   "source": [
    "SELECT  \n",
    "  count(distinct account_id)\n",
    "FROM\n",
    "  tutorial.orders;"
   ]
  },
  {
   "cell_type": "markdown",
   "metadata": {
    "Collapsed": "true"
   },
   "source": [
    "#### 3. What is the average amount of each account in the orders table (order from bigger to smaller average)?\n"
   ]
  },
  {
   "cell_type": "code",
   "execution_count": null,
   "metadata": {
    "Collapsed": "false"
   },
   "outputs": [],
   "source": [
    "SELECT  \n",
    "  account_id,\n",
    "  avg(amount_usd)\n",
    "FROM\n",
    "  tutorial.orders\n",
    "GROUP BY\n",
    "  1\n",
    "ORDER BY\n",
    "  2 desc;"
   ]
  },
  {
   "cell_type": "markdown",
   "metadata": {
    "Collapsed": "true"
   },
   "source": [
    "#### 4. Using the script from the last exercises return only 2 decimals on the average and rename the column to average.\n"
   ]
  },
  {
   "cell_type": "code",
   "execution_count": null,
   "metadata": {
    "Collapsed": "false"
   },
   "outputs": [],
   "source": [
    "SELECT  \n",
    "  account_id,\n",
    "  ROUND(cast(avg(amount_usd) as numeric),2) average\n",
    "FROM\n",
    "  tutorial.orders\n",
    "GROUP BY\n",
    "  1\n",
    "ORDER BY\n",
    "  2 desc;"
   ]
  },
  {
   "cell_type": "markdown",
   "metadata": {
    "Collapsed": "true"
   },
   "source": [
    "### <font color='green'>Use the orders table for the following questions:</font>"
   ]
  },
  {
   "cell_type": "markdown",
   "metadata": {
    "Collapsed": "true"
   },
   "source": [
    "#### 5. Return how many companies have been founded each year and return top 5 years with more companies founded in descending order. Exclude companies with no founded year. Use the table tutorial.crunchbase_companies."
   ]
  },
  {
   "cell_type": "code",
   "execution_count": null,
   "metadata": {
    "Collapsed": "false"
   },
   "outputs": [],
   "source": [
    "SELECT \n",
    "  founded_year\n",
    "  ,count(id)\n",
    "FROM \n",
    "  tutorial.crunchbase_companies \n",
    "WHERE\n",
    "  founded_year IS NOT NULL\n",
    "GROUP BY\n",
    "  1\n",
    "ORDER BY\n",
    "  2 desc\n",
    "LIMIT \n",
    "  5;"
   ]
  },
  {
   "cell_type": "markdown",
   "metadata": {
    "Collapsed": "true"
   },
   "source": [
    "### <font color='orange'>Use the watsi_events  table for the following questions:</font>"
   ]
  },
  {
   "cell_type": "markdown",
   "metadata": {
    "Collapsed": "true"
   },
   "source": [
    "#### 6. Return how many unique users contain the tutorial.watsi_events table"
   ]
  },
  {
   "cell_type": "code",
   "execution_count": null,
   "metadata": {
    "Collapsed": "false"
   },
   "outputs": [],
   "source": [
    "SELECT \n",
    "  count(distinct user_id)\n",
    "FROM \n",
    "  tutorial.watsi_events \n",
    ";"
   ]
  },
  {
   "cell_type": "markdown",
   "metadata": {
    "Collapsed": "true"
   },
   "source": [
    "#### 7. Return how many unique users have signed up each year in the tutorial.watsi_events table. You will need to use the funcion DATE_TRUNC to get each year. Use tutorial.watsi_events table\n"
   ]
  },
  {
   "cell_type": "code",
   "execution_count": null,
   "metadata": {
    "Collapsed": "false"
   },
   "outputs": [],
   "source": [
    "SELECT \n",
    "  DATE_TRUNC('year',timestamp)\n",
    "  ,count(distinct user_id)\n",
    "FROM \n",
    "  tutorial.watsi_events \n",
    "GROUP BY\n",
    "  1\n",
    ";"
   ]
  },
  {
   "cell_type": "markdown",
   "metadata": {
    "Collapsed": "true"
   },
   "source": [
    "#### 8. Pull out a list of the top 5 referrer domains based on users sign ups. Use tutorial.watsi_events table (Exclude null values)"
   ]
  },
  {
   "cell_type": "code",
   "execution_count": null,
   "metadata": {
    "Collapsed": "false"
   },
   "outputs": [],
   "source": [
    "SELECT \n",
    "  referrer_domain\n",
    "  ,count(distinct user_id)\n",
    "FROM \n",
    "  tutorial.watsi_events \n",
    "WHERE\n",
    "    referrer_domain is not null\n",
    "GROUP BY\n",
    "  1\n",
    "ORDER BY\n",
    "  2 desc\n",
    "LIMIT\n",
    "    5"
   ]
  },
  {
   "cell_type": "markdown",
   "metadata": {
    "Collapsed": "true"
   },
   "source": [
    "#### 9. Return how many customer came from each browser (Opera, Mozilla or Other), you will need to use a CASE and a LIKE to retreive the browser information. Use tutorial.watsi_events table"
   ]
  },
  {
   "cell_type": "code",
   "execution_count": null,
   "metadata": {
    "Collapsed": "false"
   },
   "outputs": [],
   "source": [
    "SELECT  \n",
    "  CASE  \n",
    "    when user_agent LIKE '%Mozilla%' THEN 'Mozilla'\n",
    "    when user_agent LIKE '%Opera%' THEN 'Opera'\n",
    "    else 'Ohter' \n",
    "  END AS Browser,\n",
    "  count(distinct user_id)\n",
    "FROM \n",
    "  tutorial.watsi_events \n",
    "GROUP BY\n",
    "  1"
   ]
  },
  {
   "cell_type": "markdown",
   "metadata": {
    "Collapsed": "true"
   },
   "source": [
    "#### 10. Return the unique number of users for each platform and order it descending. Use tutorial.watsi_events table"
   ]
  },
  {
   "cell_type": "code",
   "execution_count": null,
   "metadata": {
    "Collapsed": "false"
   },
   "outputs": [],
   "source": [
    "SELECT  \n",
    "  platform,\n",
    "  count(distinct user_id)\n",
    "FROM \n",
    "  tutorial.watsi_events \n",
    "GROUP BY\n",
    "  1\n",
    "ORDER BY\n",
    "  2 desc;"
   ]
  },
  {
   "cell_type": "markdown",
   "metadata": {
    "Collapsed": "true"
   },
   "source": [
    "### <font color='blue'>Use the crunchbase_investments  table for the following questions:</font>"
   ]
  },
  {
   "cell_type": "markdown",
   "metadata": {
    "Collapsed": "true"
   },
   "source": [
    "#### 11. For each company return the name and the total amount raised in billions and name that colum \"Total funding in billions\". Exclude any null values and order from more to less amount raised. You must use HAVING."
   ]
  },
  {
   "cell_type": "code",
   "execution_count": null,
   "metadata": {
    "Collapsed": "false"
   },
   "outputs": [],
   "source": [
    "SELECT \n",
    "  company_city\n",
    "  ,round(cast((sum(raised_amount_usd)/1000000000) as numeric),2) as \"Total funding in billions\"\n",
    "FROM \n",
    "  tutorial.crunchbase_investments\n",
    "WHERE\n",
    "  company_city IS NOT NULL\n",
    "GROUP BY\n",
    "  1 \n",
    "HAVING\n",
    "  sum(raised_amount_usd) > 0\n",
    "ORDER BY\n",
    "  2 desc\n",
    ";"
   ]
  },
  {
   "cell_type": "markdown",
   "metadata": {
    "Collapsed": "true"
   },
   "source": [
    "#### 12. Return a list with the average amount raised for each funding round type in millions. Exclude any null values and order from less to more."
   ]
  },
  {
   "cell_type": "code",
   "execution_count": null,
   "metadata": {
    "Collapsed": "false"
   },
   "outputs": [],
   "source": [
    "SELECT \n",
    "  funding_round_type\n",
    "  ,round(cast((avg(raised_amount_usd)/1000000) as numeric),2)\n",
    "FROM \n",
    "  tutorial.crunchbase_investments\n",
    "WHERE \n",
    "  funding_round_type IS NOT NULL\n",
    "GROUP BY\n",
    "  1\n",
    "ORDER BY\n",
    "  2 "
   ]
  },
  {
   "cell_type": "markdown",
   "metadata": {
    "Collapsed": "true"
   },
   "source": [
    "#### 13. Return the quarter that has received more investement ever. The ouput of the query should be three columns: Quarter, Amount raised in Billions and Number of investements. \n",
    "##### The value of the column Amount raised in billions should look like this: 8 B"
   ]
  },
  {
   "cell_type": "code",
   "execution_count": null,
   "metadata": {
    "Collapsed": "false"
   },
   "outputs": [],
   "source": [
    "SELECT \n",
    "  funded_quarter \"Quarter\"\n",
    "  ,concat(round(cast((sum(raised_amount_usd)/1000000000) as numeric),2),' B') \"Amount raised in Billions\"\n",
    "  ,count(funded_quarter) as \"Number of Investments\"\n",
    "FROM \n",
    "  tutorial.crunchbase_investments\n",
    "WHERE \n",
    "  raised_amount_usd IS NOT NULL\n",
    "GROUP BY\n",
    "  1\n",
    "ORDER BY\n",
    "  2 desc\n",
    "LIMIT\n",
    "  1"
   ]
  },
  {
   "cell_type": "markdown",
   "metadata": {
    "Collapsed": "true"
   },
   "source": [
    "#### 14. Return the maximum and minimu amount raised for each category code. The maximum amount should be displayed in Millions. Order by maximum amount descending."
   ]
  },
  {
   "cell_type": "code",
   "execution_count": null,
   "metadata": {
    "Collapsed": "false"
   },
   "outputs": [],
   "source": [
    "SELECT \n",
    "  company_category_code \n",
    "  ,round(cast((max(raised_amount_usd)/1000000) as numeric),2)\n",
    "  ,min(raised_amount_usd)\n",
    "FROM \n",
    "  tutorial.crunchbase_investments\n",
    "WHERE \n",
    "  company_category_code IS NOT NULL\n",
    "GROUP BY\n",
    "  1\n",
    "ORDER BY\n",
    "  2 desc"
   ]
  },
  {
   "cell_type": "markdown",
   "metadata": {
    "Collapsed": "true"
   },
   "source": [
    "#### 15. Return the amount raised by USA investors and International investors ever. Considering international investors those outside the USA. Exclude any null values. You must use CASE. The output should be two rows:\n",
    "- USA // Amount\n",
    "- International // Amount"
   ]
  },
  {
   "cell_type": "code",
   "execution_count": null,
   "metadata": {
    "Collapsed": "false"
   },
   "outputs": [],
   "source": [
    "SELECT \n",
    "  case \n",
    "    when investor_country_code != 'USA' THEN 'International' ELSE investor_country_code END Region\n",
    "  ,round(cast((sum(raised_amount_usd)/1000000) as numeric),2) 'Total amount raised in Millions'\n",
    "FROM \n",
    "  tutorial.crunchbase_investments\n",
    "WHERE \n",
    "  investor_country_code IS NOT NULL\n",
    "  and raised_amount_usd > 0\n",
    "GROUP BY\n",
    "  1\n",
    "ORDER BY\n",
    "  2 desc"
   ]
  }
 ],
 "metadata": {
  "kernelspec": {
   "display_name": "Python 3",
   "language": "python",
   "name": "python3"
  },
  "language_info": {
   "codemirror_mode": {
    "name": "ipython",
    "version": 3
   },
   "file_extension": ".py",
   "mimetype": "text/x-python",
   "name": "python",
   "nbconvert_exporter": "python",
   "pygments_lexer": "ipython3",
   "version": "3.6.9"
  }
 },
 "nbformat": 4,
 "nbformat_minor": 4
}
