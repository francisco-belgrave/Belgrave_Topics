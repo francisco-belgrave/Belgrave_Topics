{
 "cells": [
  {
   "cell_type": "markdown",
   "metadata": {
    "Collapsed": "false",
    "colab_type": "text",
    "id": "Fgalm2gqwYMx"
   },
   "source": [
    "<img src=\"https://user-images.strikinglycdn.com/res/hrscywv4p/image/upload/c_limit,fl_lossy,h_300,w_300,f_auto,q_auto/1266110/Logo_wzxi0f.png\" style=\"float: left; margin: 20px; height: 55px\">\n",
    "\n"
   ]
  },
  {
   "cell_type": "markdown",
   "metadata": {
    "Collapsed": "true",
    "colab_type": "text",
    "id": "_K0zI4UxZip5"
   },
   "source": [
    "## Useful Operators"
   ]
  },
  {
   "cell_type": "markdown",
   "metadata": {
    "Collapsed": "true",
    "colab_type": "text",
    "id": "AJV4LLTMZip6"
   },
   "source": [
    "#### 1. Print first 5 numbers using range function"
   ]
  },
  {
   "cell_type": "code",
   "execution_count": null,
   "metadata": {
    "Collapsed": "false"
   },
   "outputs": [],
   "source": []
  },
  {
   "cell_type": "markdown",
   "metadata": {
    "Collapsed": "true",
    "colab_type": "text",
    "id": "8ogEzNmBZiqB"
   },
   "source": [
    "#### 2. Print integers within given start and stop number using range() function"
   ]
  },
  {
   "cell_type": "code",
   "execution_count": null,
   "metadata": {
    "Collapsed": "false"
   },
   "outputs": [],
   "source": []
  },
  {
   "cell_type": "markdown",
   "metadata": {
    "Collapsed": "true",
    "colab_type": "text",
    "id": "a5fei06-ZiqG"
   },
   "source": [
    "#### 3. Create a list of integers between 100 and 126 included"
   ]
  },
  {
   "cell_type": "code",
   "execution_count": null,
   "metadata": {
    "Collapsed": "false"
   },
   "outputs": [],
   "source": []
  },
  {
   "cell_type": "markdown",
   "metadata": {
    "Collapsed": "true",
    "colab_type": "text",
    "id": "HlL7ZhY0ZiqK"
   },
   "source": [
    "#### 4.Print all odd numbers between 23 and 64 using range()"
   ]
  },
  {
   "cell_type": "code",
   "execution_count": null,
   "metadata": {
    "Collapsed": "false"
   },
   "outputs": [],
   "source": []
  },
  {
   "cell_type": "markdown",
   "metadata": {
    "Collapsed": "true",
    "colab_type": "text",
    "id": "EvY5VKYOZiqP"
   },
   "source": [
    "#### 5. Create a list with all the even numbers between 80 and 124 included."
   ]
  },
  {
   "cell_type": "code",
   "execution_count": null,
   "metadata": {
    "Collapsed": "false"
   },
   "outputs": [],
   "source": []
  },
  {
   "cell_type": "markdown",
   "metadata": {
    "Collapsed": "true",
    "colab_type": "text",
    "id": "bt7jvMkDZiqU"
   },
   "source": [
    "#### 6. Use enumerate to return the elemnts from the list where their index is greater than 3. Add them to a new list."
   ]
  },
  {
   "cell_type": "code",
   "execution_count": null,
   "metadata": {
    "Collapsed": "false",
    "colab": {},
    "colab_type": "code",
    "id": "Od07rWGUZiqV"
   },
   "outputs": [],
   "source": [
    "names = ['Pol','Tabixe','Pablo','Paco','Adri','Hector','Manu','Carlos','Ibrahim','Javier','Jesus']"
   ]
  },
  {
   "cell_type": "code",
   "execution_count": null,
   "metadata": {
    "Collapsed": "false"
   },
   "outputs": [],
   "source": []
  },
  {
   "cell_type": "markdown",
   "metadata": {
    "Collapsed": "true",
    "colab_type": "text",
    "id": "vEjbqf7IZiqb"
   },
   "source": [
    "#### 7. Use enumerate to substract 2 to the numbers in the list that have and even index. Return the same list updated."
   ]
  },
  {
   "cell_type": "code",
   "execution_count": null,
   "metadata": {
    "Collapsed": "false",
    "colab": {},
    "colab_type": "code",
    "id": "pL2qTd0yZiqc"
   },
   "outputs": [],
   "source": [
    "numbers = [2,44,564,0.3,45,6/7,9,15]"
   ]
  },
  {
   "cell_type": "code",
   "execution_count": null,
   "metadata": {
    "Collapsed": "false"
   },
   "outputs": [],
   "source": []
  },
  {
   "cell_type": "markdown",
   "metadata": {
    "Collapsed": "true",
    "colab_type": "text",
    "id": "oJA9RSTuZiqk"
   },
   "source": [
    "#### 8. Use zip to group each variable on the following list based on their index"
   ]
  },
  {
   "cell_type": "code",
   "execution_count": null,
   "metadata": {
    "Collapsed": "false",
    "colab": {},
    "colab_type": "code",
    "id": "ZogobII7Ziql"
   },
   "outputs": [],
   "source": [
    "list1 = [15,2.5,3/6,334,5]\n",
    "list2 = ['t','n','o','a','e']"
   ]
  },
  {
   "cell_type": "code",
   "execution_count": null,
   "metadata": {
    "Collapsed": "false"
   },
   "outputs": [],
   "source": []
  },
  {
   "cell_type": "markdown",
   "metadata": {
    "Collapsed": "true",
    "colab_type": "text",
    "id": "598DWM83Ziqs"
   },
   "source": [
    "#### 9. Write a program which returns does elements that appear in both lists. Add them to a new list and sort it descending."
   ]
  },
  {
   "cell_type": "code",
   "execution_count": null,
   "metadata": {
    "Collapsed": "false",
    "colab": {},
    "colab_type": "code",
    "id": "yWRMdHrsZiqt"
   },
   "outputs": [],
   "source": [
    "alpha = [6,7,33,6.5,908.9,34,2*2]\n",
    "beta = [4,32,66,7,12+22]"
   ]
  },
  {
   "cell_type": "code",
   "execution_count": null,
   "metadata": {
    "Collapsed": "false"
   },
   "outputs": [],
   "source": []
  },
  {
   "cell_type": "markdown",
   "metadata": {
    "Collapsed": "true",
    "colab_type": "text",
    "id": "NoevBrfwZiq0"
   },
   "source": [
    "#### 10. Write a program which returns a list with does elements in the first list that match the length of the elements in the second list."
   ]
  },
  {
   "cell_type": "code",
   "execution_count": null,
   "metadata": {
    "Collapsed": "false",
    "colab": {},
    "colab_type": "code",
    "id": "cjsvpaEoZiq0"
   },
   "outputs": [],
   "source": [
    "bv = ['Pol','Tabixe','Pablo','Paco','Adri','Hector','Manu','Carlos','Ibrahim','Javier','Jesus']\n",
    "bv_num = [2,3,67,5,1,0]"
   ]
  },
  {
   "cell_type": "code",
   "execution_count": null,
   "metadata": {
    "Collapsed": "false"
   },
   "outputs": [],
   "source": []
  },
  {
   "cell_type": "markdown",
   "metadata": {
    "Collapsed": "true",
    "colab_type": "text",
    "id": "RQW2SndZZiq7"
   },
   "source": [
    "#### 11. Print a random number from a range between 100 and 4000."
   ]
  },
  {
   "cell_type": "code",
   "execution_count": null,
   "metadata": {
    "Collapsed": "false"
   },
   "outputs": [],
   "source": []
  },
  {
   "cell_type": "markdown",
   "metadata": {
    "Collapsed": "true",
    "colab_type": "text",
    "id": "LlLt-n_KZirL"
   },
   "source": [
    "#### 12. Print a shuffled version of the list provided."
   ]
  },
  {
   "cell_type": "code",
   "execution_count": null,
   "metadata": {
    "Collapsed": "false",
    "colab": {},
    "colab_type": "code",
    "id": "yKheILePZirN"
   },
   "outputs": [],
   "source": [
    "numbers2 = [2,44,564,0.3,45,6/7,9,15]"
   ]
  },
  {
   "cell_type": "code",
   "execution_count": null,
   "metadata": {
    "Collapsed": "false"
   },
   "outputs": [],
   "source": []
  },
  {
   "cell_type": "markdown",
   "metadata": {
    "Collapsed": "true",
    "colab_type": "text",
    "id": "xz2VoqgCZirY"
   },
   "source": [
    "#### 13. Print an even random number between 0 and 10."
   ]
  },
  {
   "cell_type": "code",
   "execution_count": null,
   "metadata": {
    "Collapsed": "false"
   },
   "outputs": [],
   "source": []
  },
  {
   "cell_type": "markdown",
   "metadata": {
    "Collapsed": "true",
    "colab_type": "text",
    "id": "UA9MiMocZirb"
   },
   "source": [
    "#### 14. Print a random element from a list"
   ]
  },
  {
   "cell_type": "code",
   "execution_count": null,
   "metadata": {
    "Collapsed": "false"
   },
   "outputs": [],
   "source": []
  },
  {
   "cell_type": "markdown",
   "metadata": {
    "Collapsed": "true",
    "colab_type": "text",
    "id": "uSH7GeV0Zirf"
   },
   "source": [
    "#### 15. Print a sample of 4 numbers from the list provided"
   ]
  },
  {
   "cell_type": "code",
   "execution_count": null,
   "metadata": {
    "Collapsed": "false",
    "colab": {},
    "colab_type": "code",
    "id": "T0GwlEwWZirg"
   },
   "outputs": [],
   "source": [
    "sample = [2,5,8,9,12,66,32,56,554]"
   ]
  },
  {
   "cell_type": "code",
   "execution_count": null,
   "metadata": {},
   "outputs": [],
   "source": []
  },
  {
   "cell_type": "markdown",
   "metadata": {
    "Collapsed": "true",
    "colab_type": "text",
    "id": "jJQMcyNsZirl"
   },
   "source": [
    "#### 16. Create a program that asks for you name"
   ]
  },
  {
   "cell_type": "code",
   "execution_count": null,
   "metadata": {},
   "outputs": [],
   "source": []
  },
  {
   "cell_type": "markdown",
   "metadata": {
    "Collapsed": "true",
    "colab_type": "text",
    "id": "2EdnKIL3Zirp"
   },
   "source": [
    "#### 17. Create a program that asks for you name, age, location and returns the following output: Hi my name is _name_, I am _age_ years old and I live in _location_. Use any of the formatting you saw on day 1."
   ]
  },
  {
   "cell_type": "code",
   "execution_count": null,
   "metadata": {},
   "outputs": [],
   "source": []
  },
  {
   "cell_type": "markdown",
   "metadata": {
    "Collapsed": "true",
    "colab_type": "text",
    "id": "xmgAnQpOZirv"
   },
   "source": [
    "#### 18. Create a program that asks for you name, age and returns the year were you will be 100 years old. "
   ]
  },
  {
   "cell_type": "code",
   "execution_count": null,
   "metadata": {},
   "outputs": [],
   "source": []
  },
  {
   "cell_type": "markdown",
   "metadata": {
    "Collapsed": "true",
    "colab_type": "text",
    "id": "j_L82f27Zir2"
   },
   "source": [
    "#### 19. Write a single function called suma that returns the sum of the following examples withoug using more than one variable. Use *args"
   ]
  },
  {
   "cell_type": "code",
   "execution_count": null,
   "metadata": {
    "Collapsed": "false",
    "colab": {},
    "colab_type": "code",
    "id": "sSqGe-j5Zir4",
    "outputId": "4c7488b9-23be-4275-b31c-6e4095b47a66"
   },
   "outputs": [
    {
     "data": {
      "text/plain": [
       "(1, 2, 3, 5, 6)"
      ]
     },
     "execution_count": 127,
     "metadata": {
      "tags": []
     },
     "output_type": "execute_result"
    }
   ],
   "source": [
    "(3,5)\n",
    "(4,5,6,7)\n",
    "(1,2,3,5,6)"
   ]
  },
  {
   "cell_type": "code",
   "execution_count": null,
   "metadata": {},
   "outputs": [],
   "source": []
  },
  {
   "cell_type": "markdown",
   "metadata": {
    "Collapsed": "true",
    "colab_type": "text",
    "id": "e1FjEhX3ZisA"
   },
   "source": [
    "#### 20. Write a single function called multi_suma that returns the following. Use *args."
   ]
  },
  {
   "cell_type": "markdown",
   "metadata": {
    "Collapsed": "false",
    "colab_type": "text",
    "id": "CwezudDTZisB"
   },
   "source": [
    " - multi_suma(2,3,5) = ((2x3)+(2x5)) = 16\n",
    " - multi_suma(2,3,5,5) = ((2x3)+(2x5)+(2x5)) = 26\n",
    " - multi_suma(2,55,2,9) = ((2x55)+(2x5)+(2x9)) = 132"
   ]
  },
  {
   "cell_type": "code",
   "execution_count": null,
   "metadata": {
    "Collapsed": "false",
    "colab": {},
    "colab_type": "code",
    "id": "ng-bq7VNZisJ"
   },
   "outputs": [],
   "source": []
  }
 ],
 "metadata": {
  "colab": {
   "collapsed_sections": [],
   "name": "Day 4 - Exercises.ipynb",
   "provenance": [],
   "version": "0.3.2"
  },
  "kernelspec": {
   "display_name": "Python 3",
   "language": "python",
   "name": "python3"
  },
  "language_info": {
   "codemirror_mode": {
    "name": "ipython",
    "version": 3
   },
   "file_extension": ".py",
   "mimetype": "text/x-python",
   "name": "python",
   "nbconvert_exporter": "python",
   "pygments_lexer": "ipython3",
   "version": "3.6.9"
  }
 },
 "nbformat": 4,
 "nbformat_minor": 4
}
