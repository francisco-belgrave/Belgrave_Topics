{
 "cells": [
  {
   "cell_type": "markdown",
   "metadata": {
    "Collapsed": "false"
   },
   "source": [
    "<img src=\"https://user-images.strikinglycdn.com/res/hrscywv4p/image/upload/c_limit,fl_lossy,h_300,w_300,f_auto,q_auto/1266110/Logo_wzxi0f.png\" style=\"float: left; margin: 20px; height: 55px\">\n"
   ]
  },
  {
   "cell_type": "markdown",
   "metadata": {
    "Collapsed": "true"
   },
   "source": [
    "# Advanced SQL - Window Functions"
   ]
  },
  {
   "cell_type": "markdown",
   "metadata": {},
   "source": [
    "----"
   ]
  },
  {
   "cell_type": "markdown",
   "metadata": {},
   "source": [
    "### One of the most important things to be aware in a company are sales. We are going to explore the excel_sql_inventory_data and the excel_sql_transaction_data."
   ]
  },
  {
   "cell_type": "markdown",
   "metadata": {},
   "source": [
    "#### 1. What’s the product with the highest price.\n"
   ]
  },
  {
   "cell_type": "code",
   "execution_count": null,
   "metadata": {},
   "outputs": [],
   "source": []
  },
  {
   "cell_type": "markdown",
   "metadata": {},
   "source": [
    "#### 2. What’s the product with the most inventory.\n"
   ]
  },
  {
   "cell_type": "code",
   "execution_count": null,
   "metadata": {},
   "outputs": [],
   "source": []
  },
  {
   "cell_type": "markdown",
   "metadata": {},
   "source": [
    "#### 3. Which product has sold the most in units. (Let’s assume every transaction sells one unit.)"
   ]
  },
  {
   "cell_type": "code",
   "execution_count": null,
   "metadata": {},
   "outputs": [],
   "source": []
  },
  {
   "cell_type": "markdown",
   "metadata": {},
   "source": [
    "#### 4. Which product has sold the most in sales.\n"
   ]
  },
  {
   "cell_type": "code",
   "execution_count": null,
   "metadata": {},
   "outputs": [],
   "source": []
  },
  {
   "cell_type": "markdown",
   "metadata": {},
   "source": [
    "#### 5. Which are the top 5 product type by units sold.\n"
   ]
  },
  {
   "cell_type": "code",
   "execution_count": null,
   "metadata": {},
   "outputs": [],
   "source": []
  },
  {
   "cell_type": "markdown",
   "metadata": {},
   "source": [
    "#### 6. If we had sold these product wholesale which would be the top categories."
   ]
  },
  {
   "cell_type": "code",
   "execution_count": null,
   "metadata": {},
   "outputs": [],
   "source": []
  },
  {
   "cell_type": "markdown",
   "metadata": {},
   "source": [
    "----"
   ]
  },
  {
   "cell_type": "markdown",
   "metadata": {},
   "source": [
    "### When working in a company one of the main questions will be around how people is behaving on the site and how users are reaching different steps on the web or app. In order to start looking at this we are going to use the yammer_users table and yammer_events table.\n"
   ]
  },
  {
   "cell_type": "markdown",
   "metadata": {},
   "source": [
    "#### 7. Get the number of users that were created per month.\n"
   ]
  },
  {
   "cell_type": "code",
   "execution_count": null,
   "metadata": {},
   "outputs": [],
   "source": []
  },
  {
   "cell_type": "markdown",
   "metadata": {},
   "source": [
    "#### 8. Get the number of users that send a message in may 2014. To get people who sent a message filter event_name = ‘send_message’\n",
    "\n"
   ]
  },
  {
   "cell_type": "code",
   "execution_count": null,
   "metadata": {},
   "outputs": [],
   "source": []
  },
  {
   "cell_type": "markdown",
   "metadata": {},
   "source": [
    "#### 9. Get the number of users that sent a message within 1 day from being created.\n"
   ]
  },
  {
   "cell_type": "code",
   "execution_count": null,
   "metadata": {},
   "outputs": [],
   "source": []
  },
  {
   "cell_type": "markdown",
   "metadata": {},
   "source": [
    "#### 10. I want you to create a table that looks like this.\n",
    "<img src=\"Resources/Screenshot 2020-02-28 at 17.54.38.png\">"
   ]
  },
  {
   "cell_type": "code",
   "execution_count": null,
   "metadata": {},
   "outputs": [],
   "source": []
  },
  {
   "cell_type": "markdown",
   "metadata": {},
   "source": [
    "#### 11. I want you to create a table that looks like this.\n",
    "<img src=\"Resources/Screenshot 2020-02-28 at 17.54.46.png\">\n"
   ]
  },
  {
   "cell_type": "code",
   "execution_count": null,
   "metadata": {},
   "outputs": [],
   "source": [
    "'''WITH base as(\n",
    "SELECT\n",
    "  u.user_id,\n",
    "  u.created_at,\n",
    "  e.occurred_at,\n",
    "  COUNT(e.event_name) OVER (PARTITION BY u.user_id ORDER BY e.occurred_at) AS n_messages\n",
    "FROM\n",
    "  tutorial.yammer_users u \n",
    "  LEFT JOIN tutorial.yammer_events e \n",
    "  ON e.user_id = u.user_id\n",
    "  and event_name = 'send_message'\n",
    "  and e.occurred_at < u.created_at + INTERVAL '30 days'\n",
    "  )\n",
    "  \n",
    "SELECT\n",
    "  DATE_TRUNC('month', created_at) as month,\n",
    "  COUNT(DISTINCT user_id) as users,\n",
    "  COUNT(DISTINCT CASE WHEN n_messages > 1 THEN user_id END) as \"Send more than 1 messages within 30 days\",\n",
    "  COUNT(DISTINCT CASE WHEN n_messages > 2 THEN user_id END) as \"Send more than 2 messages within 30 days\",\n",
    "  COUNT(DISTINCT CASE WHEN n_messages > 3 THEN user_id END) as \"Send more than 3 messages within 30 days\",\n",
    "  COUNT(DISTINCT CASE WHEN n_messages > 5 THEN user_id END) as \"Send more than 5 messages within 30 days\"\n",
    "FROM\n",
    "  base\n",
    "GROUP BY\n",
    "  1\n",
    "HAVING\n",
    "  COUNT(DISTINCT CASE WHEN n_messages > 1 THEN user_id END) > 0\n",
    "ORDER BY\n",
    "  1 \n",
    "'''"
   ]
  },
  {
   "cell_type": "markdown",
   "metadata": {},
   "source": [
    "#### 12. What’s the most popular event performed after signup. What do people tend to do after signup by month? Note: Get only the most popular event after signup by month and the number of users do do it exactly after signup. Not at any point.\n",
    "<img src=\"Resources/Screenshot 2020-02-28 at 17.54.53.png\">"
   ]
  },
  {
   "cell_type": "code",
   "execution_count": null,
   "metadata": {},
   "outputs": [],
   "source": [
    "'''WITH events_post_signup as(\n",
    "SELECT\n",
    "  user_id,\n",
    "  occurred_at,\n",
    "  event_name,\n",
    "  COUNT(event_name) OVER (PARTITION BY user_id ORDER BY occurred_at ASC) AS events\n",
    "FROM\n",
    "  tutorial.yammer_events\n",
    "ORDER BY\n",
    "  1,2\n",
    "),\n",
    "\n",
    "most_pop_event as(\n",
    "SELECT\n",
    "  DATE_TRUNC('month', occurred_at) as month,\n",
    "  event_name,\n",
    "  count(DISTINCT user_id) as users,\n",
    "  RANK() OVER (PARTITION BY DATE_TRUNC('month', occurred_at) ORDER BY count(DISTINCT user_id) DESC) as rank\n",
    "FROM\n",
    "  events_post_signup\n",
    "WHERE\n",
    "  events = 2\n",
    "GROUP BY\n",
    "  1,2\n",
    "ORDER BY\n",
    "  1,3 DESC\n",
    ")\n",
    "\n",
    "SELECT\n",
    "  month,\n",
    "  event_name,\n",
    "  users\n",
    "FROM\n",
    "  most_pop_event\n",
    "WHERE\n",
    "  rank = 1\n",
    "'''"
   ]
  },
  {
   "cell_type": "markdown",
   "metadata": {},
   "source": [
    "#### 13. What are the most popular events on the second session of a user(Assume a new session is created after 10 minutes of inactivity? Get the 5 most popular events on the second session of a user by month.\n",
    "<img src=\"Resources/Screenshot 2020-02-28 at 17.54.58.png\">\n"
   ]
  },
  {
   "cell_type": "code",
   "execution_count": null,
   "metadata": {},
   "outputs": [],
   "source": [
    "'''WITH events_after_inact as(\n",
    "SELECT\n",
    "  sub.*,\n",
    "  RANK () OVER (PARTITION BY sub.user_id ORDER BY sub.occurred_at)\n",
    "FROM (\n",
    "      SELECT\n",
    "        user_id,\n",
    "        event_name,\n",
    "        occurred_at,\n",
    "        occurred_at - LAG(occurred_at, 1) OVER (PARTITION BY user_id ORDER BY occurred_at) as difference\n",
    "      FROM\n",
    "        tutorial.yammer_events\n",
    "      WHERE\n",
    "        event_name != 'login'\n",
    "      ) sub\n",
    "WHERE sub.difference >= '00:10:00'\n",
    "),\n",
    "\n",
    "second_session_event as (\n",
    "SELECT\n",
    "  user_id,\n",
    "  event_name,\n",
    "  occurred_at\n",
    "FROM\n",
    "  events_after_inact\n",
    "WHERE\n",
    "  rank = 1\n",
    "),\n",
    "\n",
    "top_5_events as (\n",
    "SELECT\n",
    "  DATE_TRUNC('month', occurred_at) as month,\n",
    "  event_name,\n",
    "  COUNT(DISTINCT user_id) as users,\n",
    "  RANK() OVER (PARTITION BY DATE_TRUNC('month', occurred_at) ORDER BY count(DISTINCT user_id) DESC) as rank\n",
    "FROM\n",
    "  second_session_event\n",
    "GROUP BY\n",
    "  1,2\n",
    "ORDER BY\n",
    "  1,4\n",
    ")\n",
    "\n",
    "SELECT\n",
    "  month,\n",
    "  event_name,\n",
    "  users,\n",
    "  RANK() OVER (PARTITION BY month ORDER BY users DESC) as rank\n",
    "FROM\n",
    "  top_5_events\n",
    "WHERE\n",
    "  rank < 6\n",
    "'''"
   ]
  },
  {
   "cell_type": "code",
   "execution_count": null,
   "metadata": {},
   "outputs": [],
   "source": []
  }
 ],
 "metadata": {
  "kernelspec": {
   "display_name": "Python 3",
   "language": "python",
   "name": "python3"
  },
  "language_info": {
   "codemirror_mode": {
    "name": "ipython",
    "version": 3
   },
   "file_extension": ".py",
   "mimetype": "text/x-python",
   "name": "python",
   "nbconvert_exporter": "python",
   "pygments_lexer": "ipython3",
   "version": "3.7.4"
  }
 },
 "nbformat": 4,
 "nbformat_minor": 2
}
