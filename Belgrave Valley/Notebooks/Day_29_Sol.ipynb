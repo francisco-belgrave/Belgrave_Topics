{
 "cells": [
  {
   "cell_type": "markdown",
   "metadata": {
    "colab_type": "text",
    "collapsed": "false",
    "id": "xzp2YldgU5mr"
   },
   "source": [
    "<img src=\"https://user-images.strikinglycdn.com/res/hrscywv4p/image/upload/c_limit,fl_lossy,h_300,w_300,f_auto,q_auto/1266110/Logo_wzxi0f.png\" style=\"float: left; margin: 20px; height: 55px\">\n",
    "\n",
    "**Be less curious about people and more curious about ideas - [Marie Curie](https://en.wikipedia.org/wiki/Marie_Curie)**"
   ]
  },
  {
   "cell_type": "markdown",
   "metadata": {
    "colab_type": "text",
    "collapsed": "true",
    "id": "Yd62MOznU5mu"
   },
   "source": [
    "# Chapter 10 Linear least squares"
   ]
  },
  {
   "cell_type": "markdown",
   "metadata": {
    "colab_type": "text",
    "collapsed": "true",
    "id": "jXAaK6lBU5mv"
   },
   "source": [
    "## 1. Least squares fit"
   ]
  },
  {
   "cell_type": "markdown",
   "metadata": {
    "colab_type": "text",
    "collapsed": "false",
    "id": "4xrDyOo_U5my"
   },
   "source": [
    "Correlation coefficients measure the strength and sign of a relationship, but not the slope. There are several ways to estimate the slope; the most common is a **linear least squares** fit. A “linear fit” is a line intended to model the relationship between variables. A “least squares” fit is one that minimizes the mean squared error (MSE) between the line and the data.\n",
    "\n",
    "Suppose we have a sequence of points, ys, that we want to express as a function of another sequence xs. If there is a linear relationship between xs and ys with intercept inter and slope slope, we expect each y[i] to be inter + slope * x[i].\n",
    "\n",
    "But unless the correlation is perfect, this prediction is only approximate. The vertical deviation from the line, or **residual**, is\n",
    "\n",
    "res = ys - (inter + slope * xs)\n",
    "\n",
    "The residuals might be due to random factors like measurement error, or non-random factors that are unknown. For example, if we are trying to predict weight as a function of height, unknown factors might include diet, exercise,\n",
    "and body type.\n",
    "\n",
    "If we get the parameters inter and slope wrong, the residuals get bigger, so it makes intuitive sense that the parameters we want are the ones that minimize the residuals.\n",
    "\n",
    "We might try to minimize the absolute value of the residuals, or their squares, or their cubes; but the most common choice is to minimize the sum of squared residuals, sum(res**2)).\n",
    "\n",
    "Why? There are three good reasons and one less important one:\n",
    "\n",
    "- Squaring has the feature of treating positive and negative residuals the same, which is usually what we want.\n",
    "\n",
    "- Squaring gives more weight to large residuals, but not so much weight that the largest residual always dominates.\n",
    "\n",
    "- If the residuals are uncorrelated and normally distributed with mean 0 and constant (but unknown) variance, then the least squares fit is also the maximum likelihood estimator of inter and slope. See https: //en.wikipedia.org/wiki/Linear_regression.\n",
    "\n",
    "- The values of inter and slope that minimize the squared residuals can be computed efficiently.\n",
    "\n",
    "The last reason made sense when computational efficiency was more important than choosing the method most appropriate to the problem at hand. That’s no longer the case, so it is worth considering whether squared residuals are the right thing to minimize.\n",
    "\n",
    "For example, if you are using xs to predict values of ys, guessing too high might be better (or worse) than guessing too low. In that case you might want to compute some cost function for each residual, and minimize total\n",
    "cost, sum(cost(res)). However, computing a least squares fit is quick, easy and often good enough."
   ]
  },
  {
   "cell_type": "markdown",
   "metadata": {
    "colab_type": "text",
    "collapsed": "true",
    "id": "wV3Pvo_aU5m0"
   },
   "source": [
    "## 2. Implementation"
   ]
  },
  {
   "cell_type": "markdown",
   "metadata": {
    "colab_type": "text",
    "collapsed": "false",
    "id": "WkbrGIxCU5m2"
   },
   "source": [
    "`thinkstats2` provides simple functions that demonstrate linear least squares:"
   ]
  },
  {
   "cell_type": "code",
   "execution_count": 1,
   "metadata": {
    "colab": {},
    "colab_type": "code",
    "id": "7iOL0rgTU5m4"
   },
   "outputs": [],
   "source": [
    "from Resources.Think_Stats.Thinkstats2 import first"
   ]
  },
  {
   "cell_type": "code",
   "execution_count": 2,
   "metadata": {
    "colab": {},
    "colab_type": "code",
    "id": "GGXDDzKIU5nD"
   },
   "outputs": [],
   "source": [
    "from Resources.Think_Stats.Thinkstats2 import thinkstats2\n",
    "import numpy as np"
   ]
  },
  {
   "cell_type": "code",
   "execution_count": 3,
   "metadata": {
    "colab": {},
    "colab_type": "code",
    "id": "bnreZBqNU5nH"
   },
   "outputs": [],
   "source": [
    "live, firsts, others = first.MakeFrames()\n",
    "live = live.dropna(subset=['agepreg', 'totalwgt_lb'])\n",
    "ages = live.agepreg\n",
    "weights = live.totalwgt_lb"
   ]
  },
  {
   "cell_type": "code",
   "execution_count": 4,
   "metadata": {
    "colab": {},
    "colab_type": "code",
    "id": "vN5qh3SRU5nM"
   },
   "outputs": [],
   "source": [
    "def LeastSquares(xs, ys):\n",
    "    meanx, varx = thinkstats2.MeanVar(xs)\n",
    "    meany = thinkstats2.Mean(ys)\n",
    "    slope = thinkstats2.Cov(xs, ys, meanx, meany) / varx\n",
    "    inter = meany - slope * meanx\n",
    "    return inter, slope"
   ]
  },
  {
   "cell_type": "markdown",
   "metadata": {
    "colab_type": "text",
    "collapsed": "false",
    "id": "nMvTk0FgU5nS"
   },
   "source": [
    "`LeastSquares` takes sequences xs and ys and returns the estimated parameters inter and slope. For details on how it works, see http://wikipedia.org/wiki/Numerical_methods_for_linear_least_squares.\n",
    "\n",
    "`thinkstats2` also provides `FitLine`, which takes inter and slope and returns the fitted line for a sequence of xs."
   ]
  },
  {
   "cell_type": "code",
   "execution_count": 5,
   "metadata": {
    "colab": {},
    "colab_type": "code",
    "id": "nXBhSk0VU5nU"
   },
   "outputs": [],
   "source": [
    "def FitLine(xs, inter, slope):\n",
    "    fit_xs = np.sort(xs)\n",
    "    fit_ys = inter + slope * fit_xs\n",
    "    return fit_xs, fit_ys"
   ]
  },
  {
   "cell_type": "markdown",
   "metadata": {
    "colab_type": "text",
    "collapsed": "false",
    "id": "vu86lqspU5nY"
   },
   "source": [
    "Use these functions to compute the least squares fit for birth weight as a function of mother’s age:"
   ]
  },
  {
   "cell_type": "code",
   "execution_count": 6,
   "metadata": {
    "colab": {},
    "colab_type": "code",
    "id": "aWkVg7cLU5nZ",
    "outputId": "dcb40c44-d3e3-42be-91d4-51c95f70e83b"
   },
   "outputs": [
    {
     "name": "stdout",
     "output_type": "stream",
     "text": [
      "6.8303969733110526 0.017453851471802756\n"
     ]
    }
   ],
   "source": [
    "#Code it here\n",
    "inter, slope = LeastSquares(ages, weights)\n",
    "print(inter, slope)"
   ]
  },
  {
   "cell_type": "markdown",
   "metadata": {
    "colab_type": "text",
    "collapsed": "false",
    "id": "kBQsqGE_U5ne"
   },
   "source": [
    "Draw a scatter plot of the two variables and plot a line on top of it."
   ]
  },
  {
   "cell_type": "code",
   "execution_count": 7,
   "metadata": {
    "colab": {},
    "colab_type": "code",
    "id": "MgP_YTMJU5nf"
   },
   "outputs": [],
   "source": [
    "import matplotlib.pyplot as plt\n",
    "%matplotlib inline"
   ]
  },
  {
   "cell_type": "code",
   "execution_count": 8,
   "metadata": {
    "colab": {},
    "colab_type": "code",
    "id": "InXOueJAU5nk",
    "outputId": "9f034dcc-8bd8-45ee-d54d-638f69e45d7c"
   },
   "outputs": [
    {
     "data": {
      "image/png": "[encoded data removed]",
      "text/plain": [
       "<Figure size 864x504 with 1 Axes>"
      ]
     },
     "metadata": {
      "needs_background": "light"
     },
     "output_type": "display_data"
    }
   ],
   "source": [
    "#Code it here\n",
    "fit_xs, fit_ys = FitLine(ages, inter, slope)\n",
    "# print(fit_xs, fit_ys)\n",
    "plt.figure(figsize=(12,7))\n",
    "plt.scatter(ages, weights, s=0.8, alpha=0.4)\n",
    "plt.plot(fit_xs, fit_ys)\n",
    "plt.ylim(6, 8)\n",
    "plt.show()"
   ]
  },
  {
   "cell_type": "code",
   "execution_count": 9,
   "metadata": {
    "colab": {},
    "colab_type": "code",
    "id": "NwuanTgAU5np",
    "outputId": "95b293b6-fbc6-4b92-8793-92c327937d05"
   },
   "outputs": [
    {
     "data": {
      "text/plain": [
       "6.94384700787777"
      ]
     },
     "execution_count": 9,
     "metadata": {},
     "output_type": "execute_result"
    }
   ],
   "source": [
    "age = inter + 6.5*slope\n",
    "age"
   ]
  },
  {
   "cell_type": "markdown",
   "metadata": {
    "colab_type": "text",
    "collapsed": "false",
    "id": "tJ6k-LjCU5nv"
   },
   "source": [
    "The estimated intercept and slope are 6.8 lbs and 0.017 lbs per year. These values are hard to interpret in this form: the intercept is the expected weight of a baby whose mother is 0 years old, which doesn’t make sense in context, and the slope is too small to grasp easily.\n",
    "\n",
    "Instead of presenting the intercept at x = 0, it is often helpful to present the intercept at the mean of x. In this case the mean age is about 25 years and the mean baby weight for a 25 year old mother is 7.3 pounds. The slope is 0.27 ounces per year, or 0.17 pounds per decade.\n"
   ]
  },
  {
   "cell_type": "markdown",
   "metadata": {
    "colab_type": "text",
    "collapsed": "true",
    "id": "yxY4R5r8U5nx"
   },
   "source": [
    "## 3. Residuals"
   ]
  },
  {
   "cell_type": "markdown",
   "metadata": {},
   "source": [
    "Another useful test is to plot the residuals.\n",
    "\n",
    "Given two sequences xs, ys and the regression line with given inter and slope calculated before create a function that calculates the residuals. Knowing:\n",
    "\n",
    "\\begin{align}\n",
    "res_i = y_i - (inter + slope * x_i)\n",
    "\\end{align}"
   ]
  },
  {
   "cell_type": "code",
   "execution_count": 10,
   "metadata": {
    "colab": {},
    "colab_type": "code",
    "id": "VaF10d_zU5n0",
    "outputId": "b9121777-941b-44ea-debf-3111dbfb026d"
   },
   "outputs": [
    {
     "data": {
      "image/png": "[encoded data removed]",
      "text/plain": [
       "<Figure size 432x288 with 1 Axes>"
      ]
     },
     "metadata": {
      "needs_background": "light"
     },
     "output_type": "display_data"
    }
   ],
   "source": [
    "#Code it here\n",
    "live['residual'] = weights - fit_ys\n",
    "plt.plot(ages, live['residual'],'*')\n",
    "plt.show()"
   ]
  },
  {
   "cell_type": "markdown",
   "metadata": {
    "colab_type": "text",
    "collapsed": "false",
    "id": "f3zO1ySaU5n5"
   },
   "source": [
    "To visualize the residuals, I'll split the respondents into groups by age, then plot the percentiles of the residuals versus the average age in each group.\n",
    "\n",
    "First I'll make the groups and compute the average age in each group."
   ]
  },
  {
   "cell_type": "code",
   "execution_count": 11,
   "metadata": {
    "colab": {},
    "colab_type": "code",
    "id": "gV1BHq77U5n7",
    "outputId": "e55f5ce3-ccc3-43e0-9ad5-e365f52b57fc"
   },
   "outputs": [
    {
     "data": {
      "text/plain": [
       "[15.212333333333312,\n",
       " 17.74035928143719,\n",
       " 20.506304824561838,\n",
       " 23.455752212389893,\n",
       " 26.435156146179903,\n",
       " 29.411177432543294,\n",
       " 32.30232530120497,\n",
       " 35.240273631840736,\n",
       " 38.10876470588231,\n",
       " 40.91205882352941]"
      ]
     },
     "execution_count": 11,
     "metadata": {},
     "output_type": "execute_result"
    }
   ],
   "source": [
    "bins = np.arange(10, 48, 3)\n",
    "indices = np.digitize(live.agepreg, bins)\n",
    "groups = live.groupby(indices)\n",
    "\n",
    "age_means = [group.agepreg.mean() for _, group in groups][1:-1]\n",
    "age_means"
   ]
  },
  {
   "cell_type": "markdown",
   "metadata": {
    "colab_type": "text",
    "collapsed": "false",
    "id": "p5yz4qNgU5oA"
   },
   "source": [
    "Next I'll compute the CDF of the residuals in each group."
   ]
  },
  {
   "cell_type": "code",
   "execution_count": 12,
   "metadata": {
    "colab": {},
    "colab_type": "code",
    "id": "aMK4YqIIU5oB"
   },
   "outputs": [],
   "source": [
    "cdfs = [thinkstats2.Cdf(group.residual) for _, group in groups][1:-1]"
   ]
  },
  {
   "cell_type": "markdown",
   "metadata": {
    "colab_type": "text",
    "collapsed": "false",
    "id": "pQ_c5g4XU5oG"
   },
   "source": [
    "The following function plots percentiles of the residuals against the average age in each group."
   ]
  },
  {
   "cell_type": "code",
   "execution_count": 13,
   "metadata": {
    "colab": {},
    "colab_type": "code",
    "id": "h0cu_8XRU5oH"
   },
   "outputs": [],
   "source": [
    "def PlotPercentiles(age_means, cdfs):\n",
    "    thinkplot.PrePlot(3)\n",
    "    for percent in [75, 50, 25]:\n",
    "        weight_percentiles = [cdf.Percentile(percent) for cdf in cdfs]\n",
    "        label = '%dth' % percent\n",
    "        thinkplot.Plot(age_means, weight_percentiles, label=label)"
   ]
  },
  {
   "cell_type": "markdown",
   "metadata": {
    "colab_type": "text",
    "collapsed": "false",
    "id": "rJX9yNIaU5oK"
   },
   "source": [
    "The following figure shows the 25th, 50th, and 75th percentiles.\n",
    "\n",
    "Curvature in the residuals suggests a non-linear relationship."
   ]
  },
  {
   "cell_type": "code",
   "execution_count": 14,
   "metadata": {
    "colab": {},
    "colab_type": "code",
    "id": "Qr-Kn3K9U5oL"
   },
   "outputs": [],
   "source": [
    "from Resources.Think_Stats.Thinkstats2 import thinkplot"
   ]
  },
  {
   "cell_type": "code",
   "execution_count": 15,
   "metadata": {
    "colab": {},
    "colab_type": "code",
    "id": "ZLGA_xFQU5oP",
    "outputId": "b74c1b23-2106-46eb-cbda-8d153b9ab845"
   },
   "outputs": [
    {
     "data": {
      "image/png": "[encoded data removed]",
      "text/plain": [
       "<Figure size 432x288 with 1 Axes>"
      ]
     },
     "metadata": {
      "needs_background": "light"
     },
     "output_type": "display_data"
    }
   ],
   "source": [
    "PlotPercentiles(age_means, cdfs)\n",
    "\n",
    "thinkplot.Config(xlabel=\"Mother's age (years)\",\n",
    "                 ylabel='Residual (lbs)',\n",
    "                 xlim=[10, 45])"
   ]
  },
  {
   "cell_type": "markdown",
   "metadata": {
    "colab_type": "text",
    "collapsed": "false",
    "id": "gsrg-4vqU5oW"
   },
   "source": [
    "To visualize the residuals, I group respondents by age and compute percentiles in each group. Then show the 25th, 50th and 75th percentiles of the residuals for each age group. The median is near zero, as expected, and the interquartile range is about 2 pounds. So if we know the mother’s age, we can guess the baby’s weight within a pound, about 50% of the time.\n",
    "\n",
    "Ideally these lines should be flat, indicating that the residuals are random, and parallel, indicating that the variance of the residuals is the same for all age groups. In fact, the lines are close to parallel, so that’s good; but they have some curvature, indicating that the relationship is nonlinear. Nevertheless, the linear fit is a simple model that is probably good enough for some purposes."
   ]
  },
  {
   "cell_type": "markdown",
   "metadata": {
    "colab_type": "text",
    "collapsed": "true",
    "id": "61S1S4QnU5oX"
   },
   "source": [
    "## 4. Estimation"
   ]
  },
  {
   "cell_type": "markdown",
   "metadata": {
    "colab_type": "text",
    "collapsed": "false",
    "id": "0qscT7kDU5oZ"
   },
   "source": [
    "The parameters slope and inter are estimates based on a sample; like other estimates, they are vulnerable to sampling bias, measurement error, and sampling error. As discussed in Chapter 8, sampling bias is caused\n",
    "by non-representative sampling, measurement error is caused by errors in collecting and recording data, and sampling error is the result of measuring a sample rather than the entire population.\n",
    "\n",
    "To assess sampling error, we ask, “If we run this experiment again, how much variability do we expect in the estimates?” We can answer this question by running simulated experiments and computing sampling distributions of the estimates.\n",
    "\n",
    "In order to you will simulate the experiments by resampling the data; that is, treating the observed pregnancies as if they were the entire population and draw samples, with replacement, from the observed sample.\n",
    "\n",
    "Make a simulation recalculating slope and iter of 100 random picks from live data:"
   ]
  },
  {
   "cell_type": "code",
   "execution_count": 16,
   "metadata": {
    "colab": {},
    "colab_type": "code",
    "id": "KUCxlir-U5ob"
   },
   "outputs": [],
   "source": [
    "# Code it here\n",
    "\n",
    "##Thinkstats resampling method is probably useful\n",
    "inters = []\n",
    "slopes = []\n",
    "\n",
    "for _ in range(100):\n",
    "    sample = thinkstats2.ResampleRows(live)    \n",
    "    ages = sample.agepreg\n",
    "    weights = sample.totalwgt_lb\n",
    "    inter, slope = LeastSquares(ages, weights)\n",
    "    inters.append(inter)\n",
    "    slopes.append(slope)"
   ]
  },
  {
   "cell_type": "markdown",
   "metadata": {
    "colab_type": "text",
    "collapsed": "false",
    "id": "haD3K32wU5of"
   },
   "source": [
    "After resampling, we use the simulated sample to estimate parameters. The result is two sequences: the estimated intercepts and estimated slopes. You can summarize the sampling distributions by printing the standard deviation and\n",
    "confidence interval of the estimates:"
   ]
  },
  {
   "cell_type": "code",
   "execution_count": 17,
   "metadata": {
    "colab": {},
    "colab_type": "code",
    "id": "52jfBnIiU5oh",
    "outputId": "178ff5fb-fd62-4740-8c89-b7e22ab5a8f0"
   },
   "outputs": [
    {
     "name": "stdout",
     "output_type": "stream",
     "text": [
      "0.06633080377878775 0.002648154430762479\n"
     ]
    }
   ],
   "source": [
    "#Code it here standard error = std / n\n",
    "error_i = thinkstats2.Std(inters) \n",
    "error_s = thinkstats2.Std(slopes) \n",
    "print(error_i, error_s)"
   ]
  },
  {
   "cell_type": "code",
   "execution_count": 18,
   "metadata": {
    "colab": {},
    "colab_type": "code",
    "id": "j9w3_KxAU5ol",
    "outputId": "e695b3a3-776f-4869-b433-eb80a21052be"
   },
   "outputs": [
    {
     "data": {
      "text/plain": [
       "(6.699234633050046, 6.927101151100491)"
      ]
     },
     "execution_count": 18,
     "metadata": {},
     "output_type": "execute_result"
    }
   ],
   "source": [
    "cdf_i = thinkstats2.Cdf(inters)\n",
    "cdf_i.ConfidenceInterval(90)"
   ]
  },
  {
   "cell_type": "code",
   "execution_count": 19,
   "metadata": {
    "colab": {},
    "colab_type": "code",
    "id": "uoG4YD8JU5oo",
    "outputId": "e928bc9b-54c4-442f-f79f-1c95f3262331"
   },
   "outputs": [
    {
     "data": {
      "text/plain": [
       "(0.013361285574223088, 0.02242823852397897)"
      ]
     },
     "execution_count": 19,
     "metadata": {},
     "output_type": "execute_result"
    }
   ],
   "source": [
    "cdf_s = thinkstats2.Cdf(slopes)\n",
    "cdf_s.ConfidenceInterval(90)"
   ]
  },
  {
   "cell_type": "markdown",
   "metadata": {
    "collapsed": "false"
   },
   "source": [
    "The following function takes a list of estimates and prints the mean, standard error, and 90% confidence interval."
   ]
  },
  {
   "cell_type": "code",
   "execution_count": 20,
   "metadata": {},
   "outputs": [],
   "source": [
    "def Summarize(estimates, actual=None):\n",
    "    mean = thinkstats2.Mean(estimates)\n",
    "    stderr = thinkstats2.Std(estimates, mu=actual)\n",
    "    cdf = thinkstats2.Cdf(estimates)\n",
    "    ci = cdf.ConfidenceInterval(90)\n",
    "    print('Mean: ', mean)\n",
    "    print('Std: ', stderr)\n",
    "    print('CI: ', ci)"
   ]
  },
  {
   "cell_type": "markdown",
   "metadata": {
    "collapsed": "false"
   },
   "source": [
    "Here's  the summary for `inter`."
   ]
  },
  {
   "cell_type": "code",
   "execution_count": 21,
   "metadata": {},
   "outputs": [
    {
     "name": "stdout",
     "output_type": "stream",
     "text": [
      "Mean:  6.8289510312676605\n",
      "Std:  0.06633080377878775\n",
      "CI:  (6.699234633050046, 6.927101151100491)\n"
     ]
    }
   ],
   "source": [
    "Summarize(inters)"
   ]
  },
  {
   "cell_type": "markdown",
   "metadata": {
    "collapsed": "false"
   },
   "source": [
    "And for `slope`."
   ]
  },
  {
   "cell_type": "code",
   "execution_count": 22,
   "metadata": {},
   "outputs": [
    {
     "name": "stdout",
     "output_type": "stream",
     "text": [
      "Mean:  0.017501514239472885\n",
      "Std:  0.002648154430762479\n",
      "CI:  (0.013361285574223088, 0.02242823852397897)\n"
     ]
    }
   ],
   "source": [
    "Summarize(slopes)"
   ]
  },
  {
   "cell_type": "markdown",
   "metadata": {
    "colab_type": "text",
    "collapsed": "false",
    "id": "upiSjZFVU5or"
   },
   "source": [
    "For the intercept, the mean estimate is 6.83, with standard deviation 0.07 and 90% confidence interval (6.71, 6.94). The estimated slope, in more compact form, is 0.0174, SD 0.0028, CI (0.0126, 0.0220). There is almost a factor of\n",
    "two between the low and high ends of this CI, so it should be considered a rough estimate.\n",
    "\n",
    "To visualize the sampling error of the estimate, we could plot all of the fitted lines, or for a less cluttered representation, plot a 90% confidence interval for each age. Here’s the code:"
   ]
  },
  {
   "cell_type": "code",
   "execution_count": 23,
   "metadata": {
    "colab": {},
    "colab_type": "code",
    "id": "BHy_O2i5U5os"
   },
   "outputs": [],
   "source": [
    "def PlotConfidenceIntervals(xs, inters, slopes, percent=90, **options):\n",
    "    fys_seq = []\n",
    "    \n",
    "    for inter, slope in zip(inters, slopes):\n",
    "        fxs, fys = thinkstats2.FitLine(xs, inter, slope)\n",
    "        fys_seq.append(fys)\n",
    "        \n",
    "    p = (100 - percent) / 2\n",
    "    percents = p, 100 - p\n",
    "    low, high = thinkstats2.PercentileRows(fys_seq, percents)\n",
    "    thinkplot.FillBetween(fxs, low, high, **options)"
   ]
  },
  {
   "cell_type": "code",
   "execution_count": 24,
   "metadata": {},
   "outputs": [
    {
     "data": {
      "image/png": "[encoded data removed]",
      "text/plain": [
       "<Figure size 432x288 with 1 Axes>"
      ]
     },
     "metadata": {
      "needs_background": "light"
     },
     "output_type": "display_data"
    }
   ],
   "source": [
    "PlotConfidenceIntervals(live.agepreg, inters, slopes, label='90% CI')\n",
    "thinkplot.Config(xlabel=\"Mother's age (years)\",\n",
    "                ylabel='Residual (lbs)',\n",
    "                xlim=[10, 45])"
   ]
  },
  {
   "cell_type": "code",
   "execution_count": 25,
   "metadata": {
    "colab": {},
    "colab_type": "code",
    "id": "cU9C9R36U5oy",
    "outputId": "2b3530f7-bb78-41fa-94f4-da59c3e501fb"
   },
   "outputs": [
    {
     "data": {
      "image/png": "[encoded data removed]",
      "text/plain": [
       "<Figure size 432x288 with 1 Axes>"
      ]
     },
     "metadata": {
      "needs_background": "light"
     },
     "output_type": "display_data"
    }
   ],
   "source": [
    "PlotConfidenceIntervals(live.agepreg, inters, slopes, percent=90,\n",
    "                       color='gray', alpha=0.3, label='90% CI')\n",
    "PlotConfidenceIntervals(live.agepreg, inters, slopes, percent=50,\n",
    "                       color='gray', alpha=0.5, label='50% CI')\n",
    "\n",
    "thinkplot.Config(xlabel=\"Mother's age (years)\",\n",
    "                ylabel='Residual (lbs)',\n",
    "                xlim=[10, 45])"
   ]
  },
  {
   "cell_type": "markdown",
   "metadata": {
    "colab_type": "text",
    "collapsed": "false",
    "id": "8nc3qgprU5o2"
   },
   "source": [
    "xs is the sequence of mother’s age. inters and slopes are the estimated parameters generated by Sampling Distributions. percent indicates which confidence interval to plot.\n",
    "\n",
    "`PlotConfidenceIntervals` generates a fitted line for each pair of inter and slope and stores the results in a sequence, fys_seq. Then it uses `PercentileRows` to select the upper and lower percentiles of y for each value of x. For a 90% confidence interval, it selects the 5th and 95th percentiles. `FillBetween` draws a polygon that fills the space between two lines."
   ]
  },
  {
   "cell_type": "markdown",
   "metadata": {
    "colab_type": "text",
    "collapsed": "true",
    "id": "VFbhEs9_U5o3"
   },
   "source": [
    "## 5. Goodness of fit"
   ]
  },
  {
   "cell_type": "markdown",
   "metadata": {
    "colab_type": "text",
    "collapsed": "false",
    "id": "goRnbVY-U5o4"
   },
   "source": [
    "There are several ways to measure the quality of a linear model, or **goodness of fit**. One of the simplest is the standard deviation of the residuals.\n",
    "\n",
    "If you use a linear model to make predictions, Std(res) is the root mean squared error (RMSE) of your predictions. For example, if you use mother’s age to guess birth weight. \n",
    "\n",
    "Guess now the weight of the baby with mother age as a guess and calculate the RMSE:"
   ]
  },
  {
   "cell_type": "code",
   "execution_count": 26,
   "metadata": {
    "colab": {},
    "colab_type": "code",
    "id": "aLsf0n5OU5o5",
    "outputId": "d95dae9a-1c98-4411-b897-0dcd26692ed8"
   },
   "outputs": [
    {
     "data": {
      "text/plain": [
       "1.404875428785783"
      ]
     },
     "execution_count": 26,
     "metadata": {},
     "output_type": "execute_result"
    }
   ],
   "source": [
    "# Code it here\n",
    "# This should be the other way around x=weights and y=ages\n",
    "live, firsts, others = first.MakeFrames()\n",
    "live = live.dropna(subset=['agepreg','totalwgt_lb'])\n",
    "ages = live['agepreg']\n",
    "weights = live['totalwgt_lb']\n",
    "\n",
    "inter, slope = LeastSquares(ages, weights)\n",
    "residuals = thinkstats2.Residuals(ages, weights, inter, slope)\n",
    "rmse = thinkstats2.Std(residuals)\n",
    "rmse"
   ]
  },
  {
   "cell_type": "code",
   "execution_count": 27,
   "metadata": {
    "colab": {},
    "colab_type": "code",
    "id": "r65hQZWQU5o9",
    "outputId": "082f11ea-ec7f-4881-acc7-0847380693e9"
   },
   "outputs": [
    {
     "data": {
      "text/plain": [
       "2.31134724843405e-16"
      ]
     },
     "execution_count": 27,
     "metadata": {},
     "output_type": "execute_result"
    }
   ],
   "source": [
    "residuals.mean()"
   ]
  },
  {
   "cell_type": "markdown",
   "metadata": {
    "colab_type": "text",
    "collapsed": "false",
    "id": "C8bqPawCU5pC"
   },
   "source": [
    "If you guess birth weight without knowing the mother’s age, the RMSE of your guess is Std(ys), which is 1.41 lbs. So in this example, knowing a mother’s age does not improve the predictions substantially.\n",
    "\n",
    "Another way to measure goodness of fit is the coefficient of determination, usually denoted R^2 and called **“R-squared”**:"
   ]
  },
  {
   "cell_type": "code",
   "execution_count": 28,
   "metadata": {
    "colab": {},
    "colab_type": "code",
    "id": "rFo6LQScU5pD"
   },
   "outputs": [],
   "source": [
    "def CoefDetermination(ys, res):\n",
    "    return 1 - thinkstats2.Var(res) / thinkstats2.Var(ys)"
   ]
  },
  {
   "cell_type": "markdown",
   "metadata": {
    "colab_type": "text",
    "collapsed": "false",
    "id": "m0umSehvU5pH"
   },
   "source": [
    "Var(res) is the MSE of your guesses using the model, Var(ys) is the MSE without it. So their ratio is the fraction of MSE that remains if you use the model, and R^2 is the fraction of MSE the model eliminates.\n",
    "\n",
    "What is the R^2 for birth weight and mother’s age? And how do you interpret it?"
   ]
  },
  {
   "cell_type": "code",
   "execution_count": 29,
   "metadata": {
    "colab": {},
    "colab_type": "code",
    "id": "aiPVwJqgU5pI",
    "outputId": "6605f16f-8b84-4ba4-ff69-7cd48582fbfb"
   },
   "outputs": [
    {
     "data": {
      "text/plain": [
       "0.004738115474710702"
      ]
     },
     "execution_count": 29,
     "metadata": {},
     "output_type": "execute_result"
    }
   ],
   "source": [
    "#Code it here\n",
    "CoefDetermination(weights, residuals)"
   ]
  },
  {
   "cell_type": "markdown",
   "metadata": {
    "colab_type": "text",
    "collapsed": "false",
    "id": "sXlv-gllU5pL"
   },
   "source": [
    "There is a simple relationship between the coefficient of determination and Pearson’s coefficient of correlation: R^2 = ρ^2. For example, if ρ is 0.8 or -0.8, R^2 = 0.64.\n",
    "\n",
    "Although ρ and R^2 are often used to quantify the strength of a relationship, they are not easy to interpret in terms of predictive power. In my opinion, Std(res) is the best representation of the quality of prediction, especially if it is presented in relation to Std(ys).\n",
    "\n",
    "For example, when people talk about the validity of the SAT (a standardized test used for college admission in the U.S.) they often talk about correlations between SAT scores and other measures of intelligence.\n",
    "\n",
    "According to one study, there is a Pearson correlation of ρ = 0.72 between total SAT scores and IQ scores, which sounds like a strong correlation. But R^2 = ρ^2 = 0.52, so SAT scores account for only 52% of variance in IQ.\n",
    "\n",
    "IQ scores are normalized with Std(ys) = 15, so"
   ]
  },
  {
   "cell_type": "code",
   "execution_count": 30,
   "metadata": {
    "colab": {},
    "colab_type": "code",
    "id": "IUYVOrpgU5pM"
   },
   "outputs": [],
   "source": [
    "import math"
   ]
  },
  {
   "cell_type": "code",
   "execution_count": 31,
   "metadata": {
    "colab": {},
    "colab_type": "code",
    "id": "LdMVS1f8U5pR",
    "outputId": "68046714-416e-455c-e3d4-a68f2c1b3382"
   },
   "outputs": [
    {
     "data": {
      "text/plain": [
       "10.409610943738484"
      ]
     },
     "execution_count": 31,
     "metadata": {},
     "output_type": "execute_result"
    }
   ],
   "source": [
    "var_ys = 15**2\n",
    "rho = 0.72\n",
    "r2 = rho**2\n",
    "var_res = (1 - r2) * var_ys\n",
    "std_res = math.sqrt(var_res)\n",
    "\n",
    "std_res"
   ]
  },
  {
   "cell_type": "markdown",
   "metadata": {
    "colab_type": "text",
    "collapsed": "false",
    "id": "JbgPKG36U5pU"
   },
   "source": [
    "So using SAT score to predict IQ reduces RMSE from 15 points to 10.4 points. A correlation of 0.72 yields a reduction in RMSE of only 31%.\n",
    "\n",
    "If you see a correlation that looks impressive, remember that R^2 is a better indicator of reduction in MSE, and reduction in RMSE is a better indicator of predictive power."
   ]
  },
  {
   "cell_type": "markdown",
   "metadata": {
    "colab_type": "text",
    "collapsed": "true",
    "id": "FSudnDmzU5pU"
   },
   "source": [
    "## 6. Testing a linear model"
   ]
  },
  {
   "cell_type": "markdown",
   "metadata": {
    "colab_type": "text",
    "collapsed": "false",
    "id": "SLEnp4GOU5pV"
   },
   "source": [
    "The effect of mother’s age on birth weight is small, and has little predictive power. So is it possible that the apparent relationship is due to chance? There are several ways we might test the results of a linear fit.\n",
    "\n",
    "One option is to test whether the apparent reduction in MSE is due to chance. In that case, the test statistic is R^2 and the null hypothesis is that there is no relationship between the variables. We can simulate the null hypothesis by permutation, as in Section 9.5, when we tested the correlation between mother’s age and birth weight. In fact, because R^2 = ρ^2 , a one-sided test of R^2 is equivalent to a two-sided test of ρ. We’ve already done that test, and found p < 0.001, so we conclude that the apparent relationship between mother’s age and birth weight is statistically significant.\n",
    "\n",
    "Another approach is to test whether the apparent slope is due to chance. The null hypothesis is that the slope is actually zero; in that case we can model the birth weights as random variations around their mean. Here’s a\n",
    "HypothesisTest for this model:"
   ]
  },
  {
   "cell_type": "code",
   "execution_count": 32,
   "metadata": {
    "colab": {},
    "colab_type": "code",
    "id": "nipKm_XEU5pW"
   },
   "outputs": [],
   "source": [
    "class SlopeTest(thinkstats2.HypothesisTest):\n",
    "    def TestStatistic(self, data):\n",
    "        ages, weights = data\n",
    "        _, slope = thinkstats2.LeastSquares(ages, weights)\n",
    "        return slope\n",
    "    \n",
    "    def MakeModel(self):\n",
    "        _, weights = self.data\n",
    "        self.ybar = weights.mean()\n",
    "        self.res = weights - self.ybar\n",
    "        \n",
    "    def RunModel(self):\n",
    "        ages, _ = self.data\n",
    "        weights = self.ybar + np.random.permutation(self.res)\n",
    "        return ages, weights"
   ]
  },
  {
   "cell_type": "markdown",
   "metadata": {
    "colab_type": "text",
    "collapsed": "false",
    "id": "lObkb4EKU5pX"
   },
   "source": [
    "The data are represented as sequences of ages and weights. The test statistic is the slope estimated by `LeastSquares`. The model of the null hypothesis is represented by the mean weight of all babies and the deviations from the mean. To generate simulated data, we permute the deviations and add them\n",
    "to the mean."
   ]
  },
  {
   "cell_type": "code",
   "execution_count": 33,
   "metadata": {
    "colab": {},
    "colab_type": "code",
    "id": "R0DeozkXU5pY",
    "outputId": "9ffdee45-3c57-45de-9211-a14fc119348a"
   },
   "outputs": [
    {
     "data": {
      "text/plain": [
       "0.0"
      ]
     },
     "execution_count": 33,
     "metadata": {},
     "output_type": "execute_result"
    }
   ],
   "source": [
    "live, firsts, others = first.MakeFrames()\n",
    "live = live.dropna(subset=['agepreg', 'totalwgt_lb'])\n",
    "ht = SlopeTest((live.agepreg, live.totalwgt_lb))\n",
    "pvalue = ht.PValue()\n",
    "pvalue"
   ]
  },
  {
   "cell_type": "markdown",
   "metadata": {
    "colab_type": "text",
    "collapsed": "false",
    "id": "5xayhdC2U5pZ"
   },
   "source": [
    "The p-value is less than 0.001, so although the estimated slope is small, it is unlikely to be due to chance.\n",
    "\n",
    "Estimating the p-value by simulating the null hypothesis is strictly correct, but there is a simpler alternative. Remember that we already computed the sampling distribution of the slope, in Section 10.4. To do that, we assumed\n",
    "that the observed slope was correct and simulated experiments by resampling.\n",
    "\n",
    "Before we calculated the sampling distribution of the slope, from Section 10.4, and the distribution of slopes generated under the null hypothesis. The sampling distribution is centered about the estimated slope, 0.017 lbs/year, and the slopes under the null hypothesis are centered around 0; but other than that, the distributions are identical. The distributions are also symmetric, for reasons we will see in Section 14.4.\n",
    "\n",
    "So we could estimate the p-value two ways:\n",
    "\n",
    "1. Compute the probability that the slope under the null hypothesis exceeds the observed slope.\n",
    "\n",
    "2. Compute the probability that the slope in the sampling distribution falls below 0. (If the estimated slope were negative, we would compute the probability that the slope in the sampling distribution exceeds 0.)\n",
    "\n",
    "The second option is easier because we normally want to compute the sampling distribution of the parameters anyway. And it is a good approximation unless the sample size is small and the distribution of residuals is skewed. Even then, it is usually good enough, because p-values don’t have to be precise.\n",
    "\n",
    "Here’s the code that estimates the p-value of the slope using the sampling distribution:"
   ]
  },
  {
   "cell_type": "code",
   "execution_count": 34,
   "metadata": {
    "colab": {},
    "colab_type": "code",
    "id": "iK5MrTk1U5pZ"
   },
   "outputs": [],
   "source": [
    "def SamplingDistributions(live, iters=101):\n",
    "    t = []\n",
    "    for _ in range(iters):\n",
    "        sample = thinkstats2.ResampleRows(live)\n",
    "        ages = sample.agepreg\n",
    "        weights = sample.totalwgt_lb\n",
    "        estimates = thinkstats2.LeastSquares(ages, weights)\n",
    "        t.append(estimates)\n",
    "\n",
    "    inters, slopes = zip(*t)\n",
    "    return inters, slopes"
   ]
  },
  {
   "cell_type": "code",
   "execution_count": 35,
   "metadata": {
    "colab": {},
    "colab_type": "code",
    "id": "uXT6lngcU5pc",
    "outputId": "9bbd1e32-384a-429b-ca5a-8e8cd9f0d2b0"
   },
   "outputs": [
    {
     "data": {
      "text/plain": [
       "0.0"
      ]
     },
     "execution_count": 35,
     "metadata": {},
     "output_type": "execute_result"
    }
   ],
   "source": [
    "inters, slopes = SamplingDistributions(live, iters=1001)\n",
    "slope_cdf = thinkstats2.Cdf(slopes)\n",
    "pvalue = slope_cdf[0]\n",
    "pvalue"
   ]
  },
  {
   "cell_type": "markdown",
   "metadata": {
    "colab_type": "text",
    "collapsed": "false",
    "id": "zGjTo33GU5pg"
   },
   "source": [
    "Again, we find p < 0.001."
   ]
  },
  {
   "cell_type": "markdown",
   "metadata": {
    "colab_type": "text",
    "collapsed": "true",
    "id": "Rv7IAA4GU5pj"
   },
   "source": [
    "## 7. Weighted resampling"
   ]
  },
  {
   "cell_type": "markdown",
   "metadata": {
    "collapsed": "false"
   },
   "source": [
    "So far we have treated the NSFG data as if it were a representative sample, but as said in Chapter one it is not. The survey deliberately oversamples several groups in order to improve the chance of getting statistically\n",
    "significant results; that is, in order to improve the power of tests involving these groups.\n",
    "\n",
    "This survey design is useful for many purposes, but it means that we cannot use the sample to estimate values for the general population without accounting for the sampling process.\n",
    "\n",
    "For each respondent, the NSFG data includes a variable called `finalwgt`, which is the number of people in the general population the respondent represents. This value is called a sampling weight, or just “weight.”\n",
    "\n",
    "As an example, if you survey 100,000 people in a country of 300 million, each respondent represents 3,000 people. If you oversample one group by a factor of 2, each person in the oversampled group would have a lower weight, about\n",
    "1500.\n",
    "\n",
    "To correct for oversampling, we can use resampling; that is, we can draw samples from the survey using probabilities proportional to sampling weights. Then, for any quantity we want to estimate, we can generate sampling distributions, standard errors, and confidence intervals. As an example, I will estimate mean birth weight with and without sampling weights.\n",
    "\n",
    "In Section 4, we saw `ResampleRows`, which chooses rows from a `DataFrame`, giving each row the same probability. Now we need to do the same thing using probabilities proportional to sampling weights. `ResampleRowsWeighted` takes a `DataFrame`, resamples rows according to the weights in `finalwgt`, and returns a `DataFrame` containing the resampled\n",
    "rows:"
   ]
  },
  {
   "cell_type": "code",
   "execution_count": 36,
   "metadata": {
    "colab": {},
    "colab_type": "code",
    "id": "mMDR9D5gU5pk"
   },
   "outputs": [],
   "source": [
    "def ResampleRowsWeighted(df, column='finalwgt'):\n",
    "    weights = df[column]\n",
    "    cdf = thinkstats2.Cdf(dict(weights))\n",
    "    indices = cdf.Sample(len(weights))\n",
    "    sample = df.loc[indices]\n",
    "    return sample"
   ]
  },
  {
   "cell_type": "markdown",
   "metadata": {},
   "source": [
    "`weights` is a Series; converting it to a dictionary makes a map from the indices to the weights. In `cdf` the values are indices and the probabilities are proportional to the weights.\n",
    "\n",
    "`indices` is a sequence of row indices; `sample` is a DataFrame that contains the selected rows. Since we sample with replacement, the same row might appear more than once.\n",
    "\n",
    "Now we can compare the effect of /resampling with and without weights. Without weights, we generate the sampling distribution like this:"
   ]
  },
  {
   "cell_type": "code",
   "execution_count": 37,
   "metadata": {
    "colab": {},
    "colab_type": "code",
    "id": "x3TehyLCU5pm"
   },
   "outputs": [],
   "source": [
    "iters = 100"
   ]
  },
  {
   "cell_type": "code",
   "execution_count": 38,
   "metadata": {
    "colab": {},
    "colab_type": "code",
    "id": "-37hi-TuU5po"
   },
   "outputs": [],
   "source": [
    "estimates = [thinkstats2.ResampleRows(live).totalwgt_lb.mean()\n",
    "            for _ in range(iters)]"
   ]
  },
  {
   "cell_type": "markdown",
   "metadata": {
    "colab_type": "text",
    "collapsed": "false",
    "id": "zKU-WdiSU5pq"
   },
   "source": [
    "With weights, it looks like this:"
   ]
  },
  {
   "cell_type": "code",
   "execution_count": 39,
   "metadata": {
    "colab": {},
    "colab_type": "code",
    "id": "_IxqHiZFU5pq"
   },
   "outputs": [],
   "source": [
    "estimates_weighted = [ResampleRowsWeighted(live).totalwgt_lb.mean()\n",
    "            for _ in range(iters)]"
   ]
  },
  {
   "cell_type": "markdown",
   "metadata": {
    "colab_type": "text",
    "collapsed": "false",
    "id": "jYe1JbXOU5ps"
   },
   "source": [
    "Calculate the mean of birth weight, the standard deviation and the 90% CI of both distributions:"
   ]
  },
  {
   "cell_type": "code",
   "execution_count": 40,
   "metadata": {
    "colab": {},
    "colab_type": "code",
    "id": "JBNnlD-wU5ps"
   },
   "outputs": [],
   "source": [
    "mean_no_w = np.mean(estimates)\n",
    "mean_w = np.mean(estimates_weighted)\n",
    "std_no_w = thinkstats2.Std(estimates)\n",
    "std_w = thinkstats2.Std(estimates_weighted)\n",
    "cdf_1 = thinkstats2.Cdf(estimates)\n",
    "cdf_2 = thinkstats2.Cdf(estimates_weighted)\n",
    "ci_no_w = cdf_1.ConfidenceInterval(90)\n",
    "ci_w = cdf_2.ConfidenceInterval(90)"
   ]
  },
  {
   "cell_type": "code",
   "execution_count": 41,
   "metadata": {},
   "outputs": [
    {
     "name": "stdout",
     "output_type": "stream",
     "text": [
      "mean_no_w: 7.265643117946448\n",
      "mean_w: 7.3481548738659\n",
      "std_no_w: 0.014581630198049655\n",
      "std_w: 0.014314896880036539\n",
      "ci_no_w: (7.241722449657003, 7.287957789333923)\n",
      "ci_w: (7.3240968687762775, 7.366597975215756)\n"
     ]
    }
   ],
   "source": [
    "print(f\"mean_no_w: {mean_no_w}\")\n",
    "print(f\"mean_w: {mean_w}\")\n",
    "print(f\"std_no_w: {std_no_w}\")\n",
    "print(f\"std_w: {std_w}\")\n",
    "print(f\"ci_no_w: {ci_no_w}\")\n",
    "print(f\"ci_w: {ci_w}\")"
   ]
  },
  {
   "cell_type": "markdown",
   "metadata": {
    "colab_type": "text",
    "collapsed": "false",
    "id": "cCwfzH5uU5pt"
   },
   "source": [
    "The following table summarizes the results:\n",
    "\n",
    "![alt text](Resources/Think_Stats/notebookpics/table_resa.png \"Title\")\n",
    "    \n",
    "In this example, the effect of weighting is small but non-negligible. The difference in estimated means, with and without weighting, is about 0.08 pounds, or 1.3 ounces. This difference is substantially larger than the standard error of the estimate, 0.014 pounds, which implies that the difference is not due to chance."
   ]
  }
 ],
 "metadata": {
  "colab": {
   "collapsed_sections": [
    "Yd62MOznU5mu",
    "jXAaK6lBU5mv",
    "wV3Pvo_aU5m0",
    "yxY4R5r8U5nx",
    "61S1S4QnU5oX",
    "VFbhEs9_U5o3",
    "FSudnDmzU5pU",
    "Rv7IAA4GU5pj"
   ],
   "name": "Day 29 - Sol.ipynb",
   "provenance": []
  },
  "kernelspec": {
   "display_name": "Python 3",
   "language": "python",
   "name": "python3"
  },
  "language_info": {
   "codemirror_mode": {
    "name": "ipython",
    "version": 3
   },
   "file_extension": ".py",
   "mimetype": "text/x-python",
   "name": "python",
   "nbconvert_exporter": "python",
   "pygments_lexer": "ipython3",
   "version": "3.8.3"
  }
 },
 "nbformat": 4,
 "nbformat_minor": 4
}
