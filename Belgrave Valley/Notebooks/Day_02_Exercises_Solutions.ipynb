{
 "cells": [
  {
   "cell_type": "markdown",
   "metadata": {
    "Collapsed": "false",
    "colab_type": "text",
    "id": "cYAD_XsVxdLr"
   },
   "source": [
    "<img src=\"https://user-images.strikinglycdn.com/res/hrscywv4p/image/upload/c_limit,fl_lossy,h_300,w_300,f_auto,q_auto/1266110/Logo_wzxi0f.png\" style=\"float: left; margin: 20px; height: 55px\">"
   ]
  },
  {
   "cell_type": "markdown",
   "metadata": {
    "Collapsed": "true",
    "colab_type": "text",
    "id": "5pJLEyGCxafm"
   },
   "source": [
    "## 1. Conditional Statements"
   ]
  },
  {
   "cell_type": "code",
   "execution_count": null,
   "metadata": {
    "Collapsed": "false",
    "colab": {},
    "colab_type": "code",
    "id": "ufdGH3h1xafo"
   },
   "outputs": [],
   "source": [
    "con = [3,3/2,-77,1001,8,342,-19,2,-5,0,997,23]"
   ]
  },
  {
   "cell_type": "markdown",
   "metadata": {
    "Collapsed": "true",
    "colab_type": "text",
    "id": "h7dOE-ouxafs"
   },
   "source": [
    "##### 1. Categorise each element of the list below into two lists, negative and positive. Print both lists."
   ]
  },
  {
   "cell_type": "code",
   "execution_count": null,
   "metadata": {
    "Collapsed": "false",
    "colab": {},
    "colab_type": "code",
    "id": "uAcljq0Kxaft",
    "outputId": "1867a69c-ae83-4e51-cc54-2ca76bbecb91"
   },
   "outputs": [
    {
     "name": "stdout",
     "output_type": "stream",
     "text": [
      "[3, 1.5, 1001, 342, 2]\n",
      "[-77, -19, -5]\n"
     ]
    }
   ],
   "source": [
    "negative = []\n",
    "positive = []\n",
    "\n",
    "for i in con:\n",
    "    if i >= 0:\n",
    "        positive.append(i)\n",
    "    else:\n",
    "        negative.append(i)\n",
    "print(positive)\n",
    "print(negative)"
   ]
  },
  {
   "cell_type": "markdown",
   "metadata": {
    "Collapsed": "true",
    "colab_type": "text",
    "id": "lhXtynWgxafy"
   },
   "source": [
    "##### 2. Use the con list to and classify each element into tow list, pair and odds. Print both lists"
   ]
  },
  {
   "cell_type": "code",
   "execution_count": null,
   "metadata": {
    "Collapsed": "false",
    "colab": {},
    "colab_type": "code",
    "id": "lYQx4JZnxaf0",
    "outputId": "77555b7a-4956-4dba-fca1-6c888b03881a"
   },
   "outputs": [
    {
     "name": "stdout",
     "output_type": "stream",
     "text": [
      "[8, 342, 2, 0]\n",
      "[3, 1.5, -77, 1001, -19, -5, 997, 23]\n"
     ]
    }
   ],
   "source": [
    "pair = []\n",
    "odd = []\n",
    "\n",
    "for i in con:\n",
    "    if i%2 == 0:\n",
    "        pair.append(i)\n",
    "    else:\n",
    "        odd.append(i)\n",
    "print(pair)\n",
    "print(odd)"
   ]
  },
  {
   "cell_type": "markdown",
   "metadata": {
    "Collapsed": "true",
    "colab_type": "text",
    "id": "9OuRzKbnxaf8"
   },
   "source": [
    "##### 3. Use the con list to return only does numbers greater than 0 but less than 30"
   ]
  },
  {
   "cell_type": "code",
   "execution_count": null,
   "metadata": {
    "Collapsed": "false",
    "colab": {},
    "colab_type": "code",
    "id": "tY_ho6rdxaf9",
    "outputId": "6ceb363d-0f6c-47ce-c4b9-462876a2c0c5"
   },
   "outputs": [
    {
     "name": "stdout",
     "output_type": "stream",
     "text": [
      "3\n",
      "1.5\n",
      "8\n",
      "2\n"
     ]
    }
   ],
   "source": [
    "for i in con:\n",
    "    if 0<i<30:\n",
    "        print (i)"
   ]
  },
  {
   "cell_type": "markdown",
   "metadata": {
    "Collapsed": "true",
    "colab_type": "text",
    "id": "Y4zS-ubGxagB"
   },
   "source": [
    "##### 4. Use the con list to return only the odd numbers that are greater than 2."
   ]
  },
  {
   "cell_type": "code",
   "execution_count": null,
   "metadata": {
    "Collapsed": "false",
    "colab": {},
    "colab_type": "code",
    "id": "bknfM-p7xagC",
    "outputId": "56cabe51-c4bf-4a95-d414-9e7a2b17318d"
   },
   "outputs": [
    {
     "name": "stdout",
     "output_type": "stream",
     "text": [
      "3\n",
      "1001\n",
      "997\n",
      "23\n"
     ]
    }
   ],
   "source": [
    "for i in con:\n",
    "    if i%2 != 0 and i>2:\n",
    "        print (i)"
   ]
  },
  {
   "cell_type": "markdown",
   "metadata": {
    "Collapsed": "true",
    "colab_type": "text",
    "id": "Q0plnQlvxagH"
   },
   "source": [
    "##### 5. Add the number from the previous exercise into a list and return the sum of them. Call the list belgrave"
   ]
  },
  {
   "cell_type": "code",
   "execution_count": null,
   "metadata": {
    "Collapsed": "false",
    "colab": {},
    "colab_type": "code",
    "id": "IxizsJFBxagI",
    "outputId": "8e784df2-0e64-498f-edbc-1e156073f28a"
   },
   "outputs": [
    {
     "name": "stdout",
     "output_type": "stream",
     "text": [
      "2024\n"
     ]
    }
   ],
   "source": [
    "belgrave = []\n",
    "for i in con:\n",
    "    if i%2 != 0 and i>2:\n",
    "        belgrave.append(i)\n",
    "print (sum(belgrave))"
   ]
  },
  {
   "cell_type": "markdown",
   "metadata": {
    "Collapsed": "true",
    "colab_type": "text",
    "id": "reMxbpjgxagL"
   },
   "source": [
    "##### 6. Multiply each element of the con list by the value in the list belgrave and add it to a new list called valley. You can´t write down the number 2024."
   ]
  },
  {
   "cell_type": "code",
   "execution_count": null,
   "metadata": {
    "Collapsed": "false",
    "colab": {},
    "colab_type": "code",
    "id": "D7jnMyoGxagN",
    "outputId": "f00f59d8-1f06-4096-dd02-6013dd9ba3c0"
   },
   "outputs": [
    {
     "name": "stdout",
     "output_type": "stream",
     "text": [
      "[3003, 1501.5, -77077, 1002001, 8008, 342342, -19019, 2002, -5005, 0, 997997, 23023]\n"
     ]
    }
   ],
   "source": [
    "valley = []\n",
    "for i in con:\n",
    "    valley.append(i*max(belgrave))\n",
    "print(valley)"
   ]
  },
  {
   "cell_type": "markdown",
   "metadata": {
    "Collapsed": "true",
    "colab_type": "text",
    "id": "Nv-ffzmpxagR"
   },
   "source": [
    "##### 7. Multiply each element of the valley list and the con list. Append the result to a new list called final."
   ]
  },
  {
   "cell_type": "code",
   "execution_count": null,
   "metadata": {
    "Collapsed": "false",
    "colab": {},
    "colab_type": "code",
    "id": "wQujOqZ8xagS",
    "outputId": "a8f9aa76-dd0c-43e2-e92d-f39716a558ab",
    "scrolled": true
   },
   "outputs": [
    {
     "name": "stdout",
     "output_type": "stream",
     "text": [
      "[9009, 4504.5, -231231, 3006003, 24024, 1027026, -57057, 6006, -15015, 0, 2993991, 69069, 4504.5, 2252.25, -115615.5, 1503001.5, 12012.0, 513513.0, -28528.5, 3003.0, -7507.5, 0.0, 1496995.5, 34534.5, -231231, -115615.5, 5934929, -77154077, -616616, -26360334, 1464463, -154154, 385385, 0, -76845769, -1772771, 3006003, 1503001.5, -77154077, 1003003001, 8016008, 342684342, -19038019, 2004002, -5010005, 0, 998994997, 23046023, 24024, 12012.0, -616616, 8016008, 64064, 2738736, -152152, 16016, -40040, 0, 7983976, 184184, 1027026, 513513.0, -26360334, 342684342, 2738736, 117080964, -6504498, 684684, -1711710, 0, 341314974, 7873866, -57057, -28528.5, 1464463, -19038019, -152152, -6504498, 361361, -38038, 95095, 0, -18961943, -437437, 6006, 3003.0, -154154, 2004002, 16016, 684684, -38038, 4004, -10010, 0, 1995994, 46046, -15015, -7507.5, 385385, -5010005, -40040, -1711710, 95095, -10010, 25025, 0, -4989985, -115115, 0, 0.0, 0, 0, 0, 0, 0, 0, 0, 0, 0, 0, 2993991, 1496995.5, -76845769, 998994997, 7983976, 341314974, -18961943, 1995994, -4989985, 0, 995003009, 22953931, 69069, 34534.5, -1772771, 23046023, 184184, 7873866, -437437, 46046, -115115, 0, 22953931, 529529]\n"
     ]
    }
   ],
   "source": [
    "final = []\n",
    "for i in con:\n",
    "    for x in valley:\n",
    "        final.append(i*x)\n",
    "print(final)"
   ]
  },
  {
   "cell_type": "markdown",
   "metadata": {
    "Collapsed": "true",
    "colab_type": "text",
    "id": "wJLXVDeAxagV"
   },
   "source": [
    "## 2. Dictionaries\n"
   ]
  },
  {
   "cell_type": "code",
   "execution_count": 1,
   "metadata": {
    "Collapsed": "false",
    "colab": {},
    "colab_type": "code",
    "id": "C2_73IuExagW"
   },
   "outputs": [],
   "source": [
    "names = {'kiefer':'katovich', 'dave':'yerrington', 'stoney':'vintson'}"
   ]
  },
  {
   "cell_type": "markdown",
   "metadata": {
    "Collapsed": "true",
    "colab_type": "text",
    "id": "3ODngDhoxaga"
   },
   "source": [
    "##### 8. assign a value for a key to a variable with .pop(), removing the pair from the dictionary"
   ]
  },
  {
   "cell_type": "code",
   "execution_count": 2,
   "metadata": {
    "Collapsed": "false",
    "colab": {},
    "colab_type": "code",
    "id": "vmNa8w41xagb",
    "outputId": "2b9db5d6-585e-4b32-be19-9a4d73dcbc3f"
   },
   "outputs": [
    {
     "name": "stdout",
     "output_type": "stream",
     "text": [
      "vintson\n",
      "{'kiefer': 'katovich', 'dave': 'yerrington'}\n"
     ]
    }
   ],
   "source": [
    "stoney = names.pop('stoney')\n",
    "print(stoney)\n",
    "print(names)"
   ]
  },
  {
   "cell_type": "markdown",
   "metadata": {
    "Collapsed": "true",
    "colab_type": "text",
    "id": "SiE2MO5qxagh"
   },
   "source": [
    "##### 9. assign a value for a key to a variable with .get(), keeping the pair in the dictionary"
   ]
  },
  {
   "cell_type": "code",
   "execution_count": null,
   "metadata": {
    "Collapsed": "false",
    "colab": {},
    "colab_type": "code",
    "id": "oSvxW_8-xagi",
    "outputId": "56419354-b145-4880-a368-9673243beabe"
   },
   "outputs": [
    {
     "name": "stdout",
     "output_type": "stream",
     "text": [
      "yerrington\n",
      "{'kiefer': 'katovich', 'dave': 'yerrington', 'ali': 'pisano'}\n"
     ]
    }
   ],
   "source": [
    "dave = names.get('dave')\n",
    "print(dave)\n",
    "print(names)"
   ]
  },
  {
   "cell_type": "markdown",
   "metadata": {
    "Collapsed": "true",
    "colab_type": "text",
    "id": "RWUx4r6jxagn"
   },
   "source": [
    "##### 10. print the keys in the dictionary with the .keys() function"
   ]
  },
  {
   "cell_type": "code",
   "execution_count": null,
   "metadata": {
    "Collapsed": "false",
    "colab": {},
    "colab_type": "code",
    "id": "l8pVPWIAxagp",
    "outputId": "3bcb2af9-24ae-4906-a9d6-2ad82b4f49f0"
   },
   "outputs": [
    {
     "data": {
      "text/plain": [
       "dict_keys(['kiefer', 'dave', 'ali'])"
      ]
     },
     "execution_count": 22,
     "metadata": {
      "tags": []
     },
     "output_type": "execute_result"
    }
   ],
   "source": [
    "names.keys()"
   ]
  },
  {
   "cell_type": "markdown",
   "metadata": {
    "Collapsed": "true",
    "colab_type": "text",
    "id": "N1yK-bnLxagt"
   },
   "source": [
    "###### 11. print the key:value pairs in the dictionary with the .items() function"
   ]
  },
  {
   "cell_type": "code",
   "execution_count": null,
   "metadata": {
    "Collapsed": "false",
    "colab": {},
    "colab_type": "code",
    "id": "nPnHs_Ckxagu",
    "outputId": "20645676-9637-4a82-ec85-e35ec3ed7710"
   },
   "outputs": [
    {
     "data": {
      "text/plain": [
       "dict_items([('ali', 'pisano')])"
      ]
     },
     "execution_count": 27,
     "metadata": {
      "tags": []
     },
     "output_type": "execute_result"
    }
   ],
   "source": [
    "names.items()"
   ]
  },
  {
   "cell_type": "markdown",
   "metadata": {
    "Collapsed": "true",
    "colab_type": "text",
    "id": "Xica6cfbxagy"
   },
   "source": [
    "##### 12. Join another dictionary with your dictionary using the .update() function.\n",
    "\n",
    "Note: the update function takes the dictionary you want to merge in as a variable."
   ]
  },
  {
   "cell_type": "code",
   "execution_count": null,
   "metadata": {
    "Collapsed": "false",
    "colab": {},
    "colab_type": "code",
    "id": "Vn2TLBf4xagz",
    "outputId": "5dc06735-903e-4daf-f0c5-4fa2886962ff"
   },
   "outputs": [
    {
     "name": "stdout",
     "output_type": "stream",
     "text": [
      "{'kiefer': 'katovich', 'dave': 'yerrington', 'stoney': 'vintson', 'ali': 'piaano', 'alis': 'pisano'}\n"
     ]
    }
   ],
   "source": [
    "names.update({'ali':'piaano'})\n",
    "print(names)"
   ]
  },
  {
   "cell_type": "markdown",
   "metadata": {
    "Collapsed": "true",
    "colab_type": "text",
    "id": "Oq-a8tfZxag4"
   },
   "source": [
    "##### 13. clear all the key:value pairs from the dictionary using .clear()"
   ]
  },
  {
   "cell_type": "code",
   "execution_count": null,
   "metadata": {
    "Collapsed": "false",
    "colab": {},
    "colab_type": "code",
    "id": "xJkVTHRExag5",
    "outputId": "b28c0df3-3d7e-41c7-c2ab-1c969138b61b"
   },
   "outputs": [
    {
     "name": "stdout",
     "output_type": "stream",
     "text": [
      "{}\n"
     ]
    }
   ],
   "source": [
    "names.clear()\n",
    "print(names)"
   ]
  },
  {
   "cell_type": "markdown",
   "metadata": {
    "Collapsed": "false",
    "colab_type": "text",
    "id": "Vf8ZkxNlxag_"
   },
   "source": [
    "---"
   ]
  },
  {
   "cell_type": "code",
   "execution_count": null,
   "metadata": {
    "Collapsed": "false",
    "colab": {},
    "colab_type": "code",
    "id": "Jsh3tlw4xahA"
   },
   "outputs": [],
   "source": [
    "age = {'Pol':26,'Pablo':27, 'Javi': 23, 'Jorge':1, 'Paco': 26}"
   ]
  },
  {
   "cell_type": "markdown",
   "metadata": {
    "Collapsed": "true",
    "colab_type": "text",
    "id": "iuPrfxogxahG"
   },
   "source": [
    "##### 14. Write a Python program to sum all the items in a dictionary. "
   ]
  },
  {
   "cell_type": "code",
   "execution_count": null,
   "metadata": {
    "Collapsed": "false",
    "colab": {},
    "colab_type": "code",
    "id": "eAD8flEjxahL",
    "outputId": "026ff47d-e1bd-4ab7-8219-3aeae2879abc"
   },
   "outputs": [
    {
     "name": "stdout",
     "output_type": "stream",
     "text": [
      "103\n"
     ]
    }
   ],
   "source": [
    "print(sum(age.values()))"
   ]
  },
  {
   "cell_type": "markdown",
   "metadata": {
    "Collapsed": "true",
    "colab_type": "text",
    "id": "L4b8UlG-xahS"
   },
   "source": [
    "##### 15. Write a Python program that returns all the keys in the dictionary - use a for loop."
   ]
  },
  {
   "cell_type": "code",
   "execution_count": null,
   "metadata": {
    "Collapsed": "false",
    "colab": {},
    "colab_type": "code",
    "id": "vbxF4Sn4xahT",
    "outputId": "3886a3b7-b11e-4875-a271-0805bbb60f8a"
   },
   "outputs": [
    {
     "name": "stdout",
     "output_type": "stream",
     "text": [
      "Pol\n",
      "Pablo\n",
      "Javi\n",
      "Jorge\n",
      "Paco\n"
     ]
    }
   ],
   "source": [
    "for i in age:\n",
    "    print(i)"
   ]
  },
  {
   "cell_type": "markdown",
   "metadata": {
    "Collapsed": "true",
    "colab_type": "text",
    "id": "DkDY8-qdxahW"
   },
   "source": [
    "##### 16. Write a Python program that returns all the values in the dictionary and append them to a new list called numbers - use a for loop."
   ]
  },
  {
   "cell_type": "code",
   "execution_count": null,
   "metadata": {
    "Collapsed": "false",
    "colab": {},
    "colab_type": "code",
    "id": "tyYoi7g3xahX",
    "outputId": "e478eb5d-bb79-4fca-de86-e7bcad3136c5"
   },
   "outputs": [
    {
     "name": "stdout",
     "output_type": "stream",
     "text": [
      "[26, 27, 23, 1, 26]\n"
     ]
    }
   ],
   "source": [
    "numbers = []\n",
    "for i,k in age.items():\n",
    "    numbers.append(k)\n",
    "print(numbers)"
   ]
  },
  {
   "cell_type": "markdown",
   "metadata": {
    "Collapsed": "true",
    "colab_type": "text",
    "id": "GSVLBG-ixahc"
   },
   "source": [
    "##### 17. Write a Python program that returns the sum of the length of all the keys in the dictionary."
   ]
  },
  {
   "cell_type": "code",
   "execution_count": null,
   "metadata": {
    "Collapsed": "false",
    "colab": {},
    "colab_type": "code",
    "id": "q6SLetuoxahd",
    "outputId": "d8becb8f-227f-4e5d-a1bf-cd25928b39cd"
   },
   "outputs": [
    {
     "name": "stdout",
     "output_type": "stream",
     "text": [
      "21\n"
     ]
    }
   ],
   "source": [
    "length = 0\n",
    "for i,k in age.items():\n",
    "    length += len(i)\n",
    "\n",
    "print (length)"
   ]
  },
  {
   "cell_type": "markdown",
   "metadata": {
    "Collapsed": "true",
    "colab_type": "text",
    "id": "kNMq1YqZxahi"
   },
   "source": [
    "#### 18. Write a Python program to map two lists into a dictionary."
   ]
  },
  {
   "cell_type": "code",
   "execution_count": null,
   "metadata": {
    "Collapsed": "false",
    "colab": {},
    "colab_type": "code",
    "id": "Xxv2NACLxahj",
    "outputId": "577945e7-e407-4855-cf46-18e4016097a0"
   },
   "outputs": [
    {
     "name": "stdout",
     "output_type": "stream",
     "text": [
      "{'Pol': 26, 'Pablo': 27, 'Javi': 23, 'Jorge': 1, 'Paco': 26}\n"
     ]
    }
   ],
   "source": [
    "names = ['Pol','Pablo','Javi','Jorge','Paco']\n",
    "ages = [26,27,23,1,26]\n",
    "\n",
    "create_age = dict(zip(names, ages))\n",
    "print(create_age)"
   ]
  },
  {
   "cell_type": "markdown",
   "metadata": {
    "Collapsed": "true",
    "colab_type": "text",
    "id": "F5-EyoUsxahp"
   },
   "source": [
    "#### 19. Write a Python program to sort the age dictionary by keys."
   ]
  },
  {
   "cell_type": "code",
   "execution_count": null,
   "metadata": {
    "Collapsed": "false",
    "colab": {},
    "colab_type": "code",
    "id": "Z-TNnmqpxahr",
    "outputId": "0df5eaf3-d487-48ba-82d3-3c656c12e146"
   },
   "outputs": [
    {
     "name": "stdout",
     "output_type": "stream",
     "text": [
      "['Javi', 'Jorge', 'Pablo', 'Paco', 'Pol']\n"
     ]
    }
   ],
   "source": [
    "print(sorted(age.keys()))"
   ]
  },
  {
   "cell_type": "markdown",
   "metadata": {
    "Collapsed": "true",
    "colab_type": "text",
    "id": "fLsyHjyXxahw"
   },
   "source": [
    "## 3. Tuples"
   ]
  },
  {
   "cell_type": "code",
   "execution_count": null,
   "metadata": {
    "Collapsed": "false",
    "colab": {},
    "colab_type": "code",
    "id": "x-yzmcCixahy"
   },
   "outputs": [],
   "source": [
    "tuplex = (\"w\", 'm', \"r\", \"e\", \"s\", \"o\", \"u\", \"r\", \"c\", \"e\")"
   ]
  },
  {
   "cell_type": "markdown",
   "metadata": {
    "Collapsed": "true",
    "colab_type": "text",
    "id": "PlNci8oDxah1"
   },
   "source": [
    "#### 20. Write a Python program to get the 4th element and 4th element from last of a tuple."
   ]
  },
  {
   "cell_type": "code",
   "execution_count": null,
   "metadata": {
    "Collapsed": "false",
    "colab": {},
    "colab_type": "code",
    "id": "M5rE44Etxah2",
    "outputId": "9e47e698-93ae-4da1-9bb5-f6cdfa5aa875"
   },
   "outputs": [
    {
     "name": "stdout",
     "output_type": "stream",
     "text": [
      "e\n",
      "u\n"
     ]
    }
   ],
   "source": [
    "item = tuplex[3]\n",
    "print(item)\n",
    "\n",
    "#Get item (4th element from last)by index negative\n",
    "item1 = tuplex[-4]\n",
    "print(item1)"
   ]
  },
  {
   "cell_type": "markdown",
   "metadata": {
    "Collapsed": "true",
    "colab_type": "text",
    "id": "X_0GaEbaxah6"
   },
   "source": [
    "#### 21. Write a Python program that returns how many times each elements appears in the tuple - use for loop."
   ]
  },
  {
   "cell_type": "code",
   "execution_count": null,
   "metadata": {
    "Collapsed": "false",
    "colab": {},
    "colab_type": "code",
    "id": "INETgkyRxah7",
    "outputId": "d5093bc1-1d2d-4ef7-b6fc-d742eeaab3b5",
    "scrolled": true
   },
   "outputs": [
    {
     "name": "stdout",
     "output_type": "stream",
     "text": [
      "w:1\n",
      "m:1\n",
      "r:2\n",
      "e:2\n",
      "s:1\n",
      "o:1\n",
      "u:1\n",
      "r:2\n",
      "c:1\n",
      "e:2\n"
     ]
    }
   ],
   "source": [
    "for i in tuplex:\n",
    "    print(i + ':'+ str(tuplex.count(i)))"
   ]
  },
  {
   "cell_type": "code",
   "execution_count": null,
   "metadata": {
    "Collapsed": "false",
    "colab": {},
    "colab_type": "code",
    "id": "oh8YDOs6xah-"
   },
   "outputs": [],
   "source": []
  }
 ],
 "metadata": {
  "colab": {
   "collapsed_sections": [],
   "name": "Day 2 - Exercises Solutions.ipynb",
   "provenance": [],
   "version": "0.3.2"
  },
  "kernelspec": {
   "display_name": "Python 3",
   "language": "python",
   "name": "python3"
  },
  "language_info": {
   "codemirror_mode": {
    "name": "ipython",
    "version": 3
   },
   "file_extension": ".py",
   "mimetype": "text/x-python",
   "name": "python",
   "nbconvert_exporter": "python",
   "pygments_lexer": "ipython3",
   "version": "3.7.2"
  }
 },
 "nbformat": 4,
 "nbformat_minor": 4
}
