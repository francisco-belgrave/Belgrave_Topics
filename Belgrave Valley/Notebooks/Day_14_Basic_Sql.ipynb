{
 "cells": [
  {
   "cell_type": "markdown",
   "metadata": {},
   "source": [
    "## SQL Basics\n",
    "\n",
    "For the sql course we are using the Mode tutorial. So first of all you need to create an account. Ask your Data Mentor to invite you to the Belgrave Valley account.\n",
    "\n",
    "Once you've set up your account go to the tutorial page. https://mode.com/sql-tutorial/introduction-to-sql/\n",
    "\n",
    "Make sure you finish all the basics of sql and the exercises"
   ]
  },
  {
   "cell_type": "code",
   "execution_count": null,
   "metadata": {},
   "outputs": [],
   "source": []
  }
 ],
 "metadata": {
  "kernelspec": {
   "display_name": "Python 3",
   "language": "python",
   "name": "python3"
  },
  "language_info": {
   "codemirror_mode": {
    "name": "ipython",
    "version": 3
   },
   "file_extension": ".py",
   "mimetype": "text/x-python",
   "name": "python",
   "nbconvert_exporter": "python",
   "pygments_lexer": "ipython3",
   "version": "3.7.2"
  }
 },
 "nbformat": 4,
 "nbformat_minor": 4
}
