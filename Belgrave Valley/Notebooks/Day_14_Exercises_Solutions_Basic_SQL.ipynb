{
 "cells": [
  {
   "cell_type": "markdown",
   "metadata": {
    "Collapsed": "false"
   },
   "source": [
    "<img src=\"https://user-images.strikinglycdn.com/res/hrscywv4p/image/upload/c_limit,fl_lossy,h_300,w_300,f_auto,q_auto/1266110/Logo_wzxi0f.png\" style=\"float: left; margin: 20px; height: 55px\">"
   ]
  },
  {
   "cell_type": "markdown",
   "metadata": {
    "Collapsed": "true"
   },
   "source": [
    "# Basic SQL"
   ]
  },
  {
   "cell_type": "markdown",
   "metadata": {
    "Collapsed": "false"
   },
   "source": [
    "You can run and test your answers [here](https://app.mode.com/editor/belgravevalley/reports/c98c7b28c376). **Rememebr to also copy them under each question so you can have them as reference in the future**"
   ]
  },
  {
   "cell_type": "markdown",
   "metadata": {
    "Collapsed": "true"
   },
   "source": [
    "### <font color='blue'>Use the flights table for the following questions:</font>"
   ]
  },
  {
   "cell_type": "markdown",
   "metadata": {
    "Collapsed": "true"
   },
   "source": [
    "#### 1. Return all the columns from the flights table\n"
   ]
  },
  {
   "cell_type": "code",
   "execution_count": null,
   "metadata": {
    "Collapsed": "false"
   },
   "outputs": [],
   "source": [
    "SELECT * FROM tutorial.flights;"
   ]
  },
  {
   "cell_type": "markdown",
   "metadata": {
    "Collapsed": "true"
   },
   "source": [
    "#### 2. Return all the columns from the flights table where the destination_city is Atlanta"
   ]
  },
  {
   "cell_type": "code",
   "execution_count": null,
   "metadata": {
    "Collapsed": "false"
   },
   "outputs": [],
   "source": [
    "SELECT  \n",
    "  *\n",
    "FROM\n",
    "  tutorial.flights\n",
    "WHERE\n",
    "  destination_city = 'Atlanta';"
   ]
  },
  {
   "cell_type": "markdown",
   "metadata": {
    "Collapsed": "true"
   },
   "source": [
    "#### 3. Return all the columns from the flights table where the destination_city is Atlanta and arrival delay is less than 0\n"
   ]
  },
  {
   "cell_type": "code",
   "execution_count": null,
   "metadata": {
    "Collapsed": "false"
   },
   "outputs": [],
   "source": [
    "SELECT  \n",
    "  *\n",
    "FROM\n",
    "  tutorial.flights\n",
    "WHERE\n",
    "  destination_city = 'Atlanta'\n",
    "  and arrival_delay <0;"
   ]
  },
  {
   "cell_type": "markdown",
   "metadata": {
    "Collapsed": "true"
   },
   "source": [
    "#### 4. Return all the columns from the flights table where the destination city is Atlanta, Houston or New York\n"
   ]
  },
  {
   "cell_type": "code",
   "execution_count": null,
   "metadata": {
    "Collapsed": "false"
   },
   "outputs": [],
   "source": [
    "SELECT  \n",
    "  *\n",
    "FROM\n",
    "  tutorial.flights\n",
    "WHERE\n",
    "  destination_city IN ('Houston','Atlanta','New York');"
   ]
  },
  {
   "cell_type": "markdown",
   "metadata": {
    "Collapsed": "true"
   },
   "source": [
    "#### 5. Return all the unique destination state that cotain and 'm'\n"
   ]
  },
  {
   "cell_type": "code",
   "execution_count": null,
   "metadata": {
    "Collapsed": "false"
   },
   "outputs": [],
   "source": [
    "SELECT distinct\n",
    "  destination_state\n",
    "FROM\n",
    "  tutorial.flights\n",
    "WHERE\n",
    "  destination_state LIKE '%m%';"
   ]
  },
  {
   "cell_type": "markdown",
   "metadata": {
    "Collapsed": "true"
   },
   "source": [
    "#### 6. Return the airline name, arrival delay and destination aiport from the table flights where the orgin city is not San Francisco and the departure delay is greater than -5 and less than 5"
   ]
  },
  {
   "cell_type": "code",
   "execution_count": null,
   "metadata": {
    "Collapsed": "false"
   },
   "outputs": [],
   "source": [
    "SELECT\n",
    "  airline_name,\n",
    "  arrival_delay,\n",
    "  destination_airport\n",
    "FROM\n",
    "  tutorial.flights\n",
    "WHERE\n",
    "  origin_city != 'San Francisco'\n",
    "  AND departure_delay BETWEEN -5 AND 5\n",
    "ORDER BY\n",
    "  3 DESC"
   ]
  },
  {
   "cell_type": "markdown",
   "metadata": {
    "Collapsed": "true"
   },
   "source": [
    "### <font color='green'>Use the city_populations table for the following questions</font> "
   ]
  },
  {
   "cell_type": "markdown",
   "metadata": {
    "Collapsed": "true"
   },
   "source": [
    "####  7. Return the company name, company country code, investor name and raised amount for those companies founded in the period 2010-2012. Exclude those companies without country code and order by founded year descending."
   ]
  },
  {
   "cell_type": "code",
   "execution_count": null,
   "metadata": {
    "Collapsed": "false"
   },
   "outputs": [],
   "source": [
    "SELECT \n",
    "  company_name\n",
    "  ,company_country_code\n",
    "  ,investor_name\n",
    "  ,raised_amount_usd\n",
    "FROM \n",
    "  tutorial.crunchbase_investments \n",
    "\n",
    "WHERE\n",
    "  funded_year IN (2010,2011,2012)\n",
    "  and company_category_code IS NOT NULL\n",
    "ORDER BY\n",
    "  funded_year DESC;"
   ]
  },
  {
   "cell_type": "markdown",
   "metadata": {
    "Collapsed": "true"
   },
   "source": [
    "####  8. Return the company name, company_category_code and raised amount for those companies founded after 2013 under the category code analytics or web. Display the first 33 rows only."
   ]
  },
  {
   "cell_type": "code",
   "execution_count": null,
   "metadata": {
    "Collapsed": "false"
   },
   "outputs": [],
   "source": [
    "SELECT \n",
    "  company_name\n",
    "  ,company_category_code\n",
    "  ,raised_amount_usd\n",
    "FROM \n",
    "  tutorial.crunchbase_investments \n",
    "WHERE\n",
    "  funded_year >= 2013\n",
    "  and (company_category_code = 'analytics' OR company_category_code = 'web')\n",
    "LIMIT\n",
    "    33\n",
    ";"
   ]
  },
  {
   "cell_type": "markdown",
   "metadata": {
    "Collapsed": "true"
   },
   "source": [
    "#####  8.1 Which commands can you also use to get to the same result?"
   ]
  },
  {
   "cell_type": "code",
   "execution_count": null,
   "metadata": {
    "Collapsed": "false"
   },
   "outputs": [],
   "source": [
    "SELECT \n",
    "  company_name\n",
    "  ,company_category_code\n",
    "  ,raised_amount_usd\n",
    "FROM \n",
    "  tutorial.crunchbase_investments \n",
    "WHERE\n",
    "  funded_year >= 2013\n",
    "  and company_category_code IN ('analytics', 'web')\n",
    "LIMIT\n",
    "    33\n",
    ";"
   ]
  },
  {
   "cell_type": "markdown",
   "metadata": {
    "Collapsed": "true"
   },
   "source": [
    "####  9. Return the company name, company_category_code, funding_round_type and raised amount for those companies founded in  2010 were the category code is different than biotech or web and the investor city ends with K and they have raised more than 20 millions."
   ]
  },
  {
   "cell_type": "code",
   "execution_count": null,
   "metadata": {
    "Collapsed": "false"
   },
   "outputs": [],
   "source": [
    "SELECT \n",
    "  company_name\n",
    "  ,company_category_code\n",
    "  ,funding_round_type\n",
    "  ,raised_amount_usd\n",
    "FROM \n",
    "  tutorial.crunchbase_investments \n",
    "WHERE\n",
    "  funded_year = 2010\n",
    "  AND investor_city LIKE '%k'\n",
    "  AND company_category_code NOT IN ('biotech', 'web')\n",
    "  AND raised_amount_usd > 20000000\n",
    "   "
   ]
  },
  {
   "cell_type": "markdown",
   "metadata": {
    "Collapsed": "true"
   },
   "source": [
    "####  10. Return the name and raised amount of the top 3 companies who has raised the biggest series A round ever. Remove duplicates. Return the raised amount in millions and without decimals."
   ]
  },
  {
   "cell_type": "code",
   "execution_count": null,
   "metadata": {
    "Collapsed": "false"
   },
   "outputs": [],
   "source": [
    "SELECT DISTINCT \n",
    "  company_name,\n",
    "  round(cast((raised_amount_usd/1000000) as numeric),0)\n",
    "FROM \n",
    "  tutorial.crunchbase_investments \n",
    "WHERE \n",
    "  funding_round_type = 'series-a' \n",
    "  AND raised_amount_usd IS NOT NULL \n",
    "ORDER BY \n",
    "  2 desc\n",
    "LIMIT \n",
    "  3;"
   ]
  }
 ],
 "metadata": {
  "kernelspec": {
   "display_name": "Python 3",
   "language": "python",
   "name": "python3"
  },
  "language_info": {
   "codemirror_mode": {
    "name": "ipython",
    "version": 3
   },
   "file_extension": ".py",
   "mimetype": "text/x-python",
   "name": "python",
   "nbconvert_exporter": "python",
   "pygments_lexer": "ipython3",
   "version": "3.6.9"
  }
 },
 "nbformat": 4,
 "nbformat_minor": 4
}
