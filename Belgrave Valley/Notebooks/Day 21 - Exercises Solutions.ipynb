{
 "cells": [
  {
   "cell_type": "markdown",
   "metadata": {},
   "source": [
    "<img src=\"https://user-images.strikinglycdn.com/res/hrscywv4p/image/upload/c_limit,fl_lossy,h_300,w_300,f_auto,q_auto/1266110/Logo_wzxi0f.png\" style=\"float: left; margin: 20px; height: 55px\">"
   ]
  },
  {
   "cell_type": "markdown",
   "metadata": {
    "heading_collapsed": true
   },
   "source": [
    "# Day 21 - Exercises Solutions"
   ]
  },
  {
   "cell_type": "markdown",
   "metadata": {
    "heading_collapsed": true,
    "hidden": true
   },
   "source": [
    "## 1)"
   ]
  },
  {
   "cell_type": "markdown",
   "metadata": {
    "hidden": true
   },
   "source": [
    "The distribution of income is famously skewed to the right. In this exercise, we’ll measure how strong that skew is.\n",
    "The Current Population Survey (CPS) is a joint effort of the Bureau of Labor Statistics and the Census Bureau to study income and related variables. Data collected in 2013 is available from http://www.census.gov/hhes/www/cpstables/032013/hhinc/toc.htm. I downloaded `hinc06.xls`, which is an Excel spreadsheet with information about household income, and converted it to `hinc06.csv`, a CSV file you will find in the repository for this book. You will also find `hinc2.py`, which reads this file and transforms the data.\n",
    "\n",
    "The dataset is in the form of a series of income ranges and the number of respondents who fell in each range. The lowest range includes respondents who reported annual household income “Under \\$5000.” The highest range includes respondents who made “\\$250,000 or more.”\n",
    "\n",
    "To estimate mean and other statistics from these data, we have to make some assumptions about the lower and upper bounds, and how the values are distributed in each range. `hinc2.py` provides `InterpolateSample`, which shows one way to model this data. It takes a `DataFrame` with a column, `income`, that contains the upper bound of each range, and `freq`, which contains the number of respondents in each frame.\n",
    "\n",
    "It also takes `log_upper`, which is an assumed upper bound on the highest range, expressed in `log10` dollars. The default value, `log_upper=6.0` represents the assumption that the largest income among the respondents is $10^6$, or one million dollars.\n",
    "\n",
    "`InterpolateSample` generates a pseudo-sample; that is, a sample of household incomes that yields the same number of respondents in each range as the actual data. It assumes that incomes in each range are equally spaced on a `log10` scale."
   ]
  },
  {
   "cell_type": "code",
   "execution_count": 17,
   "metadata": {
    "hidden": true
   },
   "outputs": [],
   "source": [
    "def InterpolateSample(df, log_upper=6.0):\n",
    "    \"\"\"Makes a sample of log10 household income.\n",
    "\n",
    "    Assumes that log10 income is uniform in each range.\n",
    "\n",
    "    df: DataFrame with columns income and freq\n",
    "    log_upper: log10 of the assumed upper bound for the highest range\n",
    "\n",
    "    returns: NumPy array of log10 household income\n",
    "    \"\"\"\n",
    "    # compute the log10 of the upper bound for each range\n",
    "    df['log_upper'] = np.log10(df.income)\n",
    "\n",
    "    # geprobability density functiont the lower bounds by shifting the upper bound and filling in\n",
    "    # the first element\n",
    "    df['log_lower'] = df.log_upper.shift(1)\n",
    "    df.loc[0, 'log_lower'] = 3.0\n",
    "\n",
    "    # plug in a value for the unknown upper bound of the highest range\n",
    "    df.loc[41, 'log_upper'] = log_upper\n",
    "    \n",
    "    # use the freq column to generate the right number of values in\n",
    "    # each range\n",
    "    arrays = []\n",
    "    for _, row in df.iterrows():\n",
    "        vals = np.linspace(row.log_lower, row.log_upper, row.freq)\n",
    "        arrays.append(vals)\n",
    "\n",
    "    # collect the arrays into a single sample\n",
    "    log_sample = np.concatenate(arrays)\n",
    "    return log_sample\n"
   ]
  },
  {
   "cell_type": "code",
   "execution_count": 18,
   "metadata": {
    "hidden": true
   },
   "outputs": [],
   "source": [
    "from Thinkstats2 import hinc\n",
    "income_df = hinc.ReadData()"
   ]
  },
  {
   "cell_type": "code",
   "execution_count": 19,
   "metadata": {
    "hidden": true
   },
   "outputs": [
    {
     "name": "stderr",
     "output_type": "stream",
     "text": [
      "/home/javi/.local/lib/python3.6/site-packages/ipykernel_launcher.py:26: DeprecationWarning: object of type <class 'numpy.float64'> cannot be safely interpreted as an integer.\n"
     ]
    }
   ],
   "source": [
    "log_sample = InterpolateSample(income_df, log_upper=6.0)"
   ]
  },
  {
   "cell_type": "code",
   "execution_count": 20,
   "metadata": {
    "hidden": true
   },
   "outputs": [
    {
     "name": "stderr",
     "output_type": "stream",
     "text": [
      "No handles with labels found to put in legend.\n"
     ]
    },
    {
     "data": {
      "image/png": "[encoded data removed]",
      "text/plain": [
       "<Figure size 432x288 with 1 Axes>"
      ]
     },
     "metadata": {
      "needs_background": "light"
     },
     "output_type": "display_data"
    }
   ],
   "source": [
    "log_cdf = thinkstats2.Cdf(log_sample)\n",
    "thinkplot.Cdf(log_cdf)\n",
    "thinkplot.Config(xlabel='Household income (log $)',\n",
    "               ylabel='CDF')"
   ]
  },
  {
   "cell_type": "code",
   "execution_count": 21,
   "metadata": {
    "hidden": true
   },
   "outputs": [],
   "source": [
    "sample = np.power(10, log_sample)"
   ]
  },
  {
   "cell_type": "code",
   "execution_count": 22,
   "metadata": {
    "hidden": true
   },
   "outputs": [
    {
     "name": "stderr",
     "output_type": "stream",
     "text": [
      "No handles with labels found to put in legend.\n"
     ]
    },
    {
     "data": {
      "image/png": "[encoded data removed]",
      "text/plain": [
       "<Figure size 432x288 with 1 Axes>"
      ]
     },
     "metadata": {
      "needs_background": "light"
     },
     "output_type": "display_data"
    }
   ],
   "source": [
    "cdf = thinkstats2.Cdf(sample)\n",
    "thinkplot.Cdf(cdf)\n",
    "thinkplot.Config(xlabel='Household income ($)',\n",
    "               ylabel='CDF')"
   ]
  },
  {
   "cell_type": "markdown",
   "metadata": {
    "hidden": true
   },
   "source": [
    "Compute the median, mean, skewness and Pearson’s skewness of the resulting sample. What fraction of households report a taxable income below the mean? How do the results depend on the assumed upper bound?"
   ]
  },
  {
   "cell_type": "code",
   "execution_count": 26,
   "metadata": {
    "hidden": true
   },
   "outputs": [
    {
     "data": {
      "text/plain": [
       "74278.7075311872"
      ]
     },
     "execution_count": 26,
     "metadata": {},
     "output_type": "execute_result"
    }
   ],
   "source": [
    "# Solution\n",
    "sample.mean()"
   ]
  },
  {
   "cell_type": "code",
   "execution_count": 29,
   "metadata": {
    "hidden": true
   },
   "outputs": [
    {
     "data": {
      "text/plain": [
       "51226.93306562372"
      ]
     },
     "execution_count": 29,
     "metadata": {},
     "output_type": "execute_result"
    }
   ],
   "source": [
    "# Solution\n",
    "np.median(sample)"
   ]
  },
  {
   "cell_type": "code",
   "execution_count": 32,
   "metadata": {
    "hidden": true
   },
   "outputs": [
    {
     "data": {
      "text/plain": [
       "3.772785934812727"
      ]
     },
     "execution_count": 32,
     "metadata": {},
     "output_type": "execute_result"
    }
   ],
   "source": [
    "# Solution\n",
    "def StandardizedMoment(xs, k):\n",
    "    var = CentralMoment(xs, 2)\n",
    "    std = math.sqrt(var)\n",
    "    return CentralMoment(xs, k) / std**k\n",
    "\n",
    "def Skewness(xs):\n",
    "    return StandardizedMoment(xs, 3)\n",
    "\n",
    "Skewness(sample)"
   ]
  },
  {
   "cell_type": "code",
   "execution_count": 36,
   "metadata": {
    "hidden": true
   },
   "outputs": [
    {
     "data": {
      "text/plain": [
       "-1.2831878063605933"
      ]
     },
     "execution_count": 36,
     "metadata": {},
     "output_type": "execute_result"
    }
   ],
   "source": [
    "def Median(xs):\n",
    "    cdf = thinkstats2.Cdf(xs)\n",
    "    return cdf.Value(0.5)\n",
    "\n",
    "def PearsonMedianSkewness(xs):\n",
    "    median = Median(xs)\n",
    "    mean = RawMoment(xs, 1)\n",
    "    var = CentralMoment(xs, 2)\n",
    "    std = math.sqrt(var)\n",
    "    gp = 3 * (mean - median) / std\n",
    "    return gp\n",
    "\n",
    "PearsonMedianSkewness(sample)"
   ]
  },
  {
   "cell_type": "markdown",
   "metadata": {
    "hidden": true
   },
   "source": [
    "All of this is based on an assumption that the highest income is one million dollars, but that's certainly not correct.  What happens to the skew if the upper bound is 10 million?\n",
    "\n",
    "Without better information about the top of this distribution, we can't say much about the skewness of the distribution."
   ]
  },
  {
   "cell_type": "markdown",
   "metadata": {
    "hidden": true
   },
   "source": [
    "###### Javier Fernandez Suarez"
   ]
  }
 ],
 "metadata": {
  "kernelspec": {
   "display_name": "Python 3",
   "language": "python",
   "name": "python3"
  },
  "language_info": {
   "codemirror_mode": {
    "name": "ipython",
    "version": 3
   },
   "file_extension": ".py",
   "mimetype": "text/x-python",
   "name": "python",
   "nbconvert_exporter": "python",
   "pygments_lexer": "ipython3",
   "version": "3.7.3"
  },
  "toc": {
   "base_numbering": 1,
   "nav_menu": {},
   "number_sections": false,
   "sideBar": true,
   "skip_h1_title": false,
   "title_cell": "Contents",
   "title_sidebar": "Contents",
   "toc_cell": false,
   "toc_position": {
    "height": "calc(100% - 180px)",
    "left": "10px",
    "top": "150px",
    "width": "165px"
   },
   "toc_section_display": true,
   "toc_window_display": true
  }
 },
 "nbformat": 4,
 "nbformat_minor": 2
}
