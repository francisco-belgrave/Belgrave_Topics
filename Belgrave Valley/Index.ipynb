{
 "cells": [
  {
   "cell_type": "markdown",
   "metadata": {
    "Collapsed": "false"
   },
   "source": [
    "<img src=\"https://user-images.strikinglycdn.com/res/hrscywv4p/image/upload/c_limit,fl_lossy,h_300,w_300,f_auto,q_auto/1266110/Logo_wzxi0f.png\" style=\"float: left; margin: 20px; height: 55px\">"
   ]
  },
  {
   "cell_type": "markdown",
   "metadata": {
    "Collapsed": "false"
   },
   "source": [
    "# Index"
   ]
  },
  {
   "cell_type": "markdown",
   "metadata": {
    "Collapsed": "false"
   },
   "source": [
    "\n",
    "#### Built-in Python:\n",
    "\n",
    "**[Day 1 - Variables, List and For Loops](Notebooks/Day_01_Variables_Lists_and_For_Loops.ipynb)**\n",
    "- [Exercises](Notebooks/Day_01_Exercises.ipynb)\n",
    "- [Exercises Solutions](Notebooks/Day_01_Exercises_Solutions.ipynb)\n",
    "\n",
    "**[Day 2 - Conditional Statements, Dictionaries and Tuples](Notebooks/Day_02_Conditional_Statements_Dictionaries_and_Tuples.ipynb)**\n",
    "- [Exercises](Notebooks/Day_02_Exercises.ipynb)\n",
    "- [Exercises Solutions](Notebooks/Day_02_Exercises_Solutions.ipynb)\n",
    "\n",
    "**[Day 3 - Comparison Operators, Methods and Functions](Notebooks/Day_03_Comparison_Operators_Methods_and_Functions.ipynb)**\n",
    "- [Exercises](Notebooks/Day_03_Exercises.ipynb)\n",
    "- [Exercises Solutions](Notebooks/Day_03_Exercises_Solutions.ipynb)\n",
    "\n",
    "**[Day 4 - Operators, Nested Statements, args and kwargs](Notebooks/Day_04_Operators_Nested_Statements_args_and_kwargs.ipynb)**\n",
    "- [Exercises](Notebooks/Day_04_Exercises.ipynb)\n",
    "- [Exercises Solutions](Notebooks/Day_04_Exercises_Solutions.ipynb)\n",
    "\n",
    "#### Python Packages:\n",
    "\n",
    "**[Day 5 - Numpy](Notebooks/Day_05_Numpy.ipynb)**\n",
    "- [Exercises](Notebooks/Day_05_Exercises.ipynb)\n",
    "- [Exercises Solutions](Notebooks/Day_05_Exercises_Solutions.ipynb)\n",
    "\n",
    "**[Day 6 - Pandas](Notebooks/Day_06_Pandas.ipynb)**\n",
    "- [Exercises](Notebooks/Day_06_Exercises.ipynb)\n",
    "- [Exercises Solutions](Notebooks/Day_06_Exercises_Solutions.ipynb)\n",
    "\n",
    "**[Day 7 - Categorical & Dummy variables and Pandas Datetime](Notebooks/Day_07_Categorical_&_Dummy_Variables_and_Pandas_Datetime.ipynb)**\n",
    "- [Exercises](Notebooks/Day_07_Exercises.ipynb)\n",
    "- [Exercises Solutions](Notebooks/Day_07_Exercises_Solutions.ipynb)\n",
    "\n",
    "**[Day 8 - Matplotlib & Seaborn](Notebooks/Day_07_Categorical_&_Dummy_Variables_and_Pandas_Datetime.ipynb)**\n",
    "- [Exercises](Notebooks/Day_08_Exercises.ipynb)\n",
    "- [Exercises Solutions](Notebooks/Day_08_Exercises_Solutions.ipynb)"
   ]
  },
  {
   "cell_type": "code",
   "execution_count": null,
   "metadata": {
    "Collapsed": "false"
   },
   "outputs": [],
   "source": [
    "Day 3 included\n",
    "\n"
   ]
  }
 ],
 "metadata": {
  "kernelspec": {
   "display_name": "Python 3",
   "language": "python",
   "name": "python3"
  },
  "language_info": {
   "codemirror_mode": {
    "name": "ipython",
    "version": 3
   },
   "file_extension": ".py",
   "mimetype": "text/x-python",
   "name": "python",
   "nbconvert_exporter": "python",
   "pygments_lexer": "ipython3",
   "version": "3.7.3"
  }
 },
 "nbformat": 4,
 "nbformat_minor": 4
}
