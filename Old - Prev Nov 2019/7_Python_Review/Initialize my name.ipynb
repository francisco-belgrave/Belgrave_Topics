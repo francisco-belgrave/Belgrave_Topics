{
 "cells": [
  {
   "cell_type": "markdown",
   "metadata": {},
   "source": [
    "## Initialize my name\n",
    "\n",
    "Some people just have a first name; some people have first and last names and some people have first, middle and last names.\n",
    "\n",
    "You task is to initialize the middle names (if there is any).\n",
    "\n",
    "Examples:\n",
    "```\n",
    "'Jack Ryan'                   => 'Jack Ryan'\n",
    "'Lois Mary Lane'              => 'Lois M. Lane'\n",
    "'Dimitri'                     => 'Dimitri'\n",
    "'Alice Betty Catherine Davis' => 'Alice B. C. Davis'\n",
    "```"
   ]
  },
  {
   "cell_type": "code",
   "execution_count": null,
   "metadata": {
    "collapsed": true
   },
   "outputs": [],
   "source": []
  }
 ],
 "metadata": {
  "kernelspec": {
   "display_name": "Python [conda root]",
   "language": "python",
   "name": "conda-root-py"
  },
  "language_info": {
   "codemirror_mode": {
    "name": "ipython",
    "version": 2
   },
   "file_extension": ".py",
   "mimetype": "text/x-python",
   "name": "python",
   "nbconvert_exporter": "python",
   "pygments_lexer": "ipython2",
   "version": "2.7.12"
  }
 },
 "nbformat": 4,
 "nbformat_minor": 1
}
