{
 "cells": [
  {
   "cell_type": "markdown",
   "metadata": {},
   "source": [
    "## Credit card issuer checking\n",
    "\n",
    "Given a credit card number we can determine who the issuer/vendor is with a few basic knowns.\n",
    "\n",
    "Complete the function getIssuer() that will use the values shown below to determine the card issuer for a given card number. If the number cannot be matched then the function should return the string Unknown.\n",
    "\n",
    "\n",
    "<img src=\"card_issuer.png\" style=\"width: 400px\" >\n",
    "\n",
    "### Examples\n",
    "\n",
    "```\n",
    "getIssuer(4111111111111111) == \"VISA\"\n",
    "getIssuer(4111111111111) == \"VISA\"\n",
    "getIssuer(4012888888881881) == \"VISA\"\n",
    "getIssuer(378282246310005) == \"AMEX\"\n",
    "getIssuer(6011111111111117) == \"Discover\"\n",
    "getIssuer(5105105105105100) == \"Mastercard\"\n",
    "getIssuer(5105105105105106) == \"Mastercard\"\n",
    "getIssuer(9111111111111111) == \"Unknown\"\n",
    "```"
   ]
  },
  {
   "cell_type": "code",
   "execution_count": 5,
   "metadata": {
    "collapsed": false
   },
   "outputs": [],
   "source": [
    "#insert your code here\n",
    "def get_issuer():\n",
    "    return"
   ]
  },
  {
   "cell_type": "markdown",
   "metadata": {},
   "source": [
    "## Credit Card Mask\n",
    "\n",
    "Usually when you buy something, you're asked whether your credit card number, phone number or answer to your most secret question is still correct. However, since someone could look over your shoulder, you don't want that shown on your screen. Instead, we mask it.\n",
    "\n",
    "Your task is to write a function maskify, which changes all but the last four characters into '#'.\n",
    "\n",
    "### Examples\n",
    "\n",
    "```\n",
    "maskify(\"4556364607935616\") == \"############5616\"\n",
    "maskify(     \"64607935616\") ==      \"#######5616\"\n",
    "maskify(               \"1\") ==                \"1\"\n",
    "maskify(                \"\") ==                 \"\"\n",
    "\n",
    "# \"What was the name of your first pet?\"\n",
    "maskify(\"Skippy\")                                   == \"##ippy\"\n",
    "maskify(\"Nananananananananananananananana Batman!\") == \"####################################man!\"\n",
    "```"
   ]
  },
  {
   "cell_type": "code",
   "execution_count": 6,
   "metadata": {
    "collapsed": true
   },
   "outputs": [],
   "source": [
    "# write your function here\n",
    "def maskify(cc):\n",
    "    return "
   ]
  },
  {
   "cell_type": "markdown",
   "metadata": {},
   "source": [
    "## Find the missing letter\n",
    "\n",
    "Write a method that takes an array of consecutive (increasing) letters as input and that returns the missing letter in the array.\n",
    "\n",
    "You will always get an valid array. And it will be always exactly one letter be missing. The length of the array will always be at least 2.\n",
    "The array will always contain letters in only one case.\n",
    "\n",
    "Example:\n",
    "\n",
    "```\n",
    "['a','b','c','d','f'] -> 'e'\n",
    "['O','Q','R','S'] -> 'P'\n",
    "\n",
    "```"
   ]
  },
  {
   "cell_type": "code",
   "execution_count": 57,
   "metadata": {
    "collapsed": true
   },
   "outputs": [],
   "source": [
    "\n"
   ]
  }
 ],
 "metadata": {
  "anaconda-cloud": {},
  "kernelspec": {
   "display_name": "Python [conda root]",
   "language": "python",
   "name": "conda-root-py"
  },
  "language_info": {
   "codemirror_mode": {
    "name": "ipython",
    "version": 2
   },
   "file_extension": ".py",
   "mimetype": "text/x-python",
   "name": "python",
   "nbconvert_exporter": "python",
   "pygments_lexer": "ipython2",
   "version": "2.7.12"
  }
 },
 "nbformat": 4,
 "nbformat_minor": 1
}
