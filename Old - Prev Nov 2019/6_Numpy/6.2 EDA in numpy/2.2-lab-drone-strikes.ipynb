{
 "cells": [
  {
   "cell_type": "markdown",
   "metadata": {},
   "source": [
    "# Drone strike dataset\n",
    "\n",
    "**Challenge dataset**\n",
    "\n",
    "---\n",
    "\n",
    "This dataset, located in the `drone_strikes` folder, has a variety of information about drone strikes.\n",
    "\n",
    "I don't describe the columns, that is up to you as a group to infer/figure out.\n",
    "    \n",
    "This dataset is challenging for a variety of reasons. It is not cleaned up - there are missing cells. Relationships between variables are more complicated. A lot of the variables are in string format, and if you are interested in them, may need to be \"recoded\" as binary 1 vs. 0 in a new column.\n",
    "\n",
    "**If you choose this dataset it is as much a data cleaning lab as an EDA lab. Buyer beware.**\n",
    "\n",
    "---\n",
    "\n",
    "### Requirements\n",
    "\n",
    "As a group you should:\n",
    "\n",
    "1. Load and clean, if neccessary, the data with pandas.\n",
    "2. Identify variables and subsets of the data your are interested in as a group.\n",
    "2. Describe the data and investigate outliers for those variables.\n",
    "3. Explore relationships between variables.\n",
    "4. Visualize at least three variables of your choice with appropriate visualizations. They should be readable.\n",
    "5. Visualize subsets of the variables you chose, subsetted conditional on some other variable. For example, number of attendance in the stadium a team by opponent.\n",
    "6. Write a brief report on at least 5 things you found interesting about the data or, if it doesn't interest you at all, things you found out and why they are boring.\n",
    "\n"
   ]
  },
  {
   "cell_type": "code",
   "execution_count": null,
   "metadata": {
    "collapsed": true
   },
   "outputs": [],
   "source": []
  }
 ],
 "metadata": {
  "anaconda-cloud": {},
  "kernelspec": {
   "display_name": "Python [default]",
   "language": "python",
   "name": "python2"
  },
  "language_info": {
   "codemirror_mode": {
    "name": "ipython",
    "version": 2
   },
   "file_extension": ".py",
   "mimetype": "text/x-python",
   "name": "python",
   "nbconvert_exporter": "python",
   "pygments_lexer": "ipython2",
   "version": "2.7.12"
  }
 },
 "nbformat": 4,
 "nbformat_minor": 0
}
