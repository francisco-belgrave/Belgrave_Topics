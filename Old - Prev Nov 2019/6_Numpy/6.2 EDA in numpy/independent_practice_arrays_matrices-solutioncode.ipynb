{
 "cells": [
  {
   "cell_type": "markdown",
   "metadata": {},
   "source": [
    "# Independent Practice Arrays and Matrices\n",
    "\n",
    "## Independent practice: vector operations \n",
    "\n",
    "For the following exercises use either tuples or lists for vectors. With the rules from above,\n",
    "\n",
    "* discuss with your neighbour how addition, subtraction, and multiplication of a vector with a number work.\n",
    "* write a function that adds two vectors to each other\n",
    "* write a function that subtracts two vectors from each other\n",
    "* write a function that multiplies a vector by a number\n",
    "* write a function that calculates the length of a vector\n",
    "* write a function that calculates the scalar product of two vectors\n",
    "\n",
    "* Using the vectors $vec_1$, $vec_2$\n",
    "    * calculate $3\\cdot vec_1 + 2\\cdot vec_2$\n",
    "    * calculate $-0.5\\cdot vec_1 + 3\\cdot vec_2$\n",
    "    * obtain the lenghts of the vectors $vec_1$, $vec_2$\n",
    "    * obtain the scalar product of the vectors $vec_1$, $vec_2$"
   ]
  },
  {
   "cell_type": "code",
   "execution_count": 1,
   "metadata": {
    "collapsed": true
   },
   "outputs": [],
   "source": [
    "vec_1 = [2, 4, 1]\n",
    "vec_2 = [1, 3, 0]"
   ]
  },
  {
   "cell_type": "code",
   "execution_count": 2,
   "metadata": {
    "collapsed": true
   },
   "outputs": [],
   "source": [
    "def vec_add(vec_1,vec_2):\n",
    "    vec_sum = [sum(comp) for comp in zip(vec_1,vec_2)]\n",
    "    return vec_sum\n",
    "def vec_sub(vec_1,vec_2):\n",
    "    vec_sub = [(comp[0]-comp[1]) for comp in zip(vec_1,vec_2)]\n",
    "    return vec_sub\n",
    "def vec_mult(vec,mult=1):\n",
    "    return [mult*v for v in vec]\n",
    "def vec_len(vec):\n",
    "    vec_len = sum(comp**2 for comp in vec)**0.5\n",
    "    return vec_len\n",
    "def vec_dot(vec_1,vec_2):\n",
    "    vec_dot = sum((comp[0]*comp[1]) for comp in zip(vec_1,vec_2))\n",
    "    return vec_dot"
   ]
  },
  {
   "cell_type": "code",
   "execution_count": 3,
   "metadata": {
    "collapsed": false
   },
   "outputs": [
    {
     "name": "stdout",
     "output_type": "stream",
     "text": [
      "vec_1 + vec_2: [3, 7, 1]\n",
      "vec_1 - vec_2: [1, 1, 1]\n",
      "3*vec_1: [6, 12, 3]\n",
      "|vec_1|: 4.58257569496\n",
      "|vec_2|: 3.16227766017\n",
      "|vec_1 times vec_2| 14\n"
     ]
    }
   ],
   "source": [
    "print 'vec_1 + vec_2:', vec_add(vec_1,vec_2)\n",
    "print 'vec_1 - vec_2:', vec_sub(vec_1,vec_2)\n",
    "print '3*vec_1:', vec_mult(vec_1,3)\n",
    "print '|vec_1|:', vec_len(vec_1)\n",
    "print '|vec_2|:', vec_len(vec_2)\n",
    "print '|vec_1 times vec_2|', vec_dot(vec_1,vec_2)"
   ]
  },
  {
   "cell_type": "code",
   "execution_count": 4,
   "metadata": {
    "collapsed": false
   },
   "outputs": [
    {
     "name": "stdout",
     "output_type": "stream",
     "text": [
      "3 vec_1 + 2 vec_2: [8, 18, 3]\n",
      "-0.5 vec_1 + 3 vec_2: [2.0, 7.0, -0.5]\n"
     ]
    }
   ],
   "source": [
    "print '3 vec_1 + 2 vec_2:', [(3*comp[0]+2*comp[1]) for comp in zip(vec_1,vec_2)]\n",
    "print '-0.5 vec_1 + 3 vec_2:', [(-0.5*comp[0]+3*comp[1]) for comp in zip(vec_1,vec_2)]"
   ]
  },
  {
   "cell_type": "code",
   "execution_count": 5,
   "metadata": {
    "collapsed": false
   },
   "outputs": [
    {
     "name": "stdout",
     "output_type": "stream",
     "text": [
      "3 vec_1 + 2 vec_2: [8, 18, 3]\n",
      "-0.5 vec_1 + 3 vec_2: [2.0, 7.0, -0.5]\n"
     ]
    }
   ],
   "source": [
    "print '3 vec_1 + 2 vec_2:', vec_add(vec_mult(vec_1,3),vec_mult(vec_2,2))\n",
    "print '-0.5 vec_1 + 3 vec_2:', vec_add(vec_mult(vec_1,-0.5),vec_mult(vec_2,3))"
   ]
  },
  {
   "cell_type": "markdown",
   "metadata": {},
   "source": [
    "## Independent practice: matrix multiplication\n",
    "\n",
    "For the following exercises use either tuples or lists for vectors and matrices. With the rules from above,\n",
    "\n",
    "* write a function that returns the rows of a matrix\n",
    "* write a function that returns the columns of a matrix\n",
    "* write a function that multiplies a matrix with a vector\n",
    "* write a function that multiplies a matrix with a matrix\n",
    "* check that with your functions you fulfill $B\\cdot(A\\cdot x) = (B\\cdot A)\\cdot x$ \n",
    "* write a function which exchanges each component $A_{ij}$ of a matrix $A$ with the component $A_{ji}$. The resulting matrix is called the transpose of A denoted as $A^T$.\n",
    "\n",
    "Verify your results with the examples from the lesson."
   ]
  },
  {
   "cell_type": "code",
   "execution_count": 6,
   "metadata": {
    "collapsed": true
   },
   "outputs": [],
   "source": [
    "A = [[2,1],[-2,3]]"
   ]
  },
  {
   "cell_type": "code",
   "execution_count": 7,
   "metadata": {
    "collapsed": true
   },
   "outputs": [],
   "source": [
    "A_mat = [[1,3,4],[0,1,2],[1,0,0]]\n",
    "B_mat = [[2,3,0],[0,1,4],[1,0,1]]"
   ]
  },
  {
   "cell_type": "code",
   "execution_count": 8,
   "metadata": {
    "collapsed": true
   },
   "outputs": [],
   "source": [
    "def matrix_rows(A):\n",
    "    rows = []\n",
    "    for k in range(len(A)):\n",
    "         rows.append([A[k][i] for i in range(len(A[0]))])\n",
    "    return rows\n",
    "def matrix_columns(A):\n",
    "    columns = []\n",
    "    for k in range(len(A[0])):\n",
    "         columns.append([A[i][k] for i in range(len(A))])\n",
    "    return columns"
   ]
  },
  {
   "cell_type": "code",
   "execution_count": 9,
   "metadata": {
    "collapsed": false
   },
   "outputs": [
    {
     "name": "stdout",
     "output_type": "stream",
     "text": [
      "[2, 1]\n",
      "[-2, 3]\n",
      "[2, -2]\n",
      "[1, 3]\n"
     ]
    }
   ],
   "source": [
    "for row in matrix_rows(A):\n",
    "    print row\n",
    "for col in matrix_columns(A):\n",
    "    print col"
   ]
  },
  {
   "cell_type": "code",
   "execution_count": 10,
   "metadata": {
    "collapsed": true
   },
   "outputs": [],
   "source": [
    "def mat_vec_dot(A,vec):\n",
    "    vec_temp = [vec_dot(row,vec) for row in matrix_rows(A)]\n",
    "    return vec_temp\n",
    "\n",
    "def mat_mat_dot(A,B):\n",
    "    prod = [[vec_dot(row,column) for column in matrix_columns(B)] for row in matrix_rows(A)]\n",
    "    return prod\n",
    "\n",
    "def mat_transpose(A):\n",
    "    C = []\n",
    "    for i in range(len(A)):\n",
    "        vec_temp = []\n",
    "        for j in range(len(A)):\n",
    "            vec_temp.append(A[j][i])\n",
    "        C.append(vec_temp)\n",
    "    return C"
   ]
  },
  {
   "cell_type": "code",
   "execution_count": 11,
   "metadata": {
    "collapsed": false
   },
   "outputs": [
    {
     "name": "stdout",
     "output_type": "stream",
     "text": [
      "Matrix-vector product:\n",
      "[18, 6, 2]\n",
      "Matrix-matrix product:\n",
      "[[6, 6, 16], [2, 1, 6], [2, 3, 0]]\n",
      "Note that the order matters:\n",
      "[[2, 9, 14], [4, 1, 2], [2, 3, 4]]\n",
      "Verifying B (A x):\n",
      "[54, 14, 20]\n",
      "Verifying (B A) x:\n",
      "[54, 14, 20]\n",
      "Verifying B (A x) - (B A) x:\n",
      "[0, 0, 0]\n",
      "The matrix B_mat:\n",
      "[[2, 3, 0], [0, 1, 4], [1, 0, 1]]\n",
      "The transpose of B_mat:\n",
      "[[2, 0, 1], [3, 1, 0], [0, 4, 1]]\n"
     ]
    }
   ],
   "source": [
    "print \"Matrix-vector product:\"\n",
    "print mat_vec_dot(A_mat,vec_1)\n",
    "print \"Matrix-matrix product:\"\n",
    "print mat_mat_dot(A_mat,B_mat)\n",
    "print \"Note that the order matters:\"\n",
    "print mat_mat_dot(B_mat,A_mat)\n",
    "print \"Verifying B (A x):\"\n",
    "print mat_vec_dot(mat_mat_dot(B_mat,A_mat),vec_1)\n",
    "print \"Verifying (B A) x:\"\n",
    "print mat_vec_dot(B_mat,mat_vec_dot(A_mat,vec_1))\n",
    "print \"Verifying B (A x) - (B A) x:\"\n",
    "print vec_sub(mat_vec_dot(mat_mat_dot(B_mat,A_mat),vec_1),mat_vec_dot(B_mat,mat_vec_dot(A_mat,vec_1)))\n",
    "print \"The matrix B_mat:\"\n",
    "print B_mat\n",
    "print \"The transpose of B_mat:\"\n",
    "print mat_transpose(B_mat)"
   ]
  },
  {
   "cell_type": "code",
   "execution_count": null,
   "metadata": {
    "collapsed": true
   },
   "outputs": [],
   "source": []
  }
 ],
 "metadata": {
  "kernelspec": {
   "display_name": "Python [conda root]",
   "language": "python",
   "name": "conda-root-py"
  },
  "language_info": {
   "codemirror_mode": {
    "name": "ipython",
    "version": 2
   },
   "file_extension": ".py",
   "mimetype": "text/x-python",
   "name": "python",
   "nbconvert_exporter": "python",
   "pygments_lexer": "ipython2",
   "version": "2.7.12"
  }
 },
 "nbformat": 4,
 "nbformat_minor": 1
}
