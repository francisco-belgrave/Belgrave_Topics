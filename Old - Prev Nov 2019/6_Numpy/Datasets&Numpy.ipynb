{
 "cells": [
  {
   "cell_type": "markdown",
   "metadata": {},
   "source": [
    " \n",
    "# Datasets & NumPy\n",
    "\n",
    "## Introduction\n",
    "\n",
    "> ***Note:*** _This can be a pair programming activity or done independently._\n",
    "\n",
    "From previous days, you're already familiar with:\n",
    "\n",
    "- Fundamental python concepts\n",
    "- Iteration and looping\n",
    "- Manipulation of dictionaries and lists\n",
    "- Functions\n",
    "\n",
    "Today we've added a lot more concepts on top of that:\n",
    "\n",
    "- Numpy and scipy statistics functions\n",
    "- List comprehensions\n",
    "- Reading in csv files with python\n",
    "- Basic statistical concepts on descriptive statistics and distributions\n",
    "\n",
    "In this lab you're going to combine everything we've learned so far!\n",
    "\n",
    "#### Requirements\n",
    "\n",
    "- Load the \"sales_data.csv\" with python\n",
    "- Construct a dictionary version of the data, with keys as column names and values as column data\n",
    "- Write a function to describe measures of central tendency and measures of variance for the data\n",
    "- Plot the data distributions and think about the skewness (or symmetry) of the data.\n"
   ]
  },
  {
   "cell_type": "code",
   "execution_count": null,
   "metadata": {
    "collapsed": true
   },
   "outputs": [],
   "source": []
  }
 ],
 "metadata": {
  "anaconda-cloud": {},
  "kernelspec": {
   "display_name": "Python [conda root]",
   "language": "python",
   "name": "conda-root-py"
  },
  "language_info": {
   "codemirror_mode": {
    "name": "ipython",
    "version": 2
   },
   "file_extension": ".py",
   "mimetype": "text/x-python",
   "name": "python",
   "nbconvert_exporter": "python",
   "pygments_lexer": "ipython2",
   "version": "2.7.12"
  }
 },
 "nbformat": 4,
 "nbformat_minor": 1
}
