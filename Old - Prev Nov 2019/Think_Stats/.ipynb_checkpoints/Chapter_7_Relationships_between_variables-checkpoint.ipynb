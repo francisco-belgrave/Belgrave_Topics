{
 "cells": [
  {
   "cell_type": "markdown",
   "metadata": {},
   "source": [
    "# Relationships between variables\n",
    "\n",
    "So far we have only looked at one variable at a time. In this chapter we look at relationships between variables. Two variables are related if knowing one gives you information about the other. For example, height and weight\n",
    "are related; people who are taller tend to be heavier. Of course, it is not a perfect relationship: there are short heavy people and tall light ones. But if you are trying to guess someone’s weight, you will be more accurate if you\n",
    "know their height than if you don’t.\n",
    "\n",
    "The code for this chapter is in scatter.py.\n",
    "\n",
    "## Scatter plots\n",
    "\n",
    "The simplest way to check for a relationship between two variables is a **scatter plot**, but making a good scatter plot is not always easy. As an example, plot weight versus height for the respondents in the BRFSS."
   ]
  },
  {
   "cell_type": "code",
   "execution_count": 1,
   "metadata": {},
   "outputs": [],
   "source": [
    "from Thinkstats2 import brfss\n",
    "import thinkstats2"
   ]
  },
  {
   "cell_type": "code",
   "execution_count": 2,
   "metadata": {},
   "outputs": [],
   "source": [
    "df = brfss.ReadBrfss(nrows=None, filename='Thinkstats2/CDBRFS08.ASC.gz')"
   ]
  },
  {
   "cell_type": "code",
   "execution_count": 3,
   "metadata": {},
   "outputs": [
    {
     "data": {
      "text/html": [
       "<div>\n",
       "<style scoped>\n",
       "    .dataframe tbody tr th:only-of-type {\n",
       "        vertical-align: middle;\n",
       "    }\n",
       "\n",
       "    .dataframe tbody tr th {\n",
       "        vertical-align: top;\n",
       "    }\n",
       "\n",
       "    .dataframe thead th {\n",
       "        text-align: right;\n",
       "    }\n",
       "</style>\n",
       "<table border=\"1\" class=\"dataframe\">\n",
       "  <thead>\n",
       "    <tr style=\"text-align: right;\">\n",
       "      <th></th>\n",
       "      <th>age</th>\n",
       "      <th>sex</th>\n",
       "      <th>wtyrago</th>\n",
       "      <th>finalwt</th>\n",
       "      <th>wtkg2</th>\n",
       "      <th>htm3</th>\n",
       "    </tr>\n",
       "  </thead>\n",
       "  <tbody>\n",
       "    <tr>\n",
       "      <th>0</th>\n",
       "      <td>82.0</td>\n",
       "      <td>2</td>\n",
       "      <td>76.363636</td>\n",
       "      <td>185.870345</td>\n",
       "      <td>70.91</td>\n",
       "      <td>157.0</td>\n",
       "    </tr>\n",
       "    <tr>\n",
       "      <th>1</th>\n",
       "      <td>65.0</td>\n",
       "      <td>2</td>\n",
       "      <td>72.727273</td>\n",
       "      <td>126.603027</td>\n",
       "      <td>72.73</td>\n",
       "      <td>163.0</td>\n",
       "    </tr>\n",
       "    <tr>\n",
       "      <th>3</th>\n",
       "      <td>61.0</td>\n",
       "      <td>1</td>\n",
       "      <td>73.636364</td>\n",
       "      <td>517.926275</td>\n",
       "      <td>73.64</td>\n",
       "      <td>170.0</td>\n",
       "    </tr>\n",
       "    <tr>\n",
       "      <th>4</th>\n",
       "      <td>26.0</td>\n",
       "      <td>1</td>\n",
       "      <td>88.636364</td>\n",
       "      <td>1252.624630</td>\n",
       "      <td>88.64</td>\n",
       "      <td>185.0</td>\n",
       "    </tr>\n",
       "    <tr>\n",
       "      <th>5</th>\n",
       "      <td>42.0</td>\n",
       "      <td>1</td>\n",
       "      <td>118.181818</td>\n",
       "      <td>415.161314</td>\n",
       "      <td>109.09</td>\n",
       "      <td>183.0</td>\n",
       "    </tr>\n",
       "    <tr>\n",
       "      <th>6</th>\n",
       "      <td>40.0</td>\n",
       "      <td>2</td>\n",
       "      <td>50.000000</td>\n",
       "      <td>422.810541</td>\n",
       "      <td>50.00</td>\n",
       "      <td>157.0</td>\n",
       "    </tr>\n",
       "    <tr>\n",
       "      <th>7</th>\n",
       "      <td>24.0</td>\n",
       "      <td>2</td>\n",
       "      <td>131.818182</td>\n",
       "      <td>1280.585980</td>\n",
       "      <td>122.73</td>\n",
       "      <td>178.0</td>\n",
       "    </tr>\n",
       "    <tr>\n",
       "      <th>8</th>\n",
       "      <td>37.0</td>\n",
       "      <td>1</td>\n",
       "      <td>87.727273</td>\n",
       "      <td>1245.060440</td>\n",
       "      <td>90.00</td>\n",
       "      <td>178.0</td>\n",
       "    </tr>\n",
       "    <tr>\n",
       "      <th>9</th>\n",
       "      <td>65.0</td>\n",
       "      <td>1</td>\n",
       "      <td>77.272727</td>\n",
       "      <td>382.738158</td>\n",
       "      <td>77.27</td>\n",
       "      <td>173.0</td>\n",
       "    </tr>\n",
       "    <tr>\n",
       "      <th>10</th>\n",
       "      <td>28.0</td>\n",
       "      <td>1</td>\n",
       "      <td>52.272727</td>\n",
       "      <td>3131.561570</td>\n",
       "      <td>63.64</td>\n",
       "      <td>170.0</td>\n",
       "    </tr>\n",
       "    <tr>\n",
       "      <th>11</th>\n",
       "      <td>68.0</td>\n",
       "      <td>2</td>\n",
       "      <td>86.363636</td>\n",
       "      <td>506.412109</td>\n",
       "      <td>78.18</td>\n",
       "      <td>168.0</td>\n",
       "    </tr>\n",
       "    <tr>\n",
       "      <th>12</th>\n",
       "      <td>40.0</td>\n",
       "      <td>2</td>\n",
       "      <td>62.727273</td>\n",
       "      <td>422.810541</td>\n",
       "      <td>62.73</td>\n",
       "      <td>175.0</td>\n",
       "    </tr>\n",
       "    <tr>\n",
       "      <th>13</th>\n",
       "      <td>49.0</td>\n",
       "      <td>1</td>\n",
       "      <td>127.272727</td>\n",
       "      <td>274.170333</td>\n",
       "      <td>127.27</td>\n",
       "      <td>183.0</td>\n",
       "    </tr>\n",
       "    <tr>\n",
       "      <th>14</th>\n",
       "      <td>24.0</td>\n",
       "      <td>2</td>\n",
       "      <td>95.454545</td>\n",
       "      <td>2561.171960</td>\n",
       "      <td>95.45</td>\n",
       "      <td>175.0</td>\n",
       "    </tr>\n",
       "    <tr>\n",
       "      <th>15</th>\n",
       "      <td>49.0</td>\n",
       "      <td>2</td>\n",
       "      <td>88.636364</td>\n",
       "      <td>181.063210</td>\n",
       "      <td>88.64</td>\n",
       "      <td>157.0</td>\n",
       "    </tr>\n",
       "    <tr>\n",
       "      <th>16</th>\n",
       "      <td>36.0</td>\n",
       "      <td>2</td>\n",
       "      <td>113.636364</td>\n",
       "      <td>211.405271</td>\n",
       "      <td>90.91</td>\n",
       "      <td>168.0</td>\n",
       "    </tr>\n",
       "    <tr>\n",
       "      <th>18</th>\n",
       "      <td>65.0</td>\n",
       "      <td>2</td>\n",
       "      <td>100.000000</td>\n",
       "      <td>253.206055</td>\n",
       "      <td>100.00</td>\n",
       "      <td>160.0</td>\n",
       "    </tr>\n",
       "    <tr>\n",
       "      <th>19</th>\n",
       "      <td>75.0</td>\n",
       "      <td>2</td>\n",
       "      <td>72.727273</td>\n",
       "      <td>185.870345</td>\n",
       "      <td>72.73</td>\n",
       "      <td>165.0</td>\n",
       "    </tr>\n",
       "    <tr>\n",
       "      <th>20</th>\n",
       "      <td>67.0</td>\n",
       "      <td>1</td>\n",
       "      <td>76.363636</td>\n",
       "      <td>382.738158</td>\n",
       "      <td>76.36</td>\n",
       "      <td>157.0</td>\n",
       "    </tr>\n",
       "    <tr>\n",
       "      <th>21</th>\n",
       "      <td>27.0</td>\n",
       "      <td>2</td>\n",
       "      <td>63.636364</td>\n",
       "      <td>330.717253</td>\n",
       "      <td>63.64</td>\n",
       "      <td>155.0</td>\n",
       "    </tr>\n",
       "    <tr>\n",
       "      <th>22</th>\n",
       "      <td>55.0</td>\n",
       "      <td>2</td>\n",
       "      <td>54.545455</td>\n",
       "      <td>153.403814</td>\n",
       "      <td>55.45</td>\n",
       "      <td>165.0</td>\n",
       "    </tr>\n",
       "    <tr>\n",
       "      <th>23</th>\n",
       "      <td>78.0</td>\n",
       "      <td>1</td>\n",
       "      <td>79.545455</td>\n",
       "      <td>438.143347</td>\n",
       "      <td>78.18</td>\n",
       "      <td>183.0</td>\n",
       "    </tr>\n",
       "    <tr>\n",
       "      <th>25</th>\n",
       "      <td>48.0</td>\n",
       "      <td>2</td>\n",
       "      <td>61.818182</td>\n",
       "      <td>271.502466</td>\n",
       "      <td>71.82</td>\n",
       "      <td>157.0</td>\n",
       "    </tr>\n",
       "    <tr>\n",
       "      <th>26</th>\n",
       "      <td>65.0</td>\n",
       "      <td>1</td>\n",
       "      <td>77.272727</td>\n",
       "      <td>382.738158</td>\n",
       "      <td>77.27</td>\n",
       "      <td>173.0</td>\n",
       "    </tr>\n",
       "    <tr>\n",
       "      <th>27</th>\n",
       "      <td>42.0</td>\n",
       "      <td>2</td>\n",
       "      <td>52.272727</td>\n",
       "      <td>422.810541</td>\n",
       "      <td>62.73</td>\n",
       "      <td>157.0</td>\n",
       "    </tr>\n",
       "    <tr>\n",
       "      <th>28</th>\n",
       "      <td>70.0</td>\n",
       "      <td>2</td>\n",
       "      <td>59.090909</td>\n",
       "      <td>126.603027</td>\n",
       "      <td>59.09</td>\n",
       "      <td>157.0</td>\n",
       "    </tr>\n",
       "    <tr>\n",
       "      <th>29</th>\n",
       "      <td>80.0</td>\n",
       "      <td>2</td>\n",
       "      <td>65.909091</td>\n",
       "      <td>185.870345</td>\n",
       "      <td>65.91</td>\n",
       "      <td>165.0</td>\n",
       "    </tr>\n",
       "    <tr>\n",
       "      <th>30</th>\n",
       "      <td>67.0</td>\n",
       "      <td>2</td>\n",
       "      <td>72.727273</td>\n",
       "      <td>126.603027</td>\n",
       "      <td>72.73</td>\n",
       "      <td>165.0</td>\n",
       "    </tr>\n",
       "    <tr>\n",
       "      <th>31</th>\n",
       "      <td>51.0</td>\n",
       "      <td>2</td>\n",
       "      <td>51.363636</td>\n",
       "      <td>181.063210</td>\n",
       "      <td>51.36</td>\n",
       "      <td>157.0</td>\n",
       "    </tr>\n",
       "    <tr>\n",
       "      <th>32</th>\n",
       "      <td>75.0</td>\n",
       "      <td>2</td>\n",
       "      <td>68.181818</td>\n",
       "      <td>185.870345</td>\n",
       "      <td>68.18</td>\n",
       "      <td>173.0</td>\n",
       "    </tr>\n",
       "    <tr>\n",
       "      <th>...</th>\n",
       "      <td>...</td>\n",
       "      <td>...</td>\n",
       "      <td>...</td>\n",
       "      <td>...</td>\n",
       "      <td>...</td>\n",
       "      <td>...</td>\n",
       "    </tr>\n",
       "    <tr>\n",
       "      <th>414474</th>\n",
       "      <td>58.0</td>\n",
       "      <td>1</td>\n",
       "      <td>87.727273</td>\n",
       "      <td>19.272662</td>\n",
       "      <td>87.73</td>\n",
       "      <td>170.0</td>\n",
       "    </tr>\n",
       "    <tr>\n",
       "      <th>414475</th>\n",
       "      <td>30.0</td>\n",
       "      <td>1</td>\n",
       "      <td>102.272727</td>\n",
       "      <td>46.875400</td>\n",
       "      <td>113.64</td>\n",
       "      <td>183.0</td>\n",
       "    </tr>\n",
       "    <tr>\n",
       "      <th>414476</th>\n",
       "      <td>69.0</td>\n",
       "      <td>2</td>\n",
       "      <td>89.545455</td>\n",
       "      <td>6.780570</td>\n",
       "      <td>83.64</td>\n",
       "      <td>170.0</td>\n",
       "    </tr>\n",
       "    <tr>\n",
       "      <th>414478</th>\n",
       "      <td>35.0</td>\n",
       "      <td>2</td>\n",
       "      <td>56.818182</td>\n",
       "      <td>30.450983</td>\n",
       "      <td>56.82</td>\n",
       "      <td>163.0</td>\n",
       "    </tr>\n",
       "    <tr>\n",
       "      <th>414479</th>\n",
       "      <td>52.0</td>\n",
       "      <td>2</td>\n",
       "      <td>68.181818</td>\n",
       "      <td>18.649614</td>\n",
       "      <td>70.45</td>\n",
       "      <td>160.0</td>\n",
       "    </tr>\n",
       "    <tr>\n",
       "      <th>414480</th>\n",
       "      <td>62.0</td>\n",
       "      <td>1</td>\n",
       "      <td>89.090909</td>\n",
       "      <td>7.709065</td>\n",
       "      <td>89.09</td>\n",
       "      <td>178.0</td>\n",
       "    </tr>\n",
       "    <tr>\n",
       "      <th>414481</th>\n",
       "      <td>50.0</td>\n",
       "      <td>1</td>\n",
       "      <td>79.545455</td>\n",
       "      <td>13.339183</td>\n",
       "      <td>76.36</td>\n",
       "      <td>178.0</td>\n",
       "    </tr>\n",
       "    <tr>\n",
       "      <th>414482</th>\n",
       "      <td>61.0</td>\n",
       "      <td>2</td>\n",
       "      <td>51.363636</td>\n",
       "      <td>10.347511</td>\n",
       "      <td>51.36</td>\n",
       "      <td>157.0</td>\n",
       "    </tr>\n",
       "    <tr>\n",
       "      <th>414483</th>\n",
       "      <td>65.0</td>\n",
       "      <td>2</td>\n",
       "      <td>77.272727</td>\n",
       "      <td>13.561141</td>\n",
       "      <td>68.18</td>\n",
       "      <td>160.0</td>\n",
       "    </tr>\n",
       "    <tr>\n",
       "      <th>414484</th>\n",
       "      <td>39.0</td>\n",
       "      <td>2</td>\n",
       "      <td>81.818182</td>\n",
       "      <td>15.225492</td>\n",
       "      <td>87.27</td>\n",
       "      <td>170.0</td>\n",
       "    </tr>\n",
       "    <tr>\n",
       "      <th>414485</th>\n",
       "      <td>27.0</td>\n",
       "      <td>2</td>\n",
       "      <td>68.181818</td>\n",
       "      <td>37.495182</td>\n",
       "      <td>77.27</td>\n",
       "      <td>157.0</td>\n",
       "    </tr>\n",
       "    <tr>\n",
       "      <th>414488</th>\n",
       "      <td>70.0</td>\n",
       "      <td>1</td>\n",
       "      <td>100.000000</td>\n",
       "      <td>14.994430</td>\n",
       "      <td>102.27</td>\n",
       "      <td>175.0</td>\n",
       "    </tr>\n",
       "    <tr>\n",
       "      <th>414489</th>\n",
       "      <td>23.0</td>\n",
       "      <td>2</td>\n",
       "      <td>92.727273</td>\n",
       "      <td>22.632437</td>\n",
       "      <td>86.36</td>\n",
       "      <td>163.0</td>\n",
       "    </tr>\n",
       "    <tr>\n",
       "      <th>414490</th>\n",
       "      <td>54.0</td>\n",
       "      <td>1</td>\n",
       "      <td>71.818182</td>\n",
       "      <td>30.926341</td>\n",
       "      <td>71.82</td>\n",
       "      <td>170.0</td>\n",
       "    </tr>\n",
       "    <tr>\n",
       "      <th>414492</th>\n",
       "      <td>65.0</td>\n",
       "      <td>2</td>\n",
       "      <td>70.454545</td>\n",
       "      <td>6.780570</td>\n",
       "      <td>70.45</td>\n",
       "      <td>157.0</td>\n",
       "    </tr>\n",
       "    <tr>\n",
       "      <th>414493</th>\n",
       "      <td>50.0</td>\n",
       "      <td>2</td>\n",
       "      <td>56.818182</td>\n",
       "      <td>22.376276</td>\n",
       "      <td>56.82</td>\n",
       "      <td>170.0</td>\n",
       "    </tr>\n",
       "    <tr>\n",
       "      <th>414494</th>\n",
       "      <td>49.0</td>\n",
       "      <td>2</td>\n",
       "      <td>90.909091</td>\n",
       "      <td>12.433076</td>\n",
       "      <td>68.18</td>\n",
       "      <td>152.0</td>\n",
       "    </tr>\n",
       "    <tr>\n",
       "      <th>414495</th>\n",
       "      <td>61.0</td>\n",
       "      <td>2</td>\n",
       "      <td>68.181818</td>\n",
       "      <td>12.395319</td>\n",
       "      <td>72.73</td>\n",
       "      <td>165.0</td>\n",
       "    </tr>\n",
       "    <tr>\n",
       "      <th>414496</th>\n",
       "      <td>37.0</td>\n",
       "      <td>2</td>\n",
       "      <td>61.363636</td>\n",
       "      <td>15.225492</td>\n",
       "      <td>56.82</td>\n",
       "      <td>157.0</td>\n",
       "    </tr>\n",
       "    <tr>\n",
       "      <th>414497</th>\n",
       "      <td>66.0</td>\n",
       "      <td>2</td>\n",
       "      <td>70.909091</td>\n",
       "      <td>13.561141</td>\n",
       "      <td>65.91</td>\n",
       "      <td>163.0</td>\n",
       "    </tr>\n",
       "    <tr>\n",
       "      <th>414498</th>\n",
       "      <td>34.0</td>\n",
       "      <td>1</td>\n",
       "      <td>77.272727</td>\n",
       "      <td>46.875400</td>\n",
       "      <td>75.00</td>\n",
       "      <td>173.0</td>\n",
       "    </tr>\n",
       "    <tr>\n",
       "      <th>414499</th>\n",
       "      <td>38.0</td>\n",
       "      <td>2</td>\n",
       "      <td>118.181818</td>\n",
       "      <td>15.225492</td>\n",
       "      <td>129.55</td>\n",
       "      <td>173.0</td>\n",
       "    </tr>\n",
       "    <tr>\n",
       "      <th>414500</th>\n",
       "      <td>43.0</td>\n",
       "      <td>2</td>\n",
       "      <td>66.363636</td>\n",
       "      <td>7.612746</td>\n",
       "      <td>75.00</td>\n",
       "      <td>168.0</td>\n",
       "    </tr>\n",
       "    <tr>\n",
       "      <th>414501</th>\n",
       "      <td>41.0</td>\n",
       "      <td>1</td>\n",
       "      <td>86.363636</td>\n",
       "      <td>25.989792</td>\n",
       "      <td>86.36</td>\n",
       "      <td>175.0</td>\n",
       "    </tr>\n",
       "    <tr>\n",
       "      <th>414503</th>\n",
       "      <td>40.0</td>\n",
       "      <td>1</td>\n",
       "      <td>78.181818</td>\n",
       "      <td>106.771882</td>\n",
       "      <td>78.18</td>\n",
       "      <td>168.0</td>\n",
       "    </tr>\n",
       "    <tr>\n",
       "      <th>414504</th>\n",
       "      <td>23.0</td>\n",
       "      <td>1</td>\n",
       "      <td>84.090909</td>\n",
       "      <td>43.439320</td>\n",
       "      <td>88.64</td>\n",
       "      <td>191.0</td>\n",
       "    </tr>\n",
       "    <tr>\n",
       "      <th>414505</th>\n",
       "      <td>49.0</td>\n",
       "      <td>2</td>\n",
       "      <td>70.454545</td>\n",
       "      <td>6.216538</td>\n",
       "      <td>72.73</td>\n",
       "      <td>170.0</td>\n",
       "    </tr>\n",
       "    <tr>\n",
       "      <th>414506</th>\n",
       "      <td>45.0</td>\n",
       "      <td>1</td>\n",
       "      <td>86.363636</td>\n",
       "      <td>20.617560</td>\n",
       "      <td>90.91</td>\n",
       "      <td>178.0</td>\n",
       "    </tr>\n",
       "    <tr>\n",
       "      <th>414507</th>\n",
       "      <td>52.0</td>\n",
       "      <td>2</td>\n",
       "      <td>89.090909</td>\n",
       "      <td>11.188138</td>\n",
       "      <td>89.09</td>\n",
       "      <td>157.0</td>\n",
       "    </tr>\n",
       "    <tr>\n",
       "      <th>414508</th>\n",
       "      <td>38.0</td>\n",
       "      <td>1</td>\n",
       "      <td>75.000000</td>\n",
       "      <td>25.989792</td>\n",
       "      <td>75.00</td>\n",
       "      <td>178.0</td>\n",
       "    </tr>\n",
       "  </tbody>\n",
       "</table>\n",
       "<p>385974 rows × 6 columns</p>\n",
       "</div>"
      ],
      "text/plain": [
       "         age  sex     wtyrago      finalwt   wtkg2   htm3\n",
       "0       82.0    2   76.363636   185.870345   70.91  157.0\n",
       "1       65.0    2   72.727273   126.603027   72.73  163.0\n",
       "3       61.0    1   73.636364   517.926275   73.64  170.0\n",
       "4       26.0    1   88.636364  1252.624630   88.64  185.0\n",
       "5       42.0    1  118.181818   415.161314  109.09  183.0\n",
       "6       40.0    2   50.000000   422.810541   50.00  157.0\n",
       "7       24.0    2  131.818182  1280.585980  122.73  178.0\n",
       "8       37.0    1   87.727273  1245.060440   90.00  178.0\n",
       "9       65.0    1   77.272727   382.738158   77.27  173.0\n",
       "10      28.0    1   52.272727  3131.561570   63.64  170.0\n",
       "11      68.0    2   86.363636   506.412109   78.18  168.0\n",
       "12      40.0    2   62.727273   422.810541   62.73  175.0\n",
       "13      49.0    1  127.272727   274.170333  127.27  183.0\n",
       "14      24.0    2   95.454545  2561.171960   95.45  175.0\n",
       "15      49.0    2   88.636364   181.063210   88.64  157.0\n",
       "16      36.0    2  113.636364   211.405271   90.91  168.0\n",
       "18      65.0    2  100.000000   253.206055  100.00  160.0\n",
       "19      75.0    2   72.727273   185.870345   72.73  165.0\n",
       "20      67.0    1   76.363636   382.738158   76.36  157.0\n",
       "21      27.0    2   63.636364   330.717253   63.64  155.0\n",
       "22      55.0    2   54.545455   153.403814   55.45  165.0\n",
       "23      78.0    1   79.545455   438.143347   78.18  183.0\n",
       "25      48.0    2   61.818182   271.502466   71.82  157.0\n",
       "26      65.0    1   77.272727   382.738158   77.27  173.0\n",
       "27      42.0    2   52.272727   422.810541   62.73  157.0\n",
       "28      70.0    2   59.090909   126.603027   59.09  157.0\n",
       "29      80.0    2   65.909091   185.870345   65.91  165.0\n",
       "30      67.0    2   72.727273   126.603027   72.73  165.0\n",
       "31      51.0    2   51.363636   181.063210   51.36  157.0\n",
       "32      75.0    2   68.181818   185.870345   68.18  173.0\n",
       "...      ...  ...         ...          ...     ...    ...\n",
       "414474  58.0    1   87.727273    19.272662   87.73  170.0\n",
       "414475  30.0    1  102.272727    46.875400  113.64  183.0\n",
       "414476  69.0    2   89.545455     6.780570   83.64  170.0\n",
       "414478  35.0    2   56.818182    30.450983   56.82  163.0\n",
       "414479  52.0    2   68.181818    18.649614   70.45  160.0\n",
       "414480  62.0    1   89.090909     7.709065   89.09  178.0\n",
       "414481  50.0    1   79.545455    13.339183   76.36  178.0\n",
       "414482  61.0    2   51.363636    10.347511   51.36  157.0\n",
       "414483  65.0    2   77.272727    13.561141   68.18  160.0\n",
       "414484  39.0    2   81.818182    15.225492   87.27  170.0\n",
       "414485  27.0    2   68.181818    37.495182   77.27  157.0\n",
       "414488  70.0    1  100.000000    14.994430  102.27  175.0\n",
       "414489  23.0    2   92.727273    22.632437   86.36  163.0\n",
       "414490  54.0    1   71.818182    30.926341   71.82  170.0\n",
       "414492  65.0    2   70.454545     6.780570   70.45  157.0\n",
       "414493  50.0    2   56.818182    22.376276   56.82  170.0\n",
       "414494  49.0    2   90.909091    12.433076   68.18  152.0\n",
       "414495  61.0    2   68.181818    12.395319   72.73  165.0\n",
       "414496  37.0    2   61.363636    15.225492   56.82  157.0\n",
       "414497  66.0    2   70.909091    13.561141   65.91  163.0\n",
       "414498  34.0    1   77.272727    46.875400   75.00  173.0\n",
       "414499  38.0    2  118.181818    15.225492  129.55  173.0\n",
       "414500  43.0    2   66.363636     7.612746   75.00  168.0\n",
       "414501  41.0    1   86.363636    25.989792   86.36  175.0\n",
       "414503  40.0    1   78.181818   106.771882   78.18  168.0\n",
       "414504  23.0    1   84.090909    43.439320   88.64  191.0\n",
       "414505  49.0    2   70.454545     6.216538   72.73  170.0\n",
       "414506  45.0    1   86.363636    20.617560   90.91  178.0\n",
       "414507  52.0    2   89.090909    11.188138   89.09  157.0\n",
       "414508  38.0    1   75.000000    25.989792   75.00  178.0\n",
       "\n",
       "[385974 rows x 6 columns]"
      ]
     },
     "execution_count": 3,
     "metadata": {},
     "output_type": "execute_result"
    }
   ],
   "source": [
    "df.dropna(inplace = True)\n",
    "df.reset_index()\n",
    "df"
   ]
  },
  {
   "cell_type": "code",
   "execution_count": 4,
   "metadata": {},
   "outputs": [
    {
     "data": {
      "text/plain": [
       "<matplotlib.axes._subplots.AxesSubplot at 0x7f1720483b00>"
      ]
     },
     "execution_count": 4,
     "metadata": {},
     "output_type": "execute_result"
    },
    {
     "data": {
      "image/png": "[encoded data removed]",
      "text/plain": [
       "<Figure size 432x288 with 1 Axes>"
      ]
     },
     "metadata": {
      "needs_background": "light"
     },
     "output_type": "display_data"
    }
   ],
   "source": [
    "#Code it here\n",
    "df.plot.scatter('wtkg2', 'htm3')"
   ]
  },
  {
   "cell_type": "markdown",
   "metadata": {},
   "source": [
    "What is the issue? \n",
    "\n",
    "Pick a random sample of 1000 observations and plot it again"
   ]
  },
  {
   "cell_type": "code",
   "execution_count": 5,
   "metadata": {},
   "outputs": [
    {
     "data": {
      "text/plain": [
       "<matplotlib.axes._subplots.AxesSubplot at 0x7f172ad92438>"
      ]
     },
     "execution_count": 5,
     "metadata": {},
     "output_type": "execute_result"
    },
    {
     "data": {
      "image/png": "[encoded data removed]",
      "text/plain": [
       "<Figure size 432x288 with 1 Axes>"
      ]
     },
     "metadata": {
      "needs_background": "light"
     },
     "output_type": "display_data"
    }
   ],
   "source": [
    "#Code it here\n",
    "df.sample(1000).plot.scatter('wtkg2','htm3')"
   ]
  },
  {
   "cell_type": "markdown",
   "metadata": {},
   "source": [
    "But this is not the best representation of the data, because the data are packed into columns. The problem is that the heights are rounded to the nearest inch, converted to centimeters, and then rounded again. Some information is lost in translation.\n",
    "\n",
    "We can’t get that information back, but we can minimize the effect on the scatter plot by **jittering** the data, which means adding random noise to reverse the effect of rounding off. Since these measurements were rounded to the nearest inch, they might be off by up to 0.5 inches or 1.3 cm. Similarly, the weights might be off by 0.5 kg.\n",
    "\n",
    "jitter the heights 1.3 cm and the weights 0.5 kg and plot the scatter plot again:\n"
   ]
  },
  {
   "cell_type": "code",
   "execution_count": 6,
   "metadata": {},
   "outputs": [
    {
     "data": {
      "text/plain": [
       "<matplotlib.axes._subplots.AxesSubplot at 0x7f172ad06f98>"
      ]
     },
     "execution_count": 6,
     "metadata": {},
     "output_type": "execute_result"
    },
    {
     "data": {
      "image/png": "[encoded data removed]",
      "text/plain": [
       "<Figure size 432x288 with 1 Axes>"
      ]
     },
     "metadata": {
      "needs_background": "light"
     },
     "output_type": "display_data"
    }
   ],
   "source": [
    "df['height'] = thinkstats2.Jitter(df.htm3, 1.3)\n",
    "df['weight'] = thinkstats2.Jitter(df.wtkg2, 0.5)\n",
    "df.sample(1000).plot.scatter('weight','height')"
   ]
  },
  {
   "cell_type": "markdown",
   "metadata": {},
   "source": [
    "Even with jittering, this is not the best way to represent the data. There are many overlapping points, which hides data in the dense parts of the figure and gives disproportionate emphasis to outliers. This effect is called **saturation**.\n",
    "\n",
    "We can solve this problem with the alpha parameter, which makes the points partly transparent.\n",
    "\n",
    "Use alpha in your scatter plot graph:"
   ]
  },
  {
   "cell_type": "code",
   "execution_count": 7,
   "metadata": {},
   "outputs": [
    {
     "data": {
      "text/plain": [
       "<matplotlib.axes._subplots.AxesSubplot at 0x7f172ad4a5f8>"
      ]
     },
     "execution_count": 7,
     "metadata": {},
     "output_type": "execute_result"
    },
    {
     "data": {
      "image/png": "[encoded data removed]",
      "text/plain": [
       "<Figure size 864x504 with 1 Axes>"
      ]
     },
     "metadata": {
      "needs_background": "light"
     },
     "output_type": "display_data"
    }
   ],
   "source": [
    "#Code it here\n",
    "df.sample(1000).plot.scatter('weight','height', alpha = 0.3, figsize = (12,7), color ='k')"
   ]
  },
  {
   "cell_type": "markdown",
   "metadata": {},
   "source": [
    "Using transparency works well for moderate-sized datasets, but this figure only shows the first 5000 records in the BRFSS, out of a total of 414 509. To handle larger datasets, another option is a hexbin plot, which divides the\n",
    "graph into hexagonal bins and colors each bin according to how many data points fall in it. thinkplot provides HexBin. "
   ]
  },
  {
   "cell_type": "code",
   "execution_count": 8,
   "metadata": {},
   "outputs": [],
   "source": [
    "import thinkplot"
   ]
  },
  {
   "cell_type": "code",
   "execution_count": 9,
   "metadata": {},
   "outputs": [
    {
     "data": {
      "image/png": "[encoded data removed]",
      "text/plain": [
       "<Figure size 432x288 with 1 Axes>"
      ]
     },
     "metadata": {
      "needs_background": "light"
     },
     "output_type": "display_data"
    }
   ],
   "source": [
    "thinkplot.HexBin(df.height, df.weight)\n",
    "thinkplot.Config(xlabel='Height (cm)',\n",
    "                ylabel='Weight (kg)',\n",
    "                axis=[140, 210, 20, 200],\n",
    "                legend=False)"
   ]
  },
  {
   "cell_type": "markdown",
   "metadata": {},
   "source": [
    "Try also the implementation of seaborn [jointplot](https://seaborn.pydata.org/generated/seaborn.jointplot.html):"
   ]
  },
  {
   "cell_type": "code",
   "execution_count": 10,
   "metadata": {},
   "outputs": [],
   "source": [
    "import seaborn as sns"
   ]
  },
  {
   "cell_type": "code",
   "execution_count": 11,
   "metadata": {},
   "outputs": [
    {
     "name": "stderr",
     "output_type": "stream",
     "text": [
      "/home/javi/.local/lib/python3.6/site-packages/scipy/stats/stats.py:1713: FutureWarning: Using a non-tuple sequence for multidimensional indexing is deprecated; use `arr[tuple(seq)]` instead of `arr[seq]`. In the future this will be interpreted as an array index, `arr[np.array(seq)]`, which will result either in an error or a different result.\n",
      "  return np.add.reduce(sorted[indexer] * weights, axis=axis) / sumval\n"
     ]
    },
    {
     "data": {
      "text/plain": [
       "<seaborn.axisgrid.JointGrid at 0x7f172a69a2b0>"
      ]
     },
     "execution_count": 11,
     "metadata": {},
     "output_type": "execute_result"
    },
    {
     "data": {
      "image/png": "[encoded data removed]",
      "text/plain": [
       "<Figure size 432x432 with 3 Axes>"
      ]
     },
     "metadata": {
      "needs_background": "light"
     },
     "output_type": "display_data"
    }
   ],
   "source": [
    "sns.jointplot(df.height, df.weight,\n",
    "             kind = 'hex')"
   ]
  },
  {
   "cell_type": "markdown",
   "metadata": {},
   "source": [
    "The point of this example is that it is not easy to make a scatter plot that shows relationships clearly without introducing misleading artifacts.\n",
    "\n",
    "## Characterizing relationships\n",
    "\n",
    "Scatter plots provide a general impression of the relationship between variables, but there are other visualizations that provide more insight into the nature of the relationship. One option is to bin one variable and plot percentiles of the other.\n",
    "\n",
    "Try it, group people heights in groups of 5 cm differences 135 -140, 140 -145, etc"
   ]
  },
  {
   "cell_type": "code",
   "execution_count": 12,
   "metadata": {},
   "outputs": [],
   "source": [
    "import matplotlib.pyplot as plt"
   ]
  },
  {
   "cell_type": "code",
   "execution_count": 13,
   "metadata": {},
   "outputs": [
    {
     "data": {
      "text/plain": [
       "count    385974.000000\n",
       "mean        169.013001\n",
       "std          10.472077\n",
       "min          58.697521\n",
       "25%         161.467612\n",
       "50%         168.339296\n",
       "75%         176.629044\n",
       "max         237.588488\n",
       "Name: height, dtype: float64"
      ]
     },
     "execution_count": 13,
     "metadata": {},
     "output_type": "execute_result"
    }
   ],
   "source": [
    "df.height.describe()"
   ]
  },
  {
   "cell_type": "code",
   "execution_count": 14,
   "metadata": {},
   "outputs": [],
   "source": [
    "import numpy as np"
   ]
  },
  {
   "cell_type": "code",
   "execution_count": 24,
   "metadata": {},
   "outputs": [],
   "source": [
    "# Code it here\n",
    "heights = np.arange(50,245,5)\n",
    "intervals = []\n",
    "for panda in df.height:\n",
    "    for i, value in enumerate(heights):\n",
    "        if panda < value:\n",
    "            intervals.append(value)\n",
    "            break\n",
    "df['interval'] = intervals"
   ]
  },
  {
   "cell_type": "markdown",
   "metadata": {},
   "source": [
    "Calculate a list for each of the weights on the 25 50 and 75 percentile of each of the groups."
   ]
  },
  {
   "cell_type": "code",
   "execution_count": 29,
   "metadata": {},
   "outputs": [
    {
     "data": {
      "text/plain": [
       "count    4591.000000\n",
       "mean      148.304412\n",
       "std         1.391544\n",
       "min       145.002675\n",
       "25%       147.317128\n",
       "50%       148.692573\n",
       "75%       149.504823\n",
       "max       149.999517\n",
       "Name: height, dtype: float64"
      ]
     },
     "execution_count": 29,
     "metadata": {},
     "output_type": "execute_result"
    }
   ],
   "source": [
    "df[df['interval']==150].height.describe()\n",
    "\n",
    "plt.figure(figsize = (15,7))\n",
    "df.loc[df.interval 'height'].hist(cumulative = True, density = 1, bins = 4)\n",
    "df['weight'].hist(cumulative = True, density = 1, bins = 4, alpha = 0.5)\n",
    "plt.show()"
   ]
  },
  {
   "cell_type": "code",
   "execution_count": 42,
   "metadata": {},
   "outputs": [],
   "source": [
    "groups = df.groupby('interval')"
   ]
  },
  {
   "cell_type": "code",
   "execution_count": 46,
   "metadata": {},
   "outputs": [],
   "source": [
    "mean_heights = groups.mean().height\n",
    "cdfs = [thinkstats2.Cdf(group.weight) for i, group in groups]"
   ]
  },
  {
   "cell_type": "markdown",
   "metadata": {},
   "source": [
    "Plot one line for each of the percentile weights for the average height of that group."
   ]
  },
  {
   "cell_type": "code",
   "execution_count": 51,
   "metadata": {},
   "outputs": [
    {
     "data": {
      "image/png": "[encoded data removed]",
      "text/plain": [
       "<Figure size 432x288 with 1 Axes>"
      ]
     },
     "metadata": {
      "needs_background": "light"
     },
     "output_type": "display_data"
    }
   ],
   "source": [
    "for percent in [75, 50, 25]:\n",
    "   weight_percentiles = [cdf.Percentile(percent) for cdf in cdfs]\n",
    "   label = '%dth' % percent\n",
    "   thinkplot.Plot(mean_heights, weight_percentiles, label=label)\n",
    "\n",
    "thinkplot.Config(xlabel='Height (cm)',\n",
    "                ylabel='Weight (kg)',\n",
    "                axis=[140, 210, 20, 200],\n",
    "                legend=True)"
   ]
  },
  {
   "cell_type": "markdown",
   "metadata": {},
   "source": [
    "## Correlation \n",
    "\n",
    "A **correlation** is a statistic intended to quantify the strength of the relationship between two variables.\n",
    "\n",
    "A challenge in measuring correlation is that the variables we want to compare are often not expressed in the same units. And even if they are in the same units, they come from different distributions.\n",
    "\n",
    "There are two common solutions to these problems:\n",
    "\n",
    "1. Transform each value to a **standard scores**, which is the number of standard deviations from the mean. This transform leads to the “Pearson product-moment correlation coefficient.”\n",
    "\n",
    "2. Transform each value to its **rank**, which is its index in the sorted list of values. This transform leads to the “Spearman rank correlation coefficient.”\n",
    "\n",
    "If X is a series of n values, x i , we can convert to standard scores by subtracting the mean and dividing by the standard deviation: zi = (xi − μ)/σ.\n",
    "\n",
    "The numerator is a deviation: the distance from the mean. Dividing by σ standardizes the deviation, so the values of Z are dimensionless (no units) and their distribution has mean 0 and variance 1.\n",
    "\n",
    "If X is normally distributed, so is Z. But if X is skewed or has outliers, so does Z; in those cases, it is more robust to use percentile ranks. If we compute a new variable, R, so that r i is the rank of x i , the distribution of R is uniform from 1 to n, regardless of the distribution of X.\n",
    "\n",
    "## Covariance\n",
    "\n",
    "**Covariance** is a measure of the tendency of two variables to vary together. If we have two series, X and Y , their deviations from the mean are:\n",
    "\n",
    "![alt text](notebookpics/covariance_variation.png \"Title\")\n",
    "\n",
    "where x̄ is the sample mean of X and ȳ is the sample mean of Y . If X and Y vary together, their deviations tend to have the same sign.\n",
    "\n",
    "If we multiply them together, the product is positive when the deviations have the same sign and negative when they have the opposite sign. So adding up the products gives a measure of the tendency to vary together.\n",
    "\n",
    "Covariance is the mean of these products:\n",
    "\n",
    "![alt text](notebookpics/cov_formula.png \"Title\")\n",
    "\n",
    "where n is the length of the two series (they have to be the same length).\n",
    "\n",
    "If you have studied linear algebra, you might recognize that Cov is the dot product of the deviations, divided by their length. So the covariance is maximized if the two vectors are identical, 0 if they are orthogonal, and negative if they point in opposite directions.\n",
    "\n",
    "Create a implementation in python of the covariance and apply calculate the covariance of the sample:"
   ]
  },
  {
   "cell_type": "code",
   "execution_count": 61,
   "metadata": {},
   "outputs": [
    {
     "data": {
      "text/plain": [
       "103.69208267971888"
      ]
     },
     "execution_count": 61,
     "metadata": {},
     "output_type": "execute_result"
    }
   ],
   "source": [
    "# Code it here\n",
    "def covariance(col1, col2):\n",
    "    return (1/len(col1))*sum((col1-np.mean(col1))*(col2-np.mean(col2)))\n",
    "covariance(df.height, df.weight)"
   ]
  },
  {
   "cell_type": "markdown",
   "metadata": {},
   "source": [
    "NumPy and pandas also provide implementations of covariance, but both of them apply a correction for small sample sizes that we have not covered yet, and np.cov returns a covariance matrix, which is more than we need for now.\n",
    "\n",
    "## Pearson’s correlation\n",
    "\n",
    "Covariance is useful in some computations, but it is seldom reported as a summary statistic because it is hard to interpret. Among other problems, its units are the product of the units of X and Y . For example, the covariance of weight and height in the BRFSS dataset is 113 kilogram-centimeters, whatever that means.\n",
    "\n",
    "One solution to this problem is to divide the deviations by the standard deviation, which yields standard scores, and compute the product of standard scores:\n",
    "\n",
    "![alt text](notebookpics/standard_score.png \"Title\")\n",
    "\n",
    "Where S X and S Y are the standard deviations of X and Y . The mean of these products is\n",
    "\n",
    "![alt text](notebookpics/pearson2.png \"Title\")\n",
    "\n",
    "Or we can rewrite ρ by factoring out S X and S Y :\n",
    "\n",
    "![alt text](notebookpics/pearson3.png \"Title\")\n",
    "\n",
    "This value is called **Pearson’s correlation** after Karl Pearson, an influential early statistician. It is easy to compute and easy to interpret. Because standard scores are dimensionless, so is ρ.\n",
    "\n",
    "Implement it in python and calculate it from the sample before:"
   ]
  },
  {
   "cell_type": "code",
   "execution_count": 57,
   "metadata": {},
   "outputs": [
    {
     "data": {
      "text/plain": [
       "0.5072503959311776"
      ]
     },
     "execution_count": 57,
     "metadata": {},
     "output_type": "execute_result"
    }
   ],
   "source": [
    "# Code it here\n",
    "def pcovariance(col1, col2):\n",
    "    return covariance(col1,col2)/(np.std(col1)*np.std(col2))\n",
    "pcovariance(df.height, df.weight)"
   ]
  },
  {
   "cell_type": "markdown",
   "metadata": {},
   "source": [
    "Pearson’s correlation is always between -1 and +1 (including both). If ρ is positive, we say that the correlation is positive, which means that when one variable is high, the other tends to be high. If ρ is negative, the correlation is negative, so when one variable is high, the other is low.\n",
    "\n",
    "The magnitude of ρ indicates the strength of the correlation. If ρ is 1 or -1, the variables are perfectly correlated, which means that if you know one, you can make a perfect prediction about the other.\n",
    "\n",
    "Most correlation in the real world is not perfect, but it is still useful. The correlation of height and weight is 0.51, which is a strong correlation compared to similar human-related variables.\n",
    "\n",
    "## Nonlinear relationships\n",
    "\n",
    "If Pearson’s correlation is near 0, it is tempting to conclude that there is no relationship between the variables, but that conclusion is not valid. Pearson’s correlation only measures linear relationships. If there’s a nonlinear\n",
    "relationship, ρ understates its strength.\n",
    "\n",
    "![alt text](notebookpics/correlation_exp.png \"Title\")\n",
    "    \n",
    "The top row shows linear relationships with a range of correlations; you can use this row to get a sense of what different values of ρ look like. The second row shows perfect correlations with a range of slopes, which demonstrates that correlation is unrelated to slope (we’ll talk about estimating slope soon). The third row shows variables that are clearly related, but because the relationship is nonlinear, the correlation coefficient is 0.\n",
    "\n",
    "The moral of this story is that you should always look at a scatter plot of your data before blindly computing a correlation coefficient.\n",
    "\n",
    "## Spearman’s rank correlation\n",
    "\n",
    "Pearson’s correlation works well if the relationship between variables is linear and if the variables are roughly normal. But it is not robust in the presence of outliers.\n",
    "\n",
    "Spearman’s rank correlation is an alternative that mitigates the effect of outliers and skewed distributions. To compute Spearman’s correlation, we have to compute the rank of each value, which is its index in the sorted sample. For example, in the sample [1, 2, 5, 7] the rank of the value 5 is 3, because it appears third in the sorted list. Then we compute Pearson’s correlation for the ranks.\n",
    "\n",
    "Implement it in python and calculate it from the sample before:"
   ]
  },
  {
   "cell_type": "code",
   "execution_count": 63,
   "metadata": {},
   "outputs": [
    {
     "data": {
      "text/plain": [
       "0.5380449652663706"
      ]
     },
     "execution_count": 63,
     "metadata": {},
     "output_type": "execute_result"
    }
   ],
   "source": [
    "# Code it here\n",
    "def scovariance(col1, col2):\n",
    "    col1 = col1.rank()\n",
    "    col2 = col2.rank()\n",
    "    return covariance(col1,col2)/(np.std(col1)*np.std(col2))\n",
    "scovariance(df.height, df.weight)"
   ]
  },
  {
   "cell_type": "markdown",
   "metadata": {},
   "source": [
    "The Spearman rank correlation for the BRFSS data is 0.54, a little higher than the Pearson correlation, 0.51. There are several possible reasons for the difference, including:\n",
    "\n",
    "- If the relationship is nonlinear, Pearson’s correlation tends to underestimate the strength of the relationship.\n",
    "\n",
    "- Pearson’s correlation can be affected (in either direction) if one of the distributions is skewed or contains outliers. Spearman’s rank correlation is more robust.\n",
    "\n",
    "In the BRFSS example, we know that the distribution of weights is roughly lognormal; under a log transform it approximates a normal distribution, so it has no skew. So another way to eliminate the effect of skewness is to compute Pearson’s correlation with log-weight and height:"
   ]
  },
  {
   "cell_type": "code",
   "execution_count": 64,
   "metadata": {},
   "outputs": [
    {
     "data": {
      "text/plain": [
       "0.5340575205036819"
      ]
     },
     "execution_count": 64,
     "metadata": {},
     "output_type": "execute_result"
    }
   ],
   "source": [
    "thinkstats2.Corr(df.htm3, np.log(df.wtkg2))"
   ]
  },
  {
   "cell_type": "markdown",
   "metadata": {},
   "source": [
    "The result is 0.53, close to the rank correlation, 0.54. So that suggests that skewness in the distribution of weight explains most of the difference between Pearson’s and Spearman’s correlation.\n",
    "\n",
    "## Correlation and causation\n",
    "\n",
    "If variables A and B are correlated, there are three possible explanations: A causes B, or B causes A, or some other set of factors causes both A and B. These explanations are called “causal relationships”.\n",
    "\n",
    "Correlation alone does not distinguish between these explanations, so it does not tell you which ones are true. This rule is often summarized with the phrase “Correlation does not imply causation,” which is so pithy it has its own Wikipedia page: http://wikipedia.org/wiki/Correlation_does_not_imply_causation.\n",
    "\n",
    "So what can you do to provide evidence of causation?\n",
    "\n",
    "1. Use time. If A comes before B, then A can cause B but not the other way around (at least according to our common understanding of causation). The order of events can help us infer the direction of causation, but it does not preclude the possibility that something else causes both A and B.\n",
    "\n",
    "2. Use randomness. If you divide a large sample into two groups at random and compute the means of almost any variable, you expect the difference to be small. If the groups are nearly identical in all variables but one, you can eliminate spurious relationships. This works even if you don’t know what the relevant variables are, but it works even better if you do, because you can check that the groups are identical.\n",
    "\n",
    "These ideas are the motivation for the **randomized controlled trial**, in which subjects are assigned randomly to two (or more) groups: a **treatment group** that receives some kind of intervention, like a new medicine, and a\n",
    "**control group** that receives no intervention, or another treatment whose effects are known.\n",
    "\n",
    "A randomized controlled trial is the most reliable way to demonstrate a causal relationship, and the foundation of science-based medicine (see http://wikipedia.org/wiki/Randomized_controlled_trial).\n",
    "\n",
    "Unfortunately, controlled trials are only possible in the laboratory sciences, medicine, and a few other disciplines. In the social sciences, controlled experiments are rare, usually because they are impossible or unethical.\n",
    "\n",
    "An alternative is to look for a natural experiment, where different “treatments” are applied to groups that are otherwise similar. One danger of natural experiments is that the groups might differ in ways that are not\n",
    "apparent. You can read more about this topic at http://wikipedia.org/wiki/Natural_experiment.\n",
    "\n",
    "In some cases it is possible to infer causal relationships using **regression analysis**, which is the topic of Chapter 11.\n",
    "\n"
   ]
  },
  {
   "cell_type": "markdown",
   "metadata": {},
   "source": [
    "## Exercises"
   ]
  },
  {
   "cell_type": "markdown",
   "metadata": {},
   "source": [
    "# 1)\n",
    "\n",
    "Using data from the NSFG, make a scatter plot of birth weight versus mother’s age. Plot percentiles of birth weight versus mother’s age. Compute Pearson’s and Spearman’s correlations. How would you characterize the relationship between these variables?"
   ]
  },
  {
   "cell_type": "code",
   "execution_count": null,
   "metadata": {},
   "outputs": [],
   "source": [
    "import first\n",
    "\n",
    "live, firsts, others = first.MakeFrames()\n",
    "live = live.dropna(subset=['agepreg', 'totalwgt_lb'])"
   ]
  },
  {
   "cell_type": "code",
   "execution_count": null,
   "metadata": {},
   "outputs": [],
   "source": [
    "# Solution goes here"
   ]
  },
  {
   "cell_type": "code",
   "execution_count": null,
   "metadata": {},
   "outputs": [],
   "source": []
  }
 ],
 "metadata": {
  "kernelspec": {
   "display_name": "Python 3",
   "language": "python",
   "name": "python3"
  },
  "language_info": {
   "codemirror_mode": {
    "name": "ipython",
    "version": 3
   },
   "file_extension": ".py",
   "mimetype": "text/x-python",
   "name": "python",
   "nbconvert_exporter": "python",
   "pygments_lexer": "ipython3",
   "version": "3.6.6"
  }
 },
 "nbformat": 4,
 "nbformat_minor": 2
}
