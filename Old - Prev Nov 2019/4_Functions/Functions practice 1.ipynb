{
 "cells": [
  {
   "cell_type": "code",
   "execution_count": 5,
   "metadata": {},
   "outputs": [
    {
     "name": "stdout",
     "output_type": "stream",
     "text": [
      "The area of a square using a function with one argument (side) is: 25\n"
     ]
    }
   ],
   "source": [
    "# write a function with one argument. Find the area of a square. \n",
    "def areaSquare(side):\n",
    "    return print('The area of a square using a function with one argument (side) is:', side**2)\n",
    "                 \n",
    "areaSquare(5)                "
   ]
  },
  {
   "cell_type": "code",
   "execution_count": 7,
   "metadata": {},
   "outputs": [
    {
     "data": {
      "text/plain": [
       "30"
      ]
     },
     "execution_count": 7,
     "metadata": {},
     "output_type": "execute_result"
    }
   ],
   "source": [
    "# write a function with two arguments. Find the area of a rectangle. \n",
    "def areaRect(length,breadth):\n",
    "    return length*breadth\n",
    "areaRect(5,6)"
   ]
  },
  {
   "cell_type": "code",
   "execution_count": 12,
   "metadata": {},
   "outputs": [
    {
     "data": {
      "text/plain": [
       "214"
      ]
     },
     "execution_count": 12,
     "metadata": {},
     "output_type": "execute_result"
    }
   ],
   "source": [
    "# write a function with three arguments. Find the surface area of cuboid.\n",
    "def surfaceAreaCuboid(length,breadth,height): \n",
    "    return 2*(length*breadth+height*breadth+length*height)\n",
    "surfaceAreaCuboid(5,6,7)"
   ]
  },
  {
   "cell_type": "code",
   "execution_count": null,
   "metadata": {},
   "outputs": [],
   "source": []
  }
 ],
 "metadata": {
  "anaconda-cloud": {},
  "kernelspec": {
   "display_name": "Python 3",
   "language": "python",
   "name": "python3"
  },
  "language_info": {
   "codemirror_mode": {
    "name": "ipython",
    "version": 3
   },
   "file_extension": ".py",
   "mimetype": "text/x-python",
   "name": "python",
   "nbconvert_exporter": "python",
   "pygments_lexer": "ipython3",
   "version": "3.6.5"
  }
 },
 "nbformat": 4,
 "nbformat_minor": 1
}
