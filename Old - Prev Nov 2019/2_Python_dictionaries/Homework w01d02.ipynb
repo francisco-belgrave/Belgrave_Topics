{
 "cells": [
  {
   "cell_type": "markdown",
   "metadata": {},
   "source": [
    "# Homeworks - Python Loops, List and Dictionaries"
   ]
  },
  {
   "cell_type": "markdown",
   "metadata": {},
   "source": [
    "## Exercises\n",
    "\n",
    "Using a London boroughs dictionary"
   ]
  },
  {
   "cell_type": "code",
   "execution_count": 3,
   "metadata": {
    "collapsed": true
   },
   "outputs": [],
   "source": [
    "population={ 'City of London': 8700, 'Barking & Dagenham': 143100, 'Barnet': 268000, 'Bexley': 157400, 'Brent': 215900, \n",
    "'Bromley': 220200, 'Camden': 167100, 'Croydon': 269900, 'Ealing': 240500,  'Enfield': 207100, 'Greenwich': 196500,\n",
    "'Hackney': 173000, 'Hammersmith & Fulham': 147500, 'Haringey': 190200, 'Harrow': 168400, 'Havering': 175800, \n",
    "'Hillingdon': 189600, 'Hounslow': 175800, 'Islington': 166500, 'Kensington & Chelsea': 140200, \n",
    "'Kingston upon Thames': 118100, 'Lambeth': 231300, 'Lewisham': 216800, 'Merton':144200,'Newham': 243600, \n",
    "'Redbridge': 189600, 'Richmond upon Thames': 138200, 'Southwark': 229900, 'Sutton': 137500, 'Tower Hamlets': 205600,\n",
    "'Waltham Forest': 165100, 'Wandsworth': 235400, 'Westminster': 178100}"
   ]
  },
  {
   "cell_type": "markdown",
   "metadata": {},
   "source": [
    "1. Create a list of all London boroughs and print it out below this cell\n",
    "2. What is the total population of London?\n",
    "3. What is the highest population of all the boroughs?\n",
    "4. Which borough is that?\n",
    "5. Print out all boroughs sorted by population (highest first)\n",
    "6. If central London is defined as the boroughs in the list below, what is the central population?"
   ]
  },
  {
   "cell_type": "code",
   "execution_count": 61,
   "metadata": {
    "collapsed": true
   },
   "outputs": [],
   "source": [
    "central_boroughs=['City of London', 'Westminster', 'Camden', 'Kensington & Chelsea']"
   ]
  },
  {
   "cell_type": "markdown",
   "metadata": {},
   "source": [
    "## Solutions"
   ]
  },
  {
   "cell_type": "code",
   "execution_count": null,
   "metadata": {
    "collapsed": true
   },
   "outputs": [],
   "source": []
  }
 ],
 "metadata": {
  "anaconda-cloud": {},
  "kernelspec": {
   "display_name": "Python [conda root]",
   "language": "python",
   "name": "conda-root-py"
  },
  "language_info": {
   "codemirror_mode": {
    "name": "ipython",
    "version": 2
   },
   "file_extension": ".py",
   "mimetype": "text/x-python",
   "name": "python",
   "nbconvert_exporter": "python",
   "pygments_lexer": "ipython2",
   "version": "2.7.12"
  }
 },
 "nbformat": 4,
 "nbformat_minor": 1
}
