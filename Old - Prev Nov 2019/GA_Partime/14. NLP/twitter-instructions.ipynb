{
 "cells": [
  {
   "cell_type": "markdown",
   "metadata": {},
   "source": [
    "<img src=\"http://imgur.com/1ZcRyrc.png\" style=\"float: left; margin: 20px; height: 55px\">\n",
    "\n",
    "## Instructions for capturing tweets\n",
    "\n",
    "---"
   ]
  },
  {
   "cell_type": "markdown",
   "metadata": {},
   "source": [
    "Before executing the following steps, you have to open a twitter account.\n",
    "\n",
    "### Setting up Twitter API credentials\n",
    "\n",
    "1. Go to https://apps.twitter.com/\n",
    "2. Sign In, and then follow the instructions below:\n",
    "3. Press \"Create New App\"\n",
    "4. Fill in form (you can enter your website or any website in the 'website' field i.e. http://google.com)\n",
    "5. Press 'Create application'\n",
    "6. Press 'Manage keys ...'\n",
    "1. Press 'Create access tokens'\n",
    "8. Find and save four values\n",
    "    - Consumer Key\n",
    "    - Consumer Secret\n",
    "    - Access Token Key\n",
    "    - Access Token Secret\n",
    "\n",
    "### Running the code\n",
    "\n",
    "`1`. Install TwitterAPI: `pip install TwitterAPI`\n",
    "\n",
    "`2`. Substitute the four values saved from 'Setting up Twitter API credentials' in `twitter.py` in\n",
    "\n",
    "```python\n",
    "access_token_key = \"<ENTER ACCESS TOKEN KEY>\"\n",
    "access_token_secret = \"<ENTER ACCESS TOKEN SECRET>\"\n",
    "\n",
    "api_key = \"<ENTER CONSUMER KEY>\"\n",
    "api_secret = \"<ENTER CONSUMER SECRET>\"\n",
    "\n",
    "```\n",
    "\n",
    "`3`. Run \n",
    "\n",
    "```bash \n",
    "python capture-tweets-new.py <topic>\n",
    "``` \n",
    "\n",
    "to save tweets to file called `captured-tweets.txt` related to `<topic>`. I.e.: \n",
    "\n",
    "```bash \n",
    "python capture-tweets.py Google\n",
    "``` \n",
    "\n",
    "or \n",
    "\n",
    "```bash \n",
    "python capture-tweets.py Iran\n",
    "```\n",
    "\n",
    "You can run the python script directly in the terminal or just with the command below. Make sure you are in the same directory as the two python files."
   ]
  },
  {
   "cell_type": "code",
   "execution_count": 1,
   "metadata": {
    "collapsed": true
   },
   "outputs": [],
   "source": [
    "%run capture-tweets.py Google"
   ]
  },
  {
   "cell_type": "code",
   "execution_count": 2,
   "metadata": {
    "collapsed": true
   },
   "outputs": [],
   "source": [
    "# read in the file containing the captured tweets\n",
    "f = open('captured-tweets-new.txt')"
   ]
  },
  {
   "cell_type": "code",
   "execution_count": 3,
   "metadata": {},
   "outputs": [
    {
     "data": {
      "text/plain": [
       "['(T?T) ;_;;-(T_T)/~~~ https://t.co/WAL7hqOZak\\n',\n",
       " '@gspeirs1 Am away to google that\\xf0\\x9f\\x98\\x82\\n',\n",
       " 'hot girls kissing naked video google https://t.co/cDGKmO7smJ\\n',\n",
       " 'RT @Happyheart411: TRY 2 GOOGLE ON THESE 4\\n',\n",
       " '\\n',\n",
       " \"                IT'S.  CHILLING https://t.co/GUFaOozx0o\\n\",\n",
       " 'Common Lisp Proxy Bot Usage for Google AI Ants Challenge\\xc2\\xa0[2/2] https://t.co/yz4rL5LCuD\\n',\n",
       " 'RT @Info_Activism: Smart searching with googleDorking aka google hacking - find what is not instantly visible https://t.co/ucXoo7XZUG https\\xe2\\x80\\xa6\\n',\n",
       " '(T?T) ;_;;-(ToT)/~~~ https://t.co/epV4FUp7Q3\\n',\n",
       " '5 Ways to Create a Healthy, Thriving Tech Company\\xc2\\xa0Culture https://t.co/0T0k22bBYK\\n',\n",
       " 'RT @EXOGlobal: @Morocco_EXOL [!] Malaysia\\n',\n",
       " '\\n',\n",
       " 'Twitter: @EXOUNIONMY \\n',\n",
       " '\\n',\n",
       " 'Form: https://t.co/ZbBatr3idn https://t.co/2P4Dd8kQiU\\n',\n",
       " \"RT @ShaunKing: Thank you to @TheAtlantic for showing how Donald Trump has clearly violated Twitter's terms of service. https://t.co/BJxs2Ck\\xe2\\x80\\xa6\\n\",\n",
       " 'RT @polNewsForever: Google is now linking /pol/ threads as a legitimate news source.\\n',\n",
       " '\\n',\n",
       " 'What a time to be alive. https://t.co/6OfnzEdCo6\\n',\n",
       " \"Here's the Google Glass for Work trial at Tesla's Fremont factory [GIFs] #Tesla #TeslaModel3 #TeslaModel3\\xe2\\x80\\xa6 https://t.co/nTMZ3eS9WV\\n\",\n",
       " 'AdHawk aims to take the complexity out of Facebook and Google advertising https://t.co/xXJrpTGnIj #smlondon\\n',\n",
       " 'RT @loveleov: Sissy Training - Trans submission to Madam Marguerite. Exciting short fiction  https://t.co/tlcb4j8Vvd\\n',\n",
       " 'https://t.co/LVwJ6aKQDU #perceptlink AdHawk aims to take the complexity out of Facebook and Google advertising\\n']"
      ]
     },
     "execution_count": 3,
     "metadata": {},
     "output_type": "execute_result"
    }
   ],
   "source": [
    "# print out the file content\n",
    "[line for line in f]"
   ]
  },
  {
   "cell_type": "code",
   "execution_count": null,
   "metadata": {
    "collapsed": true
   },
   "outputs": [],
   "source": []
  }
 ],
 "metadata": {
  "kernelspec": {
   "display_name": "Python 2",
   "language": "python",
   "name": "python2"
  },
  "language_info": {
   "codemirror_mode": {
    "name": "ipython",
    "version": 2
   },
   "file_extension": ".py",
   "mimetype": "text/x-python",
   "name": "python",
   "nbconvert_exporter": "python",
   "pygments_lexer": "ipython2",
   "version": "2.7.13"
  }
 },
 "nbformat": 4,
 "nbformat_minor": 2
}
