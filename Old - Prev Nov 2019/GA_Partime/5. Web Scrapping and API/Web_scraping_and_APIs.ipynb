{
 "cells": [
  {
   "cell_type": "markdown",
   "metadata": {},
   "source": [
    "# Web scraping using `BeautifulSoup` and accessing APIs"
   ]
  },
  {
   "cell_type": "code",
   "execution_count": 1,
   "metadata": {
    "collapsed": true
   },
   "outputs": [],
   "source": [
    "import json\n",
    "import numpy as np\n",
    "import pandas as pd\n",
    "import re\n",
    "import requests\n",
    "\n",
    "from bs4 import BeautifulSoup\n",
    "from time import sleep"
   ]
  },
  {
   "cell_type": "markdown",
   "metadata": {},
   "source": [
    "## Web scraping using `BeautifulSoup`"
   ]
  },
  {
   "cell_type": "markdown",
   "metadata": {},
   "source": [
    "### Read HTML"
   ]
  },
  {
   "cell_type": "code",
   "execution_count": 2,
   "metadata": {
    "collapsed": true
   },
   "outputs": [],
   "source": [
    "html = requests.get('http://www.imdb.com/title/tt2084970/').text"
   ]
  },
  {
   "cell_type": "markdown",
   "metadata": {},
   "source": [
    "### Parse HTML into a `BeautifulSoup` object"
   ]
  },
  {
   "cell_type": "code",
   "execution_count": 3,
   "metadata": {
    "collapsed": true
   },
   "outputs": [],
   "source": [
    "soup = BeautifulSoup(html, 'lxml')"
   ]
  },
  {
   "cell_type": "markdown",
   "metadata": {},
   "source": [
    "### Retrieve the title"
   ]
  },
  {
   "cell_type": "code",
   "execution_count": 4,
   "metadata": {},
   "outputs": [
    {
     "data": {
      "text/plain": [
       "<h1 class=\"\" itemprop=\"name\">The Imitation Game <span id=\"titleYear\">(<a href=\"/year/2014/?ref_=tt_ov_inf\">2014</a>)</span> </h1>"
      ]
     },
     "execution_count": 4,
     "metadata": {},
     "output_type": "execute_result"
    }
   ],
   "source": [
    "soup.find(name='h1', attrs={'itemprop': 'name'})"
   ]
  },
  {
   "cell_type": "code",
   "execution_count": 5,
   "metadata": {},
   "outputs": [
    {
     "data": {
      "text/plain": [
       "'The Imitation Game\\xa0'"
      ]
     },
     "execution_count": 5,
     "metadata": {},
     "output_type": "execute_result"
    }
   ],
   "source": [
    "soup.find(name='h1', attrs={'itemprop': 'name'}).find(text=True, recursive=False)"
   ]
  },
  {
   "cell_type": "code",
   "execution_count": 6,
   "metadata": {},
   "outputs": [
    {
     "data": {
      "text/plain": [
       "'The Imitation Game'"
      ]
     },
     "execution_count": 6,
     "metadata": {},
     "output_type": "execute_result"
    }
   ],
   "source": [
    "soup.find(name='h1', attrs={'itemprop': 'name'}).find(text=True, recursive=False).strip()"
   ]
  },
  {
   "cell_type": "markdown",
   "metadata": {},
   "source": [
    "### Retrieve the genre(s)"
   ]
  },
  {
   "cell_type": "code",
   "execution_count": 7,
   "metadata": {},
   "outputs": [
    {
     "data": {
      "text/plain": [
       "[<span class=\"itemprop\" itemprop=\"genre\">Biography</span>,\n",
       " <span class=\"itemprop\" itemprop=\"genre\">Drama</span>,\n",
       " <span class=\"itemprop\" itemprop=\"genre\">Thriller</span>]"
      ]
     },
     "execution_count": 7,
     "metadata": {},
     "output_type": "execute_result"
    }
   ],
   "source": [
    "soup.find_all(name='span', attrs={'itemprop': 'genre'})"
   ]
  },
  {
   "cell_type": "code",
   "execution_count": 8,
   "metadata": {},
   "outputs": [
    {
     "data": {
      "text/plain": [
       "['Biography', 'Drama', 'Thriller']"
      ]
     },
     "execution_count": 8,
     "metadata": {},
     "output_type": "execute_result"
    }
   ],
   "source": [
    "[x.text for x in soup.find_all('span', itemprop='genre')]"
   ]
  },
  {
   "cell_type": "markdown",
   "metadata": {},
   "source": [
    "### Retrieve the description"
   ]
  },
  {
   "cell_type": "code",
   "execution_count": 9,
   "metadata": {},
   "outputs": [
    {
     "data": {
      "text/plain": [
       "'During World War II, mathematician Alan Turing tries to crack the enigma code with help from fellow mathematicians.'"
      ]
     },
     "execution_count": 9,
     "metadata": {},
     "output_type": "execute_result"
    }
   ],
   "source": [
    "soup.find('div', itemprop='description').text.strip()"
   ]
  },
  {
   "cell_type": "markdown",
   "metadata": {},
   "source": [
    "### Retrieve the duration (in minutes)"
   ]
  },
  {
   "cell_type": "code",
   "execution_count": 10,
   "metadata": {},
   "outputs": [
    {
     "data": {
      "text/plain": [
       "114"
      ]
     },
     "execution_count": 10,
     "metadata": {},
     "output_type": "execute_result"
    }
   ],
   "source": [
    "int(re.findall(r'(\\d+)', soup.find('time', itemprop='duration')['datetime'])[0])"
   ]
  },
  {
   "cell_type": "markdown",
   "metadata": {},
   "source": [
    "### Retrieve the content rating"
   ]
  },
  {
   "cell_type": "code",
   "execution_count": 11,
   "metadata": {},
   "outputs": [
    {
     "data": {
      "text/plain": [
       "'12A'"
      ]
     },
     "execution_count": 11,
     "metadata": {},
     "output_type": "execute_result"
    }
   ],
   "source": [
    "soup.find('meta', itemprop='contentRating')['content']"
   ]
  },
  {
   "cell_type": "markdown",
   "metadata": {},
   "source": [
    "### Retrieve the rating"
   ]
  },
  {
   "cell_type": "code",
   "execution_count": 12,
   "metadata": {},
   "outputs": [
    {
     "data": {
      "text/plain": [
       "8.1"
      ]
     },
     "execution_count": 12,
     "metadata": {},
     "output_type": "execute_result"
    }
   ],
   "source": [
    "float(soup.find('span', itemprop='ratingValue').text)"
   ]
  },
  {
   "cell_type": "markdown",
   "metadata": {},
   "source": [
    "### Retrieve the rating and number of reviews"
   ]
  },
  {
   "cell_type": "code",
   "execution_count": 13,
   "metadata": {},
   "outputs": [
    {
     "data": {
      "text/plain": [
       "'8.1 based on 533,052 user ratings'"
      ]
     },
     "execution_count": 13,
     "metadata": {},
     "output_type": "execute_result"
    }
   ],
   "source": [
    "soup.find('div', class_='ratingValue').strong['title']"
   ]
  },
  {
   "cell_type": "code",
   "execution_count": 14,
   "metadata": {},
   "outputs": [
    {
     "data": {
      "text/plain": [
       "'8.1 based on 533,052 user ratings'"
      ]
     },
     "execution_count": 14,
     "metadata": {},
     "output_type": "execute_result"
    }
   ],
   "source": [
    "soup.find('div', 'ratingValue').strong['title']"
   ]
  },
  {
   "cell_type": "code",
   "execution_count": 15,
   "metadata": {},
   "outputs": [
    {
     "data": {
      "text/plain": [
       "(8.1, 533052)"
      ]
     },
     "execution_count": 15,
     "metadata": {},
     "output_type": "execute_result"
    }
   ],
   "source": [
    "rating, n = re.findall(r'^([\\d\\.]+).+?([\\d,]+)', soup.find('div', 'ratingValue').strong['title'])[0]\n",
    "rating = float(rating)\n",
    "n = int(n.replace(',', ''))\n",
    "rating, n"
   ]
  },
  {
   "cell_type": "markdown",
   "metadata": {},
   "source": [
    "### Define a function to do all of the above given an IMDb ID"
   ]
  },
  {
   "cell_type": "code",
   "execution_count": 16,
   "metadata": {
    "collapsed": true
   },
   "outputs": [],
   "source": [
    "def scrape_film_info(imdb_id):\n",
    "    html = requests.get('http://www.imdb.com/title/' + imdb_id).text\n",
    "    soup = BeautifulSoup(html, 'lxml')\n",
    "    info = {}\n",
    "    info['title'] =\\\n",
    "        soup.find('h1', itemprop='name').find(text=True, recursive=False).strip()\n",
    "    info['genres'] =\\\n",
    "        [x.text for x in soup.find_all('span', itemprop='genre')]\n",
    "    info['description'] =\\\n",
    "        soup.find('div', itemprop='description').text.strip()\n",
    "    info['duration'] =\\\n",
    "        int(re.findall(r'(\\d+)', soup.find('time', itemprop='duration')['datetime'])[0])\n",
    "    info['content_rating'] =\\\n",
    "        soup.find('meta', itemprop='contentRating')['content']\n",
    "    rating, n =\\\n",
    "        re.findall(r'^([\\d\\.]+).+?([\\d,]+)',\\\n",
    "                   soup.find('div', 'ratingValue').strong['title'])[0]\n",
    "    info['rating'] = float(rating)\n",
    "    info['n'] = int(n.replace(',', ''))\n",
    "    return info"
   ]
  },
  {
   "cell_type": "code",
   "execution_count": 17,
   "metadata": {},
   "outputs": [
    {
     "data": {
      "text/plain": [
       "{'content_rating': '12A',\n",
       " 'description': 'During World War II, mathematician Alan Turing tries to crack the enigma code with help from fellow mathematicians.',\n",
       " 'duration': 114,\n",
       " 'genres': ['Biography', 'Drama', 'Thriller'],\n",
       " 'n': 533052,\n",
       " 'rating': 8.1,\n",
       " 'title': 'The Imitation Game'}"
      ]
     },
     "execution_count": 17,
     "metadata": {},
     "output_type": "execute_result"
    }
   ],
   "source": [
    "scrape_film_info('tt2084970')"
   ]
  },
  {
   "cell_type": "markdown",
   "metadata": {},
   "source": [
    "### Get the *Top 250 as rated by IMDb Users* list"
   ]
  },
  {
   "cell_type": "code",
   "execution_count": 18,
   "metadata": {
    "collapsed": true
   },
   "outputs": [],
   "source": [
    "soup = BeautifulSoup(requests.get('http://www.imdb.com/chart/top').text, 'lxml')"
   ]
  },
  {
   "cell_type": "markdown",
   "metadata": {},
   "source": [
    "### Retrieve the list of IMDb IDs"
   ]
  },
  {
   "cell_type": "code",
   "execution_count": 19,
   "metadata": {},
   "outputs": [
    {
     "data": {
      "text/plain": [
       "['tt0111161',\n",
       " 'tt0068646',\n",
       " 'tt0071562',\n",
       " 'tt0468569',\n",
       " 'tt0050083',\n",
       " 'tt0108052',\n",
       " 'tt0110912',\n",
       " 'tt0167260',\n",
       " 'tt0060196',\n",
       " 'tt0137523']"
      ]
     },
     "execution_count": 19,
     "metadata": {},
     "output_type": "execute_result"
    }
   ],
   "source": [
    "tmp = soup.find_all(name='td', attrs={'class': 'titleColumn'})\n",
    "imdb_ids = [re.findall(r'/(tt[0-9]+)/', x.a['href'])[0] for x in tmp]\n",
    "imdb_ids = imdb_ids[:10]  # Keep only the top 10 films\n",
    "imdb_ids"
   ]
  },
  {
   "cell_type": "markdown",
   "metadata": {},
   "source": [
    "### Call `scrape_film_info` for each ID"
   ]
  },
  {
   "cell_type": "code",
   "execution_count": 20,
   "metadata": {
    "collapsed": true
   },
   "outputs": [],
   "source": [
    "films = []\n",
    "for imdb_id in imdb_ids:\n",
    "    films.append(scrape_film_info(imdb_id))\n",
    "    sleep(1)"
   ]
  },
  {
   "cell_type": "code",
   "execution_count": 21,
   "metadata": {},
   "outputs": [
    {
     "data": {
      "text/plain": [
       "[{'content_rating': '15',\n",
       "  'description': 'Two imprisoned men bond over a number of years, finding solace and eventual redemption through acts of common decency.',\n",
       "  'duration': 142,\n",
       "  'genres': ['Crime', 'Drama'],\n",
       "  'n': 1813827,\n",
       "  'rating': 9.3,\n",
       "  'title': 'The Shawshank Redemption'},\n",
       " {'content_rating': 'X',\n",
       "  'description': 'The aging patriarch of an organized crime dynasty transfers control of his clandestine empire to his reluctant son.',\n",
       "  'duration': 175,\n",
       "  'genres': ['Crime', 'Drama'],\n",
       "  'n': 1238791,\n",
       "  'rating': 9.2,\n",
       "  'title': 'The Godfather'}]"
      ]
     },
     "execution_count": 21,
     "metadata": {},
     "output_type": "execute_result"
    }
   ],
   "source": [
    "films[:2]"
   ]
  },
  {
   "cell_type": "code",
   "execution_count": 22,
   "metadata": {},
   "outputs": [
    {
     "data": {
      "text/html": [
       "<div>\n",
       "<style>\n",
       "    .dataframe thead tr:only-child th {\n",
       "        text-align: right;\n",
       "    }\n",
       "\n",
       "    .dataframe thead th {\n",
       "        text-align: left;\n",
       "    }\n",
       "\n",
       "    .dataframe tbody tr th {\n",
       "        vertical-align: top;\n",
       "    }\n",
       "</style>\n",
       "<table border=\"1\" class=\"dataframe\">\n",
       "  <thead>\n",
       "    <tr style=\"text-align: right;\">\n",
       "      <th></th>\n",
       "      <th>content_rating</th>\n",
       "      <th>description</th>\n",
       "      <th>duration</th>\n",
       "      <th>genres</th>\n",
       "      <th>n</th>\n",
       "      <th>rating</th>\n",
       "      <th>title</th>\n",
       "    </tr>\n",
       "  </thead>\n",
       "  <tbody>\n",
       "    <tr>\n",
       "      <th>tt0111161</th>\n",
       "      <td>15</td>\n",
       "      <td>Two imprisoned men bond over a number of years...</td>\n",
       "      <td>142</td>\n",
       "      <td>[Crime, Drama]</td>\n",
       "      <td>1813827</td>\n",
       "      <td>9.3</td>\n",
       "      <td>The Shawshank Redemption</td>\n",
       "    </tr>\n",
       "    <tr>\n",
       "      <th>tt0068646</th>\n",
       "      <td>X</td>\n",
       "      <td>The aging patriarch of an organized crime dyna...</td>\n",
       "      <td>175</td>\n",
       "      <td>[Crime, Drama]</td>\n",
       "      <td>1238791</td>\n",
       "      <td>9.2</td>\n",
       "      <td>The Godfather</td>\n",
       "    </tr>\n",
       "    <tr>\n",
       "      <th>tt0071562</th>\n",
       "      <td>X</td>\n",
       "      <td>The early life and career of Vito Corleone in ...</td>\n",
       "      <td>202</td>\n",
       "      <td>[Crime, Drama]</td>\n",
       "      <td>852634</td>\n",
       "      <td>9.0</td>\n",
       "      <td>The Godfather: Part II</td>\n",
       "    </tr>\n",
       "    <tr>\n",
       "      <th>tt0468569</th>\n",
       "      <td>12</td>\n",
       "      <td>When the menace known as the Joker wreaks havo...</td>\n",
       "      <td>152</td>\n",
       "      <td>[Action, Crime, Drama]</td>\n",
       "      <td>1794091</td>\n",
       "      <td>9.0</td>\n",
       "      <td>The Dark Knight</td>\n",
       "    </tr>\n",
       "    <tr>\n",
       "      <th>tt0050083</th>\n",
       "      <td>U</td>\n",
       "      <td>A jury holdout attempts to prevent a miscarria...</td>\n",
       "      <td>96</td>\n",
       "      <td>[Crime, Drama]</td>\n",
       "      <td>491670</td>\n",
       "      <td>8.9</td>\n",
       "      <td>12 Angry Men</td>\n",
       "    </tr>\n",
       "    <tr>\n",
       "      <th>tt0108052</th>\n",
       "      <td>15</td>\n",
       "      <td>In German-occupied Poland during World War II,...</td>\n",
       "      <td>195</td>\n",
       "      <td>[Biography, Drama, History]</td>\n",
       "      <td>931146</td>\n",
       "      <td>8.9</td>\n",
       "      <td>Schindler's List</td>\n",
       "    </tr>\n",
       "    <tr>\n",
       "      <th>tt0110912</th>\n",
       "      <td>18</td>\n",
       "      <td>The lives of two mob hit men, a boxer, a gangs...</td>\n",
       "      <td>154</td>\n",
       "      <td>[Crime, Drama]</td>\n",
       "      <td>1420439</td>\n",
       "      <td>8.9</td>\n",
       "      <td>Pulp Fiction</td>\n",
       "    </tr>\n",
       "    <tr>\n",
       "      <th>tt0167260</th>\n",
       "      <td>12A</td>\n",
       "      <td>Gandalf and Aragorn lead the World of Men agai...</td>\n",
       "      <td>201</td>\n",
       "      <td>[Adventure, Drama, Fantasy]</td>\n",
       "      <td>1301174</td>\n",
       "      <td>8.9</td>\n",
       "      <td>The Lord of the Rings: The Return of the King</td>\n",
       "    </tr>\n",
       "    <tr>\n",
       "      <th>tt0060196</th>\n",
       "      <td>X</td>\n",
       "      <td>A bounty hunting scam joins two men in an unea...</td>\n",
       "      <td>148</td>\n",
       "      <td>[Western]</td>\n",
       "      <td>538443</td>\n",
       "      <td>8.9</td>\n",
       "      <td>The Good, the Bad and the Ugly</td>\n",
       "    </tr>\n",
       "    <tr>\n",
       "      <th>tt0137523</th>\n",
       "      <td>18</td>\n",
       "      <td>An insomniac office worker, looking for a way ...</td>\n",
       "      <td>139</td>\n",
       "      <td>[Drama]</td>\n",
       "      <td>1453391</td>\n",
       "      <td>8.8</td>\n",
       "      <td>Fight Club</td>\n",
       "    </tr>\n",
       "  </tbody>\n",
       "</table>\n",
       "</div>"
      ],
      "text/plain": [
       "          content_rating                                        description  \\\n",
       "tt0111161             15  Two imprisoned men bond over a number of years...   \n",
       "tt0068646              X  The aging patriarch of an organized crime dyna...   \n",
       "tt0071562              X  The early life and career of Vito Corleone in ...   \n",
       "tt0468569             12  When the menace known as the Joker wreaks havo...   \n",
       "tt0050083              U  A jury holdout attempts to prevent a miscarria...   \n",
       "tt0108052             15  In German-occupied Poland during World War II,...   \n",
       "tt0110912             18  The lives of two mob hit men, a boxer, a gangs...   \n",
       "tt0167260            12A  Gandalf and Aragorn lead the World of Men agai...   \n",
       "tt0060196              X  A bounty hunting scam joins two men in an unea...   \n",
       "tt0137523             18  An insomniac office worker, looking for a way ...   \n",
       "\n",
       "           duration                       genres        n  rating  \\\n",
       "tt0111161       142               [Crime, Drama]  1813827     9.3   \n",
       "tt0068646       175               [Crime, Drama]  1238791     9.2   \n",
       "tt0071562       202               [Crime, Drama]   852634     9.0   \n",
       "tt0468569       152       [Action, Crime, Drama]  1794091     9.0   \n",
       "tt0050083        96               [Crime, Drama]   491670     8.9   \n",
       "tt0108052       195  [Biography, Drama, History]   931146     8.9   \n",
       "tt0110912       154               [Crime, Drama]  1420439     8.9   \n",
       "tt0167260       201  [Adventure, Drama, Fantasy]  1301174     8.9   \n",
       "tt0060196       148                    [Western]   538443     8.9   \n",
       "tt0137523       139                      [Drama]  1453391     8.8   \n",
       "\n",
       "                                                   title  \n",
       "tt0111161                       The Shawshank Redemption  \n",
       "tt0068646                                  The Godfather  \n",
       "tt0071562                         The Godfather: Part II  \n",
       "tt0468569                                The Dark Knight  \n",
       "tt0050083                                   12 Angry Men  \n",
       "tt0108052                               Schindler's List  \n",
       "tt0110912                                   Pulp Fiction  \n",
       "tt0167260  The Lord of the Rings: The Return of the King  \n",
       "tt0060196                 The Good, the Bad and the Ugly  \n",
       "tt0137523                                     Fight Club  "
      ]
     },
     "execution_count": 22,
     "metadata": {},
     "output_type": "execute_result"
    }
   ],
   "source": [
    "films = pd.DataFrame(films, index=imdb_ids)  # Convert to a DataFrame\n",
    "films"
   ]
  },
  {
   "cell_type": "markdown",
   "metadata": {},
   "source": [
    "## Accessing APIs"
   ]
  },
  {
   "cell_type": "markdown",
   "metadata": {},
   "source": [
    "### Send API request"
   ]
  },
  {
   "cell_type": "code",
   "execution_count": 23,
   "metadata": {},
   "outputs": [],
   "source": [
    "req = requests.post('http://api.postcodes.io/postcodes', json={'postcodes': ['E1 7PT', 'EC2M 7PP']})"
   ]
  },
  {
   "cell_type": "markdown",
   "metadata": {},
   "source": [
    "### Check HTTP status code (2xx = success, 4xx = client error, 5xx = server error)"
   ]
  },
  {
   "cell_type": "code",
   "execution_count": 24,
   "metadata": {},
   "outputs": [
    {
     "data": {
      "text/plain": [
       "200"
      ]
     },
     "execution_count": 24,
     "metadata": {},
     "output_type": "execute_result"
    }
   ],
   "source": [
    "req.status_code"
   ]
  },
  {
   "cell_type": "markdown",
   "metadata": {},
   "source": [
    "### Get the raw response"
   ]
  },
  {
   "cell_type": "code",
   "execution_count": 25,
   "metadata": {},
   "outputs": [
    {
     "data": {
      "text/plain": [
       "'{\"status\":200,\"result\":[{\"query\":\"E1 7PT\",\"result\":{\"postcode\":\"E1 7PT\",\"quality\":1,\"eastings\":533842,\"northings\":181367,\"country\":\"England\",\"nhs_ha\":\"London\",\"longitude\":-0.0725132699729764,\"latitude\":51.5153793466949,\"parliamentary_constituency\":\"Bethnal Green and Bow\",\"european_electoral_region\":\"London\",\"primary_care_trust\":\"Tower Hamlets\",\"region\":\"London\",\"lsoa\":\"Tower Hamlets 015D\",\"msoa\":\"Tower Hamlets 015\",\"incode\":\"7PT\",\"outcode\":\"E1\",\"admin_district\":\"Tower Hamlets\",\"parish\":\"Tower Hamlets, unparished area\",\"admin_county\":null,\"admin_ward\":\"Spitalfields & Banglatown\",\"ccg\":\"NHS Tower Hamlets\",\"nuts\":\"Tower Hamlets\",\"codes\":{\"admin_district\":\"E09000030\",\"admin_county\":\"E99999999\",\"admin_ward\":\"E05009333\",\"parish\":\"E43000220\",\"ccg\":\"E38000186\",\"nuts\":\"UKI42\"}}},{\"query\":\"EC2M 7PP\",\"result\":{\"postcode\":\"EC2M 7PP\",\"quality\":1,\"eastings\":533190,\"northings\":181545,\"country\":\"England\",\"nhs_ha\":\"London\",\"longitude\":-0.0818367652850008,\"latitude\":51.5171328904314,\"parliamentary_constituency\":\"Cities of London and Westminster\",\"european_electoral_region\":\"London\",\"primary_care_trust\":\"City and Hackney Teaching\",\"region\":\"London\",\"lsoa\":\"City of London 001F\",\"msoa\":\"City of London 001\",\"incode\":\"7PP\",\"outcode\":\"EC2M\",\"admin_district\":\"City of London\",\"parish\":\"City of London, unparished area\",\"admin_county\":null,\"admin_ward\":\"Bishopsgate\",\"ccg\":\"NHS City and Hackney\",\"nuts\":\"Camden and City of London\",\"codes\":{\"admin_district\":\"E09000001\",\"admin_county\":\"E99999999\",\"admin_ward\":\"E05009292\",\"parish\":\"E43000191\",\"ccg\":\"E38000035\",\"nuts\":\"UKI31\"}}}]}'"
      ]
     },
     "execution_count": 25,
     "metadata": {},
     "output_type": "execute_result"
    }
   ],
   "source": [
    "req.text"
   ]
  },
  {
   "cell_type": "markdown",
   "metadata": {},
   "source": [
    "### Decode the JSON response into a dictionary"
   ]
  },
  {
   "cell_type": "code",
   "execution_count": 26,
   "metadata": {},
   "outputs": [
    {
     "data": {
      "text/plain": [
       "{'result': [{'query': 'E1 7PT',\n",
       "   'result': {'admin_county': None,\n",
       "    'admin_district': 'Tower Hamlets',\n",
       "    'admin_ward': 'Spitalfields & Banglatown',\n",
       "    'ccg': 'NHS Tower Hamlets',\n",
       "    'codes': {'admin_county': 'E99999999',\n",
       "     'admin_district': 'E09000030',\n",
       "     'admin_ward': 'E05009333',\n",
       "     'ccg': 'E38000186',\n",
       "     'nuts': 'UKI42',\n",
       "     'parish': 'E43000220'},\n",
       "    'country': 'England',\n",
       "    'eastings': 533842,\n",
       "    'european_electoral_region': 'London',\n",
       "    'incode': '7PT',\n",
       "    'latitude': 51.5153793466949,\n",
       "    'longitude': -0.0725132699729764,\n",
       "    'lsoa': 'Tower Hamlets 015D',\n",
       "    'msoa': 'Tower Hamlets 015',\n",
       "    'nhs_ha': 'London',\n",
       "    'northings': 181367,\n",
       "    'nuts': 'Tower Hamlets',\n",
       "    'outcode': 'E1',\n",
       "    'parish': 'Tower Hamlets, unparished area',\n",
       "    'parliamentary_constituency': 'Bethnal Green and Bow',\n",
       "    'postcode': 'E1 7PT',\n",
       "    'primary_care_trust': 'Tower Hamlets',\n",
       "    'quality': 1,\n",
       "    'region': 'London'}},\n",
       "  {'query': 'EC2M 7PP',\n",
       "   'result': {'admin_county': None,\n",
       "    'admin_district': 'City of London',\n",
       "    'admin_ward': 'Bishopsgate',\n",
       "    'ccg': 'NHS City and Hackney',\n",
       "    'codes': {'admin_county': 'E99999999',\n",
       "     'admin_district': 'E09000001',\n",
       "     'admin_ward': 'E05009292',\n",
       "     'ccg': 'E38000035',\n",
       "     'nuts': 'UKI31',\n",
       "     'parish': 'E43000191'},\n",
       "    'country': 'England',\n",
       "    'eastings': 533190,\n",
       "    'european_electoral_region': 'London',\n",
       "    'incode': '7PP',\n",
       "    'latitude': 51.5171328904314,\n",
       "    'longitude': -0.0818367652850008,\n",
       "    'lsoa': 'City of London 001F',\n",
       "    'msoa': 'City of London 001',\n",
       "    'nhs_ha': 'London',\n",
       "    'northings': 181545,\n",
       "    'nuts': 'Camden and City of London',\n",
       "    'outcode': 'EC2M',\n",
       "    'parish': 'City of London, unparished area',\n",
       "    'parliamentary_constituency': 'Cities of London and Westminster',\n",
       "    'postcode': 'EC2M 7PP',\n",
       "    'primary_care_trust': 'City and Hackney Teaching',\n",
       "    'quality': 1,\n",
       "    'region': 'London'}}],\n",
       " 'status': 200}"
      ]
     },
     "execution_count": 26,
     "metadata": {},
     "output_type": "execute_result"
    }
   ],
   "source": [
    "req.json()"
   ]
  }
 ],
 "metadata": {
  "kernelspec": {
   "display_name": "Python 3",
   "language": "python",
   "name": "python3"
  },
  "language_info": {
   "codemirror_mode": {
    "name": "ipython",
    "version": 3
   },
   "file_extension": ".py",
   "mimetype": "text/x-python",
   "name": "python",
   "nbconvert_exporter": "python",
   "pygments_lexer": "ipython3",
   "version": "3.6.1"
  }
 },
 "nbformat": 4,
 "nbformat_minor": 2
}
