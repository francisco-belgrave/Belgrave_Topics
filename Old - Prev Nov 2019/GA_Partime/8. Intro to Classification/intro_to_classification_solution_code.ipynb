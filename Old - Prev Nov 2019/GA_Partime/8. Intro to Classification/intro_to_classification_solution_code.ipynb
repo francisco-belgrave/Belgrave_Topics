{
 "cells": [
  {
   "cell_type": "code",
   "execution_count": 1,
   "metadata": {
    "collapsed": true
   },
   "outputs": [],
   "source": [
    "from sklearn import datasets, neighbors, metrics\n",
    "import pandas as pd\n",
    "import seaborn as sns"
   ]
  },
  {
   "cell_type": "code",
   "execution_count": 2,
   "metadata": {
    "collapsed": true
   },
   "outputs": [],
   "source": [
    "%matplotlib inline"
   ]
  },
  {
   "cell_type": "markdown",
   "metadata": {},
   "source": [
    "### Using distance: KNN implementation"
   ]
  },
  {
   "cell_type": "code",
   "execution_count": 6,
   "metadata": {},
   "outputs": [
    {
     "name": "stdout",
     "output_type": "stream",
     "text": [
      "[0 0 0 0 0 0 0 0 0 0 0 0 0 0 0 0 0 0 0 0 0 0 0 0 0 0 0 0 0 0 0 0 0 0 0 0 0\n",
      " 0 0 0 0 0 0 0 0 0 0 0 0 0 1 1 1 1 1 1 1 1 1 1 1 1 1 1 1 1 1 1 1 1 2 1 1 1\n",
      " 1 1 1 2 1 1 1 1 1 2 1 1 1 1 1 1 1 1 1 1 1 1 1 1 1 1 2 2 2 2 2 2 1 2 2 2 2\n",
      " 2 2 2 2 2 2 2 2 1 2 2 2 2 2 2 2 2 2 2 2 2 2 1 2 2 2 2 2 2 2 2 2 2 2 2 2 2\n",
      " 2 2]\n",
      "[0 0 0 0 0 0 0 0 0 0 0 0 0 0 0 0 0 0 0 0 0 0 0 0 0 0 0 0 0 0 0 0 0 0 0 0 0\n",
      " 0 0 0 0 0 0 0 0 0 0 0 0 0 1 1 1 1 1 1 1 1 1 1 1 1 1 1 1 1 1 1 1 1 1 1 1 1\n",
      " 1 1 1 1 1 1 1 1 1 1 1 1 1 1 1 1 1 1 1 1 1 1 1 1 1 1 2 2 2 2 2 2 2 2 2 2 2\n",
      " 2 2 2 2 2 2 2 2 2 2 2 2 2 2 2 2 2 2 2 2 2 2 2 2 2 2 2 2 2 2 2 2 2 2 2 2 2\n",
      " 2 2]\n",
      "0.96\n"
     ]
    }
   ],
   "source": [
    "from sklearn import datasets, neighbors, metrics\n",
    "import pandas as pd\n",
    "\n",
    "iris = datasets.load_iris()\n",
    "# n_neighbors is our option in KNN. We'll tune this value to attempt to improve our prediction.\n",
    "knn = neighbors.KNeighborsClassifier(n_neighbors=5, weights='uniform')\n",
    "knn.fit(iris.data[:,2:], iris.target)\n",
    "print knn.predict(iris.data[:,2:])\n",
    "print iris.target\n",
    "\n",
    "print knn.score(iris.data[:,2:], iris.target)"
   ]
  },
  {
   "cell_type": "markdown",
   "metadata": {},
   "source": [
    "Do we see a change in performance with using the distance weight?"
   ]
  },
  {
   "cell_type": "code",
   "execution_count": 7,
   "metadata": {},
   "outputs": [
    {
     "name": "stdout",
     "output_type": "stream",
     "text": [
      "[0 0 0 0 0 0 0 0 0 0 0 0 0 0 0 0 0 0 0 0 0 0 0 0 0 0 0 0 0 0 0 0 0 0 0 0 0\n",
      " 0 0 0 0 0 0 0 0 0 0 0 0 0 1 1 1 1 1 1 1 1 1 1 1 1 1 1 1 1 1 1 1 1 2 1 1 1\n",
      " 1 1 1 1 1 1 1 1 1 1 1 1 1 1 1 1 1 1 1 1 1 1 1 1 1 1 2 2 2 2 2 2 2 2 2 2 2\n",
      " 2 2 2 2 2 2 2 2 2 2 2 2 2 2 2 2 2 2 2 2 2 2 2 2 2 2 2 2 2 2 2 2 2 2 2 2 2\n",
      " 2 2]\n",
      "[0 0 0 0 0 0 0 0 0 0 0 0 0 0 0 0 0 0 0 0 0 0 0 0 0 0 0 0 0 0 0 0 0 0 0 0 0\n",
      " 0 0 0 0 0 0 0 0 0 0 0 0 0 1 1 1 1 1 1 1 1 1 1 1 1 1 1 1 1 1 1 1 1 1 1 1 1\n",
      " 1 1 1 1 1 1 1 1 1 1 1 1 1 1 1 1 1 1 1 1 1 1 1 1 1 1 2 2 2 2 2 2 2 2 2 2 2\n",
      " 2 2 2 2 2 2 2 2 2 2 2 2 2 2 2 2 2 2 2 2 2 2 2 2 2 2 2 2 2 2 2 2 2 2 2 2 2\n",
      " 2 2]\n",
      "0.993333333333\n"
     ]
    }
   ],
   "source": [
    "knn = neighbors.KNeighborsClassifier(n_neighbors=5, weights='distance')\n",
    "knn.fit(iris.data[:,2:], iris.target)\n",
    "print knn.predict(iris.data[:,2:])\n",
    "print iris.target\n",
    "\n",
    "print knn.score(iris.data[:,2:], iris.target)"
   ]
  },
  {
   "cell_type": "markdown",
   "metadata": {},
   "source": [
    "### Solution to solving K\n",
    "\n",
    "This is only one approach to the problem, but adding in the 'distance' parameter (instead of uniform) would only be additive; note that the code would need some editing to handle it properly if done in the grid search; alternatively, make the change directly in the estimator."
   ]
  },
  {
   "cell_type": "code",
   "execution_count": 8,
   "metadata": {},
   "outputs": [
    {
     "data": {
      "text/plain": [
       "[mean: 0.90667, std: 0.09752, params: {'n_neighbors': 2},\n",
       " mean: 0.90667, std: 0.09286, params: {'n_neighbors': 3},\n",
       " mean: 0.90667, std: 0.09286, params: {'n_neighbors': 4},\n",
       " mean: 0.91333, std: 0.08327, params: {'n_neighbors': 5},\n",
       " mean: 0.90667, std: 0.09286, params: {'n_neighbors': 6},\n",
       " mean: 0.92000, std: 0.08589, params: {'n_neighbors': 7},\n",
       " mean: 0.91333, std: 0.08844, params: {'n_neighbors': 8},\n",
       " mean: 0.92000, std: 0.09092, params: {'n_neighbors': 9},\n",
       " mean: 0.92000, std: 0.09092, params: {'n_neighbors': 10},\n",
       " mean: 0.91333, std: 0.08589, params: {'n_neighbors': 11},\n",
       " mean: 0.89333, std: 0.10625, params: {'n_neighbors': 12},\n",
       " mean: 0.90667, std: 0.08273, params: {'n_neighbors': 13},\n",
       " mean: 0.90000, std: 0.09428, params: {'n_neighbors': 14},\n",
       " mean: 0.90000, std: 0.09428, params: {'n_neighbors': 15},\n",
       " mean: 0.88667, std: 0.11851, params: {'n_neighbors': 16},\n",
       " mean: 0.88000, std: 0.12754, params: {'n_neighbors': 17},\n",
       " mean: 0.86667, std: 0.12111, params: {'n_neighbors': 18},\n",
       " mean: 0.88667, std: 0.11662, params: {'n_neighbors': 19},\n",
       " mean: 0.86667, std: 0.13499, params: {'n_neighbors': 20},\n",
       " mean: 0.86667, std: 0.13499, params: {'n_neighbors': 21},\n",
       " mean: 0.86667, std: 0.13499, params: {'n_neighbors': 22},\n",
       " mean: 0.86667, std: 0.13499, params: {'n_neighbors': 23},\n",
       " mean: 0.84667, std: 0.17075, params: {'n_neighbors': 24},\n",
       " mean: 0.86000, std: 0.14667, params: {'n_neighbors': 25},\n",
       " mean: 0.84667, std: 0.17075, params: {'n_neighbors': 26},\n",
       " mean: 0.84667, std: 0.15434, params: {'n_neighbors': 27},\n",
       " mean: 0.82000, std: 0.18809, params: {'n_neighbors': 28},\n",
       " mean: 0.80000, std: 0.19437, params: {'n_neighbors': 29},\n",
       " mean: 0.78667, std: 0.21250, params: {'n_neighbors': 30},\n",
       " mean: 0.77333, std: 0.21848, params: {'n_neighbors': 31},\n",
       " mean: 0.74000, std: 0.27520, params: {'n_neighbors': 32},\n",
       " mean: 0.75333, std: 0.26043, params: {'n_neighbors': 33},\n",
       " mean: 0.72000, std: 0.30155, params: {'n_neighbors': 34},\n",
       " mean: 0.69333, std: 0.31510, params: {'n_neighbors': 35},\n",
       " mean: 0.68000, std: 0.33506, params: {'n_neighbors': 36},\n",
       " mean: 0.68667, std: 0.30955, params: {'n_neighbors': 37},\n",
       " mean: 0.64000, std: 0.38320, params: {'n_neighbors': 38},\n",
       " mean: 0.64000, std: 0.38320, params: {'n_neighbors': 39},\n",
       " mean: 0.64000, std: 0.38320, params: {'n_neighbors': 40},\n",
       " mean: 0.38667, std: 0.42248, params: {'n_neighbors': 41},\n",
       " mean: 0.37333, std: 0.43123, params: {'n_neighbors': 42},\n",
       " mean: 0.37333, std: 0.43123, params: {'n_neighbors': 43},\n",
       " mean: 0.37333, std: 0.43123, params: {'n_neighbors': 44},\n",
       " mean: 0.37333, std: 0.43123, params: {'n_neighbors': 45},\n",
       " mean: 0.37333, std: 0.43123, params: {'n_neighbors': 46},\n",
       " mean: 0.37333, std: 0.43123, params: {'n_neighbors': 47},\n",
       " mean: 0.36000, std: 0.41655, params: {'n_neighbors': 48},\n",
       " mean: 0.36000, std: 0.41655, params: {'n_neighbors': 49},\n",
       " mean: 0.36000, std: 0.41655, params: {'n_neighbors': 50},\n",
       " mean: 0.36000, std: 0.42864, params: {'n_neighbors': 51},\n",
       " mean: 0.34667, std: 0.42667, params: {'n_neighbors': 52},\n",
       " mean: 0.34667, std: 0.42667, params: {'n_neighbors': 53},\n",
       " mean: 0.33333, std: 0.41312, params: {'n_neighbors': 54},\n",
       " mean: 0.34667, std: 0.42667, params: {'n_neighbors': 55},\n",
       " mean: 0.32000, std: 0.40089, params: {'n_neighbors': 56},\n",
       " mean: 0.32667, std: 0.40683, params: {'n_neighbors': 57},\n",
       " mean: 0.32000, std: 0.40089, params: {'n_neighbors': 58},\n",
       " mean: 0.32667, std: 0.40683, params: {'n_neighbors': 59},\n",
       " mean: 0.24667, std: 0.36246, params: {'n_neighbors': 60},\n",
       " mean: 0.20667, std: 0.28783, params: {'n_neighbors': 61},\n",
       " mean: 0.10667, std: 0.13233, params: {'n_neighbors': 62},\n",
       " mean: 0.10667, std: 0.13233, params: {'n_neighbors': 63},\n",
       " mean: 0.10667, std: 0.13233, params: {'n_neighbors': 64},\n",
       " mean: 0.10667, std: 0.13233, params: {'n_neighbors': 65},\n",
       " mean: 0.10667, std: 0.13233, params: {'n_neighbors': 66},\n",
       " mean: 0.10667, std: 0.13233, params: {'n_neighbors': 67},\n",
       " mean: 0.10667, std: 0.13233, params: {'n_neighbors': 68},\n",
       " mean: 0.10667, std: 0.13233, params: {'n_neighbors': 69},\n",
       " mean: 0.10667, std: 0.13233, params: {'n_neighbors': 70},\n",
       " mean: 0.10667, std: 0.13233, params: {'n_neighbors': 71},\n",
       " mean: 0.10667, std: 0.13233, params: {'n_neighbors': 72},\n",
       " mean: 0.10667, std: 0.13233, params: {'n_neighbors': 73},\n",
       " mean: 0.10667, std: 0.13233, params: {'n_neighbors': 74},\n",
       " mean: 0.08667, std: 0.11851, params: {'n_neighbors': 75},\n",
       " mean: 0.08667, std: 0.11851, params: {'n_neighbors': 76},\n",
       " mean: 0.08667, std: 0.11851, params: {'n_neighbors': 77},\n",
       " mean: 0.08667, std: 0.11851, params: {'n_neighbors': 78},\n",
       " mean: 0.08667, std: 0.11851, params: {'n_neighbors': 79},\n",
       " mean: 0.08667, std: 0.11851, params: {'n_neighbors': 80},\n",
       " mean: 0.07333, std: 0.10414, params: {'n_neighbors': 81},\n",
       " mean: 0.07333, std: 0.10414, params: {'n_neighbors': 82},\n",
       " mean: 0.07333, std: 0.10414, params: {'n_neighbors': 83},\n",
       " mean: 0.07333, std: 0.10414, params: {'n_neighbors': 84},\n",
       " mean: 0.06667, std: 0.10328, params: {'n_neighbors': 85},\n",
       " mean: 0.06667, std: 0.10328, params: {'n_neighbors': 86},\n",
       " mean: 0.06667, std: 0.10328, params: {'n_neighbors': 87},\n",
       " mean: 0.06667, std: 0.10328, params: {'n_neighbors': 88},\n",
       " mean: 0.06667, std: 0.10328, params: {'n_neighbors': 89},\n",
       " mean: 0.06667, std: 0.10328, params: {'n_neighbors': 90},\n",
       " mean: 0.06667, std: 0.10328, params: {'n_neighbors': 91},\n",
       " mean: 0.06667, std: 0.10328, params: {'n_neighbors': 92},\n",
       " mean: 0.06667, std: 0.10328, params: {'n_neighbors': 93},\n",
       " mean: 0.06667, std: 0.10328, params: {'n_neighbors': 94},\n",
       " mean: 0.06667, std: 0.10328, params: {'n_neighbors': 95},\n",
       " mean: 0.06667, std: 0.10328, params: {'n_neighbors': 96},\n",
       " mean: 0.06667, std: 0.10328, params: {'n_neighbors': 97},\n",
       " mean: 0.06667, std: 0.10328, params: {'n_neighbors': 98},\n",
       " mean: 0.06667, std: 0.10328, params: {'n_neighbors': 99}]"
      ]
     },
     "execution_count": 8,
     "metadata": {},
     "output_type": "execute_result"
    }
   ],
   "source": [
    "from sklearn import grid_search, cross_validation\n",
    "import matplotlib.pyplot as plt\n",
    "\n",
    "# some n_list! keep in mind cross validation\n",
    "# recall: what's an effective way to create a numerical list in python?\n",
    "k = range(2, 100)\n",
    "params = {'n_neighbors': k }\n",
    "kf = cross_validation.KFold(len(irisdf), n_folds = 5)\n",
    "gs = grid_search.GridSearchCV(\n",
    "    estimator=neighbors.KNeighborsClassifier(),\n",
    "    param_grid=params,\n",
    "    cv=kf,\n",
    ")\n",
    "gs.fit(iris.data, iris.target)\n",
    "gs.grid_scores_"
   ]
  },
  {
   "cell_type": "code",
   "execution_count": 9,
   "metadata": {},
   "outputs": [
    {
     "data": {
      "text/plain": [
       "[<matplotlib.lines.Line2D at 0x110d8d6d0>]"
      ]
     },
     "execution_count": 9,
     "metadata": {},
     "output_type": "execute_result"
    },
    {
     "data": {
      "image/png": "[encoded data removed]",
      "text/plain": [
       "<matplotlib.figure.Figure at 0x11098b910>"
      ]
     },
     "metadata": {},
     "output_type": "display_data"
    }
   ],
   "source": [
    "plt.plot(k,[s[1] for s in  gs.grid_scores_],)"
   ]
  },
  {
   "cell_type": "markdown",
   "metadata": {},
   "source": [
    "Zoom in to look at fit before first dive around 25:"
   ]
  },
  {
   "cell_type": "code",
   "execution_count": 10,
   "metadata": {},
   "outputs": [
    {
     "data": {
      "text/plain": [
       "[<matplotlib.lines.Line2D at 0x110e95450>]"
      ]
     },
     "execution_count": 10,
     "metadata": {},
     "output_type": "execute_result"
    },
    {
     "data": {
      "image/png": "[encoded data removed]",
      "text/plain": [
       "<matplotlib.figure.Figure at 0x110d9c210>"
      ]
     },
     "metadata": {},
     "output_type": "display_data"
    }
   ],
   "source": [
    "plt.plot(k[:25],[s[1] for s in  gs.grid_scores_][:25],)"
   ]
  },
  {
   "cell_type": "code",
   "execution_count": null,
   "metadata": {
    "collapsed": true
   },
   "outputs": [],
   "source": []
  }
 ],
 "metadata": {
  "kernelspec": {
   "display_name": "Python 2",
   "language": "python",
   "name": "python2"
  },
  "language_info": {
   "codemirror_mode": {
    "name": "ipython",
    "version": 2
   },
   "file_extension": ".py",
   "mimetype": "text/x-python",
   "name": "python",
   "nbconvert_exporter": "python",
   "pygments_lexer": "ipython2",
   "version": "2.7.10"
  }
 },
 "nbformat": 4,
 "nbformat_minor": 1
}
