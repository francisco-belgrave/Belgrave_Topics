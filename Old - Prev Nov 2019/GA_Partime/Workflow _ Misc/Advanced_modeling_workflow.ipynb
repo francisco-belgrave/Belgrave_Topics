{
 "cells": [
  {
   "cell_type": "markdown",
   "metadata": {},
   "source": [
    "<img src=\"http://imgur.com/1ZcRyrc.png\" style=\"float: left; margin: 20px; height: 55px\">\n",
    "\n",
    "# Model tuning\n",
    "\n",
    "---"
   ]
  },
  {
   "cell_type": "markdown",
   "metadata": {},
   "source": [
    "We have covered various models for classification and regression which allow us to fit a response variable to a set of feature variables. Usually, all models have a variety of parameters which can be tuned to find the best among all possible models. Best in that context means not only fitting the training data well, but generalising also to previously unseen test data. \n",
    "\n",
    "In the lessons you have seen how to use regularisation and grid search in combination with cross validation to find a good model according to model scores like MSE and R2 in the case of regression, and accuracy, recall or precision in the case of classification.\n",
    "\n",
    "As a reference below we will illustrate this procedure for a binary classification problem with logistic regression.\n",
    "\n",
    "The same steps can be used for other models if you replace with the appropriate tuning parameters.\n",
    " \n",
    "\n",
    "We assume you already have a data set with the features and the target you want to model (this is the output you get from doing the EDA).\n",
    "\n",
    "Then the basic workflow generalises in the following way:\n",
    "-----\n",
    "\n",
    "1. Create an Instance of the model\n",
    "\n",
    "1. Check for the parameters of the model (each model will come with its own particular set of parameters)\n",
    "\n",
    "1. Set up a search grid for the parameters you want to tune in form of a dictionary with the tuning parameters as keys and lists of possible values\n",
    "\n",
    "1. Call GridSearchCV with the model, the parameter grid, the number of cross validation steps and the scoring of your choice\n",
    "\n",
    "1. Fit the model\n",
    "\n",
    "1. Extract the best score\n",
    "\n",
    "1. Extract the best parameters\n",
    "\n",
    "1. Choose the model with the best parameters and predict target variable values (here chosen for some of the values in the dataset)"
   ]
  },
  {
   "cell_type": "markdown",
   "metadata": {},
   "source": [
    "## Example"
   ]
  },
  {
   "cell_type": "markdown",
   "metadata": {},
   "source": [
    "First we load the libraries that we will need. "
   ]
  },
  {
   "cell_type": "code",
   "execution_count": 1,
   "metadata": {
    "collapsed": true
   },
   "outputs": [],
   "source": [
    "import numpy as np\n",
    "import pandas as pd\n",
    "from sklearn import datasets, metrics\n",
    "from sklearn.linear_model import LogisticRegression\n",
    "from sklearn import model_selection"
   ]
  },
  {
   "cell_type": "markdown",
   "metadata": {},
   "source": [
    "#### Now we load the breast cancer dataset that's included in sklearn."
   ]
  },
  {
   "cell_type": "code",
   "execution_count": 2,
   "metadata": {
    "collapsed": true
   },
   "outputs": [],
   "source": [
    "bc = datasets.load_breast_cancer()"
   ]
  },
  {
   "cell_type": "markdown",
   "metadata": {},
   "source": [
    "#### Load the feature matrix with data about the instances of breast cancer"
   ]
  },
  {
   "cell_type": "code",
   "execution_count": 3,
   "metadata": {},
   "outputs": [
    {
     "data": {
      "text/html": [
       "<div>\n",
       "<table border=\"1\" class=\"dataframe\">\n",
       "  <thead>\n",
       "    <tr style=\"text-align: right;\">\n",
       "      <th></th>\n",
       "      <th>mean radius</th>\n",
       "      <th>mean texture</th>\n",
       "      <th>mean perimeter</th>\n",
       "      <th>mean area</th>\n",
       "      <th>mean smoothness</th>\n",
       "      <th>mean compactness</th>\n",
       "      <th>mean concavity</th>\n",
       "      <th>mean concave points</th>\n",
       "      <th>mean symmetry</th>\n",
       "      <th>mean fractal dimension</th>\n",
       "      <th>...</th>\n",
       "      <th>worst radius</th>\n",
       "      <th>worst texture</th>\n",
       "      <th>worst perimeter</th>\n",
       "      <th>worst area</th>\n",
       "      <th>worst smoothness</th>\n",
       "      <th>worst compactness</th>\n",
       "      <th>worst concavity</th>\n",
       "      <th>worst concave points</th>\n",
       "      <th>worst symmetry</th>\n",
       "      <th>worst fractal dimension</th>\n",
       "    </tr>\n",
       "  </thead>\n",
       "  <tbody>\n",
       "    <tr>\n",
       "      <th>0</th>\n",
       "      <td>17.99</td>\n",
       "      <td>10.38</td>\n",
       "      <td>122.8</td>\n",
       "      <td>1001.0</td>\n",
       "      <td>0.11840</td>\n",
       "      <td>0.27760</td>\n",
       "      <td>0.3001</td>\n",
       "      <td>0.14710</td>\n",
       "      <td>0.2419</td>\n",
       "      <td>0.07871</td>\n",
       "      <td>...</td>\n",
       "      <td>25.38</td>\n",
       "      <td>17.33</td>\n",
       "      <td>184.6</td>\n",
       "      <td>2019.0</td>\n",
       "      <td>0.1622</td>\n",
       "      <td>0.6656</td>\n",
       "      <td>0.7119</td>\n",
       "      <td>0.2654</td>\n",
       "      <td>0.4601</td>\n",
       "      <td>0.11890</td>\n",
       "    </tr>\n",
       "    <tr>\n",
       "      <th>1</th>\n",
       "      <td>20.57</td>\n",
       "      <td>17.77</td>\n",
       "      <td>132.9</td>\n",
       "      <td>1326.0</td>\n",
       "      <td>0.08474</td>\n",
       "      <td>0.07864</td>\n",
       "      <td>0.0869</td>\n",
       "      <td>0.07017</td>\n",
       "      <td>0.1812</td>\n",
       "      <td>0.05667</td>\n",
       "      <td>...</td>\n",
       "      <td>24.99</td>\n",
       "      <td>23.41</td>\n",
       "      <td>158.8</td>\n",
       "      <td>1956.0</td>\n",
       "      <td>0.1238</td>\n",
       "      <td>0.1866</td>\n",
       "      <td>0.2416</td>\n",
       "      <td>0.1860</td>\n",
       "      <td>0.2750</td>\n",
       "      <td>0.08902</td>\n",
       "    </tr>\n",
       "    <tr>\n",
       "      <th>2</th>\n",
       "      <td>19.69</td>\n",
       "      <td>21.25</td>\n",
       "      <td>130.0</td>\n",
       "      <td>1203.0</td>\n",
       "      <td>0.10960</td>\n",
       "      <td>0.15990</td>\n",
       "      <td>0.1974</td>\n",
       "      <td>0.12790</td>\n",
       "      <td>0.2069</td>\n",
       "      <td>0.05999</td>\n",
       "      <td>...</td>\n",
       "      <td>23.57</td>\n",
       "      <td>25.53</td>\n",
       "      <td>152.5</td>\n",
       "      <td>1709.0</td>\n",
       "      <td>0.1444</td>\n",
       "      <td>0.4245</td>\n",
       "      <td>0.4504</td>\n",
       "      <td>0.2430</td>\n",
       "      <td>0.3613</td>\n",
       "      <td>0.08758</td>\n",
       "    </tr>\n",
       "  </tbody>\n",
       "</table>\n",
       "<p>3 rows × 30 columns</p>\n",
       "</div>"
      ],
      "text/plain": [
       "   mean radius  mean texture  mean perimeter  mean area  mean smoothness  \\\n",
       "0        17.99         10.38           122.8     1001.0          0.11840   \n",
       "1        20.57         17.77           132.9     1326.0          0.08474   \n",
       "2        19.69         21.25           130.0     1203.0          0.10960   \n",
       "\n",
       "   mean compactness  mean concavity  mean concave points  mean symmetry  \\\n",
       "0           0.27760          0.3001              0.14710         0.2419   \n",
       "1           0.07864          0.0869              0.07017         0.1812   \n",
       "2           0.15990          0.1974              0.12790         0.2069   \n",
       "\n",
       "   mean fractal dimension           ...             worst radius  \\\n",
       "0                 0.07871           ...                    25.38   \n",
       "1                 0.05667           ...                    24.99   \n",
       "2                 0.05999           ...                    23.57   \n",
       "\n",
       "   worst texture  worst perimeter  worst area  worst smoothness  \\\n",
       "0          17.33            184.6      2019.0            0.1622   \n",
       "1          23.41            158.8      1956.0            0.1238   \n",
       "2          25.53            152.5      1709.0            0.1444   \n",
       "\n",
       "   worst compactness  worst concavity  worst concave points  worst symmetry  \\\n",
       "0             0.6656           0.7119                0.2654          0.4601   \n",
       "1             0.1866           0.2416                0.1860          0.2750   \n",
       "2             0.4245           0.4504                0.2430          0.3613   \n",
       "\n",
       "   worst fractal dimension  \n",
       "0                  0.11890  \n",
       "1                  0.08902  \n",
       "2                  0.08758  \n",
       "\n",
       "[3 rows x 30 columns]"
      ]
     },
     "execution_count": 3,
     "metadata": {},
     "output_type": "execute_result"
    }
   ],
   "source": [
    "features_df = pd.DataFrame(bc.data, columns=bc.feature_names)\n",
    "\n",
    "features_df.head(3)"
   ]
  },
  {
   "cell_type": "markdown",
   "metadata": {},
   "source": [
    "#### Load the target variable (1 for malign, 0 for benign)"
   ]
  },
  {
   "cell_type": "code",
   "execution_count": 4,
   "metadata": {},
   "outputs": [
    {
     "data": {
      "text/plain": [
       "0    0\n",
       "1    0\n",
       "2    0\n",
       "dtype: int64"
      ]
     },
     "execution_count": 4,
     "metadata": {},
     "output_type": "execute_result"
    }
   ],
   "source": [
    "target_df = pd.Series(bc.target)\n",
    "target_df.head(3)"
   ]
  },
  {
   "cell_type": "markdown",
   "metadata": {},
   "source": [
    "### Logistic regression\n",
    "\n",
    "Now that we have the data (features and target), we will go through the steps in the workflow, so we can fit a linear regression on _**all**_ of our features.\n",
    "\n",
    "#### 1. Create an instance of the model (here you could also use other classifiers)"
   ]
  },
  {
   "cell_type": "code",
   "execution_count": 5,
   "metadata": {
    "collapsed": true
   },
   "outputs": [],
   "source": [
    "model = LogisticRegression()"
   ]
  },
  {
   "cell_type": "markdown",
   "metadata": {},
   "source": [
    "#### 2. Check for the parameters of the model (each model will come with its own particular set of parameters)"
   ]
  },
  {
   "cell_type": "code",
   "execution_count": 6,
   "metadata": {},
   "outputs": [
    {
     "data": {
      "text/plain": [
       "['warm_start',\n",
       " 'C',\n",
       " 'n_jobs',\n",
       " 'verbose',\n",
       " 'intercept_scaling',\n",
       " 'fit_intercept',\n",
       " 'max_iter',\n",
       " 'penalty',\n",
       " 'multi_class',\n",
       " 'random_state',\n",
       " 'dual',\n",
       " 'tol',\n",
       " 'solver',\n",
       " 'class_weight']"
      ]
     },
     "execution_count": 6,
     "metadata": {},
     "output_type": "execute_result"
    }
   ],
   "source": [
    "model.get_params().keys()"
   ]
  },
  {
   "cell_type": "markdown",
   "metadata": {},
   "source": [
    "**Note:** Not all of the model parameters are tuning parameters. 'C', 'penalty', 'fit_intercept' for example are tuning parameters, whereas 'n_jobs', 'verbose' or 'random_state' are not. "
   ]
  },
  {
   "cell_type": "markdown",
   "metadata": {},
   "source": [
    "#### 3. Set up a search grid for the parameters you want to tune in form of a dictionary with the tuning parameters as keys and lists of possible values"
   ]
  },
  {
   "cell_type": "code",
   "execution_count": 7,
   "metadata": {
    "collapsed": true
   },
   "outputs": [],
   "source": [
    "params = {'C':[0.1,1,10],\n",
    "          'penalty':['l1','l2'],\n",
    "          'fit_intercept':[True,False]}"
   ]
  },
  {
   "cell_type": "markdown",
   "metadata": {},
   "source": [
    "#### 4. Call GridSearchCV with the model, the parameter grid, the number of cross validation steps and the scoring of your choice"
   ]
  },
  {
   "cell_type": "code",
   "execution_count": 8,
   "metadata": {
    "collapsed": true
   },
   "outputs": [],
   "source": [
    "gs = model_selection.GridSearchCV(estimator=model,\n",
    "                                  param_grid=params,\n",
    "                                  cv=5,\n",
    "                                  scoring='accuracy')"
   ]
  },
  {
   "cell_type": "markdown",
   "metadata": {},
   "source": [
    "#### 5. Fit the model"
   ]
  },
  {
   "cell_type": "code",
   "execution_count": 9,
   "metadata": {},
   "outputs": [
    {
     "data": {
      "text/plain": [
       "GridSearchCV(cv=5, error_score='raise',\n",
       "       estimator=LogisticRegression(C=1.0, class_weight=None, dual=False, fit_intercept=True,\n",
       "          intercept_scaling=1, max_iter=100, multi_class='ovr', n_jobs=1,\n",
       "          penalty='l2', random_state=None, solver='liblinear', tol=0.0001,\n",
       "          verbose=0, warm_start=False),\n",
       "       fit_params={}, iid=True, n_jobs=1,\n",
       "       param_grid={'penalty': ['l1', 'l2'], 'C': [0.1, 1, 10], 'fit_intercept': [True, False]},\n",
       "       pre_dispatch='2*n_jobs', refit=True, return_train_score=True,\n",
       "       scoring='accuracy', verbose=0)"
      ]
     },
     "execution_count": 9,
     "metadata": {},
     "output_type": "execute_result"
    }
   ],
   "source": [
    "gs.fit(features_df,target_df)"
   ]
  },
  {
   "cell_type": "markdown",
   "metadata": {},
   "source": [
    "#### 6. Extract the best score"
   ]
  },
  {
   "cell_type": "code",
   "execution_count": 10,
   "metadata": {},
   "outputs": [
    {
     "name": "stdout",
     "output_type": "stream",
     "text": [
      "0.957820738137\n"
     ]
    }
   ],
   "source": [
    "print gs.best_score_"
   ]
  },
  {
   "cell_type": "markdown",
   "metadata": {},
   "source": [
    "#### 7. Extract the best parameters"
   ]
  },
  {
   "cell_type": "code",
   "execution_count": 11,
   "metadata": {},
   "outputs": [
    {
     "name": "stdout",
     "output_type": "stream",
     "text": [
      "{'penalty': 'l1', 'C': 10, 'fit_intercept': True}\n"
     ]
    }
   ],
   "source": [
    "print gs.best_params_"
   ]
  },
  {
   "cell_type": "markdown",
   "metadata": {},
   "source": [
    "#### 8. Choose the model with the best parameters and predict target variable values (here chosen for some of the values in the dataset)"
   ]
  },
  {
   "cell_type": "code",
   "execution_count": 12,
   "metadata": {},
   "outputs": [
    {
     "data": {
      "text/plain": [
       "array([0, 1, 1, 1, 1, 0, 1, 1, 0, 1])"
      ]
     },
     "execution_count": 12,
     "metadata": {},
     "output_type": "execute_result"
    }
   ],
   "source": [
    "gs.best_estimator_.predict(features_df.iloc[100:110])"
   ]
  },
  {
   "cell_type": "markdown",
   "metadata": {},
   "source": [
    "### Further analysis"
   ]
  },
  {
   "cell_type": "markdown",
   "metadata": {},
   "source": [
    "#### Get all results from the grid search (they are returned as a dictionary that you can conveniently read into a data frame)"
   ]
  },
  {
   "cell_type": "code",
   "execution_count": 13,
   "metadata": {},
   "outputs": [
    {
     "data": {
      "text/html": [
       "<div>\n",
       "<table border=\"1\" class=\"dataframe\">\n",
       "  <thead>\n",
       "    <tr style=\"text-align: right;\">\n",
       "      <th></th>\n",
       "      <th>mean_fit_time</th>\n",
       "      <th>mean_score_time</th>\n",
       "      <th>mean_test_score</th>\n",
       "      <th>mean_train_score</th>\n",
       "      <th>param_C</th>\n",
       "      <th>param_fit_intercept</th>\n",
       "      <th>param_penalty</th>\n",
       "      <th>params</th>\n",
       "      <th>rank_test_score</th>\n",
       "      <th>split0_test_score</th>\n",
       "      <th>...</th>\n",
       "      <th>split2_test_score</th>\n",
       "      <th>split2_train_score</th>\n",
       "      <th>split3_test_score</th>\n",
       "      <th>split3_train_score</th>\n",
       "      <th>split4_test_score</th>\n",
       "      <th>split4_train_score</th>\n",
       "      <th>std_fit_time</th>\n",
       "      <th>std_score_time</th>\n",
       "      <th>std_test_score</th>\n",
       "      <th>std_train_score</th>\n",
       "    </tr>\n",
       "  </thead>\n",
       "  <tbody>\n",
       "    <tr>\n",
       "      <th>0</th>\n",
       "      <td>0.100128</td>\n",
       "      <td>0.007826</td>\n",
       "      <td>0.926186</td>\n",
       "      <td>0.938488</td>\n",
       "      <td>0.1</td>\n",
       "      <td>True</td>\n",
       "      <td>l1</td>\n",
       "      <td>{u'penalty': u'l1', u'C': 0.1, u'fit_intercept...</td>\n",
       "      <td>11</td>\n",
       "      <td>0.904348</td>\n",
       "      <td>...</td>\n",
       "      <td>0.929204</td>\n",
       "      <td>0.938596</td>\n",
       "      <td>0.920354</td>\n",
       "      <td>0.942982</td>\n",
       "      <td>0.938053</td>\n",
       "      <td>0.934211</td>\n",
       "      <td>0.019164</td>\n",
       "      <td>0.014913</td>\n",
       "      <td>0.012914</td>\n",
       "      <td>0.005018</td>\n",
       "    </tr>\n",
       "    <tr>\n",
       "      <th>1</th>\n",
       "      <td>0.004863</td>\n",
       "      <td>0.000277</td>\n",
       "      <td>0.945518</td>\n",
       "      <td>0.946395</td>\n",
       "      <td>0.1</td>\n",
       "      <td>True</td>\n",
       "      <td>l2</td>\n",
       "      <td>{u'penalty': u'l2', u'C': 0.1, u'fit_intercept...</td>\n",
       "      <td>9</td>\n",
       "      <td>0.930435</td>\n",
       "      <td>...</td>\n",
       "      <td>0.982301</td>\n",
       "      <td>0.940789</td>\n",
       "      <td>0.929204</td>\n",
       "      <td>0.953947</td>\n",
       "      <td>0.946903</td>\n",
       "      <td>0.947368</td>\n",
       "      <td>0.000142</td>\n",
       "      <td>0.000005</td>\n",
       "      <td>0.019395</td>\n",
       "      <td>0.004328</td>\n",
       "    </tr>\n",
       "    <tr>\n",
       "      <th>2</th>\n",
       "      <td>0.077948</td>\n",
       "      <td>0.000360</td>\n",
       "      <td>0.926186</td>\n",
       "      <td>0.939810</td>\n",
       "      <td>0.1</td>\n",
       "      <td>False</td>\n",
       "      <td>l1</td>\n",
       "      <td>{u'penalty': u'l1', u'C': 0.1, u'fit_intercept...</td>\n",
       "      <td>11</td>\n",
       "      <td>0.904348</td>\n",
       "      <td>...</td>\n",
       "      <td>0.929204</td>\n",
       "      <td>0.938596</td>\n",
       "      <td>0.920354</td>\n",
       "      <td>0.942982</td>\n",
       "      <td>0.938053</td>\n",
       "      <td>0.934211</td>\n",
       "      <td>0.023562</td>\n",
       "      <td>0.000019</td>\n",
       "      <td>0.012914</td>\n",
       "      <td>0.003778</td>\n",
       "    </tr>\n",
       "    <tr>\n",
       "      <th>3</th>\n",
       "      <td>0.005059</td>\n",
       "      <td>0.000304</td>\n",
       "      <td>0.945518</td>\n",
       "      <td>0.945956</td>\n",
       "      <td>0.1</td>\n",
       "      <td>False</td>\n",
       "      <td>l2</td>\n",
       "      <td>{u'penalty': u'l2', u'C': 0.1, u'fit_intercept...</td>\n",
       "      <td>9</td>\n",
       "      <td>0.930435</td>\n",
       "      <td>...</td>\n",
       "      <td>0.982301</td>\n",
       "      <td>0.938596</td>\n",
       "      <td>0.929204</td>\n",
       "      <td>0.953947</td>\n",
       "      <td>0.946903</td>\n",
       "      <td>0.947368</td>\n",
       "      <td>0.000317</td>\n",
       "      <td>0.000039</td>\n",
       "      <td>0.019395</td>\n",
       "      <td>0.004942</td>\n",
       "    </tr>\n",
       "    <tr>\n",
       "      <th>4</th>\n",
       "      <td>0.196167</td>\n",
       "      <td>0.000373</td>\n",
       "      <td>0.950791</td>\n",
       "      <td>0.961778</td>\n",
       "      <td>1</td>\n",
       "      <td>True</td>\n",
       "      <td>l1</td>\n",
       "      <td>{u'penalty': u'l1', u'C': 1, u'fit_intercept':...</td>\n",
       "      <td>6</td>\n",
       "      <td>0.939130</td>\n",
       "      <td>...</td>\n",
       "      <td>0.973451</td>\n",
       "      <td>0.953947</td>\n",
       "      <td>0.946903</td>\n",
       "      <td>0.969298</td>\n",
       "      <td>0.964602</td>\n",
       "      <td>0.958333</td>\n",
       "      <td>0.052644</td>\n",
       "      <td>0.000008</td>\n",
       "      <td>0.015940</td>\n",
       "      <td>0.005277</td>\n",
       "    </tr>\n",
       "    <tr>\n",
       "      <th>5</th>\n",
       "      <td>0.005769</td>\n",
       "      <td>0.000283</td>\n",
       "      <td>0.950791</td>\n",
       "      <td>0.958704</td>\n",
       "      <td>1</td>\n",
       "      <td>True</td>\n",
       "      <td>l2</td>\n",
       "      <td>{u'penalty': u'l2', u'C': 1, u'fit_intercept':...</td>\n",
       "      <td>6</td>\n",
       "      <td>0.930435</td>\n",
       "      <td>...</td>\n",
       "      <td>0.973451</td>\n",
       "      <td>0.949561</td>\n",
       "      <td>0.946903</td>\n",
       "      <td>0.967105</td>\n",
       "      <td>0.964602</td>\n",
       "      <td>0.953947</td>\n",
       "      <td>0.000296</td>\n",
       "      <td>0.000016</td>\n",
       "      <td>0.015940</td>\n",
       "      <td>0.006234</td>\n",
       "    </tr>\n",
       "    <tr>\n",
       "      <th>6</th>\n",
       "      <td>0.232350</td>\n",
       "      <td>0.000368</td>\n",
       "      <td>0.952548</td>\n",
       "      <td>0.961778</td>\n",
       "      <td>1</td>\n",
       "      <td>False</td>\n",
       "      <td>l1</td>\n",
       "      <td>{u'penalty': u'l1', u'C': 1, u'fit_intercept':...</td>\n",
       "      <td>3</td>\n",
       "      <td>0.947826</td>\n",
       "      <td>...</td>\n",
       "      <td>0.973451</td>\n",
       "      <td>0.953947</td>\n",
       "      <td>0.946903</td>\n",
       "      <td>0.969298</td>\n",
       "      <td>0.964602</td>\n",
       "      <td>0.958333</td>\n",
       "      <td>0.074410</td>\n",
       "      <td>0.000006</td>\n",
       "      <td>0.015010</td>\n",
       "      <td>0.005277</td>\n",
       "    </tr>\n",
       "    <tr>\n",
       "      <th>7</th>\n",
       "      <td>0.006059</td>\n",
       "      <td>0.000275</td>\n",
       "      <td>0.952548</td>\n",
       "      <td>0.958266</td>\n",
       "      <td>1</td>\n",
       "      <td>False</td>\n",
       "      <td>l2</td>\n",
       "      <td>{u'penalty': u'l2', u'C': 1, u'fit_intercept':...</td>\n",
       "      <td>3</td>\n",
       "      <td>0.939130</td>\n",
       "      <td>...</td>\n",
       "      <td>0.973451</td>\n",
       "      <td>0.949561</td>\n",
       "      <td>0.946903</td>\n",
       "      <td>0.967105</td>\n",
       "      <td>0.964602</td>\n",
       "      <td>0.951754</td>\n",
       "      <td>0.000239</td>\n",
       "      <td>0.000008</td>\n",
       "      <td>0.013955</td>\n",
       "      <td>0.006619</td>\n",
       "    </tr>\n",
       "    <tr>\n",
       "      <th>8</th>\n",
       "      <td>0.273643</td>\n",
       "      <td>0.000412</td>\n",
       "      <td>0.957821</td>\n",
       "      <td>0.977158</td>\n",
       "      <td>10</td>\n",
       "      <td>True</td>\n",
       "      <td>l1</td>\n",
       "      <td>{u'penalty': u'l1', u'C': 10, u'fit_intercept'...</td>\n",
       "      <td>1</td>\n",
       "      <td>0.956522</td>\n",
       "      <td>...</td>\n",
       "      <td>0.955752</td>\n",
       "      <td>0.969298</td>\n",
       "      <td>0.955752</td>\n",
       "      <td>0.978070</td>\n",
       "      <td>0.964602</td>\n",
       "      <td>0.978070</td>\n",
       "      <td>0.210128</td>\n",
       "      <td>0.000062</td>\n",
       "      <td>0.003393</td>\n",
       "      <td>0.004275</td>\n",
       "    </tr>\n",
       "    <tr>\n",
       "      <th>9</th>\n",
       "      <td>0.006672</td>\n",
       "      <td>0.000273</td>\n",
       "      <td>0.952548</td>\n",
       "      <td>0.966170</td>\n",
       "      <td>10</td>\n",
       "      <td>True</td>\n",
       "      <td>l2</td>\n",
       "      <td>{u'penalty': u'l2', u'C': 10, u'fit_intercept'...</td>\n",
       "      <td>3</td>\n",
       "      <td>0.947826</td>\n",
       "      <td>...</td>\n",
       "      <td>0.973451</td>\n",
       "      <td>0.964912</td>\n",
       "      <td>0.946903</td>\n",
       "      <td>0.973684</td>\n",
       "      <td>0.964602</td>\n",
       "      <td>0.958333</td>\n",
       "      <td>0.000436</td>\n",
       "      <td>0.000005</td>\n",
       "      <td>0.015010</td>\n",
       "      <td>0.004913</td>\n",
       "    </tr>\n",
       "    <tr>\n",
       "      <th>10</th>\n",
       "      <td>0.171228</td>\n",
       "      <td>0.000391</td>\n",
       "      <td>0.957821</td>\n",
       "      <td>0.978037</td>\n",
       "      <td>10</td>\n",
       "      <td>False</td>\n",
       "      <td>l1</td>\n",
       "      <td>{u'penalty': u'l1', u'C': 10, u'fit_intercept'...</td>\n",
       "      <td>1</td>\n",
       "      <td>0.956522</td>\n",
       "      <td>...</td>\n",
       "      <td>0.955752</td>\n",
       "      <td>0.969298</td>\n",
       "      <td>0.955752</td>\n",
       "      <td>0.980263</td>\n",
       "      <td>0.964602</td>\n",
       "      <td>0.978070</td>\n",
       "      <td>0.158653</td>\n",
       "      <td>0.000126</td>\n",
       "      <td>0.003393</td>\n",
       "      <td>0.004983</td>\n",
       "    </tr>\n",
       "    <tr>\n",
       "      <th>11</th>\n",
       "      <td>0.006182</td>\n",
       "      <td>0.000280</td>\n",
       "      <td>0.950791</td>\n",
       "      <td>0.966170</td>\n",
       "      <td>10</td>\n",
       "      <td>False</td>\n",
       "      <td>l2</td>\n",
       "      <td>{u'penalty': u'l2', u'C': 10, u'fit_intercept'...</td>\n",
       "      <td>6</td>\n",
       "      <td>0.939130</td>\n",
       "      <td>...</td>\n",
       "      <td>0.973451</td>\n",
       "      <td>0.962719</td>\n",
       "      <td>0.946903</td>\n",
       "      <td>0.971491</td>\n",
       "      <td>0.964602</td>\n",
       "      <td>0.962719</td>\n",
       "      <td>0.000404</td>\n",
       "      <td>0.000019</td>\n",
       "      <td>0.015940</td>\n",
       "      <td>0.003552</td>\n",
       "    </tr>\n",
       "  </tbody>\n",
       "</table>\n",
       "<p>12 rows × 23 columns</p>\n",
       "</div>"
      ],
      "text/plain": [
       "    mean_fit_time  mean_score_time  mean_test_score  mean_train_score param_C  \\\n",
       "0        0.100128         0.007826         0.926186          0.938488     0.1   \n",
       "1        0.004863         0.000277         0.945518          0.946395     0.1   \n",
       "2        0.077948         0.000360         0.926186          0.939810     0.1   \n",
       "3        0.005059         0.000304         0.945518          0.945956     0.1   \n",
       "4        0.196167         0.000373         0.950791          0.961778       1   \n",
       "5        0.005769         0.000283         0.950791          0.958704       1   \n",
       "6        0.232350         0.000368         0.952548          0.961778       1   \n",
       "7        0.006059         0.000275         0.952548          0.958266       1   \n",
       "8        0.273643         0.000412         0.957821          0.977158      10   \n",
       "9        0.006672         0.000273         0.952548          0.966170      10   \n",
       "10       0.171228         0.000391         0.957821          0.978037      10   \n",
       "11       0.006182         0.000280         0.950791          0.966170      10   \n",
       "\n",
       "   param_fit_intercept param_penalty  \\\n",
       "0                 True            l1   \n",
       "1                 True            l2   \n",
       "2                False            l1   \n",
       "3                False            l2   \n",
       "4                 True            l1   \n",
       "5                 True            l2   \n",
       "6                False            l1   \n",
       "7                False            l2   \n",
       "8                 True            l1   \n",
       "9                 True            l2   \n",
       "10               False            l1   \n",
       "11               False            l2   \n",
       "\n",
       "                                               params  rank_test_score  \\\n",
       "0   {u'penalty': u'l1', u'C': 0.1, u'fit_intercept...               11   \n",
       "1   {u'penalty': u'l2', u'C': 0.1, u'fit_intercept...                9   \n",
       "2   {u'penalty': u'l1', u'C': 0.1, u'fit_intercept...               11   \n",
       "3   {u'penalty': u'l2', u'C': 0.1, u'fit_intercept...                9   \n",
       "4   {u'penalty': u'l1', u'C': 1, u'fit_intercept':...                6   \n",
       "5   {u'penalty': u'l2', u'C': 1, u'fit_intercept':...                6   \n",
       "6   {u'penalty': u'l1', u'C': 1, u'fit_intercept':...                3   \n",
       "7   {u'penalty': u'l2', u'C': 1, u'fit_intercept':...                3   \n",
       "8   {u'penalty': u'l1', u'C': 10, u'fit_intercept'...                1   \n",
       "9   {u'penalty': u'l2', u'C': 10, u'fit_intercept'...                3   \n",
       "10  {u'penalty': u'l1', u'C': 10, u'fit_intercept'...                1   \n",
       "11  {u'penalty': u'l2', u'C': 10, u'fit_intercept'...                6   \n",
       "\n",
       "    split0_test_score       ...         split2_test_score  split2_train_score  \\\n",
       "0            0.904348       ...                  0.929204            0.938596   \n",
       "1            0.930435       ...                  0.982301            0.940789   \n",
       "2            0.904348       ...                  0.929204            0.938596   \n",
       "3            0.930435       ...                  0.982301            0.938596   \n",
       "4            0.939130       ...                  0.973451            0.953947   \n",
       "5            0.930435       ...                  0.973451            0.949561   \n",
       "6            0.947826       ...                  0.973451            0.953947   \n",
       "7            0.939130       ...                  0.973451            0.949561   \n",
       "8            0.956522       ...                  0.955752            0.969298   \n",
       "9            0.947826       ...                  0.973451            0.964912   \n",
       "10           0.956522       ...                  0.955752            0.969298   \n",
       "11           0.939130       ...                  0.973451            0.962719   \n",
       "\n",
       "    split3_test_score  split3_train_score  split4_test_score  \\\n",
       "0            0.920354            0.942982           0.938053   \n",
       "1            0.929204            0.953947           0.946903   \n",
       "2            0.920354            0.942982           0.938053   \n",
       "3            0.929204            0.953947           0.946903   \n",
       "4            0.946903            0.969298           0.964602   \n",
       "5            0.946903            0.967105           0.964602   \n",
       "6            0.946903            0.969298           0.964602   \n",
       "7            0.946903            0.967105           0.964602   \n",
       "8            0.955752            0.978070           0.964602   \n",
       "9            0.946903            0.973684           0.964602   \n",
       "10           0.955752            0.980263           0.964602   \n",
       "11           0.946903            0.971491           0.964602   \n",
       "\n",
       "    split4_train_score  std_fit_time  std_score_time  std_test_score  \\\n",
       "0             0.934211      0.019164        0.014913        0.012914   \n",
       "1             0.947368      0.000142        0.000005        0.019395   \n",
       "2             0.934211      0.023562        0.000019        0.012914   \n",
       "3             0.947368      0.000317        0.000039        0.019395   \n",
       "4             0.958333      0.052644        0.000008        0.015940   \n",
       "5             0.953947      0.000296        0.000016        0.015940   \n",
       "6             0.958333      0.074410        0.000006        0.015010   \n",
       "7             0.951754      0.000239        0.000008        0.013955   \n",
       "8             0.978070      0.210128        0.000062        0.003393   \n",
       "9             0.958333      0.000436        0.000005        0.015010   \n",
       "10            0.978070      0.158653        0.000126        0.003393   \n",
       "11            0.962719      0.000404        0.000019        0.015940   \n",
       "\n",
       "    std_train_score  \n",
       "0          0.005018  \n",
       "1          0.004328  \n",
       "2          0.003778  \n",
       "3          0.004942  \n",
       "4          0.005277  \n",
       "5          0.006234  \n",
       "6          0.005277  \n",
       "7          0.006619  \n",
       "8          0.004275  \n",
       "9          0.004913  \n",
       "10         0.004983  \n",
       "11         0.003552  \n",
       "\n",
       "[12 rows x 23 columns]"
      ]
     },
     "execution_count": 13,
     "metadata": {},
     "output_type": "execute_result"
    }
   ],
   "source": [
    "results = pd.DataFrame(gs.cv_results_)\n",
    "results"
   ]
  },
  {
   "cell_type": "markdown",
   "metadata": {},
   "source": [
    "#### The most interesting result is the mean test score for each parameter combination"
   ]
  },
  {
   "cell_type": "code",
   "execution_count": 14,
   "metadata": {},
   "outputs": [
    {
     "data": {
      "text/html": [
       "<div>\n",
       "<table border=\"1\" class=\"dataframe\">\n",
       "  <thead>\n",
       "    <tr style=\"text-align: right;\">\n",
       "      <th></th>\n",
       "      <th>mean_test_score</th>\n",
       "      <th>param_C</th>\n",
       "      <th>param_fit_intercept</th>\n",
       "      <th>param_penalty</th>\n",
       "    </tr>\n",
       "  </thead>\n",
       "  <tbody>\n",
       "    <tr>\n",
       "      <th>0</th>\n",
       "      <td>0.926186</td>\n",
       "      <td>0.1</td>\n",
       "      <td>True</td>\n",
       "      <td>l1</td>\n",
       "    </tr>\n",
       "    <tr>\n",
       "      <th>1</th>\n",
       "      <td>0.945518</td>\n",
       "      <td>0.1</td>\n",
       "      <td>True</td>\n",
       "      <td>l2</td>\n",
       "    </tr>\n",
       "    <tr>\n",
       "      <th>2</th>\n",
       "      <td>0.926186</td>\n",
       "      <td>0.1</td>\n",
       "      <td>False</td>\n",
       "      <td>l1</td>\n",
       "    </tr>\n",
       "    <tr>\n",
       "      <th>3</th>\n",
       "      <td>0.945518</td>\n",
       "      <td>0.1</td>\n",
       "      <td>False</td>\n",
       "      <td>l2</td>\n",
       "    </tr>\n",
       "    <tr>\n",
       "      <th>4</th>\n",
       "      <td>0.950791</td>\n",
       "      <td>1</td>\n",
       "      <td>True</td>\n",
       "      <td>l1</td>\n",
       "    </tr>\n",
       "    <tr>\n",
       "      <th>5</th>\n",
       "      <td>0.950791</td>\n",
       "      <td>1</td>\n",
       "      <td>True</td>\n",
       "      <td>l2</td>\n",
       "    </tr>\n",
       "    <tr>\n",
       "      <th>6</th>\n",
       "      <td>0.952548</td>\n",
       "      <td>1</td>\n",
       "      <td>False</td>\n",
       "      <td>l1</td>\n",
       "    </tr>\n",
       "    <tr>\n",
       "      <th>7</th>\n",
       "      <td>0.952548</td>\n",
       "      <td>1</td>\n",
       "      <td>False</td>\n",
       "      <td>l2</td>\n",
       "    </tr>\n",
       "    <tr>\n",
       "      <th>8</th>\n",
       "      <td>0.957821</td>\n",
       "      <td>10</td>\n",
       "      <td>True</td>\n",
       "      <td>l1</td>\n",
       "    </tr>\n",
       "    <tr>\n",
       "      <th>9</th>\n",
       "      <td>0.952548</td>\n",
       "      <td>10</td>\n",
       "      <td>True</td>\n",
       "      <td>l2</td>\n",
       "    </tr>\n",
       "    <tr>\n",
       "      <th>10</th>\n",
       "      <td>0.957821</td>\n",
       "      <td>10</td>\n",
       "      <td>False</td>\n",
       "      <td>l1</td>\n",
       "    </tr>\n",
       "    <tr>\n",
       "      <th>11</th>\n",
       "      <td>0.950791</td>\n",
       "      <td>10</td>\n",
       "      <td>False</td>\n",
       "      <td>l2</td>\n",
       "    </tr>\n",
       "  </tbody>\n",
       "</table>\n",
       "</div>"
      ],
      "text/plain": [
       "    mean_test_score param_C param_fit_intercept param_penalty\n",
       "0          0.926186     0.1                True            l1\n",
       "1          0.945518     0.1                True            l2\n",
       "2          0.926186     0.1               False            l1\n",
       "3          0.945518     0.1               False            l2\n",
       "4          0.950791       1                True            l1\n",
       "5          0.950791       1                True            l2\n",
       "6          0.952548       1               False            l1\n",
       "7          0.952548       1               False            l2\n",
       "8          0.957821      10                True            l1\n",
       "9          0.952548      10                True            l2\n",
       "10         0.957821      10               False            l1\n",
       "11         0.950791      10               False            l2"
      ]
     },
     "execution_count": 14,
     "metadata": {},
     "output_type": "execute_result"
    }
   ],
   "source": [
    "results[['mean_test_score'] + [col for col in results.columns if 'param_' in col]]"
   ]
  }
 ],
 "metadata": {
  "kernelspec": {
   "display_name": "Python 2",
   "language": "python",
   "name": "python2"
  },
  "language_info": {
   "codemirror_mode": {
    "name": "ipython",
    "version": 2
   },
   "file_extension": ".py",
   "mimetype": "text/x-python",
   "name": "python",
   "nbconvert_exporter": "python",
   "pygments_lexer": "ipython2",
   "version": "2.7.13"
  }
 },
 "nbformat": 4,
 "nbformat_minor": 2
}
