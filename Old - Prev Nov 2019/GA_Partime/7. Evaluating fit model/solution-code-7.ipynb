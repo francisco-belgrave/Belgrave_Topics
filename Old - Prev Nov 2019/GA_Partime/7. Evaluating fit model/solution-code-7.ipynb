{
 "cells": [
  {
   "cell_type": "markdown",
   "metadata": {},
   "source": [
    "### Guided Practices\n",
    "\n",
    "Code to run during class sessions. This is included in the readme as well."
   ]
  },
  {
   "cell_type": "code",
   "execution_count": 14,
   "metadata": {
    "collapsed": false
   },
   "outputs": [
    {
     "name": "stdout",
     "output_type": "stream",
     "text": [
      "0.169228213075\n",
      "0.191370407484\n"
     ]
    }
   ],
   "source": [
    "import numpy as np\n",
    "import pandas as pd\n",
    "from sklearn import linear_model, metrics\n",
    "import math\n",
    "\n",
    "df = pd.DataFrame({'x': range(100), 'y': range(100)})\n",
    "biased_df  = df.copy()\n",
    "biased_df.loc[:20, 'x'] = 1\n",
    "biased_df.loc[:20, 'y'] = 1\n",
    "\n",
    "def append_jitter(series):\n",
    "    jitter = np.random.random_sample(size=100)\n",
    "    return series + jitter\n",
    "\n",
    "df['x'] = append_jitter(df.x)\n",
    "df['y'] = append_jitter(df.y)\n",
    "\n",
    "biased_df['x'] = append_jitter(biased_df.x)\n",
    "biased_df['y'] = append_jitter(biased_df.y)\n",
    "\n",
    "## fit\n",
    "lm = linear_model.LinearRegression().fit(df[['x']], df['y'])\n",
    "print(metrics.mean_squared_error(df['y'], lm.predict(df[['x']])))\n",
    "\n",
    "## biased fit\n",
    "lm = linear_model.LinearRegression().fit(biased_df[['x']], biased_df['y'])\n",
    "print(metrics.mean_squared_error(df['y'], lm.predict(df[['x']])))"
   ]
  },
  {
   "cell_type": "code",
   "execution_count": 24,
   "metadata": {
    "collapsed": false
   },
   "outputs": [
    {
     "name": "stdout",
     "output_type": "stream",
     "text": [
      "1672.50758849\n",
      "1672.58110765\n"
     ]
    }
   ],
   "source": [
    "from sklearn import cross_validation\n",
    "wd = '../../assets/dataset/'\n",
    "bikeshare = pd.read_csv(wd + 'bikeshare.csv')\n",
    "weather = pd.get_dummies(bikeshare.weathersit, prefix='weather')\n",
    "modeldata = bikeshare[['temp', 'hum']].join(weather[['weather_1', 'weather_2', 'weather_3']])\n",
    "y = bikeshare.casual\n",
    "kf = cross_validation.KFold(len(modeldata), n_folds=5, shuffle=True)\n",
    "scores = []\n",
    "for train_index, test_index in kf:\n",
    "    lm = linear_model.LinearRegression().fit(modeldata.iloc[train_index], y.iloc[train_index])\n",
    "    scores.append(metrics.mean_squared_error(y.iloc[train_index], lm.predict(modeldata.iloc[train_index])))\n",
    "\n",
    "print(np.mean(scores))\n",
    "\n",
    "# this score will be lower, but we're trading off bias error for generalized error\n",
    "lm = linear_model.LinearRegression().fit(modeldata, y)\n",
    "print(metrics.mean_squared_error(y, lm.predict(modeldata)))"
   ]
  },
  {
   "cell_type": "code",
   "execution_count": 18,
   "metadata": {
    "collapsed": false
   },
   "outputs": [
    {
     "data": {
      "text/plain": [
       "array([    3,     4,     5, ..., 17376, 17377, 17378])"
      ]
     },
     "execution_count": 18,
     "metadata": {},
     "output_type": "execute_result"
    }
   ],
   "source": [
    "train_index"
   ]
  },
  {
   "cell_type": "code",
   "execution_count": 19,
   "metadata": {
    "collapsed": false
   },
   "outputs": [
    {
     "data": {
      "text/plain": [
       "array([    0,     1,     2, ..., 17364, 17368, 17369])"
      ]
     },
     "execution_count": 19,
     "metadata": {},
     "output_type": "execute_result"
    }
   ],
   "source": [
    "test_index"
   ]
  },
  {
   "cell_type": "code",
   "execution_count": 23,
   "metadata": {
    "collapsed": false
   },
   "outputs": [
    {
     "name": "stdout",
     "output_type": "stream",
     "text": [
      "1856.09562181\n",
      "1742.21496325\n",
      "1762.15716018\n",
      "1742.80486598\n",
      "1743.91733572\n",
      "1730.10025245\n",
      "1717.41983777\n",
      "1718.91682842\n",
      "1713.17906482\n",
      "1712.25766779\n",
      "1711.19153497\n",
      "1705.82573513\n",
      "1705.91243242\n",
      "1701.68158412\n",
      "1704.7671545\n",
      "1700.56076113\n",
      "1698.99574904\n",
      "1696.57330575\n",
      "1695.77715767\n",
      "1697.59225511\n",
      "1696.63702912\n",
      "1694.79045566\n",
      "1693.87478207\n",
      "1693.88438833\n",
      "1694.17658893\n"
     ]
    }
   ],
   "source": [
    "\n",
    "for i in range(2, 51, 2):\n",
    "    kf = cross_validation.KFold(len(modeldata), n_folds=i)\n",
    "    scores = []\n",
    "    for train_index, test_index in kf:\n",
    "        lm = linear_model.LinearRegression().fit(modeldata.iloc[train_index], y.iloc[train_index])\n",
    "        scores.append(metrics.mean_squared_error(y.iloc[test_index], lm.predict(modeldata.iloc[test_index])))\n",
    "    print(np.mean(scores))\n",
    "    \n"
   ]
  },
  {
   "cell_type": "code",
   "execution_count": 8,
   "metadata": {
    "collapsed": false
   },
   "outputs": [
    {
     "name": "stdout",
     "output_type": "stream",
     "text": [
      "1672.58110765\n",
      "1725.41581608\n",
      "1672.60490113\n"
     ]
    }
   ],
   "source": [
    "lm = linear_model.LinearRegression().fit(modeldata, y)\n",
    "print(metrics.mean_squared_error(y, lm.predict(modeldata)))\n",
    "lm = linear_model.Lasso().fit(modeldata, y)\n",
    "print(metrics.mean_squared_error(y, lm.predict(modeldata)))\n",
    "lm = linear_model.Ridge().fit(modeldata, y)\n",
    "print(metrics.mean_squared_error(y, lm.predict(modeldata)))"
   ]
  },
  {
   "cell_type": "code",
   "execution_count": 9,
   "metadata": {
    "collapsed": false
   },
   "outputs": [
    {
     "name": "stdout",
     "output_type": "stream",
     "text": [
      "[  1.00000000e-10   1.00000000e-09   1.00000000e-08   1.00000000e-07\n",
      "   1.00000000e-06   1.00000000e-05   1.00000000e-04   1.00000000e-03\n",
      "   1.00000000e-02   1.00000000e-01   1.00000000e+00   1.00000000e+01\n",
      "   1.00000000e+02   1.00000000e+03   1.00000000e+04   1.00000000e+05\n",
      "   1.00000000e+06   1.00000000e+07   1.00000000e+08   1.00000000e+09\n",
      "   1.00000000e+10]\n",
      "0.00000000010000000000000000364321973154977415791655470655996396090\n",
      "0.00000000100000000000000006228159145777985641889706869278597878292\n",
      "0.00000001000000000000000020922560830128472675326634089287836104631\n",
      "0.00000009999999999999999547481118258862586856139387236908078193665\n",
      "0.00000099999999999999995474811182588625868561393872369080781936646\n",
      "0.00001000000000000000081803053914031309545862313825637102127075195\n",
      "0.00010000000000000000479217360238592959831294137984514236450195312\n",
      "0.00100000000000000002081668171172168513294309377670288085937500000\n",
      "0.01000000000000000020816681711721685132943093776702880859375000000\n",
      "0.10000000000000000555111512312578270211815834045410156250000000000\n",
      "1.00000000000000000000000000000000000000000000000000000000000000000\n",
      "10.00000000000000000000000000000000000000000000000000000000000000000\n",
      "100.00000000000000000000000000000000000000000000000000000000000000000\n",
      "1000.00000000000000000000000000000000000000000000000000000000000000000\n",
      "10000.00000000000000000000000000000000000000000000000000000000000000000\n",
      "100000.00000000000000000000000000000000000000000000000000000000000000000\n",
      "1000000.00000000000000000000000000000000000000000000000000000000000000000\n",
      "10000000.00000000000000000000000000000000000000000000000000000000000000000\n",
      "100000000.00000000000000000000000000000000000000000000000000000000000000000\n",
      "1000000000.00000000000000000000000000000000000000000000000000000000000000000\n",
      "10000000000.00000000000000000000000000000000000000000000000000000000000000000\n",
      "Alpha: 1e-10\n",
      "[ 112.68901765  -84.01121684  -24.68489063  -21.00314493  -21.71893628]\n",
      "1672.58110765\n",
      "Alpha: 1e-09\n",
      "[ 112.68901765  -84.01121684  -24.68489061  -21.00314491  -21.71893626]\n",
      "1672.58110765\n",
      "Alpha: 1e-08\n",
      "[ 112.68901765  -84.01121684  -24.6848904   -21.00314471  -21.71893606]\n",
      "1672.58110765\n",
      "Alpha: 1e-07\n",
      "[ 112.68901763  -84.01121682  -24.68488837  -21.00314268  -21.71893403]\n",
      "1672.58110765\n",
      "Alpha: 1e-06\n",
      "[ 112.68901745  -84.01121667  -24.68486804  -21.00312237  -21.71891373]\n",
      "1672.58110765\n",
      "Alpha: 1e-05\n",
      "[ 112.68901562  -84.01121509  -24.68466472  -21.00291929  -21.71871079]\n",
      "1672.58110765\n",
      "Alpha: 0.0001\n",
      "[ 112.68899732  -84.01119938  -24.68263174  -21.00088873  -21.71668161]\n",
      "1672.58110765\n",
      "Alpha: 0.001\n",
      "[ 112.68881437  -84.01104228  -24.66232204  -20.98060316  -21.69640993]\n",
      "1672.58110774\n",
      "Alpha: 0.01\n",
      "[ 112.68698753  -84.00947323  -24.46121539  -20.77973778  -21.49568404]\n",
      "1672.58111645\n",
      "Alpha: 0.1\n",
      "[ 112.66896732  -83.99396383  -22.63109556  -18.95202277  -19.66942371]\n",
      "1672.58185208\n",
      "Alpha: 1.0\n",
      "[ 112.50129738  -83.84805622  -13.38214934   -9.72671278  -10.46162477]\n",
      "1672.60490113\n",
      "Alpha: 10.0\n",
      "[ 110.96062533  -82.49604961   -3.94431741   -0.51765034   -1.45024412]\n",
      "1672.83347262\n",
      "Alpha: 100.0\n",
      "[ 97.69060562 -71.17602377  -0.31585194   1.18284675  -1.33281591]\n",
      "1686.31830362\n",
      "Alpha: 1000.0\n",
      "[ 44.59923075 -30.85843772   5.07876321   0.05369643  -5.107457  ]\n",
      "1937.81576044\n",
      "Alpha: 10000.0\n",
      "[ 7.03007064 -5.07733082  3.29039029 -1.2136063  -2.06842808]\n",
      "2314.83675678\n",
      "Alpha: 100000.0\n",
      "[ 0.75195708 -0.56490872  0.52067881 -0.25075496 -0.26895254]\n",
      "2415.77806566\n",
      "Alpha: 1000000.0\n",
      "[ 0.07576571 -0.05727511  0.05520142 -0.0273591  -0.02774349]\n",
      "2429.28026459\n",
      "Alpha: 10000000.0\n",
      "[ 0.00758239 -0.00573569  0.0055535  -0.00276043 -0.00278317]\n",
      "2430.68891798\n",
      "Alpha: 100000000.0\n",
      "[ 0.0007583  -0.00057365  0.00055569 -0.00027629 -0.00027841]\n",
      "2430.83041212\n",
      "Alpha: 1000000000.0\n",
      "[  7.58303020e-05  -5.73659720e-05   5.55719458e-05  -2.76314619e-05\n",
      "  -2.78414555e-05]\n",
      "2430.84456787\n",
      "Alpha: 10000000000.0\n",
      "[  7.58303603e-06  -5.73660542e-06   5.55722818e-06  -2.76317091e-06\n",
      "  -2.78415441e-06]\n",
      "2430.84598351\n"
     ]
    }
   ],
   "source": [
    "alphas = np.logspace(-10, 10, 21)\n",
    "print(alphas)\n",
    "for a in alphas:\n",
    "    print(format(a,'.65f'))\n",
    "for a in alphas:\n",
    "    print('Alpha:', a)\n",
    "    lm = linear_model.Ridge(alpha=a)\n",
    "    lm.fit(modeldata, y)\n",
    "    print(lm.coef_)\n",
    "    print(metrics.mean_squared_error(y, lm.predict(modeldata)))"
   ]
  },
  {
   "cell_type": "code",
   "execution_count": 11,
   "metadata": {
    "collapsed": false
   },
   "outputs": [
    {
     "name": "stdout",
     "output_type": "stream",
     "text": [
      "Alpha: 1e-10\n",
      "[ 112.68901765  -84.01121684  -24.68489063  -21.00314493  -21.71893628]\n",
      "1672.58110765\n",
      "Alpha: 1e-09\n",
      "[ 112.68901765  -84.01121684  -24.68489061  -21.00314491  -21.71893626]\n",
      "1672.58110765\n",
      "Alpha: 1e-08\n",
      "[ 112.68901765  -84.01121684  -24.6848904   -21.00314471  -21.71893606]\n",
      "1672.58110765\n",
      "Alpha: 1e-07\n",
      "[ 112.68901763  -84.01121682  -24.68488837  -21.00314268  -21.71893403]\n",
      "1672.58110765\n",
      "Alpha: 1e-06\n",
      "[ 112.68901745  -84.01121667  -24.68486804  -21.00312237  -21.71891373]\n",
      "1672.58110765\n",
      "Alpha: 1e-05\n",
      "[ 112.68901562  -84.01121509  -24.68466472  -21.00291929  -21.71871079]\n",
      "1672.58110765\n",
      "Alpha: 0.0001\n",
      "[ 112.68899732  -84.01119938  -24.68263174  -21.00088873  -21.71668161]\n",
      "1672.58110765\n",
      "Alpha: 0.001\n",
      "[ 112.68881437  -84.01104228  -24.66232204  -20.98060316  -21.69640993]\n",
      "1672.58110774\n",
      "Alpha: 0.01\n",
      "[ 112.68698753  -84.00947323  -24.46121539  -20.77973778  -21.49568404]\n",
      "1672.58111645\n",
      "Alpha: 0.1\n",
      "[ 112.66896732  -83.99396383  -22.63109556  -18.95202277  -19.66942371]\n",
      "1672.58185208\n",
      "Alpha: 1.0\n",
      "[ 112.50129738  -83.84805622  -13.38214934   -9.72671278  -10.46162477]\n",
      "1672.60490113\n",
      "Alpha: 10.0\n",
      "[ 110.96062533  -82.49604961   -3.94431741   -0.51765034   -1.45024412]\n",
      "1672.83347262\n",
      "Alpha: 100.0\n",
      "[ 97.69060562 -71.17602377  -0.31585194   1.18284675  -1.33281591]\n",
      "1686.31830362\n",
      "Alpha: 1000.0\n",
      "[ 44.59923075 -30.85843772   5.07876321   0.05369643  -5.107457  ]\n",
      "1937.81576044\n",
      "Alpha: 10000.0\n",
      "[ 7.03007064 -5.07733082  3.29039029 -1.2136063  -2.06842808]\n",
      "2314.83675678\n",
      "Alpha: 100000.0\n",
      "[ 0.75195708 -0.56490872  0.52067881 -0.25075496 -0.26895254]\n",
      "2415.77806566\n",
      "Alpha: 1000000.0\n",
      "[ 0.07576571 -0.05727511  0.05520142 -0.0273591  -0.02774349]\n",
      "2429.28026459\n",
      "Alpha: 10000000.0\n",
      "[ 0.00758239 -0.00573569  0.0055535  -0.00276043 -0.00278317]\n",
      "2430.68891798\n",
      "Alpha: 100000000.0\n",
      "[ 0.0007583  -0.00057365  0.00055569 -0.00027629 -0.00027841]\n",
      "2430.83041212\n",
      "Alpha: 1000000000.0\n",
      "[  7.58303020e-05  -5.73659720e-05   5.55719458e-05  -2.76314619e-05\n",
      "  -2.78414555e-05]\n",
      "2430.84456787\n",
      "Alpha: 10000000000.0\n",
      "[  7.58303603e-06  -5.73660542e-06   5.55722818e-06  -2.76317091e-06\n",
      "  -2.78415441e-06]\n",
      "2430.84598351\n"
     ]
    }
   ],
   "source": [
    "import matplotlib.pyplot as plt\n",
    "%matplotlib inline\n",
    "alphas = np.logspace(-10, 10, 21)\n",
    "results=[]\n",
    "for a in alphas:\n",
    "    print('Alpha:', a)\n",
    "    lm = linear_model.Ridge(alpha=a)\n",
    "    lm.fit(modeldata, y)\n",
    "    print(lm.coef_)\n",
    "    print(metrics.mean_squared_error(y, lm.predict(modeldata)))\n",
    "    results.append(metrics.mean_squared_error(y, lm.predict(modeldata)))\n",
    "    "
   ]
  },
  {
   "cell_type": "code",
   "execution_count": 12,
   "metadata": {
    "collapsed": false
   },
   "outputs": [
    {
     "data": {
      "text/plain": [
       "<matplotlib.text.Text at 0x1e0bb4aa160>"
      ]
     },
     "execution_count": 12,
     "metadata": {},
     "output_type": "execute_result"
    },
    {
     "data": {
      "image/png": "[encoded data removed]",
      "text/plain": [
       "<matplotlib.figure.Figure at 0x1e0ba6623c8>"
      ]
     },
     "metadata": {},
     "output_type": "display_data"
    }
   ],
   "source": [
    "plt.scatter(x=alphas,y=results)\n",
    "plt.xlim(10**(-10),10**10)\n",
    "plt.xscale('log')\n",
    "plt.xlabel('alpha')\n",
    "plt.ylabel('MSE')\n",
    "plt.title('Alpha vs MSE')"
   ]
  },
  {
   "cell_type": "code",
   "execution_count": 31,
   "metadata": {
    "collapsed": false
   },
   "outputs": [
    {
     "name": "stdout",
     "output_type": "stream",
     "text": [
      "1814.0936913337962\n",
      "Ridge(alpha=10.0, copy_X=True, fit_intercept=True, max_iter=None,\n",
      "   normalize=False, random_state=None, solver='auto', tol=0.001)\n",
      "[mean: -1817.58711, std: 542.14315, params: {'alpha': 1e-10}, mean: -1817.58711, std: 542.14315, params: {'alpha': 1.0000000000000001e-09}, mean: -1817.58711, std: 542.14315, params: {'alpha': 1e-08}, mean: -1817.58711, std: 542.14315, params: {'alpha': 9.9999999999999995e-08}, mean: -1817.58711, std: 542.14315, params: {'alpha': 9.9999999999999995e-07}, mean: -1817.58711, std: 542.14317, params: {'alpha': 1.0000000000000001e-05}, mean: -1817.58707, std: 542.14331, params: {'alpha': 0.0001}, mean: -1817.58663, std: 542.14477, params: {'alpha': 0.001}, mean: -1817.58230, std: 542.15933, params: {'alpha': 0.01}, mean: -1817.54318, std: 542.30102, params: {'alpha': 0.10000000000000001}, mean: -1817.20111, std: 543.63587, params: {'alpha': 1.0}, mean: -1814.09369, std: 556.35563, params: {'alpha': 10.0}, mean: -1818.51694, std: 653.68607, params: {'alpha': 100.0}, mean: -2125.58777, std: 872.45270, params: {'alpha': 1000.0}, mean: -2458.08836, std: 951.30428, params: {'alpha': 10000.0}, mean: -2532.21151, std: 962.80083, params: {'alpha': 100000.0}, mean: -2541.38479, std: 963.98339, params: {'alpha': 1000000.0}, mean: -2542.32833, std: 964.10141, params: {'alpha': 10000000.0}, mean: -2542.42296, std: 964.11321, params: {'alpha': 100000000.0}, mean: -2542.43242, std: 964.11439, params: {'alpha': 1000000000.0}, mean: -2542.43337, std: 964.11450, params: {'alpha': 10000000000.0}]\n"
     ]
    }
   ],
   "source": [
    "from sklearn import grid_search\n",
    "\n",
    "alphas = np.logspace(-10, 10, 21)\n",
    "inter = [True,False]\n",
    "gs = grid_search.GridSearchCV(\n",
    "    estimator=linear_model.Ridge(),\n",
    "    param_grid={'alpha': alphas},\n",
    "    scoring='neg_mean_squared_error') #mean_squared_error\n",
    "\n",
    "gs.fit(modeldata, y)\n",
    "\n",
    "print(-gs.best_score_) # mean squared error here comes in negative, so let's make it positive.\n",
    "print(gs.best_estimator_) # explains which grid_search setup worked best\n",
    "print(gs.grid_scores_) # shows all the grid pairings and their performances."
   ]
  },
  {
   "cell_type": "code",
   "execution_count": null,
   "metadata": {
    "collapsed": true
   },
   "outputs": [],
   "source": []
  },
  {
   "cell_type": "code",
   "execution_count": 27,
   "metadata": {
    "collapsed": false
   },
   "outputs": [
    {
     "name": "stderr",
     "output_type": "stream",
     "text": [
      "C:\\Users\\Ayham\\Anaconda3\\lib\\site-packages\\sklearn\\grid_search.py:43: DeprecationWarning: This module was deprecated in version 0.18 in favor of the model_selection module into which all the refactored classes and functions are moved. This module will be removed in 0.20.\n",
      "  DeprecationWarning)\n"
     ]
    },
    {
     "name": "stdout",
     "output_type": "stream",
     "text": [
      "1742.3475983361245\n",
      "Ridge(alpha=10.0, copy_X=True, fit_intercept=True, max_iter=None,\n",
      "   normalize=False, random_state=None, solver='auto', tol=0.001)\n",
      "[mean: -1743.92970, std: 1051.57802, params: {'alpha': 1e-10}, mean: -1743.92970, std: 1051.57802, params: {'alpha': 1.0000000000000001e-09}, mean: -1743.92970, std: 1051.57802, params: {'alpha': 1e-08}, mean: -1743.92970, std: 1051.57802, params: {'alpha': 9.9999999999999995e-08}, mean: -1743.92970, std: 1051.57802, params: {'alpha': 9.9999999999999995e-07}, mean: -1743.92970, std: 1051.57802, params: {'alpha': 1.0000000000000001e-05}, mean: -1743.92968, std: 1051.57808, params: {'alpha': 0.0001}, mean: -1743.92951, std: 1051.57864, params: {'alpha': 0.001}, mean: -1743.92784, std: 1051.58418, params: {'alpha': 0.01}, mean: -1743.91380, std: 1051.63647, params: {'alpha': 0.10000000000000001}, mean: -1743.77710, std: 1052.14163, params: {'alpha': 1.0}, mean: -1742.34760, std: 1057.35486, params: {'alpha': 10.0}, mean: -1747.18651, std: 1104.02367, params: {'alpha': 100.0}, mean: -2011.73199, std: 1280.11363, params: {'alpha': 1000.0}, mean: -2390.41585, std: 1396.53340, params: {'alpha': 10000.0}, mean: -2486.56042, std: 1421.04475, params: {'alpha': 100000.0}, mean: -2499.11274, std: 1424.03141, params: {'alpha': 1000000.0}, mean: -2500.41625, std: 1424.33776, params: {'alpha': 10000000.0}, mean: -2500.54712, std: 1424.36848, params: {'alpha': 100000000.0}, mean: -2500.56021, std: 1424.37155, params: {'alpha': 1000000000.0}, mean: -2500.56152, std: 1424.37186, params: {'alpha': 10000000000.0}]\n"
     ]
    }
   ],
   "source": [
    "from sklearn import grid_search\n",
    "\n",
    "alphas = np.logspace(-10, 10, 21)\n",
    "gs = grid_search.GridSearchCV(\n",
    "    estimator=linear_model.Ridge(),\n",
    "    param_grid={'alpha': alphas},\n",
    "    scoring='neg_mean_squared_error', cv=10)#mean_squared_error\n",
    "\n",
    "gs.fit(modeldata, y)\n",
    "\n",
    "print(-gs.best_score_) # mean squared error here comes in negative, so let's make it positive.\n",
    "print(gs.best_estimator_) # explains which grid_search setup worked best\n",
    "print(gs.grid_scores_) # shows all the grid pairings and their performances."
   ]
  },
  {
   "cell_type": "code",
   "execution_count": 24,
   "metadata": {
    "collapsed": false
   },
   "outputs": [
    {
     "name": "stdout",
     "output_type": "stream",
     "text": [
      "5.2 is better than 6.2\n",
      "found better solution! using 5.2\n",
      "4.2 is better than 5.2\n",
      "found better solution! using 4.2\n",
      "3.2 is better than 4.2\n",
      "found better solution! using 3.2\n",
      "2.2 is better than 3.2\n",
      "found better solution! using 2.2\n",
      "1.2 is better than 2.2\n",
      "found better solution! using 1.2\n",
      "0.2 is better than 1.2000000000000002\n",
      "found better solution! using 0.2\n",
      "6.0 is closest to 6.2\n"
     ]
    }
   ],
   "source": [
    "num_to_approach, start, steps, optimized = 6.2, 0., [-1, 1], False\n",
    "while not optimized:\n",
    "    current_distance = num_to_approach - start\n",
    "    got_better = False\n",
    "    next_steps = [start + i for i in steps]\n",
    "    for n in next_steps:\n",
    "        distance = np.abs(num_to_approach - n)\n",
    "        if distance < current_distance:\n",
    "            got_better = True\n",
    "            print(distance, 'is better than', current_distance)\n",
    "            current_distance = distance\n",
    "            start = n\n",
    "    if got_better:\n",
    "        print('found better solution! using', current_distance)\n",
    "        a += 1\n",
    "    else:\n",
    "        optimized = True\n",
    "        print(start, 'is closest to', num_to_approach)\n"
   ]
  },
  {
   "cell_type": "markdown",
   "metadata": {
    "collapsed": false
   },
   "source": [
    "For the DP example below, it might be a great idea for students to take the code and implement a stopping point, similar to what n_iter would do in gradient descent.\n",
    "\n",
    "There can be a great conversation about stopping early and still _kinda_ getting the right result vs taking a longer time to solve and having a more precise model.\n",
    "\n",
    "That solution is below."
   ]
  },
  {
   "cell_type": "code",
   "execution_count": 8,
   "metadata": {
    "collapsed": false
   },
   "outputs": [
    {
     "name": "stdout",
     "output_type": "stream",
     "text": [
      "5.2 is better than 6.2\n",
      "found better solution! using 5.2\n",
      "4.2 is better than 5.2\n",
      "found better solution! using 4.2\n",
      "3.2 is better than 4.2\n",
      "found better solution! using 3.2\n",
      "2.2 is better than 3.2\n",
      "found better solution! using 2.2\n",
      "stopping iterations\n"
     ]
    }
   ],
   "source": [
    "num_to_approach, start, steps, optimized = 6.2, 0., [-1, 1], False\n",
    "n_iter = 0\n",
    "while not optimized:\n",
    "    if n_iter > 3:\n",
    "        print('stopping iterations')\n",
    "        break\n",
    "    n_iter += 1\n",
    "    current_distance = num_to_approach - start\n",
    "    got_better = False\n",
    "    next_steps = [start + i for i in steps]\n",
    "    for n in next_steps:\n",
    "        distance = np.abs(num_to_approach - n)\n",
    "        if distance < current_distance:\n",
    "            got_better = True\n",
    "            print distance, 'is better than', current_distance\n",
    "            current_distance = distance\n",
    "            start = n\n",
    "    if got_better:\n",
    "        print('found better solution! using', current_distance)\n",
    "        a += 1\n",
    "    else:\n",
    "        optimized = True\n",
    "        print(start, 'is closest to', num_to_approach)\n"
   ]
  },
  {
   "cell_type": "code",
   "execution_count": 37,
   "metadata": {
    "collapsed": false
   },
   "outputs": [
    {
     "name": "stdout",
     "output_type": "stream",
     "text": [
      "0.308412082331\n",
      "1681.14382069\n"
     ]
    }
   ],
   "source": [
    "lm = linear_model.SGDRegressor()\n",
    "lm.fit(modeldata, y)\n",
    "print(lm.score(modeldata, y))\n",
    "print(metrics.mean_squared_error(y, lm.predict(modeldata)))"
   ]
  },
  {
   "cell_type": "markdown",
   "metadata": {},
   "source": [
    "### Independent Practice Solution\n",
    "\n",
    "This code shows the variety of challenges and some student gotchas. The plots will help showcase what should be learned."
   ]
  },
  {
   "cell_type": "markdown",
   "metadata": {},
   "source": [
    "1. With a set of alpha values between 10^-10 and 10^-1, how does the mean squared error change?\n",
    "2. We know when to properly use l1 vs l2 regularization based on the data. By using a grid search with l1_ratios between 0 and 1 (increasing every 0.05), does that statement hold true?\n",
    "    * (if it didn't look like it, did gradient descent have enough iterations?)\n",
    "3. How do results change when you alter the learning rate (power_t)?"
   ]
  },
  {
   "cell_type": "code",
   "execution_count": 10,
   "metadata": {
    "collapsed": true
   },
   "outputs": [],
   "source": [
    "%matplotlib inline"
   ]
  },
  {
   "cell_type": "code",
   "execution_count": 59,
   "metadata": {
    "collapsed": false
   },
   "outputs": [
    {
     "name": "stdout",
     "output_type": "stream",
     "text": [
      "[  1.00000000e-10   1.00000000e-09   1.00000000e-08   1.00000000e-07\n",
      "   1.00000000e-06   1.00000000e-05   1.00000000e-04   1.00000000e-03\n",
      "   1.00000000e-02   1.00000000e-01]\n"
     ]
    },
    {
     "data": {
      "text/html": [
       "<div>\n",
       "<table border=\"1\" class=\"dataframe\">\n",
       "  <thead>\n",
       "    <tr style=\"text-align: right;\">\n",
       "      <th></th>\n",
       "      <th>alpha</th>\n",
       "      <th>mean_squared_error</th>\n",
       "      <th>cv</th>\n",
       "    </tr>\n",
       "  </thead>\n",
       "  <tbody>\n",
       "    <tr>\n",
       "      <th>0</th>\n",
       "      <td>{'alpha': 1e-10}</td>\n",
       "      <td>1689.057215</td>\n",
       "      <td>[-1722.82475232, -1649.73292211, -1753.5620392...</td>\n",
       "    </tr>\n",
       "    <tr>\n",
       "      <th>1</th>\n",
       "      <td>{'alpha': 1e-09}</td>\n",
       "      <td>1688.916325</td>\n",
       "      <td>[-1723.13392866, -1649.86064818, -1752.9752820...</td>\n",
       "    </tr>\n",
       "    <tr>\n",
       "      <th>2</th>\n",
       "      <td>{'alpha': 1e-08}</td>\n",
       "      <td>1689.745339</td>\n",
       "      <td>[-1722.42804638, -1650.79302089, -1756.6115806...</td>\n",
       "    </tr>\n",
       "    <tr>\n",
       "      <th>3</th>\n",
       "      <td>{'alpha': 1e-07}</td>\n",
       "      <td>1689.153921</td>\n",
       "      <td>[-1722.77150125, -1648.05844351, -1757.5580151...</td>\n",
       "    </tr>\n",
       "    <tr>\n",
       "      <th>4</th>\n",
       "      <td>{'alpha': 1e-06}</td>\n",
       "      <td>1689.530188</td>\n",
       "      <td>[-1723.63890271, -1647.07739725, -1752.3407156...</td>\n",
       "    </tr>\n",
       "    <tr>\n",
       "      <th>5</th>\n",
       "      <td>{'alpha': 1e-05}</td>\n",
       "      <td>1691.685209</td>\n",
       "      <td>[-1728.35523281, -1647.27080641, -1756.3393041...</td>\n",
       "    </tr>\n",
       "    <tr>\n",
       "      <th>6</th>\n",
       "      <td>{'alpha': 0.0001}</td>\n",
       "      <td>1688.458581</td>\n",
       "      <td>[-1722.66866633, -1648.90758805, -1753.0146729...</td>\n",
       "    </tr>\n",
       "    <tr>\n",
       "      <th>7</th>\n",
       "      <td>{'alpha': 0.001}</td>\n",
       "      <td>1692.610531</td>\n",
       "      <td>[-1727.22501365, -1649.42345286, -1756.3535838...</td>\n",
       "    </tr>\n",
       "    <tr>\n",
       "      <th>8</th>\n",
       "      <td>{'alpha': 0.01}</td>\n",
       "      <td>1728.891642</td>\n",
       "      <td>[-1758.32762395, -1684.12446372, -1798.1392074...</td>\n",
       "    </tr>\n",
       "    <tr>\n",
       "      <th>9</th>\n",
       "      <td>{'alpha': 0.1}</td>\n",
       "      <td>2053.534643</td>\n",
       "      <td>[-2069.59662258, -1992.84048643, -2135.0915413...</td>\n",
       "    </tr>\n",
       "  </tbody>\n",
       "</table>\n",
       "</div>"
      ],
      "text/plain": [
       "               alpha  mean_squared_error  \\\n",
       "0   {'alpha': 1e-10}         1689.057215   \n",
       "1   {'alpha': 1e-09}         1688.916325   \n",
       "2   {'alpha': 1e-08}         1689.745339   \n",
       "3   {'alpha': 1e-07}         1689.153921   \n",
       "4   {'alpha': 1e-06}         1689.530188   \n",
       "5   {'alpha': 1e-05}         1691.685209   \n",
       "6  {'alpha': 0.0001}         1688.458581   \n",
       "7   {'alpha': 0.001}         1692.610531   \n",
       "8    {'alpha': 0.01}         1728.891642   \n",
       "9     {'alpha': 0.1}         2053.534643   \n",
       "\n",
       "                                                  cv  \n",
       "0  [-1722.82475232, -1649.73292211, -1753.5620392...  \n",
       "1  [-1723.13392866, -1649.86064818, -1752.9752820...  \n",
       "2  [-1722.42804638, -1650.79302089, -1756.6115806...  \n",
       "3  [-1722.77150125, -1648.05844351, -1757.5580151...  \n",
       "4  [-1723.63890271, -1647.07739725, -1752.3407156...  \n",
       "5  [-1728.35523281, -1647.27080641, -1756.3393041...  \n",
       "6  [-1722.66866633, -1648.90758805, -1753.0146729...  \n",
       "7  [-1727.22501365, -1649.42345286, -1756.3535838...  \n",
       "8  [-1758.32762395, -1684.12446372, -1798.1392074...  \n",
       "9  [-2069.59662258, -1992.84048643, -2135.0915413...  "
      ]
     },
     "execution_count": 59,
     "metadata": {},
     "output_type": "execute_result"
    }
   ],
   "source": [
    "alphas = np.logspace(-10, -1, 10)\n",
    "print(alphas)\n",
    "params = {'alpha':alphas, } # put your gradient descent parameters here\n",
    "gs = grid_search.GridSearchCV(\n",
    "    estimator=linear_model.SGDRegressor(),\n",
    "    cv=cross_validation.KFold(len(modeldata), n_folds=5, shuffle=True),\n",
    "    param_grid=params,\n",
    "    scoring='neg_mean_squared_error',\n",
    "    )\n",
    "\n",
    "gs.fit(modeldata, y)\n",
    "\n",
    "grid = pd.DataFrame(gs.grid_scores_)\n",
    "#print(grid)\n",
    "#grid[[0]] = grid.apply(lambda x: x['alpha'])\n",
    "#grid[[1]] = grid.apply(lambda x: -x)\n",
    "#\n",
    "#grid['parameters']\n",
    "grid['mean_validation_score'] = grid['mean_validation_score'].apply(lambda x: -x)\n",
    "grid.columns = ['alpha', 'mean_squared_error', 'cv']\n",
    "grid"
   ]
  },
  {
   "cell_type": "markdown",
   "metadata": {},
   "source": [
    "With the alphas available, it looks like at mean squared error stays generally flat with incredibly small alpha values, but starting at $10^{-3}$, the error begins to elbow. We probably don't have much of a different in performance with other alpha values. "
   ]
  },
  {
   "cell_type": "code",
   "execution_count": 60,
   "metadata": {
    "collapsed": false
   },
   "outputs": [
    {
     "data": {
      "text/plain": [
       "<matplotlib.axes._subplots.AxesSubplot at 0x282df620978>"
      ]
     },
     "execution_count": 60,
     "metadata": {},
     "output_type": "execute_result"
    },
    {
     "data": {
      "image/png": "[encoded data removed]",
      "text/plain": [
       "<matplotlib.figure.Figure at 0x282df5c8048>"
      ]
     },
     "metadata": {},
     "output_type": "display_data"
    }
   ],
   "source": [
    "grid.plot('alpha', 'mean_squared_error', logx=True)"
   ]
  },
  {
   "cell_type": "markdown",
   "metadata": {},
   "source": [
    "At alpha values of either .1 or 1, the l1_ratio works best closer to 1! Interesting. At other values of alpha they should see similar results, though the graphs aren't as clear."
   ]
  },
  {
   "cell_type": "code",
   "execution_count": 28,
   "metadata": {
    "collapsed": false
   },
   "outputs": [
    {
     "name": "stdout",
     "output_type": "stream",
     "text": [
      "[0.0, 0.05, 0.1, 0.15, 0.2, 0.25, 0.3, 0.35, 0.4, 0.45, 0.5, 0.55, 0.6, 0.65, 0.7, 0.75, 0.8, 0.85, 0.9, 0.95, 1.0]\n"
     ]
    },
    {
     "data": {
      "text/html": [
       "<div>\n",
       "<table border=\"1\" class=\"dataframe\">\n",
       "  <thead>\n",
       "    <tr style=\"text-align: right;\">\n",
       "      <th></th>\n",
       "      <th>l1_ratio</th>\n",
       "      <th>neg_mean_squared_error</th>\n",
       "      <th>cv</th>\n",
       "    </tr>\n",
       "  </thead>\n",
       "  <tbody>\n",
       "    <tr>\n",
       "      <th>0</th>\n",
       "      <td>{'alpha': 0.1, 'l1_ratio': 0.0, 'n_iter': 50, ...</td>\n",
       "      <td>2052.655639</td>\n",
       "      <td>[-2115.46253746, -2015.36095545, -2001.5611164...</td>\n",
       "    </tr>\n",
       "    <tr>\n",
       "      <th>1</th>\n",
       "      <td>{'alpha': 0.1, 'l1_ratio': 0.05, 'n_iter': 50,...</td>\n",
       "      <td>2042.459913</td>\n",
       "      <td>[-2103.68561333, -2004.75230514, -1990.2948043...</td>\n",
       "    </tr>\n",
       "    <tr>\n",
       "      <th>2</th>\n",
       "      <td>{'alpha': 0.1, 'l1_ratio': 0.1, 'n_iter': 50, ...</td>\n",
       "      <td>2032.178034</td>\n",
       "      <td>[-2098.60663017, -1993.08586818, -1980.0966609...</td>\n",
       "    </tr>\n",
       "    <tr>\n",
       "      <th>3</th>\n",
       "      <td>{'alpha': 0.1, 'l1_ratio': 0.15, 'n_iter': 50,...</td>\n",
       "      <td>2021.676749</td>\n",
       "      <td>[-2084.16683211, -1989.44188251, -1968.8268987...</td>\n",
       "    </tr>\n",
       "    <tr>\n",
       "      <th>4</th>\n",
       "      <td>{'alpha': 0.1, 'l1_ratio': 0.2, 'n_iter': 50, ...</td>\n",
       "      <td>2007.697586</td>\n",
       "      <td>[-2071.3796204, -1970.42627814, -1954.84992458...</td>\n",
       "    </tr>\n",
       "    <tr>\n",
       "      <th>5</th>\n",
       "      <td>{'alpha': 0.1, 'l1_ratio': 0.25, 'n_iter': 50,...</td>\n",
       "      <td>1994.653432</td>\n",
       "      <td>[-2058.95272862, -1955.34829111, -1942.5496973...</td>\n",
       "    </tr>\n",
       "    <tr>\n",
       "      <th>6</th>\n",
       "      <td>{'alpha': 0.1, 'l1_ratio': 0.3, 'n_iter': 50, ...</td>\n",
       "      <td>1981.797654</td>\n",
       "      <td>[-2047.22526703, -1943.95956564, -1928.7041239...</td>\n",
       "    </tr>\n",
       "    <tr>\n",
       "      <th>7</th>\n",
       "      <td>{'alpha': 0.1, 'l1_ratio': 0.35, 'n_iter': 50,...</td>\n",
       "      <td>1966.487216</td>\n",
       "      <td>[-2029.85629592, -1927.2891704, -1913.46431659...</td>\n",
       "    </tr>\n",
       "    <tr>\n",
       "      <th>8</th>\n",
       "      <td>{'alpha': 0.1, 'l1_ratio': 0.4, 'n_iter': 50, ...</td>\n",
       "      <td>1950.899715</td>\n",
       "      <td>[-2017.7177587, -1911.93720681, -1896.39840467...</td>\n",
       "    </tr>\n",
       "    <tr>\n",
       "      <th>9</th>\n",
       "      <td>{'alpha': 0.1, 'l1_ratio': 0.45, 'n_iter': 50,...</td>\n",
       "      <td>1932.943341</td>\n",
       "      <td>[-1997.77211252, -1894.19575302, -1878.5173685...</td>\n",
       "    </tr>\n",
       "    <tr>\n",
       "      <th>10</th>\n",
       "      <td>{'alpha': 0.1, 'l1_ratio': 0.5, 'n_iter': 50, ...</td>\n",
       "      <td>1914.705454</td>\n",
       "      <td>[-1979.95988194, -1877.00908198, -1858.8581122...</td>\n",
       "    </tr>\n",
       "    <tr>\n",
       "      <th>11</th>\n",
       "      <td>{'alpha': 0.1, 'l1_ratio': 0.55, 'n_iter': 50,...</td>\n",
       "      <td>1895.518735</td>\n",
       "      <td>[-1961.29676447, -1858.83433071, -1838.3843402...</td>\n",
       "    </tr>\n",
       "    <tr>\n",
       "      <th>12</th>\n",
       "      <td>{'alpha': 0.1, 'l1_ratio': 0.6, 'n_iter': 50, ...</td>\n",
       "      <td>1874.042286</td>\n",
       "      <td>[-1940.84383036, -1835.8598866, -1816.52150767...</td>\n",
       "    </tr>\n",
       "    <tr>\n",
       "      <th>13</th>\n",
       "      <td>{'alpha': 0.1, 'l1_ratio': 0.65, 'n_iter': 50,...</td>\n",
       "      <td>1850.384475</td>\n",
       "      <td>[-1917.45717753, -1809.79547162, -1793.1704255...</td>\n",
       "    </tr>\n",
       "    <tr>\n",
       "      <th>14</th>\n",
       "      <td>{'alpha': 0.1, 'l1_ratio': 0.7, 'n_iter': 50, ...</td>\n",
       "      <td>1824.928289</td>\n",
       "      <td>[-1892.69417228, -1784.22071038, -1767.1560001...</td>\n",
       "    </tr>\n",
       "    <tr>\n",
       "      <th>15</th>\n",
       "      <td>{'alpha': 0.1, 'l1_ratio': 0.75, 'n_iter': 50,...</td>\n",
       "      <td>1799.134760</td>\n",
       "      <td>[-1869.95474225, -1758.13259625, -1739.1352167...</td>\n",
       "    </tr>\n",
       "    <tr>\n",
       "      <th>16</th>\n",
       "      <td>{'alpha': 0.1, 'l1_ratio': 0.8, 'n_iter': 50, ...</td>\n",
       "      <td>1770.506760</td>\n",
       "      <td>[-1839.96496328, -1730.3313485, -1707.32466319...</td>\n",
       "    </tr>\n",
       "    <tr>\n",
       "      <th>17</th>\n",
       "      <td>{'alpha': 0.1, 'l1_ratio': 0.85, 'n_iter': 50,...</td>\n",
       "      <td>1741.479617</td>\n",
       "      <td>[-1813.36569974, -1700.19633502, -1677.1941179...</td>\n",
       "    </tr>\n",
       "    <tr>\n",
       "      <th>18</th>\n",
       "      <td>{'alpha': 0.1, 'l1_ratio': 0.9, 'n_iter': 50, ...</td>\n",
       "      <td>1712.903853</td>\n",
       "      <td>[-1787.26161772, -1671.95818501, -1645.0831577...</td>\n",
       "    </tr>\n",
       "    <tr>\n",
       "      <th>19</th>\n",
       "      <td>{'alpha': 0.1, 'l1_ratio': 0.95, 'n_iter': 50,...</td>\n",
       "      <td>1688.136603</td>\n",
       "      <td>[-1763.78825244, -1646.94388833, -1615.9640949...</td>\n",
       "    </tr>\n",
       "    <tr>\n",
       "      <th>20</th>\n",
       "      <td>{'alpha': 0.1, 'l1_ratio': 1.0, 'n_iter': 50, ...</td>\n",
       "      <td>1675.022590</td>\n",
       "      <td>[-1752.8215214, -1635.62849861, -1596.64093722...</td>\n",
       "    </tr>\n",
       "  </tbody>\n",
       "</table>\n",
       "</div>"
      ],
      "text/plain": [
       "                                             l1_ratio  neg_mean_squared_error  \\\n",
       "0   {'alpha': 0.1, 'l1_ratio': 0.0, 'n_iter': 50, ...             2052.655639   \n",
       "1   {'alpha': 0.1, 'l1_ratio': 0.05, 'n_iter': 50,...             2042.459913   \n",
       "2   {'alpha': 0.1, 'l1_ratio': 0.1, 'n_iter': 50, ...             2032.178034   \n",
       "3   {'alpha': 0.1, 'l1_ratio': 0.15, 'n_iter': 50,...             2021.676749   \n",
       "4   {'alpha': 0.1, 'l1_ratio': 0.2, 'n_iter': 50, ...             2007.697586   \n",
       "5   {'alpha': 0.1, 'l1_ratio': 0.25, 'n_iter': 50,...             1994.653432   \n",
       "6   {'alpha': 0.1, 'l1_ratio': 0.3, 'n_iter': 50, ...             1981.797654   \n",
       "7   {'alpha': 0.1, 'l1_ratio': 0.35, 'n_iter': 50,...             1966.487216   \n",
       "8   {'alpha': 0.1, 'l1_ratio': 0.4, 'n_iter': 50, ...             1950.899715   \n",
       "9   {'alpha': 0.1, 'l1_ratio': 0.45, 'n_iter': 50,...             1932.943341   \n",
       "10  {'alpha': 0.1, 'l1_ratio': 0.5, 'n_iter': 50, ...             1914.705454   \n",
       "11  {'alpha': 0.1, 'l1_ratio': 0.55, 'n_iter': 50,...             1895.518735   \n",
       "12  {'alpha': 0.1, 'l1_ratio': 0.6, 'n_iter': 50, ...             1874.042286   \n",
       "13  {'alpha': 0.1, 'l1_ratio': 0.65, 'n_iter': 50,...             1850.384475   \n",
       "14  {'alpha': 0.1, 'l1_ratio': 0.7, 'n_iter': 50, ...             1824.928289   \n",
       "15  {'alpha': 0.1, 'l1_ratio': 0.75, 'n_iter': 50,...             1799.134760   \n",
       "16  {'alpha': 0.1, 'l1_ratio': 0.8, 'n_iter': 50, ...             1770.506760   \n",
       "17  {'alpha': 0.1, 'l1_ratio': 0.85, 'n_iter': 50,...             1741.479617   \n",
       "18  {'alpha': 0.1, 'l1_ratio': 0.9, 'n_iter': 50, ...             1712.903853   \n",
       "19  {'alpha': 0.1, 'l1_ratio': 0.95, 'n_iter': 50,...             1688.136603   \n",
       "20  {'alpha': 0.1, 'l1_ratio': 1.0, 'n_iter': 50, ...             1675.022590   \n",
       "\n",
       "                                                   cv  \n",
       "0   [-2115.46253746, -2015.36095545, -2001.5611164...  \n",
       "1   [-2103.68561333, -2004.75230514, -1990.2948043...  \n",
       "2   [-2098.60663017, -1993.08586818, -1980.0966609...  \n",
       "3   [-2084.16683211, -1989.44188251, -1968.8268987...  \n",
       "4   [-2071.3796204, -1970.42627814, -1954.84992458...  \n",
       "5   [-2058.95272862, -1955.34829111, -1942.5496973...  \n",
       "6   [-2047.22526703, -1943.95956564, -1928.7041239...  \n",
       "7   [-2029.85629592, -1927.2891704, -1913.46431659...  \n",
       "8   [-2017.7177587, -1911.93720681, -1896.39840467...  \n",
       "9   [-1997.77211252, -1894.19575302, -1878.5173685...  \n",
       "10  [-1979.95988194, -1877.00908198, -1858.8581122...  \n",
       "11  [-1961.29676447, -1858.83433071, -1838.3843402...  \n",
       "12  [-1940.84383036, -1835.8598866, -1816.52150767...  \n",
       "13  [-1917.45717753, -1809.79547162, -1793.1704255...  \n",
       "14  [-1892.69417228, -1784.22071038, -1767.1560001...  \n",
       "15  [-1869.95474225, -1758.13259625, -1739.1352167...  \n",
       "16  [-1839.96496328, -1730.3313485, -1707.32466319...  \n",
       "17  [-1813.36569974, -1700.19633502, -1677.1941179...  \n",
       "18  [-1787.26161772, -1671.95818501, -1645.0831577...  \n",
       "19  [-1763.78825244, -1646.94388833, -1615.9640949...  \n",
       "20  [-1752.8215214, -1635.62849861, -1596.64093722...  "
      ]
     },
     "execution_count": 28,
     "metadata": {},
     "output_type": "execute_result"
    }
   ],
   "source": [
    "l1_2_ratios = [float(i) / 100 for i in range(0, 101, 5)]\n",
    "print(l1_2_ratios)\n",
    "params = {'l1_ratio':l1_2_ratios, 'penalty': ['elasticnet'], 'alpha': [.1], 'n_iter': [50]}\n",
    "gs = grid_search.GridSearchCV(\n",
    "    estimator=linear_model.SGDRegressor(),\n",
    "    cv=cross_validation.KFold(len(modeldata), n_folds=5, shuffle=True),\n",
    "    param_grid=params,\n",
    "    scoring='neg_mean_squared_error',\n",
    "    )\n",
    "\n",
    "gs.fit(modeldata, y)\n",
    "\n",
    "grid = pd.DataFrame(gs.grid_scores_)\n",
    "grid['mean_validation_score'] = grid['mean_validation_score'].apply(lambda x: -x)\n",
    "grid.columns = ['l1_ratio', 'neg_mean_squared_error', 'cv']\n",
    "grid\n"
   ]
  },
  {
   "cell_type": "code",
   "execution_count": 29,
   "metadata": {
    "collapsed": false
   },
   "outputs": [
    {
     "data": {
      "text/plain": [
       "[0.0,\n",
       " 0.05,\n",
       " 0.1,\n",
       " 0.15,\n",
       " 0.2,\n",
       " 0.25,\n",
       " 0.3,\n",
       " 0.35,\n",
       " 0.4,\n",
       " 0.45,\n",
       " 0.5,\n",
       " 0.55,\n",
       " 0.6,\n",
       " 0.65,\n",
       " 0.7,\n",
       " 0.75,\n",
       " 0.8,\n",
       " 0.85,\n",
       " 0.9,\n",
       " 0.95,\n",
       " 1.0]"
      ]
     },
     "execution_count": 29,
     "metadata": {},
     "output_type": "execute_result"
    }
   ],
   "source": [
    "l1_2_ratios"
   ]
  },
  {
   "cell_type": "code",
   "execution_count": 68,
   "metadata": {
    "collapsed": false
   },
   "outputs": [
    {
     "data": {
      "text/plain": [
       "SGDRegressor(alpha=0.1, average=False, epsilon=0.1, eta0=0.01,\n",
       "       fit_intercept=True, l1_ratio=1.0, learning_rate='invscaling',\n",
       "       loss='squared_loss', n_iter=50, penalty='elasticnet', power_t=0.25,\n",
       "       random_state=None, shuffle=True, verbose=0, warm_start=False)"
      ]
     },
     "execution_count": 68,
     "metadata": {},
     "output_type": "execute_result"
    }
   ],
   "source": [
    "gs.best_estimator_"
   ]
  },
  {
   "cell_type": "code",
   "execution_count": 69,
   "metadata": {
    "collapsed": false
   },
   "outputs": [
    {
     "data": {
      "text/plain": [
       "<matplotlib.axes._subplots.AxesSubplot at 0x282df1d8c50>"
      ]
     },
     "execution_count": 69,
     "metadata": {},
     "output_type": "execute_result"
    },
    {
     "data": {
      "image/png": "[encoded data removed]",
      "text/plain": [
       "<matplotlib.figure.Figure at 0x282df666320>"
      ]
     },
     "metadata": {},
     "output_type": "display_data"
    }
   ],
   "source": [
    "grid.plot('l1_ratio', 'neg_mean_squared_error')"
   ]
  },
  {
   "cell_type": "code",
   "execution_count": 79,
   "metadata": {
    "collapsed": false
   },
   "outputs": [
    {
     "name": "stdout",
     "output_type": "stream",
     "text": [
      "[1, 2, 3, 4, 5, 6, 7, 8, 9, 10, 11, 12, 13, 14, 15, 16, 17, 18, 19, 20, 21, 22, 23, 24, 25, 26, 27, 28, 29, 30, 31, 32, 33, 34, 35, 36, 37, 38, 39, 40, 41, 42, 43, 44, 45, 46, 47, 48, 49]\n"
     ]
    },
    {
     "data": {
      "text/html": [
       "<div>\n",
       "<table border=\"1\" class=\"dataframe\">\n",
       "  <thead>\n",
       "    <tr style=\"text-align: right;\">\n",
       "      <th></th>\n",
       "      <th>eta0</th>\n",
       "      <th>neg_mean_squared_error</th>\n",
       "      <th>cv</th>\n",
       "    </tr>\n",
       "  </thead>\n",
       "  <tbody>\n",
       "    <tr>\n",
       "      <th>0</th>\n",
       "      <td>{'eta0': 1, 'n_iter': 50}</td>\n",
       "      <td>1.725037e+03</td>\n",
       "      <td>[-1789.98544025, -1758.00393447, -1663.9125627...</td>\n",
       "    </tr>\n",
       "    <tr>\n",
       "      <th>1</th>\n",
       "      <td>{'eta0': 2, 'n_iter': 50}</td>\n",
       "      <td>1.824407e+03</td>\n",
       "      <td>[-2023.79825994, -1750.50514107, -1975.7765157...</td>\n",
       "    </tr>\n",
       "    <tr>\n",
       "      <th>2</th>\n",
       "      <td>{'eta0': 3, 'n_iter': 50}</td>\n",
       "      <td>7.423995e+06</td>\n",
       "      <td>[-1879.59235093, -1790.22937837, -39545.683139...</td>\n",
       "    </tr>\n",
       "    <tr>\n",
       "      <th>3</th>\n",
       "      <td>{'eta0': 4, 'n_iter': 50}</td>\n",
       "      <td>3.144140e+04</td>\n",
       "      <td>[-2128.95507261, -1953.45908669, -3226.4256088...</td>\n",
       "    </tr>\n",
       "    <tr>\n",
       "      <th>4</th>\n",
       "      <td>{'eta0': 5, 'n_iter': 50}</td>\n",
       "      <td>1.965391e+03</td>\n",
       "      <td>[-2125.97787269, -1793.69474074, -2149.1616581...</td>\n",
       "    </tr>\n",
       "    <tr>\n",
       "      <th>5</th>\n",
       "      <td>{'eta0': 6, 'n_iter': 50}</td>\n",
       "      <td>2.130519e+03</td>\n",
       "      <td>[-2991.05398865, -1836.70616578, -1960.3444971...</td>\n",
       "    </tr>\n",
       "    <tr>\n",
       "      <th>6</th>\n",
       "      <td>{'eta0': 7, 'n_iter': 50}</td>\n",
       "      <td>2.243413e+03</td>\n",
       "      <td>[-2110.52908341, -1748.97846854, -2124.1322362...</td>\n",
       "    </tr>\n",
       "    <tr>\n",
       "      <th>7</th>\n",
       "      <td>{'eta0': 8, 'n_iter': 50}</td>\n",
       "      <td>3.375392e+03</td>\n",
       "      <td>[-2298.81979351, -1838.01928862, -2882.8880178...</td>\n",
       "    </tr>\n",
       "    <tr>\n",
       "      <th>8</th>\n",
       "      <td>{'eta0': 9, 'n_iter': 50}</td>\n",
       "      <td>2.365678e+03</td>\n",
       "      <td>[-2266.32281452, -2744.88567892, -1889.1472029...</td>\n",
       "    </tr>\n",
       "    <tr>\n",
       "      <th>9</th>\n",
       "      <td>{'eta0': 10, 'n_iter': 50}</td>\n",
       "      <td>3.732016e+03</td>\n",
       "      <td>[-2434.43884628, -2239.65576883, -5755.9066568...</td>\n",
       "    </tr>\n",
       "    <tr>\n",
       "      <th>10</th>\n",
       "      <td>{'eta0': 11, 'n_iter': 50}</td>\n",
       "      <td>5.391148e+03</td>\n",
       "      <td>[-2803.28341487, -16614.6900087, -2446.6186548...</td>\n",
       "    </tr>\n",
       "    <tr>\n",
       "      <th>11</th>\n",
       "      <td>{'eta0': 12, 'n_iter': 50}</td>\n",
       "      <td>3.584003e+03</td>\n",
       "      <td>[-10555.014215, -1883.57821484, -1882.93521233...</td>\n",
       "    </tr>\n",
       "    <tr>\n",
       "      <th>12</th>\n",
       "      <td>{'eta0': 13, 'n_iter': 50}</td>\n",
       "      <td>2.498560e+03</td>\n",
       "      <td>[-2178.49737076, -2477.69383926, -3204.8472189...</td>\n",
       "    </tr>\n",
       "    <tr>\n",
       "      <th>13</th>\n",
       "      <td>{'eta0': 14, 'n_iter': 50}</td>\n",
       "      <td>2.673380e+03</td>\n",
       "      <td>[-2397.40971913, -1910.00956727, -1904.2117452...</td>\n",
       "    </tr>\n",
       "    <tr>\n",
       "      <th>14</th>\n",
       "      <td>{'eta0': 15, 'n_iter': 50}</td>\n",
       "      <td>4.558798e+03</td>\n",
       "      <td>[-2549.30064276, -8838.8361889, -2097.499294, ...</td>\n",
       "    </tr>\n",
       "    <tr>\n",
       "      <th>15</th>\n",
       "      <td>{'eta0': 16, 'n_iter': 50}</td>\n",
       "      <td>5.945142e+03</td>\n",
       "      <td>[-3166.33005477, -6941.90541078, -12085.785457...</td>\n",
       "    </tr>\n",
       "    <tr>\n",
       "      <th>16</th>\n",
       "      <td>{'eta0': 17, 'n_iter': 50}</td>\n",
       "      <td>1.087326e+04</td>\n",
       "      <td>[-2905.33544596, -2017.08744815, -3413.4977308...</td>\n",
       "    </tr>\n",
       "    <tr>\n",
       "      <th>17</th>\n",
       "      <td>{'eta0': 18, 'n_iter': 50}</td>\n",
       "      <td>1.587883e+04</td>\n",
       "      <td>[-23469.5822147, -3076.54475249, -10474.610600...</td>\n",
       "    </tr>\n",
       "    <tr>\n",
       "      <th>18</th>\n",
       "      <td>{'eta0': 19, 'n_iter': 50}</td>\n",
       "      <td>3.098834e+04</td>\n",
       "      <td>[-20562.1311217, -11141.7993739, -6787.5370645...</td>\n",
       "    </tr>\n",
       "    <tr>\n",
       "      <th>19</th>\n",
       "      <td>{'eta0': 20, 'n_iter': 50}</td>\n",
       "      <td>1.337399e+09</td>\n",
       "      <td>[-8344.58264185, -6945.61743326, -2915033.0338...</td>\n",
       "    </tr>\n",
       "    <tr>\n",
       "      <th>20</th>\n",
       "      <td>{'eta0': 21, 'n_iter': 50}</td>\n",
       "      <td>1.374912e+15</td>\n",
       "      <td>[-2.18123889455e+15, -1.14489153229e+13, -2.52...</td>\n",
       "    </tr>\n",
       "    <tr>\n",
       "      <th>21</th>\n",
       "      <td>{'eta0': 22, 'n_iter': 50}</td>\n",
       "      <td>1.318397e+23</td>\n",
       "      <td>[-1.32471640742e+23, -1.28574594461e+23, -1.28...</td>\n",
       "    </tr>\n",
       "    <tr>\n",
       "      <th>22</th>\n",
       "      <td>{'eta0': 23, 'n_iter': 50}</td>\n",
       "      <td>5.607000e+23</td>\n",
       "      <td>[-5.45225726111e+23, -1.20959642716e+24, -9.58...</td>\n",
       "    </tr>\n",
       "    <tr>\n",
       "      <th>23</th>\n",
       "      <td>{'eta0': 24, 'n_iter': 50}</td>\n",
       "      <td>5.356548e+23</td>\n",
       "      <td>[-3.95474174535e+23, -5.98033010571e+23, -7.31...</td>\n",
       "    </tr>\n",
       "    <tr>\n",
       "      <th>24</th>\n",
       "      <td>{'eta0': 25, 'n_iter': 50}</td>\n",
       "      <td>7.211855e+23</td>\n",
       "      <td>[-4.42660167225e+23, -1.04453037236e+24, -1.87...</td>\n",
       "    </tr>\n",
       "    <tr>\n",
       "      <th>25</th>\n",
       "      <td>{'eta0': 26, 'n_iter': 50}</td>\n",
       "      <td>5.855988e+23</td>\n",
       "      <td>[-3.23399171132e+23, -7.86493808973e+23, -8.02...</td>\n",
       "    </tr>\n",
       "    <tr>\n",
       "      <th>26</th>\n",
       "      <td>{'eta0': 27, 'n_iter': 50}</td>\n",
       "      <td>7.736774e+23</td>\n",
       "      <td>[-3.45035281128e+23, -1.49470458145e+24, -1.01...</td>\n",
       "    </tr>\n",
       "    <tr>\n",
       "      <th>27</th>\n",
       "      <td>{'eta0': 28, 'n_iter': 50}</td>\n",
       "      <td>9.226599e+23</td>\n",
       "      <td>[-1.7704909024e+24, -1.08557454151e+24, -3.702...</td>\n",
       "    </tr>\n",
       "    <tr>\n",
       "      <th>28</th>\n",
       "      <td>{'eta0': 29, 'n_iter': 50}</td>\n",
       "      <td>1.284117e+24</td>\n",
       "      <td>[-2.01049029303e+24, -4.64079654482e+23, -7.36...</td>\n",
       "    </tr>\n",
       "    <tr>\n",
       "      <th>29</th>\n",
       "      <td>{'eta0': 30, 'n_iter': 50}</td>\n",
       "      <td>1.517721e+24</td>\n",
       "      <td>[-3.23764496323e+23, -1.63732924426e+24, -1.42...</td>\n",
       "    </tr>\n",
       "    <tr>\n",
       "      <th>30</th>\n",
       "      <td>{'eta0': 31, 'n_iter': 50}</td>\n",
       "      <td>1.129755e+24</td>\n",
       "      <td>[-1.42993437083e+24, -1.2962035207e+23, -2.602...</td>\n",
       "    </tr>\n",
       "    <tr>\n",
       "      <th>31</th>\n",
       "      <td>{'eta0': 32, 'n_iter': 50}</td>\n",
       "      <td>1.569748e+24</td>\n",
       "      <td>[-6.18345122845e+23, -2.89403275847e+24, -1.64...</td>\n",
       "    </tr>\n",
       "    <tr>\n",
       "      <th>32</th>\n",
       "      <td>{'eta0': 33, 'n_iter': 50}</td>\n",
       "      <td>1.951128e+24</td>\n",
       "      <td>[-2.44771242678e+24, -2.25769368418e+24, -1.16...</td>\n",
       "    </tr>\n",
       "    <tr>\n",
       "      <th>33</th>\n",
       "      <td>{'eta0': 34, 'n_iter': 50}</td>\n",
       "      <td>2.348300e+24</td>\n",
       "      <td>[-3.29390476304e+24, -5.48913438884e+23, -7.44...</td>\n",
       "    </tr>\n",
       "    <tr>\n",
       "      <th>34</th>\n",
       "      <td>{'eta0': 35, 'n_iter': 50}</td>\n",
       "      <td>2.480026e+24</td>\n",
       "      <td>[-6.9861948194e+23, -1.65382441935e+24, -1.735...</td>\n",
       "    </tr>\n",
       "    <tr>\n",
       "      <th>35</th>\n",
       "      <td>{'eta0': 36, 'n_iter': 50}</td>\n",
       "      <td>1.408727e+24</td>\n",
       "      <td>[-3.7088480782e+23, -5.11920993322e+23, -2.093...</td>\n",
       "    </tr>\n",
       "    <tr>\n",
       "      <th>36</th>\n",
       "      <td>{'eta0': 37, 'n_iter': 50}</td>\n",
       "      <td>1.539407e+24</td>\n",
       "      <td>[-1.5755008182e+24, -4.54856339155e+23, -5.384...</td>\n",
       "    </tr>\n",
       "    <tr>\n",
       "      <th>37</th>\n",
       "      <td>{'eta0': 38, 'n_iter': 50}</td>\n",
       "      <td>9.499542e+23</td>\n",
       "      <td>[-1.49394536748e+24, -3.4124221947e+23, -8.626...</td>\n",
       "    </tr>\n",
       "    <tr>\n",
       "      <th>38</th>\n",
       "      <td>{'eta0': 39, 'n_iter': 50}</td>\n",
       "      <td>2.102339e+24</td>\n",
       "      <td>[-1.89851992425e+24, -4.57805003858e+23, -1.42...</td>\n",
       "    </tr>\n",
       "    <tr>\n",
       "      <th>39</th>\n",
       "      <td>{'eta0': 40, 'n_iter': 50}</td>\n",
       "      <td>1.889256e+24</td>\n",
       "      <td>[-2.50938185534e+24, -1.9801885534e+24, -3.759...</td>\n",
       "    </tr>\n",
       "    <tr>\n",
       "      <th>40</th>\n",
       "      <td>{'eta0': 41, 'n_iter': 50}</td>\n",
       "      <td>3.266517e+24</td>\n",
       "      <td>[-2.24225909914e+24, -1.08519515351e+24, -7.41...</td>\n",
       "    </tr>\n",
       "    <tr>\n",
       "      <th>41</th>\n",
       "      <td>{'eta0': 42, 'n_iter': 50}</td>\n",
       "      <td>3.070306e+24</td>\n",
       "      <td>[-6.11464795521e+24, -1.02197012954e+24, -1.31...</td>\n",
       "    </tr>\n",
       "    <tr>\n",
       "      <th>42</th>\n",
       "      <td>{'eta0': 43, 'n_iter': 50}</td>\n",
       "      <td>2.570350e+24</td>\n",
       "      <td>[-2.82326699938e+24, -4.0138928829e+24, -6.422...</td>\n",
       "    </tr>\n",
       "    <tr>\n",
       "      <th>43</th>\n",
       "      <td>{'eta0': 44, 'n_iter': 50}</td>\n",
       "      <td>3.018342e+24</td>\n",
       "      <td>[-2.68933175474e+24, -2.33758543015e+24, -2.20...</td>\n",
       "    </tr>\n",
       "    <tr>\n",
       "      <th>44</th>\n",
       "      <td>{'eta0': 45, 'n_iter': 50}</td>\n",
       "      <td>3.548298e+24</td>\n",
       "      <td>[-5.01475595679e+23, -1.94890931275e+24, -5.30...</td>\n",
       "    </tr>\n",
       "    <tr>\n",
       "      <th>45</th>\n",
       "      <td>{'eta0': 46, 'n_iter': 50}</td>\n",
       "      <td>2.673966e+24</td>\n",
       "      <td>[-6.07373921808e+24, -1.22631592581e+24, -7.87...</td>\n",
       "    </tr>\n",
       "    <tr>\n",
       "      <th>46</th>\n",
       "      <td>{'eta0': 47, 'n_iter': 50}</td>\n",
       "      <td>7.636656e+24</td>\n",
       "      <td>[-2.55290848947e+24, -2.00712007956e+25, -7.98...</td>\n",
       "    </tr>\n",
       "    <tr>\n",
       "      <th>47</th>\n",
       "      <td>{'eta0': 48, 'n_iter': 50}</td>\n",
       "      <td>3.898431e+24</td>\n",
       "      <td>[-2.10168545061e+24, -7.68790327222e+24, -5.84...</td>\n",
       "    </tr>\n",
       "    <tr>\n",
       "      <th>48</th>\n",
       "      <td>{'eta0': 49, 'n_iter': 50}</td>\n",
       "      <td>7.476274e+24</td>\n",
       "      <td>[-9.32067297784e+24, -9.54283182961e+24, -1.31...</td>\n",
       "    </tr>\n",
       "  </tbody>\n",
       "</table>\n",
       "</div>"
      ],
      "text/plain": [
       "                          eta0  neg_mean_squared_error  \\\n",
       "0    {'eta0': 1, 'n_iter': 50}            1.725037e+03   \n",
       "1    {'eta0': 2, 'n_iter': 50}            1.824407e+03   \n",
       "2    {'eta0': 3, 'n_iter': 50}            7.423995e+06   \n",
       "3    {'eta0': 4, 'n_iter': 50}            3.144140e+04   \n",
       "4    {'eta0': 5, 'n_iter': 50}            1.965391e+03   \n",
       "5    {'eta0': 6, 'n_iter': 50}            2.130519e+03   \n",
       "6    {'eta0': 7, 'n_iter': 50}            2.243413e+03   \n",
       "7    {'eta0': 8, 'n_iter': 50}            3.375392e+03   \n",
       "8    {'eta0': 9, 'n_iter': 50}            2.365678e+03   \n",
       "9   {'eta0': 10, 'n_iter': 50}            3.732016e+03   \n",
       "10  {'eta0': 11, 'n_iter': 50}            5.391148e+03   \n",
       "11  {'eta0': 12, 'n_iter': 50}            3.584003e+03   \n",
       "12  {'eta0': 13, 'n_iter': 50}            2.498560e+03   \n",
       "13  {'eta0': 14, 'n_iter': 50}            2.673380e+03   \n",
       "14  {'eta0': 15, 'n_iter': 50}            4.558798e+03   \n",
       "15  {'eta0': 16, 'n_iter': 50}            5.945142e+03   \n",
       "16  {'eta0': 17, 'n_iter': 50}            1.087326e+04   \n",
       "17  {'eta0': 18, 'n_iter': 50}            1.587883e+04   \n",
       "18  {'eta0': 19, 'n_iter': 50}            3.098834e+04   \n",
       "19  {'eta0': 20, 'n_iter': 50}            1.337399e+09   \n",
       "20  {'eta0': 21, 'n_iter': 50}            1.374912e+15   \n",
       "21  {'eta0': 22, 'n_iter': 50}            1.318397e+23   \n",
       "22  {'eta0': 23, 'n_iter': 50}            5.607000e+23   \n",
       "23  {'eta0': 24, 'n_iter': 50}            5.356548e+23   \n",
       "24  {'eta0': 25, 'n_iter': 50}            7.211855e+23   \n",
       "25  {'eta0': 26, 'n_iter': 50}            5.855988e+23   \n",
       "26  {'eta0': 27, 'n_iter': 50}            7.736774e+23   \n",
       "27  {'eta0': 28, 'n_iter': 50}            9.226599e+23   \n",
       "28  {'eta0': 29, 'n_iter': 50}            1.284117e+24   \n",
       "29  {'eta0': 30, 'n_iter': 50}            1.517721e+24   \n",
       "30  {'eta0': 31, 'n_iter': 50}            1.129755e+24   \n",
       "31  {'eta0': 32, 'n_iter': 50}            1.569748e+24   \n",
       "32  {'eta0': 33, 'n_iter': 50}            1.951128e+24   \n",
       "33  {'eta0': 34, 'n_iter': 50}            2.348300e+24   \n",
       "34  {'eta0': 35, 'n_iter': 50}            2.480026e+24   \n",
       "35  {'eta0': 36, 'n_iter': 50}            1.408727e+24   \n",
       "36  {'eta0': 37, 'n_iter': 50}            1.539407e+24   \n",
       "37  {'eta0': 38, 'n_iter': 50}            9.499542e+23   \n",
       "38  {'eta0': 39, 'n_iter': 50}            2.102339e+24   \n",
       "39  {'eta0': 40, 'n_iter': 50}            1.889256e+24   \n",
       "40  {'eta0': 41, 'n_iter': 50}            3.266517e+24   \n",
       "41  {'eta0': 42, 'n_iter': 50}            3.070306e+24   \n",
       "42  {'eta0': 43, 'n_iter': 50}            2.570350e+24   \n",
       "43  {'eta0': 44, 'n_iter': 50}            3.018342e+24   \n",
       "44  {'eta0': 45, 'n_iter': 50}            3.548298e+24   \n",
       "45  {'eta0': 46, 'n_iter': 50}            2.673966e+24   \n",
       "46  {'eta0': 47, 'n_iter': 50}            7.636656e+24   \n",
       "47  {'eta0': 48, 'n_iter': 50}            3.898431e+24   \n",
       "48  {'eta0': 49, 'n_iter': 50}            7.476274e+24   \n",
       "\n",
       "                                                   cv  \n",
       "0   [-1789.98544025, -1758.00393447, -1663.9125627...  \n",
       "1   [-2023.79825994, -1750.50514107, -1975.7765157...  \n",
       "2   [-1879.59235093, -1790.22937837, -39545.683139...  \n",
       "3   [-2128.95507261, -1953.45908669, -3226.4256088...  \n",
       "4   [-2125.97787269, -1793.69474074, -2149.1616581...  \n",
       "5   [-2991.05398865, -1836.70616578, -1960.3444971...  \n",
       "6   [-2110.52908341, -1748.97846854, -2124.1322362...  \n",
       "7   [-2298.81979351, -1838.01928862, -2882.8880178...  \n",
       "8   [-2266.32281452, -2744.88567892, -1889.1472029...  \n",
       "9   [-2434.43884628, -2239.65576883, -5755.9066568...  \n",
       "10  [-2803.28341487, -16614.6900087, -2446.6186548...  \n",
       "11  [-10555.014215, -1883.57821484, -1882.93521233...  \n",
       "12  [-2178.49737076, -2477.69383926, -3204.8472189...  \n",
       "13  [-2397.40971913, -1910.00956727, -1904.2117452...  \n",
       "14  [-2549.30064276, -8838.8361889, -2097.499294, ...  \n",
       "15  [-3166.33005477, -6941.90541078, -12085.785457...  \n",
       "16  [-2905.33544596, -2017.08744815, -3413.4977308...  \n",
       "17  [-23469.5822147, -3076.54475249, -10474.610600...  \n",
       "18  [-20562.1311217, -11141.7993739, -6787.5370645...  \n",
       "19  [-8344.58264185, -6945.61743326, -2915033.0338...  \n",
       "20  [-2.18123889455e+15, -1.14489153229e+13, -2.52...  \n",
       "21  [-1.32471640742e+23, -1.28574594461e+23, -1.28...  \n",
       "22  [-5.45225726111e+23, -1.20959642716e+24, -9.58...  \n",
       "23  [-3.95474174535e+23, -5.98033010571e+23, -7.31...  \n",
       "24  [-4.42660167225e+23, -1.04453037236e+24, -1.87...  \n",
       "25  [-3.23399171132e+23, -7.86493808973e+23, -8.02...  \n",
       "26  [-3.45035281128e+23, -1.49470458145e+24, -1.01...  \n",
       "27  [-1.7704909024e+24, -1.08557454151e+24, -3.702...  \n",
       "28  [-2.01049029303e+24, -4.64079654482e+23, -7.36...  \n",
       "29  [-3.23764496323e+23, -1.63732924426e+24, -1.42...  \n",
       "30  [-1.42993437083e+24, -1.2962035207e+23, -2.602...  \n",
       "31  [-6.18345122845e+23, -2.89403275847e+24, -1.64...  \n",
       "32  [-2.44771242678e+24, -2.25769368418e+24, -1.16...  \n",
       "33  [-3.29390476304e+24, -5.48913438884e+23, -7.44...  \n",
       "34  [-6.9861948194e+23, -1.65382441935e+24, -1.735...  \n",
       "35  [-3.7088480782e+23, -5.11920993322e+23, -2.093...  \n",
       "36  [-1.5755008182e+24, -4.54856339155e+23, -5.384...  \n",
       "37  [-1.49394536748e+24, -3.4124221947e+23, -8.626...  \n",
       "38  [-1.89851992425e+24, -4.57805003858e+23, -1.42...  \n",
       "39  [-2.50938185534e+24, -1.9801885534e+24, -3.759...  \n",
       "40  [-2.24225909914e+24, -1.08519515351e+24, -7.41...  \n",
       "41  [-6.11464795521e+24, -1.02197012954e+24, -1.31...  \n",
       "42  [-2.82326699938e+24, -4.0138928829e+24, -6.422...  \n",
       "43  [-2.68933175474e+24, -2.33758543015e+24, -2.20...  \n",
       "44  [-5.01475595679e+23, -1.94890931275e+24, -5.30...  \n",
       "45  [-6.07373921808e+24, -1.22631592581e+24, -7.87...  \n",
       "46  [-2.55290848947e+24, -2.00712007956e+25, -7.98...  \n",
       "47  [-2.10168545061e+24, -7.68790327222e+24, -5.84...  \n",
       "48  [-9.32067297784e+24, -9.54283182961e+24, -1.31...  "
      ]
     },
     "execution_count": 79,
     "metadata": {},
     "output_type": "execute_result"
    }
   ],
   "source": [
    "learning = list(range(1,50))\n",
    "print(learning)\n",
    "params = {'eta0':list(range(1,50)), 'n_iter': [50]}\n",
    "gs = grid_search.GridSearchCV(\n",
    "    estimator=linear_model.SGDRegressor(),\n",
    "    cv=cross_validation.KFold(len(modeldata), n_folds=5, shuffle=True),\n",
    "    param_grid=params,\n",
    "    scoring='neg_mean_squared_error',\n",
    "    )\n",
    "\n",
    "gs.fit(modeldata, y)\n",
    "\n",
    "grid = pd.DataFrame(gs.grid_scores_)\n",
    "grid.columns = ['eta0', 'neg_mean_squared_error', 'cv']\n",
    "grid['neg_mean_squared_error'] = grid['neg_mean_squared_error'].apply(lambda x: -x)\n",
    "grid"
   ]
  },
  {
   "cell_type": "markdown",
   "metadata": {},
   "source": [
    "Here it should be apparent that as the initial learning rate increases, the error should _also_ increase. And what happens when the initial learning rate is too high? A dramatic increase in error. Students should recognize the importance of learning rate and what values it should be set at, the smaller generally the better."
   ]
  },
  {
   "cell_type": "code",
   "execution_count": 81,
   "metadata": {
    "collapsed": false
   },
   "outputs": [
    {
     "data": {
      "text/plain": [
       "<matplotlib.axes._subplots.AxesSubplot at 0x282df7228d0>"
      ]
     },
     "execution_count": 81,
     "metadata": {},
     "output_type": "execute_result"
    },
    {
     "data": {
      "image/png": "[encoded data removed]",
      "text/plain": [
       "<matplotlib.figure.Figure at 0x282df235198>"
      ]
     },
     "metadata": {},
     "output_type": "display_data"
    }
   ],
   "source": [
    "grid.plot('eta0', 'neg_mean_squared_error', logy=True)"
   ]
  }
 ],
 "metadata": {
  "kernelspec": {
   "display_name": "Python 3",
   "language": "python",
   "name": "python3"
  },
  "language_info": {
   "codemirror_mode": {
    "name": "ipython",
    "version": 3
   },
   "file_extension": ".py",
   "mimetype": "text/x-python",
   "name": "python",
   "nbconvert_exporter": "python",
   "pygments_lexer": "ipython3",
   "version": "3.6.0"
  }
 },
 "nbformat": 4,
 "nbformat_minor": 0
}
