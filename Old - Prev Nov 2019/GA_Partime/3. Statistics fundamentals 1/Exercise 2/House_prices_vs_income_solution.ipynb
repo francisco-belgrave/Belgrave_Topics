{
 "cells": [
  {
   "cell_type": "markdown",
   "metadata": {},
   "source": [
    "# In-class exercise: average house prices vs average income"
   ]
  },
  {
   "cell_type": "markdown",
   "metadata": {},
   "source": [
    "In this guided practice, we'll merge and explore two datasets from the [London Datastore](https://data.london.gov.uk/):\n",
    "* [Average house prices by borough](https://data.london.gov.uk/dataset/average-house-prices-borough) (Land Registry)\n",
    "* [Average income of tax payers by borough](https://data.london.gov.uk/dataset/average-income-tax-payers-borough) (HMRC)\n",
    "\n",
    "Let's start by loading some libraries."
   ]
  },
  {
   "cell_type": "code",
   "execution_count": 1,
   "metadata": {
    "collapsed": true
   },
   "outputs": [],
   "source": [
    "import numpy as np\n",
    "import pandas as pd"
   ]
  },
  {
   "cell_type": "markdown",
   "metadata": {},
   "source": [
    "Next, we define the location of the two datasets."
   ]
  },
  {
   "cell_type": "code",
   "execution_count": 2,
   "metadata": {
    "collapsed": true
   },
   "outputs": [],
   "source": [
    "AHP_URL = 'https://files.datapress.com/london/dataset/average-house-prices-borough/2016-08-01T11:27:10/average-house-prices-borough.xls'\n",
    "INCOMES_URL = 'https://files.datapress.com/london/dataset/average-income-tax-payers-borough/2016-04-05T08:55:06/income-of-tax-payers.csv'"
   ]
  },
  {
   "cell_type": "markdown",
   "metadata": {},
   "source": [
    "## Over to you!\n",
    "\n",
    "Read in the *Median Annual* sheet from the Average House Prices by Borough dataset at `AHP_URL` into a DataFrame called `ahp`."
   ]
  },
  {
   "cell_type": "code",
   "execution_count": 3,
   "metadata": {
    "collapsed": true
   },
   "outputs": [],
   "source": [
    "ahp = pd.read_excel(AHP_URL, sheetname='Median Annual')"
   ]
  },
  {
   "cell_type": "markdown",
   "metadata": {},
   "source": [
    "Filter the DataFrame so that only boroughs are included (hint: check the structure of `ahp.Code`)."
   ]
  },
  {
   "cell_type": "code",
   "execution_count": 4,
   "metadata": {
    "collapsed": true
   },
   "outputs": [],
   "source": [
    "ahp = ahp[ahp.Code.str.startswith('E09', na=False)]"
   ]
  },
  {
   "cell_type": "markdown",
   "metadata": {},
   "source": [
    "Set `Code` as index, then drop it from the DataFrame."
   ]
  },
  {
   "cell_type": "code",
   "execution_count": 5,
   "metadata": {
    "collapsed": true
   },
   "outputs": [],
   "source": [
    "ahp.set_index('Code', drop=True, inplace=True)"
   ]
  },
  {
   "cell_type": "markdown",
   "metadata": {},
   "source": [
    "We will now convert (`melt`) the dataset from 'wide' to 'long' format, and convert `Year` to integer."
   ]
  },
  {
   "cell_type": "code",
   "execution_count": 6,
   "metadata": {
    "collapsed": false
   },
   "outputs": [],
   "source": [
    "ahp = pd.melt(ahp, id_vars='Area', var_name='Year', value_name='Price')\n",
    "ahp['Year'] = ahp.Year.astype('int')"
   ]
  },
  {
   "cell_type": "markdown",
   "metadata": {},
   "source": [
    "Calculate mean house prices by year."
   ]
  },
  {
   "cell_type": "code",
   "execution_count": 7,
   "metadata": {
    "collapsed": false
   },
   "outputs": [
    {
     "data": {
      "text/plain": [
       "Year\n",
       "1996     83983.303030\n",
       "1997     94842.954545\n",
       "1998    108486.969697\n",
       "1999    127183.863636\n",
       "2000    151637.969697\n",
       "2001    170181.363636\n",
       "2002    196561.212121\n",
       "2003    215584.090909\n",
       "2004    233728.727273\n",
       "2005    244355.090909\n",
       "2006    262362.318182\n",
       "2007    295134.848485\n",
       "2008    295976.075758\n",
       "2009    286555.151515\n",
       "2010    315221.939394\n",
       "2011    321733.909091\n",
       "2012    334741.515152\n",
       "2013    367204.545455\n",
       "2014    429028.787879\n",
       "2015    465467.969697\n",
       "Name: Price, dtype: float64"
      ]
     },
     "execution_count": 7,
     "metadata": {},
     "output_type": "execute_result"
    }
   ],
   "source": [
    "ahp.groupby('Year').Price.mean()"
   ]
  },
  {
   "cell_type": "markdown",
   "metadata": {},
   "source": [
    "Calculate mean house prices by borough using only data from 2010 onwards."
   ]
  },
  {
   "cell_type": "code",
   "execution_count": 8,
   "metadata": {
    "collapsed": false
   },
   "outputs": [
    {
     "data": {
      "text/plain": [
       "Area\n",
       "Barking and Dagenham      192415.833333\n",
       "Barnet                    361583.333333\n",
       "Bexley                    231666.666667\n",
       "Brent                     340208.333333\n",
       "Bromley                   305495.833333\n",
       "Camden                    569166.666667\n",
       "City of London            594999.833333\n",
       "Croydon                   245666.666667\n",
       "Ealing                    337816.666667\n",
       "Enfield                   263666.666667\n",
       "Greenwich                 278665.833333\n",
       "Hackney                   370083.333333\n",
       "Hammersmith and Fulham    560166.666667\n",
       "Haringey                  346916.666667\n",
       "Harrow                    329608.333333\n",
       "Havering                  238250.000000\n",
       "Hillingdon                278937.333333\n",
       "Hounslow                  286316.666667\n",
       "Islington                 461129.166667\n",
       "Kensington and Chelsea    966666.666667\n",
       "Kingston upon Thames      341408.333333\n",
       "Lambeth                   358750.000000\n",
       "Lewisham                  275075.000000\n",
       "Merton                    332495.833333\n",
       "Newham                    240500.000000\n",
       "Redbridge                 280625.000000\n",
       "Richmond upon Thames      472500.000000\n",
       "Southwark                 368333.333333\n",
       "Sutton                    260458.333333\n",
       "Tower Hamlets             339249.833333\n",
       "Waltham Forest            275428.166667\n",
       "Wandsworth                456533.333333\n",
       "Westminster               722908.333333\n",
       "Name: Price, dtype: float64"
      ]
     },
     "execution_count": 8,
     "metadata": {},
     "output_type": "execute_result"
    }
   ],
   "source": [
    "ahp[ahp.Year >= 2010].groupby('Area').Price.mean()"
   ]
  },
  {
   "cell_type": "markdown",
   "metadata": {},
   "source": [
    "Identify the three boroughs with highest mean house prices."
   ]
  },
  {
   "cell_type": "code",
   "execution_count": 9,
   "metadata": {
    "collapsed": false
   },
   "outputs": [
    {
     "data": {
      "text/plain": [
       "Area\n",
       "Kensington and Chelsea    585968.625\n",
       "Westminster               441171.250\n",
       "Camden                    366874.950\n",
       "Name: Price, dtype: float64"
      ]
     },
     "execution_count": 9,
     "metadata": {},
     "output_type": "execute_result"
    }
   ],
   "source": [
    "ahp.groupby('Area').Price.mean().sort_values(ascending=False).head(3)"
   ]
  },
  {
   "cell_type": "markdown",
   "metadata": {},
   "source": [
    "Read in the Average Income of Tax Payers by Borough dataset from `INCOMES_URL` into a DataFrame called `incomes`."
   ]
  },
  {
   "cell_type": "code",
   "execution_count": 10,
   "metadata": {
    "collapsed": true
   },
   "outputs": [],
   "source": [
    "incomes = pd.read_csv(INCOMES_URL)"
   ]
  },
  {
   "cell_type": "markdown",
   "metadata": {},
   "source": [
    "Keep only the columns indicating the borough and the medians for each year."
   ]
  },
  {
   "cell_type": "code",
   "execution_count": 11,
   "metadata": {
    "collapsed": true
   },
   "outputs": [],
   "source": [
    "incomes = incomes.iloc[:,(incomes.columns == 'Area') | incomes.columns.str.startswith('Median')]"
   ]
  },
  {
   "cell_type": "markdown",
   "metadata": {},
   "source": [
    "Rename the columns to only include the starting year (e.g. 1999-00 = 1999)"
   ]
  },
  {
   "cell_type": "code",
   "execution_count": 12,
   "metadata": {
    "collapsed": true
   },
   "outputs": [],
   "source": [
    "incomes.rename(columns=dict(zip(\n",
    "    incomes.columns[1:],\n",
    "    incomes.columns[1:].str[11:15]  # Could use regular expressions here\n",
    ")), inplace=True)"
   ]
  },
  {
   "cell_type": "markdown",
   "metadata": {},
   "source": [
    "Melt the DataFrame and convert `Year` to integer."
   ]
  },
  {
   "cell_type": "code",
   "execution_count": 13,
   "metadata": {
    "collapsed": false
   },
   "outputs": [],
   "source": [
    "incomes = pd.melt(incomes, id_vars='Area', var_name='Year', value_name='Income')\n",
    "incomes['Year'] = incomes.Year.astype('int')"
   ]
  },
  {
   "cell_type": "markdown",
   "metadata": {},
   "source": [
    "Merge `incomes` with `ahp`, keeping only observations found in both."
   ]
  },
  {
   "cell_type": "code",
   "execution_count": 14,
   "metadata": {
    "collapsed": true
   },
   "outputs": [],
   "source": [
    "ahp = pd.merge(ahp, incomes, how='inner')"
   ]
  },
  {
   "cell_type": "markdown",
   "metadata": {},
   "source": [
    "Compute mean house prices and incomes by year."
   ]
  },
  {
   "cell_type": "code",
   "execution_count": 15,
   "metadata": {
    "collapsed": false
   },
   "outputs": [
    {
     "data": {
      "text/html": [
       "<div>\n",
       "<table border=\"1\" class=\"dataframe\">\n",
       "  <thead>\n",
       "    <tr style=\"text-align: right;\">\n",
       "      <th></th>\n",
       "      <th>Income</th>\n",
       "      <th>Price</th>\n",
       "    </tr>\n",
       "    <tr>\n",
       "      <th>Year</th>\n",
       "      <th></th>\n",
       "      <th></th>\n",
       "    </tr>\n",
       "  </thead>\n",
       "  <tbody>\n",
       "    <tr>\n",
       "      <th>1999</th>\n",
       "      <td>17575.757576</td>\n",
       "      <td>127183.863636</td>\n",
       "    </tr>\n",
       "    <tr>\n",
       "      <th>2000</th>\n",
       "      <td>19166.666667</td>\n",
       "      <td>151637.969697</td>\n",
       "    </tr>\n",
       "    <tr>\n",
       "      <th>2001</th>\n",
       "      <td>19269.696970</td>\n",
       "      <td>170181.363636</td>\n",
       "    </tr>\n",
       "    <tr>\n",
       "      <th>2002</th>\n",
       "      <td>19645.454545</td>\n",
       "      <td>196561.212121</td>\n",
       "    </tr>\n",
       "    <tr>\n",
       "      <th>2003</th>\n",
       "      <td>19948.484848</td>\n",
       "      <td>215584.090909</td>\n",
       "    </tr>\n",
       "    <tr>\n",
       "      <th>2004</th>\n",
       "      <td>20033.333333</td>\n",
       "      <td>233728.727273</td>\n",
       "    </tr>\n",
       "    <tr>\n",
       "      <th>2005</th>\n",
       "      <td>21596.969697</td>\n",
       "      <td>244355.090909</td>\n",
       "    </tr>\n",
       "    <tr>\n",
       "      <th>2006</th>\n",
       "      <td>22063.636364</td>\n",
       "      <td>262362.318182</td>\n",
       "    </tr>\n",
       "    <tr>\n",
       "      <th>2007</th>\n",
       "      <td>23378.787879</td>\n",
       "      <td>295134.848485</td>\n",
       "    </tr>\n",
       "    <tr>\n",
       "      <th>2009</th>\n",
       "      <td>25154.545455</td>\n",
       "      <td>286555.151515</td>\n",
       "    </tr>\n",
       "    <tr>\n",
       "      <th>2010</th>\n",
       "      <td>24890.909091</td>\n",
       "      <td>315221.939394</td>\n",
       "    </tr>\n",
       "    <tr>\n",
       "      <th>2011</th>\n",
       "      <td>25393.939394</td>\n",
       "      <td>321733.909091</td>\n",
       "    </tr>\n",
       "    <tr>\n",
       "      <th>2012</th>\n",
       "      <td>26463.636364</td>\n",
       "      <td>334741.515152</td>\n",
       "    </tr>\n",
       "    <tr>\n",
       "      <th>2013</th>\n",
       "      <td>27545.454545</td>\n",
       "      <td>367204.545455</td>\n",
       "    </tr>\n",
       "  </tbody>\n",
       "</table>\n",
       "</div>"
      ],
      "text/plain": [
       "            Income          Price\n",
       "Year                             \n",
       "1999  17575.757576  127183.863636\n",
       "2000  19166.666667  151637.969697\n",
       "2001  19269.696970  170181.363636\n",
       "2002  19645.454545  196561.212121\n",
       "2003  19948.484848  215584.090909\n",
       "2004  20033.333333  233728.727273\n",
       "2005  21596.969697  244355.090909\n",
       "2006  22063.636364  262362.318182\n",
       "2007  23378.787879  295134.848485\n",
       "2009  25154.545455  286555.151515\n",
       "2010  24890.909091  315221.939394\n",
       "2011  25393.939394  321733.909091\n",
       "2012  26463.636364  334741.515152\n",
       "2013  27545.454545  367204.545455"
      ]
     },
     "execution_count": 15,
     "metadata": {},
     "output_type": "execute_result"
    }
   ],
   "source": [
    "ahp.pivot_table(values=['Price', 'Income'], index='Year')"
   ]
  },
  {
   "cell_type": "markdown",
   "metadata": {},
   "source": [
    "Compute the correlation between house prices and incomes."
   ]
  },
  {
   "cell_type": "code",
   "execution_count": 16,
   "metadata": {
    "collapsed": false
   },
   "outputs": [
    {
     "data": {
      "text/plain": [
       "0.6727862643323711"
      ]
     },
     "execution_count": 16,
     "metadata": {},
     "output_type": "execute_result"
    }
   ],
   "source": [
    "ahp.Price.corr(ahp.Income)"
   ]
  }
 ],
 "metadata": {
  "kernelspec": {
   "display_name": "Python [default]",
   "language": "python",
   "name": "python3"
  },
  "language_info": {
   "codemirror_mode": {
    "name": "ipython",
    "version": 3
   },
   "file_extension": ".py",
   "mimetype": "text/x-python",
   "name": "python",
   "nbconvert_exporter": "python",
   "pygments_lexer": "ipython3",
   "version": "3.5.2"
  }
 },
 "nbformat": 4,
 "nbformat_minor": 2
}
