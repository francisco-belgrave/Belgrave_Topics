{
 "cells": [
  {
   "cell_type": "markdown",
   "metadata": {},
   "source": [
    "<img src=\"http://imgur.com/1ZcRyrc.png\" style=\"float: left; margin: 20px; height: 55px\">\n",
    "\n",
    "# Lesson 9 - Solution code for guided practice & demos\n",
    "\n",
    "---"
   ]
  },
  {
   "cell_type": "code",
   "execution_count": 1,
   "metadata": {
    "collapsed": true
   },
   "outputs": [],
   "source": [
    "# Imports\n",
    "import matplotlib.pyplot as plt\n",
    "import numpy as np\n",
    "import pandas as pd\n",
    "from sklearn.linear_model import LogisticRegression\n",
    "from sklearn.metrics import roc_curve, roc_auc_score\n",
    "plt.style.use('ggplot')\n",
    "%matplotlib inline\n",
    "\n",
    "np.random.seed(1)"
   ]
  },
  {
   "cell_type": "markdown",
   "metadata": {},
   "source": [
    "### Guided Practice: Logit Function and Odds"
   ]
  },
  {
   "cell_type": "code",
   "execution_count": 2,
   "metadata": {
    "collapsed": true
   },
   "outputs": [],
   "source": [
    "def logit_func(odds):\n",
    "    # uses a float (odds) and returns back the log odds (logit)\n",
    "    return np.log(odds)\n",
    "\n",
    "def sigmoid_func(logit):\n",
    "    # uses a float (logit) and returns back the probability\n",
    "    return 1. / (1 + np.exp(-logit))\n",
    "\n",
    "odds_set = [\n",
    "    4./1,   # AlphaGo : Seedol,   4:1\n",
    "    20./1,  # Chelsea : Leicester City,   20:1\n",
    "    1.1/1,  # England : Wales,   1.1:1\n",
    "    7.0/4,  # Brexit : Remain,   7:4\n",
    "    11.0/4  # President Trump : Not President Trump,   4:11\n",
    "]"
   ]
  },
  {
   "cell_type": "code",
   "execution_count": 3,
   "metadata": {},
   "outputs": [
    {
     "name": "stdout",
     "output_type": "stream",
     "text": [
      "0.8\n",
      "0.952380952381\n",
      "0.52380952381\n",
      "0.636363636364\n",
      "0.733333333333\n"
     ]
    }
   ],
   "source": [
    "# Print the probability of the (predicted) better team winning in each case above\n",
    "for odds in odds_set:\n",
    "    print sigmoid_func(logit_func(odds))"
   ]
  },
  {
   "cell_type": "code",
   "execution_count": 4,
   "metadata": {},
   "outputs": [
    {
     "data": {
      "text/plain": [
       "[0.80000000000000004,\n",
       " 0.95238095238095233,\n",
       " 0.52380952380952384,\n",
       " 0.63636363636363635,\n",
       " 0.73333333333333328]"
      ]
     },
     "execution_count": 4,
     "metadata": {},
     "output_type": "execute_result"
    }
   ],
   "source": [
    "# Sidenote Python fun...try changing [] to () and seeing what it prints...\n",
    "# What's a \"generator\" in Python? When might these be useful?\n",
    "[sigmoid_func(logit_func(odds)) for odds in odds_set]"
   ]
  },
  {
   "cell_type": "code",
   "execution_count": 5,
   "metadata": {},
   "outputs": [
    {
     "data": {
      "image/png": "[encoded data removed]",
      "text/plain": [
       "<matplotlib.figure.Figure at 0x10aa44950>"
      ]
     },
     "metadata": {},
     "output_type": "display_data"
    }
   ],
   "source": [
    "# We can also plot the sigmoids\n",
    "x_0 = np.linspace(-6,6,1000)\n",
    "y_0 = sigmoid_func(x_0)\n",
    "plt.plot(x_0,y_0,label='sigmoid function',lw=4)\n",
    "plt.legend()\n",
    "plt.xlabel('x')\n",
    "plt.ylabel('$1/(1+e^{-x})$')\n",
    "plt.show()"
   ]
  },
  {
   "cell_type": "code",
   "execution_count": 6,
   "metadata": {},
   "outputs": [
    {
     "data": {
      "image/png": "[encoded data removed]",
      "text/plain": [
       "<matplotlib.figure.Figure at 0x10ab44310>"
      ]
     },
     "metadata": {},
     "output_type": "display_data"
    }
   ],
   "source": [
    "# ... and the logit functions.\n",
    "x_1 = np.linspace(0.0001,0.999,1000)\n",
    "y_1 = logit_func(x_1/(1-x_1))\n",
    "plt.plot(x_1,y_1,label='logit function',lw=4)\n",
    "plt.legend()\n",
    "plt.xlabel('x')\n",
    "plt.ylabel('log(x/(1-x))')\n",
    "plt.show()"
   ]
  },
  {
   "cell_type": "markdown",
   "metadata": {},
   "source": [
    "## Note: sklearn also has logistic regression:\n",
    "```python\n",
    "from sklearn.linear_model import LogisticRegression\n",
    "lm = LogisticRegression()\n",
    "lm.fit(X, y)\n",
    "```"
   ]
  },
  {
   "cell_type": "markdown",
   "metadata": {},
   "source": [
    "## Independent Practice: \"Logistic regression implementation\"\n",
    "Use the data titanic.csv and the LogisticRegression estimator in sklearn to predict the target variable `survived`.\n",
    "\n",
    "1. What is the bias, or prior probability, of the dataset?\n",
    "2. Build a simple model with one feature and explore the coef_ value.  Does this represent the odds or logit (log odds)?\n",
    "3. Build a more complicated model using multiple features. Interpreting the odds, which features have the most impact on survival? Which features have the least?\n",
    "4. What is the accuracy of your model?\n",
    "\n",
    "N.B. `age` will need some work (since it is missing for a significant portion), and other data cleanup simplifies the data problem a little."
   ]
  },
  {
   "cell_type": "markdown",
   "metadata": {},
   "source": [
    "We first load the data and re-encode it so we can pass it into our model (we impute missing values and re-encode categorical data from string to booleans)."
   ]
  },
  {
   "cell_type": "code",
   "execution_count": 7,
   "metadata": {},
   "outputs": [
    {
     "data": {
      "text/html": [
       "<div>\n",
       "<table border=\"1\" class=\"dataframe\">\n",
       "  <thead>\n",
       "    <tr style=\"text-align: right;\">\n",
       "      <th></th>\n",
       "      <th>PassengerId</th>\n",
       "      <th>Survived</th>\n",
       "      <th>Pclass</th>\n",
       "      <th>Name</th>\n",
       "      <th>Sex</th>\n",
       "      <th>Age</th>\n",
       "      <th>SibSp</th>\n",
       "      <th>Parch</th>\n",
       "      <th>Ticket</th>\n",
       "      <th>Fare</th>\n",
       "      <th>Cabin</th>\n",
       "      <th>Embarked</th>\n",
       "      <th>is_male</th>\n",
       "      <th>had_parents</th>\n",
       "      <th>had_siblings</th>\n",
       "      <th>pclass_1</th>\n",
       "      <th>pclass_2</th>\n",
       "      <th>pclass_3</th>\n",
       "    </tr>\n",
       "  </thead>\n",
       "  <tbody>\n",
       "    <tr>\n",
       "      <th>0</th>\n",
       "      <td>1</td>\n",
       "      <td>0</td>\n",
       "      <td>3</td>\n",
       "      <td>Braund, Mr. Owen Harris</td>\n",
       "      <td>male</td>\n",
       "      <td>22.0</td>\n",
       "      <td>1</td>\n",
       "      <td>0</td>\n",
       "      <td>A/5 21171</td>\n",
       "      <td>7.2500</td>\n",
       "      <td>NaN</td>\n",
       "      <td>S</td>\n",
       "      <td>1</td>\n",
       "      <td>0</td>\n",
       "      <td>1</td>\n",
       "      <td>0</td>\n",
       "      <td>0</td>\n",
       "      <td>1</td>\n",
       "    </tr>\n",
       "    <tr>\n",
       "      <th>1</th>\n",
       "      <td>2</td>\n",
       "      <td>1</td>\n",
       "      <td>1</td>\n",
       "      <td>Cumings, Mrs. John Bradley (Florence Briggs Th...</td>\n",
       "      <td>female</td>\n",
       "      <td>38.0</td>\n",
       "      <td>1</td>\n",
       "      <td>0</td>\n",
       "      <td>PC 17599</td>\n",
       "      <td>71.2833</td>\n",
       "      <td>C85</td>\n",
       "      <td>C</td>\n",
       "      <td>0</td>\n",
       "      <td>0</td>\n",
       "      <td>1</td>\n",
       "      <td>1</td>\n",
       "      <td>0</td>\n",
       "      <td>0</td>\n",
       "    </tr>\n",
       "    <tr>\n",
       "      <th>2</th>\n",
       "      <td>3</td>\n",
       "      <td>1</td>\n",
       "      <td>3</td>\n",
       "      <td>Heikkinen, Miss. Laina</td>\n",
       "      <td>female</td>\n",
       "      <td>26.0</td>\n",
       "      <td>0</td>\n",
       "      <td>0</td>\n",
       "      <td>STON/O2. 3101282</td>\n",
       "      <td>7.9250</td>\n",
       "      <td>NaN</td>\n",
       "      <td>S</td>\n",
       "      <td>0</td>\n",
       "      <td>0</td>\n",
       "      <td>0</td>\n",
       "      <td>0</td>\n",
       "      <td>0</td>\n",
       "      <td>1</td>\n",
       "    </tr>\n",
       "    <tr>\n",
       "      <th>3</th>\n",
       "      <td>4</td>\n",
       "      <td>1</td>\n",
       "      <td>1</td>\n",
       "      <td>Futrelle, Mrs. Jacques Heath (Lily May Peel)</td>\n",
       "      <td>female</td>\n",
       "      <td>35.0</td>\n",
       "      <td>1</td>\n",
       "      <td>0</td>\n",
       "      <td>113803</td>\n",
       "      <td>53.1000</td>\n",
       "      <td>C123</td>\n",
       "      <td>S</td>\n",
       "      <td>0</td>\n",
       "      <td>0</td>\n",
       "      <td>1</td>\n",
       "      <td>1</td>\n",
       "      <td>0</td>\n",
       "      <td>0</td>\n",
       "    </tr>\n",
       "    <tr>\n",
       "      <th>4</th>\n",
       "      <td>5</td>\n",
       "      <td>0</td>\n",
       "      <td>3</td>\n",
       "      <td>Allen, Mr. William Henry</td>\n",
       "      <td>male</td>\n",
       "      <td>35.0</td>\n",
       "      <td>0</td>\n",
       "      <td>0</td>\n",
       "      <td>373450</td>\n",
       "      <td>8.0500</td>\n",
       "      <td>NaN</td>\n",
       "      <td>S</td>\n",
       "      <td>1</td>\n",
       "      <td>0</td>\n",
       "      <td>0</td>\n",
       "      <td>0</td>\n",
       "      <td>0</td>\n",
       "      <td>1</td>\n",
       "    </tr>\n",
       "  </tbody>\n",
       "</table>\n",
       "</div>"
      ],
      "text/plain": [
       "   PassengerId  Survived  Pclass  \\\n",
       "0            1         0       3   \n",
       "1            2         1       1   \n",
       "2            3         1       3   \n",
       "3            4         1       1   \n",
       "4            5         0       3   \n",
       "\n",
       "                                                Name     Sex   Age  SibSp  \\\n",
       "0                            Braund, Mr. Owen Harris    male  22.0      1   \n",
       "1  Cumings, Mrs. John Bradley (Florence Briggs Th...  female  38.0      1   \n",
       "2                             Heikkinen, Miss. Laina  female  26.0      0   \n",
       "3       Futrelle, Mrs. Jacques Heath (Lily May Peel)  female  35.0      1   \n",
       "4                           Allen, Mr. William Henry    male  35.0      0   \n",
       "\n",
       "   Parch            Ticket     Fare Cabin Embarked  is_male  had_parents  \\\n",
       "0      0         A/5 21171   7.2500   NaN        S        1            0   \n",
       "1      0          PC 17599  71.2833   C85        C        0            0   \n",
       "2      0  STON/O2. 3101282   7.9250   NaN        S        0            0   \n",
       "3      0            113803  53.1000  C123        S        0            0   \n",
       "4      0            373450   8.0500   NaN        S        1            0   \n",
       "\n",
       "   had_siblings  pclass_1  pclass_2  pclass_3  \n",
       "0             1         0         0         1  \n",
       "1             1         1         0         0  \n",
       "2             0         0         0         1  \n",
       "3             1         1         0         0  \n",
       "4             0         0         0         1  "
      ]
     },
     "execution_count": 7,
     "metadata": {},
     "output_type": "execute_result"
    }
   ],
   "source": [
    "titanic = pd.read_csv('../../assets/dataset/titanic.csv')\n",
    "\n",
    "# Transform male/female to 1/0\n",
    "titanic['is_male'] = titanic.Sex.apply(lambda x: 1 if x == 'male' else 0)\n",
    "\n",
    "# Impute age using mean age for that sex & passenger class\n",
    "titanic['Age'] = titanic.groupby([\"Sex\", 'Pclass']).Age.transform(lambda x: x.fillna(x.mean()))\n",
    "\n",
    "# Turn parch and sibsp into binary 1/0 predictors\n",
    "titanic['had_parents'] = titanic.Parch.apply(lambda x: 1 if x > 0 else 0)\n",
    "titanic['had_siblings'] = titanic.SibSp.apply(lambda x: 1 if x > 0 else 0)\n",
    "\n",
    "# Dummy pclass and join as new cols\n",
    "titanic = titanic.join(pd.get_dummies(titanic.Pclass, prefix='pclass'))\n",
    "titanic.head()"
   ]
  },
  {
   "cell_type": "code",
   "execution_count": 8,
   "metadata": {},
   "outputs": [
    {
     "data": {
      "text/plain": [
       "0.38383838383838381"
      ]
     },
     "execution_count": 8,
     "metadata": {},
     "output_type": "execute_result"
    }
   ],
   "source": [
    "# What's the baseline? (i.e. mean survival rate)\n",
    "titanic.Survived.mean()"
   ]
  },
  {
   "cell_type": "code",
   "execution_count": 9,
   "metadata": {},
   "outputs": [
    {
     "data": {
      "text/plain": [
       "LogisticRegression(C=1.0, class_weight=None, dual=False, fit_intercept=True,\n",
       "          intercept_scaling=1, max_iter=100, multi_class='ovr', n_jobs=1,\n",
       "          penalty='l2', random_state=None, solver='liblinear', tol=0.0001,\n",
       "          verbose=0, warm_start=False)"
      ]
     },
     "execution_count": 9,
     "metadata": {},
     "output_type": "execute_result"
    }
   ],
   "source": [
    "# First let's build simple log-reg with one predictor\n",
    "lr = LogisticRegression()\n",
    "X = titanic[['is_male']]\n",
    "y = titanic['Survived']\n",
    "lr.fit(X, y)"
   ]
  },
  {
   "cell_type": "code",
   "execution_count": 10,
   "metadata": {},
   "outputs": [
    {
     "name": "stdout",
     "output_type": "stream",
     "text": [
      "0.786756453423\n"
     ]
    }
   ],
   "source": [
    "# Simple accuracy score\n",
    "print lr.score(X, y)"
   ]
  },
  {
   "cell_type": "code",
   "execution_count": 11,
   "metadata": {},
   "outputs": [
    {
     "name": "stdout",
     "output_type": "stream",
     "text": [
      "is_male coef = log(odds-ratio)) = [[-2.43010712]]\n",
      "log-reg intercept = [ 1.00027876]\n"
     ]
    }
   ],
   "source": [
    "# Find out how to print out the log-reg coefficients & intercept\n",
    "# Docs: http://scikit-learn.org/stable/modules/generated/sklearn.linear_model.LogisticRegression.html\n",
    "print \"is_male coef = log(odds-ratio)) =\", lr.coef_    # this coef is a log(odds-ratio), so a little meaningless!\n",
    "print \"log-reg intercept =\", lr.intercept_"
   ]
  },
  {
   "cell_type": "code",
   "execution_count": 12,
   "metadata": {},
   "outputs": [
    {
     "name": "stdout",
     "output_type": "stream",
     "text": [
      "exp(is_male coef) = odds-ratio (men vs women) = [[ 0.0880274]]\n",
      "odds-ratio (women vs men) = [[ 11.3600989]]\n"
     ]
    }
   ],
   "source": [
    "# Above suggests that log(OR) of survival for male vs female is -2.43\n",
    "# Therefore odds-ratio of survival (male vs female) is np.exp(-2.43) = 0.088\n",
    "print \"exp(is_male coef) = odds-ratio (men vs women) =\", np.exp(lr.coef_)\n",
    "\n",
    "# Flipping this (1. / 0.0880274), this model suggests that odds of survival for female are\n",
    "# a factor of 11.4 higher than odds of survival for men\n",
    "print \"odds-ratio (women vs men) =\", 1./np.exp(lr.coef_)"
   ]
  },
  {
   "cell_type": "code",
   "execution_count": 13,
   "metadata": {},
   "outputs": [
    {
     "name": "stdout",
     "output_type": "stream",
     "text": [
      "P(survived | female) = [ 0.73111338]\n",
      "P(not survived | female) = [ 0.26888662]\n",
      "P(survived | male) = [[ 0.19312543]]\n",
      "P(not survived | male) = [[ 0.80687457]]\n"
     ]
    }
   ],
   "source": [
    "# You can turn these into probabilities using the sigmoid function\n",
    "# Remember logistic regression formula applies logit function to the probabilities of survival\n",
    "# i.e. logit(p) = alpha + beta * x\n",
    "\n",
    "# In this case, alpha is intercept, beta is coef, x is feature \"is_male\"\n",
    "\n",
    "# So P(survived | female), read as \"probability of survived, given this person is female\" is found by setting x=0\n",
    "# i.e. logit(p) = alpha + beta * 0\n",
    "#               = alpha\n",
    "\n",
    "# Remember then that sigmoid(logit(p)) = p, so P(survived | female) = sigmoid(alpha) = 73%\n",
    "print \"P(survived | female) =\", sigmoid_func(lr.intercept_)\n",
    "print \"P(not survived | female) =\", 1-sigmoid_func(lr.intercept_)\n",
    "\n",
    "# Similarly, by setting x=1, we get probability of survival for men = sigmoid(alpha + beta * 1) = 19.5%\n",
    "print \"P(survived | male) =\", sigmoid_func(lr.intercept_ + lr.coef_)\n",
    "print \"P(not survived | male) =\", 1-sigmoid_func(lr.intercept_ + lr.coef_)"
   ]
  },
  {
   "cell_type": "code",
   "execution_count": 14,
   "metadata": {},
   "outputs": [
    {
     "data": {
      "text/plain": [
       "array([[ 0.80687457]])"
      ]
     },
     "execution_count": 14,
     "metadata": {},
     "output_type": "execute_result"
    }
   ],
   "source": [
    "sigmoid_func(lr.intercept_+lr.coef_)*np.exp(-lr.intercept_-lr.coef_)"
   ]
  },
  {
   "cell_type": "code",
   "execution_count": 16,
   "metadata": {},
   "outputs": [
    {
     "data": {
      "text/html": [
       "<div>\n",
       "<table border=\"1\" class=\"dataframe\">\n",
       "  <thead>\n",
       "    <tr style=\"text-align: right;\">\n",
       "      <th>Survived</th>\n",
       "      <th>0</th>\n",
       "      <th>1</th>\n",
       "    </tr>\n",
       "    <tr>\n",
       "      <th>is_male</th>\n",
       "      <th></th>\n",
       "      <th></th>\n",
       "    </tr>\n",
       "  </thead>\n",
       "  <tbody>\n",
       "    <tr>\n",
       "      <th>0</th>\n",
       "      <td>81</td>\n",
       "      <td>233</td>\n",
       "    </tr>\n",
       "    <tr>\n",
       "      <th>1</th>\n",
       "      <td>468</td>\n",
       "      <td>109</td>\n",
       "    </tr>\n",
       "  </tbody>\n",
       "</table>\n",
       "</div>"
      ],
      "text/plain": [
       "Survived    0    1\n",
       "is_male           \n",
       "0          81  233\n",
       "1         468  109"
      ]
     },
     "execution_count": 16,
     "metadata": {},
     "output_type": "execute_result"
    }
   ],
   "source": [
    "# Handy function for creating the contingency table of survival vs gender\n",
    "pd.crosstab(titanic['is_male'], titanic['Survived'])#, rownames=['is_male'])"
   ]
  },
  {
   "cell_type": "code",
   "execution_count": 17,
   "metadata": {},
   "outputs": [
    {
     "name": "stdout",
     "output_type": "stream",
     "text": [
      "Probability of surviving if male = 0.188908145581\n",
      "Probability of surviving if female = 0.742038216561\n",
      "Odds of surviving if male = 0.232905982906 : 1\n",
      "Odds of surviving if female = 2.87654320988 : 1\n",
      "Odds ratio of surviving (male vs female) = 0.0809673159459\n",
      "Odds ratio of surviving (female vs male) = 12.3506625892\n"
     ]
    }
   ],
   "source": [
    "# By hand...this is exactly the same as what we went through in class together\n",
    "prob_survive_male = 109.0 / (468 + 109)\n",
    "prob_survive_female = 233.0 / (81 + 233)\n",
    "odds_survive_male = prob_survive_male / (1 - prob_survive_male)\n",
    "odds_survive_female = prob_survive_female / (1 - prob_survive_female)\n",
    "odds_ratio_male_female = odds_survive_male / odds_survive_female\n",
    "\n",
    "print \"Probability of surviving if male =\", prob_survive_male  # 18.9% (notice difference already to above)\n",
    "print \"Probability of surviving if female =\", prob_survive_female  # 74.2% (ditto)\n",
    "print \"Odds of surviving if male = {} : 1\".format(odds_survive_male)  # 0.23:1, or approx 3:13 if you like integers\n",
    "print \"Odds of surviving if female = {} : 1\".format(odds_survive_female)  # 2.88:1, or approx 26:9\n",
    "print \"Odds ratio of surviving (male vs female) =\", odds_ratio_male_female  # 0.08\n",
    "print \"Odds ratio of surviving (female vs male) =\", 1 / odds_ratio_male_female  # 12.4\n",
    "\n",
    "# In English: \"Women were roughly twelve times as likely as men to survive the Titanic.\""
   ]
  },
  {
   "cell_type": "code",
   "execution_count": 18,
   "metadata": {},
   "outputs": [
    {
     "name": "stdout",
     "output_type": "stream",
     "text": [
      "L1 odds ratio = [[ 11.81280411]]\n",
      "L2 odds ratio = [[ 11.3600989]]\n",
      "L2 + weaker regularisation strength = [[ 12.34729199]]\n"
     ]
    }
   ],
   "source": [
    "# So why the differences? I claimed regularisation...\n",
    "\n",
    "# By way of example, let's just try changing between L1 and L2...\n",
    "print \"L1 odds ratio =\", 1. / np.exp(LogisticRegression(penalty='l1').fit(X, y).coef_)\n",
    "print \"L2 odds ratio =\", 1. / np.exp(LogisticRegression(penalty='l2').fit(X, y).coef_)\n",
    "\n",
    "# And now let's turn regularisation off by weakening the \"regularisation strength\" parameter C...\n",
    "print \"L2 + weaker regularisation strength =\", 1. / np.exp(LogisticRegression(penalty='l1', C=10000000).fit(X, y).coef_)\n",
    "\n",
    "# Finally, note that each time you re-run this, the numbers will change. Under the hood, it's using an optimisation\n",
    "# algorithm with a random initial starting point to fit the regularised logistic regression! So no small wonder the\n",
    "# results for odds ratio are coming out as slightly different to the hand calculated odds!\n",
    "\n",
    "# For more detail on scikit-learn's LogisticRegression object:\n",
    "# http://scikit-learn.org/stable/modules/generated/sklearn.linear_model.LogisticRegression.html\n",
    "\n",
    "# For more detail on the relationship between log-reg coefs and hand-calculated ORs (inc. for multiclass case):\n",
    "# http://stats.stackexchange.com/questions/35013/exponentiated-logistic-regression-coefficient-different-than-odds-ratio"
   ]
  },
  {
   "cell_type": "code",
   "execution_count": 19,
   "metadata": {},
   "outputs": [
    {
     "name": "stdout",
     "output_type": "stream",
     "text": [
      "Accuracy using gender as only feature =  0.786756453423\n",
      "Accuracy using age as only feature =  0.616161616162\n",
      "Accuracy using all features =  0.802469135802\n"
     ]
    }
   ],
   "source": [
    "# How does accuracy change depending on features?\n",
    "X = titanic[['is_male']]\n",
    "print \"Accuracy using gender as only feature = \", LogisticRegression().fit(X, y).score(X, y)\n",
    "\n",
    "# Using age (imputed for some individuals)\n",
    "X = titanic[['Age']]\n",
    "print \"Accuracy using age as only feature = \", LogisticRegression().fit(X, y).score(X, y)\n",
    "\n",
    "# Using lots of features\n",
    "X = titanic[['is_male', 'Age', 'pclass_1', 'pclass_2', 'had_parents', 'had_siblings', 'Fare']]\n",
    "print \"Accuracy using all features = \", LogisticRegression().fit(X, y).score(X, y)"
   ]
  },
  {
   "cell_type": "markdown",
   "metadata": {},
   "source": [
    "**Key takeaways:**\n",
    "1. Being male decreases the odds of survival.\n",
    "2. Women were roughly twelve times more likely than men to survive the Titanic.\n",
    "3. A model built using only gender has 78.7% accuracy.\n",
    "4. A model built using many features has 80.2% accuracy"
   ]
  },
  {
   "cell_type": "markdown",
   "metadata": {},
   "source": [
    "## \"Evaluating logistic regression with alternative metrics\"\n",
    "This Titanic dataset comes from [Kaggle](https://www.kaggle.com/c/titanic).\n",
    "\n",
    "Spend a few minutes determining which data would be most important to use in the prediction problem. You may need to create new features based on the data available. Consider using a feature selection aide in sklearn. For a worst case scenario, identify one or two strong features that would be useful to include in this model.\n",
    "\n",
    "\n",
    "1. Spend 1-2 minutes considering which metric makes the most sense to optimise. Accuracy? FPR or TPR? AUC? Given the \"business problem\" of understanding survival rate aboard the Titanic, why should you use this metric?\n",
    "\n",
    "2. Build a tuned logistic regression model. Be prepared to explain your design (including regularisation), choice of metric, and your chosen feature set in predicting survival using any tools necessary (such as fit charts). Use the starter code to get you going.\n",
    "\n",
    "N.B. If you haven't done it yet, `age` will need some work (since it is missing for a significant portion), and other data cleanup simplifies the data problem a little."
   ]
  },
  {
   "cell_type": "code",
   "execution_count": 20,
   "metadata": {},
   "outputs": [
    {
     "data": {
      "image/png": "[encoded data removed]",
      "text/plain": [
       "<matplotlib.figure.Figure at 0x106147e90>"
      ]
     },
     "metadata": {},
     "output_type": "display_data"
    }
   ],
   "source": [
    "# Here's some code for fitting a model and creating a ROC\n",
    "lr = LogisticRegression()\n",
    "X = titanic[['is_male', 'Age', 'pclass_1', 'pclass_2', 'had_parents', 'had_siblings', 'Fare']]\n",
    "y = titanic['Survived']\n",
    "lr.fit(X, y)\n",
    "\n",
    "predictions = lr.predict(X)\n",
    "probabilities = lr.predict_proba(X)\n",
    "plt.plot(roc_curve(titanic[['Survived']], probabilities[:,1])[0],\n",
    "         roc_curve(titanic[['Survived']], probabilities[:,1])[1])\n",
    "plt.show()"
   ]
  },
  {
   "cell_type": "markdown",
   "metadata": {},
   "source": [
    "This ROC curve above is calculating TPR/FPR based on probabilities, as the discrimination threshold varies."
   ]
  },
  {
   "cell_type": "code",
   "execution_count": 21,
   "metadata": {},
   "outputs": [
    {
     "data": {
      "text/plain": [
       "(array([ 0.        ,  0.00182149,  0.00182149,  0.00182149,  0.00182149,\n",
       "         0.00364299,  0.00364299,  0.00546448,  0.00546448,  0.00728597,\n",
       "         0.00728597,  0.00728597,  0.00728597,  0.00910747,  0.00910747,\n",
       "         0.01092896,  0.01092896,  0.01092896,  0.01092896,  0.01092896,\n",
       "         0.01092896,  0.01275046,  0.01275046,  0.01457195,  0.01457195,\n",
       "         0.01457195,  0.01639344,  0.01639344,  0.01821494,  0.01821494,\n",
       "         0.02003643,  0.02003643,  0.02367942,  0.02367942,  0.03460838,\n",
       "         0.03460838,  0.03642987,  0.03642987,  0.03642987,  0.04007286,\n",
       "         0.04007286,  0.04189435,  0.04189435,  0.04371585,  0.04371585,\n",
       "         0.04553734,  0.04553734,  0.05100182,  0.05100182,  0.05464481,\n",
       "         0.05464481,  0.0582878 ,  0.06193078,  0.06193078,  0.06193078,\n",
       "         0.06375228,  0.06375228,  0.06921676,  0.06921676,  0.07103825,\n",
       "         0.07103825,  0.07468124,  0.07468124,  0.07468124,  0.07468124,\n",
       "         0.08014572,  0.08014572,  0.08196721,  0.08196721,  0.09107468,\n",
       "         0.09107468,  0.09289617,  0.09289617,  0.09836066,  0.09836066,\n",
       "         0.09836066,  0.10200364,  0.10200364,  0.10564663,  0.10564663,\n",
       "         0.10746812,  0.1129326 ,  0.1147541 ,  0.1147541 ,  0.12204007,\n",
       "         0.12204007,  0.12568306,  0.12568306,  0.12932605,  0.12932605,\n",
       "         0.13114754,  0.13114754,  0.13296903,  0.13296903,  0.13661202,\n",
       "         0.13661202,  0.14571949,  0.14571949,  0.14754098,  0.14754098,\n",
       "         0.15118397,  0.15118397,  0.15664845,  0.15664845,  0.16029144,\n",
       "         0.16029144,  0.16211293,  0.16211293,  0.16393443,  0.16393443,\n",
       "         0.16757741,  0.16757741,  0.16939891,  0.16939891,  0.17486339,\n",
       "         0.17486339,  0.17668488,  0.17668488,  0.18032787,  0.18032787,\n",
       "         0.18761384,  0.18761384,  0.19307832,  0.19307832,  0.19489982,\n",
       "         0.19489982,  0.20218579,  0.20218579,  0.20582878,  0.20765027,\n",
       "         0.21311475,  0.21311475,  0.21675774,  0.22222222,  0.22222222,\n",
       "         0.22586521,  0.22586521,  0.2276867 ,  0.2295082 ,  0.24772313,\n",
       "         0.24772313,  0.24954463,  0.24954463,  0.25318761,  0.2568306 ,\n",
       "         0.2568306 ,  0.25865209,  0.25865209,  0.26047359,  0.26229508,\n",
       "         0.26229508,  0.26411658,  0.26411658,  0.26593807,  0.26593807,\n",
       "         0.27322404,  0.27868852,  0.28961749,  0.28961749,  0.29143898,\n",
       "         0.29690346,  0.30418944,  0.30418944,  0.30965392,  0.3132969 ,\n",
       "         0.33333333,  0.33879781,  0.34608379,  0.34608379,  0.34790528,\n",
       "         0.35154827,  0.36247723,  0.37340619,  0.37340619,  0.37522769,\n",
       "         0.37887067,  0.38615665,  0.38615665,  0.39708561,  0.39708561,\n",
       "         0.3989071 ,  0.40255009,  0.40801457,  0.41165756,  0.42076503,\n",
       "         0.42076503,  0.42258652,  0.428051  ,  0.428051  ,  0.4298725 ,\n",
       "         0.4298725 ,  0.43715847,  0.43715847,  0.45537341,  0.45537341,\n",
       "         0.4571949 ,  0.4571949 ,  0.46630237,  0.46812386,  0.46994536,\n",
       "         0.46994536,  0.47176685,  0.47723133,  0.4845173 ,  0.4845173 ,\n",
       "         0.49726776,  0.49908925,  0.50455373,  0.53005464,  0.53369763,\n",
       "         0.53369763,  0.54462659,  0.55191257,  0.55555556,  0.55555556,\n",
       "         0.5701275 ,  0.57377049,  0.57559199,  0.57923497,  0.58287796,\n",
       "         0.58652095,  0.58834244,  0.58834244,  0.6010929 ,  0.6010929 ,\n",
       "         0.60473588,  0.60655738,  0.61748634,  0.61748634,  0.62112933,\n",
       "         0.62112933,  0.63570128,  0.63934426,  0.64116576,  0.64116576,\n",
       "         0.64480874,  0.64845173,  0.6557377 ,  0.65938069,  0.67030965,\n",
       "         0.67030965,  0.69216758,  0.71948998,  0.72131148,  0.72313297,\n",
       "         0.73952641,  0.74863388,  0.74863388,  0.75045537,  0.75591985,\n",
       "         0.76502732,  0.77413479,  0.77959927,  0.77959927,  0.78142077,\n",
       "         0.78142077,  0.78506375,  0.78506375,  0.78688525,  0.79417122,\n",
       "         0.80327869,  0.80327869,  0.80692168,  0.80692168,  0.81056466,\n",
       "         0.81056466,  0.81056466,  0.81238616,  0.81238616,  0.81602914,\n",
       "         0.81967213,  0.82149362,  0.82149362,  0.82695811,  0.83424408,\n",
       "         0.83606557,  0.83970856,  0.84517304,  0.84881603,  0.85428051,\n",
       "         0.85428051,  0.86520947,  0.86520947,  0.86885246,  0.87067395,\n",
       "         0.87067395,  0.8852459 ,  0.88888889,  0.89071038,  0.89071038,\n",
       "         0.89435337,  0.89799636,  0.90163934,  0.90528233,  0.92714026,\n",
       "         0.92896175,  0.95628415,  0.95992714,  0.95992714,  0.96357013,\n",
       "         0.96357013,  1.        ]),\n",
       " array([ 0.        ,  0.        ,  0.06140351,  0.06725146,  0.08479532,\n",
       "         0.08479532,  0.25730994,  0.25730994,  0.29239766,  0.29532164,\n",
       "         0.33040936,  0.33625731,  0.36842105,  0.36842105,  0.38304094,\n",
       "         0.38304094,  0.38596491,  0.39181287,  0.40935673,  0.41520468,\n",
       "         0.42397661,  0.42397661,  0.42690058,  0.42690058,  0.4502924 ,\n",
       "         0.45614035,  0.45614035,  0.4619883 ,  0.4619883 ,  0.46783626,\n",
       "         0.46783626,  0.48830409,  0.48830409,  0.49122807,  0.49122807,\n",
       "         0.5       ,  0.5       ,  0.50584795,  0.51169591,  0.51169591,\n",
       "         0.52339181,  0.52339181,  0.52631579,  0.52631579,  0.52923977,\n",
       "         0.52923977,  0.54093567,  0.54093567,  0.54678363,  0.54678363,\n",
       "         0.5497076 ,  0.5497076 ,  0.5497076 ,  0.55847953,  0.56432749,\n",
       "         0.58479532,  0.59064327,  0.59064327,  0.59649123,  0.59649123,\n",
       "         0.5994152 ,  0.5994152 ,  0.60233918,  0.60818713,  0.61111111,\n",
       "         0.61111111,  0.61988304,  0.61988304,  0.62280702,  0.62280702,\n",
       "         0.62573099,  0.62573099,  0.62865497,  0.62865497,  0.63450292,\n",
       "         0.64327485,  0.64327485,  0.65789474,  0.65789474,  0.66081871,\n",
       "         0.66081871,  0.66081871,  0.66081871,  0.66666667,  0.66666667,\n",
       "         0.6754386 ,  0.6754386 ,  0.67836257,  0.67836257,  0.68128655,\n",
       "         0.68128655,  0.69590643,  0.69590643,  0.70175439,  0.70175439,\n",
       "         0.70467836,  0.70467836,  0.70760234,  0.70760234,  0.71052632,\n",
       "         0.71052632,  0.71345029,  0.71345029,  0.7251462 ,  0.7251462 ,\n",
       "         0.72807018,  0.72807018,  0.73099415,  0.73099415,  0.73976608,\n",
       "         0.73976608,  0.74561404,  0.74561404,  0.75146199,  0.75146199,\n",
       "         0.75438596,  0.75438596,  0.76608187,  0.76608187,  0.76900585,\n",
       "         0.76900585,  0.77192982,  0.77192982,  0.7748538 ,  0.7748538 ,\n",
       "         0.77777778,  0.77777778,  0.78654971,  0.78654971,  0.78947368,\n",
       "         0.78947368,  0.79532164,  0.79532164,  0.79532164,  0.79824561,\n",
       "         0.79824561,  0.80116959,  0.80116959,  0.80409357,  0.80409357,\n",
       "         0.80701754,  0.80701754,  0.80994152,  0.80994152,  0.80994152,\n",
       "         0.8128655 ,  0.8128655 ,  0.81578947,  0.81871345,  0.81871345,\n",
       "         0.8245614 ,  0.8245614 ,  0.82748538,  0.82748538,  0.83040936,\n",
       "         0.83040936,  0.83040936,  0.83040936,  0.83333333,  0.83333333,\n",
       "         0.83333333,  0.83333333,  0.83625731,  0.83625731,  0.83625731,\n",
       "         0.83625731,  0.83625731,  0.83625731,  0.84502924,  0.84502924,\n",
       "         0.84502924,  0.84502924,  0.84502924,  0.84795322,  0.84795322,\n",
       "         0.85087719,  0.85087719,  0.85380117,  0.85380117,  0.85672515,\n",
       "         0.85672515,  0.85672515,  0.85672515,  0.85672515,  0.85672515,\n",
       "         0.85964912,  0.8625731 ,  0.8625731 ,  0.86842105,  0.86842105,\n",
       "         0.87134503,  0.87134503,  0.87719298,  0.87719298,  0.88011696,\n",
       "         0.88011696,  0.88304094,  0.88304094,  0.88596491,  0.88596491,\n",
       "         0.88888889,  0.88888889,  0.88888889,  0.88888889,  0.89181287,\n",
       "         0.89181287,  0.89473684,  0.89473684,  0.89473684,  0.89473684,\n",
       "         0.89766082,  0.89766082,  0.89766082,  0.89766082,  0.9005848 ,\n",
       "         0.9005848 ,  0.9005848 ,  0.9005848 ,  0.9005848 ,  0.9005848 ,\n",
       "         0.9005848 ,  0.9005848 ,  0.90350877,  0.90350877,  0.90643275,\n",
       "         0.90643275,  0.9122807 ,  0.9122807 ,  0.91520468,  0.91520468,\n",
       "         0.91812865,  0.91812865,  0.91812865,  0.91812865,  0.92397661,\n",
       "         0.92397661,  0.92397661,  0.92397661,  0.92397661,  0.92397661,\n",
       "         0.92690058,  0.92690058,  0.92690058,  0.92690058,  0.92982456,\n",
       "         0.93274854,  0.93274854,  0.93567251,  0.93567251,  0.93567251,\n",
       "         0.93859649,  0.93859649,  0.93859649,  0.94152047,  0.94152047,\n",
       "         0.94736842,  0.94736842,  0.9502924 ,  0.9502924 ,  0.9502924 ,\n",
       "         0.9502924 ,  0.95321637,  0.95321637,  0.95614035,  0.95614035,\n",
       "         0.95906433,  0.96491228,  0.96783626,  0.97076023,  0.97076023,\n",
       "         0.97076023,  0.97076023,  0.97368421,  0.97368421,  0.97368421,\n",
       "         0.97368421,  0.97368421,  0.97368421,  0.97368421,  0.97368421,\n",
       "         0.97660819,  0.97660819,  0.97953216,  0.98245614,  0.98245614,\n",
       "         0.98538012,  0.98538012,  0.98538012,  0.98538012,  0.99122807,\n",
       "         0.99122807,  0.99122807,  0.99122807,  0.99122807,  0.99122807,\n",
       "         0.99415205,  0.99415205,  0.99415205,  0.99707602,  0.99707602,\n",
       "         1.        ,  1.        ]),\n",
       " array([ 1.9667859 ,  0.9667859 ,  0.93713766,  0.9370955 ,  0.93187995,\n",
       "         0.92974514,  0.8532865 ,  0.84991296,  0.83210317,  0.82704813,\n",
       "         0.80853936,  0.80655323,  0.79082345,  0.79056834,  0.78426319,\n",
       "         0.78281625,  0.78134988,  0.78060622,  0.76691389,  0.76016849,\n",
       "         0.75083174,  0.7474508 ,  0.74312913,  0.74247441,  0.73024692,\n",
       "         0.72502349,  0.72096338,  0.72024829,  0.71968663,  0.71189322,\n",
       "         0.71008999,  0.69501821,  0.69219639,  0.6825861 ,  0.6688557 ,\n",
       "         0.66607645,  0.66357172,  0.66130648,  0.66011734,  0.6549367 ,\n",
       "         0.64548134,  0.64459276,  0.64447264,  0.64415169,  0.6434203 ,\n",
       "         0.64086894,  0.63127701,  0.62668859,  0.6243603 ,  0.62069424,\n",
       "         0.62065003,  0.61479678,  0.61475787,  0.61468191,  0.61464112,\n",
       "         0.61462444,  0.61461701,  0.61440083,  0.61439091,  0.61431185,\n",
       "         0.61388267,  0.613523  ,  0.61260426,  0.61259312,  0.61237027,\n",
       "         0.60450781,  0.59973589,  0.59670391,  0.59660543,  0.5879412 ,\n",
       "         0.58634674,  0.58605645,  0.58593678,  0.58522882,  0.58267563,\n",
       "         0.58240164,  0.58192394,  0.57850296,  0.57540218,  0.57131088,\n",
       "         0.56549499,  0.56500397,  0.564073  ,  0.56356885,  0.55157506,\n",
       "         0.54808444,  0.54631061,  0.54209923,  0.53829828,  0.53781352,\n",
       "         0.5374265 ,  0.51496373,  0.51418967,  0.50663553,  0.50508295,\n",
       "         0.50454611,  0.49008607,  0.48840342,  0.48797664,  0.48694152,\n",
       "         0.48510888,  0.48380918,  0.47290346,  0.45846053,  0.45609772,\n",
       "         0.45607522,  0.45374705,  0.45327718,  0.45174208,  0.44467705,\n",
       "         0.44263178,  0.43623115,  0.4355181 ,  0.42499641,  0.4209771 ,\n",
       "         0.42090396,  0.41824153,  0.41072294,  0.40748405,  0.40499263,\n",
       "         0.40300968,  0.40245457,  0.3992367 ,  0.39918497,  0.39832012,\n",
       "         0.39647642,  0.39431979,  0.39387328,  0.39298635,  0.39246201,\n",
       "         0.39104612,  0.38225577,  0.38064043,  0.3694521 ,  0.36669674,\n",
       "         0.36361639,  0.36320574,  0.36296507,  0.36252682,  0.34643152,\n",
       "         0.33911843,  0.33573232,  0.33551207,  0.33288809,  0.33226287,\n",
       "         0.32701782,  0.32532159,  0.32459444,  0.32429204,  0.32421192,\n",
       "         0.31647114,  0.31395368,  0.31149156,  0.31120451,  0.31069118,\n",
       "         0.2967834 ,  0.29598227,  0.2842677 ,  0.28402501,  0.28219405,\n",
       "         0.28190231,  0.28026219,  0.28021105,  0.27305561,  0.26823695,\n",
       "         0.24938304,  0.2485431 ,  0.24454286,  0.24219772,  0.24133714,\n",
       "         0.2410352 ,  0.23935963,  0.22853777,  0.22825856,  0.22540394,\n",
       "         0.22383089,  0.21713438,  0.21429413,  0.20515963,  0.20484863,\n",
       "         0.20297973,  0.20146501,  0.19586471,  0.19547302,  0.18233878,\n",
       "         0.18209751,  0.17980876,  0.17718567,  0.17502301,  0.17132387,\n",
       "         0.17086339,  0.16663073,  0.16413843,  0.14728435,  0.14711587,\n",
       "         0.14609048,  0.14366916,  0.14197023,  0.14170357,  0.14164077,\n",
       "         0.14102015,  0.1385996 ,  0.13772295,  0.13362462,  0.13357028,\n",
       "         0.12967669,  0.12965374,  0.12962107,  0.12580955,  0.12579493,\n",
       "         0.12566592,  0.12219085,  0.12208851,  0.12206335,  0.12206251,\n",
       "         0.11867358,  0.11848713,  0.11846482,  0.11845689,  0.11838337,\n",
       "         0.11833031,  0.11832624,  0.11832541,  0.11491678,  0.11375511,\n",
       "         0.11306765,  0.11201315,  0.11141018,  0.11134437,  0.1105161 ,\n",
       "         0.11034373,  0.10801338,  0.10798172,  0.10702594,  0.10671317,\n",
       "         0.104901  ,  0.10487381,  0.10451133,  0.10440593,  0.10334985,\n",
       "         0.10328969,  0.10327882,  0.10325201,  0.10324043,  0.10323101,\n",
       "         0.10322666,  0.1031919 ,  0.10317663,  0.10315063,  0.10313978,\n",
       "         0.10313616,  0.10313543,  0.10307176,  0.10183155,  0.10169994,\n",
       "         0.10154209,  0.10030417,  0.09905683,  0.09894824,  0.09861155,\n",
       "         0.09621171,  0.09586775,  0.095632  ,  0.09560696,  0.09558735,\n",
       "         0.09558329,  0.09461293,  0.09458717,  0.09293814,  0.09274268,\n",
       "         0.09270886,  0.09268451,  0.09266879,  0.09257863,  0.09242379,\n",
       "         0.09242107,  0.09215169,  0.09154604,  0.09145238,  0.08989907,\n",
       "         0.08984699,  0.08714898,  0.08710231,  0.08708365,  0.08707929,\n",
       "         0.08707308,  0.08450329,  0.08439318,  0.08437565,  0.08421827,\n",
       "         0.08206696,  0.08180425,  0.08030246,  0.07926673,  0.07181077,\n",
       "         0.06980629,  0.06125373,  0.05948035,  0.05946722,  0.05817369,\n",
       "         0.05759187,  0.0221089 ]))"
      ]
     },
     "execution_count": 21,
     "metadata": {},
     "output_type": "execute_result"
    }
   ],
   "source": [
    "# To understand this a little further, try printing these in turn\n",
    "#titanic[['survived']]\n",
    "#probabilities\n",
    "#probabilities[:,1]\n",
    "roc_curve(titanic[['Survived']], probabilities[:,1])\n",
    "#print roc_curve(titanic[['survived']], probabilities[:,1])[0]\n",
    "#print roc_curve(titanic[['survived']], probabilities[:,1])[1]"
   ]
  },
  {
   "cell_type": "code",
   "execution_count": 22,
   "metadata": {},
   "outputs": [
    {
     "data": {
      "image/png": "[encoded data removed]",
      "text/plain": [
       "<matplotlib.figure.Figure at 0x10ab84490>"
      ]
     },
     "metadata": {},
     "output_type": "display_data"
    }
   ],
   "source": [
    "plt.plot(roc_curve(titanic[['Survived']], predictions)[0],\n",
    "         roc_curve(titanic[['Survived']], predictions)[1])\n",
    "plt.show()"
   ]
  },
  {
   "cell_type": "markdown",
   "metadata": {},
   "source": [
    "This chart only has access to the prediction class labels, and is able to show the one true TPR and FPR point, joined to 0,0 and 1,1.\n",
    "\n",
    "The first chart will be more effective as you compare models and determine where the decision line should exist for the data. The second simplifies the first in case this idea of thresholds is confusing."
   ]
  },
  {
   "cell_type": "code",
   "execution_count": 23,
   "metadata": {},
   "outputs": [
    {
     "data": {
      "text/plain": [
       "0.78403317035758791"
      ]
     },
     "execution_count": 23,
     "metadata": {},
     "output_type": "execute_result"
    }
   ],
   "source": [
    "# Finally, you can use the `roc_auc_score` function to calculate the area under these curves (AUC).\n",
    "roc_auc_score(titanic['Survived'], lr.predict(X))"
   ]
  },
  {
   "cell_type": "code",
   "execution_count": 24,
   "metadata": {},
   "outputs": [
    {
     "data": {
      "text/plain": [
       "{'mean_fit_time': array([ 0.01173267,  0.00404391,  0.00368733,  0.00372696,  0.00432711,\n",
       "         0.00436351,  0.00414762,  0.00499179,  0.00504735,  0.00632126,\n",
       "         0.00577803,  0.00531566,  0.0049299 ,  0.00491102,  0.00450809,\n",
       "         0.00515673,  0.00483675,  0.00467868,  0.00458634,  0.0051702 ]),\n",
       " 'mean_score_time': array([ 0.00090003,  0.00086238,  0.0008903 ,  0.00092137,  0.00090554,\n",
       "         0.000807  ,  0.00086265,  0.00092788,  0.0010052 ,  0.00115602,\n",
       "         0.00114257,  0.00111084,  0.00093246,  0.00086811,  0.00081069,\n",
       "         0.00090334,  0.00083549,  0.00081191,  0.00082951,  0.00084419]),\n",
       " 'mean_test_score': array([ 0.67106373,  0.70534239,  0.67996433,  0.70236158,  0.70905254,\n",
       "         0.73557541,  0.80649823,  0.80081153,  0.8373741 ,  0.8355963 ,\n",
       "         0.84018803,  0.83890275,  0.83909132,  0.83905509,  0.83893729,\n",
       "         0.83910479,  0.83899611,  0.83905003,  0.83899611,  0.83905003]),\n",
       " 'mean_train_score': array([ 0.67691942,  0.71050726,  0.68394238,  0.70887904,  0.71500465,\n",
       "         0.74061003,  0.81383957,  0.81112949,  0.84503855,  0.84339132,\n",
       "         0.8492868 ,  0.84892327,  0.84959061,  0.84934058,  0.8496185 ,\n",
       "         0.84934045,  0.84955616,  0.84932337,  0.8495647 ,  0.84931877]),\n",
       " 'param_C': masked_array(data = [1e-05 1e-05 0.0001 0.0001 0.001 0.001 0.01 0.01 0.1 0.1 1 1 10 10 100 100\n",
       "  1000 1000 10000 10000],\n",
       "              mask = [False False False False False False False False False False False False\n",
       "  False False False False False False False False],\n",
       "        fill_value = ?),\n",
       " 'param_class_weight': masked_array(data = [None 'balanced' None 'balanced' None 'balanced' None 'balanced' None\n",
       "  'balanced' None 'balanced' None 'balanced' None 'balanced' None 'balanced'\n",
       "  None 'balanced'],\n",
       "              mask = [False False False False False False False False False False False False\n",
       "  False False False False False False False False],\n",
       "        fill_value = ?),\n",
       " 'params': ({'C': 1e-05, 'class_weight': None},\n",
       "  {'C': 1e-05, 'class_weight': 'balanced'},\n",
       "  {'C': 0.0001, 'class_weight': None},\n",
       "  {'C': 0.0001, 'class_weight': 'balanced'},\n",
       "  {'C': 0.001, 'class_weight': None},\n",
       "  {'C': 0.001, 'class_weight': 'balanced'},\n",
       "  {'C': 0.01, 'class_weight': None},\n",
       "  {'C': 0.01, 'class_weight': 'balanced'},\n",
       "  {'C': 0.1, 'class_weight': None},\n",
       "  {'C': 0.1, 'class_weight': 'balanced'},\n",
       "  {'C': 1, 'class_weight': None},\n",
       "  {'C': 1, 'class_weight': 'balanced'},\n",
       "  {'C': 10, 'class_weight': None},\n",
       "  {'C': 10, 'class_weight': 'balanced'},\n",
       "  {'C': 100, 'class_weight': None},\n",
       "  {'C': 100, 'class_weight': 'balanced'},\n",
       "  {'C': 1000, 'class_weight': None},\n",
       "  {'C': 1000, 'class_weight': 'balanced'},\n",
       "  {'C': 10000, 'class_weight': None},\n",
       "  {'C': 10000, 'class_weight': 'balanced'}),\n",
       " 'rank_test_score': array([20, 17, 19, 18, 16, 15, 13, 14, 11, 12,  1, 10,  3,  4,  9,  2,  7,\n",
       "         5,  7,  5], dtype=int32),\n",
       " 'split0_test_score': array([ 0.54499749,  0.53192559,  0.54801408,  0.53594771,  0.58924082,\n",
       "         0.58320764,  0.71995978,  0.70739065,  0.81548517,  0.81196581,\n",
       "         0.81246858,  0.80995475,  0.81246858,  0.80995475,  0.81297134,\n",
       "         0.80995475,  0.81297134,  0.80995475,  0.81297134,  0.80995475]),\n",
       " 'split0_train_score': array([ 0.69330789,  0.72859756,  0.70007422,  0.72562859,  0.72509179,\n",
       "         0.75120283,  0.81367715,  0.81221255,  0.84528212,  0.8433006 ,\n",
       "         0.8508887 ,  0.85086219,  0.85166408,  0.85137911,  0.85165745,\n",
       "         0.85143876,  0.85165083,  0.85145864,  0.8516442 ,  0.85145864]),\n",
       " 'split1_test_score': array([ 0.64565217,  0.61449275,  0.64927536,  0.62536232,  0.67463768,\n",
       "         0.65724638,  0.76521739,  0.72101449,  0.7826087 ,  0.77971014,\n",
       "         0.79492754,  0.79492754,  0.79637681,  0.79637681,  0.79637681,\n",
       "         0.79637681,  0.79637681,  0.79637681,  0.79637681,  0.79637681]),\n",
       " 'split1_train_score': array([ 0.69331651,  0.71992754,  0.69576863,  0.71681548,  0.72554995,\n",
       "         0.74772904,  0.81846532,  0.81687371,  0.84854425,  0.84690735,\n",
       "         0.85227096,  0.85127459,  0.85255564,  0.85233566,  0.85264622,\n",
       "         0.85238742,  0.8527368 ,  0.85234213,  0.8527368 ,  0.85234213]),\n",
       " 'split2_test_score': array([ 0.75080214,  0.79304813,  0.75508021,  0.78716578,  0.78502674,\n",
       "         0.81550802,  0.84759358,  0.82887701,  0.84010695,  0.84117647,\n",
       "         0.84385027,  0.84278075,  0.84438503,  0.84652406,  0.84491979,\n",
       "         0.8459893 ,  0.84491979,  0.8459893 ,  0.84491979,  0.8459893 ]),\n",
       " 'split2_train_score': array([ 0.66745426,  0.70331313,  0.67488104,  0.70183435,  0.70886679,\n",
       "         0.73697027,  0.81491863,  0.81185591,  0.84594024,  0.84394881,\n",
       "         0.84958791,  0.84927901,  0.84939731,  0.84903583,  0.84950904,\n",
       "         0.84900297,  0.84945646,  0.84902269,  0.84945646,  0.84902269]),\n",
       " 'split3_test_score': array([ 0.72020202,  0.72020202,  0.72424242,  0.72626263,  0.75252525,\n",
       "         0.76111111,  0.83585859,  0.84040404,  0.8520202 ,  0.85353535,\n",
       "         0.85606061,  0.85505051,  0.8530303 ,  0.85353535,  0.8510101 ,\n",
       "         0.85353535,  0.8510101 ,  0.85353535,  0.8510101 ,  0.85353535]),\n",
       " 'split3_train_score': array([ 0.65999267,  0.70885089,  0.67152715,  0.70630396,  0.70555056,\n",
       "         0.73760709,  0.8103277 ,  0.806714  ,  0.84339767,  0.84201754,\n",
       "         0.84733807,  0.84688469,  0.84745141,  0.84734473,  0.84746475,\n",
       "         0.84734473,  0.84743808,  0.84727139,  0.84743808,  0.84726473]),\n",
       " 'split4_test_score': array([ 0.63097713,  0.65852391,  0.64656965,  0.6522869 ,  0.68035343,\n",
       "         0.71569647,  0.75883576,  0.75363825,  0.80717256,  0.80197505,\n",
       "         0.83783784,  0.83056133,  0.83887734,  0.83679834,  0.83887734,\n",
       "         0.83783784,  0.83887734,  0.83783784,  0.83887734,  0.83783784]),\n",
       " 'split4_train_score': array([ 0.68391002,  0.71535112,  0.69127882,  0.71361612,  0.71859683,\n",
       "         0.7410067 ,  0.81414718,  0.81166672,  0.84692087,  0.84486262,\n",
       "         0.84963882,  0.84930237,  0.84999505,  0.84985652,  0.85002144,\n",
       "         0.84986971,  0.85000165,  0.8498829 ,  0.85003463,  0.8498895 ]),\n",
       " 'split5_test_score': array([ 0.63048246,  0.72094298,  0.64254386,  0.7066886 ,  0.6754386 ,\n",
       "         0.72587719,  0.80921053,  0.83333333,  0.85855263,  0.85800439,\n",
       "         0.85635965,  0.85635965,  0.8558114 ,  0.85361842,  0.8558114 ,\n",
       "         0.85307018,  0.8558114 ,  0.85252193,  0.8558114 ,  0.85252193]),\n",
       " 'split5_train_score': array([ 0.68269735,  0.70797928,  0.6882835 ,  0.70752688,  0.71702728,\n",
       "         0.73941122,  0.81176239,  0.80744165,  0.84217152,  0.84154209,\n",
       "         0.84779045,  0.84761998,  0.84848544,  0.84824285,  0.84857068,\n",
       "         0.84832809,  0.84857724,  0.84832809,  0.84857724,  0.84828875]),\n",
       " 'split6_test_score': array([ 0.69076923,  0.78      ,  0.70974359,  0.77948718,  0.73538462,\n",
       "         0.79487179,  0.82051282,  0.81384615,  0.84153846,  0.84051282,\n",
       "         0.83846154,  0.83641026,  0.83846154,  0.83897436,  0.83846154,\n",
       "         0.83897436,  0.83846154,  0.83897436,  0.83846154,  0.83897436]),\n",
       " 'split6_train_score': array([ 0.66985125,  0.70219317,  0.67653789,  0.70099605,  0.71077138,\n",
       "         0.73557346,  0.81504593,  0.81345199,  0.84529124,  0.84429255,\n",
       "         0.85041039,  0.85039716,  0.85039055,  0.85041701,  0.85021859,\n",
       "         0.85032441,  0.85020536,  0.85030457,  0.85020536,  0.85030457]),\n",
       " 'split7_test_score': array([ 0.69155844,  0.73647186,  0.69805195,  0.72943723,  0.71536797,\n",
       "         0.75162338,  0.78571429,  0.7987013 ,  0.83387446,  0.83116883,\n",
       "         0.81818182,  0.81872294,  0.81222944,  0.81114719,  0.81222944,\n",
       "         0.81168831,  0.81168831,  0.81168831,  0.81168831,  0.81168831]),\n",
       " 'split7_train_score': array([ 0.67376278,  0.70745124,  0.6813906 ,  0.70670947,  0.71489527,\n",
       "         0.74067364,  0.8170044 ,  0.81376816,  0.84737129,  0.84540854,\n",
       "         0.85167097,  0.85159876,  0.85260967,  0.85266219,  0.85245869,\n",
       "         0.85261624,  0.85249808,  0.85259655,  0.85254403,  0.85258998]),\n",
       " 'split8_test_score': array([ 0.73615819,  0.75084746,  0.74632768,  0.74745763,  0.77231638,\n",
       "         0.79096045,  0.9       ,  0.88079096,  0.90225989,  0.89943503,\n",
       "         0.91016949,  0.91016949,  0.90677966,  0.9079096 ,  0.90621469,\n",
       "         0.9079096 ,  0.90734463,  0.9079096 ,  0.90734463,  0.9079096 ]),\n",
       " 'split8_train_score': array([ 0.67078428,  0.70669479,  0.67888867,  0.7051511 ,  0.71052786,\n",
       "         0.7373005 ,  0.80920003,  0.8053735 ,  0.83907313,  0.83713043,\n",
       "         0.84265764,  0.84193158,  0.84270997,  0.84201007,  0.84299778,\n",
       "         0.84208203,  0.84235675,  0.84203624,  0.84236983,  0.84203624]),\n",
       " 'split9_test_score': array([ 0.67045455,  0.74891775,  0.68127706,  0.73538961,  0.71158009,\n",
       "         0.76136364,  0.82305195,  0.83116883,  0.84036797,  0.83874459,\n",
       "         0.83387446,  0.83441558,  0.83279221,  0.83603896,  0.83279221,\n",
       "         0.83603896,  0.83279221,  0.83603896,  0.83279221,  0.83603896]),\n",
       " 'split9_train_score': array([ 0.67411725,  0.70471389,  0.68079324,  0.70420843,  0.71316883,\n",
       "         0.73862555,  0.81384693,  0.81193669,  0.84639319,  0.84450265,\n",
       "         0.8506141 ,  0.85008238,  0.85064692,  0.85012177,  0.85064036,\n",
       "         0.85001017,  0.85064036,  0.84999048,  0.85064036,  0.84999048]),\n",
       " 'std_fit_time': array([ 0.02447103,  0.0006903 ,  0.00069454,  0.00053948,  0.00116468,\n",
       "         0.00062882,  0.0010385 ,  0.00109669,  0.00118891,  0.00122462,\n",
       "         0.00124287,  0.00116353,  0.00058966,  0.00065135,  0.00013834,\n",
       "         0.00085502,  0.00081135,  0.00028124,  0.00053552,  0.00107656]),\n",
       " 'std_score_time': array([ 0.00021842,  0.00011964,  0.00014264,  0.00024271,  0.0002392 ,\n",
       "         0.00012572,  0.00017435,  0.00021137,  0.00019179,  0.00033273,\n",
       "         0.00051762,  0.00040522,  0.00021111,  0.00013977,  0.00010489,\n",
       "         0.00026033,  0.00020134,  0.00010858,  0.00011719,  0.00015887]),\n",
       " 'std_test_score': array([ 0.05809617,  0.07710961,  0.05852184,  0.07346302,  0.05479438,\n",
       "         0.06678231,  0.04870874,  0.05319037,  0.03050354,  0.03129131,\n",
       "         0.02961853,  0.02988949,  0.02894326,  0.02946112,  0.02868411,\n",
       "         0.02936447,  0.0290001 ,  0.02933887,  0.0290001 ,  0.02933887]),\n",
       " 'std_train_score': array([ 0.0104939 ,  0.00791779,  0.00897667,  0.00725687,  0.00631147,\n",
       "         0.00476456,  0.00268938,  0.00337967,  0.00265602,  0.00255868,\n",
       "         0.00265286,  0.00273808,  0.00278034,  0.00291911,  0.00269333,\n",
       "         0.00289691,  0.00286776,  0.0029069 ,  0.00286926,  0.00290813])}"
      ]
     },
     "execution_count": 24,
     "metadata": {},
     "output_type": "execute_result"
    }
   ],
   "source": [
    "from sklearn.model_selection import GridSearchCV, KFold\n",
    "\n",
    "# Full model from earlier\n",
    "X = titanic[['is_male', 'Age', 'pclass_1', 'pclass_2', 'had_parents', 'had_siblings', 'Fare']]\n",
    "\n",
    "# Use GridSearch to try different params for LogisticRegression;\n",
    "# also using 10-fold CV to examine test set accuracy;\n",
    "# also using AUC as our metric to maximise\n",
    "gs = GridSearchCV(\n",
    "    estimator=LogisticRegression(),\n",
    "    param_grid={'C': [10**i for i in range(-5, 5)],\n",
    "                'class_weight': [None, 'balanced']},\n",
    "    cv=KFold(n_splits=10),\n",
    "    scoring='roc_auc'\n",
    ")\n",
    "\n",
    "gs.fit(X, y)\n",
    "gs.cv_results_"
   ]
  },
  {
   "cell_type": "code",
   "execution_count": 25,
   "metadata": {},
   "outputs": [
    {
     "data": {
      "text/html": [
       "<div>\n",
       "<table border=\"1\" class=\"dataframe\">\n",
       "  <thead>\n",
       "    <tr style=\"text-align: right;\">\n",
       "      <th></th>\n",
       "      <th>mean_fit_time</th>\n",
       "      <th>mean_score_time</th>\n",
       "      <th>mean_test_score</th>\n",
       "      <th>mean_train_score</th>\n",
       "      <th>param_C</th>\n",
       "      <th>param_class_weight</th>\n",
       "      <th>params</th>\n",
       "      <th>rank_test_score</th>\n",
       "      <th>split0_test_score</th>\n",
       "      <th>split0_train_score</th>\n",
       "      <th>...</th>\n",
       "      <th>split7_test_score</th>\n",
       "      <th>split7_train_score</th>\n",
       "      <th>split8_test_score</th>\n",
       "      <th>split8_train_score</th>\n",
       "      <th>split9_test_score</th>\n",
       "      <th>split9_train_score</th>\n",
       "      <th>std_fit_time</th>\n",
       "      <th>std_score_time</th>\n",
       "      <th>std_test_score</th>\n",
       "      <th>std_train_score</th>\n",
       "    </tr>\n",
       "  </thead>\n",
       "  <tbody>\n",
       "    <tr>\n",
       "      <th>0</th>\n",
       "      <td>0.011733</td>\n",
       "      <td>0.000900</td>\n",
       "      <td>0.671064</td>\n",
       "      <td>0.676919</td>\n",
       "      <td>1e-05</td>\n",
       "      <td>None</td>\n",
       "      <td>{u'C': 1e-05, u'class_weight': None}</td>\n",
       "      <td>20</td>\n",
       "      <td>0.544997</td>\n",
       "      <td>0.693308</td>\n",
       "      <td>...</td>\n",
       "      <td>0.691558</td>\n",
       "      <td>0.673763</td>\n",
       "      <td>0.736158</td>\n",
       "      <td>0.670784</td>\n",
       "      <td>0.670455</td>\n",
       "      <td>0.674117</td>\n",
       "      <td>0.024471</td>\n",
       "      <td>0.000218</td>\n",
       "      <td>0.058096</td>\n",
       "      <td>0.010494</td>\n",
       "    </tr>\n",
       "    <tr>\n",
       "      <th>1</th>\n",
       "      <td>0.004044</td>\n",
       "      <td>0.000862</td>\n",
       "      <td>0.705342</td>\n",
       "      <td>0.710507</td>\n",
       "      <td>1e-05</td>\n",
       "      <td>balanced</td>\n",
       "      <td>{u'C': 1e-05, u'class_weight': u'balanced'}</td>\n",
       "      <td>17</td>\n",
       "      <td>0.531926</td>\n",
       "      <td>0.728598</td>\n",
       "      <td>...</td>\n",
       "      <td>0.736472</td>\n",
       "      <td>0.707451</td>\n",
       "      <td>0.750847</td>\n",
       "      <td>0.706695</td>\n",
       "      <td>0.748918</td>\n",
       "      <td>0.704714</td>\n",
       "      <td>0.000690</td>\n",
       "      <td>0.000120</td>\n",
       "      <td>0.077110</td>\n",
       "      <td>0.007918</td>\n",
       "    </tr>\n",
       "    <tr>\n",
       "      <th>2</th>\n",
       "      <td>0.003687</td>\n",
       "      <td>0.000890</td>\n",
       "      <td>0.679964</td>\n",
       "      <td>0.683942</td>\n",
       "      <td>0.0001</td>\n",
       "      <td>None</td>\n",
       "      <td>{u'C': 0.0001, u'class_weight': None}</td>\n",
       "      <td>19</td>\n",
       "      <td>0.548014</td>\n",
       "      <td>0.700074</td>\n",
       "      <td>...</td>\n",
       "      <td>0.698052</td>\n",
       "      <td>0.681391</td>\n",
       "      <td>0.746328</td>\n",
       "      <td>0.678889</td>\n",
       "      <td>0.681277</td>\n",
       "      <td>0.680793</td>\n",
       "      <td>0.000695</td>\n",
       "      <td>0.000143</td>\n",
       "      <td>0.058522</td>\n",
       "      <td>0.008977</td>\n",
       "    </tr>\n",
       "    <tr>\n",
       "      <th>3</th>\n",
       "      <td>0.003727</td>\n",
       "      <td>0.000921</td>\n",
       "      <td>0.702362</td>\n",
       "      <td>0.708879</td>\n",
       "      <td>0.0001</td>\n",
       "      <td>balanced</td>\n",
       "      <td>{u'C': 0.0001, u'class_weight': u'balanced'}</td>\n",
       "      <td>18</td>\n",
       "      <td>0.535948</td>\n",
       "      <td>0.725629</td>\n",
       "      <td>...</td>\n",
       "      <td>0.729437</td>\n",
       "      <td>0.706709</td>\n",
       "      <td>0.747458</td>\n",
       "      <td>0.705151</td>\n",
       "      <td>0.735390</td>\n",
       "      <td>0.704208</td>\n",
       "      <td>0.000539</td>\n",
       "      <td>0.000243</td>\n",
       "      <td>0.073463</td>\n",
       "      <td>0.007257</td>\n",
       "    </tr>\n",
       "    <tr>\n",
       "      <th>4</th>\n",
       "      <td>0.004327</td>\n",
       "      <td>0.000906</td>\n",
       "      <td>0.709053</td>\n",
       "      <td>0.715005</td>\n",
       "      <td>0.001</td>\n",
       "      <td>None</td>\n",
       "      <td>{u'C': 0.001, u'class_weight': None}</td>\n",
       "      <td>16</td>\n",
       "      <td>0.589241</td>\n",
       "      <td>0.725092</td>\n",
       "      <td>...</td>\n",
       "      <td>0.715368</td>\n",
       "      <td>0.714895</td>\n",
       "      <td>0.772316</td>\n",
       "      <td>0.710528</td>\n",
       "      <td>0.711580</td>\n",
       "      <td>0.713169</td>\n",
       "      <td>0.001165</td>\n",
       "      <td>0.000239</td>\n",
       "      <td>0.054794</td>\n",
       "      <td>0.006311</td>\n",
       "    </tr>\n",
       "  </tbody>\n",
       "</table>\n",
       "<p>5 rows × 32 columns</p>\n",
       "</div>"
      ],
      "text/plain": [
       "   mean_fit_time  mean_score_time  mean_test_score  mean_train_score param_C  \\\n",
       "0       0.011733         0.000900         0.671064          0.676919   1e-05   \n",
       "1       0.004044         0.000862         0.705342          0.710507   1e-05   \n",
       "2       0.003687         0.000890         0.679964          0.683942  0.0001   \n",
       "3       0.003727         0.000921         0.702362          0.708879  0.0001   \n",
       "4       0.004327         0.000906         0.709053          0.715005   0.001   \n",
       "\n",
       "  param_class_weight                                        params  \\\n",
       "0               None          {u'C': 1e-05, u'class_weight': None}   \n",
       "1           balanced   {u'C': 1e-05, u'class_weight': u'balanced'}   \n",
       "2               None         {u'C': 0.0001, u'class_weight': None}   \n",
       "3           balanced  {u'C': 0.0001, u'class_weight': u'balanced'}   \n",
       "4               None          {u'C': 0.001, u'class_weight': None}   \n",
       "\n",
       "   rank_test_score  split0_test_score  split0_train_score       ...         \\\n",
       "0               20           0.544997            0.693308       ...          \n",
       "1               17           0.531926            0.728598       ...          \n",
       "2               19           0.548014            0.700074       ...          \n",
       "3               18           0.535948            0.725629       ...          \n",
       "4               16           0.589241            0.725092       ...          \n",
       "\n",
       "   split7_test_score  split7_train_score  split8_test_score  \\\n",
       "0           0.691558            0.673763           0.736158   \n",
       "1           0.736472            0.707451           0.750847   \n",
       "2           0.698052            0.681391           0.746328   \n",
       "3           0.729437            0.706709           0.747458   \n",
       "4           0.715368            0.714895           0.772316   \n",
       "\n",
       "   split8_train_score  split9_test_score  split9_train_score  std_fit_time  \\\n",
       "0            0.670784           0.670455            0.674117      0.024471   \n",
       "1            0.706695           0.748918            0.704714      0.000690   \n",
       "2            0.678889           0.681277            0.680793      0.000695   \n",
       "3            0.705151           0.735390            0.704208      0.000539   \n",
       "4            0.710528           0.711580            0.713169      0.001165   \n",
       "\n",
       "   std_score_time  std_test_score  std_train_score  \n",
       "0        0.000218        0.058096         0.010494  \n",
       "1        0.000120        0.077110         0.007918  \n",
       "2        0.000143        0.058522         0.008977  \n",
       "3        0.000243        0.073463         0.007257  \n",
       "4        0.000239        0.054794         0.006311  \n",
       "\n",
       "[5 rows x 32 columns]"
      ]
     },
     "execution_count": 25,
     "metadata": {},
     "output_type": "execute_result"
    }
   ],
   "source": [
    "# instead of printing out a long dictionary of results, you can \n",
    "# read the results into a dataframe\n",
    "results = pd.DataFrame(gs.cv_results_)\n",
    "results.head()"
   ]
  },
  {
   "cell_type": "code",
   "execution_count": 26,
   "metadata": {},
   "outputs": [
    {
     "data": {
      "image/png": "[encoded data removed]",
      "text/plain": [
       "<matplotlib.figure.Figure at 0x10abf46d0>"
      ]
     },
     "metadata": {},
     "output_type": "display_data"
    }
   ],
   "source": [
    "plt.plot(results['param_C'],results['mean_test_score'])\n",
    "plt.xscale('log')"
   ]
  },
  {
   "cell_type": "code",
   "execution_count": 27,
   "metadata": {},
   "outputs": [
    {
     "data": {
      "text/plain": [
       "{'C': 1, 'class_weight': None}"
      ]
     },
     "execution_count": 27,
     "metadata": {},
     "output_type": "execute_result"
    }
   ],
   "source": [
    "# extract the best model parameters\n",
    "gs.best_params_"
   ]
  },
  {
   "cell_type": "code",
   "execution_count": 28,
   "metadata": {},
   "outputs": [
    {
     "data": {
      "text/plain": [
       "0.84018803262948383"
      ]
     },
     "execution_count": 28,
     "metadata": {},
     "output_type": "execute_result"
    }
   ],
   "source": [
    "# extract the best score obtained with the best model parameters\n",
    "gs.best_score_"
   ]
  },
  {
   "cell_type": "code",
   "execution_count": 29,
   "metadata": {},
   "outputs": [
    {
     "name": "stdout",
     "output_type": "stream",
     "text": [
      "LogisticRegression(C=1, class_weight=None, dual=False, fit_intercept=True,\n",
      "          intercept_scaling=1, max_iter=100, multi_class='ovr', n_jobs=1,\n",
      "          penalty='l2', random_state=None, solver='liblinear', tol=0.0001,\n",
      "          verbose=0, warm_start=False)\n"
     ]
    }
   ],
   "source": [
    "# extract the best estimator\n",
    "print gs.best_estimator_"
   ]
  },
  {
   "cell_type": "markdown",
   "metadata": {},
   "source": [
    "Our best estimator uses C=1 and class_weight disabled, giving an AUC of 0.84 (interestingly, these are default settings). Note AUC changes from earlier, as we're now measuring AUC against a 10% test set."
   ]
  }
 ],
 "metadata": {
  "anaconda-cloud": {},
  "kernelspec": {
   "display_name": "Python 2",
   "language": "python",
   "name": "python2"
  },
  "language_info": {
   "codemirror_mode": {
    "name": "ipython",
    "version": 2
   },
   "file_extension": ".py",
   "mimetype": "text/x-python",
   "name": "python",
   "nbconvert_exporter": "python",
   "pygments_lexer": "ipython2",
   "version": "2.7.10"
  }
 },
 "nbformat": 4,
 "nbformat_minor": 1
}
