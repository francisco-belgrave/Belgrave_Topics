{
 "cells": [
  {
   "cell_type": "markdown",
   "metadata": {},
   "source": [
    "# Chapter 3 Probability Mass Functions"
   ]
  },
  {
   "cell_type": "markdown",
   "metadata": {},
   "source": [
    "## Pmfs\n",
    "Another way to represent a distribution is a **probability mass function** (PMF), which maps from each value to its probability. A **probability** is a frequency expressed as a fraction of the sample size, n. To get from frequencies to probabilities, we divide through by n, which is called **normalization**."
   ]
  },
  {
   "cell_type": "code",
   "execution_count": 1,
   "metadata": {},
   "outputs": [],
   "source": [
    "list_ = [1, 2, 2, 3, 5]"
   ]
  },
  {
   "cell_type": "markdown",
   "metadata": {},
   "source": [
    "Given a list create PMF (remember that to do so you will have to first calculate a hist):"
   ]
  },
  {
   "cell_type": "code",
   "execution_count": 2,
   "metadata": {},
   "outputs": [],
   "source": [
    "#Code it here\n",
    "def prob_mass(list):\n",
    "    dict = {}\n",
    "    for value in list:\n",
    "        if value not in dict:\n",
    "            dict[value] = 0\n",
    "        dict[value] += 1\n",
    "    for key in dict:\n",
    "        dict[key] = dict[key]/len(list) \n",
    "    return dict"
   ]
  },
  {
   "cell_type": "code",
   "execution_count": 3,
   "metadata": {},
   "outputs": [
    {
     "data": {
      "text/plain": [
       "{1: 0.2, 2: 0.4, 3: 0.2, 5: 0.2}"
      ]
     },
     "execution_count": 3,
     "metadata": {},
     "output_type": "execute_result"
    }
   ],
   "source": [
    "prob_mass(list_)"
   ]
  },
  {
   "cell_type": "code",
   "execution_count": 4,
   "metadata": {},
   "outputs": [
    {
     "name": "stdout",
     "output_type": "stream",
     "text": [
      "{1: 0.2222222222222222, 2: 0.1111111111111111, 3: 0.1111111111111111, 4: 0.5555555555555556}\n"
     ]
    }
   ],
   "source": [
    "#Trying with a different list to make sure it works\n",
    "a = [1,1,2,3,4,4,4,4,4]\n",
    "b = prob_mass(a)\n",
    "print(b)"
   ]
  },
  {
   "cell_type": "markdown",
   "metadata": {},
   "source": [
    "Compare your result with the pmf function provided by thinkstats2"
   ]
  },
  {
   "cell_type": "code",
   "execution_count": 5,
   "metadata": {},
   "outputs": [],
   "source": [
    "import thinkstats2"
   ]
  },
  {
   "cell_type": "code",
   "execution_count": 6,
   "metadata": {},
   "outputs": [
    {
     "data": {
      "text/plain": [
       "Pmf({1: 0.2, 2: 0.4, 3: 0.2, 5: 0.2})"
      ]
     },
     "execution_count": 6,
     "metadata": {},
     "output_type": "execute_result"
    }
   ],
   "source": [
    "pmf = thinkstats2.Pmf(list_)\n",
    "pmf"
   ]
  },
  {
   "cell_type": "code",
   "execution_count": 7,
   "metadata": {},
   "outputs": [
    {
     "data": {
      "text/plain": [
       "Pmf({1: 0.2222222222222222, 2: 0.1111111111111111, 3: 0.1111111111111111, 4: 0.5555555555555556})"
      ]
     },
     "execution_count": 7,
     "metadata": {},
     "output_type": "execute_result"
    }
   ],
   "source": [
    "pmf1 = thinkstats2.Pmf(a)\n",
    "pmf1"
   ]
  },
  {
   "cell_type": "markdown",
   "metadata": {},
   "source": [
    "What is the total probability of a PMF?"
   ]
  },
  {
   "cell_type": "code",
   "execution_count": 8,
   "metadata": {},
   "outputs": [
    {
     "name": "stdout",
     "output_type": "stream",
     "text": [
      "1.0\n"
     ]
    }
   ],
   "source": [
    "#Code it here\n",
    "sm = 0\n",
    "for key in b:\n",
    "    sm += b[key]\n",
    "print(sm)"
   ]
  },
  {
   "cell_type": "markdown",
   "metadata": {},
   "source": [
    "Try the methods from the Pmf class:\n",
    "- pmf.Prob(): Show the probability associated\n",
    "- pmf.Incr(): Increase the probability a quantity\n",
    "- pmf.Mult(): Increase the probability by a multiplier"
   ]
  },
  {
   "cell_type": "code",
   "execution_count": 9,
   "metadata": {},
   "outputs": [
    {
     "data": {
      "text/plain": [
       "0.4"
      ]
     },
     "execution_count": 9,
     "metadata": {},
     "output_type": "execute_result"
    }
   ],
   "source": [
    "#Code it here\n",
    "pmf.Prob(2)"
   ]
  },
  {
   "cell_type": "code",
   "execution_count": 10,
   "metadata": {},
   "outputs": [
    {
     "data": {
      "text/plain": [
       "Pmf({1: 0.2, 2: 0.4, 3: 0.2, 5: 0.2})"
      ]
     },
     "execution_count": 10,
     "metadata": {},
     "output_type": "execute_result"
    }
   ],
   "source": [
    "pmf"
   ]
  },
  {
   "cell_type": "code",
   "execution_count": 11,
   "metadata": {},
   "outputs": [
    {
     "data": {
      "text/plain": [
       "Pmf({1: 0.2, 2: 0.5, 3: 0.2, 5: 0.2})"
      ]
     },
     "execution_count": 11,
     "metadata": {},
     "output_type": "execute_result"
    }
   ],
   "source": [
    "pmf.Incr(2, 0.1)\n",
    "pmf"
   ]
  },
  {
   "cell_type": "code",
   "execution_count": 12,
   "metadata": {},
   "outputs": [
    {
     "data": {
      "text/plain": [
       "Pmf({1: 0.4, 2: 0.5, 3: 0.2, 5: 0.2})"
      ]
     },
     "execution_count": 12,
     "metadata": {},
     "output_type": "execute_result"
    }
   ],
   "source": [
    "pmf.Mult(1, 2)\n",
    "pmf"
   ]
  },
  {
   "cell_type": "markdown",
   "metadata": {},
   "source": [
    "If you modify a Pmf, the result may not be normalized; that is, the probabilities may no longer add up to 1. To check, you can call pmf.Total, which returns the sum of the probabilities:"
   ]
  },
  {
   "cell_type": "code",
   "execution_count": 13,
   "metadata": {},
   "outputs": [
    {
     "data": {
      "text/plain": [
       "1.3"
      ]
     },
     "execution_count": 13,
     "metadata": {},
     "output_type": "execute_result"
    }
   ],
   "source": [
    "#Code it here\n",
    "pmf.Total()"
   ]
  },
  {
   "cell_type": "markdown",
   "metadata": {},
   "source": [
    "To renormalize, call Normalize:"
   ]
  },
  {
   "cell_type": "code",
   "execution_count": 14,
   "metadata": {},
   "outputs": [
    {
     "data": {
      "text/plain": [
       "1.3"
      ]
     },
     "execution_count": 14,
     "metadata": {},
     "output_type": "execute_result"
    }
   ],
   "source": [
    "#Code it here\n",
    "pmf.Normalize()"
   ]
  },
  {
   "cell_type": "code",
   "execution_count": 15,
   "metadata": {},
   "outputs": [
    {
     "name": "stdout",
     "output_type": "stream",
     "text": [
      "1.0\n"
     ]
    },
    {
     "data": {
      "text/plain": [
       "Pmf({1: 0.3076923076923077, 2: 0.3846153846153846, 3: 0.15384615384615385, 5: 0.15384615384615385})"
      ]
     },
     "execution_count": 15,
     "metadata": {},
     "output_type": "execute_result"
    }
   ],
   "source": [
    "print(pmf.Total())\n",
    "pmf"
   ]
  },
  {
   "cell_type": "markdown",
   "metadata": {},
   "source": [
    "Pmf objects provide a **Copy in memory** method so you can make and modify a copy without affecting the original."
   ]
  },
  {
   "cell_type": "code",
   "execution_count": 16,
   "metadata": {},
   "outputs": [
    {
     "data": {
      "text/plain": [
       "Pmf({1: 0.3076923076923077, 2: 0.3846153846153846, 3: 0.15384615384615385, 5: 0.15384615384615385})"
      ]
     },
     "execution_count": 16,
     "metadata": {},
     "output_type": "execute_result"
    }
   ],
   "source": [
    "#Code it here\n",
    "pmf.Copy()"
   ]
  },
  {
   "cell_type": "markdown",
   "metadata": {},
   "source": [
    "## Plotting PMFs"
   ]
  },
  {
   "cell_type": "markdown",
   "metadata": {},
   "source": [
    "Use the seaborn library and your knowledge on data plotting to create the best graph you can of the PMF curve."
   ]
  },
  {
   "cell_type": "code",
   "execution_count": 17,
   "metadata": {},
   "outputs": [],
   "source": [
    "#Code it here\n",
    "import seaborn as sns\n",
    "import matplotlib.pyplot as plt\n",
    "%matplotlib inline"
   ]
  },
  {
   "cell_type": "code",
   "execution_count": 18,
   "metadata": {},
   "outputs": [
    {
     "data": {
      "image/png": "[encoded data removed]",
      "text/plain": [
       "<Figure size 720x504 with 1 Axes>"
      ]
     },
     "metadata": {
      "needs_background": "light"
     },
     "output_type": "display_data"
    }
   ],
   "source": [
    "fig = plt.figure(figsize = (10,7))\n",
    "\n",
    "sns.set(style ='darkgrid')\n",
    "sns.distplot(list_, bins = 8, norm_hist = True)\n",
    "\n",
    "plt.xlim(0, 5.5)\n",
    "plt.show()"
   ]
  },
  {
   "cell_type": "code",
   "execution_count": 19,
   "metadata": {},
   "outputs": [
    {
     "data": {
      "image/png": "[encoded data removed]",
      "text/plain": [
       "<Figure size 432x288 with 1 Axes>"
      ]
     },
     "metadata": {},
     "output_type": "display_data"
    }
   ],
   "source": [
    "plt.bar(list(prob_mass(list_).keys()),list(prob_mass(list_).values()))\n",
    "plt.show()"
   ]
  },
  {
   "cell_type": "code",
   "execution_count": 20,
   "metadata": {},
   "outputs": [],
   "source": [
    "# Put everything into a fuction\n",
    "def plotter(dict_input):\n",
    "    list_dictval = list(dict_input.values())\n",
    "    list_dictkey = list(dict_input.keys())\n",
    "    plt.bar(list_dictkey,list_dictval)\n",
    "    return plt.show()"
   ]
  },
  {
   "cell_type": "markdown",
   "metadata": {},
   "source": [
    "Try the thinkplot charts of the PMF and copare the results. thinkplot provides two ways to plot Pmfs:\n",
    "- To plot a Pmf as a bar graph, you can use thinkplot.Hist. Bar graphs are most useful if the number of values in the Pmf is small.\n",
    "- To plot a Pmf as a step function, you can use thinkplot.Pmf. This option is most useful if there are a large number of values and the Pmf is smooth. This function also works with Hist objects."
   ]
  },
  {
   "cell_type": "code",
   "execution_count": 21,
   "metadata": {},
   "outputs": [],
   "source": [
    "#Code it here\n",
    "import thinkplot"
   ]
  },
  {
   "cell_type": "code",
   "execution_count": 22,
   "metadata": {
    "scrolled": true
   },
   "outputs": [
    {
     "data": {
      "image/png": "[encoded data removed]",
      "text/plain": [
       "<Figure size 432x288 with 1 Axes>"
      ]
     },
     "metadata": {},
     "output_type": "display_data"
    }
   ],
   "source": [
    "thinkplot.Hist(pmf)"
   ]
  },
  {
   "cell_type": "code",
   "execution_count": 23,
   "metadata": {},
   "outputs": [
    {
     "data": {
      "image/png": "[encoded data removed]",
      "text/plain": [
       "<Figure size 432x288 with 1 Axes>"
      ]
     },
     "metadata": {},
     "output_type": "display_data"
    }
   ],
   "source": [
    "thinkplot.Pmf(pmf)"
   ]
  },
  {
   "cell_type": "markdown",
   "metadata": {},
   "source": [
    "In addition, pyplot provides a function called hist that takes a sequence of values, computes a histogram, and plots it. Since I use Hist objects, I usually don’t use pyplot.hist."
   ]
  },
  {
   "cell_type": "code",
   "execution_count": 24,
   "metadata": {},
   "outputs": [
    {
     "data": {
      "image/png": "[encoded data removed]",
      "text/plain": [
       "<Figure size 432x288 with 1 Axes>"
      ]
     },
     "metadata": {},
     "output_type": "display_data"
    }
   ],
   "source": [
    "plt.hist(list_, density = True)\n",
    "plt.show()"
   ]
  },
  {
   "cell_type": "markdown",
   "metadata": {},
   "source": [
    "By plotting the PMF instead of the histogram, we can compare the two distributions without being mislead by the difference in sample size. Based on this figure, first babies seem to be less likely than others to arrive on time (week 39) and more likely to be a late (weeks 41 and 42).\n",
    "\n",
    "Code a graph comparing the PMF between first babies and not first babies lenght of the pregnancy:"
   ]
  },
  {
   "cell_type": "code",
   "execution_count": 25,
   "metadata": {},
   "outputs": [],
   "source": [
    "import nsfg"
   ]
  },
  {
   "cell_type": "code",
   "execution_count": 26,
   "metadata": {},
   "outputs": [],
   "source": [
    "#Code it here\n",
    "\n",
    "preg = nsfg.ReadFemPreg(dct_file='../Think_Stats/Thinkstats2/2002FemPreg.dct',\n",
    "                      dat_file='Thinkstats2/2002FemPreg.dat.gz',\n",
    "                       clean = True)\n",
    "\n",
    "preg1 = preg[(preg['birthord'] == 1) & (preg['outcome'] == 1)]\n",
    "preg2 = preg[(preg['birthord'] != 1) & (preg['outcome'] == 1)]\n",
    "\n",
    "first_pmf = prob_mass(preg1['prglngth'])\n",
    "other_pmf = prob_mass(preg2['prglngth'])"
   ]
  },
  {
   "cell_type": "code",
   "execution_count": 34,
   "metadata": {},
   "outputs": [
    {
     "data": {
      "image/png": "[encoded data removed]",
      "text/plain": [
       "<Figure size 432x288 with 1 Axes>"
      ]
     },
     "metadata": {},
     "output_type": "display_data"
    }
   ],
   "source": [
    "plt.bar(list(prob_mass(first_pmf).keys()),list(prob_mass(first_pmf).values()))\n",
    "plt.bar(list(prob_mass(other_pmf).keys()),list(prob_mass(other_pmf).values()))\n",
    "plt.show()"
   ]
  },
  {
   "cell_type": "markdown",
   "metadata": {},
   "source": [
    "Compare your plot with the one created by thinkplot:"
   ]
  },
  {
   "cell_type": "code",
   "execution_count": 33,
   "metadata": {},
   "outputs": [
    {
     "name": "stderr",
     "output_type": "stream",
     "text": [
      "No handles with labels found to put in legend.\n"
     ]
    },
    {
     "data": {
      "image/png": "[encoded data removed]",
      "text/plain": [
       "<Figure size 864x432 with 2 Axes>"
      ]
     },
     "metadata": {},
     "output_type": "display_data"
    },
    {
     "data": {
      "text/plain": [
       "<Figure size 576x432 with 0 Axes>"
      ]
     },
     "metadata": {},
     "output_type": "display_data"
    }
   ],
   "source": [
    "#Code it here\n",
    "\n",
    "first_pmf = thinkstats2.Pmf(preg1['prglngth'])\n",
    "other_pmf = thinkstats2.Pmf(preg2['prglngth'])\n",
    "\n",
    "width = 0.45\n",
    "\n",
    "thinkplot.PrePlot(2, cols=2)\n",
    "thinkplot.Hist(first_pmf, align='right', width = width, label = 'first babies')\n",
    "thinkplot.Hist(other_pmf, align='left', width = width, label = 'others')\n",
    "thinkplot.Config(xlabel='weeks',\n",
    "ylabel='probability',\n",
    "axis=[27, 46, 0, 0.6])\n",
    "thinkplot.PrePlot(2)\n",
    "thinkplot.SubPlot(2)\n",
    "thinkplot.Pmfs([first_pmf, other_pmf])\n",
    "thinkplot.Show(xlabel='weeks',\n",
    "axis=[27, 46, 0, 0.6])"
   ]
  },
  {
   "cell_type": "code",
   "execution_count": 38,
   "metadata": {},
   "outputs": [
    {
     "data": {
      "text/plain": [
       "Pmf({39: 0.47903920235667347, 40: 0.12145932472241106, 41: 0.08157715839564922, 38: 0.0616360752322683, 37: 0.04713346929526399, 42: 0.04645365964196692, 36: 0.03897575345569907, 35: 0.03602991162474507, 43: 0.01971447994561523, 30: 0.016542034896895538, 32: 0.012463176977113076, 34: 0.006571493315205076, 33: 0.0063448900974393836, 28: 0.005438477226376614, 44: 0.005211874008610923, 26: 0.0036256514842510764, 31: 0.003399048266485384, 29: 0.0020394289598912306, 24: 0.0015862225243598459, 45: 0.0013596193065941536, 22: 0.0006798096532970768, 48: 0.0006798096532970768, 20: 0.00022660321776569228, 47: 0.00022660321776569228, 17: 0.00022660321776569228, 21: 0.00022660321776569228, 25: 0.00022660321776569228, 46: 0.00022660321776569228, 23: 0.00022660321776569228, 27: 0.00022660321776569228, 0: 0.00022660321776569228})"
      ]
     },
     "execution_count": 38,
     "metadata": {},
     "output_type": "execute_result"
    }
   ],
   "source": [
    "first_pmf"
   ]
  },
  {
   "cell_type": "code",
   "execution_count": 36,
   "metadata": {},
   "outputs": [
    {
     "data": {
      "text/plain": [
       "{39: 0.03225806451612903,\n",
       " 40: 0.03225806451612903,\n",
       " 41: 0.03225806451612903,\n",
       " 38: 0.03225806451612903,\n",
       " 37: 0.03225806451612903,\n",
       " 42: 0.03225806451612903,\n",
       " 36: 0.03225806451612903,\n",
       " 35: 0.03225806451612903,\n",
       " 43: 0.03225806451612903,\n",
       " 30: 0.03225806451612903,\n",
       " 32: 0.03225806451612903,\n",
       " 34: 0.03225806451612903,\n",
       " 33: 0.03225806451612903,\n",
       " 28: 0.03225806451612903,\n",
       " 44: 0.03225806451612903,\n",
       " 26: 0.03225806451612903,\n",
       " 31: 0.03225806451612903,\n",
       " 29: 0.03225806451612903,\n",
       " 24: 0.03225806451612903,\n",
       " 45: 0.03225806451612903,\n",
       " 22: 0.03225806451612903,\n",
       " 48: 0.03225806451612903,\n",
       " 20: 0.03225806451612903,\n",
       " 47: 0.03225806451612903,\n",
       " 17: 0.03225806451612903,\n",
       " 21: 0.03225806451612903,\n",
       " 25: 0.03225806451612903,\n",
       " 46: 0.03225806451612903,\n",
       " 23: 0.03225806451612903,\n",
       " 27: 0.03225806451612903,\n",
       " 0: 0.03225806451612903}"
      ]
     },
     "execution_count": 36,
     "metadata": {},
     "output_type": "execute_result"
    }
   ],
   "source": [
    "prob_mass(first_pmf)"
   ]
  },
  {
   "cell_type": "markdown",
   "metadata": {},
   "source": [
    "PrePlot takes optional parameters rows and cols to make a grid of figures, in this case one row of two figures. The first figure (on the left) displays the Pmfs using thinkplot.Hist, as we have seen before.\n",
    "\n",
    "The second call to PrePlot resets the color generator. Then SubPlot switches to the second figure (on the right) and displays the Pmfs using thinkplot. Pmfs. I used the axis option to ensure that the two figures are on the same axes, which is generally a good idea if you intend to compare\n",
    "two figures."
   ]
  },
  {
   "cell_type": "markdown",
   "metadata": {},
   "source": [
    "## Other visualizations"
   ]
  },
  {
   "cell_type": "markdown",
   "metadata": {},
   "source": [
    "Histograms and PMFs are useful while you are exploring data and trying to identify patterns and relationships. Once you have an idea what is going on, a good next step is to design a visualization that makes the patterns you have identified as clear as possible.\n",
    "\n",
    "In the NSFG data, the biggest differences in the distributions are near the mode. So it makes sense to zoom in on  that part of the graph, and to transform the data to emphasize differences.\n",
    "\n",
    "Calculate in a barchart the differences between both graphs between week 35 and 41."
   ]
  },
  {
   "cell_type": "code",
   "execution_count": null,
   "metadata": {},
   "outputs": [],
   "source": [
    "thinkplot.PrePlot(2, cols=2)\n",
    "thinkplot.Hist(first_pmf, align='right', width = width, label = 'first babies')\n",
    "thinkplot.Hist(other_pmf, align='left', width = width, label = 'others')\n",
    "thinkplot.Config(xlabel='weeks',\n",
    "ylabel ='probability',\n",
    "axis =[35, 41, 0, 0.6])\n",
    "thinkplot.PrePlot(2)\n",
    "thinkplot.SubPlot(2)\n",
    "thinkplot.Pmfs([first_pmf, other_pmf], label = 'first babies')\n",
    "thinkplot.Show(xlabel='weeks',\n",
    "axis =[35, 41, 0, 0.6])"
   ]
  },
  {
   "cell_type": "code",
   "execution_count": null,
   "metadata": {
    "scrolled": true
   },
   "outputs": [],
   "source": [
    "first_pmf"
   ]
  },
  {
   "cell_type": "code",
   "execution_count": null,
   "metadata": {
    "scrolled": true
   },
   "outputs": [],
   "source": [
    "#Code it here\n",
    "diff = []\n",
    "for i in range(35,42):\n",
    "     diff.append(other_pmf[i] - first_pmf[i])\n",
    "    \n",
    "\n",
    "plt.bar(range(35,42), diff)\n",
    "plt.show()"
   ]
  },
  {
   "cell_type": "markdown",
   "metadata": {},
   "source": [
    "What conclusions can we get from the graph?"
   ]
  },
  {
   "cell_type": "markdown",
   "metadata": {},
   "source": [
    "##### Answer here\n",
    "###### first baies a bit longer"
   ]
  },
  {
   "cell_type": "markdown",
   "metadata": {},
   "source": [
    "For now we should hold this conclusion only tentatively. We used the same dataset to identify an apparent difference and then chose a visualization that\n",
    "makes the difference apparent. We can’t be sure this effect is real; it might be due to random variation. We’ll address this concern later."
   ]
  },
  {
   "cell_type": "markdown",
   "metadata": {},
   "source": [
    "## The class size paradox"
   ]
  },
  {
   "cell_type": "markdown",
   "metadata": {},
   "source": [
    "Before we go on, I want to demonstrate one kind of computation you can do with Pmf objects; I call this example the “class size paradox.”\n",
    "\n",
    "At many American colleges and universities, the student-to-faculty ratio is about 10:1. But students are often surprised to discover that their average class size is bigger than 10. There are two reasons for the discrepancy:\n",
    "- Students typically take 4–5 classes per semester, but professors often teach 1 or 2.\n",
    "- The number of students who enjoy a small class is small, but the number of students in a large class is (ahem!) large.\n",
    "\n",
    "The first effect is obvious, at least once it is pointed out; the second is more subtle. Let’s look at an example. Suppose that a college offers 65 classes in a given semester, with the following distribution of sizes:\n",
    "![alt text](notebookpics/classsizes.png \"Title\")"
   ]
  },
  {
   "cell_type": "markdown",
   "metadata": {},
   "source": [
    "If you ask the Dean for the average class size, he would construct a PMF, compute the mean, and report that the average class size is 23.7. Calculate it yoursef given:"
   ]
  },
  {
   "cell_type": "code",
   "execution_count": null,
   "metadata": {},
   "outputs": [],
   "source": [
    "d = { 7: 8, 12: 8, 17: 14, 22: 4, 27: 6, 32: 12, 37: 8, 42: 3, 47: 2}"
   ]
  },
  {
   "cell_type": "code",
   "execution_count": null,
   "metadata": {},
   "outputs": [],
   "source": [
    "def jmean(dict):\n",
    "    sm = 0\n",
    "    for key in dict:\n",
    "        sm += key * dict[key]\n",
    "    return sm/sum(dict.values())"
   ]
  },
  {
   "cell_type": "code",
   "execution_count": null,
   "metadata": {},
   "outputs": [],
   "source": [
    "jmean(d)"
   ]
  },
  {
   "cell_type": "markdown",
   "metadata": {},
   "source": [
    "Plot now this PMF:"
   ]
  },
  {
   "cell_type": "code",
   "execution_count": null,
   "metadata": {
    "scrolled": false
   },
   "outputs": [],
   "source": [
    "#Code it here\n",
    "thinkplot.Pmf(thinkstats2.Pmf(d))"
   ]
  },
  {
   "cell_type": "markdown",
   "metadata": {},
   "source": [
    "But if you survey a group of students, ask them how many students are in their classes, and compute the mean, you would think the average class was bigger. Let’s see how much bigger.\n",
    "\n",
    "Now, compute the distribution as observed by students, where the probability associated with each class size is “biased” by the number of students in the class.\n",
    "\n",
    "Code the Pmf of the class size observed by students. (Hint:For each class size, x, we multiply the probability by x, the number of students who observe that class size.) The result should be a PMF with the biased distribution:"
   ]
  },
  {
   "cell_type": "code",
   "execution_count": null,
   "metadata": {},
   "outputs": [],
   "source": [
    "d = {7: 8, 12: 8, 17: 14, 22: 4, 27: 6, 32: 12, 37: 8, 42: 3, 47: 2}"
   ]
  },
  {
   "cell_type": "code",
   "execution_count": null,
   "metadata": {},
   "outputs": [],
   "source": [
    "sm = []\n",
    "for key in d:\n",
    "    sm += [key]*(d[key]*key)"
   ]
  },
  {
   "cell_type": "code",
   "execution_count": null,
   "metadata": {},
   "outputs": [],
   "source": [
    "import numpy as np"
   ]
  },
  {
   "cell_type": "code",
   "execution_count": null,
   "metadata": {},
   "outputs": [],
   "source": [
    "np.mean(sm)"
   ]
  },
  {
   "cell_type": "code",
   "execution_count": null,
   "metadata": {},
   "outputs": [],
   "source": [
    "#Code it here\n",
    "def jmean2(dict):\n",
    "    sm = 0\n",
    "    for key in dict:\n",
    "        sm += key * dict[key]\n",
    "    return sm/sum(dict.values())"
   ]
  },
  {
   "cell_type": "markdown",
   "metadata": {},
   "source": [
    "Compare this graph with the actual PMF of the class sizes."
   ]
  },
  {
   "cell_type": "code",
   "execution_count": null,
   "metadata": {},
   "outputs": [],
   "source": [
    "#Code it here\n",
    "plt.figure(figsize =(10,7))\n",
    "thinkplot.Pmf(thinkstats2.Pmf(d), label ='class', color='r')\n",
    "thinkplot.Pmf(thinkstats2.Pmf(sm), label ='students')\n",
    "plt.legend()\n",
    "plt.show()"
   ]
  },
  {
   "cell_type": "markdown",
   "metadata": {},
   "source": [
    "It is also possible to invert this operation. Suppose you want to find the distribution of class sizes at a college, but you can’t get reliable data from the Dean. An alternative is to choose a random sample of students and ask how many students are in their classes.\n",
    "\n",
    "The result would be biased for the reasons we’ve just seen, but you can use it to estimate the actual distribution. Here’s the function that unbiases a Pmf:"
   ]
  },
  {
   "cell_type": "code",
   "execution_count": null,
   "metadata": {},
   "outputs": [],
   "source": [
    "def UnbiasPmf(pmf, label):\n",
    "    new_pmf = pmf.Copy(label=label)\n",
    "    for x, p in pmf.Items():\n",
    "        new_pmf.Mult(x, 1.0/x)\n",
    "    new_pmf.Normalize()\n",
    "    return new_pmf"
   ]
  },
  {
   "cell_type": "code",
   "execution_count": null,
   "metadata": {
    "scrolled": true
   },
   "outputs": [],
   "source": [
    "thinkstats2.Pmf(sm)"
   ]
  },
  {
   "cell_type": "code",
   "execution_count": null,
   "metadata": {},
   "outputs": [],
   "source": [
    "thinkstats2.Pmf(d)"
   ]
  },
  {
   "cell_type": "code",
   "execution_count": null,
   "metadata": {},
   "outputs": [],
   "source": [
    "#Code it here\n",
    "UnbiasPmf(thinkstats2.Pmf(sm),'Bias')"
   ]
  },
  {
   "cell_type": "markdown",
   "metadata": {},
   "source": [
    "It’s similar to BiasPmf; the only difference is that it divides each probability by x instead of multiplying."
   ]
  },
  {
   "cell_type": "markdown",
   "metadata": {},
   "source": [
    "## Exercises"
   ]
  },
  {
   "cell_type": "markdown",
   "metadata": {},
   "source": [
    "### 1)\n",
    "Something like the class size paradox appears if you survey children and ask how many children are in their family. Families with many children are more likely to appear in your sample, and families with no children have no chance to be in the sample.\n",
    "\n",
    "Use the NSFG respondent variable `numkdhh` to construct the actual distribution for the number of children under 18 in the respondents' households.\n",
    "\n",
    "Now compute the biased distribution we would see if we surveyed the children and asked them how many children under 18 (including themselves) are in their household.\n",
    "\n",
    "Plot the actual and biased distributions, and compute their means."
   ]
  },
  {
   "cell_type": "code",
   "execution_count": null,
   "metadata": {},
   "outputs": [],
   "source": [
    "# Solution goes here"
   ]
  },
  {
   "cell_type": "markdown",
   "metadata": {},
   "source": [
    "### 2)\n",
    "So far we computed the mean of a sample by adding up the elements and dividing by n. If you are given a PMF, you can still compute the mean, but the process is slightly different:\n",
    "![alt text](notebookpics/pmfmean.png \"Title\")\n",
    "where the x i are the unique values in the PMF and pi = PMF(xi). Similarly, you can compute variance like this:\n",
    "![alt text](notebookpics/pmfvar.png \"Title\")\n",
    "Write functions called PmfMean and PmfVar that take a Pmf object and compute the mean and variance. To test these methods, check that they are consistent with the methods Mean and Var provided by Pmf.\n"
   ]
  },
  {
   "cell_type": "code",
   "execution_count": null,
   "metadata": {},
   "outputs": [],
   "source": [
    "def PmfMean(input_):\n",
    "    pass"
   ]
  },
  {
   "cell_type": "code",
   "execution_count": null,
   "metadata": {},
   "outputs": [],
   "source": [
    "PmfMean(pmf_under_18)"
   ]
  },
  {
   "cell_type": "code",
   "execution_count": null,
   "metadata": {},
   "outputs": [],
   "source": [
    "def PmfVar(input_):\n",
    "    pass"
   ]
  },
  {
   "cell_type": "code",
   "execution_count": null,
   "metadata": {},
   "outputs": [],
   "source": [
    "PmfVar(pmf_under_18)"
   ]
  },
  {
   "cell_type": "markdown",
   "metadata": {},
   "source": [
    "Compare the results with the np.mean and np.var functions to make sure it works"
   ]
  },
  {
   "cell_type": "code",
   "execution_count": null,
   "metadata": {},
   "outputs": [],
   "source": [
    "np.mean(resp['numkdhh'].values)"
   ]
  },
  {
   "cell_type": "code",
   "execution_count": null,
   "metadata": {},
   "outputs": [],
   "source": [
    "np.var(resp['numkdhh'].values)"
   ]
  },
  {
   "cell_type": "markdown",
   "metadata": {},
   "source": [
    "### 3)\n",
    "I started this book with the question, \"Are first babies more likely to be late?\" To address it, I computed the difference in means between groups of babies, but I ignored the possibility that there might be a difference between first babies and others for the same woman.\n",
    "\n",
    "To address this version of the question, select respondents who have at least two live births and compute pairwise differences. Does this formulation of the question yield a different result?\n",
    "\n",
    "Hint: use `nsfg.MakePregMap`:"
   ]
  },
  {
   "cell_type": "code",
   "execution_count": null,
   "metadata": {},
   "outputs": [],
   "source": [
    "# Solution goes here"
   ]
  },
  {
   "cell_type": "markdown",
   "metadata": {},
   "source": [
    "### 4)\n",
    "In most foot races, everyone starts at the same time. If you are a fast runner, you usually pass a lot of people at the beginning of the race, but after a few miles everyone around you is going at the same speed.\n",
    "When I ran a long-distance (209 miles) relay race for the first time, I noticed an odd phenomenon: when I overtook another runner, I was usually much faster, and when another runner overtook me, he was usually much faster.\n",
    "\n",
    "At first I thought that the distribution of speeds might be bimodal; that is, there were many slow runners and many fast runners, but few at my speed.\n",
    "\n",
    "Then I realized that I was the victim of a bias similar to the effect of class size. The race was unusual in two ways: it used a staggered start, so teams started at different times; also, many teams included runners at different levels of ability.\n",
    "\n",
    "As a result, runners were spread out along the course with little relationship between speed and location. When I joined the race, the runners near me were (pretty much) a random sample of the runners in the race.\n",
    "\n",
    "So where does the bias come from? During my time on the course, the chance of overtaking a runner, or being overtaken, is proportional to the difference in our speeds. I am more likely to catch a slow runner, and more likely to be caught by a fast runner. But runners at the same speed are unlikely to see each other.\n",
    "\n",
    "Write a function called `ObservedPmf` that takes a `Pmf` representing the actual distribution of runners’ speeds, and the speed of a running observer, and returns a new `Pmf` representing the distribution of runners’ speeds as seen by the observer.\n",
    "\n",
    "To test your function, you can use `relay.py`, which reads the results from the James Joyce Ramble 10K in Dedham MA and converts the pace of each runner to mph.\n",
    "\n",
    "Compute the distribution of speeds you would observe if you ran a relay race at 7 mph with this group of runners."
   ]
  },
  {
   "cell_type": "code",
   "execution_count": null,
   "metadata": {},
   "outputs": [],
   "source": [
    "import relay\n",
    "\n",
    "results = relay.ReadResults()\n",
    "speeds = relay.GetSpeeds(results)\n",
    "speeds = relay.BinData(speeds, 3, 12, 100)"
   ]
  },
  {
   "cell_type": "code",
   "execution_count": null,
   "metadata": {},
   "outputs": [],
   "source": [
    "pmf = thinkstats2.Pmf(speeds, 'actual speeds')\n",
    "thinkplot.Pmf(pmf)\n",
    "thinkplot.Config(xlabel='Speed (mph)', ylabel='PMF')"
   ]
  },
  {
   "cell_type": "code",
   "execution_count": null,
   "metadata": {},
   "outputs": [],
   "source": [
    "# Solution goes here"
   ]
  },
  {
   "cell_type": "markdown",
   "metadata": {},
   "source": [
    "###### Javier Fernández Suárez"
   ]
  }
 ],
 "metadata": {
  "kernelspec": {
   "display_name": "Python 3",
   "language": "python",
   "name": "python3"
  },
  "language_info": {
   "codemirror_mode": {
    "name": "ipython",
    "version": 3
   },
   "file_extension": ".py",
   "mimetype": "text/x-python",
   "name": "python",
   "nbconvert_exporter": "python",
   "pygments_lexer": "ipython3",
   "version": "3.6.6"
  }
 },
 "nbformat": 4,
 "nbformat_minor": 2
}
