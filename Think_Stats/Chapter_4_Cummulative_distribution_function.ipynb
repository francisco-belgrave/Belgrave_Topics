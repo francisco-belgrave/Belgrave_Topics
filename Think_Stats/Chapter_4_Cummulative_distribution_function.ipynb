{
 "cells": [
  {
   "cell_type": "markdown",
   "metadata": {},
   "source": [
<<<<<<< HEAD:Think_Stats/modulis/Chapter_4_Cummulative_distribution_function.ipynb
    "# Chapter 4 Cumulative distribution function"
=======
    "# Chapter 3 Cummulative distribution function"
>>>>>>> c73052f3f97e58dcdd195f69693d9d901928b7ff:Think_Stats/Chapter_4_Cummulative_distribution_function.ipynb
   ]
  },
  {
   "cell_type": "markdown",
   "metadata": {},
   "source": [
    "## The limits of PMFs"
   ]
  },
  {
   "cell_type": "markdown",
   "metadata": {},
   "source": [
    "PMFs work well if the number of values is small. But as the number of values increases, the probability associated with each value gets smaller and the effect of random noise increases.\n",
    "\n",
    "For example, we might be interested in the distribution of birth weights. In the NSFG data, the variable totalwgt_lb records weight at birth in pounds.\n",
    "\n",
    "Create 2 PMF comparing the values of first childs and the non-first childs:"
   ]
  },
  {
   "cell_type": "code",
   "execution_count": 3,
   "metadata": {},
   "outputs": [],
   "source": []
  },
  {
   "cell_type": "code",
   "execution_count": 4,
   "metadata": {},
   "outputs": [],
   "source": []
  },
  {
   "cell_type": "markdown",
   "metadata": {},
   "source": [
    "Overall, these distributions resemble the bell shape of a normal distribution, with many values near the mean and a few values much higher and lower.\n",
    "\n",
    "But parts of this figure are hard to interpret. There are many spikes and valleys, and some apparent differences between the distributions. It is hard to tell which of these features are meaningful. Also, it is hard to see overall patterns; for example, which distribution do you think has the higher mean?\n",
    "\n",
    "These problems can be mitigated by binning the data; that is, dividing the range of values into non-overlapping intervals and counting the number of values in each bin. Binning can be useful, but it is tricky to get the size of\n",
    "the bins right. If they are big enough to smooth out noise, they might also smooth out useful information.\n",
    "\n",
    "An alternative that avoids these problems is the cumulative distribution function (CDF), which is the subject of this chapter. But before I can explain CDFs, We need to understand percentiles."
   ]
  },
  {
   "cell_type": "markdown",
   "metadata": {},
   "source": [
    "## Percentiles"
   ]
  },
  {
   "cell_type": "markdown",
   "metadata": {},
   "source": [
    "If you have taken a standardized test, you probably got your results in the form of a raw score and a percentile rank. In this context, the **percentile rank** is the fraction of people who scored lower than you (or the same). So if you are “in the 90th percentile,” you did as well as or better than 90% of\n",
    "the people who took the exam.\n",
    "\n",
    "Compute the percentile rank of a value, your_score, relative to the values in the sequence scores:"
   ]
  },
  {
   "cell_type": "code",
   "execution_count": 6,
   "metadata": {},
   "outputs": [],
   "source": [
    "your_score = 88\n",
    "scores = [55, 66, 77, 88, 99,99]"
   ]
  },
  {
   "cell_type": "code",
   "execution_count": 7,
   "metadata": {},
   "outputs": [],
   "source": []
  },
  {
   "cell_type": "code",
   "execution_count": null,
   "metadata": {},
   "outputs": [],
   "source": []
  },
  {
   "cell_type": "markdown",
   "metadata": {},
   "source": [
    "If you are given a value, it is easy to find its percentile rank; going the other way is slightly harder. If you are given a percentile rank and you want to find the corresponding value, one option is to sort the values and search for the one you want.\n",
    "\n",
    "What is the 50th percentile value of the list above?\n"
   ]
  },
  {
   "cell_type": "code",
   "execution_count": 1,
   "metadata": {},
   "outputs": [],
   "source": [
    "# Code it here\n"
   ]
  },
  {
   "cell_type": "markdown",
   "metadata": {},
   "source": [
    "The difference between “percentile” and “percentile rank” can be confusing, and people do not always use the terms precisely. To summarize, PercentileRank takes a value and computes its percentile rank in a set of values; Percentile takes a percentile rank and computes the corresponding value."
   ]
  },
  {
   "cell_type": "markdown",
   "metadata": {},
   "source": [
    "## CDFs"
   ]
  },
  {
   "cell_type": "markdown",
   "metadata": {},
   "source": [
    "Now that we understand percentiles and percentile ranks, we are ready to tackle the **cumulative distribution function** (CDF). The CDF is the function that maps from a value to its percentile rank.\n",
    "\n",
    "The CDF is a function of x, where x is any value that might appear in the distribution. To evaluate CDF(x) for a particular value of x, we compute the fraction of values in the distribution less than or equal to x.\n",
    "\n",
    "Calculate a dictionary with the CDF values of the list [1, 2, 2, 3, 5]\n",
    "\n",
    "We nee to calcula the CDF for any value of x, not just values that appear in the sample. If x is less than the smallest value in the sample, CDF(x) is 0.\n",
    "\n",
    "Hint: The function is almost identical to PercentileRank, except that the result is a probability in the range 0–1 rather than a percentile rank in the range 0–100.\n"
   ]
  },
  {
   "cell_type": "code",
   "execution_count": 2,
   "metadata": {},
   "outputs": [],
   "source": [
    "# Code it here\n"
   ]
  },
  {
   "cell_type": "code",
   "execution_count": null,
   "metadata": {},
   "outputs": [],
   "source": []
  },
  {
   "cell_type": "markdown",
   "metadata": {},
   "source": [
    "## Representing CDFs\n",
    "\n",
    "Plot the CDF from the list above:\n",
    "\n",
    "- from the dictionary created above\n",
    "- from the initial list creating a series and using the method: series.hist(cumulative=True, density=1, bins=100)\n"
   ]
  },
  {
   "cell_type": "code",
   "execution_count": null,
   "metadata": {},
   "outputs": [],
   "source": []
  },
  {
   "cell_type": "code",
   "execution_count": 3,
   "metadata": {},
   "outputs": [],
   "source": [
    "# Code it here\n"
   ]
  },
  {
   "cell_type": "code",
   "execution_count": 16,
   "metadata": {},
   "outputs": [
    {
     "data": {
      "text/plain": [
       "<matplotlib.axes._subplots.AxesSubplot at 0x7f212dc977f0>"
      ]
     },
     "execution_count": 16,
     "metadata": {},
     "output_type": "execute_result"
    },
    {
     "data": {
      "image/png": "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\n",
      "text/plain": [
       "<Figure size 432x288 with 1 Axes>"
      ]
     },
     "metadata": {},
     "output_type": "display_data"
    }
   ],
   "source": [
    "first_weight.hist(cumulative = True, density = 1, bins = 100)"
   ]
  },
  {
   "cell_type": "markdown",
   "metadata": {},
   "source": [
    "Calculate and plot the CDF of pregnancy length:"
   ]
  },
  {
   "cell_type": "code",
   "execution_count": 4,
   "metadata": {},
   "outputs": [],
   "source": [
    "# Code it here"
   ]
  },
  {
   "cell_type": "markdown",
   "metadata": {},
   "source": [
    "Compare your results with the graph calculated with the thinkstats2 PMF class"
   ]
  },
  {
   "cell_type": "code",
   "execution_count": 18,
   "metadata": {},
   "outputs": [
    {
     "ename": "NameError",
     "evalue": "name 'live' is not defined",
     "output_type": "error",
     "traceback": [
      "\u001b[0;31m---------------------------------------------------------------------------\u001b[0m",
      "\u001b[0;31mNameError\u001b[0m                                 Traceback (most recent call last)",
      "\u001b[0;32m<ipython-input-18-989b4ce3df0f>\u001b[0m in \u001b[0;36m<module>\u001b[0;34m()\u001b[0m\n\u001b[1;32m      1\u001b[0m \u001b[0;34m\u001b[0m\u001b[0m\n\u001b[0;32m----> 2\u001b[0;31m \u001b[0mcdf\u001b[0m \u001b[0;34m=\u001b[0m \u001b[0mthinkstats2\u001b[0m\u001b[0;34m.\u001b[0m\u001b[0mCdf\u001b[0m\u001b[0;34m(\u001b[0m\u001b[0mlive\u001b[0m\u001b[0;34m.\u001b[0m\u001b[0mprglngth\u001b[0m\u001b[0;34m,\u001b[0m \u001b[0mlabel\u001b[0m\u001b[0;34m=\u001b[0m\u001b[0;34m'prglngth'\u001b[0m\u001b[0;34m)\u001b[0m\u001b[0;34m\u001b[0m\u001b[0m\n\u001b[0m\u001b[1;32m      3\u001b[0m \u001b[0mthinkplot\u001b[0m\u001b[0;34m.\u001b[0m\u001b[0mCdf\u001b[0m\u001b[0;34m(\u001b[0m\u001b[0mcdf\u001b[0m\u001b[0;34m)\u001b[0m\u001b[0;34m\u001b[0m\u001b[0m\n\u001b[1;32m      4\u001b[0m \u001b[0mthinkplot\u001b[0m\u001b[0;34m.\u001b[0m\u001b[0mShow\u001b[0m\u001b[0;34m(\u001b[0m\u001b[0mxlabel\u001b[0m\u001b[0;34m=\u001b[0m\u001b[0;34m'weeks'\u001b[0m\u001b[0;34m,\u001b[0m \u001b[0mylabel\u001b[0m\u001b[0;34m=\u001b[0m\u001b[0;34m'CDF'\u001b[0m\u001b[0;34m)\u001b[0m\u001b[0;34m\u001b[0m\u001b[0m\n",
      "\u001b[0;31mNameError\u001b[0m: name 'live' is not defined"
     ]
    }
   ],
   "source": [
    "\n",
    "cdf = thinkstats2.Cdf(live.prglngth, label='prglngth')\n",
    "thinkplot.Cdf(cdf)\n",
    "thinkplot.Show(xlabel='weeks', ylabel='CDF')"
   ]
  },
  {
   "cell_type": "markdown",
   "metadata": {},
   "source": [
    "## Comparing CDFs\n",
    "\n",
    "CDFs are especially useful for comparing distributions.Plot and compare the CDF of birth weight for first babies and others."
   ]
  },
  {
   "cell_type": "code",
   "execution_count": null,
   "metadata": {},
   "outputs": [],
   "source": []
  },
  {
   "cell_type": "markdown",
   "metadata": {},
   "source": [
    "## Percentile-based statistics\n",
    "\n",
    "Once you have computed a CDF, it is easy to compute percentiles and percentile ranks. The Cdf class provides these two methods:\n",
    "\n",
    "- PercentileRank(x): Given a value x, computes its percentile rank, 100 · CDF(x).\n",
    "- Percentile(p): Given a percentile rank p, computes the corresponding value, x. Equivalent to Value(p/100).\n",
    "\n",
    "Try them:"
   ]
  },
  {
   "cell_type": "code",
   "execution_count": 5,
   "metadata": {
    "scrolled": true
   },
   "outputs": [],
   "source": [
    "# Code it here\n"
   ]
  },
  {
   "cell_type": "code",
   "execution_count": null,
   "metadata": {},
   "outputs": [],
   "source": []
  },
  {
   "cell_type": "markdown",
   "metadata": {},
   "source": [
    "**Percentile** can be used to compute percentile-based summary statistics. For example, the 50th percentile is the value that divides the distribution in half, also known as the **median**. Like the mean, the median is a measure of\n",
    "the central tendency of a distribution.\n",
    "\n",
    "Actually, there are several definitions of “median,” each with different properties. But Percentile(50) is simple and efficient to compute.\n",
    "\n",
    "Another percentile-based statistic is the interquartile range (IQR), which is a measure of the spread of a distribution. The IQR is the difference between the 75th and 25th percentiles.\n",
    "\n",
    "More generally, percentiles are often used to summarize the shape of a distribution. For example, the distribution of income is often reported in “quintiles”; that is, it is split at the 20th, 40th, 60th and 80th percentiles. Other distributions are divided into ten “deciles”. Statistics like these that represent equally-spaced points in a CDF are called quantiles."
   ]
  },
  {
   "cell_type": "markdown",
   "metadata": {},
   "source": [
    "## Random Numbers\n",
    "\n",
    "Suppose we choose a random sample from the population of live births and look up the percentile rank of their birth weights. Now suppose we compute the CDF of the percentile ranks. What do you think the distribution will\n",
    "look like?"
   ]
  },
  {
   "cell_type": "markdown",
   "metadata": {},
   "source": [
    "**Answer**:"
   ]
  },
  {
   "cell_type": "markdown",
   "metadata": {},
   "source": [
    "Here’s how we can compute it. First, we make the Cdf of birth weights:"
   ]
  },
  {
   "cell_type": "code",
   "execution_count": 26,
   "metadata": {},
   "outputs": [],
   "source": [
    "live = data[data['outcome']==1]"
   ]
  },
  {
   "cell_type": "code",
   "execution_count": 27,
   "metadata": {},
   "outputs": [],
   "source": [
    "weights = live.totalwgt_lb\n",
    "cdf = thinkstats2.Cdf(weights, label='totalwgt_lb')"
   ]
  },
  {
   "cell_type": "markdown",
   "metadata": {},
   "source": [
    "Then we generate a sample and compute the percentile rank of each value in the sample."
   ]
  },
  {
   "cell_type": "code",
   "execution_count": 28,
   "metadata": {},
   "outputs": [],
   "source": [
    "sample = np.random.choice(weights, 100, replace=True)\n",
    "ranks = [cdf.PercentileRank(x) for x in sample]"
   ]
  },
  {
   "cell_type": "markdown",
   "metadata": {},
   "source": [
    "sample is a random sample of 100 birth weights, chosen with **replacement**; that is, the same value could be chosen more than once. ranks is a list of percentile ranks.\n",
    "Finally we make and plot the Cdf of the percentile ranks."
   ]
  },
  {
   "cell_type": "code",
   "execution_count": 6,
   "metadata": {},
   "outputs": [
    {
     "ename": "NameError",
     "evalue": "name 'thinkstats2' is not defined",
     "output_type": "error",
     "traceback": [
      "\u001b[0;31m---------------------------------------------------------------------------\u001b[0m",
      "\u001b[0;31mNameError\u001b[0m                                 Traceback (most recent call last)",
      "\u001b[0;32m<ipython-input-6-7b0b7f38644e>\u001b[0m in \u001b[0;36m<module>\u001b[0;34m()\u001b[0m\n\u001b[0;32m----> 1\u001b[0;31m \u001b[0mrank_cdf\u001b[0m \u001b[0;34m=\u001b[0m \u001b[0mthinkstats2\u001b[0m\u001b[0;34m.\u001b[0m\u001b[0mCdf\u001b[0m\u001b[0;34m(\u001b[0m\u001b[0mranks\u001b[0m\u001b[0;34m)\u001b[0m\u001b[0;34m\u001b[0m\u001b[0m\n\u001b[0m\u001b[1;32m      2\u001b[0m \u001b[0mthinkplot\u001b[0m\u001b[0;34m.\u001b[0m\u001b[0mCdf\u001b[0m\u001b[0;34m(\u001b[0m\u001b[0mrank_cdf\u001b[0m\u001b[0;34m)\u001b[0m\u001b[0;34m\u001b[0m\u001b[0m\n\u001b[1;32m      3\u001b[0m \u001b[0mthinkplot\u001b[0m\u001b[0;34m.\u001b[0m\u001b[0mShow\u001b[0m\u001b[0;34m(\u001b[0m\u001b[0mxlabel\u001b[0m\u001b[0;34m=\u001b[0m\u001b[0;34m'percentile rank'\u001b[0m\u001b[0;34m,\u001b[0m \u001b[0mylabel\u001b[0m\u001b[0;34m=\u001b[0m\u001b[0;34m'CDF'\u001b[0m\u001b[0;34m)\u001b[0m\u001b[0;34m\u001b[0m\u001b[0m\n",
      "\u001b[0;31mNameError\u001b[0m: name 'thinkstats2' is not defined"
     ]
    }
   ],
   "source": [
    "rank_cdf = thinkstats2.Cdf(ranks)\n",
    "thinkplot.Cdf(rank_cdf)\n",
    "thinkplot.Show(xlabel='percentile rank', ylabel='CDF')"
   ]
  },
  {
   "cell_type": "markdown",
   "metadata": {},
   "source": [
    "That outcome might be non-obvious, but it is a consequence of the way the CDF is defined. What this figure shows is that 10% of the sample is below the 10th percentile, 20% is below the 20th percentile, and so on, exactly as we should expect.\n",
    "\n",
    "So, regardless of the shape of the CDF, the distribution of percentile ranks is uniform. This property is useful, because it is the basis of a simple and efficient algorithm for generating random numbers with a given CDF. Here’s\n",
    "how:\n",
    "\n",
    "- Choose a percentile rank uniformly from the range 0–100.\n",
    "- Use Cdf.Percentile to find the value in the distribution that corresponds to the percentile rank you chose.\n",
    "\n",
    "Cdf provides an implementation of this algorithm, called Random.\n",
    "\n",
    "Cdf also provides Sample, which takes an integer, n, and returns a list of n values chosen at random from the Cdf.\n",
    "\n",
    "Try them:"
   ]
  },
  {
   "cell_type": "code",
   "execution_count": 7,
   "metadata": {},
   "outputs": [],
   "source": [
    "# Code it here"
   ]
  },
  {
   "cell_type": "markdown",
   "metadata": {},
   "source": [
    "## Comparing percentile ranks\n",
    "\n",
    "Percentile ranks are useful for comparing measurements across different groups. For example, people who compete in foot races are usually grouped by age and gender. To compare people in different age groups, you can convert race times to percentile ranks.\n",
    "\n",
    "Given position and a number of babies, how will you compute the percentile rank of a baby:"
   ]
  },
  {
   "cell_type": "code",
   "execution_count": 8,
   "metadata": {},
   "outputs": [],
   "source": [
    "# Code it here\n"
   ]
  },
  {
   "cell_type": "code",
   "execution_count": 66,
   "metadata": {},
   "outputs": [
    {
     "data": {
      "text/plain": [
       "0.9064128710627691"
      ]
     },
     "execution_count": 66,
     "metadata": {},
     "output_type": "execute_result"
    }
   ],
   "source": [
    "percentile_rank_pos_weigth(4000, weight_list_first)"
   ]
  },
  {
   "cell_type": "code",
   "execution_count": 104,
   "metadata": {},
   "outputs": [],
   "source": [
    "def pos_weigt(wei, weight_list):\n",
    "    weight_list.dropna(inplace = True)\n",
    "    list(weight_list).sort()\n",
    "    lower=[]\n",
    "    for i in weight_list:\n",
    "        if i< wei:\n",
    "            lower.append(i)\n",
    "    return len(lower) / len(weight_list)"
   ]
  },
  {
   "cell_type": "code",
   "execution_count": 106,
   "metadata": {},
   "outputs": [
    {
     "name": "stderr",
     "output_type": "stream",
     "text": [
      "/home/carlos/.local/lib/python3.5/site-packages/pandas/core/series.py:3893: SettingWithCopyWarning: \n",
      "A value is trying to be set on a copy of a slice from a DataFrame\n",
      "\n",
      "See the caveats in the documentation: http://pandas.pydata.org/pandas-docs/stable/indexing.html#indexing-view-versus-copy\n",
      "  self._update_inplace(result)\n"
     ]
    },
    {
     "data": {
      "text/plain": [
       "0.8464359385743754"
      ]
     },
     "execution_count": 106,
     "metadata": {},
     "output_type": "execute_result"
    }
   ],
   "source": [
    "pos_weigt(8.5, first_weight)"
   ]
  },
  {
   "cell_type": "code",
   "execution_count": 107,
   "metadata": {},
   "outputs": [],
   "source": [
    "def percent(position, length):\n",
    "    return position / len(length)"
   ]
  },
  {
   "cell_type": "markdown",
   "metadata": {},
   "source": [
    "In the group of babies first babies what is 15 weigh percentile rank."
   ]
  },
  {
   "cell_type": "code",
   "execution_count": null,
   "metadata": {},
   "outputs": [],
   "source": [
    "# Code it here\n",
    "pos_weigt(15, weight_list_first\n",
    "         )"
   ]
  },
  {
   "cell_type": "markdown",
   "metadata": {},
   "source": [
    "What is the weight of a second baby in the percentile rank 90"
   ]
  },
  {
   "cell_type": "code",
   "execution_count": null,
   "metadata": {},
   "outputs": [],
   "source": [
    "percentile_rank_pos_weigth(2,weight_list_first)"
   ]
  },
  {
   "cell_type": "markdown",
   "metadata": {},
   "source": [
    "## Exercises"
   ]
  },
  {
   "cell_type": "markdown",
   "metadata": {
    "collapsed": true
   },
   "source": [
    "**Exercise:** How much did you weigh at birth? If you don’t know, call your mother or someone else who knows. Using the NSFG data (all live births), compute the distribution of birth weights and use it to find your percentile rank. If you were a first baby, find your percentile rank in the distribution for first babies. Otherwise use the distribution for others. If you are in the 90th percentile or higher, call your mother back and apologize."
   ]
  },
  {
   "cell_type": "code",
   "execution_count": 108,
   "metadata": {},
   "outputs": [
    {
     "name": "stderr",
     "output_type": "stream",
     "text": [
      "/home/carlos/.local/lib/python3.5/site-packages/pandas/core/series.py:3893: SettingWithCopyWarning: \n",
      "A value is trying to be set on a copy of a slice from a DataFrame\n",
      "\n",
      "See the caveats in the documentation: http://pandas.pydata.org/pandas-docs/stable/indexing.html#indexing-view-versus-copy\n",
      "  self._update_inplace(result)\n"
     ]
    },
    {
     "data": {
      "text/plain": [
       "0.4570249828099931"
      ]
     },
     "execution_count": 108,
     "metadata": {},
     "output_type": "execute_result"
    }
   ],
   "source": [
    "# Solution goes here\n",
    "pos_weigt(7.16, first_weight)"
   ]
  },
  {
   "cell_type": "markdown",
   "metadata": {
    "collapsed": true
   },
   "source": [
    "**Exercise:** The numbers generated by `numpy.random.random` are supposed to be uniform between 0 and 1; that is, every value in the range should have the same probability.\n",
    "\n",
    "Generate 1000 numbers from `numpy.random.random` and plot their PMF.  What goes wrong?\n",
    "\n",
    "Now plot the CDF. Is the distribution uniform?"
   ]
  },
  {
   "cell_type": "code",
   "execution_count": 109,
   "metadata": {},
   "outputs": [
    {
     "data": {
      "image/png": "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\n",
      "text/plain": [
       "<Figure size 432x288 with 1 Axes>"
      ]
     },
     "metadata": {},
     "output_type": "display_data"
    }
   ],
   "source": [
    "# Solution goes here\n",
    "random_1000= np.random.random(1000)\n",
    "\n",
    "random_pmf = thinkstats2.Pmf(random_1000)\n",
    "\n",
    "thinkplot.Hist(random_pmf, width=1)"
   ]
  },
  {
   "cell_type": "code",
   "execution_count": 110,
   "metadata": {},
   "outputs": [
    {
     "data": {
      "text/plain": [
       "(array([0.108, 0.204, 0.293, 0.385, 0.498, 0.609, 0.69 , 0.788, 0.898,\n",
       "        1.   ]),\n",
       " array([7.41688005e-04, 1.00644902e-01, 2.00548115e-01, 3.00451329e-01,\n",
       "        4.00354542e-01, 5.00257756e-01, 6.00160969e-01, 7.00064183e-01,\n",
       "        7.99967396e-01, 8.99870610e-01, 9.99773823e-01]),\n",
       " <a list of 10 Patch objects>)"
      ]
     },
     "execution_count": 110,
     "metadata": {},
     "output_type": "execute_result"
    },
    {
     "data": {
      "image/png": "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\n",
      "text/plain": [
       "<Figure size 432x288 with 1 Axes>"
      ]
     },
     "metadata": {},
     "output_type": "display_data"
    }
   ],
   "source": [
    "# Solution goes here\n",
    "plt.hist(random_1000, cumulative = True, density = 1)"
   ]
  },
  {
   "cell_type": "code",
   "execution_count": null,
   "metadata": {},
   "outputs": [],
   "source": [
    "# Solution goes here"
   ]
  }
 ],
 "metadata": {
  "kernelspec": {
   "display_name": "Python 3",
   "language": "python",
   "name": "python3"
  },
  "language_info": {
   "codemirror_mode": {
    "name": "ipython",
    "version": 3
   },
   "file_extension": ".py",
   "mimetype": "text/x-python",
   "name": "python",
   "nbconvert_exporter": "python",
   "pygments_lexer": "ipython3",
   "version": "3.5.2"
  }
 },
 "nbformat": 4,
 "nbformat_minor": 2
}
