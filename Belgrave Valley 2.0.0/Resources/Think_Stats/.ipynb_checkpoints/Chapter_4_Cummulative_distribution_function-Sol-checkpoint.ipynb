{
 "cells": [
  {
   "cell_type": "markdown",
   "metadata": {},
   "source": [
    "# Chapter 4 Cummulative distribution function"
   ]
  },
  {
   "cell_type": "markdown",
   "metadata": {},
   "source": [
    "## The limits of PMFs"
   ]
  },
  {
   "cell_type": "markdown",
   "metadata": {},
   "source": [
    "PMFs work well if the number of values is small. But as the number of values increases, the probability associated with each value gets smaller and the effect of random noise increases.\n",
    "\n",
    "For example, we might be interested in the distribution of birth weights. In the NSFG data, the variable `totalwgt_lb` records weight at birth in pounds.\n",
    "\n",
    "Create 2 PMF comparing this values between `first_babies` and `others`:"
   ]
  },
  {
   "cell_type": "code",
   "execution_count": 1,
   "metadata": {},
   "outputs": [
    {
     "name": "stderr",
     "output_type": "stream",
     "text": [
      "/home/javi/.local/lib/python3.6/site-packages/matplotlib/__init__.py:886: MatplotlibDeprecationWarning: \n",
      "examples.directory is deprecated; in the future, examples will be found relative to the 'datapath' directory.\n",
      "  \"found relative to the 'datapath' directory.\".format(key))\n"
     ]
    }
   ],
   "source": [
    "import seaborn as sns\n",
    "import numpy as np\n",
    "import matplotlib.pyplot as plt\n",
    "import thinkplot\n",
    "import thinkstats2\n",
    "import nsfg\n",
    "import pandas as pd\n",
    "%matplotlib inline"
   ]
  },
  {
   "cell_type": "code",
   "execution_count": 2,
   "metadata": {},
   "outputs": [],
   "source": [
    "preg = nsfg.ReadFemPreg(dct_file='../Think_Stats/Thinkstats2/2002FemPreg.dct',\n",
    "                      dat_file='Thinkstats2/2002FemPreg.dat.gz',\n",
    "                       clean = True)\n",
    "\n",
    "preg1 = preg[(preg['birthord'] == 1) & (preg['outcome'] == 1)]\n",
    "preg2 = preg[(preg['birthord'] != 1) & (preg['outcome'] == 1)]"
   ]
  },
  {
   "cell_type": "markdown",
   "metadata": {},
   "source": [
    "Compute the PMFs with the `thinkstats2` method `.Pmf()`:"
   ]
  },
  {
   "cell_type": "code",
   "execution_count": 3,
   "metadata": {},
   "outputs": [],
   "source": [
    "pmf1 = thinkstats2.Pmf(preg1['totalwgt_lb'])\n",
    "# print(pmf1)\n",
    "pmf2 = thinkstats2.Pmf(preg2['totalwgt_lb'])\n",
    "# print(pmf2)"
   ]
  },
  {
   "cell_type": "markdown",
   "metadata": {},
   "source": [
    "Plot them with `thinkplot.Hist()`:"
   ]
  },
  {
   "cell_type": "code",
   "execution_count": 4,
   "metadata": {
    "scrolled": false
   },
   "outputs": [
    {
     "data": {
      "image/png": "[encoded data removed]",
      "text/plain": [
       "<Figure size 1080x720 with 1 Axes>"
      ]
     },
     "metadata": {
      "needs_background": "light"
     },
     "output_type": "display_data"
    }
   ],
   "source": [
    "plt.figure(figsize = (15,10))\n",
    "thinkplot.Hist(pmf1)\n",
    "thinkplot.Hist(pmf2, color = 'r', alpha = 0.5)"
   ]
  },
  {
   "cell_type": "markdown",
   "metadata": {},
   "source": [
    "Overall, these distributions resemble the bell shape of a normal distribution, with many values near the mean and a few values much higher and lower.\n",
    "\n",
    "But parts of this figure are hard to interpret. There are many spikes and valleys, and some apparent differences between the distributions. It is hard to tell which of these features are meaningful. Also, it is hard to see overall patterns; for example, which distribution do you think has the higher mean?\n",
    "\n",
    "These problems can be mitigated by binning the data; that is, dividing the range of values into non-overlapping intervals and counting the number of values in each bin. Binning can be useful, but it is tricky to get the size of\n",
    "the bins right. If they are big enough to smooth out noise, they might also smooth out useful information.\n",
    "\n",
    "An alternative that avoids these problems is the cumulative distribution function (CDF), which is the subject of this chapter. But before I can explain CDFs, We need to understand percentiles."
   ]
  },
  {
   "cell_type": "markdown",
   "metadata": {},
   "source": [
    "## Percentiles"
   ]
  },
  {
   "cell_type": "markdown",
   "metadata": {},
   "source": [
    "If you have taken a standardized test, you probably got your results in the form of a raw score and a percentile rank. In this context, the **percentile rank** is the fraction of people who scored lower than you (or the same). So if you are “in the 90th percentile,” you did as well as or better than 90% of\n",
    "the people who took the exam.\n",
    "\n",
    "Compute the percentile rank of a value, `your_score`, relative to the values in the sequence scores. To do so create a function call `percentile_rank()`:"
   ]
  },
  {
   "cell_type": "code",
   "execution_count": 5,
   "metadata": {},
   "outputs": [],
   "source": [
    "your_score = 88\n",
    "scores = [55, 66, 77, 88, 99]"
   ]
  },
  {
   "cell_type": "code",
   "execution_count": 6,
   "metadata": {},
   "outputs": [
    {
     "data": {
      "text/plain": [
       "80.0"
      ]
     },
     "execution_count": 6,
     "metadata": {},
     "output_type": "execute_result"
    }
   ],
   "source": [
    "def percentile_rank(list, number):\n",
    "    ind = 0\n",
    "    for element in list:\n",
    "        if element <= number:\n",
    "                ind += 1\n",
    "    return (ind/len(list))*100\n",
    "\n",
    "percentile_rank(scores, your_score)"
   ]
  },
  {
   "cell_type": "markdown",
   "metadata": {},
   "source": [
    "If you are given a value, it is easy to find its percentile rank; going the other way is slightly harder. If you are given a percentile rank and you want to find the corresponding value, one option is to sort the values and search for the one you want.\n",
    "\n",
    "What is the 50th percentile value of the list above? To do so create a function call `percentile()`:\n"
   ]
  },
  {
   "cell_type": "code",
   "execution_count": 7,
   "metadata": {},
   "outputs": [],
   "source": [
    "scores = [55, 88, 66, 77, 88, 99]"
   ]
  },
  {
   "cell_type": "code",
   "execution_count": 8,
   "metadata": {},
   "outputs": [
    {
     "data": {
      "text/plain": [
       "66"
      ]
     },
     "execution_count": 8,
     "metadata": {},
     "output_type": "execute_result"
    }
   ],
   "source": [
    "def percentile(list1, percent):\n",
    "    list1.sort()\n",
    "    for element in list1:\n",
    "        if percentile_rank(list1, element) >= percent:\n",
    "            return element\n",
    "\n",
    "percentile(scores, 20)"
   ]
  },
  {
   "cell_type": "markdown",
   "metadata": {},
   "source": [
    "The difference between “percentile” and “percentile rank” can be confusing, and people do not always use the terms precisely. To summarize, `percentile_rank()` takes a value and computes its percentile rank in a set of values; `percentile()` takes a percentile rank and computes the corresponding value."
   ]
  },
  {
   "cell_type": "markdown",
   "metadata": {},
   "source": [
    "## CDFs"
   ]
  },
  {
   "cell_type": "markdown",
   "metadata": {},
   "source": [
    "Now that we understand percentiles and percentile ranks, we are ready to tackle the **cumulative distribution function** (CDF). The CDF is the function that maps from a value to its percentile rank.\n",
    "\n",
    "The CDF is a function of x, where x is any value that might appear in the distribution. To evaluate CDF(x) for a particular value of x, we compute the fraction of values in the distribution less than or equal to x.\n",
    "\n",
    "Calculate a dictionary with the CDF values of the list [1, 2, 2, 3, 5]\n",
    "\n",
    "We need to calculate the CDF for any value of x, not just values that appear in the sample. If x is less than the smallest value in the sample, CDF(x) is 0.\n",
    "\n",
    "Hint: The function is almost identical to `percentile_rank()`, except that the result is a probability in the range 0–1 rather than a percentile rank in the range 0–100."
   ]
  },
  {
   "cell_type": "code",
   "execution_count": 9,
   "metadata": {},
   "outputs": [
    {
     "data": {
      "text/plain": [
       "{0: 0, 1: 0.2, 2: 0.6, 3: 0.8, 5: 1.0}"
      ]
     },
     "execution_count": 9,
     "metadata": {},
     "output_type": "execute_result"
    }
   ],
   "source": [
    "# Not perfect solution by Tabixe, also know as Javier Fernandez Suarez\n",
    "numbers = [1, 2, 2, 3, 5]\n",
    "def cdf(list):\n",
    "    cdf = {}\n",
    "    cdf[0] = 0\n",
    "    for n in list:\n",
    "        cdf[n] = percentile_rank(list, n)/100\n",
    "    return cdf\n",
    "\n",
    "cdf(numbers)"
   ]
  },
  {
   "cell_type": "code",
   "execution_count": 30,
   "metadata": {},
   "outputs": [
    {
     "data": {
      "text/plain": [
       "0.01"
      ]
     },
     "execution_count": 30,
     "metadata": {},
     "output_type": "execute_result"
    }
   ],
   "source": [
    "def EvalCdf(numbers, x):\n",
    "    count = 0.0\n",
    "    for value in sample:\n",
    "        if value <= x:\n",
    "            count += 1\n",
    "    prob = count / len(sample)\n",
    "    return prob\n",
    "\n",
    "EvalCdf(numbers, 2)"
   ]
  },
  {
   "cell_type": "markdown",
   "metadata": {},
   "source": [
    "## Representing CDFs\n",
    "\n",
    "Plot the CDF from the list above:\n",
    "\n",
    "- from the dictionary created above\n",
    "- from the initial list creating a series and using the method: `ser.hist(cumulative=True, density=1, bins=100)`\n"
   ]
  },
  {
   "cell_type": "code",
   "execution_count": 11,
   "metadata": {
    "scrolled": false
   },
   "outputs": [
    {
     "data": {
      "image/png": "[encoded data removed]",
      "text/plain": [
       "<Figure size 1080x504 with 1 Axes>"
      ]
     },
     "metadata": {
      "needs_background": "light"
     },
     "output_type": "display_data"
    }
   ],
   "source": [
    "plt.figure(figsize = (15,7))\n",
    "plt.bar(list(cdf(numbers).keys()), list(cdf(numbers).values()))\n",
    "plt.show()"
   ]
  },
  {
   "cell_type": "code",
   "execution_count": 12,
   "metadata": {},
   "outputs": [
    {
     "data": {
      "image/png": "[encoded data removed]",
      "text/plain": [
       "<Figure size 1080x504 with 1 Axes>"
      ]
     },
     "metadata": {
      "needs_background": "light"
     },
     "output_type": "display_data"
    }
   ],
   "source": [
    "numbers_serie = pd.Series(numbers)\n",
    "\n",
    "plt.figure(figsize = (15,7))\n",
    "numbers_serie.hist(cumulative = True, density = 1, bins = 100)\n",
    "plt.show()"
   ]
  },
  {
   "cell_type": "markdown",
   "metadata": {},
   "source": [
    "Calculate and plot the CDF of `pregnancy length`:"
   ]
  },
  {
   "cell_type": "code",
   "execution_count": 13,
   "metadata": {},
   "outputs": [
    {
     "data": {
      "image/png": "[encoded data removed]",
      "text/plain": [
       "<Figure size 1080x504 with 1 Axes>"
      ]
     },
     "metadata": {
      "needs_background": "light"
     },
     "output_type": "display_data"
    }
   ],
   "source": [
    "plt.figure(figsize = (15,7))\n",
    "preg['prglngth'].hist(cumulative = True, density = 1, bins = 100)\n",
    "plt.show()"
   ]
  },
  {
   "cell_type": "markdown",
   "metadata": {},
   "source": [
    "In the same graph, plot the CDF of of `pregnancy length` for `first_babies` and `others`:"
   ]
  },
  {
   "cell_type": "code",
   "execution_count": 14,
   "metadata": {},
   "outputs": [
    {
     "data": {
      "image/png": "[encoded data removed]",
      "text/plain": [
       "<Figure size 1080x504 with 1 Axes>"
      ]
     },
     "metadata": {
      "needs_background": "light"
     },
     "output_type": "display_data"
    }
   ],
   "source": [
    "plt.figure(figsize = (15,7))\n",
    "preg1['prglngth'].hist(cumulative = True, density = 1, bins = 100, label ='first_babies')\n",
    "preg2['prglngth'].hist(cumulative = True, density = 1, bins = 100, color ='r', alpha = 0.5, label ='others')\n",
    "plt.legend()\n",
    "plt.show()"
   ]
  },
  {
   "cell_type": "markdown",
   "metadata": {},
   "source": [
    "Compare your results with the graph calculated with the `thinkstats2.Cdf()` function and plot it with `thinkplot.Cdf()`."
   ]
  },
  {
   "cell_type": "code",
   "execution_count": 15,
   "metadata": {},
   "outputs": [
    {
     "data": {
      "image/png": "[encoded data removed]",
      "text/plain": [
       "<Figure size 1080x504 with 1 Axes>"
      ]
     },
     "metadata": {
      "needs_background": "light"
     },
     "output_type": "display_data"
    }
   ],
   "source": [
    "live = preg.loc[preg['outcome'] == 1]\n",
    "\n",
    "cdf = thinkstats2.Cdf(live.prglngth, label='prglngth')\n",
    "plt.figure(figsize = (15,7))\n",
    "thinkplot.Cdf(cdf)\n",
    "thinkplot.Config(xlabel='Pregnancy length (weeks)', ylabel='CDF', loc='upper left')"
   ]
  },
  {
   "cell_type": "markdown",
   "metadata": {},
   "source": [
    "## Comparing CDFs\n",
    "\n",
    "CDFs are especially useful for comparing distributions.Plot and compare the CDF of the birth weight for `first_babies` and `others`."
   ]
  },
  {
   "cell_type": "code",
   "execution_count": 16,
   "metadata": {},
   "outputs": [
    {
     "data": {
      "image/png": "[encoded data removed]",
      "text/plain": [
       "<Figure size 1080x504 with 1 Axes>"
      ]
     },
     "metadata": {
      "needs_background": "light"
     },
     "output_type": "display_data"
    },
    {
     "data": {
      "text/plain": [
       "<Figure size 576x432 with 0 Axes>"
      ]
     },
     "metadata": {},
     "output_type": "display_data"
    }
   ],
   "source": [
    "firsts = preg1\n",
    "others = preg2\n",
    "               \n",
    "first_cdf = thinkstats2.Cdf(firsts.totalwgt_lb, label='first')\n",
    "other_cdf = thinkstats2.Cdf(others.totalwgt_lb, label='other')\n",
    "plt.figure(figsize = (15,7))\n",
    "thinkplot.PrePlot(2)\n",
    "thinkplot.Cdfs([first_cdf, other_cdf])\n",
    "thinkplot.Show(xlabel='weight (pounds)', ylabel='CDF')"
   ]
  },
  {
   "cell_type": "markdown",
   "metadata": {},
   "source": [
    "## Percentile-based statistics\n",
    "\n",
    "Once you have computed a CDF, it is easy to compute percentiles and percentile ranks. The Cdf class provides these two methods:\n",
    "\n",
    "- `PercentileRank(x)`: Given a value x, computes its percentile rank, 100 · CDF(x).\n",
    "- `Percentile(p)`: Given a percentile rank p, computes the corresponding value, x. Equivalent to Value(p/100).\n",
    "\n",
    "Try them:"
   ]
  },
  {
   "cell_type": "code",
   "execution_count": 17,
   "metadata": {},
   "outputs": [
    {
     "data": {
      "text/plain": [
       "0.022660321776569226"
      ]
     },
     "execution_count": 17,
     "metadata": {},
     "output_type": "execute_result"
    }
   ],
   "source": [
    "cdf = thinkstats2.Cdf(preg1.prglngth, label ='prglngth')\n",
    "cdf.PercentileRank(15)"
   ]
  },
  {
   "cell_type": "code",
   "execution_count": 18,
   "metadata": {},
   "outputs": [
    {
     "data": {
      "text/plain": [
       "39"
      ]
     },
     "execution_count": 18,
     "metadata": {},
     "output_type": "execute_result"
    }
   ],
   "source": [
    "cdf = thinkstats2.Cdf(preg2.prglngth, label ='prglngth')\n",
    "cdf.Percentile(50)"
   ]
  },
  {
   "cell_type": "markdown",
   "metadata": {},
   "source": [
    "**Percentile** can be used to compute percentile-based summary statistics. For example, the 50th percentile is the value that divides the distribution in half, also known as the **median**. Like the mean, the median is a measure of\n",
    "the central tendency of a distribution.\n",
    "\n",
    "Actually, there are several definitions of “median,” each with different properties. But Percentile(50) is simple and efficient to compute.\n",
    "\n",
    "Another percentile-based statistic is the interquartile range (IQR), which is a measure of the spread of a distribution. The IQR is the difference between the 75th and 25th percentiles.\n",
    "\n",
    "More generally, percentiles are often used to summarize the shape of a distribution. For example, the distribution of income is often reported in “quintiles”; that is, it is split at the 20th, 40th, 60th and 80th percentiles. Other distributions are divided into ten “deciles”. Statistics like these that represent equally-spaced points in a CDF are called quantiles."
   ]
  },
  {
   "cell_type": "markdown",
   "metadata": {},
   "source": [
    "## Random Numbers\n",
    "\n",
    "Suppose we choose a random sample from the population of live births and look up the percentile rank of their birth weights. Now suppose we compute the CDF of the percentile ranks. What do you think the distribution will\n",
    "look like?"
   ]
  },
  {
   "cell_type": "markdown",
   "metadata": {},
   "source": [
    "**Answer**:"
   ]
  },
  {
   "cell_type": "markdown",
   "metadata": {},
   "source": [
    "Here’s how we can compute it. First, we make the Cdf of birth weights:"
   ]
  },
  {
   "cell_type": "code",
   "execution_count": 19,
   "metadata": {},
   "outputs": [],
   "source": [
    "weights = live.totalwgt_lb\n",
    "cdf = thinkstats2.Cdf(weights, label ='totalwgt_lb')"
   ]
  },
  {
   "cell_type": "markdown",
   "metadata": {},
   "source": [
    "Then we generate a sample and compute the percentile rank of each value in the sample."
   ]
  },
  {
   "cell_type": "code",
   "execution_count": 20,
   "metadata": {},
   "outputs": [],
   "source": [
    "sample = np.random.choice(weights, 100, replace = True)\n",
    "ranks = [cdf.PercentileRank(x) for x in sample]"
   ]
  },
  {
   "cell_type": "markdown",
   "metadata": {},
   "source": [
    "sample is a random sample of 100 birth weights, chosen with **replacement**; that is, the same value could be chosen more than once. ranks is a list of percentile ranks.\n",
    "Finally we make and plot the Cdf of the percentile ranks."
   ]
  },
  {
   "cell_type": "code",
   "execution_count": 21,
   "metadata": {
    "scrolled": false
   },
   "outputs": [
    {
     "name": "stderr",
     "output_type": "stream",
     "text": [
      "No handles with labels found to put in legend.\n"
     ]
    },
    {
     "data": {
      "image/png": "[encoded data removed]",
      "text/plain": [
       "<Figure size 720x504 with 1 Axes>"
      ]
     },
     "metadata": {
      "needs_background": "light"
     },
     "output_type": "display_data"
    },
    {
     "data": {
      "text/plain": [
       "<Figure size 576x432 with 0 Axes>"
      ]
     },
     "metadata": {},
     "output_type": "display_data"
    }
   ],
   "source": [
    "rank_cdf = thinkstats2.Cdf(ranks)\n",
    "plt.figure(figsize=(10,7))\n",
    "thinkplot.Cdf(rank_cdf)\n",
    "thinkplot.Show(xlabel ='percentile rank', ylabel ='CDF')"
   ]
  },
  {
   "cell_type": "markdown",
   "metadata": {},
   "source": [
    "That outcome might be non-obvious, but it is a consequence of the way the CDF is defined. What this figure shows is that 10% of the sample is below the 10th percentile, 20% is below the 20th percentile, and so on, exactly as we should expect.\n",
    "\n",
    "So, regardless of the shape of the CDF, the distribution of percentile ranks is uniform. This property is useful, because it is the basis of a simple and efficient algorithm for generating random numbers with a given CDF. Here’s\n",
    "how:\n",
    "\n",
    "- Choose a percentile rank uniformly from the range 0–100.\n",
    "- Use `Cdf.Percentile()` to find the value in the distribution that corresponds to the percentile rank you chose.\n",
    "\n",
    "Cdf provides an implementation of this algorithm, called `Random()`.\n",
    "\n",
    "Cdf also provides `Sample()`, which takes an integer, n, and returns a list of n values chosen at random from the Cdf.\n",
    "\n",
    "Try them:"
   ]
  },
  {
   "cell_type": "code",
   "execution_count": 22,
   "metadata": {},
   "outputs": [
    {
     "data": {
      "text/plain": [
       "array([8.625 , 5.1875, 7.375 , 7.    , 4.125 , 9.25  , 8.6875, 7.375 ])"
      ]
     },
     "execution_count": 22,
     "metadata": {},
     "output_type": "execute_result"
    }
   ],
   "source": [
    "# Code it here\n",
    "cdf.Sample(8)"
   ]
  },
  {
   "cell_type": "markdown",
   "metadata": {},
   "source": [
    "## Comparing percentile ranks\n",
    "\n",
    "Percentile ranks are useful for comparing measurements across different groups. For example, people who compete in foot races are usually grouped by age and gender. To compare people in different age groups, you can convert race times to percentile ranks.\n",
    "\n",
    "Given position 200th leanest baby, how will you compute the percentile rank of a baby, knowing there are 1345 babies:"
   ]
  },
  {
   "cell_type": "code",
   "execution_count": 23,
   "metadata": {},
   "outputs": [
    {
     "data": {
      "text/plain": [
       "85.13011152416357"
      ]
     },
     "execution_count": 23,
     "metadata": {},
     "output_type": "execute_result"
    }
   ],
   "source": [
    "# Code it here\n",
    "pr = ((1345-200)/1345)*100\n",
    "pr"
   ]
  },
  {
   "cell_type": "markdown",
   "metadata": {},
   "source": [
    "In the group of 1345 babies `first_babies` what is the position of the 15% weitgh percentile rank."
   ]
  },
  {
   "cell_type": "code",
   "execution_count": 24,
   "metadata": {},
   "outputs": [
    {
     "data": {
      "text/plain": [
       "201"
      ]
     },
     "execution_count": 24,
     "metadata": {},
     "output_type": "execute_result"
    }
   ],
   "source": [
    "# Code it here\n",
    "ps = int(1345*0.15)\n",
    "ps"
   ]
  },
  {
   "cell_type": "markdown",
   "metadata": {},
   "source": [
    "## Exercises"
   ]
  },
  {
   "cell_type": "markdown",
   "metadata": {
    "collapsed": true
   },
   "source": [
    "**Exercise:** How much did you weigh at birth? If you don’t know, call your mother or someone else who knows. Using the `NSFG` data (all live births), compute the distribution of birth weights and use it to find your percentile rank. If you were a first baby, find your percentile rank in the distribution for first babies. Otherwise use the distribution for others. If you are in the 90th percentile or higher, call your mother back and apologize."
   ]
  },
  {
   "cell_type": "code",
   "execution_count": 25,
   "metadata": {},
   "outputs": [
    {
     "name": "stdout",
     "output_type": "stream",
     "text": [
      "89.47776056649701\n",
      "88.29946524064171\n",
      "So close to have to apologize!!\n"
     ]
    }
   ],
   "source": [
    "# Solution goes here\n",
    "\n",
    "weight_JFS = 4*2.20462\n",
    "\n",
    "# All live births\n",
    "preg3= preg[preg['outcome'] == 1]\n",
    "cdf3 = thinkstats2.Cdf(preg3.totalwgt_lb, label ='totalwgt_lb')\n",
    "print(cdf3.PercentileRank(weight_JFS))\n",
    "\n",
    "# Other babies, not first.\n",
    "cdf2 = thinkstats2.Cdf(preg2.totalwgt_lb, label ='totalwgt_lb')\n",
    "print(cdf2.PercentileRank(weight_JFS))\n",
    "\n",
    "print('So close to have to apologize!!')"
   ]
  },
  {
   "cell_type": "markdown",
   "metadata": {
    "collapsed": true
   },
   "source": [
    "**Exercise:** The numbers generated by `numpy.random.random` are supposed to be uniform between 0 and 1; that is, every value in the range should have the same probability.\n",
    "\n",
    "Generate 1000 numbers from `numpy.random.random` and plot their PMF.  What goes wrong?\n",
    "\n",
    "Now plot the CDF. Is the distribution uniform?"
   ]
  },
  {
   "cell_type": "code",
   "execution_count": 26,
   "metadata": {},
   "outputs": [],
   "source": [
    "# Solution goes here\n",
    "\n",
    "rand_list = []\n",
    "for i in range(1000):\n",
    "    rand_list.append(np.random.random())"
   ]
  },
  {
   "cell_type": "code",
   "execution_count": 27,
   "metadata": {
    "scrolled": false
   },
   "outputs": [
    {
     "data": {
      "image/png": "[encoded data removed]",
      "text/plain": [
       "<Figure size 1080x720 with 1 Axes>"
      ]
     },
     "metadata": {
      "needs_background": "light"
     },
     "output_type": "display_data"
    }
   ],
   "source": [
    "pmf_rand = thinkstats2.Pmf(rand_list)\n",
    "plt.figure(figsize = (15,10))\n",
    "thinkplot.Hist(pmf_rand)"
   ]
  },
  {
   "cell_type": "code",
   "execution_count": 28,
   "metadata": {},
   "outputs": [
    {
     "data": {
      "image/png": "[encoded data removed]",
      "text/plain": [
       "<Figure size 1080x504 with 1 Axes>"
      ]
     },
     "metadata": {
      "needs_background": "light"
     },
     "output_type": "display_data"
    }
   ],
   "source": [
    "rand_serie = pd.Series(rand_list)\n",
    "\n",
    "plt.figure(figsize = (15,7))\n",
    "rand_serie.hist(cumulative = True, density = 1, bins = 100)\n",
    "plt.show()"
   ]
  },
  {
   "cell_type": "code",
   "execution_count": 29,
   "metadata": {},
   "outputs": [
    {
     "data": {
      "image/png": "[encoded data removed]",
      "text/plain": [
       "<Figure size 1080x504 with 1 Axes>"
      ]
     },
     "metadata": {
      "needs_background": "light"
     },
     "output_type": "display_data"
    },
    {
     "data": {
      "text/plain": [
       "<Figure size 576x432 with 0 Axes>"
      ]
     },
     "metadata": {},
     "output_type": "display_data"
    }
   ],
   "source": [
    "rand_serie_cdf = thinkstats2.Cdf(rand_serie, label ='rand_serie')\n",
    "\n",
    "plt.figure(figsize = (15,7))\n",
    "thinkplot.Cdf(rand_serie_cdf)\n",
    "thinkplot.Show(xlabel ='percentile rank', ylabel ='CDF')"
   ]
  },
  {
   "cell_type": "markdown",
   "metadata": {},
   "source": [
    "###### Javier Fernandez Suarez"
   ]
  }
 ],
 "metadata": {
  "kernelspec": {
   "display_name": "Python 3",
   "language": "python",
   "name": "python3"
  },
  "language_info": {
   "codemirror_mode": {
    "name": "ipython",
    "version": 3
   },
   "file_extension": ".py",
   "mimetype": "text/x-python",
   "name": "python",
   "nbconvert_exporter": "python",
   "pygments_lexer": "ipython3",
   "version": "3.6.7"
  }
 },
 "nbformat": 4,
 "nbformat_minor": 2
}
