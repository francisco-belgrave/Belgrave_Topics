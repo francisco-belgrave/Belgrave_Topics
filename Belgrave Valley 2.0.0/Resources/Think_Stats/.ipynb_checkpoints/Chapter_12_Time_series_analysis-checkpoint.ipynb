{
 "cells": [
  {
   "cell_type": "markdown",
   "metadata": {},
   "source": [
    "# Chapter 12 Time Series Analysis\n",
    "\n",
    "A **time series** is a sequence of measurements from a system that varies in time. One famous example is the “hockey stick graph” that shows global average temperature over time (see https://en.wikipedia.org/wiki/Hockey_stick_graph)\n",
    "\n",
    "The example I work with in this chapter comes from Zachary M. Jones, a researcher in political science who studies the black market for cannabis in the U.S. (http://zmjones.com/marijuana). He collected data from a web site called “Price of Weed” that crowdsources market information by asking participants to report the price, quantity, quality, and location of cannabis transactions (http://www.priceofweed.com/). The goal of his project is to investigate the effect of policy decisions, like legalization, on markets. I find this project appealing because it is an example that uses data to address important political questions, like drug policy.\n",
    "\n",
    "I hope you will find this chapter interesting, but I’ll take this opportunity to reiterate the importance of maintaining a professional attitude to data analysis. Whether and which drugs should be illegal are important and\n",
    "difficult public policy questions; our decisions should be informed by accurate data reported honestly.\n",
    "\n",
    "# Importing and cleaning\n",
    "\n",
    "The data I downloaded from Mr. Jones’s site is in the repository for this book. The following code reads it into a pandas DataFrame:"
   ]
  },
  {
   "cell_type": "code",
   "execution_count": 2,
   "metadata": {},
   "outputs": [],
   "source": [
    "import pandas as pd\n",
    "transactions = pd.read_csv('Thinkstats2/mj-clean.csv', parse_dates=[5])"
   ]
  },
  {
   "cell_type": "markdown",
   "metadata": {},
   "source": [
    "parse_dates tells read_csv to interpret values in column 5 as dates and convert them to NumPy datetime64 objects.\n",
    "\n",
    "Do some initial analysis at analysis on the dataset:"
   ]
  },
  {
   "cell_type": "code",
   "execution_count": 5,
   "metadata": {},
   "outputs": [
    {
     "data": {
      "text/html": [
       "<div>\n",
       "<style scoped>\n",
       "    .dataframe tbody tr th:only-of-type {\n",
       "        vertical-align: middle;\n",
       "    }\n",
       "\n",
       "    .dataframe tbody tr th {\n",
       "        vertical-align: top;\n",
       "    }\n",
       "\n",
       "    .dataframe thead th {\n",
       "        text-align: right;\n",
       "    }\n",
       "</style>\n",
       "<table border=\"1\" class=\"dataframe\">\n",
       "  <thead>\n",
       "    <tr style=\"text-align: right;\">\n",
       "      <th></th>\n",
       "      <th>city</th>\n",
       "      <th>state</th>\n",
       "      <th>price</th>\n",
       "      <th>amount</th>\n",
       "      <th>quality</th>\n",
       "      <th>date</th>\n",
       "      <th>ppg</th>\n",
       "      <th>state.name</th>\n",
       "      <th>lat</th>\n",
       "      <th>lon</th>\n",
       "    </tr>\n",
       "  </thead>\n",
       "  <tbody>\n",
       "    <tr>\n",
       "      <th>0</th>\n",
       "      <td>Annandale</td>\n",
       "      <td>VA</td>\n",
       "      <td>100</td>\n",
       "      <td>7.075</td>\n",
       "      <td>high</td>\n",
       "      <td>2010-09-02</td>\n",
       "      <td>14.13</td>\n",
       "      <td>Virginia</td>\n",
       "      <td>38.830345</td>\n",
       "      <td>-77.213870</td>\n",
       "    </tr>\n",
       "    <tr>\n",
       "      <th>1</th>\n",
       "      <td>Auburn</td>\n",
       "      <td>AL</td>\n",
       "      <td>60</td>\n",
       "      <td>28.300</td>\n",
       "      <td>high</td>\n",
       "      <td>2010-09-02</td>\n",
       "      <td>2.12</td>\n",
       "      <td>Alabama</td>\n",
       "      <td>32.578185</td>\n",
       "      <td>-85.472820</td>\n",
       "    </tr>\n",
       "    <tr>\n",
       "      <th>2</th>\n",
       "      <td>Austin</td>\n",
       "      <td>TX</td>\n",
       "      <td>60</td>\n",
       "      <td>28.300</td>\n",
       "      <td>medium</td>\n",
       "      <td>2010-09-02</td>\n",
       "      <td>2.12</td>\n",
       "      <td>Texas</td>\n",
       "      <td>30.326374</td>\n",
       "      <td>-97.771258</td>\n",
       "    </tr>\n",
       "    <tr>\n",
       "      <th>3</th>\n",
       "      <td>Belleville</td>\n",
       "      <td>IL</td>\n",
       "      <td>400</td>\n",
       "      <td>28.300</td>\n",
       "      <td>high</td>\n",
       "      <td>2010-09-02</td>\n",
       "      <td>14.13</td>\n",
       "      <td>Illinois</td>\n",
       "      <td>38.532311</td>\n",
       "      <td>-89.983521</td>\n",
       "    </tr>\n",
       "    <tr>\n",
       "      <th>4</th>\n",
       "      <td>Boone</td>\n",
       "      <td>NC</td>\n",
       "      <td>55</td>\n",
       "      <td>3.540</td>\n",
       "      <td>high</td>\n",
       "      <td>2010-09-02</td>\n",
       "      <td>15.54</td>\n",
       "      <td>North Carolina</td>\n",
       "      <td>36.217052</td>\n",
       "      <td>-81.687983</td>\n",
       "    </tr>\n",
       "  </tbody>\n",
       "</table>\n",
       "</div>"
      ],
      "text/plain": [
       "         city state  price  amount quality       date    ppg      state.name  \\\n",
       "0   Annandale    VA    100   7.075    high 2010-09-02  14.13        Virginia   \n",
       "1      Auburn    AL     60  28.300    high 2010-09-02   2.12         Alabama   \n",
       "2      Austin    TX     60  28.300  medium 2010-09-02   2.12           Texas   \n",
       "3  Belleville    IL    400  28.300    high 2010-09-02  14.13        Illinois   \n",
       "4       Boone    NC     55   3.540    high 2010-09-02  15.54  North Carolina   \n",
       "\n",
       "         lat        lon  \n",
       "0  38.830345 -77.213870  \n",
       "1  32.578185 -85.472820  \n",
       "2  30.326374 -97.771258  \n",
       "3  38.532311 -89.983521  \n",
       "4  36.217052 -81.687983  "
      ]
     },
     "execution_count": 5,
     "metadata": {},
     "output_type": "execute_result"
    }
   ],
   "source": [
    "transactions.head()"
   ]
  },
  {
   "cell_type": "code",
   "execution_count": 4,
   "metadata": {},
   "outputs": [],
   "source": [
    "# Code it here"
   ]
  },
  {
   "cell_type": "markdown",
   "metadata": {},
   "source": [
    "The dataset has the following columns:\n",
    "\n",
    "- city: string city name.\n",
    "- state: two-letter state abbreviation.\n",
    "- price: price paid in dollars.\n",
    "- amount: quantity purchased in grams.\n",
    "- quality: high, medium, or low quality, as reported by the purchaser.\n",
    "- date: date of report, presumed to be shortly after date of purchase.\n",
    "- ppg: price per gram, in dollars.\n",
    "- state.name: string state name.\n",
    "- lat: approximate latitude of the transaction, based on city name.\n",
    "- lon: approximate longitude of the transaction.\n",
    "\n",
    "Each transaction is an event in time, so we could treat this dataset as a time series. But the events are not equally spaced in time; the number of transactions reported each day varies from 0 to several hundred. Many\n",
    "methods used to analyze time series require the measurements to be equally spaced, or at least things are simpler if they are.\n",
    "\n",
    "Divide the dataset into groups by average reported quality. Use the python groupby method:"
   ]
  },
  {
   "cell_type": "code",
   "execution_count": null,
   "metadata": {},
   "outputs": [],
   "source": [
    "#Code it here"
   ]
  },
  {
   "cell_type": "markdown",
   "metadata": {},
   "source": [
    "Create a result Data set with the date resulting DataFrame has columns date, and years since it started dealing as a float and average price per quality:"
   ]
  },
  {
   "cell_type": "code",
   "execution_count": 6,
   "metadata": {},
   "outputs": [],
   "source": [
    "#Code it here"
   ]
  },
  {
   "cell_type": "markdown",
   "metadata": {},
   "source": [
    "## 2. Plotting\n",
    "\n",
    "Using your knowledge of Matplotlib plot a scaterplot of the series of quality:"
   ]
  },
  {
   "cell_type": "code",
   "execution_count": 7,
   "metadata": {},
   "outputs": [],
   "source": [
    "# Code it here"
   ]
  },
  {
   "cell_type": "code",
   "execution_count": null,
   "metadata": {},
   "outputs": [],
   "source": [
    "# thinkplot.PrePlot(rows=3)\n",
    "# for i, (name, daily) in enumerate(dailies.items()):\n",
    "#     thinkplot.SubPlot(i+1)\n",
    "#     title = 'price per gram ($)' if i==0 else ''\n",
    "#     thinkplot.Config(ylim=[0, 20], title=title)\n",
    "#     thinkplot.Scatter(daily.index, daily.ppg, s=10, label=name)\n",
    "#     if i == 2:\n",
    "#         pyplot.xticks(rotation=30)\n",
    "#     else:\n",
    "#         thinkplot.Config(xticks=[])"
   ]
  },
  {
   "cell_type": "markdown",
   "metadata": {},
   "source": [
    "## 3. Linear Regression\n",
    "\n",
    "Although there are methods specific to time series analysis, for many problems a simple way to get started is by applying general-purpose tools like linear regression. \n",
    "Create a function that takes a DataFrame of daily prices and computes a least squares fit, returning the model and results objects from StatsModels:"
   ]
  },
  {
   "cell_type": "code",
   "execution_count": 8,
   "metadata": {},
   "outputs": [],
   "source": [
    "# code it here"
   ]
  },
  {
   "cell_type": "markdown",
   "metadata": {},
   "source": [
    "What to you see:"
   ]
  },
  {
   "cell_type": "markdown",
   "metadata": {},
   "source": [
    "α Type your answer here "
   ]
  },
  {
   "cell_type": "markdown",
   "metadata": {},
   "source": [
    "The model seems like a good linear fit for the data; nevertheless, linear regression is not the most appropriate choice for this data:\n",
    "\n",
    "- First, there is no reason to expect the long-term trend to be a line or any other simple function. In general, prices are determined by supply and demand, both of which vary over time in unpredictable ways.\n",
    "\n",
    "- Second, the linear regression model gives equal weight to all data, recent and past. For purposes of prediction, we should probably give more weight to recent data.\n",
    "\n",
    "- Finally, one of the assumptions of linear regression is that the residuals are uncorrelated noise. With time series data, this assumption is often false because successive values are correlated.\n",
    "\n",
    "The next section presents an alternative that is more appropriate for time series data.\n",
    "\n",
    "## 4. Moving Averages\n",
    "\n",
    "Most time series analysis is based on the modeling assumption that the observed series is the sum of **three components**:\n",
    "\n",
    "- Trend: A smooth function that captures persistent changes.\n",
    "- Seasonality: Periodic variation, possibly including daily, weekly, monthly, or yearly cycles.\n",
    "- Noise: Random variation around the long-term trend.\n",
    "\n",
    "Regression is one way to extract the trend from a series, as we saw in the previous section. But if the trend is not a simple function, a good alternative is a **moving average**. A moving average divides the series into overlapping regions, called **windows**, and computes the average of the values in each window.\n",
    "\n",
    "One of the simplest moving averages is the **rolling mean**, which computes the mean of the values in each window. For example, if the window size is 3, the rolling mean computes the mean of values 0 through 2, 1 through 3, 2\n",
    "through 4, etc.\n",
    "\n",
    "pandas provides rolling_mean, which takes a Series and a window size and returns a new Series.\n",
    "\n",
    "Calculate and plot the rolling mean with a window of size 2,5,15, 30 and 60 and for each of the values series:"
   ]
  },
  {
   "cell_type": "code",
   "execution_count": 10,
   "metadata": {},
   "outputs": [],
   "source": [
    "#Code it here"
   ]
  },
  {
   "cell_type": "markdown",
   "metadata": {},
   "source": [
    "An alternative is the **exponentially-weighted moving average (EWMA)**, which has two advantages. First, as the name suggests, it computes a weighted average where the most recent value has the highest weight and the weights for previous values drop off exponentially. Second, the pandas implementation of EWMA handles missing values better.\n",
    "\n",
    "Do the same implementation and plotting:"
   ]
  },
  {
   "cell_type": "code",
   "execution_count": 12,
   "metadata": {},
   "outputs": [],
   "source": [
    "#Code it here"
   ]
  },
  {
   "cell_type": "markdown",
   "metadata": {},
   "source": [
    "The span parameter corresponds roughly to the window size of a moving average; it controls how fast the weights drop off, so it determines the number of points that make a non-negligible contribution to each average.\n",
    "\n",
    "The values are noisy at the beginning of\n",
    "the time series, because they are based on fewer data points.\n",
    "\n",
    "## 5. Missing values\n",
    "\n",
    "Now that we have characterized the trend of the time series, the next step is to investigate seasonality, which is periodic behavior. Time series data based on human behavior often exhibits daily, weekly, monthly, or yearly cycles. In the next section I present methods to test for seasonality, but they don’t work well with missing data, so we have to solve that problem first.\n",
    "\n",
    "A simple and common way to fill missing data is to use a moving average. The Series method fillna does just what we want. Fill the na in the dataframe with the average means you calculated before:"
   ]
  },
  {
   "cell_type": "code",
   "execution_count": 13,
   "metadata": {},
   "outputs": [],
   "source": [
    "#Code it here"
   ]
  },
  {
   "cell_type": "markdown",
   "metadata": {},
   "source": [
    "A drawback of this method is that it understates the noise in the series. We can solve that problem by adding in resampled residuals.\n",
    "\n",
    "Calculate the residuals obtained on the rest of the dataset between the series and a given point and pick a random one to add to the series to each of the points calculated:"
   ]
  },
  {
   "cell_type": "code",
   "execution_count": 14,
   "metadata": {},
   "outputs": [],
   "source": [
    "# Code it here"
   ]
  },
  {
   "cell_type": "markdown",
   "metadata": {},
   "source": [
    "## 6. Serial correlation\n",
    "\n",
    "As prices vary from day to day, you might expect to see patterns. If the price is high on Monday, you might expect it to be high for a few more days; and if it’s low, you might expect it to stay low. A pattern like this is called **serial correlation**, because each value is correlated with the next one in the series.\n",
    "\n",
    "To compute serial correlation, we can shift the time series by an interval called a **lag**, and then compute the correlation of the shifted series with the original:"
   ]
  },
  {
   "cell_type": "code",
   "execution_count": null,
   "metadata": {},
   "outputs": [],
   "source": [
    "def SerialCorr(series, lag=1):\n",
    "    xs = series[lag:]\n",
    "    ys = series.shift(lag)[lag:]\n",
    "    corr = thinkstats2.Corr(xs, ys)\n",
    "    return corr"
   ]
  },
  {
   "cell_type": "markdown",
   "metadata": {},
   "source": [
    "After the shift, the first lag values are nan, so I use a slice to remove them before computing Corr.\n",
    "\n",
    "If we apply SerialCorr to the raw price data with lag 1, we find serial correlation 0.48 for the high quality category, 0.16 for medium and 0.10 for low. In any time series with a long-term trend, we expect to see strong serial correlations; for example, if prices are falling, we expect to see values above the mean in the first half of the series and values below the mean in the second half."
   ]
  },
  {
   "cell_type": "code",
   "execution_count": null,
   "metadata": {},
   "outputs": [],
   "source": [
    "# Code it here"
   ]
  },
  {
   "cell_type": "markdown",
   "metadata": {},
   "source": [
    "It is more interesting to see if the correlation persists if you subtract away the trend. For example, we can compute the residual of the EWMA and then compute its serial correlation:"
   ]
  },
  {
   "cell_type": "code",
   "execution_count": null,
   "metadata": {},
   "outputs": [],
   "source": [
    "ewma = pandas.ewma(reindexed.ppg, span=30)\n",
    "resid = reindexed.ppg - ewma\n",
    "corr = SerialCorr(resid, 1)"
   ]
  },
  {
   "cell_type": "markdown",
   "metadata": {},
   "source": [
    "With lag=1, the serial correlations for the de-trended data are -0.022 for high quality, -0.015 for medium, and 0.036 for low. These values are small, indicating that there is little or no one-day serial correlation in this series.\n",
    "\n",
    "Run the analysis again with differenst lags of 1, 7, 30 and 365 to see the correlations."
   ]
  },
  {
   "cell_type": "code",
   "execution_count": null,
   "metadata": {},
   "outputs": [],
   "source": []
  },
  {
   "cell_type": "markdown",
   "metadata": {},
   "source": [
    "In the next section we’ll test whether these correlations are statistically significant (they are not), but at this point we can tentatively conclude that there are no substantial seasonal patterns in these series, at least not with these lags.\n",
    "\n",
    "## 7. Autocorrelation\n",
    "\n",
    "If you think a series might have some serial correlation, but you don’t know which lags to test, you can test them all! The **autocorrelation function** is a function that maps from lag to the serial correlation with the given lag. “Autocorrelation” is another name for serial correlation, used more often when the lag is not 1.\n",
    "\n",
    "StatsModels, which we used for linear regression also provides functions for time series analysis, including acf, which computes the autocorrelation function:"
   ]
  },
  {
   "cell_type": "code",
   "execution_count": null,
   "metadata": {},
   "outputs": [],
   "source": [
    "import statsmodels.tsa.stattools as smtsa\n",
    "acf = smtsa.acf(filled.resid, nlags=365, unbiased=True)"
   ]
  },
  {
   "cell_type": "markdown",
   "metadata": {},
   "source": [
    "acf computes serial correlations with lags from 0 through nlags. The unbiased flag tells acf to correct the estimates for the sample size. The result is an array of correlations. If we select daily prices for high quality,\n",
    "and extract correlations for lags 1, 7, 30, and 365, we can confirm that acf and SerialCorr yield approximately the same results:"
   ]
  },
  {
   "cell_type": "code",
   "execution_count": null,
   "metadata": {},
   "outputs": [],
   "source": [
    "acf[0], acf[1], acf[7], acf[30], acf[365]"
   ]
  },
  {
   "cell_type": "markdown",
   "metadata": {},
   "source": [
    "With lag=0, acf computes the correlation of the series with itself, which is always 1.\n",
    "Plot the autocorrelation function for a lag of 40 days."
   ]
  },
  {
   "cell_type": "code",
   "execution_count": 17,
   "metadata": {},
   "outputs": [],
   "source": [
    "# Code it here"
   ]
  },
  {
   "cell_type": "markdown",
   "metadata": {},
   "source": [
    "To see what the autocorrelation function looks like when there is a seasonal component, I generated simulated data by adding a weekly cycle. Assuming that demand for cannabis is higher on weekends, we might expect the price\n",
    "to be higher. To simulate this effect, I select dates that fall on Friday or Saturday and add a random amount to the price, chosen from a uniform distribution from `$0 to `$2."
   ]
  },
  {
   "cell_type": "code",
   "execution_count": 16,
   "metadata": {},
   "outputs": [],
   "source": [
    "def AddWeeklySeasonality(daily):\n",
    "    frisat = (daily.index.dayofweek==4) | (daily.index.dayofweek==5)\n",
    "    fake = daily.copy()\n",
    "    fake.ppg[frisat] += np.random.uniform(0, 2, frisat.sum())\n",
    "    return fake"
   ]
  },
  {
   "cell_type": "markdown",
   "metadata": {},
   "source": [
    "plot the autocorrelation of this new series:"
   ]
  },
  {
   "cell_type": "code",
   "execution_count": 18,
   "metadata": {},
   "outputs": [],
   "source": [
    "# Code it here"
   ]
  },
  {
   "cell_type": "markdown",
   "metadata": {},
   "source": [
    "autocorrelation functions for prices with this simulated seasonality. As expected, the correlations are highest when the lag is a multiple of 7. For high and medium quality, the new correlations are statistically significant. For low quality they are not, because residuals in this category are large; the effect would have to be bigger to be visible through the noise.\n",
    "\n",
    "## 8. Prediction\n",
    "\n",
    "Time series analysis can be used to investigate, and sometimes explain, the behavior of systems that vary in time. It can also make predictions.\n",
    "\n",
    "The linear regressions we used in Section 12.3 can be used for prediction. The RegressionResults class provides predict, which takes a DataFrame containing the explanatory variables and returns a sequence of predictions.\n",
    "Here’s the code:"
   ]
  },
  {
   "cell_type": "code",
   "execution_count": 19,
   "metadata": {},
   "outputs": [],
   "source": [
    "def GenerateSimplePrediction(results, years):\n",
    "    n = len(years)\n",
    "    inter = np.ones(n)\n",
    "    d = dict(Intercept=inter, years=years)\n",
    "    predict_df = pandas.DataFrame(d)\n",
    "    predict = results.predict(predict_df)\n",
    "    return predict"
   ]
  },
  {
   "cell_type": "markdown",
   "metadata": {},
   "source": [
    "results is a RegressionResults object; years is the sequence of time values we want predictions for. The function constructs a DataFrame, passes it to predict, and returns the result.\n",
    "\n",
    "If all we want is a single, best-guess prediction, we’re done. But for most purposes it is important to quantify error. In other words, we want to know how accurate the prediction is likely to be.\n",
    "\n",
    "**In modeling there are three sources of error** we should take into account:\n",
    "\n",
    "- Sampling error: The prediction is based on estimated parameters, which depend on random variation in the sample. If we run the experiment again, we expect the estimates to vary.\n",
    "\n",
    "- Random variation: Even if the estimated parameters are perfect, the observed data varies randomly around the long-term trend, and we expect this variation to continue in the future.\n",
    "\n",
    "- Modeling error: We have already seen evidence that the long-term trend is not linear, so predictions based on a linear model will eventually fail.\n",
    "\n",
    "Another source of error to consider is unexpected future events. Agricultural prices are affected by weather, and all prices are affected by politics and law. As I write this, cannabis is legal in two states and legal for medical purposes in 20 more. If more states legalize it, the price is likely to go down. But if the federal government cracks down, the price might go up.\n",
    "\n",
    "Modeling errors and unexpected future events are hard to quantify. Sampling error and random variation are easier to deal with, so we’ll do that first.\n",
    "\n",
    "To quantify sampling error, I use resampling, as we did in before. As always, the goal is to use the actual observations to simulate what would happen if we ran the experiment again. The simulations are based on the\n",
    "assumption that the estimated parameters are correct, but the random residuals could have been different. Here is a function that runs the simulations:"
   ]
  },
  {
   "cell_type": "code",
   "execution_count": null,
   "metadata": {},
   "outputs": [],
   "source": [
    "def SimulateResults(daily, iters=101):\n",
    "    model, results = RunLinearModel(daily)\n",
    "    fake = daily.copy()\n",
    "    result_seq = []\n",
    "    for i in range(iters):\n",
    "        fake.ppg = results.fittedvalues + Resample(results.resid)\n",
    "        _, fake_results = RunLinearModel(fake)\n",
    "        result_seq.append(fake_results)\n",
    "    \n",
    "    return result_seq"
   ]
  },
  {
   "cell_type": "markdown",
   "metadata": {},
   "source": [
    "daily is a DataFrame containing the observed prices; iters is the number of simulations to run.\n",
    "\n",
    "SimulateResults uses RunLinearModel, to estimate the slope and intercept of the observed values.\n",
    "\n",
    "Each time through the loop, it generates a “fake” dataset by resampling the residuals and adding them to the fitted values. Then it runs a linear model on the fake data and stores the RegressionResults object.\n",
    "\n",
    "The next step is to use the simulated results to generate predictions:"
   ]
  },
  {
   "cell_type": "code",
   "execution_count": null,
   "metadata": {},
   "outputs": [],
   "source": [
    "def GeneratePredictions(result_seq, years, add_resid=False):\n",
    "    n = len(years)\n",
    "    d = dict(Intercept=np.ones(n), years=years, years2=years**2)\n",
    "    predict_df = pandas.DataFrame(d)\n",
    "    predict_seq = []\n",
    "    \n",
    "    for fake_results in result_seq:\n",
    "        predict = fake_results.predict(predict_df)\n",
    "        if add_resid:\n",
    "            predict += thinkstats2.Resample(fake_results.resid, n)\n",
    "        predict_seq.append(predict)\n",
    "    return predict_seq"
   ]
  },
  {
   "cell_type": "markdown",
   "metadata": {},
   "source": [
    "GeneratePredictions takes the sequence of results from the previous step, as well as years, which is a sequence of floats that specifies the interval to generate predictions for, and add_resid, which indicates whether it should add resampled residuals to the straight-line prediction. GeneratePredictions iterates through the sequence of RegressionResults and generates a sequence of predictions.\n",
    "\n",
    "Finally, here’s the code that plots a 90% confidence interval for the predictions:"
   ]
  },
  {
   "cell_type": "code",
   "execution_count": 20,
   "metadata": {},
   "outputs": [],
   "source": [
    "def PlotPredictions(daily, years, iters=101, percent=90):\n",
    "    result_seq = SimulateResults(daily, iters=iters)\n",
    "    p = (100 - percent) / 2\n",
    "    percents = p, 100-p\n",
    "    \n",
    "    predict_seq = GeneratePredictions(result_seq, years, True)\n",
    "    low, high = thinkstats2.PercentileRows(predict_seq, percents)\n",
    "    thinkplot.FillBetween(years, low, high, alpha=0.3, color='gray')\n",
    "    \n",
    "    predict_seq = GeneratePredictions(result_seq, years, False)\n",
    "    low, high = thinkstats2.PercentileRows(predict_seq, percents)\n",
    "    thinkplot.FillBetween(years, low, high, alpha=0.5, color='gray')"
   ]
  },
  {
   "cell_type": "markdown",
   "metadata": {},
   "source": [
    "PlotPredictions calls GeneratePredictions twice: once with add_resid=True and again with add_resid=False. It uses PercentileRows to select the 5th and 95th percentiles for each year, then plots a gray region between these bounds.\n",
    "\n",
    "Use the revious code to plot the calculated predictions:"
   ]
  },
  {
   "cell_type": "code",
   "execution_count": null,
   "metadata": {},
   "outputs": [],
   "source": [
    "# Code it here"
   ]
  },
  {
   "cell_type": "markdown",
   "metadata": {},
   "source": [
    "The lighter region shows a 90% confidence interval for prediction error, which is the sum of sampling error and random variation.\n",
    "\n",
    "These regions quantify sampling error and random variation, but not modeling error. In general modeling error is hard to quantify, but in this case we can address at least one source of error, unpredictable external events.\n",
    "\n",
    "The regression model is based on the assumption that the system is **stationary**; that is, that the parameters of the model don’t change over time. Specifically, it assumes that the slope and intercept are constant, as well as\n",
    "the distribution of residuals.\n",
    "\n",
    "But looking at the moving averages in Figure 12.3, it seems like the slope changes at least once during the observed interval, and the variance of the residuals seems bigger in the first half than the second.\n",
    "\n",
    "As a result, the parameters we get depend on the interval we observe. To see how much effect this has on the predictions, we can extend SimulateResults to use intervals of observation with different start and end dates. My implementation is in timeseries.py.\n",
    "\n",
    "The model based on the entire interval has positive slope, indicating that prices were increasing. But the most recent interval shows signs of decreasing prices, so models based on the most recent data have negative slope. As a\n",
    "result, the widest predictive interval includes the possibility of decreasing prices over the next year.\n",
    "\n",
    "## 9. Further reading\n",
    "\n",
    "Time series analysis is a big topic; this chapter has only scratched the surface. An important tool for working with time series data is autoregression, which I did not cover here, mostly because it turns out not to be useful for the example data I worked with.\n",
    "\n",
    "But once you have learned the material in this chapter, you are well prepared to learn about autoregression. One resource I recommend is Philipp Janert’s xbook, Data Analysis with Open Source Tools, O’Reilly Media, 2011. His\n",
    "chapter on time series analysis picks up where this one leaves off."
   ]
  },
  {
   "cell_type": "markdown",
   "metadata": {
    "collapsed": true
   },
   "source": [
    "## 10. Exercises"
   ]
  },
  {
   "cell_type": "markdown",
   "metadata": {
    "collapsed": true
   },
   "source": [
    "## 1)\n",
    "\n",
    "The linear model I used in this chapter has the obvious drawback that it is linear, and there is no reason to expect prices to change linearly over time. We can add flexibility to the model by adding a quadratic term, as we did in Section 11.3.\n",
    "\n",
    "Use a quadratic model to fit the time series of daily prices, and use the model to generate predictions. You will have to write a version of `RunLinearModel` that runs that quadratic model, but after that you should be able to reuse code from the chapter to generate predictions."
   ]
  },
  {
   "cell_type": "code",
   "execution_count": 42,
   "metadata": {},
   "outputs": [],
   "source": [
    "# Solution goes here"
   ]
  },
  {
   "cell_type": "markdown",
   "metadata": {},
   "source": [
    "## 2)\n",
    "\n",
    "Write a definition for a class named `SerialCorrelationTest` that extends `HypothesisTest` from Section 9.2. It should take a series and a lag as data, compute the serial correlation of the series with the given lag, and then compute the p-value of the observed correlation.\n",
    "\n",
    "Use this class to test whether the serial correlation in raw price data is statistically significant. Also test the residuals of the linear model and (if you did the previous exercise), the quadratic model."
   ]
  },
  {
   "cell_type": "code",
   "execution_count": 46,
   "metadata": {},
   "outputs": [],
   "source": [
    "# Solution goes here"
   ]
  },
  {
   "cell_type": "code",
   "execution_count": 47,
   "metadata": {},
   "outputs": [],
   "source": [
    "# Solution goes here"
   ]
  },
  {
   "cell_type": "code",
   "execution_count": 48,
   "metadata": {},
   "outputs": [],
   "source": [
    "# Solution goes here"
   ]
  },
  {
   "cell_type": "code",
   "execution_count": 49,
   "metadata": {},
   "outputs": [],
   "source": [
    "# Solution goes here"
   ]
  },
  {
   "cell_type": "markdown",
   "metadata": {},
   "source": [
    "**Worked example:** There are several ways to extend the EWMA model to generate predictions. One of the simplest is something like this:\n",
    "\n",
    "1. Compute the EWMA of the time series and use the last point as an intercept, `inter`.\n",
    "\n",
    "2. Compute the EWMA of differences between successive elements in the time series and use the last point as a slope, `slope`.\n",
    "\n",
    "3. To predict values at future times, compute `inter + slope * dt`, where `dt` is the difference between the time of the prediction and the time of the last observation.\n",
    "\n",
    "\n",
    "Use this method to generate predictions for a year after the last observation. A few hints:\n",
    "- Use timeseries.FillMissing to fill in missing values before running this analysis. That way the time between consecutive elements is consistent.\n",
    "- Use Series.diff to compute differences between successive elements.\n",
    "- Use reindex to extend the DataFrame index into the future.\n",
    "- Use fillna to put your predicted values into the DataFrame."
   ]
  },
  {
   "cell_type": "markdown",
   "metadata": {},
   "source": [
    "As an exercise, run this analysis again for the other quality categories."
   ]
  },
  {
   "cell_type": "code",
   "execution_count": null,
   "metadata": {
    "collapsed": true
   },
   "outputs": [],
   "source": [
    "# Solution goes here"
   ]
  }
 ],
 "metadata": {
  "kernelspec": {
   "display_name": "Python 3",
   "language": "python",
   "name": "python3"
  },
  "language_info": {
   "codemirror_mode": {
    "name": "ipython",
    "version": 3
   },
   "file_extension": ".py",
   "mimetype": "text/x-python",
   "name": "python",
   "nbconvert_exporter": "python",
   "pygments_lexer": "ipython3",
   "version": "3.5.2"
  }
 },
 "nbformat": 4,
 "nbformat_minor": 2
}
