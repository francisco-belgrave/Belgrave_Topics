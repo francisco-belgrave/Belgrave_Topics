{
 "cells": [
  {
   "cell_type": "markdown",
   "metadata": {},
   "source": [
    "# Chapter 11 Regressions\n",
    "\n",
    "The linear least squares fit in the previous chapter is an example of **regression**, which is the more general problem of fitting any kind of model to any kind of data. This use of the term “regression” is a historical accident; it is\n",
    "only indirectly related to the original meaning of the word.\n",
    "\n",
    "The goal of regression analysis is to describe the relationship between one set of variables, called the **dependent variables**, and another set of variables, called independent or **explanatory variables**.\n",
    "\n",
    "In the previous chapter we used mother’s age as an explanatory variable to predict birth weight as a dependent variable. When there is only one dependent and one explanatory variable, that’s **simple regression**. In this chapter, we move on to multiple regression, with more than one explanatory variable. If there is more than one dependent variable, that’s multivariate regression.\n",
    "\n",
    "If the relationship between the dependent and explanatory variable is linear, that’s linear regression. For example, if the dependent variable is y and the explanatory variables are x 1 and x 2 , we would write the following linear regression model:\n",
    "\n",
    "![alt text](notebookpics/regression.png \"Title\")\n",
    "\n",
    "where β0 is the intercept, β1 is the parameter associated with x 1 , β 2 is the parameter associated with x 2 , and ε is the residual due to random variation or other unknown factors.\n",
    "\n",
    "Given a sequence of values for y and sequences for x 1 and x 2 , we can find the parameters, β 0 , β 1 , and β 2 , that minimize the sum of ε2. This process is called ordinary least squares. The computation is similar to thinkstats2.LeastSquare, but generalized to deal with more than one explanatory variable. You can find the details at https://en.wikipedia.org/wiki/Ordinary_least_squares.\n",
    "\n",
    "## 1 StatsModels\n",
    "\n",
    "In the previous chapter I presented thinkstats2.LeastSquares, an implementation of simple linear regression intended to be easy to read. For multiple regression we’ll switch to StatsModels, a Python package that provides\n",
    "several forms of regression and other analyses. If you are using Anaconda, you already have StatsModels; otherwise you might have to install it.\n",
    "\n",
    "As an example, I’ll run the model from the previous chapter with StatsModels:"
   ]
  },
  {
   "cell_type": "code",
   "execution_count": 1,
   "metadata": {},
   "outputs": [],
   "source": [
    "from Thinkstats2 import first"
   ]
  },
  {
   "cell_type": "code",
   "execution_count": 2,
   "metadata": {},
   "outputs": [],
   "source": [
    "#Run the code from one directory below\n",
    "import os\n",
    "mydir = os.getcwd() # would be the same path as a.py\n",
    "mydir_new = os.chdir(mydir+\"/Thinkstats2\")"
   ]
  },
  {
   "cell_type": "code",
   "execution_count": 25,
   "metadata": {},
   "outputs": [],
   "source": [
    "import thinkstats2\n",
    "import numpy as np\n",
    "import regression\n",
    "import pandas as pd\n",
    "pd.options.display.max_columns = 100"
   ]
  },
  {
   "cell_type": "code",
   "execution_count": 4,
   "metadata": {},
   "outputs": [],
   "source": [
    "import statsmodels.formula.api as smf"
   ]
  },
  {
   "cell_type": "code",
   "execution_count": 5,
   "metadata": {},
   "outputs": [],
   "source": [
    "live, firsts, others = first.MakeFrames()\n",
    "formula = 'totalwgt_lb ~ agepreg'\n",
    "model = smf.ols(formula, data=live)\n",
    "results = model.fit()"
   ]
  },
  {
   "cell_type": "markdown",
   "metadata": {},
   "source": [
    "statsmodels provides two interfaces (APIs); the “formula” API uses strings to identify the dependent and explanatory variables. It uses a syntax called patsy; in this example, the ~ operator separates the dependent variable on the left from the explanatory variables on the right.\n",
    "\n",
    "smf.ols takes the formula string and the DataFrame, live, and returns an OLS object that represents the model. The name ols stands for “ordinary least squares.”\n",
    "\n",
    "The fit method fits the model to the data and returns a RegressionResults object that contains the results.\n",
    "\n",
    "The results are also available as attributes. params is a Series that maps from variable names to their parameters, so we can get the intercept and slope like this:"
   ]
  },
  {
   "cell_type": "code",
   "execution_count": 10,
   "metadata": {},
   "outputs": [],
   "source": [
    "inter = results.params['Intercept']\n",
    "slope = results.params['agepreg']"
   ]
  },
  {
   "cell_type": "code",
   "execution_count": 11,
   "metadata": {},
   "outputs": [
    {
     "name": "stdout",
     "output_type": "stream",
     "text": [
      "6.830396973311051 0.017453851471802638\n"
     ]
    }
   ],
   "source": [
    "print(inter, slope)"
   ]
  },
  {
   "cell_type": "markdown",
   "metadata": {},
   "source": [
    "The estimated parameters are 6.83 and 0.0175, the same as from LeastSquares.\n",
    "\n",
    "pvalues is a Series that maps from variable names to the associated p-values, so we can check whether the estimated slope is statistically significant:"
   ]
  },
  {
   "cell_type": "code",
   "execution_count": 12,
   "metadata": {},
   "outputs": [],
   "source": [
    "slope_pvalue = results.pvalues['agepreg']"
   ]
  },
  {
   "cell_type": "code",
   "execution_count": 13,
   "metadata": {},
   "outputs": [
    {
     "data": {
      "text/plain": [
       "5.7229471073163425e-11"
      ]
     },
     "execution_count": 13,
     "metadata": {},
     "output_type": "execute_result"
    }
   ],
   "source": [
    "slope_pvalue"
   ]
  },
  {
   "cell_type": "code",
   "execution_count": 14,
   "metadata": {},
   "outputs": [
    {
     "data": {
      "text/plain": [
       "0.004738115474710369"
      ]
     },
     "execution_count": 14,
     "metadata": {},
     "output_type": "execute_result"
    }
   ],
   "source": [
    "results.rsquared"
   ]
  },
  {
   "cell_type": "markdown",
   "metadata": {},
   "source": [
    "The p-value associated with agepreg is 5.7e-11, which is less than 0.001, as expected.\n",
    "\n",
    "results.rsquared contains R 2 , which is 0.0047. results also provides f_pvalue, which is the p-value associated with the model as a whole, similar to testing whether R 2 is statistically significant.\n",
    "\n",
    "And results provides resid, a sequence of residuals, and fittedvalues, a sequence of fitted values corresponding to agepreg.\n",
    "\n",
    "The results object provides summary(), which represents the results in a readable format."
   ]
  },
  {
   "cell_type": "code",
   "execution_count": 8,
   "metadata": {},
   "outputs": [
    {
     "name": "stdout",
     "output_type": "stream",
     "text": [
      "                            OLS Regression Results                            \n",
      "==============================================================================\n",
      "Dep. Variable:            totalwgt_lb   R-squared:                       0.005\n",
      "Model:                            OLS   Adj. R-squared:                  0.005\n",
      "Method:                 Least Squares   F-statistic:                     43.02\n",
      "Date:                Wed, 24 Oct 2018   Prob (F-statistic):           5.72e-11\n",
      "Time:                        18:53:47   Log-Likelihood:                -15897.\n",
      "No. Observations:                9038   AIC:                         3.180e+04\n",
      "Df Residuals:                    9036   BIC:                         3.181e+04\n",
      "Df Model:                           1                                         \n",
      "Covariance Type:            nonrobust                                         \n",
      "==============================================================================\n",
      "                 coef    std err          t      P>|t|      [0.025      0.975]\n",
      "------------------------------------------------------------------------------\n",
      "Intercept      6.8304      0.068    100.470      0.000       6.697       6.964\n",
      "agepreg        0.0175      0.003      6.559      0.000       0.012       0.023\n",
      "==============================================================================\n",
      "Omnibus:                     1024.052   Durbin-Watson:                   1.618\n",
      "Prob(Omnibus):                  0.000   Jarque-Bera (JB):             3081.833\n",
      "Skew:                          -0.601   Prob(JB):                         0.00\n",
      "Kurtosis:                       5.596   Cond. No.                         118.\n",
      "==============================================================================\n",
      "\n",
      "Warnings:\n",
      "[1] Standard Errors assume that the covariance matrix of the errors is correctly specified.\n"
     ]
    }
   ],
   "source": [
    "print(results.summary())"
   ]
  },
  {
   "cell_type": "markdown",
   "metadata": {},
   "source": [
    "But it prints a lot of information that is not relevant (yet), so I use a simpler function called SummarizeResults. Here are the results of this model:"
   ]
  },
  {
   "cell_type": "code",
   "execution_count": 22,
   "metadata": {},
   "outputs": [
    {
     "name": "stdout",
     "output_type": "stream",
     "text": [
      "Intercept   6.83   (0)\n",
      "agepreg   0.0175   (5.72e-11)\n",
      "R^2 0.004738\n",
      "Std(ys) 1.408\n",
      "Std(res) 1.405\n"
     ]
    }
   ],
   "source": [
    "regression.SummarizeResults(results)"
   ]
  },
  {
   "cell_type": "markdown",
   "metadata": {},
   "source": [
    "Std(ys) is the standard deviation of the dependent variable, which is the RMSE if you have to guess birth weights without the benefit of any explanatory variables. Std(res) is the standard deviation of the residuals, which\n",
    "is the RMSE if your guesses are informed by the mother’s age. As we have already seen, knowing the mother’s age provides no substantial improvement to the predictions.\n",
    "\n",
    "Fit a stats model to the baby data to assess a model that predicts weight of the baby based on lenght of the pregnancy:"
   ]
  },
  {
   "cell_type": "code",
   "execution_count": 33,
   "metadata": {},
   "outputs": [
    {
     "name": "stdout",
     "output_type": "stream",
     "text": [
      "                            OLS Regression Results                            \n",
      "==============================================================================\n",
      "Dep. Variable:            totalwgt_lb   R-squared:                       0.244\n",
      "Model:                            OLS   Adj. R-squared:                  0.244\n",
      "Method:                 Least Squares   F-statistic:                     2917.\n",
      "Date:                Wed, 24 Oct 2018   Prob (F-statistic):               0.00\n",
      "Time:                        19:18:48   Log-Likelihood:                -14654.\n",
      "No. Observations:                9038   AIC:                         2.931e+04\n",
      "Df Residuals:                    9036   BIC:                         2.933e+04\n",
      "Df Model:                           1                                         \n",
      "Covariance Type:            nonrobust                                         \n",
      "==============================================================================\n",
      "                 coef    std err          t      P>|t|      [0.025      0.975]\n",
      "------------------------------------------------------------------------------\n",
      "Intercept     -2.7203      0.185    -14.678      0.000      -3.084      -2.357\n",
      "prglngth       0.2589      0.005     54.011      0.000       0.250       0.268\n",
      "==============================================================================\n",
      "Omnibus:                      737.993   Durbin-Watson:                   1.599\n",
      "Prob(Omnibus):                  0.000   Jarque-Bera (JB):             2950.510\n",
      "Skew:                           0.329   Prob(JB):                         0.00\n",
      "Kurtosis:                       5.721   Cond. No.                         557.\n",
      "==============================================================================\n",
      "\n",
      "Warnings:\n",
      "[1] Standard Errors assume that the covariance matrix of the errors is correctly specified.\n"
     ]
    }
   ],
   "source": [
    "# Code it here\n",
    "\n",
    "formula = 'totalwgt_lb ~ prglngth'\n",
    "model = smf.ols(formula, data=live)\n",
    "results = model.fit()\n",
    "\n",
    "inter = results.params['Intercept']\n",
    "slope = results.params['prglngth']\n",
    "print(results.summary())"
   ]
  },
  {
   "cell_type": "code",
   "execution_count": 34,
   "metadata": {
    "scrolled": false
   },
   "outputs": [
    {
     "name": "stdout",
     "output_type": "stream",
     "text": [
      "Intercept   -2.72   (3.21e-48)\n",
      "prglngth   0.259   (0)\n",
      "R^2 0.244\n",
      "Std(ys) 1.408\n",
      "Std(res) 1.224\n"
     ]
    }
   ],
   "source": [
    "regression.SummarizeResults(results)"
   ]
  },
  {
   "cell_type": "markdown",
   "metadata": {},
   "source": [
    "How do you interpret the Beta and the intercept observed on the model?"
   ]
  },
  {
   "cell_type": "code",
   "execution_count": 36,
   "metadata": {},
   "outputs": [],
   "source": [
    "# Answer here\n",
    "\n",
    "# y = B0 + B1X1\n",
    "# B0 = intercept when prglngth is 0 totalwgt_lb is equal to the intercept -2.72\n",
    "# B1 = \"slope\" How change one variable when the another one change. If prglngth grows 1 week, on average totalwgt_lb will increase by 0.259 pounds"
   ]
  },
  {
   "cell_type": "markdown",
   "metadata": {},
   "source": [
    "## 2 Multiple Regression\n",
    "\n",
    "In chapter 4 we saw that first babies tend to be lighter than others, and this effect is statistically significant. But it is a strange result because there is no obvious mechanism that would cause first babies to be lighter. So we\n",
    "might wonder whether this relationship is **spurious**.\n",
    "\n",
    "In fact, there is a possible explanation for this effect. We have seen that birth weight depends on mother’s age, and we might expect that mothers of first babies are younger than others.\n",
    "\n",
    "With a few calculations we can check whether this explanation is plausible. Then we’ll use multiple regression to investigate more carefully. First, let’s see how big the difference in weight is:"
   ]
  },
  {
   "cell_type": "code",
   "execution_count": 40,
   "metadata": {},
   "outputs": [
    {
     "data": {
      "text/plain": [
       "-0.12476118453549034"
      ]
     },
     "execution_count": 40,
     "metadata": {},
     "output_type": "execute_result"
    }
   ],
   "source": [
    "diff_weight = firsts.totalwgt_lb.mean() - others.totalwgt_lb.mean()\n",
    "diff_weight"
   ]
  },
  {
   "cell_type": "markdown",
   "metadata": {},
   "source": [
    "First babies are 0.125 lbs lighter, or 2 ounces. And the difference in ages:"
   ]
  },
  {
   "cell_type": "code",
   "execution_count": 41,
   "metadata": {},
   "outputs": [
    {
     "data": {
      "text/plain": [
       "-3.5864347661500275"
      ]
     },
     "execution_count": 41,
     "metadata": {},
     "output_type": "execute_result"
    }
   ],
   "source": [
    "diff_age = firsts.agepreg.mean() - others.agepreg.mean()\n",
    "diff_age"
   ]
  },
  {
   "cell_type": "markdown",
   "metadata": {},
   "source": [
    "The mothers of first babies are 3.59 years younger. Running the linear model again, we get the change in birth weight as a function of age:"
   ]
  },
  {
   "cell_type": "code",
   "execution_count": 42,
   "metadata": {},
   "outputs": [],
   "source": [
    "results = smf.ols('totalwgt_lb ~ agepreg', data=live).fit()\n",
    "slope = results.params['agepreg']"
   ]
  },
  {
   "cell_type": "markdown",
   "metadata": {},
   "source": [
    "The slope is 0.0175 pounds per year. If we multiply the slope by the difference in ages, we get the expected difference in birth weight for first babies and others, due to mother’s age:"
   ]
  },
  {
   "cell_type": "code",
   "execution_count": 43,
   "metadata": {},
   "outputs": [
    {
     "data": {
      "text/plain": [
       "-0.0625970997216918"
      ]
     },
     "execution_count": 43,
     "metadata": {},
     "output_type": "execute_result"
    }
   ],
   "source": [
    "slope * diff_age"
   ]
  },
  {
   "cell_type": "markdown",
   "metadata": {},
   "source": [
    "The result is 0.063, just about half of the observed difference. So we conclude, tentatively, that the observed difference in birth weight can be partly explained by the difference in mother’s age.\n",
    "\n",
    "Using multiple regression, we can explore these relationships more systematically."
   ]
  },
  {
   "cell_type": "code",
   "execution_count": 46,
   "metadata": {},
   "outputs": [
    {
     "name": "stdout",
     "output_type": "stream",
     "text": [
      "Intercept   7.33   (0)\n",
      "isfirst[T.True]   -0.125   (2.55e-05)\n",
      "R^2 0.00196\n",
      "Std(ys) 1.408\n",
      "Std(res) 1.407\n"
     ]
    }
   ],
   "source": [
    "live['isfirst'] = live.birthord == 1\n",
    "formula = 'totalwgt_lb ~ isfirst'\n",
    "results = smf.ols(formula, data=live).fit()\n",
    "regression.SummarizeResults(results)"
   ]
  },
  {
   "cell_type": "markdown",
   "metadata": {},
   "source": [
    "How do you interpret the beta observed on the model?"
   ]
  },
  {
   "cell_type": "code",
   "execution_count": 47,
   "metadata": {},
   "outputs": [],
   "source": [
    "# Answer here\n",
    "\n",
    "# When the babies are the first ones the totalwgt_lb trend to be lower by -0.125"
   ]
  },
  {
   "cell_type": "markdown",
   "metadata": {},
   "source": [
    "The first line creates a new column named isfirst that is True for first babies and false otherwise. Then we fit a model using isfirst as an explanatory variable.\n",
    "\n",
    "Because isfirst is a boolean, ols treats it as a **categorical variable**, which means that the values fall into categories, like True and False, and should not be treated as numbers. The estimated parameter is the effect on birth weight when isfirst is true, so the result, -0.125 lbs, is the difference in birth weight between first babies and others.\n",
    "\n",
    "The slope and the intercept are statistically significant, which means that they were unlikely to occur by chance, but the R 2 value for this model is small, which means that isfirst doesn’t account for a substantial part of\n",
    "the variation in birth weight.\n",
    "\n",
    "The results are similar with agepreg:"
   ]
  },
  {
   "cell_type": "code",
   "execution_count": 49,
   "metadata": {},
   "outputs": [
    {
     "name": "stdout",
     "output_type": "stream",
     "text": [
      "Intercept   6.83   (0)\n",
      "agepreg   0.0175   (5.72e-11)\n",
      "R^2 0.004738\n",
      "Std(ys) 1.408\n",
      "Std(res) 1.405\n"
     ]
    }
   ],
   "source": [
    "live['isfirst'] = live.birthord == 1\n",
    "formula = 'totalwgt_lb ~ agepreg'\n",
    "results = smf.ols(formula, data=live).fit()\n",
    "regression.SummarizeResults(results)"
   ]
  },
  {
   "cell_type": "markdown",
   "metadata": {},
   "source": [
    "Again, the parameters are statistically significant, but R 2 is low.\n",
    "These models confirm results we have already seen. But now we can fit a single model that includes both variables.\n",
    "With the formula totalwgt_lb ~ isfirst + agepreg, we get:"
   ]
  },
  {
   "cell_type": "code",
   "execution_count": 50,
   "metadata": {},
   "outputs": [
    {
     "name": "stdout",
     "output_type": "stream",
     "text": [
      "Intercept   6.91   (0)\n",
      "isfirst[T.True]   -0.0698   (0.0253)\n",
      "agepreg   0.0154   (3.93e-08)\n",
      "R^2 0.005289\n",
      "Std(ys) 1.408\n",
      "Std(res) 1.405\n"
     ]
    }
   ],
   "source": [
    "live['isfirst'] = live.birthord == 1\n",
    "formula = 'totalwgt_lb ~ isfirst + agepreg'\n",
    "results = smf.ols(formula, data=live).fit()\n",
    "regression.SummarizeResults(results)"
   ]
  },
  {
   "cell_type": "markdown",
   "metadata": {},
   "source": [
    "In the combined model, the parameter for isfirst is smaller by about half, which means that part of the apparent effect of isfirst is actually accounted for by agepreg. And the p-value for isfirst is about 2.5%, which is on the\n",
    "border of statistical significance.\n",
    "\n",
    "R2 for this model is a little higher, which indicates that the two variables together account for more variation in birth weight than either alone (but not by much).\n",
    "\n",
    "Look at the pregnancy data and pick 5 variables that you think will be good at predicting lenght of the pregnancy. Create a linear regression and fit it, assesing the predicting power of this variables."
   ]
  },
  {
   "cell_type": "code",
   "execution_count": 54,
   "metadata": {},
   "outputs": [
    {
     "name": "stdout",
     "output_type": "stream",
     "text": [
      "Intercept   31.7   (0)\n",
      "isfirst[T.True]   0.131   (0.0399)\n",
      "agepreg   -0.00547   (0.266)\n",
      "pregordr   -0.0271   (0.231)\n",
      "totalwgt_lb   0.942   (0)\n",
      "cmprgbeg   0.000151   (0.47)\n",
      "R^2 0.2445\n",
      "Std(ys) 2.679\n",
      "Std(res) 2.329\n"
     ]
    }
   ],
   "source": [
    "# Code it here\n",
    "formula = 'prglngth ~ isfirst + agepreg + pregordr + totalwgt_lb + cmprgbeg'\n",
    "results = smf.ols(formula, data=live).fit()\n",
    "regression.SummarizeResults(results)"
   ]
  },
  {
   "cell_type": "markdown",
   "metadata": {},
   "source": [
    "## 3. Nonlinear relationships\n",
    "\n",
    "Remembering that the contribution of agepreg might be nonlinear, we might consider adding a variable to capture more of this relationship. One option is to create a column, agepreg2, that contains the squares of the ages:"
   ]
  },
  {
   "cell_type": "code",
   "execution_count": 55,
   "metadata": {},
   "outputs": [],
   "source": [
    "live['agepreg2'] = live.agepreg**2\n",
    "formula = 'totalwgt_lb ~ isfirst + agepreg + agepreg2'"
   ]
  },
  {
   "cell_type": "markdown",
   "metadata": {},
   "source": [
    "Now by estimating parameters for agepreg and agepreg2, we are effectively fitting a parabola:"
   ]
  },
  {
   "cell_type": "code",
   "execution_count": 57,
   "metadata": {},
   "outputs": [
    {
     "name": "stdout",
     "output_type": "stream",
     "text": [
      "Intercept   5.69   (1.38e-86)\n",
      "isfirst[T.True]   -0.0504   (0.109)\n",
      "agepreg   0.112   (3.23e-07)\n",
      "agepreg2   -0.00185   (8.8e-06)\n",
      "R^2 0.007462\n",
      "Std(ys) 1.408\n",
      "Std(res) 1.403\n"
     ]
    }
   ],
   "source": [
    "results = smf.ols(formula, data=live).fit()\n",
    "regression.SummarizeResults(results)"
   ]
  },
  {
   "cell_type": "markdown",
   "metadata": {},
   "source": [
    "The parameter of agepreg2 is negative, so the parabola curves downward. \n",
    "\n",
    "The quadratic model of agepreg accounts for more of the variability in birth weight; the parameter for isfirst is smaller in this model, and no longer statistically significant.\n",
    "\n",
    "Using computed variables like agepreg2 is a common way to fit polynomials and other functions to data. This process is still considered linear regression, because the dependent variable is a linear function of the explanatory variables, regardless of whether some variables are nonlinear functions of others.\n",
    "\n",
    "\n",
    "The following table summerizes the results:\n",
    "\n",
    "![alt text](notebookpics/modelsfit.png \"Title\")\n",
    "\n",
    "Each entry is an estimated parameter and either a p-value in parentheses or an asterisk to indicate a p-value less that 0.001.\n",
    "\n",
    "We conclude that the apparent difference in birth weight is explained, at least in part, by the difference in mother’s age. When we include mother’s age in the model, the effect of isfirst gets smaller, and the remaining effect might be due to chance.\n",
    "\n",
    "In this example, mother’s age acts as a **control variable**; including agepreg in the model “controls for” the difference in age between first-time mothers and others, making it possible to isolate the effect (if any) of isfirst.\n",
    "\n",
    "## 4. Data mining\n",
    "\n",
    "So far we have used regression models for explanation; for example, in the previous section we discovered that an apparent difference in birth weight is actually due to a difference in mother’s age. But the R2 values of those\n",
    "models is very low, which means that they have little predictive power. In this section we’ll try to do better.\n",
    "\n",
    "Suppose one of your co-workers is expecting a baby and there is an office pool to guess the baby’s birth weight (if you are not familiar with betting pools, see https://en.wikipedia.org/wiki/Betting_pool).\n",
    "\n",
    "Now suppose that you really want to win the pool. What could you do to improve your chances? Well, the NSFG dataset includes 244 variables about each pregnancy and another 3087 variables about each respondent. Maybe some of those variables have predictive power. To find out which ones are most useful, why not try them all?\n",
    "\n",
    "Testing the variables in the pregnancy table is easy, but in order to use the variables in the respondent table, we have to match up each pregnancy with a respondent. In theory we could iterate through the rows of the pregnancy\n",
    "table, use the caseid to find the corresponding respondent, and copy the values from the correspondent table into the pregnancy table. But that would be slow.\n",
    "\n",
    "A better option is to recognize this process as a join operation as defined in SQL and other relational database languages (see https://en.wikipedia.org/wiki/Join_(SQL)). Join is implemented as a DataFrame method, so we can perform the operation like this:"
   ]
  },
  {
   "cell_type": "code",
   "execution_count": 59,
   "metadata": {},
   "outputs": [],
   "source": [
    "import nsfg\n",
    "\n",
    "live = live[live.prglngth>30]\n",
    "resp = nsfg.ReadFemResp()\n",
    "resp.index = resp.caseid\n",
    "join = live.join(resp, on='caseid', rsuffix='_r')"
   ]
  },
  {
   "cell_type": "markdown",
   "metadata": {},
   "source": [
    "The first line selects records for pregnancies longer than 30 weeks, assuming that the office pool is formed several weeks before the due date.\n",
    "\n",
    "The next line reads the respondent file. The result is a DataFrame with integer indices; in order to look up respondents efficiently, I replace resp.index with resp.caseid.\n",
    "\n",
    "The join method is invoked on live, which is considered the “left” table, and passed resp, which is the “right” table. The keyword argument on indicates the variable used to match up rows from the two tables.\n",
    "\n",
    "In this example some column names appear in both tables, so we have to provide rsuffix, which is a string that will be appended to the names of overlapping columns from the right table. For example, both tables have a column named race that encodes the race of the respondent. The result of the join contains two columns named race and race_r.\n",
    "\n",
    "The pandas implementation is fast. Joining the NSFG tables takes less than a second on an ordinary desktop computer. Now we can start testing variables."
   ]
  },
  {
   "cell_type": "code",
   "execution_count": 60,
   "metadata": {},
   "outputs": [],
   "source": [
    "t = []\n",
    "for name in join.columns:\n",
    "    try:\n",
    "        if join[name].var() < 1e-7:\n",
    "            continue\n",
    "            \n",
    "        formula = 'totalwgt_lb ~ agepreg + ' + name\n",
    "        model = smf.ols(formula, data=join)\n",
    "        \n",
    "        if model.nobs < len(join)/2:\n",
    "            continue\n",
    "        results = model.fit()\n",
    "        \n",
    "    except (ValueError, TypeError):\n",
    "        continue\n",
    "        \n",
    "    t.append((results.rsquared, name))"
   ]
  },
  {
   "cell_type": "code",
   "execution_count": 66,
   "metadata": {},
   "outputs": [
    {
     "data": {
      "text/html": [
       "<div>\n",
       "<style scoped>\n",
       "    .dataframe tbody tr th:only-of-type {\n",
       "        vertical-align: middle;\n",
       "    }\n",
       "\n",
       "    .dataframe tbody tr th {\n",
       "        vertical-align: top;\n",
       "    }\n",
       "\n",
       "    .dataframe thead th {\n",
       "        text-align: right;\n",
       "    }\n",
       "</style>\n",
       "<table border=\"1\" class=\"dataframe\">\n",
       "  <thead>\n",
       "    <tr style=\"text-align: right;\">\n",
       "      <th></th>\n",
       "      <th>0</th>\n",
       "      <th>1</th>\n",
       "    </tr>\n",
       "  </thead>\n",
       "  <tbody>\n",
       "    <tr>\n",
       "      <th>107</th>\n",
       "      <td>1.000000</td>\n",
       "      <td>totalwgt_lb</td>\n",
       "    </tr>\n",
       "    <tr>\n",
       "      <th>12</th>\n",
       "      <td>0.949813</td>\n",
       "      <td>birthwgt_lb</td>\n",
       "    </tr>\n",
       "    <tr>\n",
       "      <th>49</th>\n",
       "      <td>0.300824</td>\n",
       "      <td>lbw1</td>\n",
       "    </tr>\n",
       "    <tr>\n",
       "      <th>39</th>\n",
       "      <td>0.130125</td>\n",
       "      <td>prglngth</td>\n",
       "    </tr>\n",
       "    <tr>\n",
       "      <th>8</th>\n",
       "      <td>0.123400</td>\n",
       "      <td>wksgest</td>\n",
       "    </tr>\n",
       "    <tr>\n",
       "      <th>44</th>\n",
       "      <td>0.102031</td>\n",
       "      <td>agecon</td>\n",
       "    </tr>\n",
       "    <tr>\n",
       "      <th>9</th>\n",
       "      <td>0.027144</td>\n",
       "      <td>mosgest</td>\n",
       "    </tr>\n",
       "    <tr>\n",
       "      <th>11</th>\n",
       "      <td>0.018551</td>\n",
       "      <td>babysex</td>\n",
       "    </tr>\n",
       "    <tr>\n",
       "      <th>62</th>\n",
       "      <td>0.016200</td>\n",
       "      <td>race</td>\n",
       "    </tr>\n",
       "    <tr>\n",
       "      <th>517</th>\n",
       "      <td>0.016200</td>\n",
       "      <td>race_r</td>\n",
       "    </tr>\n",
       "    <tr>\n",
       "      <th>3</th>\n",
       "      <td>0.016018</td>\n",
       "      <td>nbrnaliv</td>\n",
       "    </tr>\n",
       "    <tr>\n",
       "      <th>454</th>\n",
       "      <td>0.014004</td>\n",
       "      <td>paydu</td>\n",
       "    </tr>\n",
       "    <tr>\n",
       "      <th>558</th>\n",
       "      <td>0.013430</td>\n",
       "      <td>rmarout03</td>\n",
       "    </tr>\n",
       "    <tr>\n",
       "      <th>13</th>\n",
       "      <td>0.013102</td>\n",
       "      <td>birthwgt_oz</td>\n",
       "    </tr>\n",
       "    <tr>\n",
       "      <th>18</th>\n",
       "      <td>0.012529</td>\n",
       "      <td>anynurse</td>\n",
       "    </tr>\n",
       "    <tr>\n",
       "      <th>50</th>\n",
       "      <td>0.012194</td>\n",
       "      <td>bfeedwks</td>\n",
       "    </tr>\n",
       "    <tr>\n",
       "      <th>877</th>\n",
       "      <td>0.011870</td>\n",
       "      <td>totincr</td>\n",
       "    </tr>\n",
       "    <tr>\n",
       "      <th>555</th>\n",
       "      <td>0.011808</td>\n",
       "      <td>marout03</td>\n",
       "    </tr>\n",
       "    <tr>\n",
       "      <th>561</th>\n",
       "      <td>0.011753</td>\n",
       "      <td>marcon03</td>\n",
       "    </tr>\n",
       "    <tr>\n",
       "      <th>562</th>\n",
       "      <td>0.011438</td>\n",
       "      <td>cebow</td>\n",
       "    </tr>\n",
       "    <tr>\n",
       "      <th>556</th>\n",
       "      <td>0.011408</td>\n",
       "      <td>rmarout01</td>\n",
       "    </tr>\n",
       "    <tr>\n",
       "      <th>47</th>\n",
       "      <td>0.011354</td>\n",
       "      <td>rmarout6</td>\n",
       "    </tr>\n",
       "    <tr>\n",
       "      <th>553</th>\n",
       "      <td>0.011269</td>\n",
       "      <td>marout01</td>\n",
       "    </tr>\n",
       "    <tr>\n",
       "      <th>518</th>\n",
       "      <td>0.011238</td>\n",
       "      <td>hisprace_r</td>\n",
       "    </tr>\n",
       "    <tr>\n",
       "      <th>64</th>\n",
       "      <td>0.011238</td>\n",
       "      <td>hisprace</td>\n",
       "    </tr>\n",
       "    <tr>\n",
       "      <th>671</th>\n",
       "      <td>0.010962</td>\n",
       "      <td>mar1diss</td>\n",
       "    </tr>\n",
       "    <tr>\n",
       "      <th>48</th>\n",
       "      <td>0.010605</td>\n",
       "      <td>fmarcon5</td>\n",
       "    </tr>\n",
       "    <tr>\n",
       "      <th>557</th>\n",
       "      <td>0.010547</td>\n",
       "      <td>rmarout02</td>\n",
       "    </tr>\n",
       "    <tr>\n",
       "      <th>560</th>\n",
       "      <td>0.010481</td>\n",
       "      <td>marcon02</td>\n",
       "    </tr>\n",
       "    <tr>\n",
       "      <th>45</th>\n",
       "      <td>0.010462</td>\n",
       "      <td>fmarout5</td>\n",
       "    </tr>\n",
       "    <tr>\n",
       "      <th>...</th>\n",
       "      <td>...</td>\n",
       "      <td>...</td>\n",
       "    </tr>\n",
       "    <tr>\n",
       "      <th>467</th>\n",
       "      <td>0.005217</td>\n",
       "      <td>dolastwk3</td>\n",
       "    </tr>\n",
       "    <tr>\n",
       "      <th>253</th>\n",
       "      <td>0.005183</td>\n",
       "      <td>cmfstuse</td>\n",
       "    </tr>\n",
       "    <tr>\n",
       "      <th>210</th>\n",
       "      <td>0.005181</td>\n",
       "      <td>everovrs</td>\n",
       "    </tr>\n",
       "    <tr>\n",
       "      <th>470</th>\n",
       "      <td>0.005178</td>\n",
       "      <td>rnumjob</td>\n",
       "    </tr>\n",
       "    <tr>\n",
       "      <th>31</th>\n",
       "      <td>0.005043</td>\n",
       "      <td>wthpart1</td>\n",
       "    </tr>\n",
       "    <tr>\n",
       "      <th>478</th>\n",
       "      <td>0.004887</td>\n",
       "      <td>chcarany</td>\n",
       "    </tr>\n",
       "    <tr>\n",
       "      <th>426</th>\n",
       "      <td>0.004842</td>\n",
       "      <td>numbcvis</td>\n",
       "    </tr>\n",
       "    <tr>\n",
       "      <th>197</th>\n",
       "      <td>0.004686</td>\n",
       "      <td>p1yrf</td>\n",
       "    </tr>\n",
       "    <tr>\n",
       "      <th>445</th>\n",
       "      <td>0.004478</td>\n",
       "      <td>cmhivtst</td>\n",
       "    </tr>\n",
       "    <tr>\n",
       "      <th>196</th>\n",
       "      <td>0.004476</td>\n",
       "      <td>p1yhsage</td>\n",
       "    </tr>\n",
       "    <tr>\n",
       "      <th>428</th>\n",
       "      <td>0.004438</td>\n",
       "      <td>pappelec</td>\n",
       "    </tr>\n",
       "    <tr>\n",
       "      <th>255</th>\n",
       "      <td>0.004438</td>\n",
       "      <td>agefstus</td>\n",
       "    </tr>\n",
       "    <tr>\n",
       "      <th>19</th>\n",
       "      <td>0.004410</td>\n",
       "      <td>frsteatd_n</td>\n",
       "    </tr>\n",
       "    <tr>\n",
       "      <th>427</th>\n",
       "      <td>0.004400</td>\n",
       "      <td>papplbc2</td>\n",
       "    </tr>\n",
       "    <tr>\n",
       "      <th>252</th>\n",
       "      <td>0.004370</td>\n",
       "      <td>firstime2</td>\n",
       "    </tr>\n",
       "    <tr>\n",
       "      <th>446</th>\n",
       "      <td>0.004355</td>\n",
       "      <td>plchiv</td>\n",
       "    </tr>\n",
       "    <tr>\n",
       "      <th>447</th>\n",
       "      <td>0.004315</td>\n",
       "      <td>hivtst</td>\n",
       "    </tr>\n",
       "    <tr>\n",
       "      <th>20</th>\n",
       "      <td>0.004264</td>\n",
       "      <td>frsteatd_p</td>\n",
       "    </tr>\n",
       "    <tr>\n",
       "      <th>207</th>\n",
       "      <td>0.004260</td>\n",
       "      <td>cmpart1y1</td>\n",
       "    </tr>\n",
       "    <tr>\n",
       "      <th>21</th>\n",
       "      <td>0.004020</td>\n",
       "      <td>frsteatd</td>\n",
       "    </tr>\n",
       "    <tr>\n",
       "      <th>466</th>\n",
       "      <td>0.004019</td>\n",
       "      <td>dolastwk2</td>\n",
       "    </tr>\n",
       "    <tr>\n",
       "      <th>755</th>\n",
       "      <td>0.004003</td>\n",
       "      <td>sex1mthd2</td>\n",
       "    </tr>\n",
       "    <tr>\n",
       "      <th>221</th>\n",
       "      <td>0.003893</td>\n",
       "      <td>pregnono</td>\n",
       "    </tr>\n",
       "    <tr>\n",
       "      <th>219</th>\n",
       "      <td>0.003878</td>\n",
       "      <td>posiblpg</td>\n",
       "    </tr>\n",
       "    <tr>\n",
       "      <th>29</th>\n",
       "      <td>0.003727</td>\n",
       "      <td>wantbold</td>\n",
       "    </tr>\n",
       "    <tr>\n",
       "      <th>680</th>\n",
       "      <td>0.003138</td>\n",
       "      <td>cohout</td>\n",
       "    </tr>\n",
       "    <tr>\n",
       "      <th>678</th>\n",
       "      <td>0.002719</td>\n",
       "      <td>cohab1</td>\n",
       "    </tr>\n",
       "    <tr>\n",
       "      <th>34</th>\n",
       "      <td>0.002629</td>\n",
       "      <td>cohpbeg</td>\n",
       "    </tr>\n",
       "    <tr>\n",
       "      <th>35</th>\n",
       "      <td>0.001804</td>\n",
       "      <td>cohpend</td>\n",
       "    </tr>\n",
       "    <tr>\n",
       "      <th>185</th>\n",
       "      <td>0.001017</td>\n",
       "      <td>grfstsx</td>\n",
       "    </tr>\n",
       "  </tbody>\n",
       "</table>\n",
       "<p>890 rows × 2 columns</p>\n",
       "</div>"
      ],
      "text/plain": [
       "            0            1\n",
       "107  1.000000  totalwgt_lb\n",
       "12   0.949813  birthwgt_lb\n",
       "49   0.300824         lbw1\n",
       "39   0.130125     prglngth\n",
       "8    0.123400      wksgest\n",
       "44   0.102031       agecon\n",
       "9    0.027144      mosgest\n",
       "11   0.018551      babysex\n",
       "62   0.016200         race\n",
       "517  0.016200       race_r\n",
       "3    0.016018     nbrnaliv\n",
       "454  0.014004        paydu\n",
       "558  0.013430    rmarout03\n",
       "13   0.013102  birthwgt_oz\n",
       "18   0.012529     anynurse\n",
       "50   0.012194     bfeedwks\n",
       "877  0.011870      totincr\n",
       "555  0.011808     marout03\n",
       "561  0.011753     marcon03\n",
       "562  0.011438        cebow\n",
       "556  0.011408    rmarout01\n",
       "47   0.011354     rmarout6\n",
       "553  0.011269     marout01\n",
       "518  0.011238   hisprace_r\n",
       "64   0.011238     hisprace\n",
       "671  0.010962     mar1diss\n",
       "48   0.010605     fmarcon5\n",
       "557  0.010547    rmarout02\n",
       "560  0.010481     marcon02\n",
       "45   0.010462     fmarout5\n",
       "..        ...          ...\n",
       "467  0.005217    dolastwk3\n",
       "253  0.005183     cmfstuse\n",
       "210  0.005181     everovrs\n",
       "470  0.005178      rnumjob\n",
       "31   0.005043     wthpart1\n",
       "478  0.004887     chcarany\n",
       "426  0.004842     numbcvis\n",
       "197  0.004686        p1yrf\n",
       "445  0.004478     cmhivtst\n",
       "196  0.004476     p1yhsage\n",
       "428  0.004438     pappelec\n",
       "255  0.004438     agefstus\n",
       "19   0.004410   frsteatd_n\n",
       "427  0.004400     papplbc2\n",
       "252  0.004370    firstime2\n",
       "446  0.004355       plchiv\n",
       "447  0.004315       hivtst\n",
       "20   0.004264   frsteatd_p\n",
       "207  0.004260    cmpart1y1\n",
       "21   0.004020     frsteatd\n",
       "466  0.004019    dolastwk2\n",
       "755  0.004003    sex1mthd2\n",
       "221  0.003893     pregnono\n",
       "219  0.003878     posiblpg\n",
       "29   0.003727     wantbold\n",
       "680  0.003138       cohout\n",
       "678  0.002719       cohab1\n",
       "34   0.002629      cohpbeg\n",
       "35   0.001804      cohpend\n",
       "185  0.001017      grfstsx\n",
       "\n",
       "[890 rows x 2 columns]"
      ]
     },
     "execution_count": 66,
     "metadata": {},
     "output_type": "execute_result"
    }
   ],
   "source": [
    "pd.DataFrame(t).sort_values(0, ascending=False)"
   ]
  },
  {
   "cell_type": "markdown",
   "metadata": {},
   "source": [
    "For each variable we construct a model, compute R 2 , and append the results to a list. The models all include agepreg, since we already know that it has some predictive power.\n",
    "\n",
    "I check that each explanatory variable has some variability; otherwise the results of the regression are unreliable. I also check the number of observations for each model. Variables that contain a large number of nans are not good candidates for prediction.\n",
    "\n",
    "For most of these variables, we haven’t done any cleaning. Some of them are encoded in ways that don’t work very well for linear regression. As a result, we might overlook some variables that would be useful if they were cleaned\n",
    "properly. But maybe we will find some good candidates.\n",
    "\n",
    "## 5. Prediction\n",
    "\n",
    "The next step is to sort the results and select the variables that yield the highest values of R^2."
   ]
  },
  {
   "cell_type": "code",
   "execution_count": 67,
   "metadata": {},
   "outputs": [
    {
     "name": "stdout",
     "output_type": "stream",
     "text": [
      "totalwgt_lb 1.0\n",
      "birthwgt_lb 0.9498127305978009\n",
      "lbw1 0.3008240784470769\n",
      "prglngth 0.13012519488625063\n",
      "wksgest 0.12340041363361076\n",
      "agecon 0.10203149928156108\n",
      "mosgest 0.02714427463957958\n",
      "babysex 0.018550925293942533\n",
      "race_r 0.016199503586253106\n",
      "race 0.016199503586253106\n",
      "nbrnaliv 0.016017752709788113\n",
      "paydu 0.014003795578114597\n",
      "rmarout03 0.01343006646571343\n",
      "birthwgt_oz 0.013102457615706498\n",
      "anynurse 0.012529022541810653\n",
      "bfeedwks 0.012193688404495417\n",
      "totincr 0.011870069031173158\n",
      "marout03 0.011807801994375033\n",
      "marcon03 0.011752599354395321\n",
      "cebow 0.011437770919637269\n",
      "rmarout01 0.011407737138640073\n",
      "rmarout6 0.011354138472805753\n",
      "marout01 0.011269357246806444\n",
      "hisprace_r 0.01123834930203138\n",
      "hisprace 0.01123834930203138\n",
      "mar1diss 0.0109615635907514\n",
      "fmarcon5 0.0106049646842995\n",
      "rmarout02 0.010546913206564978\n",
      "marcon02 0.01048140179553414\n",
      "fmarout5 0.010461691367377068\n"
     ]
    }
   ],
   "source": [
    "t.sort(reverse=True)\n",
    "for mse, name in t[:30]:\n",
    "    print(name, mse)"
   ]
  },
  {
   "cell_type": "markdown",
   "metadata": {},
   "source": [
    "The first variable on the list is totalwgt_lb, followed by birthwgt_lb. Obviously, we can’t use birth weight to predict birth weight.\n",
    "\n",
    "Similarly prglngth has useful predictive power, but for the office pool we assume pregnancy length (and the related variables) are not known yet.\n",
    "\n",
    "The first useful predictive variable is babysex which indicates whether the baby is male or female. In the NSFG dataset, boys are about 0.3 lbs heavier. So, assuming that the sex of the baby is known, we can use it for prediction.\n",
    "\n",
    "Next is race, which indicates whether the respondent is white, black, or other. As an explanatory variable, race can be problematic. In datasets like the NSFG, race is correlated with many other variables, including income\n",
    "and other socioeconomic factors. In a regression model, race acts as a **proxy variable**, so apparent correlations with race are often caused, at least in part, by other factors.\n",
    "\n",
    "The next variable on the list is nbrnaliv, which indicates whether the pregnancy yielded multiple births. Twins and triplets tend to be smaller than other babies, so if we know whether our hypothetical co-worker is expecting twins, that would help.\n",
    "\n",
    "Next on the list is paydu, which indicates whether the respondent owns her home. It is one of several income-related variables that turn out to be predictive. In datasets like the NSFG, income and wealth are correlated\n",
    "with just about everything. In this example, income is related to diet, health, health care, and other factors likely to affect birth weight.\n",
    "\n",
    "Some of the other variables on the list are things that would not be known until later, like bfeedwks, the number of weeks the baby was breast fed. We can’t use these variables for prediction, but you might want to speculate on\n",
    "reasons bfeedwks might be correlated with birth weight.\n",
    "\n",
    "Sometimes you start with a theory and use data to test it. Other times you start with data and go looking for possible theories. The second approach, which this section demonstrates, is called **data mining**. An advantage of\n",
    "data mining is that it can discover unexpected patterns. A hazard is that many of the patterns it discovers are either random or spurious.\n",
    "\n",
    "Having identified potential explanatory variables, I tested a few models and settled on this one:"
   ]
  },
  {
   "cell_type": "code",
   "execution_count": 68,
   "metadata": {},
   "outputs": [],
   "source": [
    "formula = ('totalwgt_lb ~ agepreg + C(race) + babysex==1 + '\n",
    "            'nbrnaliv>1 + paydu==1 + totincr')\n",
    "results = smf.ols(formula, data=join).fit()"
   ]
  },
  {
   "cell_type": "markdown",
   "metadata": {},
   "source": [
    "This formula uses some syntax we have not seen yet: C(race) tells the formula parser (Patsy) to treat race as a categorical variable, even though it is encoded numerically.\n",
    "\n",
    "The encoding for babysex is 1 for male, 2 for female; writing babysex==1 converts it to boolean, True for male and false for female.\n",
    "\n",
    "Similarly nbrnaliv>1 is True for multiple births and paydu==1 is True for respondents who own their houses.\n",
    "\n",
    "totincr is encoded numerically from 1-14, with each increment representing about 5000 in annual income. So we can treat these values as numerical, expressed in units of 5000. \n",
    "\n",
    "Here are the results of the model:"
   ]
  },
  {
   "cell_type": "code",
   "execution_count": 69,
   "metadata": {},
   "outputs": [
    {
     "name": "stdout",
     "output_type": "stream",
     "text": [
      "Intercept   6.63   (0)\n",
      "C(race)[T.2]   0.357   (5.43e-29)\n",
      "C(race)[T.3]   0.266   (2.33e-07)\n",
      "babysex == 1[T.True]   0.295   (5.39e-29)\n",
      "nbrnaliv > 1[T.True]   -1.38   (5.1e-37)\n",
      "paydu == 1[T.True]   0.12   (0.000114)\n",
      "agepreg   0.00741   (0.0035)\n",
      "totincr   0.0122   (0.00188)\n",
      "R^2 0.05999\n",
      "Std(ys) 1.271\n",
      "Std(res) 1.232\n"
     ]
    }
   ],
   "source": [
    "regression.SummarizeResults(results)"
   ]
  },
  {
   "cell_type": "markdown",
   "metadata": {},
   "source": [
    "The estimated parameters for race are larger than I expected, especially since we control for income. The encoding is 1 for black, 2 for white, and 3 for other. Babies of black mothers are lighter than babies of other races by\n",
    "0.27–0.36 lbs.\n",
    "\n",
    "As we’ve already seen, boys are heavier by about 0.3 lbs; twins and other multiplets are lighter by 1.4 lbs.\n",
    "\n",
    "People who own their homes have heavier babies by about 0.12 lbs, even when we control for income. The parameter for mother’s age is smaller than what we saw in Section 11.2, which suggests that some of the other variables\n",
    "are correlated with age, probably including paydu and totincr.\n",
    "\n",
    "All of these variables are statistically significant, some with very low p-values, but R 2 is only 0.06, still quite small. RMSE without using the model is 1.27 lbs; with the model it drops to 1.23. So your chance of winning the pool is not substantially improved. Sorry!\n",
    "\n",
    "## 6. Logistic regression\n",
    "\n",
    "In the previous examples, some of the explanatory variables were numerical and some categorical (including boolean). But the dependent variable was always numerical.\n",
    "\n",
    "Linear regression can be generalized to handle other kinds of dependent variables. If the dependent variable is boolean, the generalized model is called **logistic regression**. If the dependent variable is an integer count, it’s called **Poisson regression**.\n",
    "\n",
    "As an example of logistic regression, let’s consider a variation on the office pool scenario. Suppose a friend of yours is pregnant and you want to predict whether the baby is a boy or a girl. You could use data from the NSFG to\n",
    "find factors that affect the “sex ratio”, which is conventionally defined to be the probability of having a boy.\n",
    "\n",
    "If you encode the dependent variable numerically, for example 0 for a girl and 1 for a boy, you could apply ordinary least squares, but there would be problems. The linear model might be something like this:\n",
    "\n",
    "![alt text](notebookpics/logformula.png \"Title\")\n",
    "\n",
    "Where y is the dependent variable, and x 1 and x 2 are explanatory variables. Then we could find the parameters that minimize the residuals.\n",
    "\n",
    "The problem with this approach is that it produces predictions that are hard to interpret. Given estimated parameters and values for x 1 and x 2 , the model might predict y = 0.5, but the only meaningful values of y are 0 and 1.\n",
    "\n",
    "It is tempting to interpret a result like that as a probability; for example, we might say that a respondent with particular values of x 1 and x 2 has a 50% chance of having a boy. But it is also possible for this model to predict y = 1.1 or y = −0.1, and those are not valid probabilities.\n",
    "\n",
    "Logistic regression avoids this problem by expressing predictions in terms of odds rather than probabilities. If you are not familiar with odds, “odds in favor” of an event is the ratio of the probability it will occur to the probability that it will not.\n",
    "\n",
    "So if I think my team has a 75% chance of winning, I would say that the odds in their favor are three to one, because the chance of winning is three times the chance of losing.\n",
    "\n",
    "Odds and probabilities are different representations of the same information. Given a probability, you can compute the odds like this:"
   ]
  },
  {
   "cell_type": "code",
   "execution_count": 71,
   "metadata": {},
   "outputs": [],
   "source": [
    "p = .75"
   ]
  },
  {
   "cell_type": "code",
   "execution_count": 72,
   "metadata": {
    "scrolled": true
   },
   "outputs": [],
   "source": [
    "o = p / (1-p)"
   ]
  },
  {
   "cell_type": "markdown",
   "metadata": {},
   "source": [
    "Given odds in favor, you can convert to probability like this:"
   ]
  },
  {
   "cell_type": "code",
   "execution_count": 73,
   "metadata": {},
   "outputs": [],
   "source": [
    "p = o / (o+1)"
   ]
  },
  {
   "cell_type": "markdown",
   "metadata": {},
   "source": [
    "Logistic regression is based on the following model:\n",
    "\n",
    "![alt text](notebookpics/logformula2.png \"Title\")    \n",
    "\n",
    "Where o is the odds in favor of a particular outcome; in the example, o would be the odds of having a boy.\n",
    "\n",
    "Suppose we have estimated the parameters β 0 , β 1 , and β 2 (I’ll explain how in a minute). And suppose we are given values for x 1 and x 2 . We can compute the predicted value of log o, and then convert to a probability:"
   ]
  },
  {
   "cell_type": "code",
   "execution_count": 75,
   "metadata": {},
   "outputs": [],
   "source": [
    "o = np.exp(np.log(o))\n",
    "p = o / (o+1)"
   ]
  },
  {
   "cell_type": "markdown",
   "metadata": {},
   "source": [
    "So in the office pool scenario we could compute the predictive probability of having a boy. But how do we estimate the parameters?\n",
    "\n",
    "## 7. Estimating Parameters\n",
    "\n",
    "Unlike linear regression, logistic regression does not have a closed form solution, so it is solved by guessing an initial solution and improving it iteratively.\n",
    "\n",
    "The usual goal is to find the maximum-likelihood estimate (MLE), which is the set of parameters that maximizes the likelihood of the data. For example, suppose we have the following data:"
   ]
  },
  {
   "cell_type": "code",
   "execution_count": 76,
   "metadata": {},
   "outputs": [],
   "source": [
    "y = np.array([0, 1, 0, 1])\n",
    "x1 = np.array([0, 0, 0, 1])\n",
    "x2 = np.array([0, 1, 1, 1])"
   ]
  },
  {
   "cell_type": "markdown",
   "metadata": {},
   "source": [
    "And we start with the initial guesses β 0 = −1.5, β 1 = 2.8, and β 2 = 1.1:"
   ]
  },
  {
   "cell_type": "code",
   "execution_count": 77,
   "metadata": {},
   "outputs": [],
   "source": [
    "beta = [-1.5, 2.8, 1.1]"
   ]
  },
  {
   "cell_type": "markdown",
   "metadata": {},
   "source": [
    "Then for each row we can compute log_o:"
   ]
  },
  {
   "cell_type": "code",
   "execution_count": 78,
   "metadata": {},
   "outputs": [
    {
     "data": {
      "text/plain": [
       "array([-1.5, -0.4, -0.4,  2.4])"
      ]
     },
     "execution_count": 78,
     "metadata": {},
     "output_type": "execute_result"
    }
   ],
   "source": [
    "log_o = beta[0] + beta[1] * x1 + beta[2] * x2\n",
    "log_o"
   ]
  },
  {
   "cell_type": "markdown",
   "metadata": {},
   "source": [
    "And convert from log odds to probabilities:"
   ]
  },
  {
   "cell_type": "code",
   "execution_count": 79,
   "metadata": {},
   "outputs": [
    {
     "data": {
      "text/plain": [
       "array([ 0.22313016,  0.67032005,  0.67032005, 11.02317638])"
      ]
     },
     "execution_count": 79,
     "metadata": {},
     "output_type": "execute_result"
    }
   ],
   "source": [
    "o = np.exp(log_o)\n",
    "o"
   ]
  },
  {
   "cell_type": "code",
   "execution_count": 80,
   "metadata": {},
   "outputs": [
    {
     "data": {
      "text/plain": [
       "array([0.18242552, 0.40131234, 0.40131234, 0.9168273 ])"
      ]
     },
     "execution_count": 80,
     "metadata": {},
     "output_type": "execute_result"
    }
   ],
   "source": [
    "p = o / (o+1)\n",
    "p"
   ]
  },
  {
   "cell_type": "markdown",
   "metadata": {},
   "source": [
    "Notice that when log_o is greater than 0, o is greater than 1 and p is greater than 0.5.\n",
    "\n",
    "The likelihood of an outcome is p when y==1 and 1-p when y==0. For example, if we think the probability of a boy is 0.8 and the outcome is a boy, the likelihood is 0.8; if the outcome is a girl, the likelihood is 0.2. We can compute that like this:"
   ]
  },
  {
   "cell_type": "code",
   "execution_count": 81,
   "metadata": {},
   "outputs": [
    {
     "data": {
      "text/plain": [
       "array([0.81757448, 0.40131234, 0.59868766, 0.9168273 ])"
      ]
     },
     "execution_count": 81,
     "metadata": {},
     "output_type": "execute_result"
    }
   ],
   "source": [
    "likes = y * p + (1-y) * (1-p)\n",
    "likes"
   ]
  },
  {
   "cell_type": "markdown",
   "metadata": {},
   "source": [
    "The overall likelihood of the data is the product of likes:"
   ]
  },
  {
   "cell_type": "code",
   "execution_count": 82,
   "metadata": {},
   "outputs": [
    {
     "data": {
      "text/plain": [
       "0.1800933529673034"
      ]
     },
     "execution_count": 82,
     "metadata": {},
     "output_type": "execute_result"
    }
   ],
   "source": [
    "like = np.prod(likes)\n",
    "like"
   ]
  },
  {
   "cell_type": "markdown",
   "metadata": {},
   "source": [
    "For these values of beta, the likelihood of the data is 0.18. The goal of logistic regression is to find parameters that maximize this like-\n",
    "lihood. To do that, most statistics packages use an iterative solver like Newton’s method (see https://en.wikipedia.org/wiki/Logistic_regression#Model_fitting).\n",
    "\n",
    "## 8. Implementation\n",
    "\n",
    "StatsModels provides an implementation of logistic regression called logit, named for the function that converts from probability to log odds. To demonstrate its use, I’ll look for variables that affect the sex ratio. Again, I load the NSFG data and select pregnancies longer than 30 weeks:"
   ]
  },
  {
   "cell_type": "code",
   "execution_count": 83,
   "metadata": {},
   "outputs": [],
   "source": [
    "live, firsts, others = first.MakeFrames()\n",
    "df = live[live.prglngth>30]"
   ]
  },
  {
   "cell_type": "markdown",
   "metadata": {},
   "source": [
    "logit requires the dependent variable to be binary (rather than boolean), so I create a new column named boy, using astype(int) to convert to binary integers:"
   ]
  },
  {
   "cell_type": "code",
   "execution_count": 85,
   "metadata": {},
   "outputs": [
    {
     "name": "stderr",
     "output_type": "stream",
     "text": [
      "/home/javi/.local/lib/python3.6/site-packages/ipykernel_launcher.py:1: SettingWithCopyWarning: \n",
      "A value is trying to be set on a copy of a slice from a DataFrame.\n",
      "Try using .loc[row_indexer,col_indexer] = value instead\n",
      "\n",
      "See the caveats in the documentation: http://pandas.pydata.org/pandas-docs/stable/indexing.html#indexing-view-versus-copy\n",
      "  \"\"\"Entry point for launching an IPython kernel.\n"
     ]
    }
   ],
   "source": [
    "df['boy'] = (df.babysex==1).astype(int)"
   ]
  },
  {
   "cell_type": "markdown",
   "metadata": {},
   "source": [
    "Factors that have been found to affect sex ratio include parents’ age, birth order, race, and social status. We can use logistic regression to see if these effects appear in the NSFG data. I’ll start with the mother’s age:"
   ]
  },
  {
   "cell_type": "code",
   "execution_count": 123,
   "metadata": {},
   "outputs": [
    {
     "name": "stdout",
     "output_type": "stream",
     "text": [
      "Optimization terminated successfully.\n",
      "         Current function value: 0.693015\n",
      "         Iterations 3\n",
      "Intercept   0.00579   (0.953)\n",
      "agepreg   0.00105   (0.783)\n",
      "R^2 6.144e-06\n"
     ]
    }
   ],
   "source": [
    "import statsmodels.formula.api as smf\n",
    "\n",
    "model = smf.logit('boy ~ agepreg', data=df)\n",
    "results = model.fit()\n",
    "regression.SummarizeResults(results)"
   ]
  },
  {
   "cell_type": "markdown",
   "metadata": {},
   "source": [
    "How do you interpret this beta1 coeficient?"
   ]
  },
  {
   "cell_type": "code",
   "execution_count": 90,
   "metadata": {},
   "outputs": [],
   "source": [
    "# Answer here:\n",
    "# The beta1 coeficient is 0.001 that means that with 1 year more in agepreg the baby have e^0.001 more chances of being a boy"
   ]
  },
  {
   "cell_type": "markdown",
   "metadata": {},
   "source": [
    "logit takes the same arguments as ols, a formula in Patsy syntax and a DataFrame. The result is a Logit object that represents the model. It contains attributes called endog and exog that contain the **endogenous varible**, another name for the dependent variable, and the **exogenous variables**, another name for the explanatory variables. Since they are NumPy arrays, it is sometimes convenient to convert them to DataFrames:"
   ]
  },
  {
   "cell_type": "code",
   "execution_count": 92,
   "metadata": {},
   "outputs": [],
   "source": [
    "endog = pd.DataFrame(model.endog, columns=[model.endog_names])\n",
    "exog = pd.DataFrame(model.exog, columns=model.exog_names)"
   ]
  },
  {
   "cell_type": "markdown",
   "metadata": {},
   "source": [
    "The result of model.fit is a BinaryResults object, which is similar to the RegressionResults object we got from ols. Here is a summary of the results:"
   ]
  },
  {
   "cell_type": "code",
   "execution_count": 93,
   "metadata": {},
   "outputs": [
    {
     "name": "stdout",
     "output_type": "stream",
     "text": [
      "Optimization terminated successfully.\n",
      "         Current function value: 0.693015\n",
      "         Iterations 3\n"
     ]
    },
    {
     "data": {
      "text/plain": [
       "<statsmodels.discrete.discrete_model.BinaryResultsWrapper at 0x7f874d63feb8>"
      ]
     },
     "execution_count": 93,
     "metadata": {},
     "output_type": "execute_result"
    }
   ],
   "source": [
    "model.fit()"
   ]
  },
  {
   "cell_type": "markdown",
   "metadata": {},
   "source": [
    "The parameter of agepreg is positive, which suggests that older mothers are more likely to have boys, but the p-value is 0.783, which means that the apparent effect could easily be due to chance.\n",
    "\n",
    "The coefficient of determination, R 2 , does not apply to logistic regression, but there are several alternatives that are used as “pseudo R 2 values.” These values can be useful for comparing models. For example, here’s a model that includes several factors believed to be associated with sex ratio:"
   ]
  },
  {
   "cell_type": "code",
   "execution_count": 97,
   "metadata": {},
   "outputs": [
    {
     "name": "stdout",
     "output_type": "stream",
     "text": [
      "Optimization terminated successfully.\n",
      "         Current function value: 0.692944\n",
      "         Iterations 3\n"
     ]
    }
   ],
   "source": [
    "formula = 'boy ~ agepreg + hpagelb + birthord + C(race)'\n",
    "model = smf.logit(formula, data=df)\n",
    "results = model.fit()"
   ]
  },
  {
   "cell_type": "markdown",
   "metadata": {},
   "source": [
    "Along with mother’s age, this model includes father’s age at birth (hpagelb), birth order (birthord), and race as a categorical variable. Here are the results:"
   ]
  },
  {
   "cell_type": "code",
   "execution_count": 99,
   "metadata": {},
   "outputs": [
    {
     "name": "stdout",
     "output_type": "stream",
     "text": [
      "Intercept   -0.0301   (0.772)\n",
      "C(race)[T.2]   -0.0224   (0.66)\n",
      "C(race)[T.3]   -0.000457   (0.996)\n",
      "agepreg   -0.00267   (0.629)\n",
      "hpagelb   0.0047   (0.266)\n",
      "birthord   0.00501   (0.821)\n",
      "R^2 0.000144\n"
     ]
    }
   ],
   "source": [
    "regression.SummarizeResults(results)"
   ]
  },
  {
   "cell_type": "markdown",
   "metadata": {},
   "source": [
    "None of the estimated parameters are statistically significant. The pseudo-R 2 value is a little higher, but that could be due to chance.\n",
    "\n",
    "Fit now a model with the same variables that tries to predict whether a baby is black or white."
   ]
  },
  {
   "cell_type": "code",
   "execution_count": null,
   "metadata": {},
   "outputs": [],
   "source": [
    "# Code it here"
   ]
  },
  {
   "cell_type": "markdown",
   "metadata": {},
   "source": [
    "## 9. Accuracy\n",
    "\n",
    "In the office pool scenario, we are most interested in the accuracy of the model: the number of successful predictions, compared with what we would expect by chance.\n",
    "\n",
    "In the NSFG data, there are more boys than girls, so the baseline strategy is to guess “boy” every time. The accuracy of this strategy is just the fraction of boys:"
   ]
  },
  {
   "cell_type": "code",
   "execution_count": 131,
   "metadata": {},
   "outputs": [],
   "source": [
    "actual = df['boy'].dropna()\n",
    "baseline = actual.mean()"
   ]
  },
  {
   "cell_type": "code",
   "execution_count": 132,
   "metadata": {},
   "outputs": [
    {
     "data": {
      "text/plain": [
       "0.5079918955425484"
      ]
     },
     "execution_count": 132,
     "metadata": {},
     "output_type": "execute_result"
    }
   ],
   "source": [
    "baseline"
   ]
  },
  {
   "cell_type": "markdown",
   "metadata": {},
   "source": [
    "Since actual is encoded in binary integers, the mean is the fraction of boys, which is 0.507.\n",
    "\n",
    "Here’s how we compute the accuracy of the model:"
   ]
  },
  {
   "cell_type": "code",
   "execution_count": 133,
   "metadata": {},
   "outputs": [],
   "source": [
    "predict = (results.predict() >= 0.5)\n",
    "true_pos = predict * actual\n",
    "true_neg = (1 - predict) * (1 - actual)"
   ]
  },
  {
   "cell_type": "markdown",
   "metadata": {},
   "source": [
    "results.predict returns a NumPy array of probabilities, which we round off to 0 or 1. Multiplying by actual yields 1 if we predict a boy and get it right, 0 otherwise. So, true_pos indicates “true positives”.\n",
    "\n",
    "Similarly, true_neg indicates the cases where we guess “girl” and get it right. Accuracy is the fraction of correct guesses:"
   ]
  },
  {
   "cell_type": "code",
   "execution_count": 134,
   "metadata": {},
   "outputs": [],
   "source": [
    "acc = (sum(true_pos) + sum(true_neg)) / len(actual)"
   ]
  },
  {
   "cell_type": "code",
   "execution_count": 135,
   "metadata": {},
   "outputs": [
    {
     "data": {
      "text/plain": [
       "0.5079918955425484"
      ]
     },
     "execution_count": 135,
     "metadata": {},
     "output_type": "execute_result"
    }
   ],
   "source": [
    "acc"
   ]
  },
  {
   "cell_type": "markdown",
   "metadata": {},
   "source": [
    "The result is 0.512, slightly better than the baseline, 0.507. But, you should not take this result too seriously. We used the same data to build and test the model, so the model may not have predictive power on new data.\n",
    "\n",
    "Nevertheless, let’s use the model to make a prediction for the office pool. Suppose your friend is 35 years old and white, her husband is 39, and they are expecting their third child:"
   ]
  },
  {
   "cell_type": "code",
   "execution_count": 137,
   "metadata": {},
   "outputs": [],
   "source": [
    "columns = ['agepreg', 'hpagelb', 'birthord', 'race']\n",
    "new = pd.DataFrame([[35, 39, 3, 2]], columns=columns)\n",
    "y = results.predict(new)"
   ]
  },
  {
   "cell_type": "code",
   "execution_count": 138,
   "metadata": {},
   "outputs": [
    {
     "data": {
      "text/plain": [
       "0    0.510621\n",
       "dtype: float64"
      ]
     },
     "execution_count": 138,
     "metadata": {},
     "output_type": "execute_result"
    }
   ],
   "source": [
    "y"
   ]
  },
  {
   "cell_type": "markdown",
   "metadata": {},
   "source": [
    "To invoke results.predict for a new case, you have to construct a DataFrame with a column for each variable in the model. The result in this case is 0.52, so you should guess “boy.” But if the model improves your chances of winning, the difference is very small.\n",
    "\n",
    "What is the accuracy of your previous model fitted to predict race?"
   ]
  },
  {
   "cell_type": "code",
   "execution_count": null,
   "metadata": {},
   "outputs": [],
   "source": [
    "#Code it here"
   ]
  },
  {
   "cell_type": "markdown",
   "metadata": {},
   "source": [
    "Predict the race of your friend's child, who is 35 years old and white, her husband is 39, and they are expecting their third child that they know is a girl."
   ]
  },
  {
   "cell_type": "markdown",
   "metadata": {
    "collapsed": true
   },
   "source": [
    "## 10. Exercises"
   ]
  },
  {
   "cell_type": "markdown",
   "metadata": {
    "collapsed": true
   },
   "source": [
    "## 1)\n",
    "\n",
    "Suppose one of your co-workers is expecting a baby and you are participating in an office pool to predict the date of birth. Assuming that bets are placed during the 30th week of pregnancy, what variables could you use to make the best prediction? You should limit yourself to variables that are known before the birth, and likely to be available to the people in the pool."
   ]
  },
  {
   "cell_type": "code",
   "execution_count": null,
   "metadata": {},
   "outputs": [],
   "source": [
    "import first\n",
    "live, firsts, others = first.MakeFrames()\n",
    "live = live[live.prglngth>30]"
   ]
  },
  {
   "cell_type": "markdown",
   "metadata": {},
   "source": [
    "The following are the only variables I found that have a statistically significant effect on pregnancy length."
   ]
  },
  {
   "cell_type": "code",
   "execution_count": null,
   "metadata": {},
   "outputs": [],
   "source": [
    "import statsmodels.formula.api as smf\n",
    "model = smf.ols('prglngth ~ birthord==1 + race==2 + nbrnaliv>1', data=live)\n",
    "results = model.fit()\n",
    "results.summary()"
   ]
  },
  {
   "cell_type": "markdown",
   "metadata": {},
   "source": [
    "## 2)\n",
    "\n",
    "The Trivers-Willard hypothesis suggests that for many mammals the sex ratio depends on “maternal condition”; that is, factors like the mother’s age, size, health, and social status. See https://en.wikipedia.org/wiki/Trivers-Willard_hypothesis\n",
    "\n",
    "Some studies have shown this effect among humans, but results are mixed. In this chapter we tested some variables related to these factors, but didn’t find any with a statistically significant effect on sex ratio.\n",
    "\n",
    "As an exercise, use a data mining approach to test the other variables in the pregnancy and respondent files. Can you find any factors with a substantial effect?"
   ]
  },
  {
   "cell_type": "code",
   "execution_count": null,
   "metadata": {},
   "outputs": [],
   "source": [
    "import regression\n",
    "join = regression.JoinFemResp(live)"
   ]
  },
  {
   "cell_type": "code",
   "execution_count": null,
   "metadata": {},
   "outputs": [],
   "source": [
    "# Solution goes here"
   ]
  },
  {
   "cell_type": "code",
   "execution_count": null,
   "metadata": {},
   "outputs": [],
   "source": [
    "# Solution goes here"
   ]
  },
  {
   "cell_type": "code",
   "execution_count": null,
   "metadata": {},
   "outputs": [],
   "source": [
    "# Solution goes here"
   ]
  },
  {
   "cell_type": "markdown",
   "metadata": {},
   "source": [
    "## 3)\n",
    "If the quantity you want to predict is a count, you can use Poisson regression, which is implemented in StatsModels with a function called `poisson`. It works the same way as `ols` and `logit`. As an exercise, let’s use it to predict how many children a woman has born; in the NSFG dataset, this variable is called `numbabes`.\n",
    "\n",
    "Suppose you meet a woman who is 35 years old, black, and a college graduate whose annual household income exceeds $75,000. How many children would you predict she has born?"
   ]
  },
  {
   "cell_type": "code",
   "execution_count": null,
   "metadata": {},
   "outputs": [],
   "source": [
    "# Solution goes here"
   ]
  },
  {
   "cell_type": "code",
   "execution_count": null,
   "metadata": {},
   "outputs": [],
   "source": [
    "# Solution goes here"
   ]
  },
  {
   "cell_type": "markdown",
   "metadata": {},
   "source": [
    "Now we can predict the number of children for a woman who is 35 years old, black, and a college\n",
    "graduate whose annual household income exceeds $75,000"
   ]
  },
  {
   "cell_type": "code",
   "execution_count": null,
   "metadata": {},
   "outputs": [],
   "source": [
    "# Solution goes here"
   ]
  },
  {
   "cell_type": "markdown",
   "metadata": {},
   "source": [
    "## 4)\n",
    "If the quantity you want to predict is categorical, you can use multinomial logistic regression, which is implemented in StatsModels with a function called `mnlogit`. As an exercise, let’s use it to guess whether a woman is married, cohabitating, widowed, divorced, separated, or never married; in the NSFG dataset, marital status is encoded in a variable called `rmarital`.\n",
    "\n",
    "Suppose you meet a woman who is 25 years old, white, and a high school graduate whose annual household income is about $45,000. What is the probability that she is married, cohabitating, etc?"
   ]
  },
  {
   "cell_type": "code",
   "execution_count": null,
   "metadata": {},
   "outputs": [],
   "source": [
    "# Solution goes here"
   ]
  },
  {
   "cell_type": "markdown",
   "metadata": {},
   "source": [
    "Make a prediction for a woman who is 25 years old, white, and a high\n",
    "school graduate whose annual household income is about $45,000."
   ]
  },
  {
   "cell_type": "code",
   "execution_count": null,
   "metadata": {},
   "outputs": [],
   "source": [
    "# Solution goes here"
   ]
  },
  {
   "cell_type": "markdown",
   "metadata": {},
   "source": []
  },
  {
   "cell_type": "code",
   "execution_count": null,
   "metadata": {},
   "outputs": [],
   "source": []
  },
  {
   "cell_type": "code",
   "execution_count": null,
   "metadata": {},
   "outputs": [],
   "source": []
  }
 ],
 "metadata": {
  "kernelspec": {
   "display_name": "Python 3",
   "language": "python",
   "name": "python3"
  },
  "language_info": {
   "codemirror_mode": {
    "name": "ipython",
    "version": 3
   },
   "file_extension": ".py",
   "mimetype": "text/x-python",
   "name": "python",
   "nbconvert_exporter": "python",
   "pygments_lexer": "ipython3",
   "version": "3.6.7"
  }
 },
 "nbformat": 4,
 "nbformat_minor": 2
}
